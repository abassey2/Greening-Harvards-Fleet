{
  "cells": [
    {
      "cell_type": "code",
      "metadata": {
        "tags": [],
        "cell_id": "00001-251542a1-790f-49b4-bc5e-82c2eae63c2a",
        "deepnote_to_be_reexecuted": false,
        "source_hash": "f0aee4ac",
        "execution_millis": 4189,
        "execution_start": 1617669174915,
        "deepnote_cell_type": "code"
      },
      "source": "pip install singularity-energy",
      "execution_count": null,
      "outputs": [
        {
          "name": "stdout",
          "text": "Requirement already satisfied: singularity-energy in /usr/local/lib/python3.7/site-packages (0.0.8)\nRequirement already satisfied: requests<3.0.0,>=2.0.0 in /shared-libs/python3.7/py/lib/python3.7/site-packages (from singularity-energy) (2.25.1)\nRequirement already satisfied: chardet<5,>=3.0.2 in /shared-libs/python3.7/py/lib/python3.7/site-packages (from requests<3.0.0,>=2.0.0->singularity-energy) (3.0.4)\nRequirement already satisfied: certifi>=2017.4.17 in /shared-libs/python3.7/py/lib/python3.7/site-packages (from requests<3.0.0,>=2.0.0->singularity-energy) (2020.12.5)\nRequirement already satisfied: urllib3<1.27,>=1.21.1 in /shared-libs/python3.7/py/lib/python3.7/site-packages (from requests<3.0.0,>=2.0.0->singularity-energy) (1.26.4)\nRequirement already satisfied: idna<3,>=2.5 in /shared-libs/python3.7/py/lib/python3.7/site-packages (from requests<3.0.0,>=2.0.0->singularity-energy) (2.10)\n\u001b[33mWARNING: You are using pip version 20.1.1; however, version 21.0.1 is available.\nYou should consider upgrading via the '/usr/local/bin/python -m pip install --upgrade pip' command.\u001b[0m\nNote: you may need to restart the kernel to use updated packages.\n",
          "output_type": "stream"
        }
      ]
    },
    {
      "cell_type": "code",
      "metadata": {
        "tags": [],
        "cell_id": "00001-dd8a5eec-e6f6-4e30-a5c0-3667df73aae4",
        "deepnote_to_be_reexecuted": false,
        "source_hash": "ea22c22c",
        "execution_millis": 3460,
        "execution_start": 1617669179100,
        "deepnote_cell_type": "code"
      },
      "source": "!pip install openpyxl",
      "execution_count": null,
      "outputs": [
        {
          "name": "stdout",
          "text": "Requirement already satisfied: openpyxl in /root/venv/lib/python3.7/site-packages (3.0.7)\nRequirement already satisfied: et-xmlfile in /root/venv/lib/python3.7/site-packages (from openpyxl) (1.0.1)\n\u001b[33mWARNING: You are using pip version 20.1.1; however, version 21.0.1 is available.\nYou should consider upgrading via the '/root/venv/bin/python -m pip install --upgrade pip' command.\u001b[0m\n",
          "output_type": "stream"
        }
      ]
    },
    {
      "cell_type": "code",
      "metadata": {
        "tags": [],
        "cell_id": "00001-e89da418-0efb-4c59-bb3a-15fdb145e038",
        "deepnote_to_be_reexecuted": false,
        "source_hash": "9bd425be",
        "execution_millis": 905,
        "execution_start": 1617669507046,
        "deepnote_cell_type": "code"
      },
      "source": "import pandas as pd\nimport json\nimport openpyxl\nimport plotly.graph_objects as go\nimport matplotlib.pyplot as plt ",
      "execution_count": null,
      "outputs": []
    },
    {
      "cell_type": "code",
      "metadata": {
        "tags": [],
        "cell_id": "00003-6aa67bb4-1a32-4c9a-9b91-644f56fd8c65",
        "deepnote_to_be_reexecuted": false,
        "source_hash": "8afa8b3e",
        "execution_millis": 1,
        "execution_start": 1617669182762,
        "deepnote_cell_type": "code"
      },
      "source": "monochrome_colors = ['#251616', '#760000', '#C63F3F', '#E28073', '#F1D3CF']\nprimary_colors = ['#C63F3F', '#F4B436', '#83BFCC', '#455574', '#E2DDDB']",
      "execution_count": null,
      "outputs": []
    },
    {
      "cell_type": "code",
      "metadata": {
        "tags": [],
        "cell_id": "00004-88fbf318-ddd8-49a0-a701-3a5e6762c08e",
        "deepnote_to_be_reexecuted": false,
        "source_hash": "e59fa52a",
        "execution_millis": 322,
        "execution_start": 1617669182768,
        "deepnote_cell_type": "code"
      },
      "source": "# template\ntheme_hodp = go.layout.Template(\n    layout=go.Layout(\n        title = {'font':{'size':24, 'family':\"Helvetica\", 'color':monochrome_colors[0]}, 'pad':{'t':100, 'r':0, 'b':0, 'l':0}},\n        font = {'size':18, 'family':'Helvetica', 'color':'#717171'},\n        xaxis = {'ticks': \"outside\",\n                'tickfont': {'size': 14, 'family':\"Helvetica\"},\n                'showticksuffix': 'all',\n                'showtickprefix': 'last',\n                'showline': True,\n                'title':{'font':{'size':18, 'family':'Helvetica'}, 'standoff':20},\n                'automargin': True\n                },\n        yaxis = {'ticks': \"outside\",\n                'tickfont': {'size': 14, 'family':\"Helvetica\"},\n                'showticksuffix': 'all',\n                'showtickprefix': 'last',\n                'title':{'font':{'size':18, 'family':'Helvetica'}, 'standoff':20},\n                'showline': True,\n                'automargin': True\n                },\n        legend = {'bgcolor':'rgba(0,0,0,0)', \n                'title':{'font':{'size':18, 'family':\"Helvetica\", 'color':monochrome_colors[0]}}, \n                'font':{'size':14, 'family':\"Helvetica\"}, \n                'yanchor':'bottom'\n                },\n        colorscale = {'diverging':monochrome_colors},\n        coloraxis = {'autocolorscale':True, \n                'cauto':True, \n                'colorbar':{'tickfont':{'size':14,'family':'Helvetica'}, 'title':{'font':{'size':18, 'family':'Helvetica'}}},\n                }\n    )\n)",
      "execution_count": null,
      "outputs": []
    },
    {
      "cell_type": "code",
      "metadata": {
        "tags": [],
        "cell_id": "00002-d1c36635-7b6e-4df7-9af5-d6a12aad4e6b",
        "deepnote_to_be_reexecuted": false,
        "source_hash": "3e56c37e",
        "execution_millis": 257,
        "execution_start": 1617669183094,
        "deepnote_cell_type": "code"
      },
      "source": "# Use API to gather carbon intensity \n# API Key 506eec2174a444dea0b8bd73af4f119b\n\nfrom datetime import datetime, timedelta\nfrom singularity import SingularityAPI, Regions, APIException\n\nsingularity = SingularityAPI('506eec2174a444dea0b8bd73af4f119b')\n\nend = datetime.utcnow()\nstart = end - timedelta(hours=24) # looks at last 24 hours\nevents = singularity.search_region_events(\n  Regions.ISONE,\n  'carbon_intensity',\n  start.isoformat() + 'Z', # python function\n  end.isoformat() + 'Z'\n)\n\n# carbon intensity of the grid -- at times of charging, what is the emission of electric vehicles? \n# need: times of charging (approx) + amount of charging \n# current (fuel vehicles) - new emissions\n\n## Action Items\n# carbon intensity at different times\n# what is generated rate // how to view list ",
      "execution_count": null,
      "outputs": []
    },
    {
      "cell_type": "code",
      "metadata": {
        "tags": [],
        "cell_id": "00003-613c938e-fff7-455e-87bd-717c5d4e4ee0",
        "deepnote_to_be_reexecuted": false,
        "source_hash": "ba4c81d6",
        "execution_millis": 1,
        "execution_start": 1617669183357,
        "deepnote_cell_type": "code"
      },
      "source": "# How to get data from the last year \n\n# Do one gigantic query for the last year store it as a file (.npy, .txt, *.json*) <--- on deepnote\n\n# Download it locally just in case <-- right click, download file, store on computer as a backup",
      "execution_count": null,
      "outputs": []
    },
    {
      "cell_type": "code",
      "metadata": {
        "tags": [],
        "cell_id": "00004-2e716edd-8e19-4e67-a356-6334295ba826",
        "deepnote_to_be_reexecuted": false,
        "source_hash": "22982b43",
        "execution_millis": 8,
        "execution_start": 1617669183359,
        "deepnote_cell_type": "code"
      },
      "source": "# Generated rate, marginal rate, start date\ndata = [] # Eventually be a list of dicts\n\n# First figure out what timeframe you want \n# Iterate through event in events and create a new list with events in timeframe\nfor event in events: # each list item is the relevant data for that event\n    event_data = {\n        'start_date': event[\"start_date\"],\n        'generated_rate': event[\"data\"][\"generated_rate\"],\n        'marginal_rate': event[\"data\"][\"marginal_rate\"]\n    }\n    data.append(event_data)\n\n#want to create json file and export\nwith open('data.txt', 'w') as outfile:\n    json.dump(data, outfile)",
      "execution_count": null,
      "outputs": []
    },
    {
      "cell_type": "code",
      "metadata": {
        "tags": [],
        "cell_id": "00005-902c30a6-537f-452b-890b-d91aa1dbfdf9",
        "deepnote_to_be_reexecuted": false,
        "source_hash": "f7b78f4a",
        "execution_millis": 7,
        "execution_start": 1617669183370,
        "deepnote_cell_type": "code"
      },
      "source": "# select generated rates for all events (all dictionary values with key )\ngenerated = []\n\nfor i in range(len(data)):\n    d = data[i]\n    event = list(d.values()) # d.values() outputs list but not in list format, so we use list()\n    generated.append(event[1])\n\nprint(generated)\n\n# select based on charging times ",
      "execution_count": null,
      "outputs": [
        {
          "name": "stdout",
          "text": "[548.3970069497799, 391.13172637339505, 390.9192931628173, 546.9187193807777, 547.6224497624404, 391.4876585909576, 391.48453699020706, 547.61932816169, 547.6224497624404, 391.4876585909576, 391.48453699020706, 547.61932816169, 547.6224497624404, 391.4876585909576, 391.48453699020706, 547.61932816169, 547.6224497624404, 391.4876585909576, 391.48453699020706, 547.61932816169, 546.0230035827427, 387.3938447270831, 387.39075104826264, 546.0199099039224, 546.0230035827427, 387.3938447270831, 387.39075104826264, 546.0199099039224, 546.0230035827427, 387.3938447270831, 387.39075104826264, 546.0199099039224, 550.0643583303764, 387.8147811642397, 387.8119052257505, 550.0614823918871, 550.0643583303764, 387.8147811642397, 387.8119052257505, 550.0614823918871, 537.4586859341373, 372.151326118882, 372.14848375535837, 537.4558435706135, 546.1774195937286, 374.2352429240007, 373.70840496060134, 542.47886122034, 546.1774195937286, 374.2352429240007, 373.70840496060134, 542.47886122034, 546.1774195937286, 374.2352429240007, 373.70840496060134, 542.47886122034, 540.9646133777374, 370.21937594318143, 370.2166835003858, 540.9619209349418, 540.9646133777374, 370.21937594318143, 370.2166835003858, 540.9619209349418, 540.9646133777374, 370.21937594318143, 370.2166835003858, 540.9619209349418, 540.9646133777374, 370.21937594318143, 370.2166835003858, 540.9619209349418, 533.4268186289024, 359.3421076715055, 359.3394625462119, 533.4241735036088, 533.4268186289024, 359.3421076715055, 359.3394625462119, 533.4241735036088, 523.3528864472983, 348.00056321917384, 347.99778338284324, 523.3501066109676, 523.3528864472983, 348.00056321917384, 347.99778338284324, 523.3501066109676, 537.4973348750268, 359.2535775094618, 359.251265441831, 537.4950228073959, 537.4973348750268, 359.2535775094618, 359.251265441831, 537.4950228073959, 529.7424421262435, 349.83632032041055, 349.8339653938883, 529.7400871997213, 529.7424421262435, 349.83632032041055, 349.8339653938883, 529.7400871997213, 529.1184099745456, 348.17270638372855, 348.17033867495127, 529.1160422657684, 529.1184099745456, 348.17270638372855, 348.17033867495127, 529.1160422657684, 529.5697839399187, 349.36403132089316, 349.2972925558743, 529.1135207082365, 529.5697839399187, 349.36403132089316, 349.2972925558743, 529.1135207082365, 530.4323532207464, 347.8465995244338, 347.8443400798072, 530.4300937761197, 534.1718655444087, 352.2273385698917, 352.2250981378102, 534.1696251123271, 534.1718655444087, 352.2273385698917, 352.2250981378102, 534.1696251123271, 538.9401456624921, 349.85427493847254, 348.8773295370772, 532.0660378307842, 539.2841846360554, 356.8672999838983, 356.8651018328741, 539.2819864850311, 539.2841846360554, 356.8672999838983, 356.8651018328741, 539.2819864850311, 539.2841846360554, 356.8672999838983, 356.8651018328741, 539.2819864850311, 533.1961714526017, 350.8341191870031, 350.6374285482148, 531.8227819758818, 533.1961714526017, 350.8341191870031, 350.6374285482148, 531.8227819758818, 533.1961714526017, 350.8341191870031, 350.6374285482148, 531.8227819758818, 534.6726496532584, 350.80118051416923, 350.79896857054945, 534.6704377096387, 534.6726496532584, 350.80118051416923, 350.79896857054945, 534.6704377096387, 544.5002735746701, 359.4224423737339, 359.4204310295276, 544.498262230464, 544.5002735746701, 359.4224423737339, 359.4204310295276, 544.498262230464, 542.4027848284466, 357.3265200870852, 357.2591059486352, 541.9396987130457, 542.4027848284466, 357.3265200870852, 357.2591059486352, 541.9396987130457, 538.4607968481071, 349.9296604921545, 349.5957364441005, 536.1189361063907, 538.4607968481071, 349.9296604921545, 349.5957364441005, 536.1189361063907, 538.4607968481071, 349.9296604921545, 349.5957364441005, 536.1189361063907, 530.0748994506027, 347.06909013158133, 346.9344070635022, 529.1377082400606, 530.0748994506027, 347.06909013158133, 346.9344070635022, 529.1377082400606, 530.0748994506027, 347.06909013158133, 346.9344070635022, 529.1377082400606, 534.10076165856, 344.69739519902726, 343.75446363981496, 527.4653633439751, 534.10076165856, 344.69739519902726, 343.75446363981496, 527.4653633439751, 534.4237981976099, 344.69250926740216, 343.61916540537555, 526.868916399809, 534.4237981976099, 344.69250926740216, 343.61916540537555, 526.868916399809, 534.4237981976099, 344.69250926740216, 343.61916540537555, 526.868916399809, 534.4237981976099, 344.69250926740216, 343.61916540537555, 526.868916399809, 534.4237981976099, 344.69250926740216, 343.61916540537555, 526.868916399809, 534.5622931145987, 347.33383910159665, 346.5273569877466, 528.8888323200958, 534.5622931145987, 347.33383910159665, 346.5273569877466, 528.8888323200958, 528.5646720460609, 335.30187832734055, 333.9976950411735, 519.3826272229701, 528.5646720460609, 335.30187832734055, 333.9976950411735, 519.3826272229701, 528.5646720460609, 335.30187832734055, 333.9976950411735, 519.3826272229701, 523.6915623238717, 336.1948397872379, 335.7800339056404, 520.779834206319, 526.9628983456348, 339.86573314880917, 339.8636351545991, 526.9608003514247, 526.9628983456348, 339.86573314880917, 339.8636351545991, 526.9608003514247, 537.8573915453175, 342.1821860009186, 340.26709782586704, 524.3682698402897, 537.8573915453175, 342.1821860009186, 340.26709782586704, 524.3682698402897, 537.8573915453175, 342.1821860009186, 340.26709782586704, 524.3682698402897, 535.5403547674855, 351.4685263825235, 351.46648074323883, 535.5383091282009, 535.5403547674855, 351.4685263825235, 351.46648074323883, 535.5383091282009, 535.5403547674855, 351.4685263825235, 351.46648074323883, 535.5383091282009, 533.1794906998555, 348.01618775917115, 348.014111422182, 533.1774143628662, 533.1794906998555, 348.01618775917115, 348.014111422182, 533.1774143628662]\n",
          "output_type": "stream"
        }
      ]
    },
    {
      "cell_type": "code",
      "metadata": {
        "tags": [],
        "cell_id": "00002-2a588474-9b35-4eba-9fcd-d3bedb6786f6",
        "deepnote_to_be_reexecuted": false,
        "source_hash": "aea30e02",
        "execution_millis": 342,
        "execution_start": 1617669183392,
        "deepnote_cell_type": "code"
      },
      "source": "# Iterate through json file to get the generated_rate, marginal_rate, and start_date\n# for event in events --> each will be json object \n# json.loads(event) --> Puts into python dictionary\n\nevent_dict = {}\nfor event in events:\n    event_items = event.values()\n    for data in event_items:\n        print(data)\n        if data is dict:\n            event_dict = json.loads(data)\n\n\nprint(event_dict)\n\n# for event in event_dict:\n\n    ",
      "execution_count": null,
      "outputs": [
        {
          "name": "stdout",
          "text": "ISONE\n2021-04-05T03:20:00+00:00\n{'generated_rate': 348.8773295370772, 'marginal_rate': 431.84938205402585}\nISONE:carbon_intensity:EGRID_2018:2021-04-05T03:20:00+00:00\ncarbon_intensity\n{'generated_emissions_source': 'EGRID_2018', 'inserted_at': '2021-04-05T03:25:25.343192Z', 'marginal_emissions_source': 'EGRID_2018', 'marginal_source': 'ISONE:marginal_fuel_mix:2021-04-05T03:20:00+00:00', 'raw_start_date': '2021-04-04T23:18:28-04:00', 'source': 'generated_fuel_mix:ISONE:2021-04-05T03:20:00+00:00', 'unit': 'lbs/MWh'}\nISONE\n2021-04-05T03:20:00+00:00\n{'generated_rate': 532.0660378307842, 'marginal_rate': 466.1549974123956}\nISONE:carbon_intensity:2021-04-05T03:20:00+00:00\ncarbon_intensity\n{'generated_emissions_source': 'EGRID_u2018', 'inserted_at': '2021-04-05T03:25:25.336980Z', 'marginal_emissions_source': 'EGRID_u2018', 'marginal_source': 'ISONE:marginal_fuel_mix:2021-04-05T03:20:00+00:00', 'raw_start_date': '2021-04-04T23:18:28-04:00', 'source': 'generated_fuel_mix:ISONE:2021-04-05T03:20:00+00:00', 'unit': 'lbs/MWh'}\nISONE\n2021-04-05T03:20:00+00:00\n{'generated_rate': 539.2841846360554, 'marginal_rate': 466.1549974123956}\nISONE:carbon_intensity:EGRID_u2018_eq:2021-04-05T03:25:00+00:00\ncarbon_intensity\n{'generated_emissions_source': 'EGRID_u2018_eq', 'inserted_at': '2021-04-05T03:36:23.668769Z', 'marginal_emissions_source': 'EGRID_u2018_eq', 'marginal_source': 'ISONE:marginal_fuel_mix:2021-04-05T03:25:00+00:00', 'raw_start_date': '2021-04-04T23:23:07-04:00', 'source': 'generated_fuel_mix:ISONE:2021-04-05T03:25:00+00:00', 'unit': 'lbs/MWh'}\nISONE\n2021-04-05T03:25:00+00:00\n{'generated_rate': 356.8672999838983, 'marginal_rate': 431.84938205402585}\nISONE:carbon_intensity:EGRID_2018_eq:2021-04-05T03:25:00+00:00\ncarbon_intensity\n{'generated_emissions_source': 'EGRID_2018_eq', 'inserted_at': '2021-04-05T03:36:23.812108Z', 'marginal_emissions_source': 'EGRID_2018_eq', 'marginal_source': 'ISONE:marginal_fuel_mix:2021-04-05T03:25:00+00:00', 'raw_start_date': '2021-04-04T23:23:07-04:00', 'source': 'generated_fuel_mix:ISONE:2021-04-05T03:25:00+00:00', 'unit': 'lbs/MWh'}\nISONE\n2021-04-05T03:25:00+00:00\n{'generated_rate': 356.8651018328741, 'marginal_rate': 431.84938205402585}\nISONE:carbon_intensity:EGRID_2018:2021-04-05T03:25:00+00:00\ncarbon_intensity\n{'generated_emissions_source': 'EGRID_2018', 'inserted_at': '2021-04-05T03:36:23.663345Z', 'marginal_emissions_source': 'EGRID_2018', 'marginal_source': 'ISONE:marginal_fuel_mix:2021-04-05T03:25:00+00:00', 'raw_start_date': '2021-04-04T23:23:07-04:00', 'source': 'generated_fuel_mix:ISONE:2021-04-05T03:25:00+00:00', 'unit': 'lbs/MWh'}\nISONE\n2021-04-05T03:25:00+00:00\n{'generated_rate': 539.2819864850311, 'marginal_rate': 466.1549974123956}\nISONE:carbon_intensity:2021-04-05T03:25:00+00:00\ncarbon_intensity\n{'generated_emissions_source': 'EGRID_u2018', 'inserted_at': '2021-04-05T03:36:23.644538Z', 'marginal_emissions_source': 'EGRID_u2018', 'marginal_source': 'ISONE:marginal_fuel_mix:2021-04-05T03:25:00+00:00', 'raw_start_date': '2021-04-04T23:23:07-04:00', 'source': 'generated_fuel_mix:ISONE:2021-04-05T03:25:00+00:00', 'unit': 'lbs/MWh'}\nISONE\n2021-04-05T03:25:00+00:00\n{'generated_rate': 539.2841846360554, 'marginal_rate': 466.1549974123956}\nISONE:carbon_intensity:EGRID_u2018_eq:2021-04-05T03:30:00+00:00\ncarbon_intensity\n{'generated_emissions_source': 'EGRID_u2018_eq', 'inserted_at': '2021-04-05T03:36:23.808557Z', 'marginal_emissions_source': 'EGRID_u2018_eq', 'marginal_source': 'ISONE:marginal_fuel_mix:2021-04-05T03:30:00+00:00', 'raw_start_date': '2021-04-04T23:23:07-04:00', 'source': 'generated_fuel_mix:ISONE:2021-04-05T03:30:00+00:00', 'unit': 'lbs/MWh'}\nISONE\n2021-04-05T03:30:00+00:00\n{'generated_rate': 356.8672999838983, 'marginal_rate': 431.84938205402585}\nISONE:carbon_intensity:EGRID_2018_eq:2021-04-05T03:30:00+00:00\ncarbon_intensity\n{'generated_emissions_source': 'EGRID_2018_eq', 'inserted_at': '2021-04-05T03:36:23.806810Z', 'marginal_emissions_source': 'EGRID_2018_eq', 'marginal_source': 'ISONE:marginal_fuel_mix:2021-04-05T03:30:00+00:00', 'raw_start_date': '2021-04-04T23:23:07-04:00', 'source': 'generated_fuel_mix:ISONE:2021-04-05T03:30:00+00:00', 'unit': 'lbs/MWh'}\nISONE\n2021-04-05T03:30:00+00:00\n{'generated_rate': 356.8651018328741, 'marginal_rate': 431.84938205402585}\nISONE:carbon_intensity:EGRID_2018:2021-04-05T03:30:00+00:00\ncarbon_intensity\n{'generated_emissions_source': 'EGRID_2018', 'inserted_at': '2021-04-05T03:36:23.767226Z', 'marginal_emissions_source': 'EGRID_2018', 'marginal_source': 'ISONE:marginal_fuel_mix:2021-04-05T03:30:00+00:00', 'raw_start_date': '2021-04-04T23:23:07-04:00', 'source': 'generated_fuel_mix:ISONE:2021-04-05T03:30:00+00:00', 'unit': 'lbs/MWh'}\nISONE\n2021-04-05T03:30:00+00:00\n{'generated_rate': 539.2819864850311, 'marginal_rate': 466.1549974123956}\nISONE:carbon_intensity:2021-04-05T03:30:00+00:00\ncarbon_intensity\n{'generated_emissions_source': 'EGRID_u2018', 'inserted_at': '2021-04-05T03:36:23.762035Z', 'marginal_emissions_source': 'EGRID_u2018', 'marginal_source': 'ISONE:marginal_fuel_mix:2021-04-05T03:30:00+00:00', 'raw_start_date': '2021-04-04T23:23:07-04:00', 'source': 'generated_fuel_mix:ISONE:2021-04-05T03:30:00+00:00', 'unit': 'lbs/MWh'}\nISONE\n2021-04-05T03:30:00+00:00\n{'generated_rate': 539.2841846360554, 'marginal_rate': 466.1549974123956}\nISONE:carbon_intensity:EGRID_u2018_eq:2021-04-05T03:35:00+00:00\ncarbon_intensity\n{'generated_emissions_source': 'EGRID_u2018_eq', 'inserted_at': '2021-04-05T03:36:23.242110Z', 'marginal_emissions_source': 'EGRID_u2018_eq', 'marginal_source': 'ISONE:marginal_fuel_mix:2021-04-05T03:35:00+00:00', 'raw_start_date': '2021-04-04T23:23:07-04:00', 'source': 'generated_fuel_mix:ISONE:2021-04-05T03:35:00+00:00', 'unit': 'lbs/MWh'}\nISONE\n2021-04-05T03:35:00+00:00\n{'generated_rate': 356.8672999838983, 'marginal_rate': 431.84938205402585}\nISONE:carbon_intensity:EGRID_2018_eq:2021-04-05T03:35:00+00:00\ncarbon_intensity\n{'generated_emissions_source': 'EGRID_2018_eq', 'inserted_at': '2021-04-05T03:36:23.264026Z', 'marginal_emissions_source': 'EGRID_2018_eq', 'marginal_source': 'ISONE:marginal_fuel_mix:2021-04-05T03:35:00+00:00', 'raw_start_date': '2021-04-04T23:23:07-04:00', 'source': 'generated_fuel_mix:ISONE:2021-04-05T03:35:00+00:00', 'unit': 'lbs/MWh'}\nISONE\n2021-04-05T03:35:00+00:00\n{'generated_rate': 356.8651018328741, 'marginal_rate': 431.84938205402585}\nISONE:carbon_intensity:EGRID_2018:2021-04-05T03:35:00+00:00\ncarbon_intensity\n{'generated_emissions_source': 'EGRID_2018', 'inserted_at': '2021-04-05T03:36:23.193700Z', 'marginal_emissions_source': 'EGRID_2018', 'marginal_source': 'ISONE:marginal_fuel_mix:2021-04-05T03:35:00+00:00', 'raw_start_date': '2021-04-04T23:23:07-04:00', 'source': 'generated_fuel_mix:ISONE:2021-04-05T03:35:00+00:00', 'unit': 'lbs/MWh'}\nISONE\n2021-04-05T03:35:00+00:00\n{'generated_rate': 539.2819864850311, 'marginal_rate': 466.1549974123956}\nISONE:carbon_intensity:2021-04-05T03:35:00+00:00\ncarbon_intensity\n{'generated_emissions_source': 'EGRID_u2018', 'inserted_at': '2021-04-05T03:36:23.262356Z', 'marginal_emissions_source': 'EGRID_u2018', 'marginal_source': 'ISONE:marginal_fuel_mix:2021-04-05T03:35:00+00:00', 'raw_start_date': '2021-04-04T23:23:07-04:00', 'source': 'generated_fuel_mix:ISONE:2021-04-05T03:35:00+00:00', 'unit': 'lbs/MWh'}\nISONE\n2021-04-05T03:35:00+00:00\n{'generated_rate': 533.1961714526017, 'marginal_rate': 466.1549974123956}\nISONE:carbon_intensity:EGRID_u2018_eq:2021-04-05T03:40:00+00:00\ncarbon_intensity\n{'generated_emissions_source': 'EGRID_u2018_eq', 'inserted_at': '2021-04-05T03:52:26.977988Z', 'marginal_emissions_source': 'EGRID_u2018_eq', 'marginal_source': 'ISONE:marginal_fuel_mix:2021-04-05T03:40:00+00:00', 'raw_start_date': '2021-04-04T23:35:19-04:00', 'source': 'generated_fuel_mix:ISONE:2021-04-05T03:40:00+00:00', 'unit': 'lbs/MWh'}\nISONE\n2021-04-05T03:40:00+00:00\n{'generated_rate': 350.8341191870031, 'marginal_rate': 431.84938205402585}\nISONE:carbon_intensity:EGRID_2018_eq:2021-04-05T03:40:00+00:00\ncarbon_intensity\n{'generated_emissions_source': 'EGRID_2018_eq', 'inserted_at': '2021-04-05T03:52:26.968981Z', 'marginal_emissions_source': 'EGRID_2018_eq', 'marginal_source': 'ISONE:marginal_fuel_mix:2021-04-05T03:40:00+00:00', 'raw_start_date': '2021-04-04T23:35:19-04:00', 'source': 'generated_fuel_mix:ISONE:2021-04-05T03:40:00+00:00', 'unit': 'lbs/MWh'}\nISONE\n2021-04-05T03:40:00+00:00\n{'generated_rate': 350.6374285482148, 'marginal_rate': 431.84938205402585}\nISONE:carbon_intensity:EGRID_2018:2021-04-05T03:40:00+00:00\ncarbon_intensity\n{'generated_emissions_source': 'EGRID_2018', 'inserted_at': '2021-04-05T03:52:26.952536Z', 'marginal_emissions_source': 'EGRID_2018', 'marginal_source': 'ISONE:marginal_fuel_mix:2021-04-05T03:40:00+00:00', 'raw_start_date': '2021-04-04T23:35:19-04:00', 'source': 'generated_fuel_mix:ISONE:2021-04-05T03:40:00+00:00', 'unit': 'lbs/MWh'}\nISONE\n2021-04-05T03:40:00+00:00\n{'generated_rate': 531.8227819758818, 'marginal_rate': 466.1549974123956}\nISONE:carbon_intensity:2021-04-05T03:40:00+00:00\ncarbon_intensity\n{'generated_emissions_source': 'EGRID_u2018', 'inserted_at': '2021-04-05T03:52:26.965544Z', 'marginal_emissions_source': 'EGRID_u2018', 'marginal_source': 'ISONE:marginal_fuel_mix:2021-04-05T03:40:00+00:00', 'raw_start_date': '2021-04-04T23:35:19-04:00', 'source': 'generated_fuel_mix:ISONE:2021-04-05T03:40:00+00:00', 'unit': 'lbs/MWh'}\nISONE\n2021-04-05T03:40:00+00:00\n{'generated_rate': 533.1961714526017, 'marginal_rate': 466.1549974123956}\nISONE:carbon_intensity:EGRID_u2018_eq:2021-04-05T03:45:00+00:00\ncarbon_intensity\n{'generated_emissions_source': 'EGRID_u2018_eq', 'inserted_at': '2021-04-05T03:52:24.617118Z', 'marginal_emissions_source': 'EGRID_u2018_eq', 'marginal_source': 'ISONE:marginal_fuel_mix:2021-04-05T03:45:00+00:00', 'raw_start_date': '2021-04-04T23:35:19-04:00', 'source': 'generated_fuel_mix:ISONE:2021-04-05T03:45:00+00:00', 'unit': 'lbs/MWh'}\nISONE\n2021-04-05T03:45:00+00:00\n{'generated_rate': 350.8341191870031, 'marginal_rate': 431.84938205402585}\nISONE:carbon_intensity:EGRID_2018_eq:2021-04-05T03:45:00+00:00\ncarbon_intensity\n{'generated_emissions_source': 'EGRID_2018_eq', 'inserted_at': '2021-04-05T03:52:24.517608Z', 'marginal_emissions_source': 'EGRID_2018_eq', 'marginal_source': 'ISONE:marginal_fuel_mix:2021-04-05T03:45:00+00:00', 'raw_start_date': '2021-04-04T23:35:19-04:00', 'source': 'generated_fuel_mix:ISONE:2021-04-05T03:45:00+00:00', 'unit': 'lbs/MWh'}\nISONE\n2021-04-05T03:45:00+00:00\n{'generated_rate': 350.6374285482148, 'marginal_rate': 431.84938205402585}\nISONE:carbon_intensity:EGRID_2018:2021-04-05T03:45:00+00:00\ncarbon_intensity\n{'generated_emissions_source': 'EGRID_2018', 'inserted_at': '2021-04-05T03:52:24.488713Z', 'marginal_emissions_source': 'EGRID_2018', 'marginal_source': 'ISONE:marginal_fuel_mix:2021-04-05T03:45:00+00:00', 'raw_start_date': '2021-04-04T23:35:19-04:00', 'source': 'generated_fuel_mix:ISONE:2021-04-05T03:45:00+00:00', 'unit': 'lbs/MWh'}\nISONE\n2021-04-05T03:45:00+00:00\n{'generated_rate': 531.8227819758818, 'marginal_rate': 466.1549974123956}\nISONE:carbon_intensity:2021-04-05T03:45:00+00:00\ncarbon_intensity\n{'generated_emissions_source': 'EGRID_u2018', 'inserted_at': '2021-04-05T03:52:24.518573Z', 'marginal_emissions_source': 'EGRID_u2018', 'marginal_source': 'ISONE:marginal_fuel_mix:2021-04-05T03:45:00+00:00', 'raw_start_date': '2021-04-04T23:35:19-04:00', 'source': 'generated_fuel_mix:ISONE:2021-04-05T03:45:00+00:00', 'unit': 'lbs/MWh'}\nISONE\n2021-04-05T03:45:00+00:00\n{'generated_rate': 533.1961714526017, 'marginal_rate': 466.1549974123956}\nISONE:carbon_intensity:EGRID_u2018_eq:2021-04-05T03:50:00+00:00\ncarbon_intensity\n{'generated_emissions_source': 'EGRID_u2018_eq', 'inserted_at': '2021-04-05T03:52:28.512413Z', 'marginal_emissions_source': 'EGRID_u2018_eq', 'marginal_source': 'ISONE:marginal_fuel_mix:2021-04-05T03:50:00+00:00', 'raw_start_date': '2021-04-04T23:35:19-04:00', 'source': 'generated_fuel_mix:ISONE:2021-04-05T03:50:00+00:00', 'unit': 'lbs/MWh'}\nISONE\n2021-04-05T03:50:00+00:00\n{'generated_rate': 350.8341191870031, 'marginal_rate': 431.84938205402585}\nISONE:carbon_intensity:EGRID_2018_eq:2021-04-05T03:50:00+00:00\ncarbon_intensity\n{'generated_emissions_source': 'EGRID_2018_eq', 'inserted_at': '2021-04-05T03:52:28.546049Z', 'marginal_emissions_source': 'EGRID_2018_eq', 'marginal_source': 'ISONE:marginal_fuel_mix:2021-04-05T03:50:00+00:00', 'raw_start_date': '2021-04-04T23:35:19-04:00', 'source': 'generated_fuel_mix:ISONE:2021-04-05T03:50:00+00:00', 'unit': 'lbs/MWh'}\nISONE\n2021-04-05T03:50:00+00:00\n{'generated_rate': 350.6374285482148, 'marginal_rate': 431.84938205402585}\nISONE:carbon_intensity:EGRID_2018:2021-04-05T03:50:00+00:00\ncarbon_intensity\n{'generated_emissions_source': 'EGRID_2018', 'inserted_at': '2021-04-05T03:52:28.562836Z', 'marginal_emissions_source': 'EGRID_2018', 'marginal_source': 'ISONE:marginal_fuel_mix:2021-04-05T03:50:00+00:00', 'raw_start_date': '2021-04-04T23:35:19-04:00', 'source': 'generated_fuel_mix:ISONE:2021-04-05T03:50:00+00:00', 'unit': 'lbs/MWh'}\nISONE\n2021-04-05T03:50:00+00:00\n{'generated_rate': 531.8227819758818, 'marginal_rate': 466.1549974123956}\nISONE:carbon_intensity:2021-04-05T03:50:00+00:00\ncarbon_intensity\n{'generated_emissions_source': 'EGRID_u2018', 'inserted_at': '2021-04-05T03:52:28.527154Z', 'marginal_emissions_source': 'EGRID_u2018', 'marginal_source': 'ISONE:marginal_fuel_mix:2021-04-05T03:50:00+00:00', 'raw_start_date': '2021-04-04T23:35:19-04:00', 'source': 'generated_fuel_mix:ISONE:2021-04-05T03:50:00+00:00', 'unit': 'lbs/MWh'}\nISONE\n2021-04-05T03:50:00+00:00\n{'generated_rate': 534.6726496532584, 'marginal_rate': 466.1549974123956}\nISONE:carbon_intensity:EGRID_u2018_eq:2021-04-05T03:55:00+00:00\ncarbon_intensity\n{'generated_emissions_source': 'EGRID_u2018_eq', 'inserted_at': '2021-04-05T04:02:26.197185Z', 'marginal_emissions_source': 'EGRID_u2018_eq', 'marginal_source': 'ISONE:marginal_fuel_mix:2021-04-05T03:55:00+00:00', 'raw_start_date': '2021-04-04T23:51:58-04:00', 'source': 'generated_fuel_mix:ISONE:2021-04-05T03:55:00+00:00', 'unit': 'lbs/MWh'}\nISONE\n2021-04-05T03:55:00+00:00\n{'generated_rate': 350.80118051416923, 'marginal_rate': 431.84938205402585}\nISONE:carbon_intensity:EGRID_2018_eq:2021-04-05T03:55:00+00:00\ncarbon_intensity\n{'generated_emissions_source': 'EGRID_2018_eq', 'inserted_at': '2021-04-05T04:02:25.893330Z', 'marginal_emissions_source': 'EGRID_2018_eq', 'marginal_source': 'ISONE:marginal_fuel_mix:2021-04-05T03:55:00+00:00', 'raw_start_date': '2021-04-04T23:51:58-04:00', 'source': 'generated_fuel_mix:ISONE:2021-04-05T03:55:00+00:00', 'unit': 'lbs/MWh'}\nISONE\n2021-04-05T03:55:00+00:00\n{'generated_rate': 350.79896857054945, 'marginal_rate': 431.84938205402585}\nISONE:carbon_intensity:EGRID_2018:2021-04-05T03:55:00+00:00\ncarbon_intensity\n{'generated_emissions_source': 'EGRID_2018', 'inserted_at': '2021-04-05T04:02:26.128923Z', 'marginal_emissions_source': 'EGRID_2018', 'marginal_source': 'ISONE:marginal_fuel_mix:2021-04-05T03:55:00+00:00', 'raw_start_date': '2021-04-04T23:51:58-04:00', 'source': 'generated_fuel_mix:ISONE:2021-04-05T03:55:00+00:00', 'unit': 'lbs/MWh'}\nISONE\n2021-04-05T03:55:00+00:00\n{'generated_rate': 534.6704377096387, 'marginal_rate': 466.1549974123956}\nISONE:carbon_intensity:2021-04-05T03:55:00+00:00\ncarbon_intensity\n{'generated_emissions_source': 'EGRID_u2018', 'inserted_at': '2021-04-05T04:02:26.194408Z', 'marginal_emissions_source': 'EGRID_u2018', 'marginal_source': 'ISONE:marginal_fuel_mix:2021-04-05T03:55:00+00:00', 'raw_start_date': '2021-04-04T23:51:58-04:00', 'source': 'generated_fuel_mix:ISONE:2021-04-05T03:55:00+00:00', 'unit': 'lbs/MWh'}\nISONE\n2021-04-05T03:55:00+00:00\n{'generated_rate': 534.6726496532584, 'marginal_rate': 466.1549974123956}\nISONE:carbon_intensity:EGRID_u2018_eq:2021-04-05T04:00:00+00:00\ncarbon_intensity\n{'generated_emissions_source': 'EGRID_u2018_eq', 'inserted_at': '2021-04-05T04:02:26.135208Z', 'marginal_emissions_source': 'EGRID_u2018_eq', 'marginal_source': 'ISONE:marginal_fuel_mix:2021-04-05T04:00:00+00:00', 'raw_start_date': '2021-04-04T23:51:58-04:00', 'source': 'generated_fuel_mix:ISONE:2021-04-05T04:00:00+00:00', 'unit': 'lbs/MWh'}\nISONE\n2021-04-05T04:00:00+00:00\n{'generated_rate': 350.80118051416923, 'marginal_rate': 431.84938205402585}\nISONE:carbon_intensity:EGRID_2018_eq:2021-04-05T04:00:00+00:00\ncarbon_intensity\n{'generated_emissions_source': 'EGRID_2018_eq', 'inserted_at': '2021-04-05T04:02:25.650634Z', 'marginal_emissions_source': 'EGRID_2018_eq', 'marginal_source': 'ISONE:marginal_fuel_mix:2021-04-05T04:00:00+00:00', 'raw_start_date': '2021-04-04T23:51:58-04:00', 'source': 'generated_fuel_mix:ISONE:2021-04-05T04:00:00+00:00', 'unit': 'lbs/MWh'}\nISONE\n2021-04-05T04:00:00+00:00\n{'generated_rate': 350.79896857054945, 'marginal_rate': 431.84938205402585}\nISONE:carbon_intensity:EGRID_2018:2021-04-05T04:00:00+00:00\ncarbon_intensity\n{'generated_emissions_source': 'EGRID_2018', 'inserted_at': '2021-04-05T04:02:25.629804Z', 'marginal_emissions_source': 'EGRID_2018', 'marginal_source': 'ISONE:marginal_fuel_mix:2021-04-05T04:00:00+00:00', 'raw_start_date': '2021-04-04T23:51:58-04:00', 'source': 'generated_fuel_mix:ISONE:2021-04-05T04:00:00+00:00', 'unit': 'lbs/MWh'}\nISONE\n2021-04-05T04:00:00+00:00\n{'generated_rate': 534.6704377096387, 'marginal_rate': 466.1549974123956}\nISONE:carbon_intensity:2021-04-05T04:00:00+00:00\ncarbon_intensity\n{'generated_emissions_source': 'EGRID_u2018', 'inserted_at': '2021-04-05T04:02:26.080446Z', 'marginal_emissions_source': 'EGRID_u2018', 'marginal_source': 'ISONE:marginal_fuel_mix:2021-04-05T04:00:00+00:00', 'raw_start_date': '2021-04-04T23:51:58-04:00', 'source': 'generated_fuel_mix:ISONE:2021-04-05T04:00:00+00:00', 'unit': 'lbs/MWh'}\nISONE\n2021-04-05T04:00:00+00:00\n{'generated_rate': 544.5002735746701, 'marginal_rate': 466.1549974123956}\nISONE:carbon_intensity:EGRID_u2018_eq:2021-04-05T04:05:00+00:00\ncarbon_intensity\n{'generated_emissions_source': 'EGRID_u2018_eq', 'inserted_at': '2021-04-05T04:14:23.213333Z', 'marginal_emissions_source': 'EGRID_u2018_eq', 'marginal_source': 'ISONE:marginal_fuel_mix:2021-04-05T04:05:00+00:00', 'raw_start_date': '2021-04-05T00:02:06-04:00', 'source': 'generated_fuel_mix:ISONE:2021-04-05T04:05:00+00:00', 'unit': 'lbs/MWh'}\nISONE\n2021-04-05T04:05:00+00:00\n{'generated_rate': 359.4224423737339, 'marginal_rate': 431.84938205402585}\nISONE:carbon_intensity:EGRID_2018_eq:2021-04-05T04:05:00+00:00\ncarbon_intensity\n{'generated_emissions_source': 'EGRID_2018_eq', 'inserted_at': '2021-04-05T04:14:23.202739Z', 'marginal_emissions_source': 'EGRID_2018_eq', 'marginal_source': 'ISONE:marginal_fuel_mix:2021-04-05T04:05:00+00:00', 'raw_start_date': '2021-04-05T00:02:06-04:00', 'source': 'generated_fuel_mix:ISONE:2021-04-05T04:05:00+00:00', 'unit': 'lbs/MWh'}\nISONE\n2021-04-05T04:05:00+00:00\n{'generated_rate': 359.4204310295276, 'marginal_rate': 431.84938205402585}\nISONE:carbon_intensity:EGRID_2018:2021-04-05T04:05:00+00:00\ncarbon_intensity\n{'generated_emissions_source': 'EGRID_2018', 'inserted_at': '2021-04-05T04:14:23.109886Z', 'marginal_emissions_source': 'EGRID_2018', 'marginal_source': 'ISONE:marginal_fuel_mix:2021-04-05T04:05:00+00:00', 'raw_start_date': '2021-04-05T00:02:06-04:00', 'source': 'generated_fuel_mix:ISONE:2021-04-05T04:05:00+00:00', 'unit': 'lbs/MWh'}\nISONE\n2021-04-05T04:05:00+00:00\n{'generated_rate': 544.498262230464, 'marginal_rate': 466.1549974123956}\nISONE:carbon_intensity:2021-04-05T04:05:00+00:00\ncarbon_intensity\n{'generated_emissions_source': 'EGRID_u2018', 'inserted_at': '2021-04-05T04:14:23.200562Z', 'marginal_emissions_source': 'EGRID_u2018', 'marginal_source': 'ISONE:marginal_fuel_mix:2021-04-05T04:05:00+00:00', 'raw_start_date': '2021-04-05T00:02:06-04:00', 'source': 'generated_fuel_mix:ISONE:2021-04-05T04:05:00+00:00', 'unit': 'lbs/MWh'}\nISONE\n2021-04-05T04:05:00+00:00\n{'generated_rate': 544.5002735746701, 'marginal_rate': 466.1549974123956}\nISONE:carbon_intensity:EGRID_u2018_eq:2021-04-05T04:10:00+00:00\ncarbon_intensity\n{'generated_emissions_source': 'EGRID_u2018_eq', 'inserted_at': '2021-04-05T04:14:23.315665Z', 'marginal_emissions_source': 'EGRID_u2018_eq', 'marginal_source': 'ISONE:marginal_fuel_mix:2021-04-05T04:10:00+00:00', 'raw_start_date': '2021-04-05T00:02:06-04:00', 'source': 'generated_fuel_mix:ISONE:2021-04-05T04:10:00+00:00', 'unit': 'lbs/MWh'}\nISONE\n2021-04-05T04:10:00+00:00\n{'generated_rate': 359.4224423737339, 'marginal_rate': 431.84938205402585}\nISONE:carbon_intensity:EGRID_2018_eq:2021-04-05T04:10:00+00:00\ncarbon_intensity\n{'generated_emissions_source': 'EGRID_2018_eq', 'inserted_at': '2021-04-05T04:14:23.332279Z', 'marginal_emissions_source': 'EGRID_2018_eq', 'marginal_source': 'ISONE:marginal_fuel_mix:2021-04-05T04:10:00+00:00', 'raw_start_date': '2021-04-05T00:02:06-04:00', 'source': 'generated_fuel_mix:ISONE:2021-04-05T04:10:00+00:00', 'unit': 'lbs/MWh'}\nISONE\n2021-04-05T04:10:00+00:00\n{'generated_rate': 359.4204310295276, 'marginal_rate': 431.84938205402585}\nISONE:carbon_intensity:EGRID_2018:2021-04-05T04:10:00+00:00\ncarbon_intensity\n{'generated_emissions_source': 'EGRID_2018', 'inserted_at': '2021-04-05T04:14:23.307656Z', 'marginal_emissions_source': 'EGRID_2018', 'marginal_source': 'ISONE:marginal_fuel_mix:2021-04-05T04:10:00+00:00', 'raw_start_date': '2021-04-05T00:02:06-04:00', 'source': 'generated_fuel_mix:ISONE:2021-04-05T04:10:00+00:00', 'unit': 'lbs/MWh'}\nISONE\n2021-04-05T04:10:00+00:00\n{'generated_rate': 544.498262230464, 'marginal_rate': 466.1549974123956}\nISONE:carbon_intensity:2021-04-05T04:10:00+00:00\ncarbon_intensity\n{'generated_emissions_source': 'EGRID_u2018', 'inserted_at': '2021-04-05T04:14:23.358949Z', 'marginal_emissions_source': 'EGRID_u2018', 'marginal_source': 'ISONE:marginal_fuel_mix:2021-04-05T04:10:00+00:00', 'raw_start_date': '2021-04-05T00:02:06-04:00', 'source': 'generated_fuel_mix:ISONE:2021-04-05T04:10:00+00:00', 'unit': 'lbs/MWh'}\nISONE\n2021-04-05T04:10:00+00:00\n{'generated_rate': 542.4027848284466, 'marginal_rate': 466.1549974123956}\nISONE:carbon_intensity:EGRID_u2018_eq:2021-04-05T04:15:00+00:00\ncarbon_intensity\n{'generated_emissions_source': 'EGRID_u2018_eq', 'inserted_at': '2021-04-05T04:21:25.958048Z', 'marginal_emissions_source': 'EGRID_u2018_eq', 'marginal_source': 'ISONE:marginal_fuel_mix:2021-04-05T04:15:00+00:00', 'raw_start_date': '2021-04-05T00:13:26-04:00', 'source': 'generated_fuel_mix:ISONE:2021-04-05T04:15:00+00:00', 'unit': 'lbs/MWh'}\nISONE\n2021-04-05T04:15:00+00:00\n{'generated_rate': 357.3265200870852, 'marginal_rate': 431.84938205402585}\nISONE:carbon_intensity:EGRID_2018_eq:2021-04-05T04:15:00+00:00\ncarbon_intensity\n{'generated_emissions_source': 'EGRID_2018_eq', 'inserted_at': '2021-04-05T04:21:25.964532Z', 'marginal_emissions_source': 'EGRID_2018_eq', 'marginal_source': 'ISONE:marginal_fuel_mix:2021-04-05T04:15:00+00:00', 'raw_start_date': '2021-04-05T00:13:26-04:00', 'source': 'generated_fuel_mix:ISONE:2021-04-05T04:15:00+00:00', 'unit': 'lbs/MWh'}\nISONE\n2021-04-05T04:15:00+00:00\n{'generated_rate': 357.2591059486352, 'marginal_rate': 431.84938205402585}\nISONE:carbon_intensity:EGRID_2018:2021-04-05T04:15:00+00:00\ncarbon_intensity\n{'generated_emissions_source': 'EGRID_2018', 'inserted_at': '2021-04-05T04:21:25.970722Z', 'marginal_emissions_source': 'EGRID_2018', 'marginal_source': 'ISONE:marginal_fuel_mix:2021-04-05T04:15:00+00:00', 'raw_start_date': '2021-04-05T00:13:26-04:00', 'source': 'generated_fuel_mix:ISONE:2021-04-05T04:15:00+00:00', 'unit': 'lbs/MWh'}\nISONE\n2021-04-05T04:15:00+00:00\n{'generated_rate': 541.9396987130457, 'marginal_rate': 466.1549974123956}\nISONE:carbon_intensity:2021-04-05T04:15:00+00:00\ncarbon_intensity\n{'generated_emissions_source': 'EGRID_u2018', 'inserted_at': '2021-04-05T04:21:25.925902Z', 'marginal_emissions_source': 'EGRID_u2018', 'marginal_source': 'ISONE:marginal_fuel_mix:2021-04-05T04:15:00+00:00', 'raw_start_date': '2021-04-05T00:13:26-04:00', 'source': 'generated_fuel_mix:ISONE:2021-04-05T04:15:00+00:00', 'unit': 'lbs/MWh'}\nISONE\n2021-04-05T04:15:00+00:00\n{'generated_rate': 542.4027848284466, 'marginal_rate': 466.1549974123956}\nISONE:carbon_intensity:EGRID_u2018_eq:2021-04-05T04:20:00+00:00\ncarbon_intensity\n{'generated_emissions_source': 'EGRID_u2018_eq', 'inserted_at': '2021-04-05T04:21:24.076157Z', 'marginal_emissions_source': 'EGRID_u2018_eq', 'marginal_source': 'ISONE:marginal_fuel_mix:2021-04-05T04:20:00+00:00', 'raw_start_date': '2021-04-05T00:13:26-04:00', 'source': 'generated_fuel_mix:ISONE:2021-04-05T04:20:00+00:00', 'unit': 'lbs/MWh'}\nISONE\n2021-04-05T04:20:00+00:00\n{'generated_rate': 357.3265200870852, 'marginal_rate': 431.84938205402585}\nISONE:carbon_intensity:EGRID_2018_eq:2021-04-05T04:20:00+00:00\ncarbon_intensity\n{'generated_emissions_source': 'EGRID_2018_eq', 'inserted_at': '2021-04-05T04:21:24.228352Z', 'marginal_emissions_source': 'EGRID_2018_eq', 'marginal_source': 'ISONE:marginal_fuel_mix:2021-04-05T04:20:00+00:00', 'raw_start_date': '2021-04-05T00:13:26-04:00', 'source': 'generated_fuel_mix:ISONE:2021-04-05T04:20:00+00:00', 'unit': 'lbs/MWh'}\nISONE\n2021-04-05T04:20:00+00:00\n{'generated_rate': 357.2591059486352, 'marginal_rate': 431.84938205402585}\nISONE:carbon_intensity:EGRID_2018:2021-04-05T04:20:00+00:00\ncarbon_intensity\n{'generated_emissions_source': 'EGRID_2018', 'inserted_at': '2021-04-05T04:21:24.270301Z', 'marginal_emissions_source': 'EGRID_2018', 'marginal_source': 'ISONE:marginal_fuel_mix:2021-04-05T04:20:00+00:00', 'raw_start_date': '2021-04-05T00:13:26-04:00', 'source': 'generated_fuel_mix:ISONE:2021-04-05T04:20:00+00:00', 'unit': 'lbs/MWh'}\nISONE\n2021-04-05T04:20:00+00:00\n{'generated_rate': 541.9396987130457, 'marginal_rate': 466.1549974123956}\nISONE:carbon_intensity:2021-04-05T04:20:00+00:00\ncarbon_intensity\n{'generated_emissions_source': 'EGRID_u2018', 'inserted_at': '2021-04-05T04:21:24.152686Z', 'marginal_emissions_source': 'EGRID_u2018', 'marginal_source': 'ISONE:marginal_fuel_mix:2021-04-05T04:20:00+00:00', 'raw_start_date': '2021-04-05T00:13:26-04:00', 'source': 'generated_fuel_mix:ISONE:2021-04-05T04:20:00+00:00', 'unit': 'lbs/MWh'}\nISONE\n2021-04-05T04:20:00+00:00\n{'generated_rate': 538.4607968481071, 'marginal_rate': 466.1549974123956}\nISONE:carbon_intensity:EGRID_u2018_eq:2021-04-05T04:25:00+00:00\ncarbon_intensity\n{'generated_emissions_source': 'EGRID_u2018_eq', 'inserted_at': '2021-04-05T04:36:26.344814Z', 'marginal_emissions_source': 'EGRID_u2018_eq', 'marginal_source': 'ISONE:marginal_fuel_mix:2021-04-05T04:25:00+00:00', 'raw_start_date': '2021-04-05T00:21:05-04:00', 'source': 'generated_fuel_mix:ISONE:2021-04-05T04:25:00+00:00', 'unit': 'lbs/MWh'}\nISONE\n2021-04-05T04:25:00+00:00\n{'generated_rate': 349.9296604921545, 'marginal_rate': 431.84938205402585}\nISONE:carbon_intensity:EGRID_2018_eq:2021-04-05T04:25:00+00:00\ncarbon_intensity\n{'generated_emissions_source': 'EGRID_2018_eq', 'inserted_at': '2021-04-05T04:36:27.422006Z', 'marginal_emissions_source': 'EGRID_2018_eq', 'marginal_source': 'ISONE:marginal_fuel_mix:2021-04-05T04:25:00+00:00', 'raw_start_date': '2021-04-05T00:21:05-04:00', 'source': 'generated_fuel_mix:ISONE:2021-04-05T04:25:00+00:00', 'unit': 'lbs/MWh'}\nISONE\n2021-04-05T04:25:00+00:00\n{'generated_rate': 349.5957364441005, 'marginal_rate': 431.84938205402585}\nISONE:carbon_intensity:EGRID_2018:2021-04-05T04:25:00+00:00\ncarbon_intensity\n{'generated_emissions_source': 'EGRID_2018', 'inserted_at': '2021-04-05T04:36:27.343639Z', 'marginal_emissions_source': 'EGRID_2018', 'marginal_source': 'ISONE:marginal_fuel_mix:2021-04-05T04:25:00+00:00', 'raw_start_date': '2021-04-05T00:21:05-04:00', 'source': 'generated_fuel_mix:ISONE:2021-04-05T04:25:00+00:00', 'unit': 'lbs/MWh'}\nISONE\n2021-04-05T04:25:00+00:00\n{'generated_rate': 536.1189361063907, 'marginal_rate': 466.1549974123956}\nISONE:carbon_intensity:2021-04-05T04:25:00+00:00\ncarbon_intensity\n{'generated_emissions_source': 'EGRID_u2018', 'inserted_at': '2021-04-05T04:36:26.872344Z', 'marginal_emissions_source': 'EGRID_u2018', 'marginal_source': 'ISONE:marginal_fuel_mix:2021-04-05T04:25:00+00:00', 'raw_start_date': '2021-04-05T00:21:05-04:00', 'source': 'generated_fuel_mix:ISONE:2021-04-05T04:25:00+00:00', 'unit': 'lbs/MWh'}\nISONE\n2021-04-05T04:25:00+00:00\n{'generated_rate': 538.4607968481071, 'marginal_rate': 466.1549974123956}\nISONE:carbon_intensity:EGRID_u2018_eq:2021-04-05T04:30:00+00:00\ncarbon_intensity\n{'generated_emissions_source': 'EGRID_u2018_eq', 'inserted_at': '2021-04-05T04:36:25.247369Z', 'marginal_emissions_source': 'EGRID_u2018_eq', 'marginal_source': 'ISONE:marginal_fuel_mix:2021-04-05T04:30:00+00:00', 'raw_start_date': '2021-04-05T00:21:05-04:00', 'source': 'generated_fuel_mix:ISONE:2021-04-05T04:30:00+00:00', 'unit': 'lbs/MWh'}\nISONE\n2021-04-05T04:30:00+00:00\n{'generated_rate': 349.9296604921545, 'marginal_rate': 431.84938205402585}\nISONE:carbon_intensity:EGRID_2018_eq:2021-04-05T04:30:00+00:00\ncarbon_intensity\n{'generated_emissions_source': 'EGRID_2018_eq', 'inserted_at': '2021-04-05T04:36:25.727546Z', 'marginal_emissions_source': 'EGRID_2018_eq', 'marginal_source': 'ISONE:marginal_fuel_mix:2021-04-05T04:30:00+00:00', 'raw_start_date': '2021-04-05T00:21:05-04:00', 'source': 'generated_fuel_mix:ISONE:2021-04-05T04:30:00+00:00', 'unit': 'lbs/MWh'}\nISONE\n2021-04-05T04:30:00+00:00\n{'generated_rate': 349.5957364441005, 'marginal_rate': 431.84938205402585}\nISONE:carbon_intensity:EGRID_2018:2021-04-05T04:30:00+00:00\ncarbon_intensity\n{'generated_emissions_source': 'EGRID_2018', 'inserted_at': '2021-04-05T04:36:25.821604Z', 'marginal_emissions_source': 'EGRID_2018', 'marginal_source': 'ISONE:marginal_fuel_mix:2021-04-05T04:30:00+00:00', 'raw_start_date': '2021-04-05T00:21:05-04:00', 'source': 'generated_fuel_mix:ISONE:2021-04-05T04:30:00+00:00', 'unit': 'lbs/MWh'}\nISONE\n2021-04-05T04:30:00+00:00\n{'generated_rate': 536.1189361063907, 'marginal_rate': 466.1549974123956}\nISONE:carbon_intensity:2021-04-05T04:30:00+00:00\ncarbon_intensity\n{'generated_emissions_source': 'EGRID_u2018', 'inserted_at': '2021-04-05T04:36:26.085048Z', 'marginal_emissions_source': 'EGRID_u2018', 'marginal_source': 'ISONE:marginal_fuel_mix:2021-04-05T04:30:00+00:00', 'raw_start_date': '2021-04-05T00:21:05-04:00', 'source': 'generated_fuel_mix:ISONE:2021-04-05T04:30:00+00:00', 'unit': 'lbs/MWh'}\nISONE\n2021-04-05T04:30:00+00:00\n{'generated_rate': 538.4607968481071, 'marginal_rate': 466.1549974123956}\nISONE:carbon_intensity:EGRID_u2018_eq:2021-04-05T04:35:00+00:00\ncarbon_intensity\n{'generated_emissions_source': 'EGRID_u2018_eq', 'inserted_at': '2021-04-05T04:36:24.675224Z', 'marginal_emissions_source': 'EGRID_u2018_eq', 'marginal_source': 'ISONE:marginal_fuel_mix:2021-04-05T04:35:00+00:00', 'raw_start_date': '2021-04-05T00:21:05-04:00', 'source': 'generated_fuel_mix:ISONE:2021-04-05T04:35:00+00:00', 'unit': 'lbs/MWh'}\nISONE\n2021-04-05T04:35:00+00:00\n{'generated_rate': 349.9296604921545, 'marginal_rate': 431.84938205402585}\nISONE:carbon_intensity:EGRID_2018_eq:2021-04-05T04:35:00+00:00\ncarbon_intensity\n{'generated_emissions_source': 'EGRID_2018_eq', 'inserted_at': '2021-04-05T04:36:24.298188Z', 'marginal_emissions_source': 'EGRID_2018_eq', 'marginal_source': 'ISONE:marginal_fuel_mix:2021-04-05T04:35:00+00:00', 'raw_start_date': '2021-04-05T00:21:05-04:00', 'source': 'generated_fuel_mix:ISONE:2021-04-05T04:35:00+00:00', 'unit': 'lbs/MWh'}\nISONE\n2021-04-05T04:35:00+00:00\n{'generated_rate': 349.5957364441005, 'marginal_rate': 431.84938205402585}\nISONE:carbon_intensity:EGRID_2018:2021-04-05T04:35:00+00:00\ncarbon_intensity\n{'generated_emissions_source': 'EGRID_2018', 'inserted_at': '2021-04-05T04:36:24.511199Z', 'marginal_emissions_source': 'EGRID_2018', 'marginal_source': 'ISONE:marginal_fuel_mix:2021-04-05T04:35:00+00:00', 'raw_start_date': '2021-04-05T00:21:05-04:00', 'source': 'generated_fuel_mix:ISONE:2021-04-05T04:35:00+00:00', 'unit': 'lbs/MWh'}\nISONE\n2021-04-05T04:35:00+00:00\n{'generated_rate': 536.1189361063907, 'marginal_rate': 466.1549974123956}\nISONE:carbon_intensity:2021-04-05T04:35:00+00:00\ncarbon_intensity\n{'generated_emissions_source': 'EGRID_u2018', 'inserted_at': '2021-04-05T04:36:24.813969Z', 'marginal_emissions_source': 'EGRID_u2018', 'marginal_source': 'ISONE:marginal_fuel_mix:2021-04-05T04:35:00+00:00', 'raw_start_date': '2021-04-05T00:21:05-04:00', 'source': 'generated_fuel_mix:ISONE:2021-04-05T04:35:00+00:00', 'unit': 'lbs/MWh'}\nISONE\n2021-04-05T04:35:00+00:00\n{'generated_rate': 530.0748994506027, 'marginal_rate': 466.1549974123956}\nISONE:carbon_intensity:EGRID_u2018_eq:2021-04-05T04:40:00+00:00\ncarbon_intensity\n{'generated_emissions_source': 'EGRID_u2018_eq', 'inserted_at': '2021-04-05T04:51:25.686298Z', 'marginal_emissions_source': 'EGRID_u2018_eq', 'marginal_source': 'ISONE:marginal_fuel_mix:2021-04-05T04:40:00+00:00', 'raw_start_date': '2021-04-05T00:35:24-04:00', 'source': 'generated_fuel_mix:ISONE:2021-04-05T04:40:00+00:00', 'unit': 'lbs/MWh'}\nISONE\n2021-04-05T04:40:00+00:00\n{'generated_rate': 347.06909013158133, 'marginal_rate': 431.84938205402585}\nISONE:carbon_intensity:EGRID_2018_eq:2021-04-05T04:40:00+00:00\ncarbon_intensity\n{'generated_emissions_source': 'EGRID_2018_eq', 'inserted_at': '2021-04-05T04:51:25.143302Z', 'marginal_emissions_source': 'EGRID_2018_eq', 'marginal_source': 'ISONE:marginal_fuel_mix:2021-04-05T04:40:00+00:00', 'raw_start_date': '2021-04-05T00:35:24-04:00', 'source': 'generated_fuel_mix:ISONE:2021-04-05T04:40:00+00:00', 'unit': 'lbs/MWh'}\nISONE\n2021-04-05T04:40:00+00:00\n{'generated_rate': 346.9344070635022, 'marginal_rate': 431.84938205402585}\nISONE:carbon_intensity:EGRID_2018:2021-04-05T04:40:00+00:00\ncarbon_intensity\n{'generated_emissions_source': 'EGRID_2018', 'inserted_at': '2021-04-05T04:51:25.171444Z', 'marginal_emissions_source': 'EGRID_2018', 'marginal_source': 'ISONE:marginal_fuel_mix:2021-04-05T04:40:00+00:00', 'raw_start_date': '2021-04-05T00:35:24-04:00', 'source': 'generated_fuel_mix:ISONE:2021-04-05T04:40:00+00:00', 'unit': 'lbs/MWh'}\nISONE\n2021-04-05T04:40:00+00:00\n{'generated_rate': 529.1377082400606, 'marginal_rate': 466.1549974123956}\nISONE:carbon_intensity:2021-04-05T04:40:00+00:00\ncarbon_intensity\n{'generated_emissions_source': 'EGRID_u2018', 'inserted_at': '2021-04-05T04:51:25.814173Z', 'marginal_emissions_source': 'EGRID_u2018', 'marginal_source': 'ISONE:marginal_fuel_mix:2021-04-05T04:40:00+00:00', 'raw_start_date': '2021-04-05T00:35:24-04:00', 'source': 'generated_fuel_mix:ISONE:2021-04-05T04:40:00+00:00', 'unit': 'lbs/MWh'}\nISONE\n2021-04-05T04:40:00+00:00\n{'generated_rate': 530.0748994506027, 'marginal_rate': 466.1549974123956}\nISONE:carbon_intensity:EGRID_u2018_eq:2021-04-05T04:45:00+00:00\ncarbon_intensity\n{'generated_emissions_source': 'EGRID_u2018_eq', 'inserted_at': '2021-04-05T04:51:24.200949Z', 'marginal_emissions_source': 'EGRID_u2018_eq', 'marginal_source': 'ISONE:marginal_fuel_mix:2021-04-05T04:45:00+00:00', 'raw_start_date': '2021-04-05T00:35:24-04:00', 'source': 'generated_fuel_mix:ISONE:2021-04-05T04:45:00+00:00', 'unit': 'lbs/MWh'}\nISONE\n2021-04-05T04:45:00+00:00\n{'generated_rate': 347.06909013158133, 'marginal_rate': 431.84938205402585}\nISONE:carbon_intensity:EGRID_2018_eq:2021-04-05T04:45:00+00:00\ncarbon_intensity\n{'generated_emissions_source': 'EGRID_2018_eq', 'inserted_at': '2021-04-05T04:51:24.210502Z', 'marginal_emissions_source': 'EGRID_2018_eq', 'marginal_source': 'ISONE:marginal_fuel_mix:2021-04-05T04:45:00+00:00', 'raw_start_date': '2021-04-05T00:35:24-04:00', 'source': 'generated_fuel_mix:ISONE:2021-04-05T04:45:00+00:00', 'unit': 'lbs/MWh'}\nISONE\n2021-04-05T04:45:00+00:00\n{'generated_rate': 346.9344070635022, 'marginal_rate': 431.84938205402585}\nISONE:carbon_intensity:EGRID_2018:2021-04-05T04:45:00+00:00\ncarbon_intensity\n{'generated_emissions_source': 'EGRID_2018', 'inserted_at': '2021-04-05T04:51:24.113160Z', 'marginal_emissions_source': 'EGRID_2018', 'marginal_source': 'ISONE:marginal_fuel_mix:2021-04-05T04:45:00+00:00', 'raw_start_date': '2021-04-05T00:35:24-04:00', 'source': 'generated_fuel_mix:ISONE:2021-04-05T04:45:00+00:00', 'unit': 'lbs/MWh'}\nISONE\n2021-04-05T04:45:00+00:00\n{'generated_rate': 529.1377082400606, 'marginal_rate': 466.1549974123956}\nISONE:carbon_intensity:2021-04-05T04:45:00+00:00\ncarbon_intensity\n{'generated_emissions_source': 'EGRID_u2018', 'inserted_at': '2021-04-05T04:51:24.432795Z', 'marginal_emissions_source': 'EGRID_u2018', 'marginal_source': 'ISONE:marginal_fuel_mix:2021-04-05T04:45:00+00:00', 'raw_start_date': '2021-04-05T00:35:24-04:00', 'source': 'generated_fuel_mix:ISONE:2021-04-05T04:45:00+00:00', 'unit': 'lbs/MWh'}\nISONE\n2021-04-05T04:45:00+00:00\n{'generated_rate': 530.0748994506027, 'marginal_rate': 466.1549974123956}\nISONE:carbon_intensity:EGRID_u2018_eq:2021-04-05T04:50:00+00:00\ncarbon_intensity\n{'generated_emissions_source': 'EGRID_u2018_eq', 'inserted_at': '2021-04-05T04:51:24.838674Z', 'marginal_emissions_source': 'EGRID_u2018_eq', 'marginal_source': 'ISONE:marginal_fuel_mix:2021-04-05T04:50:00+00:00', 'raw_start_date': '2021-04-05T00:35:24-04:00', 'source': 'generated_fuel_mix:ISONE:2021-04-05T04:50:00+00:00', 'unit': 'lbs/MWh'}\nISONE\n2021-04-05T04:50:00+00:00\n{'generated_rate': 347.06909013158133, 'marginal_rate': 431.84938205402585}\nISONE:carbon_intensity:EGRID_2018_eq:2021-04-05T04:50:00+00:00\ncarbon_intensity\n{'generated_emissions_source': 'EGRID_2018_eq', 'inserted_at': '2021-04-05T04:51:25.318071Z', 'marginal_emissions_source': 'EGRID_2018_eq', 'marginal_source': 'ISONE:marginal_fuel_mix:2021-04-05T04:50:00+00:00', 'raw_start_date': '2021-04-05T00:35:24-04:00', 'source': 'generated_fuel_mix:ISONE:2021-04-05T04:50:00+00:00', 'unit': 'lbs/MWh'}\nISONE\n2021-04-05T04:50:00+00:00\n{'generated_rate': 346.9344070635022, 'marginal_rate': 431.84938205402585}\nISONE:carbon_intensity:EGRID_2018:2021-04-05T04:50:00+00:00\ncarbon_intensity\n{'generated_emissions_source': 'EGRID_2018', 'inserted_at': '2021-04-05T04:51:25.801946Z', 'marginal_emissions_source': 'EGRID_2018', 'marginal_source': 'ISONE:marginal_fuel_mix:2021-04-05T04:50:00+00:00', 'raw_start_date': '2021-04-05T00:35:24-04:00', 'source': 'generated_fuel_mix:ISONE:2021-04-05T04:50:00+00:00', 'unit': 'lbs/MWh'}\nISONE\n2021-04-05T04:50:00+00:00\n{'generated_rate': 529.1377082400606, 'marginal_rate': 466.1549974123956}\nISONE:carbon_intensity:2021-04-05T04:50:00+00:00\ncarbon_intensity\n{'generated_emissions_source': 'EGRID_u2018', 'inserted_at': '2021-04-05T04:51:25.179609Z', 'marginal_emissions_source': 'EGRID_u2018', 'marginal_source': 'ISONE:marginal_fuel_mix:2021-04-05T04:50:00+00:00', 'raw_start_date': '2021-04-05T00:35:24-04:00', 'source': 'generated_fuel_mix:ISONE:2021-04-05T04:50:00+00:00', 'unit': 'lbs/MWh'}\nISONE\n2021-04-05T04:50:00+00:00\n{'generated_rate': 534.10076165856, 'marginal_rate': 466.1549974123956}\nISONE:carbon_intensity:EGRID_u2018_eq:2021-04-05T04:55:00+00:00\ncarbon_intensity\n{'generated_emissions_source': 'EGRID_u2018_eq', 'inserted_at': '2021-04-05T05:05:27.405867Z', 'marginal_emissions_source': 'EGRID_u2018_eq', 'marginal_source': 'ISONE:marginal_fuel_mix:2021-04-05T04:55:00+00:00', 'raw_start_date': '2021-04-05T00:52:43-04:00', 'source': 'generated_fuel_mix:ISONE:2021-04-05T04:55:00+00:00', 'unit': 'lbs/MWh'}\nISONE\n2021-04-05T04:55:00+00:00\n{'generated_rate': 344.69739519902726, 'marginal_rate': 431.84938205402585}\nISONE:carbon_intensity:EGRID_2018_eq:2021-04-05T04:55:00+00:00\ncarbon_intensity\n{'generated_emissions_source': 'EGRID_2018_eq', 'inserted_at': '2021-04-05T05:05:26.995360Z', 'marginal_emissions_source': 'EGRID_2018_eq', 'marginal_source': 'ISONE:marginal_fuel_mix:2021-04-05T04:55:00+00:00', 'raw_start_date': '2021-04-05T00:52:43-04:00', 'source': 'generated_fuel_mix:ISONE:2021-04-05T04:55:00+00:00', 'unit': 'lbs/MWh'}\nISONE\n2021-04-05T04:55:00+00:00\n{'generated_rate': 343.75446363981496, 'marginal_rate': 431.84938205402585}\nISONE:carbon_intensity:EGRID_2018:2021-04-05T04:55:00+00:00\ncarbon_intensity\n{'generated_emissions_source': 'EGRID_2018', 'inserted_at': '2021-04-05T05:05:26.718483Z', 'marginal_emissions_source': 'EGRID_2018', 'marginal_source': 'ISONE:marginal_fuel_mix:2021-04-05T04:55:00+00:00', 'raw_start_date': '2021-04-05T00:52:43-04:00', 'source': 'generated_fuel_mix:ISONE:2021-04-05T04:55:00+00:00', 'unit': 'lbs/MWh'}\nISONE\n2021-04-05T04:55:00+00:00\n{'generated_rate': 527.4653633439751, 'marginal_rate': 466.1549974123956}\nISONE:carbon_intensity:2021-04-05T04:55:00+00:00\ncarbon_intensity\n{'generated_emissions_source': 'EGRID_u2018', 'inserted_at': '2021-04-05T05:05:27.042374Z', 'marginal_emissions_source': 'EGRID_u2018', 'marginal_source': 'ISONE:marginal_fuel_mix:2021-04-05T04:55:00+00:00', 'raw_start_date': '2021-04-05T00:52:43-04:00', 'source': 'generated_fuel_mix:ISONE:2021-04-05T04:55:00+00:00', 'unit': 'lbs/MWh'}\nISONE\n2021-04-05T04:55:00+00:00\n{'generated_rate': 534.10076165856, 'marginal_rate': 466.1549974123956}\nISONE:carbon_intensity:EGRID_u2018_eq:2021-04-05T05:00:00+00:00\ncarbon_intensity\n{'generated_emissions_source': 'EGRID_u2018_eq', 'inserted_at': '2021-04-05T05:05:24.317056Z', 'marginal_emissions_source': 'EGRID_u2018_eq', 'marginal_source': 'ISONE:marginal_fuel_mix:2021-04-05T05:00:00+00:00', 'raw_start_date': '2021-04-05T00:52:43-04:00', 'source': 'generated_fuel_mix:ISONE:2021-04-05T05:00:00+00:00', 'unit': 'lbs/MWh'}\nISONE\n2021-04-05T05:00:00+00:00\n{'generated_rate': 344.69739519902726, 'marginal_rate': 431.84938205402585}\nISONE:carbon_intensity:EGRID_2018_eq:2021-04-05T05:00:00+00:00\ncarbon_intensity\n{'generated_emissions_source': 'EGRID_2018_eq', 'inserted_at': '2021-04-05T05:05:24.344567Z', 'marginal_emissions_source': 'EGRID_2018_eq', 'marginal_source': 'ISONE:marginal_fuel_mix:2021-04-05T05:00:00+00:00', 'raw_start_date': '2021-04-05T00:52:43-04:00', 'source': 'generated_fuel_mix:ISONE:2021-04-05T05:00:00+00:00', 'unit': 'lbs/MWh'}\nISONE\n2021-04-05T05:00:00+00:00\n{'generated_rate': 343.75446363981496, 'marginal_rate': 431.84938205402585}\nISONE:carbon_intensity:EGRID_2018:2021-04-05T05:00:00+00:00\ncarbon_intensity\n{'generated_emissions_source': 'EGRID_2018', 'inserted_at': '2021-04-05T05:05:24.296120Z', 'marginal_emissions_source': 'EGRID_2018', 'marginal_source': 'ISONE:marginal_fuel_mix:2021-04-05T05:00:00+00:00', 'raw_start_date': '2021-04-05T00:52:43-04:00', 'source': 'generated_fuel_mix:ISONE:2021-04-05T05:00:00+00:00', 'unit': 'lbs/MWh'}\nISONE\n2021-04-05T05:00:00+00:00\n{'generated_rate': 527.4653633439751, 'marginal_rate': 466.1549974123956}\nISONE:carbon_intensity:2021-04-05T05:00:00+00:00\ncarbon_intensity\n{'generated_emissions_source': 'EGRID_u2018', 'inserted_at': '2021-04-05T05:05:24.361852Z', 'marginal_emissions_source': 'EGRID_u2018', 'marginal_source': 'ISONE:marginal_fuel_mix:2021-04-05T05:00:00+00:00', 'raw_start_date': '2021-04-05T00:52:43-04:00', 'source': 'generated_fuel_mix:ISONE:2021-04-05T05:00:00+00:00', 'unit': 'lbs/MWh'}\nISONE\n2021-04-05T05:00:00+00:00\n{'generated_rate': 534.4237981976099, 'marginal_rate': 466.1549974123956}\nISONE:carbon_intensity:EGRID_u2018_eq:2021-04-05T05:05:00+00:00\ncarbon_intensity\n{'generated_emissions_source': 'EGRID_u2018_eq', 'inserted_at': '2021-04-05T05:28:28.331135Z', 'marginal_emissions_source': 'EGRID_u2018_eq', 'marginal_source': 'ISONE:marginal_fuel_mix:2021-04-05T05:05:00+00:00', 'raw_start_date': '2021-04-05T01:04:17-04:00', 'source': 'generated_fuel_mix:ISONE:2021-04-05T05:05:00+00:00', 'unit': 'lbs/MWh'}\nISONE\n2021-04-05T05:05:00+00:00\n{'generated_rate': 344.69250926740216, 'marginal_rate': 431.84938205402585}\nISONE:carbon_intensity:EGRID_2018_eq:2021-04-05T05:05:00+00:00\ncarbon_intensity\n{'generated_emissions_source': 'EGRID_2018_eq', 'inserted_at': '2021-04-05T05:28:28.720572Z', 'marginal_emissions_source': 'EGRID_2018_eq', 'marginal_source': 'ISONE:marginal_fuel_mix:2021-04-05T05:05:00+00:00', 'raw_start_date': '2021-04-05T01:04:17-04:00', 'source': 'generated_fuel_mix:ISONE:2021-04-05T05:05:00+00:00', 'unit': 'lbs/MWh'}\nISONE\n2021-04-05T05:05:00+00:00\n{'generated_rate': 343.61916540537555, 'marginal_rate': 431.84938205402585}\nISONE:carbon_intensity:EGRID_2018:2021-04-05T05:05:00+00:00\ncarbon_intensity\n{'generated_emissions_source': 'EGRID_2018', 'inserted_at': '2021-04-05T05:28:28.756603Z', 'marginal_emissions_source': 'EGRID_2018', 'marginal_source': 'ISONE:marginal_fuel_mix:2021-04-05T05:05:00+00:00', 'raw_start_date': '2021-04-05T01:04:17-04:00', 'source': 'generated_fuel_mix:ISONE:2021-04-05T05:05:00+00:00', 'unit': 'lbs/MWh'}\nISONE\n2021-04-05T05:05:00+00:00\n{'generated_rate': 526.868916399809, 'marginal_rate': 466.1549974123956}\nISONE:carbon_intensity:2021-04-05T05:05:00+00:00\ncarbon_intensity\n{'generated_emissions_source': 'EGRID_u2018', 'inserted_at': '2021-04-05T05:28:28.716589Z', 'marginal_emissions_source': 'EGRID_u2018', 'marginal_source': 'ISONE:marginal_fuel_mix:2021-04-05T05:05:00+00:00', 'raw_start_date': '2021-04-05T01:04:17-04:00', 'source': 'generated_fuel_mix:ISONE:2021-04-05T05:05:00+00:00', 'unit': 'lbs/MWh'}\nISONE\n2021-04-05T05:05:00+00:00\n{'generated_rate': 534.4237981976099, 'marginal_rate': 466.1549974123956}\nISONE:carbon_intensity:EGRID_u2018_eq:2021-04-05T05:10:00+00:00\ncarbon_intensity\n{'generated_emissions_source': 'EGRID_u2018_eq', 'inserted_at': '2021-04-05T05:28:26.266755Z', 'marginal_emissions_source': 'EGRID_u2018_eq', 'marginal_source': 'ISONE:marginal_fuel_mix:2021-04-05T05:10:00+00:00', 'raw_start_date': '2021-04-05T01:04:17-04:00', 'source': 'generated_fuel_mix:ISONE:2021-04-05T05:10:00+00:00', 'unit': 'lbs/MWh'}\nISONE\n2021-04-05T05:10:00+00:00\n{'generated_rate': 344.69250926740216, 'marginal_rate': 431.84938205402585}\nISONE:carbon_intensity:EGRID_2018_eq:2021-04-05T05:10:00+00:00\ncarbon_intensity\n{'generated_emissions_source': 'EGRID_2018_eq', 'inserted_at': '2021-04-05T05:28:26.320301Z', 'marginal_emissions_source': 'EGRID_2018_eq', 'marginal_source': 'ISONE:marginal_fuel_mix:2021-04-05T05:10:00+00:00', 'raw_start_date': '2021-04-05T01:04:17-04:00', 'source': 'generated_fuel_mix:ISONE:2021-04-05T05:10:00+00:00', 'unit': 'lbs/MWh'}\nISONE\n2021-04-05T05:10:00+00:00\n{'generated_rate': 343.61916540537555, 'marginal_rate': 431.84938205402585}\nISONE:carbon_intensity:EGRID_2018:2021-04-05T05:10:00+00:00\ncarbon_intensity\n{'generated_emissions_source': 'EGRID_2018', 'inserted_at': '2021-04-05T05:28:26.452262Z', 'marginal_emissions_source': 'EGRID_2018', 'marginal_source': 'ISONE:marginal_fuel_mix:2021-04-05T05:10:00+00:00', 'raw_start_date': '2021-04-05T01:04:17-04:00', 'source': 'generated_fuel_mix:ISONE:2021-04-05T05:10:00+00:00', 'unit': 'lbs/MWh'}\nISONE\n2021-04-05T05:10:00+00:00\n{'generated_rate': 526.868916399809, 'marginal_rate': 466.1549974123956}\nISONE:carbon_intensity:2021-04-05T05:10:00+00:00\ncarbon_intensity\n{'generated_emissions_source': 'EGRID_u2018', 'inserted_at': '2021-04-05T05:28:26.497986Z', 'marginal_emissions_source': 'EGRID_u2018', 'marginal_source': 'ISONE:marginal_fuel_mix:2021-04-05T05:10:00+00:00', 'raw_start_date': '2021-04-05T01:04:17-04:00', 'source': 'generated_fuel_mix:ISONE:2021-04-05T05:10:00+00:00', 'unit': 'lbs/MWh'}\nISONE\n2021-04-05T05:10:00+00:00\n{'generated_rate': 534.4237981976099, 'marginal_rate': 466.1549974123956}\nISONE:carbon_intensity:EGRID_u2018_eq:2021-04-05T05:15:00+00:00\ncarbon_intensity\n{'generated_emissions_source': 'EGRID_u2018_eq', 'inserted_at': '2021-04-05T05:28:31.598583Z', 'marginal_emissions_source': 'EGRID_u2018_eq', 'marginal_source': 'ISONE:marginal_fuel_mix:2021-04-05T05:15:00+00:00', 'raw_start_date': '2021-04-05T01:04:17-04:00', 'source': 'generated_fuel_mix:ISONE:2021-04-05T05:15:00+00:00', 'unit': 'lbs/MWh'}\nISONE\n2021-04-05T05:15:00+00:00\n{'generated_rate': 344.69250926740216, 'marginal_rate': 431.84938205402585}\nISONE:carbon_intensity:EGRID_2018_eq:2021-04-05T05:15:00+00:00\ncarbon_intensity\n{'generated_emissions_source': 'EGRID_2018_eq', 'inserted_at': '2021-04-05T05:28:31.647392Z', 'marginal_emissions_source': 'EGRID_2018_eq', 'marginal_source': 'ISONE:marginal_fuel_mix:2021-04-05T05:15:00+00:00', 'raw_start_date': '2021-04-05T01:04:17-04:00', 'source': 'generated_fuel_mix:ISONE:2021-04-05T05:15:00+00:00', 'unit': 'lbs/MWh'}\nISONE\n2021-04-05T05:15:00+00:00\n{'generated_rate': 343.61916540537555, 'marginal_rate': 431.84938205402585}\nISONE:carbon_intensity:EGRID_2018:2021-04-05T05:15:00+00:00\ncarbon_intensity\n{'generated_emissions_source': 'EGRID_2018', 'inserted_at': '2021-04-05T05:28:31.819427Z', 'marginal_emissions_source': 'EGRID_2018', 'marginal_source': 'ISONE:marginal_fuel_mix:2021-04-05T05:15:00+00:00', 'raw_start_date': '2021-04-05T01:04:17-04:00', 'source': 'generated_fuel_mix:ISONE:2021-04-05T05:15:00+00:00', 'unit': 'lbs/MWh'}\nISONE\n2021-04-05T05:15:00+00:00\n{'generated_rate': 526.868916399809, 'marginal_rate': 466.1549974123956}\nISONE:carbon_intensity:2021-04-05T05:15:00+00:00\ncarbon_intensity\n{'generated_emissions_source': 'EGRID_u2018', 'inserted_at': '2021-04-05T05:28:31.536394Z', 'marginal_emissions_source': 'EGRID_u2018', 'marginal_source': 'ISONE:marginal_fuel_mix:2021-04-05T05:15:00+00:00', 'raw_start_date': '2021-04-05T01:04:17-04:00', 'source': 'generated_fuel_mix:ISONE:2021-04-05T05:15:00+00:00', 'unit': 'lbs/MWh'}\nISONE\n2021-04-05T05:15:00+00:00\n{'generated_rate': 534.4237981976099, 'marginal_rate': 466.1549974123956}\nISONE:carbon_intensity:EGRID_u2018_eq:2021-04-05T05:20:00+00:00\ncarbon_intensity\n{'generated_emissions_source': 'EGRID_u2018_eq', 'inserted_at': '2021-04-05T05:28:26.971413Z', 'marginal_emissions_source': 'EGRID_u2018_eq', 'marginal_source': 'ISONE:marginal_fuel_mix:2021-04-05T05:20:00+00:00', 'raw_start_date': '2021-04-05T01:04:17-04:00', 'source': 'generated_fuel_mix:ISONE:2021-04-05T05:20:00+00:00', 'unit': 'lbs/MWh'}\nISONE\n2021-04-05T05:20:00+00:00\n{'generated_rate': 344.69250926740216, 'marginal_rate': 431.84938205402585}\nISONE:carbon_intensity:EGRID_2018_eq:2021-04-05T05:20:00+00:00\ncarbon_intensity\n{'generated_emissions_source': 'EGRID_2018_eq', 'inserted_at': '2021-04-05T05:28:26.691521Z', 'marginal_emissions_source': 'EGRID_2018_eq', 'marginal_source': 'ISONE:marginal_fuel_mix:2021-04-05T05:20:00+00:00', 'raw_start_date': '2021-04-05T01:04:17-04:00', 'source': 'generated_fuel_mix:ISONE:2021-04-05T05:20:00+00:00', 'unit': 'lbs/MWh'}\nISONE\n2021-04-05T05:20:00+00:00\n{'generated_rate': 343.61916540537555, 'marginal_rate': 431.84938205402585}\nISONE:carbon_intensity:EGRID_2018:2021-04-05T05:20:00+00:00\ncarbon_intensity\n{'generated_emissions_source': 'EGRID_2018', 'inserted_at': '2021-04-05T05:28:27.082767Z', 'marginal_emissions_source': 'EGRID_2018', 'marginal_source': 'ISONE:marginal_fuel_mix:2021-04-05T05:20:00+00:00', 'raw_start_date': '2021-04-05T01:04:17-04:00', 'source': 'generated_fuel_mix:ISONE:2021-04-05T05:20:00+00:00', 'unit': 'lbs/MWh'}\nISONE\n2021-04-05T05:20:00+00:00\n{'generated_rate': 526.868916399809, 'marginal_rate': 466.1549974123956}\nISONE:carbon_intensity:2021-04-05T05:20:00+00:00\ncarbon_intensity\n{'generated_emissions_source': 'EGRID_u2018', 'inserted_at': '2021-04-05T05:28:27.098332Z', 'marginal_emissions_source': 'EGRID_u2018', 'marginal_source': 'ISONE:marginal_fuel_mix:2021-04-05T05:20:00+00:00', 'raw_start_date': '2021-04-05T01:04:17-04:00', 'source': 'generated_fuel_mix:ISONE:2021-04-05T05:20:00+00:00', 'unit': 'lbs/MWh'}\nISONE\n2021-04-05T05:20:00+00:00\n{'generated_rate': 534.4237981976099, 'marginal_rate': 466.1549974123956}\nISONE:carbon_intensity:EGRID_u2018_eq:2021-04-05T05:25:00+00:00\ncarbon_intensity\n{'generated_emissions_source': 'EGRID_u2018_eq', 'inserted_at': '2021-04-05T05:28:28.087296Z', 'marginal_emissions_source': 'EGRID_u2018_eq', 'marginal_source': 'ISONE:marginal_fuel_mix:2021-04-05T05:25:00+00:00', 'raw_start_date': '2021-04-05T01:04:17-04:00', 'source': 'generated_fuel_mix:ISONE:2021-04-05T05:25:00+00:00', 'unit': 'lbs/MWh'}\nISONE\n2021-04-05T05:25:00+00:00\n{'generated_rate': 344.69250926740216, 'marginal_rate': 431.84938205402585}\nISONE:carbon_intensity:EGRID_2018_eq:2021-04-05T05:25:00+00:00\ncarbon_intensity\n{'generated_emissions_source': 'EGRID_2018_eq', 'inserted_at': '2021-04-05T05:28:28.568187Z', 'marginal_emissions_source': 'EGRID_2018_eq', 'marginal_source': 'ISONE:marginal_fuel_mix:2021-04-05T05:25:00+00:00', 'raw_start_date': '2021-04-05T01:04:17-04:00', 'source': 'generated_fuel_mix:ISONE:2021-04-05T05:25:00+00:00', 'unit': 'lbs/MWh'}\nISONE\n2021-04-05T05:25:00+00:00\n{'generated_rate': 343.61916540537555, 'marginal_rate': 431.84938205402585}\nISONE:carbon_intensity:EGRID_2018:2021-04-05T05:25:00+00:00\ncarbon_intensity\n{'generated_emissions_source': 'EGRID_2018', 'inserted_at': '2021-04-05T05:28:28.072992Z', 'marginal_emissions_source': 'EGRID_2018', 'marginal_source': 'ISONE:marginal_fuel_mix:2021-04-05T05:25:00+00:00', 'raw_start_date': '2021-04-05T01:04:17-04:00', 'source': 'generated_fuel_mix:ISONE:2021-04-05T05:25:00+00:00', 'unit': 'lbs/MWh'}\nISONE\n2021-04-05T05:25:00+00:00\n{'generated_rate': 526.868916399809, 'marginal_rate': 466.1549974123956}\nISONE:carbon_intensity:2021-04-05T05:25:00+00:00\ncarbon_intensity\n{'generated_emissions_source': 'EGRID_u2018', 'inserted_at': '2021-04-05T05:28:28.573424Z', 'marginal_emissions_source': 'EGRID_u2018', 'marginal_source': 'ISONE:marginal_fuel_mix:2021-04-05T05:25:00+00:00', 'raw_start_date': '2021-04-05T01:04:17-04:00', 'source': 'generated_fuel_mix:ISONE:2021-04-05T05:25:00+00:00', 'unit': 'lbs/MWh'}\nISONE\n2021-04-05T05:25:00+00:00\n{'generated_rate': 534.5622931145987, 'marginal_rate': 466.1549974123956}\nISONE:carbon_intensity:EGRID_u2018_eq:2021-04-05T05:30:00+00:00\ncarbon_intensity\n{'generated_emissions_source': 'EGRID_u2018_eq', 'inserted_at': '2021-04-05T05:36:25.379995Z', 'marginal_emissions_source': 'EGRID_u2018_eq', 'marginal_source': 'ISONE:marginal_fuel_mix:2021-04-05T05:30:00+00:00', 'raw_start_date': '2021-04-05T01:29:01-04:00', 'source': 'generated_fuel_mix:ISONE:2021-04-05T05:30:00+00:00', 'unit': 'lbs/MWh'}\nISONE\n2021-04-05T05:30:00+00:00\n{'generated_rate': 347.33383910159665, 'marginal_rate': 431.84938205402585}\nISONE:carbon_intensity:EGRID_2018_eq:2021-04-05T05:30:00+00:00\ncarbon_intensity\n{'generated_emissions_source': 'EGRID_2018_eq', 'inserted_at': '2021-04-05T05:36:25.454509Z', 'marginal_emissions_source': 'EGRID_2018_eq', 'marginal_source': 'ISONE:marginal_fuel_mix:2021-04-05T05:30:00+00:00', 'raw_start_date': '2021-04-05T01:29:01-04:00', 'source': 'generated_fuel_mix:ISONE:2021-04-05T05:30:00+00:00', 'unit': 'lbs/MWh'}\nISONE\n2021-04-05T05:30:00+00:00\n{'generated_rate': 346.5273569877466, 'marginal_rate': 431.84938205402585}\nISONE:carbon_intensity:EGRID_2018:2021-04-05T05:30:00+00:00\ncarbon_intensity\n{'generated_emissions_source': 'EGRID_2018', 'inserted_at': '2021-04-05T05:36:25.306047Z', 'marginal_emissions_source': 'EGRID_2018', 'marginal_source': 'ISONE:marginal_fuel_mix:2021-04-05T05:30:00+00:00', 'raw_start_date': '2021-04-05T01:29:01-04:00', 'source': 'generated_fuel_mix:ISONE:2021-04-05T05:30:00+00:00', 'unit': 'lbs/MWh'}\nISONE\n2021-04-05T05:30:00+00:00\n{'generated_rate': 528.8888323200958, 'marginal_rate': 466.1549974123956}\nISONE:carbon_intensity:2021-04-05T05:30:00+00:00\ncarbon_intensity\n{'generated_emissions_source': 'EGRID_u2018', 'inserted_at': '2021-04-05T05:36:25.068057Z', 'marginal_emissions_source': 'EGRID_u2018', 'marginal_source': 'ISONE:marginal_fuel_mix:2021-04-05T05:30:00+00:00', 'raw_start_date': '2021-04-05T01:29:01-04:00', 'source': 'generated_fuel_mix:ISONE:2021-04-05T05:30:00+00:00', 'unit': 'lbs/MWh'}\nISONE\n2021-04-05T05:30:00+00:00\n{'generated_rate': 534.5622931145987, 'marginal_rate': 466.1549974123956}\nISONE:carbon_intensity:EGRID_u2018_eq:2021-04-05T05:35:00+00:00\ncarbon_intensity\n{'generated_emissions_source': 'EGRID_u2018_eq', 'inserted_at': '2021-04-05T05:36:24.261357Z', 'marginal_emissions_source': 'EGRID_u2018_eq', 'marginal_source': 'ISONE:marginal_fuel_mix:2021-04-05T05:35:00+00:00', 'raw_start_date': '2021-04-05T01:29:01-04:00', 'source': 'generated_fuel_mix:ISONE:2021-04-05T05:35:00+00:00', 'unit': 'lbs/MWh'}\nISONE\n2021-04-05T05:35:00+00:00\n{'generated_rate': 347.33383910159665, 'marginal_rate': 431.84938205402585}\nISONE:carbon_intensity:EGRID_2018_eq:2021-04-05T05:35:00+00:00\ncarbon_intensity\n{'generated_emissions_source': 'EGRID_2018_eq', 'inserted_at': '2021-04-05T05:36:25.192114Z', 'marginal_emissions_source': 'EGRID_2018_eq', 'marginal_source': 'ISONE:marginal_fuel_mix:2021-04-05T05:35:00+00:00', 'raw_start_date': '2021-04-05T01:29:01-04:00', 'source': 'generated_fuel_mix:ISONE:2021-04-05T05:35:00+00:00', 'unit': 'lbs/MWh'}\nISONE\n2021-04-05T05:35:00+00:00\n{'generated_rate': 346.5273569877466, 'marginal_rate': 431.84938205402585}\nISONE:carbon_intensity:EGRID_2018:2021-04-05T05:35:00+00:00\ncarbon_intensity\n{'generated_emissions_source': 'EGRID_2018', 'inserted_at': '2021-04-05T05:36:24.433235Z', 'marginal_emissions_source': 'EGRID_2018', 'marginal_source': 'ISONE:marginal_fuel_mix:2021-04-05T05:35:00+00:00', 'raw_start_date': '2021-04-05T01:29:01-04:00', 'source': 'generated_fuel_mix:ISONE:2021-04-05T05:35:00+00:00', 'unit': 'lbs/MWh'}\nISONE\n2021-04-05T05:35:00+00:00\n{'generated_rate': 528.8888323200958, 'marginal_rate': 466.1549974123956}\nISONE:carbon_intensity:2021-04-05T05:35:00+00:00\ncarbon_intensity\n{'generated_emissions_source': 'EGRID_u2018', 'inserted_at': '2021-04-05T05:36:25.042549Z', 'marginal_emissions_source': 'EGRID_u2018', 'marginal_source': 'ISONE:marginal_fuel_mix:2021-04-05T05:35:00+00:00', 'raw_start_date': '2021-04-05T01:29:01-04:00', 'source': 'generated_fuel_mix:ISONE:2021-04-05T05:35:00+00:00', 'unit': 'lbs/MWh'}\nISONE\n2021-04-05T05:35:00+00:00\n{'generated_rate': 528.5646720460609, 'marginal_rate': 466.1549974123956}\nISONE:carbon_intensity:EGRID_u2018_eq:2021-04-05T05:40:00+00:00\ncarbon_intensity\n{'generated_emissions_source': 'EGRID_u2018_eq', 'inserted_at': '2021-04-05T05:52:27.940591Z', 'marginal_emissions_source': 'EGRID_u2018_eq', 'marginal_source': 'ISONE:marginal_fuel_mix:2021-04-05T05:40:00+00:00', 'raw_start_date': '2021-04-05T01:35:23-04:00', 'source': 'generated_fuel_mix:ISONE:2021-04-05T05:40:00+00:00', 'unit': 'lbs/MWh'}\nISONE\n2021-04-05T05:40:00+00:00\n{'generated_rate': 335.30187832734055, 'marginal_rate': 431.84938205402585}\nISONE:carbon_intensity:EGRID_2018_eq:2021-04-05T05:40:00+00:00\ncarbon_intensity\n{'generated_emissions_source': 'EGRID_2018_eq', 'inserted_at': '2021-04-05T05:52:27.860344Z', 'marginal_emissions_source': 'EGRID_2018_eq', 'marginal_source': 'ISONE:marginal_fuel_mix:2021-04-05T05:40:00+00:00', 'raw_start_date': '2021-04-05T01:35:23-04:00', 'source': 'generated_fuel_mix:ISONE:2021-04-05T05:40:00+00:00', 'unit': 'lbs/MWh'}\nISONE\n2021-04-05T05:40:00+00:00\n{'generated_rate': 333.9976950411735, 'marginal_rate': 431.84938205402585}\nISONE:carbon_intensity:EGRID_2018:2021-04-05T05:40:00+00:00\ncarbon_intensity\n{'generated_emissions_source': 'EGRID_2018', 'inserted_at': '2021-04-05T05:52:27.891701Z', 'marginal_emissions_source': 'EGRID_2018', 'marginal_source': 'ISONE:marginal_fuel_mix:2021-04-05T05:40:00+00:00', 'raw_start_date': '2021-04-05T01:35:23-04:00', 'source': 'generated_fuel_mix:ISONE:2021-04-05T05:40:00+00:00', 'unit': 'lbs/MWh'}\nISONE\n2021-04-05T05:40:00+00:00\n{'generated_rate': 519.3826272229701, 'marginal_rate': 466.1549974123956}\nISONE:carbon_intensity:2021-04-05T05:40:00+00:00\ncarbon_intensity\n{'generated_emissions_source': 'EGRID_u2018', 'inserted_at': '2021-04-05T05:52:27.973014Z', 'marginal_emissions_source': 'EGRID_u2018', 'marginal_source': 'ISONE:marginal_fuel_mix:2021-04-05T05:40:00+00:00', 'raw_start_date': '2021-04-05T01:35:23-04:00', 'source': 'generated_fuel_mix:ISONE:2021-04-05T05:40:00+00:00', 'unit': 'lbs/MWh'}\nISONE\n2021-04-05T05:40:00+00:00\n{'generated_rate': 528.5646720460609, 'marginal_rate': 466.1549974123956}\nISONE:carbon_intensity:EGRID_u2018_eq:2021-04-05T05:45:00+00:00\ncarbon_intensity\n{'generated_emissions_source': 'EGRID_u2018_eq', 'inserted_at': '2021-04-05T05:52:33.119663Z', 'marginal_emissions_source': 'EGRID_u2018_eq', 'marginal_source': 'ISONE:marginal_fuel_mix:2021-04-05T05:45:00+00:00', 'raw_start_date': '2021-04-05T01:35:23-04:00', 'source': 'generated_fuel_mix:ISONE:2021-04-05T05:45:00+00:00', 'unit': 'lbs/MWh'}\nISONE\n2021-04-05T05:45:00+00:00\n{'generated_rate': 335.30187832734055, 'marginal_rate': 431.84938205402585}\nISONE:carbon_intensity:EGRID_2018_eq:2021-04-05T05:45:00+00:00\ncarbon_intensity\n{'generated_emissions_source': 'EGRID_2018_eq', 'inserted_at': '2021-04-05T05:52:33.218231Z', 'marginal_emissions_source': 'EGRID_2018_eq', 'marginal_source': 'ISONE:marginal_fuel_mix:2021-04-05T05:45:00+00:00', 'raw_start_date': '2021-04-05T01:35:23-04:00', 'source': 'generated_fuel_mix:ISONE:2021-04-05T05:45:00+00:00', 'unit': 'lbs/MWh'}\nISONE\n2021-04-05T05:45:00+00:00\n{'generated_rate': 333.9976950411735, 'marginal_rate': 431.84938205402585}\nISONE:carbon_intensity:EGRID_2018:2021-04-05T05:45:00+00:00\ncarbon_intensity\n{'generated_emissions_source': 'EGRID_2018', 'inserted_at': '2021-04-05T05:52:33.233795Z', 'marginal_emissions_source': 'EGRID_2018', 'marginal_source': 'ISONE:marginal_fuel_mix:2021-04-05T05:45:00+00:00', 'raw_start_date': '2021-04-05T01:35:23-04:00', 'source': 'generated_fuel_mix:ISONE:2021-04-05T05:45:00+00:00', 'unit': 'lbs/MWh'}\nISONE\n2021-04-05T05:45:00+00:00\n{'generated_rate': 519.3826272229701, 'marginal_rate': 466.1549974123956}\nISONE:carbon_intensity:2021-04-05T05:45:00+00:00\ncarbon_intensity\n{'generated_emissions_source': 'EGRID_u2018', 'inserted_at': '2021-04-05T05:52:33.186909Z', 'marginal_emissions_source': 'EGRID_u2018', 'marginal_source': 'ISONE:marginal_fuel_mix:2021-04-05T05:45:00+00:00', 'raw_start_date': '2021-04-05T01:35:23-04:00', 'source': 'generated_fuel_mix:ISONE:2021-04-05T05:45:00+00:00', 'unit': 'lbs/MWh'}\nISONE\n2021-04-05T05:45:00+00:00\n{'generated_rate': 528.5646720460609, 'marginal_rate': 466.1549974123956}\nISONE:carbon_intensity:EGRID_u2018_eq:2021-04-05T05:50:00+00:00\ncarbon_intensity\n{'generated_emissions_source': 'EGRID_u2018_eq', 'inserted_at': '2021-04-05T05:52:32.340588Z', 'marginal_emissions_source': 'EGRID_u2018_eq', 'marginal_source': 'ISONE:marginal_fuel_mix:2021-04-05T05:50:00+00:00', 'raw_start_date': '2021-04-05T01:35:23-04:00', 'source': 'generated_fuel_mix:ISONE:2021-04-05T05:50:00+00:00', 'unit': 'lbs/MWh'}\nISONE\n2021-04-05T05:50:00+00:00\n{'generated_rate': 335.30187832734055, 'marginal_rate': 431.84938205402585}\nISONE:carbon_intensity:EGRID_2018_eq:2021-04-05T05:50:00+00:00\ncarbon_intensity\n{'generated_emissions_source': 'EGRID_2018_eq', 'inserted_at': '2021-04-05T05:52:32.545756Z', 'marginal_emissions_source': 'EGRID_2018_eq', 'marginal_source': 'ISONE:marginal_fuel_mix:2021-04-05T05:50:00+00:00', 'raw_start_date': '2021-04-05T01:35:23-04:00', 'source': 'generated_fuel_mix:ISONE:2021-04-05T05:50:00+00:00', 'unit': 'lbs/MWh'}\nISONE\n2021-04-05T05:50:00+00:00\n{'generated_rate': 333.9976950411735, 'marginal_rate': 431.84938205402585}\nISONE:carbon_intensity:EGRID_2018:2021-04-05T05:50:00+00:00\ncarbon_intensity\n{'generated_emissions_source': 'EGRID_2018', 'inserted_at': '2021-04-05T05:52:33.161459Z', 'marginal_emissions_source': 'EGRID_2018', 'marginal_source': 'ISONE:marginal_fuel_mix:2021-04-05T05:50:00+00:00', 'raw_start_date': '2021-04-05T01:35:23-04:00', 'source': 'generated_fuel_mix:ISONE:2021-04-05T05:50:00+00:00', 'unit': 'lbs/MWh'}\nISONE\n2021-04-05T05:50:00+00:00\n{'generated_rate': 519.3826272229701, 'marginal_rate': 466.1549974123956}\nISONE:carbon_intensity:2021-04-05T05:50:00+00:00\ncarbon_intensity\n{'generated_emissions_source': 'EGRID_u2018', 'inserted_at': '2021-04-05T05:52:33.177181Z', 'marginal_emissions_source': 'EGRID_u2018', 'marginal_source': 'ISONE:marginal_fuel_mix:2021-04-05T05:50:00+00:00', 'raw_start_date': '2021-04-05T01:35:23-04:00', 'source': 'generated_fuel_mix:ISONE:2021-04-05T05:50:00+00:00', 'unit': 'lbs/MWh'}\nISONE\n2021-04-05T05:50:00+00:00\n{'generated_rate': 523.6915623238717, 'marginal_rate': 466.1549974123956}\nISONE:carbon_intensity:EGRID_u2018_eq:2021-04-05T05:55:00+00:00\ncarbon_intensity\n{'generated_emissions_source': 'EGRID_u2018_eq', 'inserted_at': '2021-04-05T06:07:24.265248Z', 'marginal_emissions_source': 'EGRID_u2018_eq', 'marginal_source': 'ISONE:marginal_fuel_mix:2021-04-05T05:55:00+00:00', 'raw_start_date': '2021-04-05T01:52:57-04:00', 'source': 'generated_fuel_mix:ISONE:2021-04-05T05:55:00+00:00', 'unit': 'lbs/MWh'}\nISONE\n2021-04-05T05:55:00+00:00\n{'generated_rate': 336.1948397872379, 'marginal_rate': 431.84938205402585}\nISONE:carbon_intensity:EGRID_2018_eq:2021-04-05T05:55:00+00:00\ncarbon_intensity\n{'generated_emissions_source': 'EGRID_2018_eq', 'inserted_at': '2021-04-05T06:07:24.320977Z', 'marginal_emissions_source': 'EGRID_2018_eq', 'marginal_source': 'ISONE:marginal_fuel_mix:2021-04-05T05:55:00+00:00', 'raw_start_date': '2021-04-05T01:52:57-04:00', 'source': 'generated_fuel_mix:ISONE:2021-04-05T05:55:00+00:00', 'unit': 'lbs/MWh'}\nISONE\n2021-04-05T05:55:00+00:00\n{'generated_rate': 335.7800339056404, 'marginal_rate': 431.84938205402585}\nISONE:carbon_intensity:EGRID_2018:2021-04-05T05:55:00+00:00\ncarbon_intensity\n{'generated_emissions_source': 'EGRID_2018', 'inserted_at': '2021-04-05T06:07:24.291081Z', 'marginal_emissions_source': 'EGRID_2018', 'marginal_source': 'ISONE:marginal_fuel_mix:2021-04-05T05:55:00+00:00', 'raw_start_date': '2021-04-05T01:52:57-04:00', 'source': 'generated_fuel_mix:ISONE:2021-04-05T05:55:00+00:00', 'unit': 'lbs/MWh'}\nISONE\n2021-04-05T05:55:00+00:00\n{'generated_rate': 520.779834206319, 'marginal_rate': 466.1549974123956}\nISONE:carbon_intensity:2021-04-05T05:55:00+00:00\ncarbon_intensity\n{'generated_emissions_source': 'EGRID_u2018', 'inserted_at': '2021-04-05T06:07:24.210490Z', 'marginal_emissions_source': 'EGRID_u2018', 'marginal_source': 'ISONE:marginal_fuel_mix:2021-04-05T05:55:00+00:00', 'raw_start_date': '2021-04-05T01:52:57-04:00', 'source': 'generated_fuel_mix:ISONE:2021-04-05T05:55:00+00:00', 'unit': 'lbs/MWh'}\nISONE\n2021-04-05T05:55:00+00:00\n{'generated_rate': 526.9628983456348, 'marginal_rate': 466.1549974123956}\nISONE:carbon_intensity:EGRID_u2018_eq:2021-04-05T06:00:00+00:00\ncarbon_intensity\n{'generated_emissions_source': 'EGRID_u2018_eq', 'inserted_at': '2021-04-05T06:07:24.194097Z', 'marginal_emissions_source': 'EGRID_u2018_eq', 'marginal_source': 'ISONE:marginal_fuel_mix:2021-04-05T06:00:00+00:00', 'raw_start_date': '2021-04-05T01:58:45-04:00', 'source': 'generated_fuel_mix:ISONE:2021-04-05T06:00:00+00:00', 'unit': 'lbs/MWh'}\nISONE\n2021-04-05T06:00:00+00:00\n{'generated_rate': 339.86573314880917, 'marginal_rate': 431.84938205402585}\nISONE:carbon_intensity:EGRID_2018_eq:2021-04-05T06:00:00+00:00\ncarbon_intensity\n{'generated_emissions_source': 'EGRID_2018_eq', 'inserted_at': '2021-04-05T06:07:24.153352Z', 'marginal_emissions_source': 'EGRID_2018_eq', 'marginal_source': 'ISONE:marginal_fuel_mix:2021-04-05T06:00:00+00:00', 'raw_start_date': '2021-04-05T01:58:45-04:00', 'source': 'generated_fuel_mix:ISONE:2021-04-05T06:00:00+00:00', 'unit': 'lbs/MWh'}\nISONE\n2021-04-05T06:00:00+00:00\n{'generated_rate': 339.8636351545991, 'marginal_rate': 431.84938205402585}\nISONE:carbon_intensity:EGRID_2018:2021-04-05T06:00:00+00:00\ncarbon_intensity\n{'generated_emissions_source': 'EGRID_2018', 'inserted_at': '2021-04-05T06:07:24.340271Z', 'marginal_emissions_source': 'EGRID_2018', 'marginal_source': 'ISONE:marginal_fuel_mix:2021-04-05T06:00:00+00:00', 'raw_start_date': '2021-04-05T01:58:45-04:00', 'source': 'generated_fuel_mix:ISONE:2021-04-05T06:00:00+00:00', 'unit': 'lbs/MWh'}\nISONE\n2021-04-05T06:00:00+00:00\n{'generated_rate': 526.9608003514247, 'marginal_rate': 466.1549974123956}\nISONE:carbon_intensity:2021-04-05T06:00:00+00:00\ncarbon_intensity\n{'generated_emissions_source': 'EGRID_u2018', 'inserted_at': '2021-04-05T06:07:24.355971Z', 'marginal_emissions_source': 'EGRID_u2018', 'marginal_source': 'ISONE:marginal_fuel_mix:2021-04-05T06:00:00+00:00', 'raw_start_date': '2021-04-05T01:58:45-04:00', 'source': 'generated_fuel_mix:ISONE:2021-04-05T06:00:00+00:00', 'unit': 'lbs/MWh'}\nISONE\n2021-04-05T06:00:00+00:00\n{'generated_rate': 526.9628983456348, 'marginal_rate': 466.1549974123956}\nISONE:carbon_intensity:EGRID_u2018_eq:2021-04-05T06:05:00+00:00\ncarbon_intensity\n{'generated_emissions_source': 'EGRID_u2018_eq', 'inserted_at': '2021-04-05T06:07:24.791189Z', 'marginal_emissions_source': 'EGRID_u2018_eq', 'marginal_source': 'ISONE:marginal_fuel_mix:2021-04-05T06:05:00+00:00', 'raw_start_date': '2021-04-05T01:58:45-04:00', 'source': 'generated_fuel_mix:ISONE:2021-04-05T06:05:00+00:00', 'unit': 'lbs/MWh'}\nISONE\n2021-04-05T06:05:00+00:00\n{'generated_rate': 339.86573314880917, 'marginal_rate': 431.84938205402585}\nISONE:carbon_intensity:EGRID_2018_eq:2021-04-05T06:05:00+00:00\ncarbon_intensity\n{'generated_emissions_source': 'EGRID_2018_eq', 'inserted_at': '2021-04-05T06:07:24.664056Z', 'marginal_emissions_source': 'EGRID_2018_eq', 'marginal_source': 'ISONE:marginal_fuel_mix:2021-04-05T06:05:00+00:00', 'raw_start_date': '2021-04-05T01:58:45-04:00', 'source': 'generated_fuel_mix:ISONE:2021-04-05T06:05:00+00:00', 'unit': 'lbs/MWh'}\nISONE\n2021-04-05T06:05:00+00:00\n{'generated_rate': 339.8636351545991, 'marginal_rate': 431.84938205402585}\nISONE:carbon_intensity:EGRID_2018:2021-04-05T06:05:00+00:00\ncarbon_intensity\n{'generated_emissions_source': 'EGRID_2018', 'inserted_at': '2021-04-05T06:07:24.654623Z', 'marginal_emissions_source': 'EGRID_2018', 'marginal_source': 'ISONE:marginal_fuel_mix:2021-04-05T06:05:00+00:00', 'raw_start_date': '2021-04-05T01:58:45-04:00', 'source': 'generated_fuel_mix:ISONE:2021-04-05T06:05:00+00:00', 'unit': 'lbs/MWh'}\nISONE\n2021-04-05T06:05:00+00:00\n{'generated_rate': 526.9608003514247, 'marginal_rate': 466.1549974123956}\nISONE:carbon_intensity:2021-04-05T06:05:00+00:00\ncarbon_intensity\n{'generated_emissions_source': 'EGRID_u2018', 'inserted_at': '2021-04-05T06:07:24.811994Z', 'marginal_emissions_source': 'EGRID_u2018', 'marginal_source': 'ISONE:marginal_fuel_mix:2021-04-05T06:05:00+00:00', 'raw_start_date': '2021-04-05T01:58:45-04:00', 'source': 'generated_fuel_mix:ISONE:2021-04-05T06:05:00+00:00', 'unit': 'lbs/MWh'}\nISONE\n2021-04-05T06:05:00+00:00\n{'generated_rate': 537.8573915453175, 'marginal_rate': 466.1549974123956}\nISONE:carbon_intensity:EGRID_u2018_eq:2021-04-05T06:10:00+00:00\ncarbon_intensity\n{'generated_emissions_source': 'EGRID_u2018_eq', 'inserted_at': '2021-04-05T06:21:23.931641Z', 'marginal_emissions_source': 'EGRID_u2018_eq', 'marginal_source': 'ISONE:marginal_fuel_mix:2021-04-05T06:10:00+00:00', 'raw_start_date': '2021-04-05T02:06:47-04:00', 'source': 'generated_fuel_mix:ISONE:2021-04-05T06:10:00+00:00', 'unit': 'lbs/MWh'}\nISONE\n2021-04-05T06:10:00+00:00\n{'generated_rate': 342.1821860009186, 'marginal_rate': 431.84938205402585}\nISONE:carbon_intensity:EGRID_2018_eq:2021-04-05T06:10:00+00:00\ncarbon_intensity\n{'generated_emissions_source': 'EGRID_2018_eq', 'inserted_at': '2021-04-05T06:21:23.602242Z', 'marginal_emissions_source': 'EGRID_2018_eq', 'marginal_source': 'ISONE:marginal_fuel_mix:2021-04-05T06:10:00+00:00', 'raw_start_date': '2021-04-05T02:06:47-04:00', 'source': 'generated_fuel_mix:ISONE:2021-04-05T06:10:00+00:00', 'unit': 'lbs/MWh'}\nISONE\n2021-04-05T06:10:00+00:00\n{'generated_rate': 340.26709782586704, 'marginal_rate': 431.84938205402585}\nISONE:carbon_intensity:EGRID_2018:2021-04-05T06:10:00+00:00\ncarbon_intensity\n{'generated_emissions_source': 'EGRID_2018', 'inserted_at': '2021-04-05T06:21:23.987040Z', 'marginal_emissions_source': 'EGRID_2018', 'marginal_source': 'ISONE:marginal_fuel_mix:2021-04-05T06:10:00+00:00', 'raw_start_date': '2021-04-05T02:06:47-04:00', 'source': 'generated_fuel_mix:ISONE:2021-04-05T06:10:00+00:00', 'unit': 'lbs/MWh'}\nISONE\n2021-04-05T06:10:00+00:00\n{'generated_rate': 524.3682698402897, 'marginal_rate': 466.1549974123956}\nISONE:carbon_intensity:2021-04-05T06:10:00+00:00\ncarbon_intensity\n{'generated_emissions_source': 'EGRID_u2018', 'inserted_at': '2021-04-05T06:21:23.755382Z', 'marginal_emissions_source': 'EGRID_u2018', 'marginal_source': 'ISONE:marginal_fuel_mix:2021-04-05T06:10:00+00:00', 'raw_start_date': '2021-04-05T02:06:47-04:00', 'source': 'generated_fuel_mix:ISONE:2021-04-05T06:10:00+00:00', 'unit': 'lbs/MWh'}\nISONE\n2021-04-05T06:10:00+00:00\n{'generated_rate': 537.8573915453175, 'marginal_rate': 466.1549974123956}\nISONE:carbon_intensity:EGRID_u2018_eq:2021-04-05T06:15:00+00:00\ncarbon_intensity\n{'generated_emissions_source': 'EGRID_u2018_eq', 'inserted_at': '2021-04-05T06:21:22.953549Z', 'marginal_emissions_source': 'EGRID_u2018_eq', 'marginal_source': 'ISONE:marginal_fuel_mix:2021-04-05T06:15:00+00:00', 'raw_start_date': '2021-04-05T02:06:47-04:00', 'source': 'generated_fuel_mix:ISONE:2021-04-05T06:15:00+00:00', 'unit': 'lbs/MWh'}\nISONE\n2021-04-05T06:15:00+00:00\n{'generated_rate': 342.1821860009186, 'marginal_rate': 431.84938205402585}\nISONE:carbon_intensity:EGRID_2018_eq:2021-04-05T06:15:00+00:00\ncarbon_intensity\n{'generated_emissions_source': 'EGRID_2018_eq', 'inserted_at': '2021-04-05T06:21:23.109748Z', 'marginal_emissions_source': 'EGRID_2018_eq', 'marginal_source': 'ISONE:marginal_fuel_mix:2021-04-05T06:15:00+00:00', 'raw_start_date': '2021-04-05T02:06:47-04:00', 'source': 'generated_fuel_mix:ISONE:2021-04-05T06:15:00+00:00', 'unit': 'lbs/MWh'}\nISONE\n2021-04-05T06:15:00+00:00\n{'generated_rate': 340.26709782586704, 'marginal_rate': 431.84938205402585}\nISONE:carbon_intensity:EGRID_2018:2021-04-05T06:15:00+00:00\ncarbon_intensity\n{'generated_emissions_source': 'EGRID_2018', 'inserted_at': '2021-04-05T06:21:22.939652Z', 'marginal_emissions_source': 'EGRID_2018', 'marginal_source': 'ISONE:marginal_fuel_mix:2021-04-05T06:15:00+00:00', 'raw_start_date': '2021-04-05T02:06:47-04:00', 'source': 'generated_fuel_mix:ISONE:2021-04-05T06:15:00+00:00', 'unit': 'lbs/MWh'}\nISONE\n2021-04-05T06:15:00+00:00\n{'generated_rate': 524.3682698402897, 'marginal_rate': 466.1549974123956}\nISONE:carbon_intensity:2021-04-05T06:15:00+00:00\ncarbon_intensity\n{'generated_emissions_source': 'EGRID_u2018', 'inserted_at': '2021-04-05T06:21:22.830906Z', 'marginal_emissions_source': 'EGRID_u2018', 'marginal_source': 'ISONE:marginal_fuel_mix:2021-04-05T06:15:00+00:00', 'raw_start_date': '2021-04-05T02:06:47-04:00', 'source': 'generated_fuel_mix:ISONE:2021-04-05T06:15:00+00:00', 'unit': 'lbs/MWh'}\nISONE\n2021-04-05T06:15:00+00:00\n{'generated_rate': 537.8573915453175, 'marginal_rate': 466.1549974123956}\nISONE:carbon_intensity:EGRID_u2018_eq:2021-04-05T06:20:00+00:00\ncarbon_intensity\n{'generated_emissions_source': 'EGRID_u2018_eq', 'inserted_at': '2021-04-05T06:21:24.125417Z', 'marginal_emissions_source': 'EGRID_u2018_eq', 'marginal_source': 'ISONE:marginal_fuel_mix:2021-04-05T06:20:00+00:00', 'raw_start_date': '2021-04-05T02:06:47-04:00', 'source': 'generated_fuel_mix:ISONE:2021-04-05T06:20:00+00:00', 'unit': 'lbs/MWh'}\nISONE\n2021-04-05T06:20:00+00:00\n{'generated_rate': 342.1821860009186, 'marginal_rate': 431.84938205402585}\nISONE:carbon_intensity:EGRID_2018_eq:2021-04-05T06:20:00+00:00\ncarbon_intensity\n{'generated_emissions_source': 'EGRID_2018_eq', 'inserted_at': '2021-04-05T06:21:23.975395Z', 'marginal_emissions_source': 'EGRID_2018_eq', 'marginal_source': 'ISONE:marginal_fuel_mix:2021-04-05T06:20:00+00:00', 'raw_start_date': '2021-04-05T02:06:47-04:00', 'source': 'generated_fuel_mix:ISONE:2021-04-05T06:20:00+00:00', 'unit': 'lbs/MWh'}\nISONE\n2021-04-05T06:20:00+00:00\n{'generated_rate': 340.26709782586704, 'marginal_rate': 431.84938205402585}\nISONE:carbon_intensity:EGRID_2018:2021-04-05T06:20:00+00:00\ncarbon_intensity\n{'generated_emissions_source': 'EGRID_2018', 'inserted_at': '2021-04-05T06:21:24.914863Z', 'marginal_emissions_source': 'EGRID_2018', 'marginal_source': 'ISONE:marginal_fuel_mix:2021-04-05T06:20:00+00:00', 'raw_start_date': '2021-04-05T02:06:47-04:00', 'source': 'generated_fuel_mix:ISONE:2021-04-05T06:20:00+00:00', 'unit': 'lbs/MWh'}\nISONE\n2021-04-05T06:20:00+00:00\n{'generated_rate': 524.3682698402897, 'marginal_rate': 466.1549974123956}\nISONE:carbon_intensity:2021-04-05T06:20:00+00:00\ncarbon_intensity\n{'generated_emissions_source': 'EGRID_u2018', 'inserted_at': '2021-04-05T06:21:24.678892Z', 'marginal_emissions_source': 'EGRID_u2018', 'marginal_source': 'ISONE:marginal_fuel_mix:2021-04-05T06:20:00+00:00', 'raw_start_date': '2021-04-05T02:06:47-04:00', 'source': 'generated_fuel_mix:ISONE:2021-04-05T06:20:00+00:00', 'unit': 'lbs/MWh'}\nISONE\n2021-04-05T06:20:00+00:00\n{'generated_rate': 535.5403547674855, 'marginal_rate': 466.1549974123956}\nISONE:carbon_intensity:EGRID_u2018_eq:2021-04-05T06:25:00+00:00\ncarbon_intensity\n{'generated_emissions_source': 'EGRID_u2018_eq', 'inserted_at': '2021-04-05T06:38:26.059711Z', 'marginal_emissions_source': 'EGRID_u2018_eq', 'marginal_source': 'ISONE:marginal_fuel_mix:2021-04-05T06:25:00+00:00', 'raw_start_date': '2021-04-05T02:21:04-04:00', 'source': 'generated_fuel_mix:ISONE:2021-04-05T06:25:00+00:00', 'unit': 'lbs/MWh'}\nISONE\n2021-04-05T06:25:00+00:00\n{'generated_rate': 351.4685263825235, 'marginal_rate': 431.84938205402585}\nISONE:carbon_intensity:EGRID_2018_eq:2021-04-05T06:25:00+00:00\ncarbon_intensity\n{'generated_emissions_source': 'EGRID_2018_eq', 'inserted_at': '2021-04-05T06:38:25.656014Z', 'marginal_emissions_source': 'EGRID_2018_eq', 'marginal_source': 'ISONE:marginal_fuel_mix:2021-04-05T06:25:00+00:00', 'raw_start_date': '2021-04-05T02:21:04-04:00', 'source': 'generated_fuel_mix:ISONE:2021-04-05T06:25:00+00:00', 'unit': 'lbs/MWh'}\nISONE\n2021-04-05T06:25:00+00:00\n{'generated_rate': 351.46648074323883, 'marginal_rate': 431.84938205402585}\nISONE:carbon_intensity:EGRID_2018:2021-04-05T06:25:00+00:00\ncarbon_intensity\n{'generated_emissions_source': 'EGRID_2018', 'inserted_at': '2021-04-05T06:38:26.028457Z', 'marginal_emissions_source': 'EGRID_2018', 'marginal_source': 'ISONE:marginal_fuel_mix:2021-04-05T06:25:00+00:00', 'raw_start_date': '2021-04-05T02:21:04-04:00', 'source': 'generated_fuel_mix:ISONE:2021-04-05T06:25:00+00:00', 'unit': 'lbs/MWh'}\nISONE\n2021-04-05T06:25:00+00:00\n{'generated_rate': 535.5383091282009, 'marginal_rate': 466.1549974123956}\nISONE:carbon_intensity:2021-04-05T06:25:00+00:00\ncarbon_intensity\n{'generated_emissions_source': 'EGRID_u2018', 'inserted_at': '2021-04-05T06:38:26.013155Z', 'marginal_emissions_source': 'EGRID_u2018', 'marginal_source': 'ISONE:marginal_fuel_mix:2021-04-05T06:25:00+00:00', 'raw_start_date': '2021-04-05T02:21:04-04:00', 'source': 'generated_fuel_mix:ISONE:2021-04-05T06:25:00+00:00', 'unit': 'lbs/MWh'}\nISONE\n2021-04-05T06:25:00+00:00\n{'generated_rate': 535.5403547674855, 'marginal_rate': 466.1549974123956}\nISONE:carbon_intensity:EGRID_u2018_eq:2021-04-05T06:30:00+00:00\ncarbon_intensity\n{'generated_emissions_source': 'EGRID_u2018_eq', 'inserted_at': '2021-04-05T06:38:25.686900Z', 'marginal_emissions_source': 'EGRID_u2018_eq', 'marginal_source': 'ISONE:marginal_fuel_mix:2021-04-05T06:30:00+00:00', 'raw_start_date': '2021-04-05T02:21:04-04:00', 'source': 'generated_fuel_mix:ISONE:2021-04-05T06:30:00+00:00', 'unit': 'lbs/MWh'}\nISONE\n2021-04-05T06:30:00+00:00\n{'generated_rate': 351.4685263825235, 'marginal_rate': 431.84938205402585}\nISONE:carbon_intensity:EGRID_2018_eq:2021-04-05T06:30:00+00:00\ncarbon_intensity\n{'generated_emissions_source': 'EGRID_2018_eq', 'inserted_at': '2021-04-05T06:38:25.578140Z', 'marginal_emissions_source': 'EGRID_2018_eq', 'marginal_source': 'ISONE:marginal_fuel_mix:2021-04-05T06:30:00+00:00', 'raw_start_date': '2021-04-05T02:21:04-04:00', 'source': 'generated_fuel_mix:ISONE:2021-04-05T06:30:00+00:00', 'unit': 'lbs/MWh'}\nISONE\n2021-04-05T06:30:00+00:00\n{'generated_rate': 351.46648074323883, 'marginal_rate': 431.84938205402585}\nISONE:carbon_intensity:EGRID_2018:2021-04-05T06:30:00+00:00\ncarbon_intensity\n{'generated_emissions_source': 'EGRID_2018', 'inserted_at': '2021-04-05T06:38:25.618205Z', 'marginal_emissions_source': 'EGRID_2018', 'marginal_source': 'ISONE:marginal_fuel_mix:2021-04-05T06:30:00+00:00', 'raw_start_date': '2021-04-05T02:21:04-04:00', 'source': 'generated_fuel_mix:ISONE:2021-04-05T06:30:00+00:00', 'unit': 'lbs/MWh'}\nISONE\n2021-04-05T06:30:00+00:00\n{'generated_rate': 535.5383091282009, 'marginal_rate': 466.1549974123956}\nISONE:carbon_intensity:2021-04-05T06:30:00+00:00\ncarbon_intensity\n{'generated_emissions_source': 'EGRID_u2018', 'inserted_at': '2021-04-05T06:38:25.876242Z', 'marginal_emissions_source': 'EGRID_u2018', 'marginal_source': 'ISONE:marginal_fuel_mix:2021-04-05T06:30:00+00:00', 'raw_start_date': '2021-04-05T02:21:04-04:00', 'source': 'generated_fuel_mix:ISONE:2021-04-05T06:30:00+00:00', 'unit': 'lbs/MWh'}\nISONE\n2021-04-05T06:30:00+00:00\n{'generated_rate': 535.5403547674855, 'marginal_rate': 466.1549974123956}\nISONE:carbon_intensity:EGRID_u2018_eq:2021-04-05T06:35:00+00:00\ncarbon_intensity\n{'generated_emissions_source': 'EGRID_u2018_eq', 'inserted_at': '2021-04-05T06:38:25.405418Z', 'marginal_emissions_source': 'EGRID_u2018_eq', 'marginal_source': 'ISONE:marginal_fuel_mix:2021-04-05T06:35:00+00:00', 'raw_start_date': '2021-04-05T02:21:04-04:00', 'source': 'generated_fuel_mix:ISONE:2021-04-05T06:35:00+00:00', 'unit': 'lbs/MWh'}\nISONE\n2021-04-05T06:35:00+00:00\n{'generated_rate': 351.4685263825235, 'marginal_rate': 431.84938205402585}\nISONE:carbon_intensity:EGRID_2018_eq:2021-04-05T06:35:00+00:00\ncarbon_intensity\n{'generated_emissions_source': 'EGRID_2018_eq', 'inserted_at': '2021-04-05T06:38:25.301414Z', 'marginal_emissions_source': 'EGRID_2018_eq', 'marginal_source': 'ISONE:marginal_fuel_mix:2021-04-05T06:35:00+00:00', 'raw_start_date': '2021-04-05T02:21:04-04:00', 'source': 'generated_fuel_mix:ISONE:2021-04-05T06:35:00+00:00', 'unit': 'lbs/MWh'}\nISONE\n2021-04-05T06:35:00+00:00\n{'generated_rate': 351.46648074323883, 'marginal_rate': 431.84938205402585}\nISONE:carbon_intensity:EGRID_2018:2021-04-05T06:35:00+00:00\ncarbon_intensity\n{'generated_emissions_source': 'EGRID_2018', 'inserted_at': '2021-04-05T06:38:24.791128Z', 'marginal_emissions_source': 'EGRID_2018', 'marginal_source': 'ISONE:marginal_fuel_mix:2021-04-05T06:35:00+00:00', 'raw_start_date': '2021-04-05T02:21:04-04:00', 'source': 'generated_fuel_mix:ISONE:2021-04-05T06:35:00+00:00', 'unit': 'lbs/MWh'}\nISONE\n2021-04-05T06:35:00+00:00\n{'generated_rate': 535.5383091282009, 'marginal_rate': 466.1549974123956}\nISONE:carbon_intensity:2021-04-05T06:35:00+00:00\ncarbon_intensity\n{'generated_emissions_source': 'EGRID_u2018', 'inserted_at': '2021-04-05T06:38:24.818423Z', 'marginal_emissions_source': 'EGRID_u2018', 'marginal_source': 'ISONE:marginal_fuel_mix:2021-04-05T06:35:00+00:00', 'raw_start_date': '2021-04-05T02:21:04-04:00', 'source': 'generated_fuel_mix:ISONE:2021-04-05T06:35:00+00:00', 'unit': 'lbs/MWh'}\nISONE\n2021-04-05T06:35:00+00:00\n{'generated_rate': 533.1794906998555, 'marginal_rate': 466.1549974123956}\nISONE:carbon_intensity:EGRID_u2018_eq:2021-04-05T06:40:00+00:00\ncarbon_intensity\n{'generated_emissions_source': 'EGRID_u2018_eq', 'inserted_at': '2021-04-05T06:48:26.358231Z', 'marginal_emissions_source': 'EGRID_u2018_eq', 'marginal_source': 'ISONE:marginal_fuel_mix:2021-04-05T06:40:00+00:00', 'raw_start_date': '2021-04-05T02:37:42-04:00', 'source': 'generated_fuel_mix:ISONE:2021-04-05T06:40:00+00:00', 'unit': 'lbs/MWh'}\nISONE\n2021-04-05T06:40:00+00:00\n{'generated_rate': 348.01618775917115, 'marginal_rate': 431.84938205402585}\nISONE:carbon_intensity:EGRID_2018_eq:2021-04-05T06:40:00+00:00\ncarbon_intensity\n{'generated_emissions_source': 'EGRID_2018_eq', 'inserted_at': '2021-04-05T06:48:25.792831Z', 'marginal_emissions_source': 'EGRID_2018_eq', 'marginal_source': 'ISONE:marginal_fuel_mix:2021-04-05T06:40:00+00:00', 'raw_start_date': '2021-04-05T02:37:42-04:00', 'source': 'generated_fuel_mix:ISONE:2021-04-05T06:40:00+00:00', 'unit': 'lbs/MWh'}\nISONE\n2021-04-05T06:40:00+00:00\n{'generated_rate': 348.014111422182, 'marginal_rate': 431.84938205402585}\nISONE:carbon_intensity:EGRID_2018:2021-04-05T06:40:00+00:00\ncarbon_intensity\n{'generated_emissions_source': 'EGRID_2018', 'inserted_at': '2021-04-05T06:48:26.243533Z', 'marginal_emissions_source': 'EGRID_2018', 'marginal_source': 'ISONE:marginal_fuel_mix:2021-04-05T06:40:00+00:00', 'raw_start_date': '2021-04-05T02:37:42-04:00', 'source': 'generated_fuel_mix:ISONE:2021-04-05T06:40:00+00:00', 'unit': 'lbs/MWh'}\nISONE\n2021-04-05T06:40:00+00:00\n{'generated_rate': 533.1774143628662, 'marginal_rate': 466.1549974123956}\nISONE:carbon_intensity:2021-04-05T06:40:00+00:00\ncarbon_intensity\n{'generated_emissions_source': 'EGRID_u2018', 'inserted_at': '2021-04-05T06:48:26.072314Z', 'marginal_emissions_source': 'EGRID_u2018', 'marginal_source': 'ISONE:marginal_fuel_mix:2021-04-05T06:40:00+00:00', 'raw_start_date': '2021-04-05T02:37:42-04:00', 'source': 'generated_fuel_mix:ISONE:2021-04-05T06:40:00+00:00', 'unit': 'lbs/MWh'}\nISONE\n2021-04-05T06:40:00+00:00\n{'generated_rate': 533.1794906998555, 'marginal_rate': 466.1549974123956}\nISONE:carbon_intensity:EGRID_u2018_eq:2021-04-05T06:45:00+00:00\ncarbon_intensity\n{'generated_emissions_source': 'EGRID_u2018_eq', 'inserted_at': '2021-04-05T06:48:23.327224Z', 'marginal_emissions_source': 'EGRID_u2018_eq', 'marginal_source': 'ISONE:marginal_fuel_mix:2021-04-05T06:45:00+00:00', 'raw_start_date': '2021-04-05T02:37:42-04:00', 'source': 'generated_fuel_mix:ISONE:2021-04-05T06:45:00+00:00', 'unit': 'lbs/MWh'}\nISONE\n2021-04-05T06:45:00+00:00\n{'generated_rate': 348.01618775917115, 'marginal_rate': 431.84938205402585}\nISONE:carbon_intensity:EGRID_2018_eq:2021-04-05T06:45:00+00:00\ncarbon_intensity\n{'generated_emissions_source': 'EGRID_2018_eq', 'inserted_at': '2021-04-05T06:48:23.620095Z', 'marginal_emissions_source': 'EGRID_2018_eq', 'marginal_source': 'ISONE:marginal_fuel_mix:2021-04-05T06:45:00+00:00', 'raw_start_date': '2021-04-05T02:37:42-04:00', 'source': 'generated_fuel_mix:ISONE:2021-04-05T06:45:00+00:00', 'unit': 'lbs/MWh'}\nISONE\n2021-04-05T06:45:00+00:00\n{'generated_rate': 348.014111422182, 'marginal_rate': 431.84938205402585}\nISONE:carbon_intensity:EGRID_2018:2021-04-05T06:45:00+00:00\ncarbon_intensity\n{'generated_emissions_source': 'EGRID_2018', 'inserted_at': '2021-04-05T06:48:23.421304Z', 'marginal_emissions_source': 'EGRID_2018', 'marginal_source': 'ISONE:marginal_fuel_mix:2021-04-05T06:45:00+00:00', 'raw_start_date': '2021-04-05T02:37:42-04:00', 'source': 'generated_fuel_mix:ISONE:2021-04-05T06:45:00+00:00', 'unit': 'lbs/MWh'}\nISONE\n2021-04-05T06:45:00+00:00\n{'generated_rate': 533.1774143628662, 'marginal_rate': 466.1549974123956}\nISONE:carbon_intensity:2021-04-05T06:45:00+00:00\ncarbon_intensity\n{'generated_emissions_source': 'EGRID_u2018', 'inserted_at': '2021-04-05T06:48:23.434518Z', 'marginal_emissions_source': 'EGRID_u2018', 'marginal_source': 'ISONE:marginal_fuel_mix:2021-04-05T06:45:00+00:00', 'raw_start_date': '2021-04-05T02:37:42-04:00', 'source': 'generated_fuel_mix:ISONE:2021-04-05T06:45:00+00:00', 'unit': 'lbs/MWh'}\nISONE\n2021-04-05T06:45:00+00:00\n{}\n",
          "output_type": "stream"
        }
      ]
    },
    {
      "cell_type": "code",
      "metadata": {
        "tags": [],
        "cell_id": "00002-790b5231-79cc-4a94-b8c8-f14f781e303d",
        "deepnote_to_be_reexecuted": false,
        "source_hash": "4e6cbb01",
        "execution_millis": 17,
        "execution_start": 1617669183741,
        "deepnote_cell_type": "code"
      },
      "source": "print(events) #array of region events\nprint(len(events))\ntype(events) # list of many dictionaries",
      "execution_count": null,
      "outputs": [
        {
          "name": "stdout",
          "text": "[{'data': {'generated_rate': 548.3970069497799, 'marginal_rate': 466.1549974123956}, 'dedup_key': 'ISONE:carbon_intensity:EGRID_u2018_eq:2021-04-05T00:35:00+00:00', 'event_type': 'carbon_intensity', 'meta': {'generated_emissions_source': 'EGRID_u2018_eq', 'inserted_at': '2021-04-05T00:40:22.281735Z', 'marginal_emissions_source': 'EGRID_u2018_eq', 'marginal_source': 'ISONE:marginal_fuel_mix:2021-04-05T00:35:00+00:00', 'raw_start_date': '2021-04-04T20:22:31-04:00', 'source': 'generated_fuel_mix:ISONE:2021-04-05T00:35:00+00:00', 'unit': 'lbs/MWh'}, 'region': 'ISONE', 'start_date': '2021-04-05T00:35:00+00:00'}, {'data': {'generated_rate': 391.13172637339505, 'marginal_rate': 431.84938205402585}, 'dedup_key': 'ISONE:carbon_intensity:EGRID_2018_eq:2021-04-05T00:35:00+00:00', 'event_type': 'carbon_intensity', 'meta': {'generated_emissions_source': 'EGRID_2018_eq', 'inserted_at': '2021-04-05T00:40:22.775525Z', 'marginal_emissions_source': 'EGRID_2018_eq', 'marginal_source': 'ISONE:marginal_fuel_mix:2021-04-05T00:35:00+00:00', 'raw_start_date': '2021-04-04T20:22:31-04:00', 'source': 'generated_fuel_mix:ISONE:2021-04-05T00:35:00+00:00', 'unit': 'lbs/MWh'}, 'region': 'ISONE', 'start_date': '2021-04-05T00:35:00+00:00'}, {'data': {'generated_rate': 390.9192931628173, 'marginal_rate': 431.84938205402585}, 'dedup_key': 'ISONE:carbon_intensity:EGRID_2018:2021-04-05T00:35:00+00:00', 'event_type': 'carbon_intensity', 'meta': {'generated_emissions_source': 'EGRID_2018', 'inserted_at': '2021-04-05T00:40:22.555941Z', 'marginal_emissions_source': 'EGRID_2018', 'marginal_source': 'ISONE:marginal_fuel_mix:2021-04-05T00:35:00+00:00', 'raw_start_date': '2021-04-04T20:22:31-04:00', 'source': 'generated_fuel_mix:ISONE:2021-04-05T00:35:00+00:00', 'unit': 'lbs/MWh'}, 'region': 'ISONE', 'start_date': '2021-04-05T00:35:00+00:00'}, {'data': {'generated_rate': 546.9187193807777, 'marginal_rate': 466.1549974123956}, 'dedup_key': 'ISONE:carbon_intensity:2021-04-05T00:35:00+00:00', 'event_type': 'carbon_intensity', 'meta': {'generated_emissions_source': 'EGRID_u2018', 'inserted_at': '2021-04-05T00:40:22.433411Z', 'marginal_emissions_source': 'EGRID_u2018', 'marginal_source': 'ISONE:marginal_fuel_mix:2021-04-05T00:35:00+00:00', 'raw_start_date': '2021-04-04T20:22:31-04:00', 'source': 'generated_fuel_mix:ISONE:2021-04-05T00:35:00+00:00', 'unit': 'lbs/MWh'}, 'region': 'ISONE', 'start_date': '2021-04-05T00:35:00+00:00'}, {'data': {'generated_rate': 547.6224497624404, 'marginal_rate': 466.1549974123956}, 'dedup_key': 'ISONE:carbon_intensity:EGRID_u2018_eq:2021-04-05T00:40:00+00:00', 'event_type': 'carbon_intensity', 'meta': {'generated_emissions_source': 'EGRID_u2018_eq', 'inserted_at': '2021-04-05T00:56:22.782068Z', 'marginal_emissions_source': 'EGRID_u2018_eq', 'marginal_source': 'ISONE:marginal_fuel_mix:2021-04-05T00:40:00+00:00', 'raw_start_date': '2021-04-04T20:39:42-04:00', 'source': 'generated_fuel_mix:ISONE:2021-04-05T00:40:00+00:00', 'unit': 'lbs/MWh'}, 'region': 'ISONE', 'start_date': '2021-04-05T00:40:00+00:00'}, {'data': {'generated_rate': 391.4876585909576, 'marginal_rate': 431.84938205402585}, 'dedup_key': 'ISONE:carbon_intensity:EGRID_2018_eq:2021-04-05T00:40:00+00:00', 'event_type': 'carbon_intensity', 'meta': {'generated_emissions_source': 'EGRID_2018_eq', 'inserted_at': '2021-04-05T00:56:22.721275Z', 'marginal_emissions_source': 'EGRID_2018_eq', 'marginal_source': 'ISONE:marginal_fuel_mix:2021-04-05T00:40:00+00:00', 'raw_start_date': '2021-04-04T20:39:42-04:00', 'source': 'generated_fuel_mix:ISONE:2021-04-05T00:40:00+00:00', 'unit': 'lbs/MWh'}, 'region': 'ISONE', 'start_date': '2021-04-05T00:40:00+00:00'}, {'data': {'generated_rate': 391.48453699020706, 'marginal_rate': 431.84938205402585}, 'dedup_key': 'ISONE:carbon_intensity:EGRID_2018:2021-04-05T00:40:00+00:00', 'event_type': 'carbon_intensity', 'meta': {'generated_emissions_source': 'EGRID_2018', 'inserted_at': '2021-04-05T00:56:22.691699Z', 'marginal_emissions_source': 'EGRID_2018', 'marginal_source': 'ISONE:marginal_fuel_mix:2021-04-05T00:40:00+00:00', 'raw_start_date': '2021-04-04T20:39:42-04:00', 'source': 'generated_fuel_mix:ISONE:2021-04-05T00:40:00+00:00', 'unit': 'lbs/MWh'}, 'region': 'ISONE', 'start_date': '2021-04-05T00:40:00+00:00'}, {'data': {'generated_rate': 547.61932816169, 'marginal_rate': 466.1549974123956}, 'dedup_key': 'ISONE:carbon_intensity:2021-04-05T00:40:00+00:00', 'event_type': 'carbon_intensity', 'meta': {'generated_emissions_source': 'EGRID_u2018', 'inserted_at': '2021-04-05T00:56:22.651737Z', 'marginal_emissions_source': 'EGRID_u2018', 'marginal_source': 'ISONE:marginal_fuel_mix:2021-04-05T00:40:00+00:00', 'raw_start_date': '2021-04-04T20:39:42-04:00', 'source': 'generated_fuel_mix:ISONE:2021-04-05T00:40:00+00:00', 'unit': 'lbs/MWh'}, 'region': 'ISONE', 'start_date': '2021-04-05T00:40:00+00:00'}, {'data': {'generated_rate': 547.6224497624404, 'marginal_rate': 466.1549974123956}, 'dedup_key': 'ISONE:carbon_intensity:EGRID_u2018_eq:2021-04-05T00:45:00+00:00', 'event_type': 'carbon_intensity', 'meta': {'generated_emissions_source': 'EGRID_u2018_eq', 'inserted_at': '2021-04-05T00:56:22.748811Z', 'marginal_emissions_source': 'EGRID_u2018_eq', 'marginal_source': 'ISONE:marginal_fuel_mix:2021-04-05T00:45:00+00:00', 'raw_start_date': '2021-04-04T20:39:42-04:00', 'source': 'generated_fuel_mix:ISONE:2021-04-05T00:45:00+00:00', 'unit': 'lbs/MWh'}, 'region': 'ISONE', 'start_date': '2021-04-05T00:45:00+00:00'}, {'data': {'generated_rate': 391.4876585909576, 'marginal_rate': 431.84938205402585}, 'dedup_key': 'ISONE:carbon_intensity:EGRID_2018_eq:2021-04-05T00:45:00+00:00', 'event_type': 'carbon_intensity', 'meta': {'generated_emissions_source': 'EGRID_2018_eq', 'inserted_at': '2021-04-05T00:56:22.732460Z', 'marginal_emissions_source': 'EGRID_2018_eq', 'marginal_source': 'ISONE:marginal_fuel_mix:2021-04-05T00:45:00+00:00', 'raw_start_date': '2021-04-04T20:39:42-04:00', 'source': 'generated_fuel_mix:ISONE:2021-04-05T00:45:00+00:00', 'unit': 'lbs/MWh'}, 'region': 'ISONE', 'start_date': '2021-04-05T00:45:00+00:00'}, {'data': {'generated_rate': 391.48453699020706, 'marginal_rate': 431.84938205402585}, 'dedup_key': 'ISONE:carbon_intensity:EGRID_2018:2021-04-05T00:45:00+00:00', 'event_type': 'carbon_intensity', 'meta': {'generated_emissions_source': 'EGRID_2018', 'inserted_at': '2021-04-05T00:56:22.884072Z', 'marginal_emissions_source': 'EGRID_2018', 'marginal_source': 'ISONE:marginal_fuel_mix:2021-04-05T00:45:00+00:00', 'raw_start_date': '2021-04-04T20:39:42-04:00', 'source': 'generated_fuel_mix:ISONE:2021-04-05T00:45:00+00:00', 'unit': 'lbs/MWh'}, 'region': 'ISONE', 'start_date': '2021-04-05T00:45:00+00:00'}, {'data': {'generated_rate': 547.61932816169, 'marginal_rate': 466.1549974123956}, 'dedup_key': 'ISONE:carbon_intensity:2021-04-05T00:45:00+00:00', 'event_type': 'carbon_intensity', 'meta': {'generated_emissions_source': 'EGRID_u2018', 'inserted_at': '2021-04-05T00:56:22.798657Z', 'marginal_emissions_source': 'EGRID_u2018', 'marginal_source': 'ISONE:marginal_fuel_mix:2021-04-05T00:45:00+00:00', 'raw_start_date': '2021-04-04T20:39:42-04:00', 'source': 'generated_fuel_mix:ISONE:2021-04-05T00:45:00+00:00', 'unit': 'lbs/MWh'}, 'region': 'ISONE', 'start_date': '2021-04-05T00:45:00+00:00'}, {'data': {'generated_rate': 547.6224497624404, 'marginal_rate': 466.1549974123956}, 'dedup_key': 'ISONE:carbon_intensity:EGRID_u2018_eq:2021-04-05T00:50:00+00:00', 'event_type': 'carbon_intensity', 'meta': {'generated_emissions_source': 'EGRID_u2018_eq', 'inserted_at': '2021-04-05T00:56:23.025805Z', 'marginal_emissions_source': 'EGRID_u2018_eq', 'marginal_source': 'ISONE:marginal_fuel_mix:2021-04-05T00:50:00+00:00', 'raw_start_date': '2021-04-04T20:39:42-04:00', 'source': 'generated_fuel_mix:ISONE:2021-04-05T00:50:00+00:00', 'unit': 'lbs/MWh'}, 'region': 'ISONE', 'start_date': '2021-04-05T00:50:00+00:00'}, {'data': {'generated_rate': 391.4876585909576, 'marginal_rate': 431.84938205402585}, 'dedup_key': 'ISONE:carbon_intensity:EGRID_2018_eq:2021-04-05T00:50:00+00:00', 'event_type': 'carbon_intensity', 'meta': {'generated_emissions_source': 'EGRID_2018_eq', 'inserted_at': '2021-04-05T00:56:23.056198Z', 'marginal_emissions_source': 'EGRID_2018_eq', 'marginal_source': 'ISONE:marginal_fuel_mix:2021-04-05T00:50:00+00:00', 'raw_start_date': '2021-04-04T20:39:42-04:00', 'source': 'generated_fuel_mix:ISONE:2021-04-05T00:50:00+00:00', 'unit': 'lbs/MWh'}, 'region': 'ISONE', 'start_date': '2021-04-05T00:50:00+00:00'}, {'data': {'generated_rate': 391.48453699020706, 'marginal_rate': 431.84938205402585}, 'dedup_key': 'ISONE:carbon_intensity:EGRID_2018:2021-04-05T00:50:00+00:00', 'event_type': 'carbon_intensity', 'meta': {'generated_emissions_source': 'EGRID_2018', 'inserted_at': '2021-04-05T00:56:23.046556Z', 'marginal_emissions_source': 'EGRID_2018', 'marginal_source': 'ISONE:marginal_fuel_mix:2021-04-05T00:50:00+00:00', 'raw_start_date': '2021-04-04T20:39:42-04:00', 'source': 'generated_fuel_mix:ISONE:2021-04-05T00:50:00+00:00', 'unit': 'lbs/MWh'}, 'region': 'ISONE', 'start_date': '2021-04-05T00:50:00+00:00'}, {'data': {'generated_rate': 547.61932816169, 'marginal_rate': 466.1549974123956}, 'dedup_key': 'ISONE:carbon_intensity:2021-04-05T00:50:00+00:00', 'event_type': 'carbon_intensity', 'meta': {'generated_emissions_source': 'EGRID_u2018', 'inserted_at': '2021-04-05T00:56:23.049644Z', 'marginal_emissions_source': 'EGRID_u2018', 'marginal_source': 'ISONE:marginal_fuel_mix:2021-04-05T00:50:00+00:00', 'raw_start_date': '2021-04-04T20:39:42-04:00', 'source': 'generated_fuel_mix:ISONE:2021-04-05T00:50:00+00:00', 'unit': 'lbs/MWh'}, 'region': 'ISONE', 'start_date': '2021-04-05T00:50:00+00:00'}, {'data': {'generated_rate': 547.6224497624404, 'marginal_rate': 466.1549974123956}, 'dedup_key': 'ISONE:carbon_intensity:EGRID_u2018_eq:2021-04-05T00:55:00+00:00', 'event_type': 'carbon_intensity', 'meta': {'generated_emissions_source': 'EGRID_u2018_eq', 'inserted_at': '2021-04-05T00:56:23.231622Z', 'marginal_emissions_source': 'EGRID_u2018_eq', 'marginal_source': 'ISONE:marginal_fuel_mix:2021-04-05T00:55:00+00:00', 'raw_start_date': '2021-04-04T20:39:42-04:00', 'source': 'generated_fuel_mix:ISONE:2021-04-05T00:55:00+00:00', 'unit': 'lbs/MWh'}, 'region': 'ISONE', 'start_date': '2021-04-05T00:55:00+00:00'}, {'data': {'generated_rate': 391.4876585909576, 'marginal_rate': 431.84938205402585}, 'dedup_key': 'ISONE:carbon_intensity:EGRID_2018_eq:2021-04-05T00:55:00+00:00', 'event_type': 'carbon_intensity', 'meta': {'generated_emissions_source': 'EGRID_2018_eq', 'inserted_at': '2021-04-05T00:56:23.177777Z', 'marginal_emissions_source': 'EGRID_2018_eq', 'marginal_source': 'ISONE:marginal_fuel_mix:2021-04-05T00:55:00+00:00', 'raw_start_date': '2021-04-04T20:39:42-04:00', 'source': 'generated_fuel_mix:ISONE:2021-04-05T00:55:00+00:00', 'unit': 'lbs/MWh'}, 'region': 'ISONE', 'start_date': '2021-04-05T00:55:00+00:00'}, {'data': {'generated_rate': 391.48453699020706, 'marginal_rate': 431.84938205402585}, 'dedup_key': 'ISONE:carbon_intensity:EGRID_2018:2021-04-05T00:55:00+00:00', 'event_type': 'carbon_intensity', 'meta': {'generated_emissions_source': 'EGRID_2018', 'inserted_at': '2021-04-05T00:56:23.258471Z', 'marginal_emissions_source': 'EGRID_2018', 'marginal_source': 'ISONE:marginal_fuel_mix:2021-04-05T00:55:00+00:00', 'raw_start_date': '2021-04-04T20:39:42-04:00', 'source': 'generated_fuel_mix:ISONE:2021-04-05T00:55:00+00:00', 'unit': 'lbs/MWh'}, 'region': 'ISONE', 'start_date': '2021-04-05T00:55:00+00:00'}, {'data': {'generated_rate': 547.61932816169, 'marginal_rate': 466.1549974123956}, 'dedup_key': 'ISONE:carbon_intensity:2021-04-05T00:55:00+00:00', 'event_type': 'carbon_intensity', 'meta': {'generated_emissions_source': 'EGRID_u2018', 'inserted_at': '2021-04-05T00:56:23.175709Z', 'marginal_emissions_source': 'EGRID_u2018', 'marginal_source': 'ISONE:marginal_fuel_mix:2021-04-05T00:55:00+00:00', 'raw_start_date': '2021-04-04T20:39:42-04:00', 'source': 'generated_fuel_mix:ISONE:2021-04-05T00:55:00+00:00', 'unit': 'lbs/MWh'}, 'region': 'ISONE', 'start_date': '2021-04-05T00:55:00+00:00'}, {'data': {'generated_rate': 546.0230035827427, 'marginal_rate': 466.1549974123956}, 'dedup_key': 'ISONE:carbon_intensity:EGRID_u2018_eq:2021-04-05T01:00:00+00:00', 'event_type': 'carbon_intensity', 'meta': {'generated_emissions_source': 'EGRID_u2018_eq', 'inserted_at': '2021-04-05T01:11:23.862756Z', 'marginal_emissions_source': 'EGRID_u2018_eq', 'marginal_source': 'ISONE:marginal_fuel_mix:2021-04-05T01:00:00+00:00', 'raw_start_date': '2021-04-04T20:55:59-04:00', 'source': 'generated_fuel_mix:ISONE:2021-04-05T01:00:00+00:00', 'unit': 'lbs/MWh'}, 'region': 'ISONE', 'start_date': '2021-04-05T01:00:00+00:00'}, {'data': {'generated_rate': 387.3938447270831, 'marginal_rate': 431.84938205402585}, 'dedup_key': 'ISONE:carbon_intensity:EGRID_2018_eq:2021-04-05T01:00:00+00:00', 'event_type': 'carbon_intensity', 'meta': {'generated_emissions_source': 'EGRID_2018_eq', 'inserted_at': '2021-04-05T01:11:23.611551Z', 'marginal_emissions_source': 'EGRID_2018_eq', 'marginal_source': 'ISONE:marginal_fuel_mix:2021-04-05T01:00:00+00:00', 'raw_start_date': '2021-04-04T20:55:59-04:00', 'source': 'generated_fuel_mix:ISONE:2021-04-05T01:00:00+00:00', 'unit': 'lbs/MWh'}, 'region': 'ISONE', 'start_date': '2021-04-05T01:00:00+00:00'}, {'data': {'generated_rate': 387.39075104826264, 'marginal_rate': 431.84938205402585}, 'dedup_key': 'ISONE:carbon_intensity:EGRID_2018:2021-04-05T01:00:00+00:00', 'event_type': 'carbon_intensity', 'meta': {'generated_emissions_source': 'EGRID_2018', 'inserted_at': '2021-04-05T01:11:23.997181Z', 'marginal_emissions_source': 'EGRID_2018', 'marginal_source': 'ISONE:marginal_fuel_mix:2021-04-05T01:00:00+00:00', 'raw_start_date': '2021-04-04T20:55:59-04:00', 'source': 'generated_fuel_mix:ISONE:2021-04-05T01:00:00+00:00', 'unit': 'lbs/MWh'}, 'region': 'ISONE', 'start_date': '2021-04-05T01:00:00+00:00'}, {'data': {'generated_rate': 546.0199099039224, 'marginal_rate': 466.1549974123956}, 'dedup_key': 'ISONE:carbon_intensity:2021-04-05T01:00:00+00:00', 'event_type': 'carbon_intensity', 'meta': {'generated_emissions_source': 'EGRID_u2018', 'inserted_at': '2021-04-05T01:11:23.759981Z', 'marginal_emissions_source': 'EGRID_u2018', 'marginal_source': 'ISONE:marginal_fuel_mix:2021-04-05T01:00:00+00:00', 'raw_start_date': '2021-04-04T20:55:59-04:00', 'source': 'generated_fuel_mix:ISONE:2021-04-05T01:00:00+00:00', 'unit': 'lbs/MWh'}, 'region': 'ISONE', 'start_date': '2021-04-05T01:00:00+00:00'}, {'data': {'generated_rate': 546.0230035827427, 'marginal_rate': 466.1549974123956}, 'dedup_key': 'ISONE:carbon_intensity:EGRID_u2018_eq:2021-04-05T01:05:00+00:00', 'event_type': 'carbon_intensity', 'meta': {'generated_emissions_source': 'EGRID_u2018_eq', 'inserted_at': '2021-04-05T01:11:23.640926Z', 'marginal_emissions_source': 'EGRID_u2018_eq', 'marginal_source': 'ISONE:marginal_fuel_mix:2021-04-05T01:05:00+00:00', 'raw_start_date': '2021-04-04T20:55:59-04:00', 'source': 'generated_fuel_mix:ISONE:2021-04-05T01:05:00+00:00', 'unit': 'lbs/MWh'}, 'region': 'ISONE', 'start_date': '2021-04-05T01:05:00+00:00'}, {'data': {'generated_rate': 387.3938447270831, 'marginal_rate': 431.84938205402585}, 'dedup_key': 'ISONE:carbon_intensity:EGRID_2018_eq:2021-04-05T01:05:00+00:00', 'event_type': 'carbon_intensity', 'meta': {'generated_emissions_source': 'EGRID_2018_eq', 'inserted_at': '2021-04-05T01:11:23.894124Z', 'marginal_emissions_source': 'EGRID_2018_eq', 'marginal_source': 'ISONE:marginal_fuel_mix:2021-04-05T01:05:00+00:00', 'raw_start_date': '2021-04-04T20:55:59-04:00', 'source': 'generated_fuel_mix:ISONE:2021-04-05T01:05:00+00:00', 'unit': 'lbs/MWh'}, 'region': 'ISONE', 'start_date': '2021-04-05T01:05:00+00:00'}, {'data': {'generated_rate': 387.39075104826264, 'marginal_rate': 431.84938205402585}, 'dedup_key': 'ISONE:carbon_intensity:EGRID_2018:2021-04-05T01:05:00+00:00', 'event_type': 'carbon_intensity', 'meta': {'generated_emissions_source': 'EGRID_2018', 'inserted_at': '2021-04-05T01:11:23.623392Z', 'marginal_emissions_source': 'EGRID_2018', 'marginal_source': 'ISONE:marginal_fuel_mix:2021-04-05T01:05:00+00:00', 'raw_start_date': '2021-04-04T20:55:59-04:00', 'source': 'generated_fuel_mix:ISONE:2021-04-05T01:05:00+00:00', 'unit': 'lbs/MWh'}, 'region': 'ISONE', 'start_date': '2021-04-05T01:05:00+00:00'}, {'data': {'generated_rate': 546.0199099039224, 'marginal_rate': 466.1549974123956}, 'dedup_key': 'ISONE:carbon_intensity:2021-04-05T01:05:00+00:00', 'event_type': 'carbon_intensity', 'meta': {'generated_emissions_source': 'EGRID_u2018', 'inserted_at': '2021-04-05T01:11:23.838978Z', 'marginal_emissions_source': 'EGRID_u2018', 'marginal_source': 'ISONE:marginal_fuel_mix:2021-04-05T01:05:00+00:00', 'raw_start_date': '2021-04-04T20:55:59-04:00', 'source': 'generated_fuel_mix:ISONE:2021-04-05T01:05:00+00:00', 'unit': 'lbs/MWh'}, 'region': 'ISONE', 'start_date': '2021-04-05T01:05:00+00:00'}, {'data': {'generated_rate': 546.0230035827427, 'marginal_rate': 466.1549974123956}, 'dedup_key': 'ISONE:carbon_intensity:EGRID_u2018_eq:2021-04-05T01:10:00+00:00', 'event_type': 'carbon_intensity', 'meta': {'generated_emissions_source': 'EGRID_u2018_eq', 'inserted_at': '2021-04-05T01:11:23.440844Z', 'marginal_emissions_source': 'EGRID_u2018_eq', 'marginal_source': 'ISONE:marginal_fuel_mix:2021-04-05T01:10:00+00:00', 'raw_start_date': '2021-04-04T20:55:59-04:00', 'source': 'generated_fuel_mix:ISONE:2021-04-05T01:10:00+00:00', 'unit': 'lbs/MWh'}, 'region': 'ISONE', 'start_date': '2021-04-05T01:10:00+00:00'}, {'data': {'generated_rate': 387.3938447270831, 'marginal_rate': 431.84938205402585}, 'dedup_key': 'ISONE:carbon_intensity:EGRID_2018_eq:2021-04-05T01:10:00+00:00', 'event_type': 'carbon_intensity', 'meta': {'generated_emissions_source': 'EGRID_2018_eq', 'inserted_at': '2021-04-05T01:11:23.643375Z', 'marginal_emissions_source': 'EGRID_2018_eq', 'marginal_source': 'ISONE:marginal_fuel_mix:2021-04-05T01:10:00+00:00', 'raw_start_date': '2021-04-04T20:55:59-04:00', 'source': 'generated_fuel_mix:ISONE:2021-04-05T01:10:00+00:00', 'unit': 'lbs/MWh'}, 'region': 'ISONE', 'start_date': '2021-04-05T01:10:00+00:00'}, {'data': {'generated_rate': 387.39075104826264, 'marginal_rate': 431.84938205402585}, 'dedup_key': 'ISONE:carbon_intensity:EGRID_2018:2021-04-05T01:10:00+00:00', 'event_type': 'carbon_intensity', 'meta': {'generated_emissions_source': 'EGRID_2018', 'inserted_at': '2021-04-05T01:11:23.545263Z', 'marginal_emissions_source': 'EGRID_2018', 'marginal_source': 'ISONE:marginal_fuel_mix:2021-04-05T01:10:00+00:00', 'raw_start_date': '2021-04-04T20:55:59-04:00', 'source': 'generated_fuel_mix:ISONE:2021-04-05T01:10:00+00:00', 'unit': 'lbs/MWh'}, 'region': 'ISONE', 'start_date': '2021-04-05T01:10:00+00:00'}, {'data': {'generated_rate': 546.0199099039224, 'marginal_rate': 466.1549974123956}, 'dedup_key': 'ISONE:carbon_intensity:2021-04-05T01:10:00+00:00', 'event_type': 'carbon_intensity', 'meta': {'generated_emissions_source': 'EGRID_u2018', 'inserted_at': '2021-04-05T01:11:23.521942Z', 'marginal_emissions_source': 'EGRID_u2018', 'marginal_source': 'ISONE:marginal_fuel_mix:2021-04-05T01:10:00+00:00', 'raw_start_date': '2021-04-04T20:55:59-04:00', 'source': 'generated_fuel_mix:ISONE:2021-04-05T01:10:00+00:00', 'unit': 'lbs/MWh'}, 'region': 'ISONE', 'start_date': '2021-04-05T01:10:00+00:00'}, {'data': {'generated_rate': 550.0643583303764, 'marginal_rate': 466.1549974123956}, 'dedup_key': 'ISONE:carbon_intensity:EGRID_u2018_eq:2021-04-05T01:15:00+00:00', 'event_type': 'carbon_intensity', 'meta': {'generated_emissions_source': 'EGRID_u2018_eq', 'inserted_at': '2021-04-05T01:22:25.649288Z', 'marginal_emissions_source': 'EGRID_u2018_eq', 'marginal_source': 'ISONE:marginal_fuel_mix:2021-04-05T01:15:00+00:00', 'raw_start_date': '2021-04-04T21:10:14-04:00', 'source': 'generated_fuel_mix:ISONE:2021-04-05T01:15:00+00:00', 'unit': 'lbs/MWh'}, 'region': 'ISONE', 'start_date': '2021-04-05T01:15:00+00:00'}, {'data': {'generated_rate': 387.8147811642397, 'marginal_rate': 431.84938205402585}, 'dedup_key': 'ISONE:carbon_intensity:EGRID_2018_eq:2021-04-05T01:15:00+00:00', 'event_type': 'carbon_intensity', 'meta': {'generated_emissions_source': 'EGRID_2018_eq', 'inserted_at': '2021-04-05T01:22:25.446343Z', 'marginal_emissions_source': 'EGRID_2018_eq', 'marginal_source': 'ISONE:marginal_fuel_mix:2021-04-05T01:15:00+00:00', 'raw_start_date': '2021-04-04T21:10:14-04:00', 'source': 'generated_fuel_mix:ISONE:2021-04-05T01:15:00+00:00', 'unit': 'lbs/MWh'}, 'region': 'ISONE', 'start_date': '2021-04-05T01:15:00+00:00'}, {'data': {'generated_rate': 387.8119052257505, 'marginal_rate': 431.84938205402585}, 'dedup_key': 'ISONE:carbon_intensity:EGRID_2018:2021-04-05T01:15:00+00:00', 'event_type': 'carbon_intensity', 'meta': {'generated_emissions_source': 'EGRID_2018', 'inserted_at': '2021-04-05T01:22:25.997971Z', 'marginal_emissions_source': 'EGRID_2018', 'marginal_source': 'ISONE:marginal_fuel_mix:2021-04-05T01:15:00+00:00', 'raw_start_date': '2021-04-04T21:10:14-04:00', 'source': 'generated_fuel_mix:ISONE:2021-04-05T01:15:00+00:00', 'unit': 'lbs/MWh'}, 'region': 'ISONE', 'start_date': '2021-04-05T01:15:00+00:00'}, {'data': {'generated_rate': 550.0614823918871, 'marginal_rate': 466.1549974123956}, 'dedup_key': 'ISONE:carbon_intensity:2021-04-05T01:15:00+00:00', 'event_type': 'carbon_intensity', 'meta': {'generated_emissions_source': 'EGRID_u2018', 'inserted_at': '2021-04-05T01:22:26.023303Z', 'marginal_emissions_source': 'EGRID_u2018', 'marginal_source': 'ISONE:marginal_fuel_mix:2021-04-05T01:15:00+00:00', 'raw_start_date': '2021-04-04T21:10:14-04:00', 'source': 'generated_fuel_mix:ISONE:2021-04-05T01:15:00+00:00', 'unit': 'lbs/MWh'}, 'region': 'ISONE', 'start_date': '2021-04-05T01:15:00+00:00'}, {'data': {'generated_rate': 550.0643583303764, 'marginal_rate': 466.1549974123956}, 'dedup_key': 'ISONE:carbon_intensity:EGRID_u2018_eq:2021-04-05T01:20:00+00:00', 'event_type': 'carbon_intensity', 'meta': {'generated_emissions_source': 'EGRID_u2018_eq', 'inserted_at': '2021-04-05T01:22:24.938958Z', 'marginal_emissions_source': 'EGRID_u2018_eq', 'marginal_source': 'ISONE:marginal_fuel_mix:2021-04-05T01:20:00+00:00', 'raw_start_date': '2021-04-04T21:10:14-04:00', 'source': 'generated_fuel_mix:ISONE:2021-04-05T01:20:00+00:00', 'unit': 'lbs/MWh'}, 'region': 'ISONE', 'start_date': '2021-04-05T01:20:00+00:00'}, {'data': {'generated_rate': 387.8147811642397, 'marginal_rate': 431.84938205402585}, 'dedup_key': 'ISONE:carbon_intensity:EGRID_2018_eq:2021-04-05T01:20:00+00:00', 'event_type': 'carbon_intensity', 'meta': {'generated_emissions_source': 'EGRID_2018_eq', 'inserted_at': '2021-04-05T01:22:25.857000Z', 'marginal_emissions_source': 'EGRID_2018_eq', 'marginal_source': 'ISONE:marginal_fuel_mix:2021-04-05T01:20:00+00:00', 'raw_start_date': '2021-04-04T21:10:14-04:00', 'source': 'generated_fuel_mix:ISONE:2021-04-05T01:20:00+00:00', 'unit': 'lbs/MWh'}, 'region': 'ISONE', 'start_date': '2021-04-05T01:20:00+00:00'}, {'data': {'generated_rate': 387.8119052257505, 'marginal_rate': 431.84938205402585}, 'dedup_key': 'ISONE:carbon_intensity:EGRID_2018:2021-04-05T01:20:00+00:00', 'event_type': 'carbon_intensity', 'meta': {'generated_emissions_source': 'EGRID_2018', 'inserted_at': '2021-04-05T01:22:24.997056Z', 'marginal_emissions_source': 'EGRID_2018', 'marginal_source': 'ISONE:marginal_fuel_mix:2021-04-05T01:20:00+00:00', 'raw_start_date': '2021-04-04T21:10:14-04:00', 'source': 'generated_fuel_mix:ISONE:2021-04-05T01:20:00+00:00', 'unit': 'lbs/MWh'}, 'region': 'ISONE', 'start_date': '2021-04-05T01:20:00+00:00'}, {'data': {'generated_rate': 550.0614823918871, 'marginal_rate': 466.1549974123956}, 'dedup_key': 'ISONE:carbon_intensity:2021-04-05T01:20:00+00:00', 'event_type': 'carbon_intensity', 'meta': {'generated_emissions_source': 'EGRID_u2018', 'inserted_at': '2021-04-05T01:22:25.445245Z', 'marginal_emissions_source': 'EGRID_u2018', 'marginal_source': 'ISONE:marginal_fuel_mix:2021-04-05T01:20:00+00:00', 'raw_start_date': '2021-04-04T21:10:14-04:00', 'source': 'generated_fuel_mix:ISONE:2021-04-05T01:20:00+00:00', 'unit': 'lbs/MWh'}, 'region': 'ISONE', 'start_date': '2021-04-05T01:20:00+00:00'}, {'data': {'generated_rate': 537.4586859341373, 'marginal_rate': 466.1549974123956}, 'dedup_key': 'ISONE:carbon_intensity:EGRID_u2018_eq:2021-04-05T01:25:00+00:00', 'event_type': 'carbon_intensity', 'meta': {'generated_emissions_source': 'EGRID_u2018_eq', 'inserted_at': '2021-04-05T01:29:23.002277Z', 'marginal_emissions_source': 'EGRID_u2018_eq', 'marginal_source': 'ISONE:marginal_fuel_mix:2021-04-05T01:25:00+00:00', 'raw_start_date': '2021-04-04T21:21:35-04:00', 'source': 'generated_fuel_mix:ISONE:2021-04-05T01:25:00+00:00', 'unit': 'lbs/MWh'}, 'region': 'ISONE', 'start_date': '2021-04-05T01:25:00+00:00'}, {'data': {'generated_rate': 372.151326118882, 'marginal_rate': 431.84938205402585}, 'dedup_key': 'ISONE:carbon_intensity:EGRID_2018_eq:2021-04-05T01:25:00+00:00', 'event_type': 'carbon_intensity', 'meta': {'generated_emissions_source': 'EGRID_2018_eq', 'inserted_at': '2021-04-05T01:29:22.688077Z', 'marginal_emissions_source': 'EGRID_2018_eq', 'marginal_source': 'ISONE:marginal_fuel_mix:2021-04-05T01:25:00+00:00', 'raw_start_date': '2021-04-04T21:21:35-04:00', 'source': 'generated_fuel_mix:ISONE:2021-04-05T01:25:00+00:00', 'unit': 'lbs/MWh'}, 'region': 'ISONE', 'start_date': '2021-04-05T01:25:00+00:00'}, {'data': {'generated_rate': 372.14848375535837, 'marginal_rate': 431.84938205402585}, 'dedup_key': 'ISONE:carbon_intensity:EGRID_2018:2021-04-05T01:25:00+00:00', 'event_type': 'carbon_intensity', 'meta': {'generated_emissions_source': 'EGRID_2018', 'inserted_at': '2021-04-05T01:29:22.639136Z', 'marginal_emissions_source': 'EGRID_2018', 'marginal_source': 'ISONE:marginal_fuel_mix:2021-04-05T01:25:00+00:00', 'raw_start_date': '2021-04-04T21:21:35-04:00', 'source': 'generated_fuel_mix:ISONE:2021-04-05T01:25:00+00:00', 'unit': 'lbs/MWh'}, 'region': 'ISONE', 'start_date': '2021-04-05T01:25:00+00:00'}, {'data': {'generated_rate': 537.4558435706135, 'marginal_rate': 466.1549974123956}, 'dedup_key': 'ISONE:carbon_intensity:2021-04-05T01:25:00+00:00', 'event_type': 'carbon_intensity', 'meta': {'generated_emissions_source': 'EGRID_u2018', 'inserted_at': '2021-04-05T01:29:22.455167Z', 'marginal_emissions_source': 'EGRID_u2018', 'marginal_source': 'ISONE:marginal_fuel_mix:2021-04-05T01:25:00+00:00', 'raw_start_date': '2021-04-04T21:21:35-04:00', 'source': 'generated_fuel_mix:ISONE:2021-04-05T01:25:00+00:00', 'unit': 'lbs/MWh'}, 'region': 'ISONE', 'start_date': '2021-04-05T01:25:00+00:00'}, {'data': {'generated_rate': 546.1774195937286, 'marginal_rate': 466.1549974123956}, 'dedup_key': 'ISONE:carbon_intensity:EGRID_u2018_eq:2021-04-05T01:30:00+00:00', 'event_type': 'carbon_intensity', 'meta': {'generated_emissions_source': 'EGRID_u2018_eq', 'inserted_at': '2021-04-05T01:42:23.812328Z', 'marginal_emissions_source': 'EGRID_u2018_eq', 'marginal_source': 'ISONE:marginal_fuel_mix:2021-04-05T01:30:00+00:00', 'raw_start_date': '2021-04-04T21:28:19-04:00', 'source': 'generated_fuel_mix:ISONE:2021-04-05T01:30:00+00:00', 'unit': 'lbs/MWh'}, 'region': 'ISONE', 'start_date': '2021-04-05T01:30:00+00:00'}, {'data': {'generated_rate': 374.2352429240007, 'marginal_rate': 431.84938205402585}, 'dedup_key': 'ISONE:carbon_intensity:EGRID_2018_eq:2021-04-05T01:30:00+00:00', 'event_type': 'carbon_intensity', 'meta': {'generated_emissions_source': 'EGRID_2018_eq', 'inserted_at': '2021-04-05T01:42:23.968163Z', 'marginal_emissions_source': 'EGRID_2018_eq', 'marginal_source': 'ISONE:marginal_fuel_mix:2021-04-05T01:30:00+00:00', 'raw_start_date': '2021-04-04T21:28:19-04:00', 'source': 'generated_fuel_mix:ISONE:2021-04-05T01:30:00+00:00', 'unit': 'lbs/MWh'}, 'region': 'ISONE', 'start_date': '2021-04-05T01:30:00+00:00'}, {'data': {'generated_rate': 373.70840496060134, 'marginal_rate': 431.84938205402585}, 'dedup_key': 'ISONE:carbon_intensity:EGRID_2018:2021-04-05T01:30:00+00:00', 'event_type': 'carbon_intensity', 'meta': {'generated_emissions_source': 'EGRID_2018', 'inserted_at': '2021-04-05T01:42:23.898423Z', 'marginal_emissions_source': 'EGRID_2018', 'marginal_source': 'ISONE:marginal_fuel_mix:2021-04-05T01:30:00+00:00', 'raw_start_date': '2021-04-04T21:28:19-04:00', 'source': 'generated_fuel_mix:ISONE:2021-04-05T01:30:00+00:00', 'unit': 'lbs/MWh'}, 'region': 'ISONE', 'start_date': '2021-04-05T01:30:00+00:00'}, {'data': {'generated_rate': 542.47886122034, 'marginal_rate': 466.1549974123956}, 'dedup_key': 'ISONE:carbon_intensity:2021-04-05T01:30:00+00:00', 'event_type': 'carbon_intensity', 'meta': {'generated_emissions_source': 'EGRID_u2018', 'inserted_at': '2021-04-05T01:42:23.982479Z', 'marginal_emissions_source': 'EGRID_u2018', 'marginal_source': 'ISONE:marginal_fuel_mix:2021-04-05T01:30:00+00:00', 'raw_start_date': '2021-04-04T21:28:19-04:00', 'source': 'generated_fuel_mix:ISONE:2021-04-05T01:30:00+00:00', 'unit': 'lbs/MWh'}, 'region': 'ISONE', 'start_date': '2021-04-05T01:30:00+00:00'}, {'data': {'generated_rate': 546.1774195937286, 'marginal_rate': 466.1549974123956}, 'dedup_key': 'ISONE:carbon_intensity:EGRID_u2018_eq:2021-04-05T01:35:00+00:00', 'event_type': 'carbon_intensity', 'meta': {'generated_emissions_source': 'EGRID_u2018_eq', 'inserted_at': '2021-04-05T01:42:24.864599Z', 'marginal_emissions_source': 'EGRID_u2018_eq', 'marginal_source': 'ISONE:marginal_fuel_mix:2021-04-05T01:35:00+00:00', 'raw_start_date': '2021-04-04T21:28:19-04:00', 'source': 'generated_fuel_mix:ISONE:2021-04-05T01:35:00+00:00', 'unit': 'lbs/MWh'}, 'region': 'ISONE', 'start_date': '2021-04-05T01:35:00+00:00'}, {'data': {'generated_rate': 374.2352429240007, 'marginal_rate': 431.84938205402585}, 'dedup_key': 'ISONE:carbon_intensity:EGRID_2018_eq:2021-04-05T01:35:00+00:00', 'event_type': 'carbon_intensity', 'meta': {'generated_emissions_source': 'EGRID_2018_eq', 'inserted_at': '2021-04-05T01:42:24.871827Z', 'marginal_emissions_source': 'EGRID_2018_eq', 'marginal_source': 'ISONE:marginal_fuel_mix:2021-04-05T01:35:00+00:00', 'raw_start_date': '2021-04-04T21:28:19-04:00', 'source': 'generated_fuel_mix:ISONE:2021-04-05T01:35:00+00:00', 'unit': 'lbs/MWh'}, 'region': 'ISONE', 'start_date': '2021-04-05T01:35:00+00:00'}, {'data': {'generated_rate': 373.70840496060134, 'marginal_rate': 431.84938205402585}, 'dedup_key': 'ISONE:carbon_intensity:EGRID_2018:2021-04-05T01:35:00+00:00', 'event_type': 'carbon_intensity', 'meta': {'generated_emissions_source': 'EGRID_2018', 'inserted_at': '2021-04-05T01:42:25.321383Z', 'marginal_emissions_source': 'EGRID_2018', 'marginal_source': 'ISONE:marginal_fuel_mix:2021-04-05T01:35:00+00:00', 'raw_start_date': '2021-04-04T21:28:19-04:00', 'source': 'generated_fuel_mix:ISONE:2021-04-05T01:35:00+00:00', 'unit': 'lbs/MWh'}, 'region': 'ISONE', 'start_date': '2021-04-05T01:35:00+00:00'}, {'data': {'generated_rate': 542.47886122034, 'marginal_rate': 466.1549974123956}, 'dedup_key': 'ISONE:carbon_intensity:2021-04-05T01:35:00+00:00', 'event_type': 'carbon_intensity', 'meta': {'generated_emissions_source': 'EGRID_u2018', 'inserted_at': '2021-04-05T01:42:25.283340Z', 'marginal_emissions_source': 'EGRID_u2018', 'marginal_source': 'ISONE:marginal_fuel_mix:2021-04-05T01:35:00+00:00', 'raw_start_date': '2021-04-04T21:28:19-04:00', 'source': 'generated_fuel_mix:ISONE:2021-04-05T01:35:00+00:00', 'unit': 'lbs/MWh'}, 'region': 'ISONE', 'start_date': '2021-04-05T01:35:00+00:00'}, {'data': {'generated_rate': 546.1774195937286, 'marginal_rate': 466.1549974123956}, 'dedup_key': 'ISONE:carbon_intensity:EGRID_u2018_eq:2021-04-05T01:40:00+00:00', 'event_type': 'carbon_intensity', 'meta': {'generated_emissions_source': 'EGRID_u2018_eq', 'inserted_at': '2021-04-05T01:42:25.311845Z', 'marginal_emissions_source': 'EGRID_u2018_eq', 'marginal_source': 'ISONE:marginal_fuel_mix:2021-04-05T01:40:00+00:00', 'raw_start_date': '2021-04-04T21:28:19-04:00', 'source': 'generated_fuel_mix:ISONE:2021-04-05T01:40:00+00:00', 'unit': 'lbs/MWh'}, 'region': 'ISONE', 'start_date': '2021-04-05T01:40:00+00:00'}, {'data': {'generated_rate': 374.2352429240007, 'marginal_rate': 431.84938205402585}, 'dedup_key': 'ISONE:carbon_intensity:EGRID_2018_eq:2021-04-05T01:40:00+00:00', 'event_type': 'carbon_intensity', 'meta': {'generated_emissions_source': 'EGRID_2018_eq', 'inserted_at': '2021-04-05T01:42:25.222179Z', 'marginal_emissions_source': 'EGRID_2018_eq', 'marginal_source': 'ISONE:marginal_fuel_mix:2021-04-05T01:40:00+00:00', 'raw_start_date': '2021-04-04T21:28:19-04:00', 'source': 'generated_fuel_mix:ISONE:2021-04-05T01:40:00+00:00', 'unit': 'lbs/MWh'}, 'region': 'ISONE', 'start_date': '2021-04-05T01:40:00+00:00'}, {'data': {'generated_rate': 373.70840496060134, 'marginal_rate': 431.84938205402585}, 'dedup_key': 'ISONE:carbon_intensity:EGRID_2018:2021-04-05T01:40:00+00:00', 'event_type': 'carbon_intensity', 'meta': {'generated_emissions_source': 'EGRID_2018', 'inserted_at': '2021-04-05T01:42:25.434309Z', 'marginal_emissions_source': 'EGRID_2018', 'marginal_source': 'ISONE:marginal_fuel_mix:2021-04-05T01:40:00+00:00', 'raw_start_date': '2021-04-04T21:28:19-04:00', 'source': 'generated_fuel_mix:ISONE:2021-04-05T01:40:00+00:00', 'unit': 'lbs/MWh'}, 'region': 'ISONE', 'start_date': '2021-04-05T01:40:00+00:00'}, {'data': {'generated_rate': 542.47886122034, 'marginal_rate': 466.1549974123956}, 'dedup_key': 'ISONE:carbon_intensity:2021-04-05T01:40:00+00:00', 'event_type': 'carbon_intensity', 'meta': {'generated_emissions_source': 'EGRID_u2018', 'inserted_at': '2021-04-05T01:42:25.296711Z', 'marginal_emissions_source': 'EGRID_u2018', 'marginal_source': 'ISONE:marginal_fuel_mix:2021-04-05T01:40:00+00:00', 'raw_start_date': '2021-04-04T21:28:19-04:00', 'source': 'generated_fuel_mix:ISONE:2021-04-05T01:40:00+00:00', 'unit': 'lbs/MWh'}, 'region': 'ISONE', 'start_date': '2021-04-05T01:40:00+00:00'}, {'data': {'generated_rate': 540.9646133777374, 'marginal_rate': 466.1549974123956}, 'dedup_key': 'ISONE:carbon_intensity:EGRID_u2018_eq:2021-04-05T01:45:00+00:00', 'event_type': 'carbon_intensity', 'meta': {'generated_emissions_source': 'EGRID_u2018_eq', 'inserted_at': '2021-04-05T02:01:23.578879Z', 'marginal_emissions_source': 'EGRID_u2018_eq', 'marginal_source': 'ISONE:marginal_fuel_mix:2021-04-05T01:45:00+00:00', 'raw_start_date': '2021-04-04T21:42:00-04:00', 'source': 'generated_fuel_mix:ISONE:2021-04-05T01:45:00+00:00', 'unit': 'lbs/MWh'}, 'region': 'ISONE', 'start_date': '2021-04-05T01:45:00+00:00'}, {'data': {'generated_rate': 370.21937594318143, 'marginal_rate': 431.84938205402585}, 'dedup_key': 'ISONE:carbon_intensity:EGRID_2018_eq:2021-04-05T01:45:00+00:00', 'event_type': 'carbon_intensity', 'meta': {'generated_emissions_source': 'EGRID_2018_eq', 'inserted_at': '2021-04-05T02:01:23.619453Z', 'marginal_emissions_source': 'EGRID_2018_eq', 'marginal_source': 'ISONE:marginal_fuel_mix:2021-04-05T01:45:00+00:00', 'raw_start_date': '2021-04-04T21:42:00-04:00', 'source': 'generated_fuel_mix:ISONE:2021-04-05T01:45:00+00:00', 'unit': 'lbs/MWh'}, 'region': 'ISONE', 'start_date': '2021-04-05T01:45:00+00:00'}, {'data': {'generated_rate': 370.2166835003858, 'marginal_rate': 431.84938205402585}, 'dedup_key': 'ISONE:carbon_intensity:EGRID_2018:2021-04-05T01:45:00+00:00', 'event_type': 'carbon_intensity', 'meta': {'generated_emissions_source': 'EGRID_2018', 'inserted_at': '2021-04-05T02:01:23.601886Z', 'marginal_emissions_source': 'EGRID_2018', 'marginal_source': 'ISONE:marginal_fuel_mix:2021-04-05T01:45:00+00:00', 'raw_start_date': '2021-04-04T21:42:00-04:00', 'source': 'generated_fuel_mix:ISONE:2021-04-05T01:45:00+00:00', 'unit': 'lbs/MWh'}, 'region': 'ISONE', 'start_date': '2021-04-05T01:45:00+00:00'}, {'data': {'generated_rate': 540.9619209349418, 'marginal_rate': 466.1549974123956}, 'dedup_key': 'ISONE:carbon_intensity:2021-04-05T01:45:00+00:00', 'event_type': 'carbon_intensity', 'meta': {'generated_emissions_source': 'EGRID_u2018', 'inserted_at': '2021-04-05T02:01:23.678952Z', 'marginal_emissions_source': 'EGRID_u2018', 'marginal_source': 'ISONE:marginal_fuel_mix:2021-04-05T01:45:00+00:00', 'raw_start_date': '2021-04-04T21:42:00-04:00', 'source': 'generated_fuel_mix:ISONE:2021-04-05T01:45:00+00:00', 'unit': 'lbs/MWh'}, 'region': 'ISONE', 'start_date': '2021-04-05T01:45:00+00:00'}, {'data': {'generated_rate': 540.9646133777374, 'marginal_rate': 466.1549974123956}, 'dedup_key': 'ISONE:carbon_intensity:EGRID_u2018_eq:2021-04-05T01:50:00+00:00', 'event_type': 'carbon_intensity', 'meta': {'generated_emissions_source': 'EGRID_u2018_eq', 'inserted_at': '2021-04-05T02:01:24.496043Z', 'marginal_emissions_source': 'EGRID_u2018_eq', 'marginal_source': 'ISONE:marginal_fuel_mix:2021-04-05T01:50:00+00:00', 'raw_start_date': '2021-04-04T21:42:00-04:00', 'source': 'generated_fuel_mix:ISONE:2021-04-05T01:50:00+00:00', 'unit': 'lbs/MWh'}, 'region': 'ISONE', 'start_date': '2021-04-05T01:50:00+00:00'}, {'data': {'generated_rate': 370.21937594318143, 'marginal_rate': 431.84938205402585}, 'dedup_key': 'ISONE:carbon_intensity:EGRID_2018_eq:2021-04-05T01:50:00+00:00', 'event_type': 'carbon_intensity', 'meta': {'generated_emissions_source': 'EGRID_2018_eq', 'inserted_at': '2021-04-05T02:01:24.433180Z', 'marginal_emissions_source': 'EGRID_2018_eq', 'marginal_source': 'ISONE:marginal_fuel_mix:2021-04-05T01:50:00+00:00', 'raw_start_date': '2021-04-04T21:42:00-04:00', 'source': 'generated_fuel_mix:ISONE:2021-04-05T01:50:00+00:00', 'unit': 'lbs/MWh'}, 'region': 'ISONE', 'start_date': '2021-04-05T01:50:00+00:00'}, {'data': {'generated_rate': 370.2166835003858, 'marginal_rate': 431.84938205402585}, 'dedup_key': 'ISONE:carbon_intensity:EGRID_2018:2021-04-05T01:50:00+00:00', 'event_type': 'carbon_intensity', 'meta': {'generated_emissions_source': 'EGRID_2018', 'inserted_at': '2021-04-05T02:01:24.483141Z', 'marginal_emissions_source': 'EGRID_2018', 'marginal_source': 'ISONE:marginal_fuel_mix:2021-04-05T01:50:00+00:00', 'raw_start_date': '2021-04-04T21:42:00-04:00', 'source': 'generated_fuel_mix:ISONE:2021-04-05T01:50:00+00:00', 'unit': 'lbs/MWh'}, 'region': 'ISONE', 'start_date': '2021-04-05T01:50:00+00:00'}, {'data': {'generated_rate': 540.9619209349418, 'marginal_rate': 466.1549974123956}, 'dedup_key': 'ISONE:carbon_intensity:2021-04-05T01:50:00+00:00', 'event_type': 'carbon_intensity', 'meta': {'generated_emissions_source': 'EGRID_u2018', 'inserted_at': '2021-04-05T02:01:24.528406Z', 'marginal_emissions_source': 'EGRID_u2018', 'marginal_source': 'ISONE:marginal_fuel_mix:2021-04-05T01:50:00+00:00', 'raw_start_date': '2021-04-04T21:42:00-04:00', 'source': 'generated_fuel_mix:ISONE:2021-04-05T01:50:00+00:00', 'unit': 'lbs/MWh'}, 'region': 'ISONE', 'start_date': '2021-04-05T01:50:00+00:00'}, {'data': {'generated_rate': 540.9646133777374, 'marginal_rate': 466.1549974123956}, 'dedup_key': 'ISONE:carbon_intensity:EGRID_u2018_eq:2021-04-05T01:55:00+00:00', 'event_type': 'carbon_intensity', 'meta': {'generated_emissions_source': 'EGRID_u2018_eq', 'inserted_at': '2021-04-05T02:01:23.648769Z', 'marginal_emissions_source': 'EGRID_u2018_eq', 'marginal_source': 'ISONE:marginal_fuel_mix:2021-04-05T01:55:00+00:00', 'raw_start_date': '2021-04-04T21:42:00-04:00', 'source': 'generated_fuel_mix:ISONE:2021-04-05T01:55:00+00:00', 'unit': 'lbs/MWh'}, 'region': 'ISONE', 'start_date': '2021-04-05T01:55:00+00:00'}, {'data': {'generated_rate': 370.21937594318143, 'marginal_rate': 431.84938205402585}, 'dedup_key': 'ISONE:carbon_intensity:EGRID_2018_eq:2021-04-05T01:55:00+00:00', 'event_type': 'carbon_intensity', 'meta': {'generated_emissions_source': 'EGRID_2018_eq', 'inserted_at': '2021-04-05T02:01:23.738775Z', 'marginal_emissions_source': 'EGRID_2018_eq', 'marginal_source': 'ISONE:marginal_fuel_mix:2021-04-05T01:55:00+00:00', 'raw_start_date': '2021-04-04T21:42:00-04:00', 'source': 'generated_fuel_mix:ISONE:2021-04-05T01:55:00+00:00', 'unit': 'lbs/MWh'}, 'region': 'ISONE', 'start_date': '2021-04-05T01:55:00+00:00'}, {'data': {'generated_rate': 370.2166835003858, 'marginal_rate': 431.84938205402585}, 'dedup_key': 'ISONE:carbon_intensity:EGRID_2018:2021-04-05T01:55:00+00:00', 'event_type': 'carbon_intensity', 'meta': {'generated_emissions_source': 'EGRID_2018', 'inserted_at': '2021-04-05T02:01:23.598019Z', 'marginal_emissions_source': 'EGRID_2018', 'marginal_source': 'ISONE:marginal_fuel_mix:2021-04-05T01:55:00+00:00', 'raw_start_date': '2021-04-04T21:42:00-04:00', 'source': 'generated_fuel_mix:ISONE:2021-04-05T01:55:00+00:00', 'unit': 'lbs/MWh'}, 'region': 'ISONE', 'start_date': '2021-04-05T01:55:00+00:00'}, {'data': {'generated_rate': 540.9619209349418, 'marginal_rate': 466.1549974123956}, 'dedup_key': 'ISONE:carbon_intensity:2021-04-05T01:55:00+00:00', 'event_type': 'carbon_intensity', 'meta': {'generated_emissions_source': 'EGRID_u2018', 'inserted_at': '2021-04-05T02:01:23.605358Z', 'marginal_emissions_source': 'EGRID_u2018', 'marginal_source': 'ISONE:marginal_fuel_mix:2021-04-05T01:55:00+00:00', 'raw_start_date': '2021-04-04T21:42:00-04:00', 'source': 'generated_fuel_mix:ISONE:2021-04-05T01:55:00+00:00', 'unit': 'lbs/MWh'}, 'region': 'ISONE', 'start_date': '2021-04-05T01:55:00+00:00'}, {'data': {'generated_rate': 540.9646133777374, 'marginal_rate': 466.1549974123956}, 'dedup_key': 'ISONE:carbon_intensity:EGRID_u2018_eq:2021-04-05T02:00:00+00:00', 'event_type': 'carbon_intensity', 'meta': {'generated_emissions_source': 'EGRID_u2018_eq', 'inserted_at': '2021-04-05T02:01:24.149776Z', 'marginal_emissions_source': 'EGRID_u2018_eq', 'marginal_source': 'ISONE:marginal_fuel_mix:2021-04-05T02:00:00+00:00', 'raw_start_date': '2021-04-04T21:42:00-04:00', 'source': 'generated_fuel_mix:ISONE:2021-04-05T02:00:00+00:00', 'unit': 'lbs/MWh'}, 'region': 'ISONE', 'start_date': '2021-04-05T02:00:00+00:00'}, {'data': {'generated_rate': 370.21937594318143, 'marginal_rate': 431.84938205402585}, 'dedup_key': 'ISONE:carbon_intensity:EGRID_2018_eq:2021-04-05T02:00:00+00:00', 'event_type': 'carbon_intensity', 'meta': {'generated_emissions_source': 'EGRID_2018_eq', 'inserted_at': '2021-04-05T02:01:24.125950Z', 'marginal_emissions_source': 'EGRID_2018_eq', 'marginal_source': 'ISONE:marginal_fuel_mix:2021-04-05T02:00:00+00:00', 'raw_start_date': '2021-04-04T21:42:00-04:00', 'source': 'generated_fuel_mix:ISONE:2021-04-05T02:00:00+00:00', 'unit': 'lbs/MWh'}, 'region': 'ISONE', 'start_date': '2021-04-05T02:00:00+00:00'}, {'data': {'generated_rate': 370.2166835003858, 'marginal_rate': 431.84938205402585}, 'dedup_key': 'ISONE:carbon_intensity:EGRID_2018:2021-04-05T02:00:00+00:00', 'event_type': 'carbon_intensity', 'meta': {'generated_emissions_source': 'EGRID_2018', 'inserted_at': '2021-04-05T02:01:24.110955Z', 'marginal_emissions_source': 'EGRID_2018', 'marginal_source': 'ISONE:marginal_fuel_mix:2021-04-05T02:00:00+00:00', 'raw_start_date': '2021-04-04T21:42:00-04:00', 'source': 'generated_fuel_mix:ISONE:2021-04-05T02:00:00+00:00', 'unit': 'lbs/MWh'}, 'region': 'ISONE', 'start_date': '2021-04-05T02:00:00+00:00'}, {'data': {'generated_rate': 540.9619209349418, 'marginal_rate': 466.1549974123956}, 'dedup_key': 'ISONE:carbon_intensity:2021-04-05T02:00:00+00:00', 'event_type': 'carbon_intensity', 'meta': {'generated_emissions_source': 'EGRID_u2018', 'inserted_at': '2021-04-05T02:01:24.150682Z', 'marginal_emissions_source': 'EGRID_u2018', 'marginal_source': 'ISONE:marginal_fuel_mix:2021-04-05T02:00:00+00:00', 'raw_start_date': '2021-04-04T21:42:00-04:00', 'source': 'generated_fuel_mix:ISONE:2021-04-05T02:00:00+00:00', 'unit': 'lbs/MWh'}, 'region': 'ISONE', 'start_date': '2021-04-05T02:00:00+00:00'}, {'data': {'generated_rate': 533.4268186289024, 'marginal_rate': 466.1549974123956}, 'dedup_key': 'ISONE:carbon_intensity:EGRID_u2018_eq:2021-04-05T02:05:00+00:00', 'event_type': 'carbon_intensity', 'meta': {'generated_emissions_source': 'EGRID_u2018_eq', 'inserted_at': '2021-04-05T02:12:25.406893Z', 'marginal_emissions_source': 'EGRID_u2018_eq', 'marginal_source': 'ISONE:marginal_fuel_mix:2021-04-05T02:05:00+00:00', 'raw_start_date': '2021-04-04T22:00:58-04:00', 'source': 'generated_fuel_mix:ISONE:2021-04-05T02:05:00+00:00', 'unit': 'lbs/MWh'}, 'region': 'ISONE', 'start_date': '2021-04-05T02:05:00+00:00'}, {'data': {'generated_rate': 359.3421076715055, 'marginal_rate': 431.84938205402585}, 'dedup_key': 'ISONE:carbon_intensity:EGRID_2018_eq:2021-04-05T02:05:00+00:00', 'event_type': 'carbon_intensity', 'meta': {'generated_emissions_source': 'EGRID_2018_eq', 'inserted_at': '2021-04-05T02:12:25.354657Z', 'marginal_emissions_source': 'EGRID_2018_eq', 'marginal_source': 'ISONE:marginal_fuel_mix:2021-04-05T02:05:00+00:00', 'raw_start_date': '2021-04-04T22:00:58-04:00', 'source': 'generated_fuel_mix:ISONE:2021-04-05T02:05:00+00:00', 'unit': 'lbs/MWh'}, 'region': 'ISONE', 'start_date': '2021-04-05T02:05:00+00:00'}, {'data': {'generated_rate': 359.3394625462119, 'marginal_rate': 431.84938205402585}, 'dedup_key': 'ISONE:carbon_intensity:EGRID_2018:2021-04-05T02:05:00+00:00', 'event_type': 'carbon_intensity', 'meta': {'generated_emissions_source': 'EGRID_2018', 'inserted_at': '2021-04-05T02:12:25.420535Z', 'marginal_emissions_source': 'EGRID_2018', 'marginal_source': 'ISONE:marginal_fuel_mix:2021-04-05T02:05:00+00:00', 'raw_start_date': '2021-04-04T22:00:58-04:00', 'source': 'generated_fuel_mix:ISONE:2021-04-05T02:05:00+00:00', 'unit': 'lbs/MWh'}, 'region': 'ISONE', 'start_date': '2021-04-05T02:05:00+00:00'}, {'data': {'generated_rate': 533.4241735036088, 'marginal_rate': 466.1549974123956}, 'dedup_key': 'ISONE:carbon_intensity:2021-04-05T02:05:00+00:00', 'event_type': 'carbon_intensity', 'meta': {'generated_emissions_source': 'EGRID_u2018', 'inserted_at': '2021-04-05T02:12:25.347985Z', 'marginal_emissions_source': 'EGRID_u2018', 'marginal_source': 'ISONE:marginal_fuel_mix:2021-04-05T02:05:00+00:00', 'raw_start_date': '2021-04-04T22:00:58-04:00', 'source': 'generated_fuel_mix:ISONE:2021-04-05T02:05:00+00:00', 'unit': 'lbs/MWh'}, 'region': 'ISONE', 'start_date': '2021-04-05T02:05:00+00:00'}, {'data': {'generated_rate': 533.4268186289024, 'marginal_rate': 466.1549974123956}, 'dedup_key': 'ISONE:carbon_intensity:EGRID_u2018_eq:2021-04-05T02:10:00+00:00', 'event_type': 'carbon_intensity', 'meta': {'generated_emissions_source': 'EGRID_u2018_eq', 'inserted_at': '2021-04-05T02:12:26.181822Z', 'marginal_emissions_source': 'EGRID_u2018_eq', 'marginal_source': 'ISONE:marginal_fuel_mix:2021-04-05T02:10:00+00:00', 'raw_start_date': '2021-04-04T22:00:58-04:00', 'source': 'generated_fuel_mix:ISONE:2021-04-05T02:10:00+00:00', 'unit': 'lbs/MWh'}, 'region': 'ISONE', 'start_date': '2021-04-05T02:10:00+00:00'}, {'data': {'generated_rate': 359.3421076715055, 'marginal_rate': 431.84938205402585}, 'dedup_key': 'ISONE:carbon_intensity:EGRID_2018_eq:2021-04-05T02:10:00+00:00', 'event_type': 'carbon_intensity', 'meta': {'generated_emissions_source': 'EGRID_2018_eq', 'inserted_at': '2021-04-05T02:12:26.067043Z', 'marginal_emissions_source': 'EGRID_2018_eq', 'marginal_source': 'ISONE:marginal_fuel_mix:2021-04-05T02:10:00+00:00', 'raw_start_date': '2021-04-04T22:00:58-04:00', 'source': 'generated_fuel_mix:ISONE:2021-04-05T02:10:00+00:00', 'unit': 'lbs/MWh'}, 'region': 'ISONE', 'start_date': '2021-04-05T02:10:00+00:00'}, {'data': {'generated_rate': 359.3394625462119, 'marginal_rate': 431.84938205402585}, 'dedup_key': 'ISONE:carbon_intensity:EGRID_2018:2021-04-05T02:10:00+00:00', 'event_type': 'carbon_intensity', 'meta': {'generated_emissions_source': 'EGRID_2018', 'inserted_at': '2021-04-05T02:12:26.123212Z', 'marginal_emissions_source': 'EGRID_2018', 'marginal_source': 'ISONE:marginal_fuel_mix:2021-04-05T02:10:00+00:00', 'raw_start_date': '2021-04-04T22:00:58-04:00', 'source': 'generated_fuel_mix:ISONE:2021-04-05T02:10:00+00:00', 'unit': 'lbs/MWh'}, 'region': 'ISONE', 'start_date': '2021-04-05T02:10:00+00:00'}, {'data': {'generated_rate': 533.4241735036088, 'marginal_rate': 466.1549974123956}, 'dedup_key': 'ISONE:carbon_intensity:2021-04-05T02:10:00+00:00', 'event_type': 'carbon_intensity', 'meta': {'generated_emissions_source': 'EGRID_u2018', 'inserted_at': '2021-04-05T02:12:26.064019Z', 'marginal_emissions_source': 'EGRID_u2018', 'marginal_source': 'ISONE:marginal_fuel_mix:2021-04-05T02:10:00+00:00', 'raw_start_date': '2021-04-04T22:00:58-04:00', 'source': 'generated_fuel_mix:ISONE:2021-04-05T02:10:00+00:00', 'unit': 'lbs/MWh'}, 'region': 'ISONE', 'start_date': '2021-04-05T02:10:00+00:00'}, {'data': {'generated_rate': 523.3528864472983, 'marginal_rate': 466.1549974123956}, 'dedup_key': 'ISONE:carbon_intensity:EGRID_u2018_eq:2021-04-05T02:15:00+00:00', 'event_type': 'carbon_intensity', 'meta': {'generated_emissions_source': 'EGRID_u2018_eq', 'inserted_at': '2021-04-05T02:25:26.766364Z', 'marginal_emissions_source': 'EGRID_u2018_eq', 'marginal_source': 'ISONE:marginal_fuel_mix:2021-04-05T02:15:00+00:00', 'raw_start_date': '2021-04-04T22:12:03-04:00', 'source': 'generated_fuel_mix:ISONE:2021-04-05T02:15:00+00:00', 'unit': 'lbs/MWh'}, 'region': 'ISONE', 'start_date': '2021-04-05T02:15:00+00:00'}, {'data': {'generated_rate': 348.00056321917384, 'marginal_rate': 431.84938205402585}, 'dedup_key': 'ISONE:carbon_intensity:EGRID_2018_eq:2021-04-05T02:15:00+00:00', 'event_type': 'carbon_intensity', 'meta': {'generated_emissions_source': 'EGRID_2018_eq', 'inserted_at': '2021-04-05T02:25:26.415198Z', 'marginal_emissions_source': 'EGRID_2018_eq', 'marginal_source': 'ISONE:marginal_fuel_mix:2021-04-05T02:15:00+00:00', 'raw_start_date': '2021-04-04T22:12:03-04:00', 'source': 'generated_fuel_mix:ISONE:2021-04-05T02:15:00+00:00', 'unit': 'lbs/MWh'}, 'region': 'ISONE', 'start_date': '2021-04-05T02:15:00+00:00'}, {'data': {'generated_rate': 347.99778338284324, 'marginal_rate': 431.84938205402585}, 'dedup_key': 'ISONE:carbon_intensity:EGRID_2018:2021-04-05T02:15:00+00:00', 'event_type': 'carbon_intensity', 'meta': {'generated_emissions_source': 'EGRID_2018', 'inserted_at': '2021-04-05T02:25:26.526496Z', 'marginal_emissions_source': 'EGRID_2018', 'marginal_source': 'ISONE:marginal_fuel_mix:2021-04-05T02:15:00+00:00', 'raw_start_date': '2021-04-04T22:12:03-04:00', 'source': 'generated_fuel_mix:ISONE:2021-04-05T02:15:00+00:00', 'unit': 'lbs/MWh'}, 'region': 'ISONE', 'start_date': '2021-04-05T02:15:00+00:00'}, {'data': {'generated_rate': 523.3501066109676, 'marginal_rate': 466.1549974123956}, 'dedup_key': 'ISONE:carbon_intensity:2021-04-05T02:15:00+00:00', 'event_type': 'carbon_intensity', 'meta': {'generated_emissions_source': 'EGRID_u2018', 'inserted_at': '2021-04-05T02:25:26.876651Z', 'marginal_emissions_source': 'EGRID_u2018', 'marginal_source': 'ISONE:marginal_fuel_mix:2021-04-05T02:15:00+00:00', 'raw_start_date': '2021-04-04T22:12:03-04:00', 'source': 'generated_fuel_mix:ISONE:2021-04-05T02:15:00+00:00', 'unit': 'lbs/MWh'}, 'region': 'ISONE', 'start_date': '2021-04-05T02:15:00+00:00'}, {'data': {'generated_rate': 523.3528864472983, 'marginal_rate': 466.1549974123956}, 'dedup_key': 'ISONE:carbon_intensity:EGRID_u2018_eq:2021-04-05T02:20:00+00:00', 'event_type': 'carbon_intensity', 'meta': {'generated_emissions_source': 'EGRID_u2018_eq', 'inserted_at': '2021-04-05T02:25:24.533206Z', 'marginal_emissions_source': 'EGRID_u2018_eq', 'marginal_source': 'ISONE:marginal_fuel_mix:2021-04-05T02:20:00+00:00', 'raw_start_date': '2021-04-04T22:12:03-04:00', 'source': 'generated_fuel_mix:ISONE:2021-04-05T02:20:00+00:00', 'unit': 'lbs/MWh'}, 'region': 'ISONE', 'start_date': '2021-04-05T02:20:00+00:00'}, {'data': {'generated_rate': 348.00056321917384, 'marginal_rate': 431.84938205402585}, 'dedup_key': 'ISONE:carbon_intensity:EGRID_2018_eq:2021-04-05T02:20:00+00:00', 'event_type': 'carbon_intensity', 'meta': {'generated_emissions_source': 'EGRID_2018_eq', 'inserted_at': '2021-04-05T02:25:24.311214Z', 'marginal_emissions_source': 'EGRID_2018_eq', 'marginal_source': 'ISONE:marginal_fuel_mix:2021-04-05T02:20:00+00:00', 'raw_start_date': '2021-04-04T22:12:03-04:00', 'source': 'generated_fuel_mix:ISONE:2021-04-05T02:20:00+00:00', 'unit': 'lbs/MWh'}, 'region': 'ISONE', 'start_date': '2021-04-05T02:20:00+00:00'}, {'data': {'generated_rate': 347.99778338284324, 'marginal_rate': 431.84938205402585}, 'dedup_key': 'ISONE:carbon_intensity:EGRID_2018:2021-04-05T02:20:00+00:00', 'event_type': 'carbon_intensity', 'meta': {'generated_emissions_source': 'EGRID_2018', 'inserted_at': '2021-04-05T02:25:24.881974Z', 'marginal_emissions_source': 'EGRID_2018', 'marginal_source': 'ISONE:marginal_fuel_mix:2021-04-05T02:20:00+00:00', 'raw_start_date': '2021-04-04T22:12:03-04:00', 'source': 'generated_fuel_mix:ISONE:2021-04-05T02:20:00+00:00', 'unit': 'lbs/MWh'}, 'region': 'ISONE', 'start_date': '2021-04-05T02:20:00+00:00'}, {'data': {'generated_rate': 523.3501066109676, 'marginal_rate': 466.1549974123956}, 'dedup_key': 'ISONE:carbon_intensity:2021-04-05T02:20:00+00:00', 'event_type': 'carbon_intensity', 'meta': {'generated_emissions_source': 'EGRID_u2018', 'inserted_at': '2021-04-05T02:25:24.091706Z', 'marginal_emissions_source': 'EGRID_u2018', 'marginal_source': 'ISONE:marginal_fuel_mix:2021-04-05T02:20:00+00:00', 'raw_start_date': '2021-04-04T22:12:03-04:00', 'source': 'generated_fuel_mix:ISONE:2021-04-05T02:20:00+00:00', 'unit': 'lbs/MWh'}, 'region': 'ISONE', 'start_date': '2021-04-05T02:20:00+00:00'}, {'data': {'generated_rate': 537.4973348750268, 'marginal_rate': 466.1549974123956}, 'dedup_key': 'ISONE:carbon_intensity:EGRID_u2018_eq:2021-04-05T02:25:00+00:00', 'event_type': 'carbon_intensity', 'meta': {'generated_emissions_source': 'EGRID_u2018_eq', 'inserted_at': '2021-04-05T02:34:22.774195Z', 'marginal_emissions_source': 'EGRID_u2018_eq', 'marginal_source': 'ISONE:marginal_fuel_mix:2021-04-05T02:25:00+00:00', 'raw_start_date': '2021-04-04T22:24:47-04:00', 'source': 'generated_fuel_mix:ISONE:2021-04-05T02:25:00+00:00', 'unit': 'lbs/MWh'}, 'region': 'ISONE', 'start_date': '2021-04-05T02:25:00+00:00'}, {'data': {'generated_rate': 359.2535775094618, 'marginal_rate': 431.84938205402585}, 'dedup_key': 'ISONE:carbon_intensity:EGRID_2018_eq:2021-04-05T02:25:00+00:00', 'event_type': 'carbon_intensity', 'meta': {'generated_emissions_source': 'EGRID_2018_eq', 'inserted_at': '2021-04-05T02:34:22.845948Z', 'marginal_emissions_source': 'EGRID_2018_eq', 'marginal_source': 'ISONE:marginal_fuel_mix:2021-04-05T02:25:00+00:00', 'raw_start_date': '2021-04-04T22:24:47-04:00', 'source': 'generated_fuel_mix:ISONE:2021-04-05T02:25:00+00:00', 'unit': 'lbs/MWh'}, 'region': 'ISONE', 'start_date': '2021-04-05T02:25:00+00:00'}, {'data': {'generated_rate': 359.251265441831, 'marginal_rate': 431.84938205402585}, 'dedup_key': 'ISONE:carbon_intensity:EGRID_2018:2021-04-05T02:25:00+00:00', 'event_type': 'carbon_intensity', 'meta': {'generated_emissions_source': 'EGRID_2018', 'inserted_at': '2021-04-05T02:34:22.735895Z', 'marginal_emissions_source': 'EGRID_2018', 'marginal_source': 'ISONE:marginal_fuel_mix:2021-04-05T02:25:00+00:00', 'raw_start_date': '2021-04-04T22:24:47-04:00', 'source': 'generated_fuel_mix:ISONE:2021-04-05T02:25:00+00:00', 'unit': 'lbs/MWh'}, 'region': 'ISONE', 'start_date': '2021-04-05T02:25:00+00:00'}, {'data': {'generated_rate': 537.4950228073959, 'marginal_rate': 466.1549974123956}, 'dedup_key': 'ISONE:carbon_intensity:2021-04-05T02:25:00+00:00', 'event_type': 'carbon_intensity', 'meta': {'generated_emissions_source': 'EGRID_u2018', 'inserted_at': '2021-04-05T02:34:22.743222Z', 'marginal_emissions_source': 'EGRID_u2018', 'marginal_source': 'ISONE:marginal_fuel_mix:2021-04-05T02:25:00+00:00', 'raw_start_date': '2021-04-04T22:24:47-04:00', 'source': 'generated_fuel_mix:ISONE:2021-04-05T02:25:00+00:00', 'unit': 'lbs/MWh'}, 'region': 'ISONE', 'start_date': '2021-04-05T02:25:00+00:00'}, {'data': {'generated_rate': 537.4973348750268, 'marginal_rate': 466.1549974123956}, 'dedup_key': 'ISONE:carbon_intensity:EGRID_u2018_eq:2021-04-05T02:30:00+00:00', 'event_type': 'carbon_intensity', 'meta': {'generated_emissions_source': 'EGRID_u2018_eq', 'inserted_at': '2021-04-05T02:34:22.711100Z', 'marginal_emissions_source': 'EGRID_u2018_eq', 'marginal_source': 'ISONE:marginal_fuel_mix:2021-04-05T02:30:00+00:00', 'raw_start_date': '2021-04-04T22:24:47-04:00', 'source': 'generated_fuel_mix:ISONE:2021-04-05T02:30:00+00:00', 'unit': 'lbs/MWh'}, 'region': 'ISONE', 'start_date': '2021-04-05T02:30:00+00:00'}, {'data': {'generated_rate': 359.2535775094618, 'marginal_rate': 431.84938205402585}, 'dedup_key': 'ISONE:carbon_intensity:EGRID_2018_eq:2021-04-05T02:30:00+00:00', 'event_type': 'carbon_intensity', 'meta': {'generated_emissions_source': 'EGRID_2018_eq', 'inserted_at': '2021-04-05T02:34:22.734548Z', 'marginal_emissions_source': 'EGRID_2018_eq', 'marginal_source': 'ISONE:marginal_fuel_mix:2021-04-05T02:30:00+00:00', 'raw_start_date': '2021-04-04T22:24:47-04:00', 'source': 'generated_fuel_mix:ISONE:2021-04-05T02:30:00+00:00', 'unit': 'lbs/MWh'}, 'region': 'ISONE', 'start_date': '2021-04-05T02:30:00+00:00'}, {'data': {'generated_rate': 359.251265441831, 'marginal_rate': 431.84938205402585}, 'dedup_key': 'ISONE:carbon_intensity:EGRID_2018:2021-04-05T02:30:00+00:00', 'event_type': 'carbon_intensity', 'meta': {'generated_emissions_source': 'EGRID_2018', 'inserted_at': '2021-04-05T02:34:22.713353Z', 'marginal_emissions_source': 'EGRID_2018', 'marginal_source': 'ISONE:marginal_fuel_mix:2021-04-05T02:30:00+00:00', 'raw_start_date': '2021-04-04T22:24:47-04:00', 'source': 'generated_fuel_mix:ISONE:2021-04-05T02:30:00+00:00', 'unit': 'lbs/MWh'}, 'region': 'ISONE', 'start_date': '2021-04-05T02:30:00+00:00'}, {'data': {'generated_rate': 537.4950228073959, 'marginal_rate': 466.1549974123956}, 'dedup_key': 'ISONE:carbon_intensity:2021-04-05T02:30:00+00:00', 'event_type': 'carbon_intensity', 'meta': {'generated_emissions_source': 'EGRID_u2018', 'inserted_at': '2021-04-05T02:34:22.717234Z', 'marginal_emissions_source': 'EGRID_u2018', 'marginal_source': 'ISONE:marginal_fuel_mix:2021-04-05T02:30:00+00:00', 'raw_start_date': '2021-04-04T22:24:47-04:00', 'source': 'generated_fuel_mix:ISONE:2021-04-05T02:30:00+00:00', 'unit': 'lbs/MWh'}, 'region': 'ISONE', 'start_date': '2021-04-05T02:30:00+00:00'}, {'data': {'generated_rate': 529.7424421262435, 'marginal_rate': 466.1549974123956}, 'dedup_key': 'ISONE:carbon_intensity:EGRID_u2018_eq:2021-04-05T02:35:00+00:00', 'event_type': 'carbon_intensity', 'meta': {'generated_emissions_source': 'EGRID_u2018_eq', 'inserted_at': '2021-04-05T02:42:25.460398Z', 'marginal_emissions_source': 'EGRID_u2018_eq', 'marginal_source': 'ISONE:marginal_fuel_mix:2021-04-05T02:35:00+00:00', 'raw_start_date': '2021-04-04T22:33:29-04:00', 'source': 'generated_fuel_mix:ISONE:2021-04-05T02:35:00+00:00', 'unit': 'lbs/MWh'}, 'region': 'ISONE', 'start_date': '2021-04-05T02:35:00+00:00'}, {'data': {'generated_rate': 349.83632032041055, 'marginal_rate': 431.84938205402585}, 'dedup_key': 'ISONE:carbon_intensity:EGRID_2018_eq:2021-04-05T02:35:00+00:00', 'event_type': 'carbon_intensity', 'meta': {'generated_emissions_source': 'EGRID_2018_eq', 'inserted_at': '2021-04-05T02:42:25.556537Z', 'marginal_emissions_source': 'EGRID_2018_eq', 'marginal_source': 'ISONE:marginal_fuel_mix:2021-04-05T02:35:00+00:00', 'raw_start_date': '2021-04-04T22:33:29-04:00', 'source': 'generated_fuel_mix:ISONE:2021-04-05T02:35:00+00:00', 'unit': 'lbs/MWh'}, 'region': 'ISONE', 'start_date': '2021-04-05T02:35:00+00:00'}, {'data': {'generated_rate': 349.8339653938883, 'marginal_rate': 431.84938205402585}, 'dedup_key': 'ISONE:carbon_intensity:EGRID_2018:2021-04-05T02:35:00+00:00', 'event_type': 'carbon_intensity', 'meta': {'generated_emissions_source': 'EGRID_2018', 'inserted_at': '2021-04-05T02:42:25.493571Z', 'marginal_emissions_source': 'EGRID_2018', 'marginal_source': 'ISONE:marginal_fuel_mix:2021-04-05T02:35:00+00:00', 'raw_start_date': '2021-04-04T22:33:29-04:00', 'source': 'generated_fuel_mix:ISONE:2021-04-05T02:35:00+00:00', 'unit': 'lbs/MWh'}, 'region': 'ISONE', 'start_date': '2021-04-05T02:35:00+00:00'}, {'data': {'generated_rate': 529.7400871997213, 'marginal_rate': 466.1549974123956}, 'dedup_key': 'ISONE:carbon_intensity:2021-04-05T02:35:00+00:00', 'event_type': 'carbon_intensity', 'meta': {'generated_emissions_source': 'EGRID_u2018', 'inserted_at': '2021-04-05T02:42:25.447665Z', 'marginal_emissions_source': 'EGRID_u2018', 'marginal_source': 'ISONE:marginal_fuel_mix:2021-04-05T02:35:00+00:00', 'raw_start_date': '2021-04-04T22:33:29-04:00', 'source': 'generated_fuel_mix:ISONE:2021-04-05T02:35:00+00:00', 'unit': 'lbs/MWh'}, 'region': 'ISONE', 'start_date': '2021-04-05T02:35:00+00:00'}, {'data': {'generated_rate': 529.7424421262435, 'marginal_rate': 466.1549974123956}, 'dedup_key': 'ISONE:carbon_intensity:EGRID_u2018_eq:2021-04-05T02:40:00+00:00', 'event_type': 'carbon_intensity', 'meta': {'generated_emissions_source': 'EGRID_u2018_eq', 'inserted_at': '2021-04-05T02:42:26.489298Z', 'marginal_emissions_source': 'EGRID_u2018_eq', 'marginal_source': 'ISONE:marginal_fuel_mix:2021-04-05T02:40:00+00:00', 'raw_start_date': '2021-04-04T22:33:29-04:00', 'source': 'generated_fuel_mix:ISONE:2021-04-05T02:40:00+00:00', 'unit': 'lbs/MWh'}, 'region': 'ISONE', 'start_date': '2021-04-05T02:40:00+00:00'}, {'data': {'generated_rate': 349.83632032041055, 'marginal_rate': 431.84938205402585}, 'dedup_key': 'ISONE:carbon_intensity:EGRID_2018_eq:2021-04-05T02:40:00+00:00', 'event_type': 'carbon_intensity', 'meta': {'generated_emissions_source': 'EGRID_2018_eq', 'inserted_at': '2021-04-05T02:42:26.637391Z', 'marginal_emissions_source': 'EGRID_2018_eq', 'marginal_source': 'ISONE:marginal_fuel_mix:2021-04-05T02:40:00+00:00', 'raw_start_date': '2021-04-04T22:33:29-04:00', 'source': 'generated_fuel_mix:ISONE:2021-04-05T02:40:00+00:00', 'unit': 'lbs/MWh'}, 'region': 'ISONE', 'start_date': '2021-04-05T02:40:00+00:00'}, {'data': {'generated_rate': 349.8339653938883, 'marginal_rate': 431.84938205402585}, 'dedup_key': 'ISONE:carbon_intensity:EGRID_2018:2021-04-05T02:40:00+00:00', 'event_type': 'carbon_intensity', 'meta': {'generated_emissions_source': 'EGRID_2018', 'inserted_at': '2021-04-05T02:42:26.502309Z', 'marginal_emissions_source': 'EGRID_2018', 'marginal_source': 'ISONE:marginal_fuel_mix:2021-04-05T02:40:00+00:00', 'raw_start_date': '2021-04-04T22:33:29-04:00', 'source': 'generated_fuel_mix:ISONE:2021-04-05T02:40:00+00:00', 'unit': 'lbs/MWh'}, 'region': 'ISONE', 'start_date': '2021-04-05T02:40:00+00:00'}, {'data': {'generated_rate': 529.7400871997213, 'marginal_rate': 466.1549974123956}, 'dedup_key': 'ISONE:carbon_intensity:2021-04-05T02:40:00+00:00', 'event_type': 'carbon_intensity', 'meta': {'generated_emissions_source': 'EGRID_u2018', 'inserted_at': '2021-04-05T02:42:26.573477Z', 'marginal_emissions_source': 'EGRID_u2018', 'marginal_source': 'ISONE:marginal_fuel_mix:2021-04-05T02:40:00+00:00', 'raw_start_date': '2021-04-04T22:33:29-04:00', 'source': 'generated_fuel_mix:ISONE:2021-04-05T02:40:00+00:00', 'unit': 'lbs/MWh'}, 'region': 'ISONE', 'start_date': '2021-04-05T02:40:00+00:00'}, {'data': {'generated_rate': 529.1184099745456, 'marginal_rate': 466.1549974123956}, 'dedup_key': 'ISONE:carbon_intensity:EGRID_u2018_eq:2021-04-05T02:45:00+00:00', 'event_type': 'carbon_intensity', 'meta': {'generated_emissions_source': 'EGRID_u2018_eq', 'inserted_at': '2021-04-05T02:54:24.537931Z', 'marginal_emissions_source': 'EGRID_u2018_eq', 'marginal_source': 'ISONE:marginal_fuel_mix:2021-04-05T02:45:00+00:00', 'raw_start_date': '2021-04-04T22:41:46-04:00', 'source': 'generated_fuel_mix:ISONE:2021-04-05T02:45:00+00:00', 'unit': 'lbs/MWh'}, 'region': 'ISONE', 'start_date': '2021-04-05T02:45:00+00:00'}, {'data': {'generated_rate': 348.17270638372855, 'marginal_rate': 431.84938205402585}, 'dedup_key': 'ISONE:carbon_intensity:EGRID_2018_eq:2021-04-05T02:45:00+00:00', 'event_type': 'carbon_intensity', 'meta': {'generated_emissions_source': 'EGRID_2018_eq', 'inserted_at': '2021-04-05T02:54:24.282182Z', 'marginal_emissions_source': 'EGRID_2018_eq', 'marginal_source': 'ISONE:marginal_fuel_mix:2021-04-05T02:45:00+00:00', 'raw_start_date': '2021-04-04T22:41:46-04:00', 'source': 'generated_fuel_mix:ISONE:2021-04-05T02:45:00+00:00', 'unit': 'lbs/MWh'}, 'region': 'ISONE', 'start_date': '2021-04-05T02:45:00+00:00'}, {'data': {'generated_rate': 348.17033867495127, 'marginal_rate': 431.84938205402585}, 'dedup_key': 'ISONE:carbon_intensity:EGRID_2018:2021-04-05T02:45:00+00:00', 'event_type': 'carbon_intensity', 'meta': {'generated_emissions_source': 'EGRID_2018', 'inserted_at': '2021-04-05T02:54:24.092740Z', 'marginal_emissions_source': 'EGRID_2018', 'marginal_source': 'ISONE:marginal_fuel_mix:2021-04-05T02:45:00+00:00', 'raw_start_date': '2021-04-04T22:41:46-04:00', 'source': 'generated_fuel_mix:ISONE:2021-04-05T02:45:00+00:00', 'unit': 'lbs/MWh'}, 'region': 'ISONE', 'start_date': '2021-04-05T02:45:00+00:00'}, {'data': {'generated_rate': 529.1160422657684, 'marginal_rate': 466.1549974123956}, 'dedup_key': 'ISONE:carbon_intensity:2021-04-05T02:45:00+00:00', 'event_type': 'carbon_intensity', 'meta': {'generated_emissions_source': 'EGRID_u2018', 'inserted_at': '2021-04-05T02:54:24.420481Z', 'marginal_emissions_source': 'EGRID_u2018', 'marginal_source': 'ISONE:marginal_fuel_mix:2021-04-05T02:45:00+00:00', 'raw_start_date': '2021-04-04T22:41:46-04:00', 'source': 'generated_fuel_mix:ISONE:2021-04-05T02:45:00+00:00', 'unit': 'lbs/MWh'}, 'region': 'ISONE', 'start_date': '2021-04-05T02:45:00+00:00'}, {'data': {'generated_rate': 529.1184099745456, 'marginal_rate': 466.1549974123956}, 'dedup_key': 'ISONE:carbon_intensity:EGRID_u2018_eq:2021-04-05T02:50:00+00:00', 'event_type': 'carbon_intensity', 'meta': {'generated_emissions_source': 'EGRID_u2018_eq', 'inserted_at': '2021-04-05T02:54:23.342280Z', 'marginal_emissions_source': 'EGRID_u2018_eq', 'marginal_source': 'ISONE:marginal_fuel_mix:2021-04-05T02:50:00+00:00', 'raw_start_date': '2021-04-04T22:41:46-04:00', 'source': 'generated_fuel_mix:ISONE:2021-04-05T02:50:00+00:00', 'unit': 'lbs/MWh'}, 'region': 'ISONE', 'start_date': '2021-04-05T02:50:00+00:00'}, {'data': {'generated_rate': 348.17270638372855, 'marginal_rate': 431.84938205402585}, 'dedup_key': 'ISONE:carbon_intensity:EGRID_2018_eq:2021-04-05T02:50:00+00:00', 'event_type': 'carbon_intensity', 'meta': {'generated_emissions_source': 'EGRID_2018_eq', 'inserted_at': '2021-04-05T02:54:23.157201Z', 'marginal_emissions_source': 'EGRID_2018_eq', 'marginal_source': 'ISONE:marginal_fuel_mix:2021-04-05T02:50:00+00:00', 'raw_start_date': '2021-04-04T22:41:46-04:00', 'source': 'generated_fuel_mix:ISONE:2021-04-05T02:50:00+00:00', 'unit': 'lbs/MWh'}, 'region': 'ISONE', 'start_date': '2021-04-05T02:50:00+00:00'}, {'data': {'generated_rate': 348.17033867495127, 'marginal_rate': 431.84938205402585}, 'dedup_key': 'ISONE:carbon_intensity:EGRID_2018:2021-04-05T02:50:00+00:00', 'event_type': 'carbon_intensity', 'meta': {'generated_emissions_source': 'EGRID_2018', 'inserted_at': '2021-04-05T02:54:24.044892Z', 'marginal_emissions_source': 'EGRID_2018', 'marginal_source': 'ISONE:marginal_fuel_mix:2021-04-05T02:50:00+00:00', 'raw_start_date': '2021-04-04T22:41:46-04:00', 'source': 'generated_fuel_mix:ISONE:2021-04-05T02:50:00+00:00', 'unit': 'lbs/MWh'}, 'region': 'ISONE', 'start_date': '2021-04-05T02:50:00+00:00'}, {'data': {'generated_rate': 529.1160422657684, 'marginal_rate': 466.1549974123956}, 'dedup_key': 'ISONE:carbon_intensity:2021-04-05T02:50:00+00:00', 'event_type': 'carbon_intensity', 'meta': {'generated_emissions_source': 'EGRID_u2018', 'inserted_at': '2021-04-05T02:54:24.367827Z', 'marginal_emissions_source': 'EGRID_u2018', 'marginal_source': 'ISONE:marginal_fuel_mix:2021-04-05T02:50:00+00:00', 'raw_start_date': '2021-04-04T22:41:46-04:00', 'source': 'generated_fuel_mix:ISONE:2021-04-05T02:50:00+00:00', 'unit': 'lbs/MWh'}, 'region': 'ISONE', 'start_date': '2021-04-05T02:50:00+00:00'}, {'data': {'generated_rate': 529.5697839399187, 'marginal_rate': 466.1549974123956}, 'dedup_key': 'ISONE:carbon_intensity:EGRID_u2018_eq:2021-04-05T02:55:00+00:00', 'event_type': 'carbon_intensity', 'meta': {'generated_emissions_source': 'EGRID_u2018_eq', 'inserted_at': '2021-04-05T03:01:23.781328Z', 'marginal_emissions_source': 'EGRID_u2018_eq', 'marginal_source': 'ISONE:marginal_fuel_mix:2021-04-05T02:55:00+00:00', 'raw_start_date': '2021-04-04T22:53:32-04:00', 'source': 'generated_fuel_mix:ISONE:2021-04-05T02:55:00+00:00', 'unit': 'lbs/MWh'}, 'region': 'ISONE', 'start_date': '2021-04-05T02:55:00+00:00'}, {'data': {'generated_rate': 349.36403132089316, 'marginal_rate': 431.84938205402585}, 'dedup_key': 'ISONE:carbon_intensity:EGRID_2018_eq:2021-04-05T02:55:00+00:00', 'event_type': 'carbon_intensity', 'meta': {'generated_emissions_source': 'EGRID_2018_eq', 'inserted_at': '2021-04-05T03:01:24.020463Z', 'marginal_emissions_source': 'EGRID_2018_eq', 'marginal_source': 'ISONE:marginal_fuel_mix:2021-04-05T02:55:00+00:00', 'raw_start_date': '2021-04-04T22:53:32-04:00', 'source': 'generated_fuel_mix:ISONE:2021-04-05T02:55:00+00:00', 'unit': 'lbs/MWh'}, 'region': 'ISONE', 'start_date': '2021-04-05T02:55:00+00:00'}, {'data': {'generated_rate': 349.2972925558743, 'marginal_rate': 431.84938205402585}, 'dedup_key': 'ISONE:carbon_intensity:EGRID_2018:2021-04-05T02:55:00+00:00', 'event_type': 'carbon_intensity', 'meta': {'generated_emissions_source': 'EGRID_2018', 'inserted_at': '2021-04-05T03:01:24.063915Z', 'marginal_emissions_source': 'EGRID_2018', 'marginal_source': 'ISONE:marginal_fuel_mix:2021-04-05T02:55:00+00:00', 'raw_start_date': '2021-04-04T22:53:32-04:00', 'source': 'generated_fuel_mix:ISONE:2021-04-05T02:55:00+00:00', 'unit': 'lbs/MWh'}, 'region': 'ISONE', 'start_date': '2021-04-05T02:55:00+00:00'}, {'data': {'generated_rate': 529.1135207082365, 'marginal_rate': 466.1549974123956}, 'dedup_key': 'ISONE:carbon_intensity:2021-04-05T02:55:00+00:00', 'event_type': 'carbon_intensity', 'meta': {'generated_emissions_source': 'EGRID_u2018', 'inserted_at': '2021-04-05T03:01:23.758580Z', 'marginal_emissions_source': 'EGRID_u2018', 'marginal_source': 'ISONE:marginal_fuel_mix:2021-04-05T02:55:00+00:00', 'raw_start_date': '2021-04-04T22:53:32-04:00', 'source': 'generated_fuel_mix:ISONE:2021-04-05T02:55:00+00:00', 'unit': 'lbs/MWh'}, 'region': 'ISONE', 'start_date': '2021-04-05T02:55:00+00:00'}, {'data': {'generated_rate': 529.5697839399187, 'marginal_rate': 466.1549974123956}, 'dedup_key': 'ISONE:carbon_intensity:EGRID_u2018_eq:2021-04-05T03:00:00+00:00', 'event_type': 'carbon_intensity', 'meta': {'generated_emissions_source': 'EGRID_u2018_eq', 'inserted_at': '2021-04-05T03:01:23.959817Z', 'marginal_emissions_source': 'EGRID_u2018_eq', 'marginal_source': 'ISONE:marginal_fuel_mix:2021-04-05T03:00:00+00:00', 'raw_start_date': '2021-04-04T22:53:32-04:00', 'source': 'generated_fuel_mix:ISONE:2021-04-05T03:00:00+00:00', 'unit': 'lbs/MWh'}, 'region': 'ISONE', 'start_date': '2021-04-05T03:00:00+00:00'}, {'data': {'generated_rate': 349.36403132089316, 'marginal_rate': 431.84938205402585}, 'dedup_key': 'ISONE:carbon_intensity:EGRID_2018_eq:2021-04-05T03:00:00+00:00', 'event_type': 'carbon_intensity', 'meta': {'generated_emissions_source': 'EGRID_2018_eq', 'inserted_at': '2021-04-05T03:01:23.688265Z', 'marginal_emissions_source': 'EGRID_2018_eq', 'marginal_source': 'ISONE:marginal_fuel_mix:2021-04-05T03:00:00+00:00', 'raw_start_date': '2021-04-04T22:53:32-04:00', 'source': 'generated_fuel_mix:ISONE:2021-04-05T03:00:00+00:00', 'unit': 'lbs/MWh'}, 'region': 'ISONE', 'start_date': '2021-04-05T03:00:00+00:00'}, {'data': {'generated_rate': 349.2972925558743, 'marginal_rate': 431.84938205402585}, 'dedup_key': 'ISONE:carbon_intensity:EGRID_2018:2021-04-05T03:00:00+00:00', 'event_type': 'carbon_intensity', 'meta': {'generated_emissions_source': 'EGRID_2018', 'inserted_at': '2021-04-05T03:01:23.699068Z', 'marginal_emissions_source': 'EGRID_2018', 'marginal_source': 'ISONE:marginal_fuel_mix:2021-04-05T03:00:00+00:00', 'raw_start_date': '2021-04-04T22:53:32-04:00', 'source': 'generated_fuel_mix:ISONE:2021-04-05T03:00:00+00:00', 'unit': 'lbs/MWh'}, 'region': 'ISONE', 'start_date': '2021-04-05T03:00:00+00:00'}, {'data': {'generated_rate': 529.1135207082365, 'marginal_rate': 466.1549974123956}, 'dedup_key': 'ISONE:carbon_intensity:2021-04-05T03:00:00+00:00', 'event_type': 'carbon_intensity', 'meta': {'generated_emissions_source': 'EGRID_u2018', 'inserted_at': '2021-04-05T03:01:23.743837Z', 'marginal_emissions_source': 'EGRID_u2018', 'marginal_source': 'ISONE:marginal_fuel_mix:2021-04-05T03:00:00+00:00', 'raw_start_date': '2021-04-04T22:53:32-04:00', 'source': 'generated_fuel_mix:ISONE:2021-04-05T03:00:00+00:00', 'unit': 'lbs/MWh'}, 'region': 'ISONE', 'start_date': '2021-04-05T03:00:00+00:00'}, {'data': {'generated_rate': 530.4323532207464, 'marginal_rate': 466.1549974123956}, 'dedup_key': 'ISONE:carbon_intensity:EGRID_u2018_eq:2021-04-05T03:05:00+00:00', 'event_type': 'carbon_intensity', 'meta': {'generated_emissions_source': 'EGRID_u2018_eq', 'inserted_at': '2021-04-05T03:10:25.291539Z', 'marginal_emissions_source': 'EGRID_u2018_eq', 'marginal_source': 'ISONE:marginal_fuel_mix:2021-04-05T03:05:00+00:00', 'raw_start_date': '2021-04-04T23:01:06-04:00', 'source': 'generated_fuel_mix:ISONE:2021-04-05T03:05:00+00:00', 'unit': 'lbs/MWh'}, 'region': 'ISONE', 'start_date': '2021-04-05T03:05:00+00:00'}, {'data': {'generated_rate': 347.8465995244338, 'marginal_rate': 431.84938205402585}, 'dedup_key': 'ISONE:carbon_intensity:EGRID_2018_eq:2021-04-05T03:05:00+00:00', 'event_type': 'carbon_intensity', 'meta': {'generated_emissions_source': 'EGRID_2018_eq', 'inserted_at': '2021-04-05T03:10:25.491157Z', 'marginal_emissions_source': 'EGRID_2018_eq', 'marginal_source': 'ISONE:marginal_fuel_mix:2021-04-05T03:05:00+00:00', 'raw_start_date': '2021-04-04T23:01:06-04:00', 'source': 'generated_fuel_mix:ISONE:2021-04-05T03:05:00+00:00', 'unit': 'lbs/MWh'}, 'region': 'ISONE', 'start_date': '2021-04-05T03:05:00+00:00'}, {'data': {'generated_rate': 347.8443400798072, 'marginal_rate': 431.84938205402585}, 'dedup_key': 'ISONE:carbon_intensity:EGRID_2018:2021-04-05T03:05:00+00:00', 'event_type': 'carbon_intensity', 'meta': {'generated_emissions_source': 'EGRID_2018', 'inserted_at': '2021-04-05T03:10:25.753950Z', 'marginal_emissions_source': 'EGRID_2018', 'marginal_source': 'ISONE:marginal_fuel_mix:2021-04-05T03:05:00+00:00', 'raw_start_date': '2021-04-04T23:01:06-04:00', 'source': 'generated_fuel_mix:ISONE:2021-04-05T03:05:00+00:00', 'unit': 'lbs/MWh'}, 'region': 'ISONE', 'start_date': '2021-04-05T03:05:00+00:00'}, {'data': {'generated_rate': 530.4300937761197, 'marginal_rate': 466.1549974123956}, 'dedup_key': 'ISONE:carbon_intensity:2021-04-05T03:05:00+00:00', 'event_type': 'carbon_intensity', 'meta': {'generated_emissions_source': 'EGRID_u2018', 'inserted_at': '2021-04-05T03:10:25.177345Z', 'marginal_emissions_source': 'EGRID_u2018', 'marginal_source': 'ISONE:marginal_fuel_mix:2021-04-05T03:05:00+00:00', 'raw_start_date': '2021-04-04T23:01:06-04:00', 'source': 'generated_fuel_mix:ISONE:2021-04-05T03:05:00+00:00', 'unit': 'lbs/MWh'}, 'region': 'ISONE', 'start_date': '2021-04-05T03:05:00+00:00'}, {'data': {'generated_rate': 534.1718655444087, 'marginal_rate': 466.1549974123956}, 'dedup_key': 'ISONE:carbon_intensity:EGRID_u2018_eq:2021-04-05T03:10:00+00:00', 'event_type': 'carbon_intensity', 'meta': {'generated_emissions_source': 'EGRID_u2018_eq', 'inserted_at': '2021-04-05T03:19:25.295387Z', 'marginal_emissions_source': 'EGRID_u2018_eq', 'marginal_source': 'ISONE:marginal_fuel_mix:2021-04-05T03:10:00+00:00', 'raw_start_date': '2021-04-04T23:09:42-04:00', 'source': 'generated_fuel_mix:ISONE:2021-04-05T03:10:00+00:00', 'unit': 'lbs/MWh'}, 'region': 'ISONE', 'start_date': '2021-04-05T03:10:00+00:00'}, {'data': {'generated_rate': 352.2273385698917, 'marginal_rate': 431.84938205402585}, 'dedup_key': 'ISONE:carbon_intensity:EGRID_2018_eq:2021-04-05T03:10:00+00:00', 'event_type': 'carbon_intensity', 'meta': {'generated_emissions_source': 'EGRID_2018_eq', 'inserted_at': '2021-04-05T03:19:25.266816Z', 'marginal_emissions_source': 'EGRID_2018_eq', 'marginal_source': 'ISONE:marginal_fuel_mix:2021-04-05T03:10:00+00:00', 'raw_start_date': '2021-04-04T23:09:42-04:00', 'source': 'generated_fuel_mix:ISONE:2021-04-05T03:10:00+00:00', 'unit': 'lbs/MWh'}, 'region': 'ISONE', 'start_date': '2021-04-05T03:10:00+00:00'}, {'data': {'generated_rate': 352.2250981378102, 'marginal_rate': 431.84938205402585}, 'dedup_key': 'ISONE:carbon_intensity:EGRID_2018:2021-04-05T03:10:00+00:00', 'event_type': 'carbon_intensity', 'meta': {'generated_emissions_source': 'EGRID_2018', 'inserted_at': '2021-04-05T03:19:25.170275Z', 'marginal_emissions_source': 'EGRID_2018', 'marginal_source': 'ISONE:marginal_fuel_mix:2021-04-05T03:10:00+00:00', 'raw_start_date': '2021-04-04T23:09:42-04:00', 'source': 'generated_fuel_mix:ISONE:2021-04-05T03:10:00+00:00', 'unit': 'lbs/MWh'}, 'region': 'ISONE', 'start_date': '2021-04-05T03:10:00+00:00'}, {'data': {'generated_rate': 534.1696251123271, 'marginal_rate': 466.1549974123956}, 'dedup_key': 'ISONE:carbon_intensity:2021-04-05T03:10:00+00:00', 'event_type': 'carbon_intensity', 'meta': {'generated_emissions_source': 'EGRID_u2018', 'inserted_at': '2021-04-05T03:19:25.070275Z', 'marginal_emissions_source': 'EGRID_u2018', 'marginal_source': 'ISONE:marginal_fuel_mix:2021-04-05T03:10:00+00:00', 'raw_start_date': '2021-04-04T23:09:42-04:00', 'source': 'generated_fuel_mix:ISONE:2021-04-05T03:10:00+00:00', 'unit': 'lbs/MWh'}, 'region': 'ISONE', 'start_date': '2021-04-05T03:10:00+00:00'}, {'data': {'generated_rate': 534.1718655444087, 'marginal_rate': 466.1549974123956}, 'dedup_key': 'ISONE:carbon_intensity:EGRID_u2018_eq:2021-04-05T03:15:00+00:00', 'event_type': 'carbon_intensity', 'meta': {'generated_emissions_source': 'EGRID_u2018_eq', 'inserted_at': '2021-04-05T03:19:25.348747Z', 'marginal_emissions_source': 'EGRID_u2018_eq', 'marginal_source': 'ISONE:marginal_fuel_mix:2021-04-05T03:15:00+00:00', 'raw_start_date': '2021-04-04T23:09:42-04:00', 'source': 'generated_fuel_mix:ISONE:2021-04-05T03:15:00+00:00', 'unit': 'lbs/MWh'}, 'region': 'ISONE', 'start_date': '2021-04-05T03:15:00+00:00'}, {'data': {'generated_rate': 352.2273385698917, 'marginal_rate': 431.84938205402585}, 'dedup_key': 'ISONE:carbon_intensity:EGRID_2018_eq:2021-04-05T03:15:00+00:00', 'event_type': 'carbon_intensity', 'meta': {'generated_emissions_source': 'EGRID_2018_eq', 'inserted_at': '2021-04-05T03:19:25.349644Z', 'marginal_emissions_source': 'EGRID_2018_eq', 'marginal_source': 'ISONE:marginal_fuel_mix:2021-04-05T03:15:00+00:00', 'raw_start_date': '2021-04-04T23:09:42-04:00', 'source': 'generated_fuel_mix:ISONE:2021-04-05T03:15:00+00:00', 'unit': 'lbs/MWh'}, 'region': 'ISONE', 'start_date': '2021-04-05T03:15:00+00:00'}, {'data': {'generated_rate': 352.2250981378102, 'marginal_rate': 431.84938205402585}, 'dedup_key': 'ISONE:carbon_intensity:EGRID_2018:2021-04-05T03:15:00+00:00', 'event_type': 'carbon_intensity', 'meta': {'generated_emissions_source': 'EGRID_2018', 'inserted_at': '2021-04-05T03:19:25.449616Z', 'marginal_emissions_source': 'EGRID_2018', 'marginal_source': 'ISONE:marginal_fuel_mix:2021-04-05T03:15:00+00:00', 'raw_start_date': '2021-04-04T23:09:42-04:00', 'source': 'generated_fuel_mix:ISONE:2021-04-05T03:15:00+00:00', 'unit': 'lbs/MWh'}, 'region': 'ISONE', 'start_date': '2021-04-05T03:15:00+00:00'}, {'data': {'generated_rate': 534.1696251123271, 'marginal_rate': 466.1549974123956}, 'dedup_key': 'ISONE:carbon_intensity:2021-04-05T03:15:00+00:00', 'event_type': 'carbon_intensity', 'meta': {'generated_emissions_source': 'EGRID_u2018', 'inserted_at': '2021-04-05T03:19:25.154839Z', 'marginal_emissions_source': 'EGRID_u2018', 'marginal_source': 'ISONE:marginal_fuel_mix:2021-04-05T03:15:00+00:00', 'raw_start_date': '2021-04-04T23:09:42-04:00', 'source': 'generated_fuel_mix:ISONE:2021-04-05T03:15:00+00:00', 'unit': 'lbs/MWh'}, 'region': 'ISONE', 'start_date': '2021-04-05T03:15:00+00:00'}, {'data': {'generated_rate': 538.9401456624921, 'marginal_rate': 466.1549974123956}, 'dedup_key': 'ISONE:carbon_intensity:EGRID_u2018_eq:2021-04-05T03:20:00+00:00', 'event_type': 'carbon_intensity', 'meta': {'generated_emissions_source': 'EGRID_u2018_eq', 'inserted_at': '2021-04-05T03:25:25.382894Z', 'marginal_emissions_source': 'EGRID_u2018_eq', 'marginal_source': 'ISONE:marginal_fuel_mix:2021-04-05T03:20:00+00:00', 'raw_start_date': '2021-04-04T23:18:28-04:00', 'source': 'generated_fuel_mix:ISONE:2021-04-05T03:20:00+00:00', 'unit': 'lbs/MWh'}, 'region': 'ISONE', 'start_date': '2021-04-05T03:20:00+00:00'}, {'data': {'generated_rate': 349.85427493847254, 'marginal_rate': 431.84938205402585}, 'dedup_key': 'ISONE:carbon_intensity:EGRID_2018_eq:2021-04-05T03:20:00+00:00', 'event_type': 'carbon_intensity', 'meta': {'generated_emissions_source': 'EGRID_2018_eq', 'inserted_at': '2021-04-05T03:25:25.351995Z', 'marginal_emissions_source': 'EGRID_2018_eq', 'marginal_source': 'ISONE:marginal_fuel_mix:2021-04-05T03:20:00+00:00', 'raw_start_date': '2021-04-04T23:18:28-04:00', 'source': 'generated_fuel_mix:ISONE:2021-04-05T03:20:00+00:00', 'unit': 'lbs/MWh'}, 'region': 'ISONE', 'start_date': '2021-04-05T03:20:00+00:00'}, {'data': {'generated_rate': 348.8773295370772, 'marginal_rate': 431.84938205402585}, 'dedup_key': 'ISONE:carbon_intensity:EGRID_2018:2021-04-05T03:20:00+00:00', 'event_type': 'carbon_intensity', 'meta': {'generated_emissions_source': 'EGRID_2018', 'inserted_at': '2021-04-05T03:25:25.343192Z', 'marginal_emissions_source': 'EGRID_2018', 'marginal_source': 'ISONE:marginal_fuel_mix:2021-04-05T03:20:00+00:00', 'raw_start_date': '2021-04-04T23:18:28-04:00', 'source': 'generated_fuel_mix:ISONE:2021-04-05T03:20:00+00:00', 'unit': 'lbs/MWh'}, 'region': 'ISONE', 'start_date': '2021-04-05T03:20:00+00:00'}, {'data': {'generated_rate': 532.0660378307842, 'marginal_rate': 466.1549974123956}, 'dedup_key': 'ISONE:carbon_intensity:2021-04-05T03:20:00+00:00', 'event_type': 'carbon_intensity', 'meta': {'generated_emissions_source': 'EGRID_u2018', 'inserted_at': '2021-04-05T03:25:25.336980Z', 'marginal_emissions_source': 'EGRID_u2018', 'marginal_source': 'ISONE:marginal_fuel_mix:2021-04-05T03:20:00+00:00', 'raw_start_date': '2021-04-04T23:18:28-04:00', 'source': 'generated_fuel_mix:ISONE:2021-04-05T03:20:00+00:00', 'unit': 'lbs/MWh'}, 'region': 'ISONE', 'start_date': '2021-04-05T03:20:00+00:00'}, {'data': {'generated_rate': 539.2841846360554, 'marginal_rate': 466.1549974123956}, 'dedup_key': 'ISONE:carbon_intensity:EGRID_u2018_eq:2021-04-05T03:25:00+00:00', 'event_type': 'carbon_intensity', 'meta': {'generated_emissions_source': 'EGRID_u2018_eq', 'inserted_at': '2021-04-05T03:36:23.668769Z', 'marginal_emissions_source': 'EGRID_u2018_eq', 'marginal_source': 'ISONE:marginal_fuel_mix:2021-04-05T03:25:00+00:00', 'raw_start_date': '2021-04-04T23:23:07-04:00', 'source': 'generated_fuel_mix:ISONE:2021-04-05T03:25:00+00:00', 'unit': 'lbs/MWh'}, 'region': 'ISONE', 'start_date': '2021-04-05T03:25:00+00:00'}, {'data': {'generated_rate': 356.8672999838983, 'marginal_rate': 431.84938205402585}, 'dedup_key': 'ISONE:carbon_intensity:EGRID_2018_eq:2021-04-05T03:25:00+00:00', 'event_type': 'carbon_intensity', 'meta': {'generated_emissions_source': 'EGRID_2018_eq', 'inserted_at': '2021-04-05T03:36:23.812108Z', 'marginal_emissions_source': 'EGRID_2018_eq', 'marginal_source': 'ISONE:marginal_fuel_mix:2021-04-05T03:25:00+00:00', 'raw_start_date': '2021-04-04T23:23:07-04:00', 'source': 'generated_fuel_mix:ISONE:2021-04-05T03:25:00+00:00', 'unit': 'lbs/MWh'}, 'region': 'ISONE', 'start_date': '2021-04-05T03:25:00+00:00'}, {'data': {'generated_rate': 356.8651018328741, 'marginal_rate': 431.84938205402585}, 'dedup_key': 'ISONE:carbon_intensity:EGRID_2018:2021-04-05T03:25:00+00:00', 'event_type': 'carbon_intensity', 'meta': {'generated_emissions_source': 'EGRID_2018', 'inserted_at': '2021-04-05T03:36:23.663345Z', 'marginal_emissions_source': 'EGRID_2018', 'marginal_source': 'ISONE:marginal_fuel_mix:2021-04-05T03:25:00+00:00', 'raw_start_date': '2021-04-04T23:23:07-04:00', 'source': 'generated_fuel_mix:ISONE:2021-04-05T03:25:00+00:00', 'unit': 'lbs/MWh'}, 'region': 'ISONE', 'start_date': '2021-04-05T03:25:00+00:00'}, {'data': {'generated_rate': 539.2819864850311, 'marginal_rate': 466.1549974123956}, 'dedup_key': 'ISONE:carbon_intensity:2021-04-05T03:25:00+00:00', 'event_type': 'carbon_intensity', 'meta': {'generated_emissions_source': 'EGRID_u2018', 'inserted_at': '2021-04-05T03:36:23.644538Z', 'marginal_emissions_source': 'EGRID_u2018', 'marginal_source': 'ISONE:marginal_fuel_mix:2021-04-05T03:25:00+00:00', 'raw_start_date': '2021-04-04T23:23:07-04:00', 'source': 'generated_fuel_mix:ISONE:2021-04-05T03:25:00+00:00', 'unit': 'lbs/MWh'}, 'region': 'ISONE', 'start_date': '2021-04-05T03:25:00+00:00'}, {'data': {'generated_rate': 539.2841846360554, 'marginal_rate': 466.1549974123956}, 'dedup_key': 'ISONE:carbon_intensity:EGRID_u2018_eq:2021-04-05T03:30:00+00:00', 'event_type': 'carbon_intensity', 'meta': {'generated_emissions_source': 'EGRID_u2018_eq', 'inserted_at': '2021-04-05T03:36:23.808557Z', 'marginal_emissions_source': 'EGRID_u2018_eq', 'marginal_source': 'ISONE:marginal_fuel_mix:2021-04-05T03:30:00+00:00', 'raw_start_date': '2021-04-04T23:23:07-04:00', 'source': 'generated_fuel_mix:ISONE:2021-04-05T03:30:00+00:00', 'unit': 'lbs/MWh'}, 'region': 'ISONE', 'start_date': '2021-04-05T03:30:00+00:00'}, {'data': {'generated_rate': 356.8672999838983, 'marginal_rate': 431.84938205402585}, 'dedup_key': 'ISONE:carbon_intensity:EGRID_2018_eq:2021-04-05T03:30:00+00:00', 'event_type': 'carbon_intensity', 'meta': {'generated_emissions_source': 'EGRID_2018_eq', 'inserted_at': '2021-04-05T03:36:23.806810Z', 'marginal_emissions_source': 'EGRID_2018_eq', 'marginal_source': 'ISONE:marginal_fuel_mix:2021-04-05T03:30:00+00:00', 'raw_start_date': '2021-04-04T23:23:07-04:00', 'source': 'generated_fuel_mix:ISONE:2021-04-05T03:30:00+00:00', 'unit': 'lbs/MWh'}, 'region': 'ISONE', 'start_date': '2021-04-05T03:30:00+00:00'}, {'data': {'generated_rate': 356.8651018328741, 'marginal_rate': 431.84938205402585}, 'dedup_key': 'ISONE:carbon_intensity:EGRID_2018:2021-04-05T03:30:00+00:00', 'event_type': 'carbon_intensity', 'meta': {'generated_emissions_source': 'EGRID_2018', 'inserted_at': '2021-04-05T03:36:23.767226Z', 'marginal_emissions_source': 'EGRID_2018', 'marginal_source': 'ISONE:marginal_fuel_mix:2021-04-05T03:30:00+00:00', 'raw_start_date': '2021-04-04T23:23:07-04:00', 'source': 'generated_fuel_mix:ISONE:2021-04-05T03:30:00+00:00', 'unit': 'lbs/MWh'}, 'region': 'ISONE', 'start_date': '2021-04-05T03:30:00+00:00'}, {'data': {'generated_rate': 539.2819864850311, 'marginal_rate': 466.1549974123956}, 'dedup_key': 'ISONE:carbon_intensity:2021-04-05T03:30:00+00:00', 'event_type': 'carbon_intensity', 'meta': {'generated_emissions_source': 'EGRID_u2018', 'inserted_at': '2021-04-05T03:36:23.762035Z', 'marginal_emissions_source': 'EGRID_u2018', 'marginal_source': 'ISONE:marginal_fuel_mix:2021-04-05T03:30:00+00:00', 'raw_start_date': '2021-04-04T23:23:07-04:00', 'source': 'generated_fuel_mix:ISONE:2021-04-05T03:30:00+00:00', 'unit': 'lbs/MWh'}, 'region': 'ISONE', 'start_date': '2021-04-05T03:30:00+00:00'}, {'data': {'generated_rate': 539.2841846360554, 'marginal_rate': 466.1549974123956}, 'dedup_key': 'ISONE:carbon_intensity:EGRID_u2018_eq:2021-04-05T03:35:00+00:00', 'event_type': 'carbon_intensity', 'meta': {'generated_emissions_source': 'EGRID_u2018_eq', 'inserted_at': '2021-04-05T03:36:23.242110Z', 'marginal_emissions_source': 'EGRID_u2018_eq', 'marginal_source': 'ISONE:marginal_fuel_mix:2021-04-05T03:35:00+00:00', 'raw_start_date': '2021-04-04T23:23:07-04:00', 'source': 'generated_fuel_mix:ISONE:2021-04-05T03:35:00+00:00', 'unit': 'lbs/MWh'}, 'region': 'ISONE', 'start_date': '2021-04-05T03:35:00+00:00'}, {'data': {'generated_rate': 356.8672999838983, 'marginal_rate': 431.84938205402585}, 'dedup_key': 'ISONE:carbon_intensity:EGRID_2018_eq:2021-04-05T03:35:00+00:00', 'event_type': 'carbon_intensity', 'meta': {'generated_emissions_source': 'EGRID_2018_eq', 'inserted_at': '2021-04-05T03:36:23.264026Z', 'marginal_emissions_source': 'EGRID_2018_eq', 'marginal_source': 'ISONE:marginal_fuel_mix:2021-04-05T03:35:00+00:00', 'raw_start_date': '2021-04-04T23:23:07-04:00', 'source': 'generated_fuel_mix:ISONE:2021-04-05T03:35:00+00:00', 'unit': 'lbs/MWh'}, 'region': 'ISONE', 'start_date': '2021-04-05T03:35:00+00:00'}, {'data': {'generated_rate': 356.8651018328741, 'marginal_rate': 431.84938205402585}, 'dedup_key': 'ISONE:carbon_intensity:EGRID_2018:2021-04-05T03:35:00+00:00', 'event_type': 'carbon_intensity', 'meta': {'generated_emissions_source': 'EGRID_2018', 'inserted_at': '2021-04-05T03:36:23.193700Z', 'marginal_emissions_source': 'EGRID_2018', 'marginal_source': 'ISONE:marginal_fuel_mix:2021-04-05T03:35:00+00:00', 'raw_start_date': '2021-04-04T23:23:07-04:00', 'source': 'generated_fuel_mix:ISONE:2021-04-05T03:35:00+00:00', 'unit': 'lbs/MWh'}, 'region': 'ISONE', 'start_date': '2021-04-05T03:35:00+00:00'}, {'data': {'generated_rate': 539.2819864850311, 'marginal_rate': 466.1549974123956}, 'dedup_key': 'ISONE:carbon_intensity:2021-04-05T03:35:00+00:00', 'event_type': 'carbon_intensity', 'meta': {'generated_emissions_source': 'EGRID_u2018', 'inserted_at': '2021-04-05T03:36:23.262356Z', 'marginal_emissions_source': 'EGRID_u2018', 'marginal_source': 'ISONE:marginal_fuel_mix:2021-04-05T03:35:00+00:00', 'raw_start_date': '2021-04-04T23:23:07-04:00', 'source': 'generated_fuel_mix:ISONE:2021-04-05T03:35:00+00:00', 'unit': 'lbs/MWh'}, 'region': 'ISONE', 'start_date': '2021-04-05T03:35:00+00:00'}, {'data': {'generated_rate': 533.1961714526017, 'marginal_rate': 466.1549974123956}, 'dedup_key': 'ISONE:carbon_intensity:EGRID_u2018_eq:2021-04-05T03:40:00+00:00', 'event_type': 'carbon_intensity', 'meta': {'generated_emissions_source': 'EGRID_u2018_eq', 'inserted_at': '2021-04-05T03:52:26.977988Z', 'marginal_emissions_source': 'EGRID_u2018_eq', 'marginal_source': 'ISONE:marginal_fuel_mix:2021-04-05T03:40:00+00:00', 'raw_start_date': '2021-04-04T23:35:19-04:00', 'source': 'generated_fuel_mix:ISONE:2021-04-05T03:40:00+00:00', 'unit': 'lbs/MWh'}, 'region': 'ISONE', 'start_date': '2021-04-05T03:40:00+00:00'}, {'data': {'generated_rate': 350.8341191870031, 'marginal_rate': 431.84938205402585}, 'dedup_key': 'ISONE:carbon_intensity:EGRID_2018_eq:2021-04-05T03:40:00+00:00', 'event_type': 'carbon_intensity', 'meta': {'generated_emissions_source': 'EGRID_2018_eq', 'inserted_at': '2021-04-05T03:52:26.968981Z', 'marginal_emissions_source': 'EGRID_2018_eq', 'marginal_source': 'ISONE:marginal_fuel_mix:2021-04-05T03:40:00+00:00', 'raw_start_date': '2021-04-04T23:35:19-04:00', 'source': 'generated_fuel_mix:ISONE:2021-04-05T03:40:00+00:00', 'unit': 'lbs/MWh'}, 'region': 'ISONE', 'start_date': '2021-04-05T03:40:00+00:00'}, {'data': {'generated_rate': 350.6374285482148, 'marginal_rate': 431.84938205402585}, 'dedup_key': 'ISONE:carbon_intensity:EGRID_2018:2021-04-05T03:40:00+00:00', 'event_type': 'carbon_intensity', 'meta': {'generated_emissions_source': 'EGRID_2018', 'inserted_at': '2021-04-05T03:52:26.952536Z', 'marginal_emissions_source': 'EGRID_2018', 'marginal_source': 'ISONE:marginal_fuel_mix:2021-04-05T03:40:00+00:00', 'raw_start_date': '2021-04-04T23:35:19-04:00', 'source': 'generated_fuel_mix:ISONE:2021-04-05T03:40:00+00:00', 'unit': 'lbs/MWh'}, 'region': 'ISONE', 'start_date': '2021-04-05T03:40:00+00:00'}, {'data': {'generated_rate': 531.8227819758818, 'marginal_rate': 466.1549974123956}, 'dedup_key': 'ISONE:carbon_intensity:2021-04-05T03:40:00+00:00', 'event_type': 'carbon_intensity', 'meta': {'generated_emissions_source': 'EGRID_u2018', 'inserted_at': '2021-04-05T03:52:26.965544Z', 'marginal_emissions_source': 'EGRID_u2018', 'marginal_source': 'ISONE:marginal_fuel_mix:2021-04-05T03:40:00+00:00', 'raw_start_date': '2021-04-04T23:35:19-04:00', 'source': 'generated_fuel_mix:ISONE:2021-04-05T03:40:00+00:00', 'unit': 'lbs/MWh'}, 'region': 'ISONE', 'start_date': '2021-04-05T03:40:00+00:00'}, {'data': {'generated_rate': 533.1961714526017, 'marginal_rate': 466.1549974123956}, 'dedup_key': 'ISONE:carbon_intensity:EGRID_u2018_eq:2021-04-05T03:45:00+00:00', 'event_type': 'carbon_intensity', 'meta': {'generated_emissions_source': 'EGRID_u2018_eq', 'inserted_at': '2021-04-05T03:52:24.617118Z', 'marginal_emissions_source': 'EGRID_u2018_eq', 'marginal_source': 'ISONE:marginal_fuel_mix:2021-04-05T03:45:00+00:00', 'raw_start_date': '2021-04-04T23:35:19-04:00', 'source': 'generated_fuel_mix:ISONE:2021-04-05T03:45:00+00:00', 'unit': 'lbs/MWh'}, 'region': 'ISONE', 'start_date': '2021-04-05T03:45:00+00:00'}, {'data': {'generated_rate': 350.8341191870031, 'marginal_rate': 431.84938205402585}, 'dedup_key': 'ISONE:carbon_intensity:EGRID_2018_eq:2021-04-05T03:45:00+00:00', 'event_type': 'carbon_intensity', 'meta': {'generated_emissions_source': 'EGRID_2018_eq', 'inserted_at': '2021-04-05T03:52:24.517608Z', 'marginal_emissions_source': 'EGRID_2018_eq', 'marginal_source': 'ISONE:marginal_fuel_mix:2021-04-05T03:45:00+00:00', 'raw_start_date': '2021-04-04T23:35:19-04:00', 'source': 'generated_fuel_mix:ISONE:2021-04-05T03:45:00+00:00', 'unit': 'lbs/MWh'}, 'region': 'ISONE', 'start_date': '2021-04-05T03:45:00+00:00'}, {'data': {'generated_rate': 350.6374285482148, 'marginal_rate': 431.84938205402585}, 'dedup_key': 'ISONE:carbon_intensity:EGRID_2018:2021-04-05T03:45:00+00:00', 'event_type': 'carbon_intensity', 'meta': {'generated_emissions_source': 'EGRID_2018', 'inserted_at': '2021-04-05T03:52:24.488713Z', 'marginal_emissions_source': 'EGRID_2018', 'marginal_source': 'ISONE:marginal_fuel_mix:2021-04-05T03:45:00+00:00', 'raw_start_date': '2021-04-04T23:35:19-04:00', 'source': 'generated_fuel_mix:ISONE:2021-04-05T03:45:00+00:00', 'unit': 'lbs/MWh'}, 'region': 'ISONE', 'start_date': '2021-04-05T03:45:00+00:00'}, {'data': {'generated_rate': 531.8227819758818, 'marginal_rate': 466.1549974123956}, 'dedup_key': 'ISONE:carbon_intensity:2021-04-05T03:45:00+00:00', 'event_type': 'carbon_intensity', 'meta': {'generated_emissions_source': 'EGRID_u2018', 'inserted_at': '2021-04-05T03:52:24.518573Z', 'marginal_emissions_source': 'EGRID_u2018', 'marginal_source': 'ISONE:marginal_fuel_mix:2021-04-05T03:45:00+00:00', 'raw_start_date': '2021-04-04T23:35:19-04:00', 'source': 'generated_fuel_mix:ISONE:2021-04-05T03:45:00+00:00', 'unit': 'lbs/MWh'}, 'region': 'ISONE', 'start_date': '2021-04-05T03:45:00+00:00'}, {'data': {'generated_rate': 533.1961714526017, 'marginal_rate': 466.1549974123956}, 'dedup_key': 'ISONE:carbon_intensity:EGRID_u2018_eq:2021-04-05T03:50:00+00:00', 'event_type': 'carbon_intensity', 'meta': {'generated_emissions_source': 'EGRID_u2018_eq', 'inserted_at': '2021-04-05T03:52:28.512413Z', 'marginal_emissions_source': 'EGRID_u2018_eq', 'marginal_source': 'ISONE:marginal_fuel_mix:2021-04-05T03:50:00+00:00', 'raw_start_date': '2021-04-04T23:35:19-04:00', 'source': 'generated_fuel_mix:ISONE:2021-04-05T03:50:00+00:00', 'unit': 'lbs/MWh'}, 'region': 'ISONE', 'start_date': '2021-04-05T03:50:00+00:00'}, {'data': {'generated_rate': 350.8341191870031, 'marginal_rate': 431.84938205402585}, 'dedup_key': 'ISONE:carbon_intensity:EGRID_2018_eq:2021-04-05T03:50:00+00:00', 'event_type': 'carbon_intensity', 'meta': {'generated_emissions_source': 'EGRID_2018_eq', 'inserted_at': '2021-04-05T03:52:28.546049Z', 'marginal_emissions_source': 'EGRID_2018_eq', 'marginal_source': 'ISONE:marginal_fuel_mix:2021-04-05T03:50:00+00:00', 'raw_start_date': '2021-04-04T23:35:19-04:00', 'source': 'generated_fuel_mix:ISONE:2021-04-05T03:50:00+00:00', 'unit': 'lbs/MWh'}, 'region': 'ISONE', 'start_date': '2021-04-05T03:50:00+00:00'}, {'data': {'generated_rate': 350.6374285482148, 'marginal_rate': 431.84938205402585}, 'dedup_key': 'ISONE:carbon_intensity:EGRID_2018:2021-04-05T03:50:00+00:00', 'event_type': 'carbon_intensity', 'meta': {'generated_emissions_source': 'EGRID_2018', 'inserted_at': '2021-04-05T03:52:28.562836Z', 'marginal_emissions_source': 'EGRID_2018', 'marginal_source': 'ISONE:marginal_fuel_mix:2021-04-05T03:50:00+00:00', 'raw_start_date': '2021-04-04T23:35:19-04:00', 'source': 'generated_fuel_mix:ISONE:2021-04-05T03:50:00+00:00', 'unit': 'lbs/MWh'}, 'region': 'ISONE', 'start_date': '2021-04-05T03:50:00+00:00'}, {'data': {'generated_rate': 531.8227819758818, 'marginal_rate': 466.1549974123956}, 'dedup_key': 'ISONE:carbon_intensity:2021-04-05T03:50:00+00:00', 'event_type': 'carbon_intensity', 'meta': {'generated_emissions_source': 'EGRID_u2018', 'inserted_at': '2021-04-05T03:52:28.527154Z', 'marginal_emissions_source': 'EGRID_u2018', 'marginal_source': 'ISONE:marginal_fuel_mix:2021-04-05T03:50:00+00:00', 'raw_start_date': '2021-04-04T23:35:19-04:00', 'source': 'generated_fuel_mix:ISONE:2021-04-05T03:50:00+00:00', 'unit': 'lbs/MWh'}, 'region': 'ISONE', 'start_date': '2021-04-05T03:50:00+00:00'}, {'data': {'generated_rate': 534.6726496532584, 'marginal_rate': 466.1549974123956}, 'dedup_key': 'ISONE:carbon_intensity:EGRID_u2018_eq:2021-04-05T03:55:00+00:00', 'event_type': 'carbon_intensity', 'meta': {'generated_emissions_source': 'EGRID_u2018_eq', 'inserted_at': '2021-04-05T04:02:26.197185Z', 'marginal_emissions_source': 'EGRID_u2018_eq', 'marginal_source': 'ISONE:marginal_fuel_mix:2021-04-05T03:55:00+00:00', 'raw_start_date': '2021-04-04T23:51:58-04:00', 'source': 'generated_fuel_mix:ISONE:2021-04-05T03:55:00+00:00', 'unit': 'lbs/MWh'}, 'region': 'ISONE', 'start_date': '2021-04-05T03:55:00+00:00'}, {'data': {'generated_rate': 350.80118051416923, 'marginal_rate': 431.84938205402585}, 'dedup_key': 'ISONE:carbon_intensity:EGRID_2018_eq:2021-04-05T03:55:00+00:00', 'event_type': 'carbon_intensity', 'meta': {'generated_emissions_source': 'EGRID_2018_eq', 'inserted_at': '2021-04-05T04:02:25.893330Z', 'marginal_emissions_source': 'EGRID_2018_eq', 'marginal_source': 'ISONE:marginal_fuel_mix:2021-04-05T03:55:00+00:00', 'raw_start_date': '2021-04-04T23:51:58-04:00', 'source': 'generated_fuel_mix:ISONE:2021-04-05T03:55:00+00:00', 'unit': 'lbs/MWh'}, 'region': 'ISONE', 'start_date': '2021-04-05T03:55:00+00:00'}, {'data': {'generated_rate': 350.79896857054945, 'marginal_rate': 431.84938205402585}, 'dedup_key': 'ISONE:carbon_intensity:EGRID_2018:2021-04-05T03:55:00+00:00', 'event_type': 'carbon_intensity', 'meta': {'generated_emissions_source': 'EGRID_2018', 'inserted_at': '2021-04-05T04:02:26.128923Z', 'marginal_emissions_source': 'EGRID_2018', 'marginal_source': 'ISONE:marginal_fuel_mix:2021-04-05T03:55:00+00:00', 'raw_start_date': '2021-04-04T23:51:58-04:00', 'source': 'generated_fuel_mix:ISONE:2021-04-05T03:55:00+00:00', 'unit': 'lbs/MWh'}, 'region': 'ISONE', 'start_date': '2021-04-05T03:55:00+00:00'}, {'data': {'generated_rate': 534.6704377096387, 'marginal_rate': 466.1549974123956}, 'dedup_key': 'ISONE:carbon_intensity:2021-04-05T03:55:00+00:00', 'event_type': 'carbon_intensity', 'meta': {'generated_emissions_source': 'EGRID_u2018', 'inserted_at': '2021-04-05T04:02:26.194408Z', 'marginal_emissions_source': 'EGRID_u2018', 'marginal_source': 'ISONE:marginal_fuel_mix:2021-04-05T03:55:00+00:00', 'raw_start_date': '2021-04-04T23:51:58-04:00', 'source': 'generated_fuel_mix:ISONE:2021-04-05T03:55:00+00:00', 'unit': 'lbs/MWh'}, 'region': 'ISONE', 'start_date': '2021-04-05T03:55:00+00:00'}, {'data': {'generated_rate': 534.6726496532584, 'marginal_rate': 466.1549974123956}, 'dedup_key': 'ISONE:carbon_intensity:EGRID_u2018_eq:2021-04-05T04:00:00+00:00', 'event_type': 'carbon_intensity', 'meta': {'generated_emissions_source': 'EGRID_u2018_eq', 'inserted_at': '2021-04-05T04:02:26.135208Z', 'marginal_emissions_source': 'EGRID_u2018_eq', 'marginal_source': 'ISONE:marginal_fuel_mix:2021-04-05T04:00:00+00:00', 'raw_start_date': '2021-04-04T23:51:58-04:00', 'source': 'generated_fuel_mix:ISONE:2021-04-05T04:00:00+00:00', 'unit': 'lbs/MWh'}, 'region': 'ISONE', 'start_date': '2021-04-05T04:00:00+00:00'}, {'data': {'generated_rate': 350.80118051416923, 'marginal_rate': 431.84938205402585}, 'dedup_key': 'ISONE:carbon_intensity:EGRID_2018_eq:2021-04-05T04:00:00+00:00', 'event_type': 'carbon_intensity', 'meta': {'generated_emissions_source': 'EGRID_2018_eq', 'inserted_at': '2021-04-05T04:02:25.650634Z', 'marginal_emissions_source': 'EGRID_2018_eq', 'marginal_source': 'ISONE:marginal_fuel_mix:2021-04-05T04:00:00+00:00', 'raw_start_date': '2021-04-04T23:51:58-04:00', 'source': 'generated_fuel_mix:ISONE:2021-04-05T04:00:00+00:00', 'unit': 'lbs/MWh'}, 'region': 'ISONE', 'start_date': '2021-04-05T04:00:00+00:00'}, {'data': {'generated_rate': 350.79896857054945, 'marginal_rate': 431.84938205402585}, 'dedup_key': 'ISONE:carbon_intensity:EGRID_2018:2021-04-05T04:00:00+00:00', 'event_type': 'carbon_intensity', 'meta': {'generated_emissions_source': 'EGRID_2018', 'inserted_at': '2021-04-05T04:02:25.629804Z', 'marginal_emissions_source': 'EGRID_2018', 'marginal_source': 'ISONE:marginal_fuel_mix:2021-04-05T04:00:00+00:00', 'raw_start_date': '2021-04-04T23:51:58-04:00', 'source': 'generated_fuel_mix:ISONE:2021-04-05T04:00:00+00:00', 'unit': 'lbs/MWh'}, 'region': 'ISONE', 'start_date': '2021-04-05T04:00:00+00:00'}, {'data': {'generated_rate': 534.6704377096387, 'marginal_rate': 466.1549974123956}, 'dedup_key': 'ISONE:carbon_intensity:2021-04-05T04:00:00+00:00', 'event_type': 'carbon_intensity', 'meta': {'generated_emissions_source': 'EGRID_u2018', 'inserted_at': '2021-04-05T04:02:26.080446Z', 'marginal_emissions_source': 'EGRID_u2018', 'marginal_source': 'ISONE:marginal_fuel_mix:2021-04-05T04:00:00+00:00', 'raw_start_date': '2021-04-04T23:51:58-04:00', 'source': 'generated_fuel_mix:ISONE:2021-04-05T04:00:00+00:00', 'unit': 'lbs/MWh'}, 'region': 'ISONE', 'start_date': '2021-04-05T04:00:00+00:00'}, {'data': {'generated_rate': 544.5002735746701, 'marginal_rate': 466.1549974123956}, 'dedup_key': 'ISONE:carbon_intensity:EGRID_u2018_eq:2021-04-05T04:05:00+00:00', 'event_type': 'carbon_intensity', 'meta': {'generated_emissions_source': 'EGRID_u2018_eq', 'inserted_at': '2021-04-05T04:14:23.213333Z', 'marginal_emissions_source': 'EGRID_u2018_eq', 'marginal_source': 'ISONE:marginal_fuel_mix:2021-04-05T04:05:00+00:00', 'raw_start_date': '2021-04-05T00:02:06-04:00', 'source': 'generated_fuel_mix:ISONE:2021-04-05T04:05:00+00:00', 'unit': 'lbs/MWh'}, 'region': 'ISONE', 'start_date': '2021-04-05T04:05:00+00:00'}, {'data': {'generated_rate': 359.4224423737339, 'marginal_rate': 431.84938205402585}, 'dedup_key': 'ISONE:carbon_intensity:EGRID_2018_eq:2021-04-05T04:05:00+00:00', 'event_type': 'carbon_intensity', 'meta': {'generated_emissions_source': 'EGRID_2018_eq', 'inserted_at': '2021-04-05T04:14:23.202739Z', 'marginal_emissions_source': 'EGRID_2018_eq', 'marginal_source': 'ISONE:marginal_fuel_mix:2021-04-05T04:05:00+00:00', 'raw_start_date': '2021-04-05T00:02:06-04:00', 'source': 'generated_fuel_mix:ISONE:2021-04-05T04:05:00+00:00', 'unit': 'lbs/MWh'}, 'region': 'ISONE', 'start_date': '2021-04-05T04:05:00+00:00'}, {'data': {'generated_rate': 359.4204310295276, 'marginal_rate': 431.84938205402585}, 'dedup_key': 'ISONE:carbon_intensity:EGRID_2018:2021-04-05T04:05:00+00:00', 'event_type': 'carbon_intensity', 'meta': {'generated_emissions_source': 'EGRID_2018', 'inserted_at': '2021-04-05T04:14:23.109886Z', 'marginal_emissions_source': 'EGRID_2018', 'marginal_source': 'ISONE:marginal_fuel_mix:2021-04-05T04:05:00+00:00', 'raw_start_date': '2021-04-05T00:02:06-04:00', 'source': 'generated_fuel_mix:ISONE:2021-04-05T04:05:00+00:00', 'unit': 'lbs/MWh'}, 'region': 'ISONE', 'start_date': '2021-04-05T04:05:00+00:00'}, {'data': {'generated_rate': 544.498262230464, 'marginal_rate': 466.1549974123956}, 'dedup_key': 'ISONE:carbon_intensity:2021-04-05T04:05:00+00:00', 'event_type': 'carbon_intensity', 'meta': {'generated_emissions_source': 'EGRID_u2018', 'inserted_at': '2021-04-05T04:14:23.200562Z', 'marginal_emissions_source': 'EGRID_u2018', 'marginal_source': 'ISONE:marginal_fuel_mix:2021-04-05T04:05:00+00:00', 'raw_start_date': '2021-04-05T00:02:06-04:00', 'source': 'generated_fuel_mix:ISONE:2021-04-05T04:05:00+00:00', 'unit': 'lbs/MWh'}, 'region': 'ISONE', 'start_date': '2021-04-05T04:05:00+00:00'}, {'data': {'generated_rate': 544.5002735746701, 'marginal_rate': 466.1549974123956}, 'dedup_key': 'ISONE:carbon_intensity:EGRID_u2018_eq:2021-04-05T04:10:00+00:00', 'event_type': 'carbon_intensity', 'meta': {'generated_emissions_source': 'EGRID_u2018_eq', 'inserted_at': '2021-04-05T04:14:23.315665Z', 'marginal_emissions_source': 'EGRID_u2018_eq', 'marginal_source': 'ISONE:marginal_fuel_mix:2021-04-05T04:10:00+00:00', 'raw_start_date': '2021-04-05T00:02:06-04:00', 'source': 'generated_fuel_mix:ISONE:2021-04-05T04:10:00+00:00', 'unit': 'lbs/MWh'}, 'region': 'ISONE', 'start_date': '2021-04-05T04:10:00+00:00'}, {'data': {'generated_rate': 359.4224423737339, 'marginal_rate': 431.84938205402585}, 'dedup_key': 'ISONE:carbon_intensity:EGRID_2018_eq:2021-04-05T04:10:00+00:00', 'event_type': 'carbon_intensity', 'meta': {'generated_emissions_source': 'EGRID_2018_eq', 'inserted_at': '2021-04-05T04:14:23.332279Z', 'marginal_emissions_source': 'EGRID_2018_eq', 'marginal_source': 'ISONE:marginal_fuel_mix:2021-04-05T04:10:00+00:00', 'raw_start_date': '2021-04-05T00:02:06-04:00', 'source': 'generated_fuel_mix:ISONE:2021-04-05T04:10:00+00:00', 'unit': 'lbs/MWh'}, 'region': 'ISONE', 'start_date': '2021-04-05T04:10:00+00:00'}, {'data': {'generated_rate': 359.4204310295276, 'marginal_rate': 431.84938205402585}, 'dedup_key': 'ISONE:carbon_intensity:EGRID_2018:2021-04-05T04:10:00+00:00', 'event_type': 'carbon_intensity', 'meta': {'generated_emissions_source': 'EGRID_2018', 'inserted_at': '2021-04-05T04:14:23.307656Z', 'marginal_emissions_source': 'EGRID_2018', 'marginal_source': 'ISONE:marginal_fuel_mix:2021-04-05T04:10:00+00:00', 'raw_start_date': '2021-04-05T00:02:06-04:00', 'source': 'generated_fuel_mix:ISONE:2021-04-05T04:10:00+00:00', 'unit': 'lbs/MWh'}, 'region': 'ISONE', 'start_date': '2021-04-05T04:10:00+00:00'}, {'data': {'generated_rate': 544.498262230464, 'marginal_rate': 466.1549974123956}, 'dedup_key': 'ISONE:carbon_intensity:2021-04-05T04:10:00+00:00', 'event_type': 'carbon_intensity', 'meta': {'generated_emissions_source': 'EGRID_u2018', 'inserted_at': '2021-04-05T04:14:23.358949Z', 'marginal_emissions_source': 'EGRID_u2018', 'marginal_source': 'ISONE:marginal_fuel_mix:2021-04-05T04:10:00+00:00', 'raw_start_date': '2021-04-05T00:02:06-04:00', 'source': 'generated_fuel_mix:ISONE:2021-04-05T04:10:00+00:00', 'unit': 'lbs/MWh'}, 'region': 'ISONE', 'start_date': '2021-04-05T04:10:00+00:00'}, {'data': {'generated_rate': 542.4027848284466, 'marginal_rate': 466.1549974123956}, 'dedup_key': 'ISONE:carbon_intensity:EGRID_u2018_eq:2021-04-05T04:15:00+00:00', 'event_type': 'carbon_intensity', 'meta': {'generated_emissions_source': 'EGRID_u2018_eq', 'inserted_at': '2021-04-05T04:21:25.958048Z', 'marginal_emissions_source': 'EGRID_u2018_eq', 'marginal_source': 'ISONE:marginal_fuel_mix:2021-04-05T04:15:00+00:00', 'raw_start_date': '2021-04-05T00:13:26-04:00', 'source': 'generated_fuel_mix:ISONE:2021-04-05T04:15:00+00:00', 'unit': 'lbs/MWh'}, 'region': 'ISONE', 'start_date': '2021-04-05T04:15:00+00:00'}, {'data': {'generated_rate': 357.3265200870852, 'marginal_rate': 431.84938205402585}, 'dedup_key': 'ISONE:carbon_intensity:EGRID_2018_eq:2021-04-05T04:15:00+00:00', 'event_type': 'carbon_intensity', 'meta': {'generated_emissions_source': 'EGRID_2018_eq', 'inserted_at': '2021-04-05T04:21:25.964532Z', 'marginal_emissions_source': 'EGRID_2018_eq', 'marginal_source': 'ISONE:marginal_fuel_mix:2021-04-05T04:15:00+00:00', 'raw_start_date': '2021-04-05T00:13:26-04:00', 'source': 'generated_fuel_mix:ISONE:2021-04-05T04:15:00+00:00', 'unit': 'lbs/MWh'}, 'region': 'ISONE', 'start_date': '2021-04-05T04:15:00+00:00'}, {'data': {'generated_rate': 357.2591059486352, 'marginal_rate': 431.84938205402585}, 'dedup_key': 'ISONE:carbon_intensity:EGRID_2018:2021-04-05T04:15:00+00:00', 'event_type': 'carbon_intensity', 'meta': {'generated_emissions_source': 'EGRID_2018', 'inserted_at': '2021-04-05T04:21:25.970722Z', 'marginal_emissions_source': 'EGRID_2018', 'marginal_source': 'ISONE:marginal_fuel_mix:2021-04-05T04:15:00+00:00', 'raw_start_date': '2021-04-05T00:13:26-04:00', 'source': 'generated_fuel_mix:ISONE:2021-04-05T04:15:00+00:00', 'unit': 'lbs/MWh'}, 'region': 'ISONE', 'start_date': '2021-04-05T04:15:00+00:00'}, {'data': {'generated_rate': 541.9396987130457, 'marginal_rate': 466.1549974123956}, 'dedup_key': 'ISONE:carbon_intensity:2021-04-05T04:15:00+00:00', 'event_type': 'carbon_intensity', 'meta': {'generated_emissions_source': 'EGRID_u2018', 'inserted_at': '2021-04-05T04:21:25.925902Z', 'marginal_emissions_source': 'EGRID_u2018', 'marginal_source': 'ISONE:marginal_fuel_mix:2021-04-05T04:15:00+00:00', 'raw_start_date': '2021-04-05T00:13:26-04:00', 'source': 'generated_fuel_mix:ISONE:2021-04-05T04:15:00+00:00', 'unit': 'lbs/MWh'}, 'region': 'ISONE', 'start_date': '2021-04-05T04:15:00+00:00'}, {'data': {'generated_rate': 542.4027848284466, 'marginal_rate': 466.1549974123956}, 'dedup_key': 'ISONE:carbon_intensity:EGRID_u2018_eq:2021-04-05T04:20:00+00:00', 'event_type': 'carbon_intensity', 'meta': {'generated_emissions_source': 'EGRID_u2018_eq', 'inserted_at': '2021-04-05T04:21:24.076157Z', 'marginal_emissions_source': 'EGRID_u2018_eq', 'marginal_source': 'ISONE:marginal_fuel_mix:2021-04-05T04:20:00+00:00', 'raw_start_date': '2021-04-05T00:13:26-04:00', 'source': 'generated_fuel_mix:ISONE:2021-04-05T04:20:00+00:00', 'unit': 'lbs/MWh'}, 'region': 'ISONE', 'start_date': '2021-04-05T04:20:00+00:00'}, {'data': {'generated_rate': 357.3265200870852, 'marginal_rate': 431.84938205402585}, 'dedup_key': 'ISONE:carbon_intensity:EGRID_2018_eq:2021-04-05T04:20:00+00:00', 'event_type': 'carbon_intensity', 'meta': {'generated_emissions_source': 'EGRID_2018_eq', 'inserted_at': '2021-04-05T04:21:24.228352Z', 'marginal_emissions_source': 'EGRID_2018_eq', 'marginal_source': 'ISONE:marginal_fuel_mix:2021-04-05T04:20:00+00:00', 'raw_start_date': '2021-04-05T00:13:26-04:00', 'source': 'generated_fuel_mix:ISONE:2021-04-05T04:20:00+00:00', 'unit': 'lbs/MWh'}, 'region': 'ISONE', 'start_date': '2021-04-05T04:20:00+00:00'}, {'data': {'generated_rate': 357.2591059486352, 'marginal_rate': 431.84938205402585}, 'dedup_key': 'ISONE:carbon_intensity:EGRID_2018:2021-04-05T04:20:00+00:00', 'event_type': 'carbon_intensity', 'meta': {'generated_emissions_source': 'EGRID_2018', 'inserted_at': '2021-04-05T04:21:24.270301Z', 'marginal_emissions_source': 'EGRID_2018', 'marginal_source': 'ISONE:marginal_fuel_mix:2021-04-05T04:20:00+00:00', 'raw_start_date': '2021-04-05T00:13:26-04:00', 'source': 'generated_fuel_mix:ISONE:2021-04-05T04:20:00+00:00', 'unit': 'lbs/MWh'}, 'region': 'ISONE', 'start_date': '2021-04-05T04:20:00+00:00'}, {'data': {'generated_rate': 541.9396987130457, 'marginal_rate': 466.1549974123956}, 'dedup_key': 'ISONE:carbon_intensity:2021-04-05T04:20:00+00:00', 'event_type': 'carbon_intensity', 'meta': {'generated_emissions_source': 'EGRID_u2018', 'inserted_at': '2021-04-05T04:21:24.152686Z', 'marginal_emissions_source': 'EGRID_u2018', 'marginal_source': 'ISONE:marginal_fuel_mix:2021-04-05T04:20:00+00:00', 'raw_start_date': '2021-04-05T00:13:26-04:00', 'source': 'generated_fuel_mix:ISONE:2021-04-05T04:20:00+00:00', 'unit': 'lbs/MWh'}, 'region': 'ISONE', 'start_date': '2021-04-05T04:20:00+00:00'}, {'data': {'generated_rate': 538.4607968481071, 'marginal_rate': 466.1549974123956}, 'dedup_key': 'ISONE:carbon_intensity:EGRID_u2018_eq:2021-04-05T04:25:00+00:00', 'event_type': 'carbon_intensity', 'meta': {'generated_emissions_source': 'EGRID_u2018_eq', 'inserted_at': '2021-04-05T04:36:26.344814Z', 'marginal_emissions_source': 'EGRID_u2018_eq', 'marginal_source': 'ISONE:marginal_fuel_mix:2021-04-05T04:25:00+00:00', 'raw_start_date': '2021-04-05T00:21:05-04:00', 'source': 'generated_fuel_mix:ISONE:2021-04-05T04:25:00+00:00', 'unit': 'lbs/MWh'}, 'region': 'ISONE', 'start_date': '2021-04-05T04:25:00+00:00'}, {'data': {'generated_rate': 349.9296604921545, 'marginal_rate': 431.84938205402585}, 'dedup_key': 'ISONE:carbon_intensity:EGRID_2018_eq:2021-04-05T04:25:00+00:00', 'event_type': 'carbon_intensity', 'meta': {'generated_emissions_source': 'EGRID_2018_eq', 'inserted_at': '2021-04-05T04:36:27.422006Z', 'marginal_emissions_source': 'EGRID_2018_eq', 'marginal_source': 'ISONE:marginal_fuel_mix:2021-04-05T04:25:00+00:00', 'raw_start_date': '2021-04-05T00:21:05-04:00', 'source': 'generated_fuel_mix:ISONE:2021-04-05T04:25:00+00:00', 'unit': 'lbs/MWh'}, 'region': 'ISONE', 'start_date': '2021-04-05T04:25:00+00:00'}, {'data': {'generated_rate': 349.5957364441005, 'marginal_rate': 431.84938205402585}, 'dedup_key': 'ISONE:carbon_intensity:EGRID_2018:2021-04-05T04:25:00+00:00', 'event_type': 'carbon_intensity', 'meta': {'generated_emissions_source': 'EGRID_2018', 'inserted_at': '2021-04-05T04:36:27.343639Z', 'marginal_emissions_source': 'EGRID_2018', 'marginal_source': 'ISONE:marginal_fuel_mix:2021-04-05T04:25:00+00:00', 'raw_start_date': '2021-04-05T00:21:05-04:00', 'source': 'generated_fuel_mix:ISONE:2021-04-05T04:25:00+00:00', 'unit': 'lbs/MWh'}, 'region': 'ISONE', 'start_date': '2021-04-05T04:25:00+00:00'}, {'data': {'generated_rate': 536.1189361063907, 'marginal_rate': 466.1549974123956}, 'dedup_key': 'ISONE:carbon_intensity:2021-04-05T04:25:00+00:00', 'event_type': 'carbon_intensity', 'meta': {'generated_emissions_source': 'EGRID_u2018', 'inserted_at': '2021-04-05T04:36:26.872344Z', 'marginal_emissions_source': 'EGRID_u2018', 'marginal_source': 'ISONE:marginal_fuel_mix:2021-04-05T04:25:00+00:00', 'raw_start_date': '2021-04-05T00:21:05-04:00', 'source': 'generated_fuel_mix:ISONE:2021-04-05T04:25:00+00:00', 'unit': 'lbs/MWh'}, 'region': 'ISONE', 'start_date': '2021-04-05T04:25:00+00:00'}, {'data': {'generated_rate': 538.4607968481071, 'marginal_rate': 466.1549974123956}, 'dedup_key': 'ISONE:carbon_intensity:EGRID_u2018_eq:2021-04-05T04:30:00+00:00', 'event_type': 'carbon_intensity', 'meta': {'generated_emissions_source': 'EGRID_u2018_eq', 'inserted_at': '2021-04-05T04:36:25.247369Z', 'marginal_emissions_source': 'EGRID_u2018_eq', 'marginal_source': 'ISONE:marginal_fuel_mix:2021-04-05T04:30:00+00:00', 'raw_start_date': '2021-04-05T00:21:05-04:00', 'source': 'generated_fuel_mix:ISONE:2021-04-05T04:30:00+00:00', 'unit': 'lbs/MWh'}, 'region': 'ISONE', 'start_date': '2021-04-05T04:30:00+00:00'}, {'data': {'generated_rate': 349.9296604921545, 'marginal_rate': 431.84938205402585}, 'dedup_key': 'ISONE:carbon_intensity:EGRID_2018_eq:2021-04-05T04:30:00+00:00', 'event_type': 'carbon_intensity', 'meta': {'generated_emissions_source': 'EGRID_2018_eq', 'inserted_at': '2021-04-05T04:36:25.727546Z', 'marginal_emissions_source': 'EGRID_2018_eq', 'marginal_source': 'ISONE:marginal_fuel_mix:2021-04-05T04:30:00+00:00', 'raw_start_date': '2021-04-05T00:21:05-04:00', 'source': 'generated_fuel_mix:ISONE:2021-04-05T04:30:00+00:00', 'unit': 'lbs/MWh'}, 'region': 'ISONE', 'start_date': '2021-04-05T04:30:00+00:00'}, {'data': {'generated_rate': 349.5957364441005, 'marginal_rate': 431.84938205402585}, 'dedup_key': 'ISONE:carbon_intensity:EGRID_2018:2021-04-05T04:30:00+00:00', 'event_type': 'carbon_intensity', 'meta': {'generated_emissions_source': 'EGRID_2018', 'inserted_at': '2021-04-05T04:36:25.821604Z', 'marginal_emissions_source': 'EGRID_2018', 'marginal_source': 'ISONE:marginal_fuel_mix:2021-04-05T04:30:00+00:00', 'raw_start_date': '2021-04-05T00:21:05-04:00', 'source': 'generated_fuel_mix:ISONE:2021-04-05T04:30:00+00:00', 'unit': 'lbs/MWh'}, 'region': 'ISONE', 'start_date': '2021-04-05T04:30:00+00:00'}, {'data': {'generated_rate': 536.1189361063907, 'marginal_rate': 466.1549974123956}, 'dedup_key': 'ISONE:carbon_intensity:2021-04-05T04:30:00+00:00', 'event_type': 'carbon_intensity', 'meta': {'generated_emissions_source': 'EGRID_u2018', 'inserted_at': '2021-04-05T04:36:26.085048Z', 'marginal_emissions_source': 'EGRID_u2018', 'marginal_source': 'ISONE:marginal_fuel_mix:2021-04-05T04:30:00+00:00', 'raw_start_date': '2021-04-05T00:21:05-04:00', 'source': 'generated_fuel_mix:ISONE:2021-04-05T04:30:00+00:00', 'unit': 'lbs/MWh'}, 'region': 'ISONE', 'start_date': '2021-04-05T04:30:00+00:00'}, {'data': {'generated_rate': 538.4607968481071, 'marginal_rate': 466.1549974123956}, 'dedup_key': 'ISONE:carbon_intensity:EGRID_u2018_eq:2021-04-05T04:35:00+00:00', 'event_type': 'carbon_intensity', 'meta': {'generated_emissions_source': 'EGRID_u2018_eq', 'inserted_at': '2021-04-05T04:36:24.675224Z', 'marginal_emissions_source': 'EGRID_u2018_eq', 'marginal_source': 'ISONE:marginal_fuel_mix:2021-04-05T04:35:00+00:00', 'raw_start_date': '2021-04-05T00:21:05-04:00', 'source': 'generated_fuel_mix:ISONE:2021-04-05T04:35:00+00:00', 'unit': 'lbs/MWh'}, 'region': 'ISONE', 'start_date': '2021-04-05T04:35:00+00:00'}, {'data': {'generated_rate': 349.9296604921545, 'marginal_rate': 431.84938205402585}, 'dedup_key': 'ISONE:carbon_intensity:EGRID_2018_eq:2021-04-05T04:35:00+00:00', 'event_type': 'carbon_intensity', 'meta': {'generated_emissions_source': 'EGRID_2018_eq', 'inserted_at': '2021-04-05T04:36:24.298188Z', 'marginal_emissions_source': 'EGRID_2018_eq', 'marginal_source': 'ISONE:marginal_fuel_mix:2021-04-05T04:35:00+00:00', 'raw_start_date': '2021-04-05T00:21:05-04:00', 'source': 'generated_fuel_mix:ISONE:2021-04-05T04:35:00+00:00', 'unit': 'lbs/MWh'}, 'region': 'ISONE', 'start_date': '2021-04-05T04:35:00+00:00'}, {'data': {'generated_rate': 349.5957364441005, 'marginal_rate': 431.84938205402585}, 'dedup_key': 'ISONE:carbon_intensity:EGRID_2018:2021-04-05T04:35:00+00:00', 'event_type': 'carbon_intensity', 'meta': {'generated_emissions_source': 'EGRID_2018', 'inserted_at': '2021-04-05T04:36:24.511199Z', 'marginal_emissions_source': 'EGRID_2018', 'marginal_source': 'ISONE:marginal_fuel_mix:2021-04-05T04:35:00+00:00', 'raw_start_date': '2021-04-05T00:21:05-04:00', 'source': 'generated_fuel_mix:ISONE:2021-04-05T04:35:00+00:00', 'unit': 'lbs/MWh'}, 'region': 'ISONE', 'start_date': '2021-04-05T04:35:00+00:00'}, {'data': {'generated_rate': 536.1189361063907, 'marginal_rate': 466.1549974123956}, 'dedup_key': 'ISONE:carbon_intensity:2021-04-05T04:35:00+00:00', 'event_type': 'carbon_intensity', 'meta': {'generated_emissions_source': 'EGRID_u2018', 'inserted_at': '2021-04-05T04:36:24.813969Z', 'marginal_emissions_source': 'EGRID_u2018', 'marginal_source': 'ISONE:marginal_fuel_mix:2021-04-05T04:35:00+00:00', 'raw_start_date': '2021-04-05T00:21:05-04:00', 'source': 'generated_fuel_mix:ISONE:2021-04-05T04:35:00+00:00', 'unit': 'lbs/MWh'}, 'region': 'ISONE', 'start_date': '2021-04-05T04:35:00+00:00'}, {'data': {'generated_rate': 530.0748994506027, 'marginal_rate': 466.1549974123956}, 'dedup_key': 'ISONE:carbon_intensity:EGRID_u2018_eq:2021-04-05T04:40:00+00:00', 'event_type': 'carbon_intensity', 'meta': {'generated_emissions_source': 'EGRID_u2018_eq', 'inserted_at': '2021-04-05T04:51:25.686298Z', 'marginal_emissions_source': 'EGRID_u2018_eq', 'marginal_source': 'ISONE:marginal_fuel_mix:2021-04-05T04:40:00+00:00', 'raw_start_date': '2021-04-05T00:35:24-04:00', 'source': 'generated_fuel_mix:ISONE:2021-04-05T04:40:00+00:00', 'unit': 'lbs/MWh'}, 'region': 'ISONE', 'start_date': '2021-04-05T04:40:00+00:00'}, {'data': {'generated_rate': 347.06909013158133, 'marginal_rate': 431.84938205402585}, 'dedup_key': 'ISONE:carbon_intensity:EGRID_2018_eq:2021-04-05T04:40:00+00:00', 'event_type': 'carbon_intensity', 'meta': {'generated_emissions_source': 'EGRID_2018_eq', 'inserted_at': '2021-04-05T04:51:25.143302Z', 'marginal_emissions_source': 'EGRID_2018_eq', 'marginal_source': 'ISONE:marginal_fuel_mix:2021-04-05T04:40:00+00:00', 'raw_start_date': '2021-04-05T00:35:24-04:00', 'source': 'generated_fuel_mix:ISONE:2021-04-05T04:40:00+00:00', 'unit': 'lbs/MWh'}, 'region': 'ISONE', 'start_date': '2021-04-05T04:40:00+00:00'}, {'data': {'generated_rate': 346.9344070635022, 'marginal_rate': 431.84938205402585}, 'dedup_key': 'ISONE:carbon_intensity:EGRID_2018:2021-04-05T04:40:00+00:00', 'event_type': 'carbon_intensity', 'meta': {'generated_emissions_source': 'EGRID_2018', 'inserted_at': '2021-04-05T04:51:25.171444Z', 'marginal_emissions_source': 'EGRID_2018', 'marginal_source': 'ISONE:marginal_fuel_mix:2021-04-05T04:40:00+00:00', 'raw_start_date': '2021-04-05T00:35:24-04:00', 'source': 'generated_fuel_mix:ISONE:2021-04-05T04:40:00+00:00', 'unit': 'lbs/MWh'}, 'region': 'ISONE', 'start_date': '2021-04-05T04:40:00+00:00'}, {'data': {'generated_rate': 529.1377082400606, 'marginal_rate': 466.1549974123956}, 'dedup_key': 'ISONE:carbon_intensity:2021-04-05T04:40:00+00:00', 'event_type': 'carbon_intensity', 'meta': {'generated_emissions_source': 'EGRID_u2018', 'inserted_at': '2021-04-05T04:51:25.814173Z', 'marginal_emissions_source': 'EGRID_u2018', 'marginal_source': 'ISONE:marginal_fuel_mix:2021-04-05T04:40:00+00:00', 'raw_start_date': '2021-04-05T00:35:24-04:00', 'source': 'generated_fuel_mix:ISONE:2021-04-05T04:40:00+00:00', 'unit': 'lbs/MWh'}, 'region': 'ISONE', 'start_date': '2021-04-05T04:40:00+00:00'}, {'data': {'generated_rate': 530.0748994506027, 'marginal_rate': 466.1549974123956}, 'dedup_key': 'ISONE:carbon_intensity:EGRID_u2018_eq:2021-04-05T04:45:00+00:00', 'event_type': 'carbon_intensity', 'meta': {'generated_emissions_source': 'EGRID_u2018_eq', 'inserted_at': '2021-04-05T04:51:24.200949Z', 'marginal_emissions_source': 'EGRID_u2018_eq', 'marginal_source': 'ISONE:marginal_fuel_mix:2021-04-05T04:45:00+00:00', 'raw_start_date': '2021-04-05T00:35:24-04:00', 'source': 'generated_fuel_mix:ISONE:2021-04-05T04:45:00+00:00', 'unit': 'lbs/MWh'}, 'region': 'ISONE', 'start_date': '2021-04-05T04:45:00+00:00'}, {'data': {'generated_rate': 347.06909013158133, 'marginal_rate': 431.84938205402585}, 'dedup_key': 'ISONE:carbon_intensity:EGRID_2018_eq:2021-04-05T04:45:00+00:00', 'event_type': 'carbon_intensity', 'meta': {'generated_emissions_source': 'EGRID_2018_eq', 'inserted_at': '2021-04-05T04:51:24.210502Z', 'marginal_emissions_source': 'EGRID_2018_eq', 'marginal_source': 'ISONE:marginal_fuel_mix:2021-04-05T04:45:00+00:00', 'raw_start_date': '2021-04-05T00:35:24-04:00', 'source': 'generated_fuel_mix:ISONE:2021-04-05T04:45:00+00:00', 'unit': 'lbs/MWh'}, 'region': 'ISONE', 'start_date': '2021-04-05T04:45:00+00:00'}, {'data': {'generated_rate': 346.9344070635022, 'marginal_rate': 431.84938205402585}, 'dedup_key': 'ISONE:carbon_intensity:EGRID_2018:2021-04-05T04:45:00+00:00', 'event_type': 'carbon_intensity', 'meta': {'generated_emissions_source': 'EGRID_2018', 'inserted_at': '2021-04-05T04:51:24.113160Z', 'marginal_emissions_source': 'EGRID_2018', 'marginal_source': 'ISONE:marginal_fuel_mix:2021-04-05T04:45:00+00:00', 'raw_start_date': '2021-04-05T00:35:24-04:00', 'source': 'generated_fuel_mix:ISONE:2021-04-05T04:45:00+00:00', 'unit': 'lbs/MWh'}, 'region': 'ISONE', 'start_date': '2021-04-05T04:45:00+00:00'}, {'data': {'generated_rate': 529.1377082400606, 'marginal_rate': 466.1549974123956}, 'dedup_key': 'ISONE:carbon_intensity:2021-04-05T04:45:00+00:00', 'event_type': 'carbon_intensity', 'meta': {'generated_emissions_source': 'EGRID_u2018', 'inserted_at': '2021-04-05T04:51:24.432795Z', 'marginal_emissions_source': 'EGRID_u2018', 'marginal_source': 'ISONE:marginal_fuel_mix:2021-04-05T04:45:00+00:00', 'raw_start_date': '2021-04-05T00:35:24-04:00', 'source': 'generated_fuel_mix:ISONE:2021-04-05T04:45:00+00:00', 'unit': 'lbs/MWh'}, 'region': 'ISONE', 'start_date': '2021-04-05T04:45:00+00:00'}, {'data': {'generated_rate': 530.0748994506027, 'marginal_rate': 466.1549974123956}, 'dedup_key': 'ISONE:carbon_intensity:EGRID_u2018_eq:2021-04-05T04:50:00+00:00', 'event_type': 'carbon_intensity', 'meta': {'generated_emissions_source': 'EGRID_u2018_eq', 'inserted_at': '2021-04-05T04:51:24.838674Z', 'marginal_emissions_source': 'EGRID_u2018_eq', 'marginal_source': 'ISONE:marginal_fuel_mix:2021-04-05T04:50:00+00:00', 'raw_start_date': '2021-04-05T00:35:24-04:00', 'source': 'generated_fuel_mix:ISONE:2021-04-05T04:50:00+00:00', 'unit': 'lbs/MWh'}, 'region': 'ISONE', 'start_date': '2021-04-05T04:50:00+00:00'}, {'data': {'generated_rate': 347.06909013158133, 'marginal_rate': 431.84938205402585}, 'dedup_key': 'ISONE:carbon_intensity:EGRID_2018_eq:2021-04-05T04:50:00+00:00', 'event_type': 'carbon_intensity', 'meta': {'generated_emissions_source': 'EGRID_2018_eq', 'inserted_at': '2021-04-05T04:51:25.318071Z', 'marginal_emissions_source': 'EGRID_2018_eq', 'marginal_source': 'ISONE:marginal_fuel_mix:2021-04-05T04:50:00+00:00', 'raw_start_date': '2021-04-05T00:35:24-04:00', 'source': 'generated_fuel_mix:ISONE:2021-04-05T04:50:00+00:00', 'unit': 'lbs/MWh'}, 'region': 'ISONE', 'start_date': '2021-04-05T04:50:00+00:00'}, {'data': {'generated_rate': 346.9344070635022, 'marginal_rate': 431.84938205402585}, 'dedup_key': 'ISONE:carbon_intensity:EGRID_2018:2021-04-05T04:50:00+00:00', 'event_type': 'carbon_intensity', 'meta': {'generated_emissions_source': 'EGRID_2018', 'inserted_at': '2021-04-05T04:51:25.801946Z', 'marginal_emissions_source': 'EGRID_2018', 'marginal_source': 'ISONE:marginal_fuel_mix:2021-04-05T04:50:00+00:00', 'raw_start_date': '2021-04-05T00:35:24-04:00', 'source': 'generated_fuel_mix:ISONE:2021-04-05T04:50:00+00:00', 'unit': 'lbs/MWh'}, 'region': 'ISONE', 'start_date': '2021-04-05T04:50:00+00:00'}, {'data': {'generated_rate': 529.1377082400606, 'marginal_rate': 466.1549974123956}, 'dedup_key': 'ISONE:carbon_intensity:2021-04-05T04:50:00+00:00', 'event_type': 'carbon_intensity', 'meta': {'generated_emissions_source': 'EGRID_u2018', 'inserted_at': '2021-04-05T04:51:25.179609Z', 'marginal_emissions_source': 'EGRID_u2018', 'marginal_source': 'ISONE:marginal_fuel_mix:2021-04-05T04:50:00+00:00', 'raw_start_date': '2021-04-05T00:35:24-04:00', 'source': 'generated_fuel_mix:ISONE:2021-04-05T04:50:00+00:00', 'unit': 'lbs/MWh'}, 'region': 'ISONE', 'start_date': '2021-04-05T04:50:00+00:00'}, {'data': {'generated_rate': 534.10076165856, 'marginal_rate': 466.1549974123956}, 'dedup_key': 'ISONE:carbon_intensity:EGRID_u2018_eq:2021-04-05T04:55:00+00:00', 'event_type': 'carbon_intensity', 'meta': {'generated_emissions_source': 'EGRID_u2018_eq', 'inserted_at': '2021-04-05T05:05:27.405867Z', 'marginal_emissions_source': 'EGRID_u2018_eq', 'marginal_source': 'ISONE:marginal_fuel_mix:2021-04-05T04:55:00+00:00', 'raw_start_date': '2021-04-05T00:52:43-04:00', 'source': 'generated_fuel_mix:ISONE:2021-04-05T04:55:00+00:00', 'unit': 'lbs/MWh'}, 'region': 'ISONE', 'start_date': '2021-04-05T04:55:00+00:00'}, {'data': {'generated_rate': 344.69739519902726, 'marginal_rate': 431.84938205402585}, 'dedup_key': 'ISONE:carbon_intensity:EGRID_2018_eq:2021-04-05T04:55:00+00:00', 'event_type': 'carbon_intensity', 'meta': {'generated_emissions_source': 'EGRID_2018_eq', 'inserted_at': '2021-04-05T05:05:26.995360Z', 'marginal_emissions_source': 'EGRID_2018_eq', 'marginal_source': 'ISONE:marginal_fuel_mix:2021-04-05T04:55:00+00:00', 'raw_start_date': '2021-04-05T00:52:43-04:00', 'source': 'generated_fuel_mix:ISONE:2021-04-05T04:55:00+00:00', 'unit': 'lbs/MWh'}, 'region': 'ISONE', 'start_date': '2021-04-05T04:55:00+00:00'}, {'data': {'generated_rate': 343.75446363981496, 'marginal_rate': 431.84938205402585}, 'dedup_key': 'ISONE:carbon_intensity:EGRID_2018:2021-04-05T04:55:00+00:00', 'event_type': 'carbon_intensity', 'meta': {'generated_emissions_source': 'EGRID_2018', 'inserted_at': '2021-04-05T05:05:26.718483Z', 'marginal_emissions_source': 'EGRID_2018', 'marginal_source': 'ISONE:marginal_fuel_mix:2021-04-05T04:55:00+00:00', 'raw_start_date': '2021-04-05T00:52:43-04:00', 'source': 'generated_fuel_mix:ISONE:2021-04-05T04:55:00+00:00', 'unit': 'lbs/MWh'}, 'region': 'ISONE', 'start_date': '2021-04-05T04:55:00+00:00'}, {'data': {'generated_rate': 527.4653633439751, 'marginal_rate': 466.1549974123956}, 'dedup_key': 'ISONE:carbon_intensity:2021-04-05T04:55:00+00:00', 'event_type': 'carbon_intensity', 'meta': {'generated_emissions_source': 'EGRID_u2018', 'inserted_at': '2021-04-05T05:05:27.042374Z', 'marginal_emissions_source': 'EGRID_u2018', 'marginal_source': 'ISONE:marginal_fuel_mix:2021-04-05T04:55:00+00:00', 'raw_start_date': '2021-04-05T00:52:43-04:00', 'source': 'generated_fuel_mix:ISONE:2021-04-05T04:55:00+00:00', 'unit': 'lbs/MWh'}, 'region': 'ISONE', 'start_date': '2021-04-05T04:55:00+00:00'}, {'data': {'generated_rate': 534.10076165856, 'marginal_rate': 466.1549974123956}, 'dedup_key': 'ISONE:carbon_intensity:EGRID_u2018_eq:2021-04-05T05:00:00+00:00', 'event_type': 'carbon_intensity', 'meta': {'generated_emissions_source': 'EGRID_u2018_eq', 'inserted_at': '2021-04-05T05:05:24.317056Z', 'marginal_emissions_source': 'EGRID_u2018_eq', 'marginal_source': 'ISONE:marginal_fuel_mix:2021-04-05T05:00:00+00:00', 'raw_start_date': '2021-04-05T00:52:43-04:00', 'source': 'generated_fuel_mix:ISONE:2021-04-05T05:00:00+00:00', 'unit': 'lbs/MWh'}, 'region': 'ISONE', 'start_date': '2021-04-05T05:00:00+00:00'}, {'data': {'generated_rate': 344.69739519902726, 'marginal_rate': 431.84938205402585}, 'dedup_key': 'ISONE:carbon_intensity:EGRID_2018_eq:2021-04-05T05:00:00+00:00', 'event_type': 'carbon_intensity', 'meta': {'generated_emissions_source': 'EGRID_2018_eq', 'inserted_at': '2021-04-05T05:05:24.344567Z', 'marginal_emissions_source': 'EGRID_2018_eq', 'marginal_source': 'ISONE:marginal_fuel_mix:2021-04-05T05:00:00+00:00', 'raw_start_date': '2021-04-05T00:52:43-04:00', 'source': 'generated_fuel_mix:ISONE:2021-04-05T05:00:00+00:00', 'unit': 'lbs/MWh'}, 'region': 'ISONE', 'start_date': '2021-04-05T05:00:00+00:00'}, {'data': {'generated_rate': 343.75446363981496, 'marginal_rate': 431.84938205402585}, 'dedup_key': 'ISONE:carbon_intensity:EGRID_2018:2021-04-05T05:00:00+00:00', 'event_type': 'carbon_intensity', 'meta': {'generated_emissions_source': 'EGRID_2018', 'inserted_at': '2021-04-05T05:05:24.296120Z', 'marginal_emissions_source': 'EGRID_2018', 'marginal_source': 'ISONE:marginal_fuel_mix:2021-04-05T05:00:00+00:00', 'raw_start_date': '2021-04-05T00:52:43-04:00', 'source': 'generated_fuel_mix:ISONE:2021-04-05T05:00:00+00:00', 'unit': 'lbs/MWh'}, 'region': 'ISONE', 'start_date': '2021-04-05T05:00:00+00:00'}, {'data': {'generated_rate': 527.4653633439751, 'marginal_rate': 466.1549974123956}, 'dedup_key': 'ISONE:carbon_intensity:2021-04-05T05:00:00+00:00', 'event_type': 'carbon_intensity', 'meta': {'generated_emissions_source': 'EGRID_u2018', 'inserted_at': '2021-04-05T05:05:24.361852Z', 'marginal_emissions_source': 'EGRID_u2018', 'marginal_source': 'ISONE:marginal_fuel_mix:2021-04-05T05:00:00+00:00', 'raw_start_date': '2021-04-05T00:52:43-04:00', 'source': 'generated_fuel_mix:ISONE:2021-04-05T05:00:00+00:00', 'unit': 'lbs/MWh'}, 'region': 'ISONE', 'start_date': '2021-04-05T05:00:00+00:00'}, {'data': {'generated_rate': 534.4237981976099, 'marginal_rate': 466.1549974123956}, 'dedup_key': 'ISONE:carbon_intensity:EGRID_u2018_eq:2021-04-05T05:05:00+00:00', 'event_type': 'carbon_intensity', 'meta': {'generated_emissions_source': 'EGRID_u2018_eq', 'inserted_at': '2021-04-05T05:28:28.331135Z', 'marginal_emissions_source': 'EGRID_u2018_eq', 'marginal_source': 'ISONE:marginal_fuel_mix:2021-04-05T05:05:00+00:00', 'raw_start_date': '2021-04-05T01:04:17-04:00', 'source': 'generated_fuel_mix:ISONE:2021-04-05T05:05:00+00:00', 'unit': 'lbs/MWh'}, 'region': 'ISONE', 'start_date': '2021-04-05T05:05:00+00:00'}, {'data': {'generated_rate': 344.69250926740216, 'marginal_rate': 431.84938205402585}, 'dedup_key': 'ISONE:carbon_intensity:EGRID_2018_eq:2021-04-05T05:05:00+00:00', 'event_type': 'carbon_intensity', 'meta': {'generated_emissions_source': 'EGRID_2018_eq', 'inserted_at': '2021-04-05T05:28:28.720572Z', 'marginal_emissions_source': 'EGRID_2018_eq', 'marginal_source': 'ISONE:marginal_fuel_mix:2021-04-05T05:05:00+00:00', 'raw_start_date': '2021-04-05T01:04:17-04:00', 'source': 'generated_fuel_mix:ISONE:2021-04-05T05:05:00+00:00', 'unit': 'lbs/MWh'}, 'region': 'ISONE', 'start_date': '2021-04-05T05:05:00+00:00'}, {'data': {'generated_rate': 343.61916540537555, 'marginal_rate': 431.84938205402585}, 'dedup_key': 'ISONE:carbon_intensity:EGRID_2018:2021-04-05T05:05:00+00:00', 'event_type': 'carbon_intensity', 'meta': {'generated_emissions_source': 'EGRID_2018', 'inserted_at': '2021-04-05T05:28:28.756603Z', 'marginal_emissions_source': 'EGRID_2018', 'marginal_source': 'ISONE:marginal_fuel_mix:2021-04-05T05:05:00+00:00', 'raw_start_date': '2021-04-05T01:04:17-04:00', 'source': 'generated_fuel_mix:ISONE:2021-04-05T05:05:00+00:00', 'unit': 'lbs/MWh'}, 'region': 'ISONE', 'start_date': '2021-04-05T05:05:00+00:00'}, {'data': {'generated_rate': 526.868916399809, 'marginal_rate': 466.1549974123956}, 'dedup_key': 'ISONE:carbon_intensity:2021-04-05T05:05:00+00:00', 'event_type': 'carbon_intensity', 'meta': {'generated_emissions_source': 'EGRID_u2018', 'inserted_at': '2021-04-05T05:28:28.716589Z', 'marginal_emissions_source': 'EGRID_u2018', 'marginal_source': 'ISONE:marginal_fuel_mix:2021-04-05T05:05:00+00:00', 'raw_start_date': '2021-04-05T01:04:17-04:00', 'source': 'generated_fuel_mix:ISONE:2021-04-05T05:05:00+00:00', 'unit': 'lbs/MWh'}, 'region': 'ISONE', 'start_date': '2021-04-05T05:05:00+00:00'}, {'data': {'generated_rate': 534.4237981976099, 'marginal_rate': 466.1549974123956}, 'dedup_key': 'ISONE:carbon_intensity:EGRID_u2018_eq:2021-04-05T05:10:00+00:00', 'event_type': 'carbon_intensity', 'meta': {'generated_emissions_source': 'EGRID_u2018_eq', 'inserted_at': '2021-04-05T05:28:26.266755Z', 'marginal_emissions_source': 'EGRID_u2018_eq', 'marginal_source': 'ISONE:marginal_fuel_mix:2021-04-05T05:10:00+00:00', 'raw_start_date': '2021-04-05T01:04:17-04:00', 'source': 'generated_fuel_mix:ISONE:2021-04-05T05:10:00+00:00', 'unit': 'lbs/MWh'}, 'region': 'ISONE', 'start_date': '2021-04-05T05:10:00+00:00'}, {'data': {'generated_rate': 344.69250926740216, 'marginal_rate': 431.84938205402585}, 'dedup_key': 'ISONE:carbon_intensity:EGRID_2018_eq:2021-04-05T05:10:00+00:00', 'event_type': 'carbon_intensity', 'meta': {'generated_emissions_source': 'EGRID_2018_eq', 'inserted_at': '2021-04-05T05:28:26.320301Z', 'marginal_emissions_source': 'EGRID_2018_eq', 'marginal_source': 'ISONE:marginal_fuel_mix:2021-04-05T05:10:00+00:00', 'raw_start_date': '2021-04-05T01:04:17-04:00', 'source': 'generated_fuel_mix:ISONE:2021-04-05T05:10:00+00:00', 'unit': 'lbs/MWh'}, 'region': 'ISONE', 'start_date': '2021-04-05T05:10:00+00:00'}, {'data': {'generated_rate': 343.61916540537555, 'marginal_rate': 431.84938205402585}, 'dedup_key': 'ISONE:carbon_intensity:EGRID_2018:2021-04-05T05:10:00+00:00', 'event_type': 'carbon_intensity', 'meta': {'generated_emissions_source': 'EGRID_2018', 'inserted_at': '2021-04-05T05:28:26.452262Z', 'marginal_emissions_source': 'EGRID_2018', 'marginal_source': 'ISONE:marginal_fuel_mix:2021-04-05T05:10:00+00:00', 'raw_start_date': '2021-04-05T01:04:17-04:00', 'source': 'generated_fuel_mix:ISONE:2021-04-05T05:10:00+00:00', 'unit': 'lbs/MWh'}, 'region': 'ISONE', 'start_date': '2021-04-05T05:10:00+00:00'}, {'data': {'generated_rate': 526.868916399809, 'marginal_rate': 466.1549974123956}, 'dedup_key': 'ISONE:carbon_intensity:2021-04-05T05:10:00+00:00', 'event_type': 'carbon_intensity', 'meta': {'generated_emissions_source': 'EGRID_u2018', 'inserted_at': '2021-04-05T05:28:26.497986Z', 'marginal_emissions_source': 'EGRID_u2018', 'marginal_source': 'ISONE:marginal_fuel_mix:2021-04-05T05:10:00+00:00', 'raw_start_date': '2021-04-05T01:04:17-04:00', 'source': 'generated_fuel_mix:ISONE:2021-04-05T05:10:00+00:00', 'unit': 'lbs/MWh'}, 'region': 'ISONE', 'start_date': '2021-04-05T05:10:00+00:00'}, {'data': {'generated_rate': 534.4237981976099, 'marginal_rate': 466.1549974123956}, 'dedup_key': 'ISONE:carbon_intensity:EGRID_u2018_eq:2021-04-05T05:15:00+00:00', 'event_type': 'carbon_intensity', 'meta': {'generated_emissions_source': 'EGRID_u2018_eq', 'inserted_at': '2021-04-05T05:28:31.598583Z', 'marginal_emissions_source': 'EGRID_u2018_eq', 'marginal_source': 'ISONE:marginal_fuel_mix:2021-04-05T05:15:00+00:00', 'raw_start_date': '2021-04-05T01:04:17-04:00', 'source': 'generated_fuel_mix:ISONE:2021-04-05T05:15:00+00:00', 'unit': 'lbs/MWh'}, 'region': 'ISONE', 'start_date': '2021-04-05T05:15:00+00:00'}, {'data': {'generated_rate': 344.69250926740216, 'marginal_rate': 431.84938205402585}, 'dedup_key': 'ISONE:carbon_intensity:EGRID_2018_eq:2021-04-05T05:15:00+00:00', 'event_type': 'carbon_intensity', 'meta': {'generated_emissions_source': 'EGRID_2018_eq', 'inserted_at': '2021-04-05T05:28:31.647392Z', 'marginal_emissions_source': 'EGRID_2018_eq', 'marginal_source': 'ISONE:marginal_fuel_mix:2021-04-05T05:15:00+00:00', 'raw_start_date': '2021-04-05T01:04:17-04:00', 'source': 'generated_fuel_mix:ISONE:2021-04-05T05:15:00+00:00', 'unit': 'lbs/MWh'}, 'region': 'ISONE', 'start_date': '2021-04-05T05:15:00+00:00'}, {'data': {'generated_rate': 343.61916540537555, 'marginal_rate': 431.84938205402585}, 'dedup_key': 'ISONE:carbon_intensity:EGRID_2018:2021-04-05T05:15:00+00:00', 'event_type': 'carbon_intensity', 'meta': {'generated_emissions_source': 'EGRID_2018', 'inserted_at': '2021-04-05T05:28:31.819427Z', 'marginal_emissions_source': 'EGRID_2018', 'marginal_source': 'ISONE:marginal_fuel_mix:2021-04-05T05:15:00+00:00', 'raw_start_date': '2021-04-05T01:04:17-04:00', 'source': 'generated_fuel_mix:ISONE:2021-04-05T05:15:00+00:00', 'unit': 'lbs/MWh'}, 'region': 'ISONE', 'start_date': '2021-04-05T05:15:00+00:00'}, {'data': {'generated_rate': 526.868916399809, 'marginal_rate': 466.1549974123956}, 'dedup_key': 'ISONE:carbon_intensity:2021-04-05T05:15:00+00:00', 'event_type': 'carbon_intensity', 'meta': {'generated_emissions_source': 'EGRID_u2018', 'inserted_at': '2021-04-05T05:28:31.536394Z', 'marginal_emissions_source': 'EGRID_u2018', 'marginal_source': 'ISONE:marginal_fuel_mix:2021-04-05T05:15:00+00:00', 'raw_start_date': '2021-04-05T01:04:17-04:00', 'source': 'generated_fuel_mix:ISONE:2021-04-05T05:15:00+00:00', 'unit': 'lbs/MWh'}, 'region': 'ISONE', 'start_date': '2021-04-05T05:15:00+00:00'}, {'data': {'generated_rate': 534.4237981976099, 'marginal_rate': 466.1549974123956}, 'dedup_key': 'ISONE:carbon_intensity:EGRID_u2018_eq:2021-04-05T05:20:00+00:00', 'event_type': 'carbon_intensity', 'meta': {'generated_emissions_source': 'EGRID_u2018_eq', 'inserted_at': '2021-04-05T05:28:26.971413Z', 'marginal_emissions_source': 'EGRID_u2018_eq', 'marginal_source': 'ISONE:marginal_fuel_mix:2021-04-05T05:20:00+00:00', 'raw_start_date': '2021-04-05T01:04:17-04:00', 'source': 'generated_fuel_mix:ISONE:2021-04-05T05:20:00+00:00', 'unit': 'lbs/MWh'}, 'region': 'ISONE', 'start_date': '2021-04-05T05:20:00+00:00'}, {'data': {'generated_rate': 344.69250926740216, 'marginal_rate': 431.84938205402585}, 'dedup_key': 'ISONE:carbon_intensity:EGRID_2018_eq:2021-04-05T05:20:00+00:00', 'event_type': 'carbon_intensity', 'meta': {'generated_emissions_source': 'EGRID_2018_eq', 'inserted_at': '2021-04-05T05:28:26.691521Z', 'marginal_emissions_source': 'EGRID_2018_eq', 'marginal_source': 'ISONE:marginal_fuel_mix:2021-04-05T05:20:00+00:00', 'raw_start_date': '2021-04-05T01:04:17-04:00', 'source': 'generated_fuel_mix:ISONE:2021-04-05T05:20:00+00:00', 'unit': 'lbs/MWh'}, 'region': 'ISONE', 'start_date': '2021-04-05T05:20:00+00:00'}, {'data': {'generated_rate': 343.61916540537555, 'marginal_rate': 431.84938205402585}, 'dedup_key': 'ISONE:carbon_intensity:EGRID_2018:2021-04-05T05:20:00+00:00', 'event_type': 'carbon_intensity', 'meta': {'generated_emissions_source': 'EGRID_2018', 'inserted_at': '2021-04-05T05:28:27.082767Z', 'marginal_emissions_source': 'EGRID_2018', 'marginal_source': 'ISONE:marginal_fuel_mix:2021-04-05T05:20:00+00:00', 'raw_start_date': '2021-04-05T01:04:17-04:00', 'source': 'generated_fuel_mix:ISONE:2021-04-05T05:20:00+00:00', 'unit': 'lbs/MWh'}, 'region': 'ISONE', 'start_date': '2021-04-05T05:20:00+00:00'}, {'data': {'generated_rate': 526.868916399809, 'marginal_rate': 466.1549974123956}, 'dedup_key': 'ISONE:carbon_intensity:2021-04-05T05:20:00+00:00', 'event_type': 'carbon_intensity', 'meta': {'generated_emissions_source': 'EGRID_u2018', 'inserted_at': '2021-04-05T05:28:27.098332Z', 'marginal_emissions_source': 'EGRID_u2018', 'marginal_source': 'ISONE:marginal_fuel_mix:2021-04-05T05:20:00+00:00', 'raw_start_date': '2021-04-05T01:04:17-04:00', 'source': 'generated_fuel_mix:ISONE:2021-04-05T05:20:00+00:00', 'unit': 'lbs/MWh'}, 'region': 'ISONE', 'start_date': '2021-04-05T05:20:00+00:00'}, {'data': {'generated_rate': 534.4237981976099, 'marginal_rate': 466.1549974123956}, 'dedup_key': 'ISONE:carbon_intensity:EGRID_u2018_eq:2021-04-05T05:25:00+00:00', 'event_type': 'carbon_intensity', 'meta': {'generated_emissions_source': 'EGRID_u2018_eq', 'inserted_at': '2021-04-05T05:28:28.087296Z', 'marginal_emissions_source': 'EGRID_u2018_eq', 'marginal_source': 'ISONE:marginal_fuel_mix:2021-04-05T05:25:00+00:00', 'raw_start_date': '2021-04-05T01:04:17-04:00', 'source': 'generated_fuel_mix:ISONE:2021-04-05T05:25:00+00:00', 'unit': 'lbs/MWh'}, 'region': 'ISONE', 'start_date': '2021-04-05T05:25:00+00:00'}, {'data': {'generated_rate': 344.69250926740216, 'marginal_rate': 431.84938205402585}, 'dedup_key': 'ISONE:carbon_intensity:EGRID_2018_eq:2021-04-05T05:25:00+00:00', 'event_type': 'carbon_intensity', 'meta': {'generated_emissions_source': 'EGRID_2018_eq', 'inserted_at': '2021-04-05T05:28:28.568187Z', 'marginal_emissions_source': 'EGRID_2018_eq', 'marginal_source': 'ISONE:marginal_fuel_mix:2021-04-05T05:25:00+00:00', 'raw_start_date': '2021-04-05T01:04:17-04:00', 'source': 'generated_fuel_mix:ISONE:2021-04-05T05:25:00+00:00', 'unit': 'lbs/MWh'}, 'region': 'ISONE', 'start_date': '2021-04-05T05:25:00+00:00'}, {'data': {'generated_rate': 343.61916540537555, 'marginal_rate': 431.84938205402585}, 'dedup_key': 'ISONE:carbon_intensity:EGRID_2018:2021-04-05T05:25:00+00:00', 'event_type': 'carbon_intensity', 'meta': {'generated_emissions_source': 'EGRID_2018', 'inserted_at': '2021-04-05T05:28:28.072992Z', 'marginal_emissions_source': 'EGRID_2018', 'marginal_source': 'ISONE:marginal_fuel_mix:2021-04-05T05:25:00+00:00', 'raw_start_date': '2021-04-05T01:04:17-04:00', 'source': 'generated_fuel_mix:ISONE:2021-04-05T05:25:00+00:00', 'unit': 'lbs/MWh'}, 'region': 'ISONE', 'start_date': '2021-04-05T05:25:00+00:00'}, {'data': {'generated_rate': 526.868916399809, 'marginal_rate': 466.1549974123956}, 'dedup_key': 'ISONE:carbon_intensity:2021-04-05T05:25:00+00:00', 'event_type': 'carbon_intensity', 'meta': {'generated_emissions_source': 'EGRID_u2018', 'inserted_at': '2021-04-05T05:28:28.573424Z', 'marginal_emissions_source': 'EGRID_u2018', 'marginal_source': 'ISONE:marginal_fuel_mix:2021-04-05T05:25:00+00:00', 'raw_start_date': '2021-04-05T01:04:17-04:00', 'source': 'generated_fuel_mix:ISONE:2021-04-05T05:25:00+00:00', 'unit': 'lbs/MWh'}, 'region': 'ISONE', 'start_date': '2021-04-05T05:25:00+00:00'}, {'data': {'generated_rate': 534.5622931145987, 'marginal_rate': 466.1549974123956}, 'dedup_key': 'ISONE:carbon_intensity:EGRID_u2018_eq:2021-04-05T05:30:00+00:00', 'event_type': 'carbon_intensity', 'meta': {'generated_emissions_source': 'EGRID_u2018_eq', 'inserted_at': '2021-04-05T05:36:25.379995Z', 'marginal_emissions_source': 'EGRID_u2018_eq', 'marginal_source': 'ISONE:marginal_fuel_mix:2021-04-05T05:30:00+00:00', 'raw_start_date': '2021-04-05T01:29:01-04:00', 'source': 'generated_fuel_mix:ISONE:2021-04-05T05:30:00+00:00', 'unit': 'lbs/MWh'}, 'region': 'ISONE', 'start_date': '2021-04-05T05:30:00+00:00'}, {'data': {'generated_rate': 347.33383910159665, 'marginal_rate': 431.84938205402585}, 'dedup_key': 'ISONE:carbon_intensity:EGRID_2018_eq:2021-04-05T05:30:00+00:00', 'event_type': 'carbon_intensity', 'meta': {'generated_emissions_source': 'EGRID_2018_eq', 'inserted_at': '2021-04-05T05:36:25.454509Z', 'marginal_emissions_source': 'EGRID_2018_eq', 'marginal_source': 'ISONE:marginal_fuel_mix:2021-04-05T05:30:00+00:00', 'raw_start_date': '2021-04-05T01:29:01-04:00', 'source': 'generated_fuel_mix:ISONE:2021-04-05T05:30:00+00:00', 'unit': 'lbs/MWh'}, 'region': 'ISONE', 'start_date': '2021-04-05T05:30:00+00:00'}, {'data': {'generated_rate': 346.5273569877466, 'marginal_rate': 431.84938205402585}, 'dedup_key': 'ISONE:carbon_intensity:EGRID_2018:2021-04-05T05:30:00+00:00', 'event_type': 'carbon_intensity', 'meta': {'generated_emissions_source': 'EGRID_2018', 'inserted_at': '2021-04-05T05:36:25.306047Z', 'marginal_emissions_source': 'EGRID_2018', 'marginal_source': 'ISONE:marginal_fuel_mix:2021-04-05T05:30:00+00:00', 'raw_start_date': '2021-04-05T01:29:01-04:00', 'source': 'generated_fuel_mix:ISONE:2021-04-05T05:30:00+00:00', 'unit': 'lbs/MWh'}, 'region': 'ISONE', 'start_date': '2021-04-05T05:30:00+00:00'}, {'data': {'generated_rate': 528.8888323200958, 'marginal_rate': 466.1549974123956}, 'dedup_key': 'ISONE:carbon_intensity:2021-04-05T05:30:00+00:00', 'event_type': 'carbon_intensity', 'meta': {'generated_emissions_source': 'EGRID_u2018', 'inserted_at': '2021-04-05T05:36:25.068057Z', 'marginal_emissions_source': 'EGRID_u2018', 'marginal_source': 'ISONE:marginal_fuel_mix:2021-04-05T05:30:00+00:00', 'raw_start_date': '2021-04-05T01:29:01-04:00', 'source': 'generated_fuel_mix:ISONE:2021-04-05T05:30:00+00:00', 'unit': 'lbs/MWh'}, 'region': 'ISONE', 'start_date': '2021-04-05T05:30:00+00:00'}, {'data': {'generated_rate': 534.5622931145987, 'marginal_rate': 466.1549974123956}, 'dedup_key': 'ISONE:carbon_intensity:EGRID_u2018_eq:2021-04-05T05:35:00+00:00', 'event_type': 'carbon_intensity', 'meta': {'generated_emissions_source': 'EGRID_u2018_eq', 'inserted_at': '2021-04-05T05:36:24.261357Z', 'marginal_emissions_source': 'EGRID_u2018_eq', 'marginal_source': 'ISONE:marginal_fuel_mix:2021-04-05T05:35:00+00:00', 'raw_start_date': '2021-04-05T01:29:01-04:00', 'source': 'generated_fuel_mix:ISONE:2021-04-05T05:35:00+00:00', 'unit': 'lbs/MWh'}, 'region': 'ISONE', 'start_date': '2021-04-05T05:35:00+00:00'}, {'data': {'generated_rate': 347.33383910159665, 'marginal_rate': 431.84938205402585}, 'dedup_key': 'ISONE:carbon_intensity:EGRID_2018_eq:2021-04-05T05:35:00+00:00', 'event_type': 'carbon_intensity', 'meta': {'generated_emissions_source': 'EGRID_2018_eq', 'inserted_at': '2021-04-05T05:36:25.192114Z', 'marginal_emissions_source': 'EGRID_2018_eq', 'marginal_source': 'ISONE:marginal_fuel_mix:2021-04-05T05:35:00+00:00', 'raw_start_date': '2021-04-05T01:29:01-04:00', 'source': 'generated_fuel_mix:ISONE:2021-04-05T05:35:00+00:00', 'unit': 'lbs/MWh'}, 'region': 'ISONE', 'start_date': '2021-04-05T05:35:00+00:00'}, {'data': {'generated_rate': 346.5273569877466, 'marginal_rate': 431.84938205402585}, 'dedup_key': 'ISONE:carbon_intensity:EGRID_2018:2021-04-05T05:35:00+00:00', 'event_type': 'carbon_intensity', 'meta': {'generated_emissions_source': 'EGRID_2018', 'inserted_at': '2021-04-05T05:36:24.433235Z', 'marginal_emissions_source': 'EGRID_2018', 'marginal_source': 'ISONE:marginal_fuel_mix:2021-04-05T05:35:00+00:00', 'raw_start_date': '2021-04-05T01:29:01-04:00', 'source': 'generated_fuel_mix:ISONE:2021-04-05T05:35:00+00:00', 'unit': 'lbs/MWh'}, 'region': 'ISONE', 'start_date': '2021-04-05T05:35:00+00:00'}, {'data': {'generated_rate': 528.8888323200958, 'marginal_rate': 466.1549974123956}, 'dedup_key': 'ISONE:carbon_intensity:2021-04-05T05:35:00+00:00', 'event_type': 'carbon_intensity', 'meta': {'generated_emissions_source': 'EGRID_u2018', 'inserted_at': '2021-04-05T05:36:25.042549Z', 'marginal_emissions_source': 'EGRID_u2018', 'marginal_source': 'ISONE:marginal_fuel_mix:2021-04-05T05:35:00+00:00', 'raw_start_date': '2021-04-05T01:29:01-04:00', 'source': 'generated_fuel_mix:ISONE:2021-04-05T05:35:00+00:00', 'unit': 'lbs/MWh'}, 'region': 'ISONE', 'start_date': '2021-04-05T05:35:00+00:00'}, {'data': {'generated_rate': 528.5646720460609, 'marginal_rate': 466.1549974123956}, 'dedup_key': 'ISONE:carbon_intensity:EGRID_u2018_eq:2021-04-05T05:40:00+00:00', 'event_type': 'carbon_intensity', 'meta': {'generated_emissions_source': 'EGRID_u2018_eq', 'inserted_at': '2021-04-05T05:52:27.940591Z', 'marginal_emissions_source': 'EGRID_u2018_eq', 'marginal_source': 'ISONE:marginal_fuel_mix:2021-04-05T05:40:00+00:00', 'raw_start_date': '2021-04-05T01:35:23-04:00', 'source': 'generated_fuel_mix:ISONE:2021-04-05T05:40:00+00:00', 'unit': 'lbs/MWh'}, 'region': 'ISONE', 'start_date': '2021-04-05T05:40:00+00:00'}, {'data': {'generated_rate': 335.30187832734055, 'marginal_rate': 431.84938205402585}, 'dedup_key': 'ISONE:carbon_intensity:EGRID_2018_eq:2021-04-05T05:40:00+00:00', 'event_type': 'carbon_intensity', 'meta': {'generated_emissions_source': 'EGRID_2018_eq', 'inserted_at': '2021-04-05T05:52:27.860344Z', 'marginal_emissions_source': 'EGRID_2018_eq', 'marginal_source': 'ISONE:marginal_fuel_mix:2021-04-05T05:40:00+00:00', 'raw_start_date': '2021-04-05T01:35:23-04:00', 'source': 'generated_fuel_mix:ISONE:2021-04-05T05:40:00+00:00', 'unit': 'lbs/MWh'}, 'region': 'ISONE', 'start_date': '2021-04-05T05:40:00+00:00'}, {'data': {'generated_rate': 333.9976950411735, 'marginal_rate': 431.84938205402585}, 'dedup_key': 'ISONE:carbon_intensity:EGRID_2018:2021-04-05T05:40:00+00:00', 'event_type': 'carbon_intensity', 'meta': {'generated_emissions_source': 'EGRID_2018', 'inserted_at': '2021-04-05T05:52:27.891701Z', 'marginal_emissions_source': 'EGRID_2018', 'marginal_source': 'ISONE:marginal_fuel_mix:2021-04-05T05:40:00+00:00', 'raw_start_date': '2021-04-05T01:35:23-04:00', 'source': 'generated_fuel_mix:ISONE:2021-04-05T05:40:00+00:00', 'unit': 'lbs/MWh'}, 'region': 'ISONE', 'start_date': '2021-04-05T05:40:00+00:00'}, {'data': {'generated_rate': 519.3826272229701, 'marginal_rate': 466.1549974123956}, 'dedup_key': 'ISONE:carbon_intensity:2021-04-05T05:40:00+00:00', 'event_type': 'carbon_intensity', 'meta': {'generated_emissions_source': 'EGRID_u2018', 'inserted_at': '2021-04-05T05:52:27.973014Z', 'marginal_emissions_source': 'EGRID_u2018', 'marginal_source': 'ISONE:marginal_fuel_mix:2021-04-05T05:40:00+00:00', 'raw_start_date': '2021-04-05T01:35:23-04:00', 'source': 'generated_fuel_mix:ISONE:2021-04-05T05:40:00+00:00', 'unit': 'lbs/MWh'}, 'region': 'ISONE', 'start_date': '2021-04-05T05:40:00+00:00'}, {'data': {'generated_rate': 528.5646720460609, 'marginal_rate': 466.1549974123956}, 'dedup_key': 'ISONE:carbon_intensity:EGRID_u2018_eq:2021-04-05T05:45:00+00:00', 'event_type': 'carbon_intensity', 'meta': {'generated_emissions_source': 'EGRID_u2018_eq', 'inserted_at': '2021-04-05T05:52:33.119663Z', 'marginal_emissions_source': 'EGRID_u2018_eq', 'marginal_source': 'ISONE:marginal_fuel_mix:2021-04-05T05:45:00+00:00', 'raw_start_date': '2021-04-05T01:35:23-04:00', 'source': 'generated_fuel_mix:ISONE:2021-04-05T05:45:00+00:00', 'unit': 'lbs/MWh'}, 'region': 'ISONE', 'start_date': '2021-04-05T05:45:00+00:00'}, {'data': {'generated_rate': 335.30187832734055, 'marginal_rate': 431.84938205402585}, 'dedup_key': 'ISONE:carbon_intensity:EGRID_2018_eq:2021-04-05T05:45:00+00:00', 'event_type': 'carbon_intensity', 'meta': {'generated_emissions_source': 'EGRID_2018_eq', 'inserted_at': '2021-04-05T05:52:33.218231Z', 'marginal_emissions_source': 'EGRID_2018_eq', 'marginal_source': 'ISONE:marginal_fuel_mix:2021-04-05T05:45:00+00:00', 'raw_start_date': '2021-04-05T01:35:23-04:00', 'source': 'generated_fuel_mix:ISONE:2021-04-05T05:45:00+00:00', 'unit': 'lbs/MWh'}, 'region': 'ISONE', 'start_date': '2021-04-05T05:45:00+00:00'}, {'data': {'generated_rate': 333.9976950411735, 'marginal_rate': 431.84938205402585}, 'dedup_key': 'ISONE:carbon_intensity:EGRID_2018:2021-04-05T05:45:00+00:00', 'event_type': 'carbon_intensity', 'meta': {'generated_emissions_source': 'EGRID_2018', 'inserted_at': '2021-04-05T05:52:33.233795Z', 'marginal_emissions_source': 'EGRID_2018', 'marginal_source': 'ISONE:marginal_fuel_mix:2021-04-05T05:45:00+00:00', 'raw_start_date': '2021-04-05T01:35:23-04:00', 'source': 'generated_fuel_mix:ISONE:2021-04-05T05:45:00+00:00', 'unit': 'lbs/MWh'}, 'region': 'ISONE', 'start_date': '2021-04-05T05:45:00+00:00'}, {'data': {'generated_rate': 519.3826272229701, 'marginal_rate': 466.1549974123956}, 'dedup_key': 'ISONE:carbon_intensity:2021-04-05T05:45:00+00:00', 'event_type': 'carbon_intensity', 'meta': {'generated_emissions_source': 'EGRID_u2018', 'inserted_at': '2021-04-05T05:52:33.186909Z', 'marginal_emissions_source': 'EGRID_u2018', 'marginal_source': 'ISONE:marginal_fuel_mix:2021-04-05T05:45:00+00:00', 'raw_start_date': '2021-04-05T01:35:23-04:00', 'source': 'generated_fuel_mix:ISONE:2021-04-05T05:45:00+00:00', 'unit': 'lbs/MWh'}, 'region': 'ISONE', 'start_date': '2021-04-05T05:45:00+00:00'}, {'data': {'generated_rate': 528.5646720460609, 'marginal_rate': 466.1549974123956}, 'dedup_key': 'ISONE:carbon_intensity:EGRID_u2018_eq:2021-04-05T05:50:00+00:00', 'event_type': 'carbon_intensity', 'meta': {'generated_emissions_source': 'EGRID_u2018_eq', 'inserted_at': '2021-04-05T05:52:32.340588Z', 'marginal_emissions_source': 'EGRID_u2018_eq', 'marginal_source': 'ISONE:marginal_fuel_mix:2021-04-05T05:50:00+00:00', 'raw_start_date': '2021-04-05T01:35:23-04:00', 'source': 'generated_fuel_mix:ISONE:2021-04-05T05:50:00+00:00', 'unit': 'lbs/MWh'}, 'region': 'ISONE', 'start_date': '2021-04-05T05:50:00+00:00'}, {'data': {'generated_rate': 335.30187832734055, 'marginal_rate': 431.84938205402585}, 'dedup_key': 'ISONE:carbon_intensity:EGRID_2018_eq:2021-04-05T05:50:00+00:00', 'event_type': 'carbon_intensity', 'meta': {'generated_emissions_source': 'EGRID_2018_eq', 'inserted_at': '2021-04-05T05:52:32.545756Z', 'marginal_emissions_source': 'EGRID_2018_eq', 'marginal_source': 'ISONE:marginal_fuel_mix:2021-04-05T05:50:00+00:00', 'raw_start_date': '2021-04-05T01:35:23-04:00', 'source': 'generated_fuel_mix:ISONE:2021-04-05T05:50:00+00:00', 'unit': 'lbs/MWh'}, 'region': 'ISONE', 'start_date': '2021-04-05T05:50:00+00:00'}, {'data': {'generated_rate': 333.9976950411735, 'marginal_rate': 431.84938205402585}, 'dedup_key': 'ISONE:carbon_intensity:EGRID_2018:2021-04-05T05:50:00+00:00', 'event_type': 'carbon_intensity', 'meta': {'generated_emissions_source': 'EGRID_2018', 'inserted_at': '2021-04-05T05:52:33.161459Z', 'marginal_emissions_source': 'EGRID_2018', 'marginal_source': 'ISONE:marginal_fuel_mix:2021-04-05T05:50:00+00:00', 'raw_start_date': '2021-04-05T01:35:23-04:00', 'source': 'generated_fuel_mix:ISONE:2021-04-05T05:50:00+00:00', 'unit': 'lbs/MWh'}, 'region': 'ISONE', 'start_date': '2021-04-05T05:50:00+00:00'}, {'data': {'generated_rate': 519.3826272229701, 'marginal_rate': 466.1549974123956}, 'dedup_key': 'ISONE:carbon_intensity:2021-04-05T05:50:00+00:00', 'event_type': 'carbon_intensity', 'meta': {'generated_emissions_source': 'EGRID_u2018', 'inserted_at': '2021-04-05T05:52:33.177181Z', 'marginal_emissions_source': 'EGRID_u2018', 'marginal_source': 'ISONE:marginal_fuel_mix:2021-04-05T05:50:00+00:00', 'raw_start_date': '2021-04-05T01:35:23-04:00', 'source': 'generated_fuel_mix:ISONE:2021-04-05T05:50:00+00:00', 'unit': 'lbs/MWh'}, 'region': 'ISONE', 'start_date': '2021-04-05T05:50:00+00:00'}, {'data': {'generated_rate': 523.6915623238717, 'marginal_rate': 466.1549974123956}, 'dedup_key': 'ISONE:carbon_intensity:EGRID_u2018_eq:2021-04-05T05:55:00+00:00', 'event_type': 'carbon_intensity', 'meta': {'generated_emissions_source': 'EGRID_u2018_eq', 'inserted_at': '2021-04-05T06:07:24.265248Z', 'marginal_emissions_source': 'EGRID_u2018_eq', 'marginal_source': 'ISONE:marginal_fuel_mix:2021-04-05T05:55:00+00:00', 'raw_start_date': '2021-04-05T01:52:57-04:00', 'source': 'generated_fuel_mix:ISONE:2021-04-05T05:55:00+00:00', 'unit': 'lbs/MWh'}, 'region': 'ISONE', 'start_date': '2021-04-05T05:55:00+00:00'}, {'data': {'generated_rate': 336.1948397872379, 'marginal_rate': 431.84938205402585}, 'dedup_key': 'ISONE:carbon_intensity:EGRID_2018_eq:2021-04-05T05:55:00+00:00', 'event_type': 'carbon_intensity', 'meta': {'generated_emissions_source': 'EGRID_2018_eq', 'inserted_at': '2021-04-05T06:07:24.320977Z', 'marginal_emissions_source': 'EGRID_2018_eq', 'marginal_source': 'ISONE:marginal_fuel_mix:2021-04-05T05:55:00+00:00', 'raw_start_date': '2021-04-05T01:52:57-04:00', 'source': 'generated_fuel_mix:ISONE:2021-04-05T05:55:00+00:00', 'unit': 'lbs/MWh'}, 'region': 'ISONE', 'start_date': '2021-04-05T05:55:00+00:00'}, {'data': {'generated_rate': 335.7800339056404, 'marginal_rate': 431.84938205402585}, 'dedup_key': 'ISONE:carbon_intensity:EGRID_2018:2021-04-05T05:55:00+00:00', 'event_type': 'carbon_intensity', 'meta': {'generated_emissions_source': 'EGRID_2018', 'inserted_at': '2021-04-05T06:07:24.291081Z', 'marginal_emissions_source': 'EGRID_2018', 'marginal_source': 'ISONE:marginal_fuel_mix:2021-04-05T05:55:00+00:00', 'raw_start_date': '2021-04-05T01:52:57-04:00', 'source': 'generated_fuel_mix:ISONE:2021-04-05T05:55:00+00:00', 'unit': 'lbs/MWh'}, 'region': 'ISONE', 'start_date': '2021-04-05T05:55:00+00:00'}, {'data': {'generated_rate': 520.779834206319, 'marginal_rate': 466.1549974123956}, 'dedup_key': 'ISONE:carbon_intensity:2021-04-05T05:55:00+00:00', 'event_type': 'carbon_intensity', 'meta': {'generated_emissions_source': 'EGRID_u2018', 'inserted_at': '2021-04-05T06:07:24.210490Z', 'marginal_emissions_source': 'EGRID_u2018', 'marginal_source': 'ISONE:marginal_fuel_mix:2021-04-05T05:55:00+00:00', 'raw_start_date': '2021-04-05T01:52:57-04:00', 'source': 'generated_fuel_mix:ISONE:2021-04-05T05:55:00+00:00', 'unit': 'lbs/MWh'}, 'region': 'ISONE', 'start_date': '2021-04-05T05:55:00+00:00'}, {'data': {'generated_rate': 526.9628983456348, 'marginal_rate': 466.1549974123956}, 'dedup_key': 'ISONE:carbon_intensity:EGRID_u2018_eq:2021-04-05T06:00:00+00:00', 'event_type': 'carbon_intensity', 'meta': {'generated_emissions_source': 'EGRID_u2018_eq', 'inserted_at': '2021-04-05T06:07:24.194097Z', 'marginal_emissions_source': 'EGRID_u2018_eq', 'marginal_source': 'ISONE:marginal_fuel_mix:2021-04-05T06:00:00+00:00', 'raw_start_date': '2021-04-05T01:58:45-04:00', 'source': 'generated_fuel_mix:ISONE:2021-04-05T06:00:00+00:00', 'unit': 'lbs/MWh'}, 'region': 'ISONE', 'start_date': '2021-04-05T06:00:00+00:00'}, {'data': {'generated_rate': 339.86573314880917, 'marginal_rate': 431.84938205402585}, 'dedup_key': 'ISONE:carbon_intensity:EGRID_2018_eq:2021-04-05T06:00:00+00:00', 'event_type': 'carbon_intensity', 'meta': {'generated_emissions_source': 'EGRID_2018_eq', 'inserted_at': '2021-04-05T06:07:24.153352Z', 'marginal_emissions_source': 'EGRID_2018_eq', 'marginal_source': 'ISONE:marginal_fuel_mix:2021-04-05T06:00:00+00:00', 'raw_start_date': '2021-04-05T01:58:45-04:00', 'source': 'generated_fuel_mix:ISONE:2021-04-05T06:00:00+00:00', 'unit': 'lbs/MWh'}, 'region': 'ISONE', 'start_date': '2021-04-05T06:00:00+00:00'}, {'data': {'generated_rate': 339.8636351545991, 'marginal_rate': 431.84938205402585}, 'dedup_key': 'ISONE:carbon_intensity:EGRID_2018:2021-04-05T06:00:00+00:00', 'event_type': 'carbon_intensity', 'meta': {'generated_emissions_source': 'EGRID_2018', 'inserted_at': '2021-04-05T06:07:24.340271Z', 'marginal_emissions_source': 'EGRID_2018', 'marginal_source': 'ISONE:marginal_fuel_mix:2021-04-05T06:00:00+00:00', 'raw_start_date': '2021-04-05T01:58:45-04:00', 'source': 'generated_fuel_mix:ISONE:2021-04-05T06:00:00+00:00', 'unit': 'lbs/MWh'}, 'region': 'ISONE', 'start_date': '2021-04-05T06:00:00+00:00'}, {'data': {'generated_rate': 526.9608003514247, 'marginal_rate': 466.1549974123956}, 'dedup_key': 'ISONE:carbon_intensity:2021-04-05T06:00:00+00:00', 'event_type': 'carbon_intensity', 'meta': {'generated_emissions_source': 'EGRID_u2018', 'inserted_at': '2021-04-05T06:07:24.355971Z', 'marginal_emissions_source': 'EGRID_u2018', 'marginal_source': 'ISONE:marginal_fuel_mix:2021-04-05T06:00:00+00:00', 'raw_start_date': '2021-04-05T01:58:45-04:00', 'source': 'generated_fuel_mix:ISONE:2021-04-05T06:00:00+00:00', 'unit': 'lbs/MWh'}, 'region': 'ISONE', 'start_date': '2021-04-05T06:00:00+00:00'}, {'data': {'generated_rate': 526.9628983456348, 'marginal_rate': 466.1549974123956}, 'dedup_key': 'ISONE:carbon_intensity:EGRID_u2018_eq:2021-04-05T06:05:00+00:00', 'event_type': 'carbon_intensity', 'meta': {'generated_emissions_source': 'EGRID_u2018_eq', 'inserted_at': '2021-04-05T06:07:24.791189Z', 'marginal_emissions_source': 'EGRID_u2018_eq', 'marginal_source': 'ISONE:marginal_fuel_mix:2021-04-05T06:05:00+00:00', 'raw_start_date': '2021-04-05T01:58:45-04:00', 'source': 'generated_fuel_mix:ISONE:2021-04-05T06:05:00+00:00', 'unit': 'lbs/MWh'}, 'region': 'ISONE', 'start_date': '2021-04-05T06:05:00+00:00'}, {'data': {'generated_rate': 339.86573314880917, 'marginal_rate': 431.84938205402585}, 'dedup_key': 'ISONE:carbon_intensity:EGRID_2018_eq:2021-04-05T06:05:00+00:00', 'event_type': 'carbon_intensity', 'meta': {'generated_emissions_source': 'EGRID_2018_eq', 'inserted_at': '2021-04-05T06:07:24.664056Z', 'marginal_emissions_source': 'EGRID_2018_eq', 'marginal_source': 'ISONE:marginal_fuel_mix:2021-04-05T06:05:00+00:00', 'raw_start_date': '2021-04-05T01:58:45-04:00', 'source': 'generated_fuel_mix:ISONE:2021-04-05T06:05:00+00:00', 'unit': 'lbs/MWh'}, 'region': 'ISONE', 'start_date': '2021-04-05T06:05:00+00:00'}, {'data': {'generated_rate': 339.8636351545991, 'marginal_rate': 431.84938205402585}, 'dedup_key': 'ISONE:carbon_intensity:EGRID_2018:2021-04-05T06:05:00+00:00', 'event_type': 'carbon_intensity', 'meta': {'generated_emissions_source': 'EGRID_2018', 'inserted_at': '2021-04-05T06:07:24.654623Z', 'marginal_emissions_source': 'EGRID_2018', 'marginal_source': 'ISONE:marginal_fuel_mix:2021-04-05T06:05:00+00:00', 'raw_start_date': '2021-04-05T01:58:45-04:00', 'source': 'generated_fuel_mix:ISONE:2021-04-05T06:05:00+00:00', 'unit': 'lbs/MWh'}, 'region': 'ISONE', 'start_date': '2021-04-05T06:05:00+00:00'}, {'data': {'generated_rate': 526.9608003514247, 'marginal_rate': 466.1549974123956}, 'dedup_key': 'ISONE:carbon_intensity:2021-04-05T06:05:00+00:00', 'event_type': 'carbon_intensity', 'meta': {'generated_emissions_source': 'EGRID_u2018', 'inserted_at': '2021-04-05T06:07:24.811994Z', 'marginal_emissions_source': 'EGRID_u2018', 'marginal_source': 'ISONE:marginal_fuel_mix:2021-04-05T06:05:00+00:00', 'raw_start_date': '2021-04-05T01:58:45-04:00', 'source': 'generated_fuel_mix:ISONE:2021-04-05T06:05:00+00:00', 'unit': 'lbs/MWh'}, 'region': 'ISONE', 'start_date': '2021-04-05T06:05:00+00:00'}, {'data': {'generated_rate': 537.8573915453175, 'marginal_rate': 466.1549974123956}, 'dedup_key': 'ISONE:carbon_intensity:EGRID_u2018_eq:2021-04-05T06:10:00+00:00', 'event_type': 'carbon_intensity', 'meta': {'generated_emissions_source': 'EGRID_u2018_eq', 'inserted_at': '2021-04-05T06:21:23.931641Z', 'marginal_emissions_source': 'EGRID_u2018_eq', 'marginal_source': 'ISONE:marginal_fuel_mix:2021-04-05T06:10:00+00:00', 'raw_start_date': '2021-04-05T02:06:47-04:00', 'source': 'generated_fuel_mix:ISONE:2021-04-05T06:10:00+00:00', 'unit': 'lbs/MWh'}, 'region': 'ISONE', 'start_date': '2021-04-05T06:10:00+00:00'}, {'data': {'generated_rate': 342.1821860009186, 'marginal_rate': 431.84938205402585}, 'dedup_key': 'ISONE:carbon_intensity:EGRID_2018_eq:2021-04-05T06:10:00+00:00', 'event_type': 'carbon_intensity', 'meta': {'generated_emissions_source': 'EGRID_2018_eq', 'inserted_at': '2021-04-05T06:21:23.602242Z', 'marginal_emissions_source': 'EGRID_2018_eq', 'marginal_source': 'ISONE:marginal_fuel_mix:2021-04-05T06:10:00+00:00', 'raw_start_date': '2021-04-05T02:06:47-04:00', 'source': 'generated_fuel_mix:ISONE:2021-04-05T06:10:00+00:00', 'unit': 'lbs/MWh'}, 'region': 'ISONE', 'start_date': '2021-04-05T06:10:00+00:00'}, {'data': {'generated_rate': 340.26709782586704, 'marginal_rate': 431.84938205402585}, 'dedup_key': 'ISONE:carbon_intensity:EGRID_2018:2021-04-05T06:10:00+00:00', 'event_type': 'carbon_intensity', 'meta': {'generated_emissions_source': 'EGRID_2018', 'inserted_at': '2021-04-05T06:21:23.987040Z', 'marginal_emissions_source': 'EGRID_2018', 'marginal_source': 'ISONE:marginal_fuel_mix:2021-04-05T06:10:00+00:00', 'raw_start_date': '2021-04-05T02:06:47-04:00', 'source': 'generated_fuel_mix:ISONE:2021-04-05T06:10:00+00:00', 'unit': 'lbs/MWh'}, 'region': 'ISONE', 'start_date': '2021-04-05T06:10:00+00:00'}, {'data': {'generated_rate': 524.3682698402897, 'marginal_rate': 466.1549974123956}, 'dedup_key': 'ISONE:carbon_intensity:2021-04-05T06:10:00+00:00', 'event_type': 'carbon_intensity', 'meta': {'generated_emissions_source': 'EGRID_u2018', 'inserted_at': '2021-04-05T06:21:23.755382Z', 'marginal_emissions_source': 'EGRID_u2018', 'marginal_source': 'ISONE:marginal_fuel_mix:2021-04-05T06:10:00+00:00', 'raw_start_date': '2021-04-05T02:06:47-04:00', 'source': 'generated_fuel_mix:ISONE:2021-04-05T06:10:00+00:00', 'unit': 'lbs/MWh'}, 'region': 'ISONE', 'start_date': '2021-04-05T06:10:00+00:00'}, {'data': {'generated_rate': 537.8573915453175, 'marginal_rate': 466.1549974123956}, 'dedup_key': 'ISONE:carbon_intensity:EGRID_u2018_eq:2021-04-05T06:15:00+00:00', 'event_type': 'carbon_intensity', 'meta': {'generated_emissions_source': 'EGRID_u2018_eq', 'inserted_at': '2021-04-05T06:21:22.953549Z', 'marginal_emissions_source': 'EGRID_u2018_eq', 'marginal_source': 'ISONE:marginal_fuel_mix:2021-04-05T06:15:00+00:00', 'raw_start_date': '2021-04-05T02:06:47-04:00', 'source': 'generated_fuel_mix:ISONE:2021-04-05T06:15:00+00:00', 'unit': 'lbs/MWh'}, 'region': 'ISONE', 'start_date': '2021-04-05T06:15:00+00:00'}, {'data': {'generated_rate': 342.1821860009186, 'marginal_rate': 431.84938205402585}, 'dedup_key': 'ISONE:carbon_intensity:EGRID_2018_eq:2021-04-05T06:15:00+00:00', 'event_type': 'carbon_intensity', 'meta': {'generated_emissions_source': 'EGRID_2018_eq', 'inserted_at': '2021-04-05T06:21:23.109748Z', 'marginal_emissions_source': 'EGRID_2018_eq', 'marginal_source': 'ISONE:marginal_fuel_mix:2021-04-05T06:15:00+00:00', 'raw_start_date': '2021-04-05T02:06:47-04:00', 'source': 'generated_fuel_mix:ISONE:2021-04-05T06:15:00+00:00', 'unit': 'lbs/MWh'}, 'region': 'ISONE', 'start_date': '2021-04-05T06:15:00+00:00'}, {'data': {'generated_rate': 340.26709782586704, 'marginal_rate': 431.84938205402585}, 'dedup_key': 'ISONE:carbon_intensity:EGRID_2018:2021-04-05T06:15:00+00:00', 'event_type': 'carbon_intensity', 'meta': {'generated_emissions_source': 'EGRID_2018', 'inserted_at': '2021-04-05T06:21:22.939652Z', 'marginal_emissions_source': 'EGRID_2018', 'marginal_source': 'ISONE:marginal_fuel_mix:2021-04-05T06:15:00+00:00', 'raw_start_date': '2021-04-05T02:06:47-04:00', 'source': 'generated_fuel_mix:ISONE:2021-04-05T06:15:00+00:00', 'unit': 'lbs/MWh'}, 'region': 'ISONE', 'start_date': '2021-04-05T06:15:00+00:00'}, {'data': {'generated_rate': 524.3682698402897, 'marginal_rate': 466.1549974123956}, 'dedup_key': 'ISONE:carbon_intensity:2021-04-05T06:15:00+00:00', 'event_type': 'carbon_intensity', 'meta': {'generated_emissions_source': 'EGRID_u2018', 'inserted_at': '2021-04-05T06:21:22.830906Z', 'marginal_emissions_source': 'EGRID_u2018', 'marginal_source': 'ISONE:marginal_fuel_mix:2021-04-05T06:15:00+00:00', 'raw_start_date': '2021-04-05T02:06:47-04:00', 'source': 'generated_fuel_mix:ISONE:2021-04-05T06:15:00+00:00', 'unit': 'lbs/MWh'}, 'region': 'ISONE', 'start_date': '2021-04-05T06:15:00+00:00'}, {'data': {'generated_rate': 537.8573915453175, 'marginal_rate': 466.1549974123956}, 'dedup_key': 'ISONE:carbon_intensity:EGRID_u2018_eq:2021-04-05T06:20:00+00:00', 'event_type': 'carbon_intensity', 'meta': {'generated_emissions_source': 'EGRID_u2018_eq', 'inserted_at': '2021-04-05T06:21:24.125417Z', 'marginal_emissions_source': 'EGRID_u2018_eq', 'marginal_source': 'ISONE:marginal_fuel_mix:2021-04-05T06:20:00+00:00', 'raw_start_date': '2021-04-05T02:06:47-04:00', 'source': 'generated_fuel_mix:ISONE:2021-04-05T06:20:00+00:00', 'unit': 'lbs/MWh'}, 'region': 'ISONE', 'start_date': '2021-04-05T06:20:00+00:00'}, {'data': {'generated_rate': 342.1821860009186, 'marginal_rate': 431.84938205402585}, 'dedup_key': 'ISONE:carbon_intensity:EGRID_2018_eq:2021-04-05T06:20:00+00:00', 'event_type': 'carbon_intensity', 'meta': {'generated_emissions_source': 'EGRID_2018_eq', 'inserted_at': '2021-04-05T06:21:23.975395Z', 'marginal_emissions_source': 'EGRID_2018_eq', 'marginal_source': 'ISONE:marginal_fuel_mix:2021-04-05T06:20:00+00:00', 'raw_start_date': '2021-04-05T02:06:47-04:00', 'source': 'generated_fuel_mix:ISONE:2021-04-05T06:20:00+00:00', 'unit': 'lbs/MWh'}, 'region': 'ISONE', 'start_date': '2021-04-05T06:20:00+00:00'}, {'data': {'generated_rate': 340.26709782586704, 'marginal_rate': 431.84938205402585}, 'dedup_key': 'ISONE:carbon_intensity:EGRID_2018:2021-04-05T06:20:00+00:00', 'event_type': 'carbon_intensity', 'meta': {'generated_emissions_source': 'EGRID_2018', 'inserted_at': '2021-04-05T06:21:24.914863Z', 'marginal_emissions_source': 'EGRID_2018', 'marginal_source': 'ISONE:marginal_fuel_mix:2021-04-05T06:20:00+00:00', 'raw_start_date': '2021-04-05T02:06:47-04:00', 'source': 'generated_fuel_mix:ISONE:2021-04-05T06:20:00+00:00', 'unit': 'lbs/MWh'}, 'region': 'ISONE', 'start_date': '2021-04-05T06:20:00+00:00'}, {'data': {'generated_rate': 524.3682698402897, 'marginal_rate': 466.1549974123956}, 'dedup_key': 'ISONE:carbon_intensity:2021-04-05T06:20:00+00:00', 'event_type': 'carbon_intensity', 'meta': {'generated_emissions_source': 'EGRID_u2018', 'inserted_at': '2021-04-05T06:21:24.678892Z', 'marginal_emissions_source': 'EGRID_u2018', 'marginal_source': 'ISONE:marginal_fuel_mix:2021-04-05T06:20:00+00:00', 'raw_start_date': '2021-04-05T02:06:47-04:00', 'source': 'generated_fuel_mix:ISONE:2021-04-05T06:20:00+00:00', 'unit': 'lbs/MWh'}, 'region': 'ISONE', 'start_date': '2021-04-05T06:20:00+00:00'}, {'data': {'generated_rate': 535.5403547674855, 'marginal_rate': 466.1549974123956}, 'dedup_key': 'ISONE:carbon_intensity:EGRID_u2018_eq:2021-04-05T06:25:00+00:00', 'event_type': 'carbon_intensity', 'meta': {'generated_emissions_source': 'EGRID_u2018_eq', 'inserted_at': '2021-04-05T06:38:26.059711Z', 'marginal_emissions_source': 'EGRID_u2018_eq', 'marginal_source': 'ISONE:marginal_fuel_mix:2021-04-05T06:25:00+00:00', 'raw_start_date': '2021-04-05T02:21:04-04:00', 'source': 'generated_fuel_mix:ISONE:2021-04-05T06:25:00+00:00', 'unit': 'lbs/MWh'}, 'region': 'ISONE', 'start_date': '2021-04-05T06:25:00+00:00'}, {'data': {'generated_rate': 351.4685263825235, 'marginal_rate': 431.84938205402585}, 'dedup_key': 'ISONE:carbon_intensity:EGRID_2018_eq:2021-04-05T06:25:00+00:00', 'event_type': 'carbon_intensity', 'meta': {'generated_emissions_source': 'EGRID_2018_eq', 'inserted_at': '2021-04-05T06:38:25.656014Z', 'marginal_emissions_source': 'EGRID_2018_eq', 'marginal_source': 'ISONE:marginal_fuel_mix:2021-04-05T06:25:00+00:00', 'raw_start_date': '2021-04-05T02:21:04-04:00', 'source': 'generated_fuel_mix:ISONE:2021-04-05T06:25:00+00:00', 'unit': 'lbs/MWh'}, 'region': 'ISONE', 'start_date': '2021-04-05T06:25:00+00:00'}, {'data': {'generated_rate': 351.46648074323883, 'marginal_rate': 431.84938205402585}, 'dedup_key': 'ISONE:carbon_intensity:EGRID_2018:2021-04-05T06:25:00+00:00', 'event_type': 'carbon_intensity', 'meta': {'generated_emissions_source': 'EGRID_2018', 'inserted_at': '2021-04-05T06:38:26.028457Z', 'marginal_emissions_source': 'EGRID_2018', 'marginal_source': 'ISONE:marginal_fuel_mix:2021-04-05T06:25:00+00:00', 'raw_start_date': '2021-04-05T02:21:04-04:00', 'source': 'generated_fuel_mix:ISONE:2021-04-05T06:25:00+00:00', 'unit': 'lbs/MWh'}, 'region': 'ISONE', 'start_date': '2021-04-05T06:25:00+00:00'}, {'data': {'generated_rate': 535.5383091282009, 'marginal_rate': 466.1549974123956}, 'dedup_key': 'ISONE:carbon_intensity:2021-04-05T06:25:00+00:00', 'event_type': 'carbon_intensity', 'meta': {'generated_emissions_source': 'EGRID_u2018', 'inserted_at': '2021-04-05T06:38:26.013155Z', 'marginal_emissions_source': 'EGRID_u2018', 'marginal_source': 'ISONE:marginal_fuel_mix:2021-04-05T06:25:00+00:00', 'raw_start_date': '2021-04-05T02:21:04-04:00', 'source': 'generated_fuel_mix:ISONE:2021-04-05T06:25:00+00:00', 'unit': 'lbs/MWh'}, 'region': 'ISONE', 'start_date': '2021-04-05T06:25:00+00:00'}, {'data': {'generated_rate': 535.5403547674855, 'marginal_rate': 466.1549974123956}, 'dedup_key': 'ISONE:carbon_intensity:EGRID_u2018_eq:2021-04-05T06:30:00+00:00', 'event_type': 'carbon_intensity', 'meta': {'generated_emissions_source': 'EGRID_u2018_eq', 'inserted_at': '2021-04-05T06:38:25.686900Z', 'marginal_emissions_source': 'EGRID_u2018_eq', 'marginal_source': 'ISONE:marginal_fuel_mix:2021-04-05T06:30:00+00:00', 'raw_start_date': '2021-04-05T02:21:04-04:00', 'source': 'generated_fuel_mix:ISONE:2021-04-05T06:30:00+00:00', 'unit': 'lbs/MWh'}, 'region': 'ISONE', 'start_date': '2021-04-05T06:30:00+00:00'}, {'data': {'generated_rate': 351.4685263825235, 'marginal_rate': 431.84938205402585}, 'dedup_key': 'ISONE:carbon_intensity:EGRID_2018_eq:2021-04-05T06:30:00+00:00', 'event_type': 'carbon_intensity', 'meta': {'generated_emissions_source': 'EGRID_2018_eq', 'inserted_at': '2021-04-05T06:38:25.578140Z', 'marginal_emissions_source': 'EGRID_2018_eq', 'marginal_source': 'ISONE:marginal_fuel_mix:2021-04-05T06:30:00+00:00', 'raw_start_date': '2021-04-05T02:21:04-04:00', 'source': 'generated_fuel_mix:ISONE:2021-04-05T06:30:00+00:00', 'unit': 'lbs/MWh'}, 'region': 'ISONE', 'start_date': '2021-04-05T06:30:00+00:00'}, {'data': {'generated_rate': 351.46648074323883, 'marginal_rate': 431.84938205402585}, 'dedup_key': 'ISONE:carbon_intensity:EGRID_2018:2021-04-05T06:30:00+00:00', 'event_type': 'carbon_intensity', 'meta': {'generated_emissions_source': 'EGRID_2018', 'inserted_at': '2021-04-05T06:38:25.618205Z', 'marginal_emissions_source': 'EGRID_2018', 'marginal_source': 'ISONE:marginal_fuel_mix:2021-04-05T06:30:00+00:00', 'raw_start_date': '2021-04-05T02:21:04-04:00', 'source': 'generated_fuel_mix:ISONE:2021-04-05T06:30:00+00:00', 'unit': 'lbs/MWh'}, 'region': 'ISONE', 'start_date': '2021-04-05T06:30:00+00:00'}, {'data': {'generated_rate': 535.5383091282009, 'marginal_rate': 466.1549974123956}, 'dedup_key': 'ISONE:carbon_intensity:2021-04-05T06:30:00+00:00', 'event_type': 'carbon_intensity', 'meta': {'generated_emissions_source': 'EGRID_u2018', 'inserted_at': '2021-04-05T06:38:25.876242Z', 'marginal_emissions_source': 'EGRID_u2018', 'marginal_source': 'ISONE:marginal_fuel_mix:2021-04-05T06:30:00+00:00', 'raw_start_date': '2021-04-05T02:21:04-04:00', 'source': 'generated_fuel_mix:ISONE:2021-04-05T06:30:00+00:00', 'unit': 'lbs/MWh'}, 'region': 'ISONE', 'start_date': '2021-04-05T06:30:00+00:00'}, {'data': {'generated_rate': 535.5403547674855, 'marginal_rate': 466.1549974123956}, 'dedup_key': 'ISONE:carbon_intensity:EGRID_u2018_eq:2021-04-05T06:35:00+00:00', 'event_type': 'carbon_intensity', 'meta': {'generated_emissions_source': 'EGRID_u2018_eq', 'inserted_at': '2021-04-05T06:38:25.405418Z', 'marginal_emissions_source': 'EGRID_u2018_eq', 'marginal_source': 'ISONE:marginal_fuel_mix:2021-04-05T06:35:00+00:00', 'raw_start_date': '2021-04-05T02:21:04-04:00', 'source': 'generated_fuel_mix:ISONE:2021-04-05T06:35:00+00:00', 'unit': 'lbs/MWh'}, 'region': 'ISONE', 'start_date': '2021-04-05T06:35:00+00:00'}, {'data': {'generated_rate': 351.4685263825235, 'marginal_rate': 431.84938205402585}, 'dedup_key': 'ISONE:carbon_intensity:EGRID_2018_eq:2021-04-05T06:35:00+00:00', 'event_type': 'carbon_intensity', 'meta': {'generated_emissions_source': 'EGRID_2018_eq', 'inserted_at': '2021-04-05T06:38:25.301414Z', 'marginal_emissions_source': 'EGRID_2018_eq', 'marginal_source': 'ISONE:marginal_fuel_mix:2021-04-05T06:35:00+00:00', 'raw_start_date': '2021-04-05T02:21:04-04:00', 'source': 'generated_fuel_mix:ISONE:2021-04-05T06:35:00+00:00', 'unit': 'lbs/MWh'}, 'region': 'ISONE', 'start_date': '2021-04-05T06:35:00+00:00'}, {'data': {'generated_rate': 351.46648074323883, 'marginal_rate': 431.84938205402585}, 'dedup_key': 'ISONE:carbon_intensity:EGRID_2018:2021-04-05T06:35:00+00:00', 'event_type': 'carbon_intensity', 'meta': {'generated_emissions_source': 'EGRID_2018', 'inserted_at': '2021-04-05T06:38:24.791128Z', 'marginal_emissions_source': 'EGRID_2018', 'marginal_source': 'ISONE:marginal_fuel_mix:2021-04-05T06:35:00+00:00', 'raw_start_date': '2021-04-05T02:21:04-04:00', 'source': 'generated_fuel_mix:ISONE:2021-04-05T06:35:00+00:00', 'unit': 'lbs/MWh'}, 'region': 'ISONE', 'start_date': '2021-04-05T06:35:00+00:00'}, {'data': {'generated_rate': 535.5383091282009, 'marginal_rate': 466.1549974123956}, 'dedup_key': 'ISONE:carbon_intensity:2021-04-05T06:35:00+00:00', 'event_type': 'carbon_intensity', 'meta': {'generated_emissions_source': 'EGRID_u2018', 'inserted_at': '2021-04-05T06:38:24.818423Z', 'marginal_emissions_source': 'EGRID_u2018', 'marginal_source': 'ISONE:marginal_fuel_mix:2021-04-05T06:35:00+00:00', 'raw_start_date': '2021-04-05T02:21:04-04:00', 'source': 'generated_fuel_mix:ISONE:2021-04-05T06:35:00+00:00', 'unit': 'lbs/MWh'}, 'region': 'ISONE', 'start_date': '2021-04-05T06:35:00+00:00'}, {'data': {'generated_rate': 533.1794906998555, 'marginal_rate': 466.1549974123956}, 'dedup_key': 'ISONE:carbon_intensity:EGRID_u2018_eq:2021-04-05T06:40:00+00:00', 'event_type': 'carbon_intensity', 'meta': {'generated_emissions_source': 'EGRID_u2018_eq', 'inserted_at': '2021-04-05T06:48:26.358231Z', 'marginal_emissions_source': 'EGRID_u2018_eq', 'marginal_source': 'ISONE:marginal_fuel_mix:2021-04-05T06:40:00+00:00', 'raw_start_date': '2021-04-05T02:37:42-04:00', 'source': 'generated_fuel_mix:ISONE:2021-04-05T06:40:00+00:00', 'unit': 'lbs/MWh'}, 'region': 'ISONE', 'start_date': '2021-04-05T06:40:00+00:00'}, {'data': {'generated_rate': 348.01618775917115, 'marginal_rate': 431.84938205402585}, 'dedup_key': 'ISONE:carbon_intensity:EGRID_2018_eq:2021-04-05T06:40:00+00:00', 'event_type': 'carbon_intensity', 'meta': {'generated_emissions_source': 'EGRID_2018_eq', 'inserted_at': '2021-04-05T06:48:25.792831Z', 'marginal_emissions_source': 'EGRID_2018_eq', 'marginal_source': 'ISONE:marginal_fuel_mix:2021-04-05T06:40:00+00:00', 'raw_start_date': '2021-04-05T02:37:42-04:00', 'source': 'generated_fuel_mix:ISONE:2021-04-05T06:40:00+00:00', 'unit': 'lbs/MWh'}, 'region': 'ISONE', 'start_date': '2021-04-05T06:40:00+00:00'}, {'data': {'generated_rate': 348.014111422182, 'marginal_rate': 431.84938205402585}, 'dedup_key': 'ISONE:carbon_intensity:EGRID_2018:2021-04-05T06:40:00+00:00', 'event_type': 'carbon_intensity', 'meta': {'generated_emissions_source': 'EGRID_2018', 'inserted_at': '2021-04-05T06:48:26.243533Z', 'marginal_emissions_source': 'EGRID_2018', 'marginal_source': 'ISONE:marginal_fuel_mix:2021-04-05T06:40:00+00:00', 'raw_start_date': '2021-04-05T02:37:42-04:00', 'source': 'generated_fuel_mix:ISONE:2021-04-05T06:40:00+00:00', 'unit': 'lbs/MWh'}, 'region': 'ISONE', 'start_date': '2021-04-05T06:40:00+00:00'}, {'data': {'generated_rate': 533.1774143628662, 'marginal_rate': 466.1549974123956}, 'dedup_key': 'ISONE:carbon_intensity:2021-04-05T06:40:00+00:00', 'event_type': 'carbon_intensity', 'meta': {'generated_emissions_source': 'EGRID_u2018', 'inserted_at': '2021-04-05T06:48:26.072314Z', 'marginal_emissions_source': 'EGRID_u2018', 'marginal_source': 'ISONE:marginal_fuel_mix:2021-04-05T06:40:00+00:00', 'raw_start_date': '2021-04-05T02:37:42-04:00', 'source': 'generated_fuel_mix:ISONE:2021-04-05T06:40:00+00:00', 'unit': 'lbs/MWh'}, 'region': 'ISONE', 'start_date': '2021-04-05T06:40:00+00:00'}, {'data': {'generated_rate': 533.1794906998555, 'marginal_rate': 466.1549974123956}, 'dedup_key': 'ISONE:carbon_intensity:EGRID_u2018_eq:2021-04-05T06:45:00+00:00', 'event_type': 'carbon_intensity', 'meta': {'generated_emissions_source': 'EGRID_u2018_eq', 'inserted_at': '2021-04-05T06:48:23.327224Z', 'marginal_emissions_source': 'EGRID_u2018_eq', 'marginal_source': 'ISONE:marginal_fuel_mix:2021-04-05T06:45:00+00:00', 'raw_start_date': '2021-04-05T02:37:42-04:00', 'source': 'generated_fuel_mix:ISONE:2021-04-05T06:45:00+00:00', 'unit': 'lbs/MWh'}, 'region': 'ISONE', 'start_date': '2021-04-05T06:45:00+00:00'}, {'data': {'generated_rate': 348.01618775917115, 'marginal_rate': 431.84938205402585}, 'dedup_key': 'ISONE:carbon_intensity:EGRID_2018_eq:2021-04-05T06:45:00+00:00', 'event_type': 'carbon_intensity', 'meta': {'generated_emissions_source': 'EGRID_2018_eq', 'inserted_at': '2021-04-05T06:48:23.620095Z', 'marginal_emissions_source': 'EGRID_2018_eq', 'marginal_source': 'ISONE:marginal_fuel_mix:2021-04-05T06:45:00+00:00', 'raw_start_date': '2021-04-05T02:37:42-04:00', 'source': 'generated_fuel_mix:ISONE:2021-04-05T06:45:00+00:00', 'unit': 'lbs/MWh'}, 'region': 'ISONE', 'start_date': '2021-04-05T06:45:00+00:00'}, {'data': {'generated_rate': 348.014111422182, 'marginal_rate': 431.84938205402585}, 'dedup_key': 'ISONE:carbon_intensity:EGRID_2018:2021-04-05T06:45:00+00:00', 'event_type': 'carbon_intensity', 'meta': {'generated_emissions_source': 'EGRID_2018', 'inserted_at': '2021-04-05T06:48:23.421304Z', 'marginal_emissions_source': 'EGRID_2018', 'marginal_source': 'ISONE:marginal_fuel_mix:2021-04-05T06:45:00+00:00', 'raw_start_date': '2021-04-05T02:37:42-04:00', 'source': 'generated_fuel_mix:ISONE:2021-04-05T06:45:00+00:00', 'unit': 'lbs/MWh'}, 'region': 'ISONE', 'start_date': '2021-04-05T06:45:00+00:00'}, {'data': {'generated_rate': 533.1774143628662, 'marginal_rate': 466.1549974123956}, 'dedup_key': 'ISONE:carbon_intensity:2021-04-05T06:45:00+00:00', 'event_type': 'carbon_intensity', 'meta': {'generated_emissions_source': 'EGRID_u2018', 'inserted_at': '2021-04-05T06:48:23.434518Z', 'marginal_emissions_source': 'EGRID_u2018', 'marginal_source': 'ISONE:marginal_fuel_mix:2021-04-05T06:45:00+00:00', 'raw_start_date': '2021-04-05T02:37:42-04:00', 'source': 'generated_fuel_mix:ISONE:2021-04-05T06:45:00+00:00', 'unit': 'lbs/MWh'}, 'region': 'ISONE', 'start_date': '2021-04-05T06:45:00+00:00'}]\n300\n",
          "output_type": "stream"
        },
        {
          "output_type": "execute_result",
          "execution_count": 11,
          "data": {
            "text/plain": "list"
          },
          "metadata": {}
        }
      ]
    },
    {
      "cell_type": "code",
      "metadata": {
        "tags": [],
        "cell_id": "00003-1a1246ba-963d-498c-a97f-c998783d8bda",
        "deepnote_to_be_reexecuted": false,
        "source_hash": "dab7e88d",
        "execution_millis": 182,
        "execution_start": 1617669183796,
        "deepnote_cell_type": "code"
      },
      "source": "fuel_data = pd.read_excel('fuel_data.xlsx')\n\nfuel_data.head()",
      "execution_count": null,
      "outputs": [
        {
          "output_type": "execute_result",
          "execution_count": 12,
          "data": {
            "application/vnd.deepnote.dataframe.v2+json": {
              "row_count": 5,
              "column_count": 31,
              "columns": [
                {
                  "name": "Organization Period",
                  "dtype": "object",
                  "stats": {
                    "unique_count": 1,
                    "nan_count": 0,
                    "categories": [
                      {
                        "name": "CY 2019",
                        "count": 5
                      }
                    ]
                  }
                },
                {
                  "name": "Org Unit Name",
                  "dtype": "object",
                  "stats": {
                    "unique_count": 2,
                    "nan_count": 0,
                    "categories": [
                      {
                        "name": "Mobile Vehicle - Dennis K Burke",
                        "count": 3
                      },
                      {
                        "name": "Maintenance Building (00015; B-137)",
                        "count": 2
                      }
                    ]
                  }
                },
                {
                  "name": "From Date",
                  "dtype": "datetime64[ns]",
                  "stats": {
                    "unique_count": 4,
                    "nan_count": 0,
                    "min": "2019-01-01T00:00:00.000000",
                    "max": "2019-07-01T00:00:00.000000",
                    "histogram": [
                      {
                        "bin_start": 1546300800000000000,
                        "bin_end": 1547864640000000000,
                        "count": 2
                      },
                      {
                        "bin_start": 1547864640000000000,
                        "bin_end": 1549428480000000000,
                        "count": 1
                      },
                      {
                        "bin_start": 1549428480000000000,
                        "bin_end": 1550992320000000000,
                        "count": 0
                      },
                      {
                        "bin_start": 1550992320000000000,
                        "bin_end": 1552556160000000000,
                        "count": 1
                      },
                      {
                        "bin_start": 1552556160000000000,
                        "bin_end": 1554120000000000000,
                        "count": 0
                      },
                      {
                        "bin_start": 1554120000000000000,
                        "bin_end": 1555683840000000000,
                        "count": 0
                      },
                      {
                        "bin_start": 1555683840000000000,
                        "bin_end": 1557247680000000000,
                        "count": 0
                      },
                      {
                        "bin_start": 1557247680000000000,
                        "bin_end": 1558811520000000000,
                        "count": 0
                      },
                      {
                        "bin_start": 1558811520000000000,
                        "bin_end": 1560375360000000000,
                        "count": 0
                      },
                      {
                        "bin_start": 1560375360000000000,
                        "bin_end": 1561939200000000000,
                        "count": 1
                      }
                    ]
                  }
                },
                {
                  "name": "To Date",
                  "dtype": "datetime64[ns]",
                  "stats": {
                    "unique_count": 5,
                    "nan_count": 0,
                    "min": "2019-01-31T00:00:00.000000",
                    "max": "2019-12-31T00:00:00.000000",
                    "histogram": [
                      {
                        "bin_start": 1548892800000000000,
                        "bin_end": 1551778560000000000,
                        "count": 2
                      },
                      {
                        "bin_start": 1551778560000000000,
                        "bin_end": 1554664320000000000,
                        "count": 1
                      },
                      {
                        "bin_start": 1554664320000000000,
                        "bin_end": 1557550080000000000,
                        "count": 0
                      },
                      {
                        "bin_start": 1557550080000000000,
                        "bin_end": 1560435840000000000,
                        "count": 0
                      },
                      {
                        "bin_start": 1560435840000000000,
                        "bin_end": 1563321600000000000,
                        "count": 1
                      },
                      {
                        "bin_start": 1563321600000000000,
                        "bin_end": 1566207360000000000,
                        "count": 0
                      },
                      {
                        "bin_start": 1566207360000000000,
                        "bin_end": 1569093120000000000,
                        "count": 0
                      },
                      {
                        "bin_start": 1569093120000000000,
                        "bin_end": 1571978880000000000,
                        "count": 0
                      },
                      {
                        "bin_start": 1571978880000000000,
                        "bin_end": 1574864640000000000,
                        "count": 0
                      },
                      {
                        "bin_start": 1574864640000000000,
                        "bin_end": 1577750400000000000,
                        "count": 1
                      }
                    ]
                  }
                },
                {
                  "name": "Level 1",
                  "dtype": "object",
                  "stats": {
                    "unique_count": 1,
                    "nan_count": 0,
                    "categories": [
                      {
                        "name": "Harvard Operational Control",
                        "count": 5
                      }
                    ]
                  }
                },
                {
                  "name": "Level 2",
                  "dtype": "object",
                  "stats": {
                    "unique_count": 2,
                    "nan_count": 0,
                    "categories": [
                      {
                        "name": "CS - Transportation",
                        "count": 3
                      },
                      {
                        "name": "Campus Services",
                        "count": 2
                      }
                    ]
                  }
                },
                {
                  "name": "Level 3",
                  "dtype": "object",
                  "stats": {
                    "unique_count": 2,
                    "nan_count": 0,
                    "categories": [
                      {
                        "name": "180-Transportation",
                        "count": 3
                      },
                      {
                        "name": "100-ARB",
                        "count": 2
                      }
                    ]
                  }
                },
                {
                  "name": "Level 4",
                  "dtype": "object",
                  "stats": {
                    "unique_count": 2,
                    "nan_count": 0,
                    "categories": [
                      {
                        "name": "Mobile Vehicle - Dennis K Burke",
                        "count": 3
                      },
                      {
                        "name": "Maintenance Building (00015; B-137)",
                        "count": 2
                      }
                    ]
                  }
                },
                {
                  "name": "Level 5",
                  "dtype": "object",
                  "stats": {
                    "unique_count": 0,
                    "nan_count": 5,
                    "categories": [
                      {
                        "name": "Missing",
                        "count": 5
                      }
                    ]
                  }
                },
                {
                  "name": "Activity Category",
                  "dtype": "object",
                  "stats": {
                    "unique_count": 1,
                    "nan_count": 0,
                    "categories": [
                      {
                        "name": "Mobile Combustion",
                        "count": 5
                      }
                    ]
                  }
                },
                {
                  "name": "Activity Type",
                  "dtype": "object",
                  "stats": {
                    "unique_count": 2,
                    "nan_count": 0,
                    "categories": [
                      {
                        "name": "BIOD20",
                        "count": 3
                      },
                      {
                        "name": "DIESEL_MV",
                        "count": 2
                      }
                    ]
                  }
                },
                {
                  "name": "Emission Scope",
                  "dtype": "object",
                  "stats": {
                    "unique_count": 1,
                    "nan_count": 0,
                    "categories": [
                      {
                        "name": "Scope 1",
                        "count": 5
                      }
                    ]
                  }
                },
                {
                  "name": "Activity Amount",
                  "dtype": "float64",
                  "stats": {
                    "unique_count": 5,
                    "nan_count": 0,
                    "min": 3900.4,
                    "max": 7005,
                    "histogram": [
                      {
                        "bin_start": 3900.4,
                        "bin_end": 4210.86,
                        "count": 1
                      },
                      {
                        "bin_start": 4210.86,
                        "bin_end": 4521.32,
                        "count": 1
                      },
                      {
                        "bin_start": 4521.32,
                        "bin_end": 4831.78,
                        "count": 0
                      },
                      {
                        "bin_start": 4831.78,
                        "bin_end": 5142.24,
                        "count": 0
                      },
                      {
                        "bin_start": 5142.24,
                        "bin_end": 5452.7,
                        "count": 1
                      },
                      {
                        "bin_start": 5452.7,
                        "bin_end": 5763.16,
                        "count": 0
                      },
                      {
                        "bin_start": 5763.16,
                        "bin_end": 6073.62,
                        "count": 0
                      },
                      {
                        "bin_start": 6073.62,
                        "bin_end": 6384.08,
                        "count": 1
                      },
                      {
                        "bin_start": 6384.08,
                        "bin_end": 6694.54,
                        "count": 0
                      },
                      {
                        "bin_start": 6694.54,
                        "bin_end": 7005,
                        "count": 1
                      }
                    ]
                  }
                },
                {
                  "name": "Activity Unit",
                  "dtype": "object",
                  "stats": {
                    "unique_count": 1,
                    "nan_count": 0,
                    "categories": [
                      {
                        "name": "US gallons",
                        "count": 5
                      }
                    ]
                  }
                },
                {
                  "name": "Supplier",
                  "dtype": "float64",
                  "stats": {
                    "unique_count": 0,
                    "nan_count": 5,
                    "min": null,
                    "max": null,
                    "histogram": [
                      {
                        "bin_start": 0,
                        "bin_end": 0.1,
                        "count": 0
                      },
                      {
                        "bin_start": 0.1,
                        "bin_end": 0.2,
                        "count": 0
                      },
                      {
                        "bin_start": 0.2,
                        "bin_end": 0.30000000000000004,
                        "count": 0
                      },
                      {
                        "bin_start": 0.30000000000000004,
                        "bin_end": 0.4,
                        "count": 0
                      },
                      {
                        "bin_start": 0.4,
                        "bin_end": 0.5,
                        "count": 0
                      },
                      {
                        "bin_start": 0.5,
                        "bin_end": 0.6000000000000001,
                        "count": 0
                      },
                      {
                        "bin_start": 0.6000000000000001,
                        "bin_end": 0.7000000000000001,
                        "count": 0
                      },
                      {
                        "bin_start": 0.7000000000000001,
                        "bin_end": 0.8,
                        "count": 0
                      },
                      {
                        "bin_start": 0.8,
                        "bin_end": 0.9,
                        "count": 0
                      },
                      {
                        "bin_start": 0.9,
                        "bin_end": 1,
                        "count": 0
                      }
                    ]
                  }
                },
                {
                  "name": "Scope 2L Supplier",
                  "dtype": "float64",
                  "stats": {
                    "unique_count": 0,
                    "nan_count": 5,
                    "min": null,
                    "max": null,
                    "histogram": [
                      {
                        "bin_start": 0,
                        "bin_end": 0.1,
                        "count": 0
                      },
                      {
                        "bin_start": 0.1,
                        "bin_end": 0.2,
                        "count": 0
                      },
                      {
                        "bin_start": 0.2,
                        "bin_end": 0.30000000000000004,
                        "count": 0
                      },
                      {
                        "bin_start": 0.30000000000000004,
                        "bin_end": 0.4,
                        "count": 0
                      },
                      {
                        "bin_start": 0.4,
                        "bin_end": 0.5,
                        "count": 0
                      },
                      {
                        "bin_start": 0.5,
                        "bin_end": 0.6000000000000001,
                        "count": 0
                      },
                      {
                        "bin_start": 0.6000000000000001,
                        "bin_end": 0.7000000000000001,
                        "count": 0
                      },
                      {
                        "bin_start": 0.7000000000000001,
                        "bin_end": 0.8,
                        "count": 0
                      },
                      {
                        "bin_start": 0.8,
                        "bin_end": 0.9,
                        "count": 0
                      },
                      {
                        "bin_start": 0.9,
                        "bin_end": 1,
                        "count": 0
                      }
                    ]
                  }
                },
                {
                  "name": "Description",
                  "dtype": "object",
                  "stats": {
                    "unique_count": 3,
                    "nan_count": 0,
                    "categories": [
                      {
                        "name": "Per 7/25/19 email from Denise Byrne. Entered 7/25/19 by Cheryl Greenwald.",
                        "count": 3
                      },
                      {
                        "name": "Per 7/25/19 email from Deb Smith. Entered 7/25/19 by Cheryl Greenwald.",
                        "count": 1
                      },
                      {
                        "name": "Per 2/6/20 email from Deb Smith. Entered 2/7/20 by Cheryl Greenwald.",
                        "count": 1
                      }
                    ]
                  }
                },
                {
                  "name": "Output Type",
                  "dtype": "object",
                  "stats": {
                    "unique_count": 1,
                    "nan_count": 0,
                    "categories": [
                      {
                        "name": "CO2e",
                        "count": 5
                      }
                    ]
                  }
                },
                {
                  "name": "Output Amount",
                  "dtype": "float64",
                  "stats": {
                    "unique_count": 5,
                    "nan_count": 0,
                    "min": 8.44,
                    "max": 55.06,
                    "histogram": [
                      {
                        "bin_start": 8.44,
                        "bin_end": 13.102,
                        "count": 2
                      },
                      {
                        "bin_start": 13.102,
                        "bin_end": 17.764000000000003,
                        "count": 1
                      },
                      {
                        "bin_start": 17.764000000000003,
                        "bin_end": 22.426000000000002,
                        "count": 0
                      },
                      {
                        "bin_start": 22.426000000000002,
                        "bin_end": 27.088,
                        "count": 0
                      },
                      {
                        "bin_start": 27.088,
                        "bin_end": 31.75,
                        "count": 0
                      },
                      {
                        "bin_start": 31.75,
                        "bin_end": 36.412000000000006,
                        "count": 0
                      },
                      {
                        "bin_start": 36.412000000000006,
                        "bin_end": 41.074000000000005,
                        "count": 1
                      },
                      {
                        "bin_start": 41.074000000000005,
                        "bin_end": 45.736000000000004,
                        "count": 0
                      },
                      {
                        "bin_start": 45.736000000000004,
                        "bin_end": 50.398,
                        "count": 0
                      },
                      {
                        "bin_start": 50.398,
                        "bin_end": 55.06,
                        "count": 1
                      }
                    ]
                  }
                },
                {
                  "name": "Output Amount Unit",
                  "dtype": "object",
                  "stats": {
                    "unique_count": 1,
                    "nan_count": 0,
                    "categories": [
                      {
                        "name": "tonnes",
                        "count": 5
                      }
                    ]
                  }
                },
                {
                  "name": "Amount Estimated",
                  "dtype": "bool",
                  "stats": {
                    "unique_count": 1,
                    "nan_count": 0,
                    "categories": [
                      {
                        "name": "False",
                        "count": 5
                      }
                    ]
                  }
                },
                {
                  "name": "Amount Estimation Description",
                  "dtype": "object",
                  "stats": {
                    "unique_count": 0,
                    "nan_count": 5,
                    "categories": [
                      {
                        "name": "Missing",
                        "count": 5
                      }
                    ]
                  }
                },
                {
                  "name": "Meter or Ref. No.",
                  "dtype": "float64",
                  "stats": {
                    "unique_count": 0,
                    "nan_count": 5,
                    "min": null,
                    "max": null,
                    "histogram": [
                      {
                        "bin_start": 0,
                        "bin_end": 0.1,
                        "count": 0
                      },
                      {
                        "bin_start": 0.1,
                        "bin_end": 0.2,
                        "count": 0
                      },
                      {
                        "bin_start": 0.2,
                        "bin_end": 0.30000000000000004,
                        "count": 0
                      },
                      {
                        "bin_start": 0.30000000000000004,
                        "bin_end": 0.4,
                        "count": 0
                      },
                      {
                        "bin_start": 0.4,
                        "bin_end": 0.5,
                        "count": 0
                      },
                      {
                        "bin_start": 0.5,
                        "bin_end": 0.6000000000000001,
                        "count": 0
                      },
                      {
                        "bin_start": 0.6000000000000001,
                        "bin_end": 0.7000000000000001,
                        "count": 0
                      },
                      {
                        "bin_start": 0.7000000000000001,
                        "bin_end": 0.8,
                        "count": 0
                      },
                      {
                        "bin_start": 0.8,
                        "bin_end": 0.9,
                        "count": 0
                      },
                      {
                        "bin_start": 0.9,
                        "bin_end": 1,
                        "count": 0
                      }
                    ]
                  }
                },
                {
                  "name": "Acct. No.",
                  "dtype": "float64",
                  "stats": {
                    "unique_count": 0,
                    "nan_count": 5,
                    "min": null,
                    "max": null,
                    "histogram": [
                      {
                        "bin_start": 0,
                        "bin_end": 0.1,
                        "count": 0
                      },
                      {
                        "bin_start": 0.1,
                        "bin_end": 0.2,
                        "count": 0
                      },
                      {
                        "bin_start": 0.2,
                        "bin_end": 0.30000000000000004,
                        "count": 0
                      },
                      {
                        "bin_start": 0.30000000000000004,
                        "bin_end": 0.4,
                        "count": 0
                      },
                      {
                        "bin_start": 0.4,
                        "bin_end": 0.5,
                        "count": 0
                      },
                      {
                        "bin_start": 0.5,
                        "bin_end": 0.6000000000000001,
                        "count": 0
                      },
                      {
                        "bin_start": 0.6000000000000001,
                        "bin_end": 0.7000000000000001,
                        "count": 0
                      },
                      {
                        "bin_start": 0.7000000000000001,
                        "bin_end": 0.8,
                        "count": 0
                      },
                      {
                        "bin_start": 0.8,
                        "bin_end": 0.9,
                        "count": 0
                      },
                      {
                        "bin_start": 0.9,
                        "bin_end": 1,
                        "count": 0
                      }
                    ]
                  }
                },
                {
                  "name": "City",
                  "dtype": "object",
                  "stats": {
                    "unique_count": 1,
                    "nan_count": 3,
                    "categories": [
                      {
                        "name": "Jamaica Plain",
                        "count": 2
                      },
                      {
                        "name": "Missing",
                        "count": 3
                      }
                    ]
                  }
                },
                {
                  "name": "EPA Facility",
                  "dtype": "object",
                  "stats": {
                    "unique_count": 2,
                    "nan_count": 0,
                    "categories": [
                      {
                        "name": "Cambridge/Allston AQ:1190092",
                        "count": 3
                      },
                      {
                        "name": "Unassociated",
                        "count": 2
                      }
                    ]
                  }
                },
                {
                  "name": "Root Number",
                  "dtype": "float64",
                  "stats": {
                    "unique_count": 1,
                    "nan_count": 3,
                    "min": 15,
                    "max": 15,
                    "histogram": [
                      {
                        "bin_start": 14.5,
                        "bin_end": 14.6,
                        "count": 0
                      },
                      {
                        "bin_start": 14.6,
                        "bin_end": 14.7,
                        "count": 0
                      },
                      {
                        "bin_start": 14.7,
                        "bin_end": 14.8,
                        "count": 0
                      },
                      {
                        "bin_start": 14.8,
                        "bin_end": 14.9,
                        "count": 0
                      },
                      {
                        "bin_start": 14.9,
                        "bin_end": 15,
                        "count": 0
                      },
                      {
                        "bin_start": 15,
                        "bin_end": 15.1,
                        "count": 2
                      },
                      {
                        "bin_start": 15.1,
                        "bin_end": 15.2,
                        "count": 0
                      },
                      {
                        "bin_start": 15.2,
                        "bin_end": 15.3,
                        "count": 0
                      },
                      {
                        "bin_start": 15.3,
                        "bin_end": 15.4,
                        "count": 0
                      },
                      {
                        "bin_start": 15.4,
                        "bin_end": 15.5,
                        "count": 0
                      }
                    ]
                  }
                },
                {
                  "name": "Building Number",
                  "dtype": "float64",
                  "stats": {
                    "unique_count": 1,
                    "nan_count": 3,
                    "min": 137,
                    "max": 137,
                    "histogram": [
                      {
                        "bin_start": 136.5,
                        "bin_end": 136.6,
                        "count": 0
                      },
                      {
                        "bin_start": 136.6,
                        "bin_end": 136.7,
                        "count": 0
                      },
                      {
                        "bin_start": 136.7,
                        "bin_end": 136.8,
                        "count": 0
                      },
                      {
                        "bin_start": 136.8,
                        "bin_end": 136.9,
                        "count": 0
                      },
                      {
                        "bin_start": 136.9,
                        "bin_end": 137,
                        "count": 0
                      },
                      {
                        "bin_start": 137,
                        "bin_end": 137.1,
                        "count": 2
                      },
                      {
                        "bin_start": 137.1,
                        "bin_end": 137.2,
                        "count": 0
                      },
                      {
                        "bin_start": 137.2,
                        "bin_end": 137.3,
                        "count": 0
                      },
                      {
                        "bin_start": 137.3,
                        "bin_end": 137.4,
                        "count": 0
                      },
                      {
                        "bin_start": 137.4,
                        "bin_end": 137.5,
                        "count": 0
                      }
                    ]
                  }
                },
                {
                  "name": "University-wide GHG Status",
                  "dtype": "object",
                  "stats": {
                    "unique_count": 1,
                    "nan_count": 0,
                    "categories": [
                      {
                        "name": "Baseline",
                        "count": 5
                      }
                    ]
                  }
                },
                {
                  "name": "Campus",
                  "dtype": "object",
                  "stats": {
                    "unique_count": 2,
                    "nan_count": 0,
                    "categories": [
                      {
                        "name": "Cambridge",
                        "count": 3
                      },
                      {
                        "name": "Arboretum",
                        "count": 2
                      }
                    ]
                  }
                },
                {
                  "name": "School-Level GHG Status",
                  "dtype": "object",
                  "stats": {
                    "unique_count": 1,
                    "nan_count": 0,
                    "categories": [
                      {
                        "name": "Baseline",
                        "count": 5
                      }
                    ]
                  }
                },
                {
                  "name": "_deepnote_index_column",
                  "dtype": "int64"
                }
              ],
              "rows_top": [
                {
                  "Organization Period": "CY 2019",
                  "Org Unit Name": "Maintenance Building (00015; B-137)",
                  "From Date": "2019-01-01T00:00:00.000000",
                  "To Date": "2019-06-30T00:00:00.000000",
                  "Level 1": "Harvard Operational Control",
                  "Level 2": "Campus Services",
                  "Level 3": "100-ARB",
                  "Level 4": "Maintenance Building (00015; B-137)",
                  "Level 5": "nan",
                  "Activity Category": "Mobile Combustion",
                  "Activity Type": "DIESEL_MV",
                  "Emission Scope": "Scope 1",
                  "Activity Amount": 3900.4,
                  "Activity Unit": "US gallons",
                  "Supplier": "nan",
                  "Scope 2L Supplier": "nan",
                  "Description": "Per 7/25/19 email from Deb Smith. Entered 7/25/19 by Cheryl Greenwald.",
                  "Output Type": "CO2e",
                  "Output Amount": 39.66,
                  "Output Amount Unit": "tonnes",
                  "Amount Estimated": false,
                  "Amount Estimation Description": "nan",
                  "Meter or Ref. No.": "nan",
                  "Acct. No.": "nan",
                  "City": "Jamaica Plain",
                  "EPA Facility": "Unassociated",
                  "Root Number": "15.0",
                  "Building Number": "137.0",
                  "University-wide GHG Status": "Baseline",
                  "Campus": "Arboretum",
                  "School-Level GHG Status": "Baseline",
                  "_deepnote_index_column": 0
                },
                {
                  "Organization Period": "CY 2019",
                  "Org Unit Name": "Maintenance Building (00015; B-137)",
                  "From Date": "2019-07-01T00:00:00.000000",
                  "To Date": "2019-12-31T00:00:00.000000",
                  "Level 1": "Harvard Operational Control",
                  "Level 2": "Campus Services",
                  "Level 3": "100-ARB",
                  "Level 4": "Maintenance Building (00015; B-137)",
                  "Level 5": "nan",
                  "Activity Category": "Mobile Combustion",
                  "Activity Type": "DIESEL_MV",
                  "Emission Scope": "Scope 1",
                  "Activity Amount": 5414.7,
                  "Activity Unit": "US gallons",
                  "Supplier": "nan",
                  "Scope 2L Supplier": "nan",
                  "Description": "Per 2/6/20 email from Deb Smith. Entered 2/7/20 by Cheryl Greenwald.",
                  "Output Type": "CO2e",
                  "Output Amount": 55.06,
                  "Output Amount Unit": "tonnes",
                  "Amount Estimated": false,
                  "Amount Estimation Description": "nan",
                  "Meter or Ref. No.": "nan",
                  "Acct. No.": "nan",
                  "City": "Jamaica Plain",
                  "EPA Facility": "Unassociated",
                  "Root Number": "15.0",
                  "Building Number": "137.0",
                  "University-wide GHG Status": "Baseline",
                  "Campus": "Arboretum",
                  "School-Level GHG Status": "Baseline",
                  "_deepnote_index_column": 1
                },
                {
                  "Organization Period": "CY 2019",
                  "Org Unit Name": "Mobile Vehicle - Dennis K Burke",
                  "From Date": "2019-01-01T00:00:00.000000",
                  "To Date": "2019-01-31T00:00:00.000000",
                  "Level 1": "Harvard Operational Control",
                  "Level 2": "CS - Transportation",
                  "Level 3": "180-Transportation",
                  "Level 4": "Mobile Vehicle - Dennis K Burke",
                  "Level 5": "nan",
                  "Activity Category": "Mobile Combustion",
                  "Activity Type": "BIOD20",
                  "Emission Scope": "Scope 1",
                  "Activity Amount": 4494,
                  "Activity Unit": "US gallons",
                  "Supplier": "nan",
                  "Scope 2L Supplier": "nan",
                  "Description": "Per 7/25/19 email from Denise Byrne. Entered 7/25/19 by Cheryl Greenwald.",
                  "Output Type": "CO2e",
                  "Output Amount": 8.44,
                  "Output Amount Unit": "tonnes",
                  "Amount Estimated": false,
                  "Amount Estimation Description": "nan",
                  "Meter or Ref. No.": "nan",
                  "Acct. No.": "nan",
                  "City": "nan",
                  "EPA Facility": "Cambridge/Allston AQ:1190092",
                  "Root Number": "nan",
                  "Building Number": "nan",
                  "University-wide GHG Status": "Baseline",
                  "Campus": "Cambridge",
                  "School-Level GHG Status": "Baseline",
                  "_deepnote_index_column": 2
                },
                {
                  "Organization Period": "CY 2019",
                  "Org Unit Name": "Mobile Vehicle - Dennis K Burke",
                  "From Date": "2019-02-01T00:00:00.000000",
                  "To Date": "2019-02-28T00:00:00.000000",
                  "Level 1": "Harvard Operational Control",
                  "Level 2": "CS - Transportation",
                  "Level 3": "180-Transportation",
                  "Level 4": "Mobile Vehicle - Dennis K Burke",
                  "Level 5": "nan",
                  "Activity Category": "Mobile Combustion",
                  "Activity Type": "BIOD20",
                  "Emission Scope": "Scope 1",
                  "Activity Amount": 6237,
                  "Activity Unit": "US gallons",
                  "Supplier": "nan",
                  "Scope 2L Supplier": "nan",
                  "Description": "Per 7/25/19 email from Denise Byrne. Entered 7/25/19 by Cheryl Greenwald.",
                  "Output Type": "CO2e",
                  "Output Amount": 11.72,
                  "Output Amount Unit": "tonnes",
                  "Amount Estimated": false,
                  "Amount Estimation Description": "nan",
                  "Meter or Ref. No.": "nan",
                  "Acct. No.": "nan",
                  "City": "nan",
                  "EPA Facility": "Cambridge/Allston AQ:1190092",
                  "Root Number": "nan",
                  "Building Number": "nan",
                  "University-wide GHG Status": "Baseline",
                  "Campus": "Cambridge",
                  "School-Level GHG Status": "Baseline",
                  "_deepnote_index_column": 3
                },
                {
                  "Organization Period": "CY 2019",
                  "Org Unit Name": "Mobile Vehicle - Dennis K Burke",
                  "From Date": "2019-03-01T00:00:00.000000",
                  "To Date": "2019-03-31T00:00:00.000000",
                  "Level 1": "Harvard Operational Control",
                  "Level 2": "CS - Transportation",
                  "Level 3": "180-Transportation",
                  "Level 4": "Mobile Vehicle - Dennis K Burke",
                  "Level 5": "nan",
                  "Activity Category": "Mobile Combustion",
                  "Activity Type": "BIOD20",
                  "Emission Scope": "Scope 1",
                  "Activity Amount": 7005,
                  "Activity Unit": "US gallons",
                  "Supplier": "nan",
                  "Scope 2L Supplier": "nan",
                  "Description": "Per 7/25/19 email from Denise Byrne. Entered 7/25/19 by Cheryl Greenwald.",
                  "Output Type": "CO2e",
                  "Output Amount": 13.16,
                  "Output Amount Unit": "tonnes",
                  "Amount Estimated": false,
                  "Amount Estimation Description": "nan",
                  "Meter or Ref. No.": "nan",
                  "Acct. No.": "nan",
                  "City": "nan",
                  "EPA Facility": "Cambridge/Allston AQ:1190092",
                  "Root Number": "nan",
                  "Building Number": "nan",
                  "University-wide GHG Status": "Baseline",
                  "Campus": "Cambridge",
                  "School-Level GHG Status": "Baseline",
                  "_deepnote_index_column": 4
                }
              ],
              "rows_bottom": null
            },
            "text/plain": "  Organization Period                        Org Unit Name  From Date  \\\n0             CY 2019  Maintenance Building (00015; B-137) 2019-01-01   \n1             CY 2019  Maintenance Building (00015; B-137) 2019-07-01   \n2             CY 2019      Mobile Vehicle - Dennis K Burke 2019-01-01   \n3             CY 2019      Mobile Vehicle - Dennis K Burke 2019-02-01   \n4             CY 2019      Mobile Vehicle - Dennis K Burke 2019-03-01   \n\n     To Date                      Level 1              Level 2  \\\n0 2019-06-30  Harvard Operational Control      Campus Services   \n1 2019-12-31  Harvard Operational Control      Campus Services   \n2 2019-01-31  Harvard Operational Control  CS - Transportation   \n3 2019-02-28  Harvard Operational Control  CS - Transportation   \n4 2019-03-31  Harvard Operational Control  CS - Transportation   \n\n              Level 3                              Level 4 Level 5  \\\n0             100-ARB  Maintenance Building (00015; B-137)     NaN   \n1             100-ARB  Maintenance Building (00015; B-137)     NaN   \n2  180-Transportation      Mobile Vehicle - Dennis K Burke     NaN   \n3  180-Transportation      Mobile Vehicle - Dennis K Burke     NaN   \n4  180-Transportation      Mobile Vehicle - Dennis K Burke     NaN   \n\n   Activity Category  ... Amount Estimation Description Meter or Ref. No.  \\\n0  Mobile Combustion  ...                           NaN               NaN   \n1  Mobile Combustion  ...                           NaN               NaN   \n2  Mobile Combustion  ...                           NaN               NaN   \n3  Mobile Combustion  ...                           NaN               NaN   \n4  Mobile Combustion  ...                           NaN               NaN   \n\n   Acct. No.           City                  EPA Facility  Root Number  \\\n0        NaN  Jamaica Plain                  Unassociated         15.0   \n1        NaN  Jamaica Plain                  Unassociated         15.0   \n2        NaN            NaN  Cambridge/Allston AQ:1190092          NaN   \n3        NaN            NaN  Cambridge/Allston AQ:1190092          NaN   \n4        NaN            NaN  Cambridge/Allston AQ:1190092          NaN   \n\n  Building Number University-wide GHG Status     Campus  \\\n0           137.0                   Baseline  Arboretum   \n1           137.0                   Baseline  Arboretum   \n2             NaN                   Baseline  Cambridge   \n3             NaN                   Baseline  Cambridge   \n4             NaN                   Baseline  Cambridge   \n\n  School-Level GHG Status  \n0                Baseline  \n1                Baseline  \n2                Baseline  \n3                Baseline  \n4                Baseline  \n\n[5 rows x 31 columns]",
            "text/html": "<div>\n<style scoped>\n    .dataframe tbody tr th:only-of-type {\n        vertical-align: middle;\n    }\n\n    .dataframe tbody tr th {\n        vertical-align: top;\n    }\n\n    .dataframe thead th {\n        text-align: right;\n    }\n</style>\n<table border=\"1\" class=\"dataframe\">\n  <thead>\n    <tr style=\"text-align: right;\">\n      <th></th>\n      <th>Organization Period</th>\n      <th>Org Unit Name</th>\n      <th>From Date</th>\n      <th>To Date</th>\n      <th>Level 1</th>\n      <th>Level 2</th>\n      <th>Level 3</th>\n      <th>Level 4</th>\n      <th>Level 5</th>\n      <th>Activity Category</th>\n      <th>...</th>\n      <th>Amount Estimation Description</th>\n      <th>Meter or Ref. No.</th>\n      <th>Acct. No.</th>\n      <th>City</th>\n      <th>EPA Facility</th>\n      <th>Root Number</th>\n      <th>Building Number</th>\n      <th>University-wide GHG Status</th>\n      <th>Campus</th>\n      <th>School-Level GHG Status</th>\n    </tr>\n  </thead>\n  <tbody>\n    <tr>\n      <th>0</th>\n      <td>CY 2019</td>\n      <td>Maintenance Building (00015; B-137)</td>\n      <td>2019-01-01</td>\n      <td>2019-06-30</td>\n      <td>Harvard Operational Control</td>\n      <td>Campus Services</td>\n      <td>100-ARB</td>\n      <td>Maintenance Building (00015; B-137)</td>\n      <td>NaN</td>\n      <td>Mobile Combustion</td>\n      <td>...</td>\n      <td>NaN</td>\n      <td>NaN</td>\n      <td>NaN</td>\n      <td>Jamaica Plain</td>\n      <td>Unassociated</td>\n      <td>15.0</td>\n      <td>137.0</td>\n      <td>Baseline</td>\n      <td>Arboretum</td>\n      <td>Baseline</td>\n    </tr>\n    <tr>\n      <th>1</th>\n      <td>CY 2019</td>\n      <td>Maintenance Building (00015; B-137)</td>\n      <td>2019-07-01</td>\n      <td>2019-12-31</td>\n      <td>Harvard Operational Control</td>\n      <td>Campus Services</td>\n      <td>100-ARB</td>\n      <td>Maintenance Building (00015; B-137)</td>\n      <td>NaN</td>\n      <td>Mobile Combustion</td>\n      <td>...</td>\n      <td>NaN</td>\n      <td>NaN</td>\n      <td>NaN</td>\n      <td>Jamaica Plain</td>\n      <td>Unassociated</td>\n      <td>15.0</td>\n      <td>137.0</td>\n      <td>Baseline</td>\n      <td>Arboretum</td>\n      <td>Baseline</td>\n    </tr>\n    <tr>\n      <th>2</th>\n      <td>CY 2019</td>\n      <td>Mobile Vehicle - Dennis K Burke</td>\n      <td>2019-01-01</td>\n      <td>2019-01-31</td>\n      <td>Harvard Operational Control</td>\n      <td>CS - Transportation</td>\n      <td>180-Transportation</td>\n      <td>Mobile Vehicle - Dennis K Burke</td>\n      <td>NaN</td>\n      <td>Mobile Combustion</td>\n      <td>...</td>\n      <td>NaN</td>\n      <td>NaN</td>\n      <td>NaN</td>\n      <td>NaN</td>\n      <td>Cambridge/Allston AQ:1190092</td>\n      <td>NaN</td>\n      <td>NaN</td>\n      <td>Baseline</td>\n      <td>Cambridge</td>\n      <td>Baseline</td>\n    </tr>\n    <tr>\n      <th>3</th>\n      <td>CY 2019</td>\n      <td>Mobile Vehicle - Dennis K Burke</td>\n      <td>2019-02-01</td>\n      <td>2019-02-28</td>\n      <td>Harvard Operational Control</td>\n      <td>CS - Transportation</td>\n      <td>180-Transportation</td>\n      <td>Mobile Vehicle - Dennis K Burke</td>\n      <td>NaN</td>\n      <td>Mobile Combustion</td>\n      <td>...</td>\n      <td>NaN</td>\n      <td>NaN</td>\n      <td>NaN</td>\n      <td>NaN</td>\n      <td>Cambridge/Allston AQ:1190092</td>\n      <td>NaN</td>\n      <td>NaN</td>\n      <td>Baseline</td>\n      <td>Cambridge</td>\n      <td>Baseline</td>\n    </tr>\n    <tr>\n      <th>4</th>\n      <td>CY 2019</td>\n      <td>Mobile Vehicle - Dennis K Burke</td>\n      <td>2019-03-01</td>\n      <td>2019-03-31</td>\n      <td>Harvard Operational Control</td>\n      <td>CS - Transportation</td>\n      <td>180-Transportation</td>\n      <td>Mobile Vehicle - Dennis K Burke</td>\n      <td>NaN</td>\n      <td>Mobile Combustion</td>\n      <td>...</td>\n      <td>NaN</td>\n      <td>NaN</td>\n      <td>NaN</td>\n      <td>NaN</td>\n      <td>Cambridge/Allston AQ:1190092</td>\n      <td>NaN</td>\n      <td>NaN</td>\n      <td>Baseline</td>\n      <td>Cambridge</td>\n      <td>Baseline</td>\n    </tr>\n  </tbody>\n</table>\n<p>5 rows × 31 columns</p>\n</div>"
          },
          "metadata": {}
        }
      ]
    },
    {
      "cell_type": "code",
      "metadata": {
        "tags": [],
        "cell_id": "00010-33363065-f787-45ba-8117-3a96ed843706",
        "deepnote_to_be_reexecuted": false,
        "source_hash": "22481718",
        "execution_millis": 3502,
        "execution_start": 1617669184019,
        "deepnote_cell_type": "code"
      },
      "source": "!pip install altair",
      "execution_count": null,
      "outputs": [
        {
          "name": "stdout",
          "text": "Requirement already satisfied: altair in /root/venv/lib/python3.7/site-packages (4.1.0)\nRequirement already satisfied: toolz in /root/venv/lib/python3.7/site-packages (from altair) (0.11.1)\nRequirement already satisfied: entrypoints in /shared-libs/python3.7/py-core/lib/python3.7/site-packages (from altair) (0.3)\nRequirement already satisfied: jsonschema in /shared-libs/python3.7/py-core/lib/python3.7/site-packages (from altair) (3.2.0)\nRequirement already satisfied: pandas>=0.18 in /shared-libs/python3.7/py/lib/python3.7/site-packages (from altair) (1.2.3)\nRequirement already satisfied: jinja2 in /shared-libs/python3.7/py-core/lib/python3.7/site-packages (from altair) (2.11.3)\nRequirement already satisfied: numpy in /shared-libs/python3.7/py/lib/python3.7/site-packages (from altair) (1.19.5)\nRequirement already satisfied: attrs>=17.4.0 in /shared-libs/python3.7/py-core/lib/python3.7/site-packages (from jsonschema->altair) (20.3.0)\nRequirement already satisfied: six>=1.11.0 in /shared-libs/python3.7/py-core/lib/python3.7/site-packages (from jsonschema->altair) (1.15.0)\nRequirement already satisfied: pyrsistent>=0.14.0 in /shared-libs/python3.7/py-core/lib/python3.7/site-packages (from jsonschema->altair) (0.17.3)\nRequirement already satisfied: importlib-metadata; python_version < \"3.8\" in /shared-libs/python3.7/py-core/lib/python3.7/site-packages (from jsonschema->altair) (3.7.3)\nRequirement already satisfied: setuptools in /root/venv/lib/python3.7/site-packages (from jsonschema->altair) (47.1.0)\nRequirement already satisfied: pytz>=2017.3 in /shared-libs/python3.7/py/lib/python3.7/site-packages (from pandas>=0.18->altair) (2021.1)\nRequirement already satisfied: python-dateutil>=2.7.3 in /shared-libs/python3.7/py-core/lib/python3.7/site-packages (from pandas>=0.18->altair) (2.8.1)\nRequirement already satisfied: MarkupSafe>=0.23 in /shared-libs/python3.7/py-core/lib/python3.7/site-packages (from jinja2->altair) (1.1.1)\nRequirement already satisfied: typing-extensions>=3.6.4; python_version < \"3.8\" in /shared-libs/python3.7/py-core/lib/python3.7/site-packages (from importlib-metadata; python_version < \"3.8\"->jsonschema->altair) (3.7.4.3)\nRequirement already satisfied: zipp>=0.5 in /shared-libs/python3.7/py-core/lib/python3.7/site-packages (from importlib-metadata; python_version < \"3.8\"->jsonschema->altair) (3.4.1)\n\u001b[33mWARNING: You are using pip version 20.1.1; however, version 21.0.1 is available.\nYou should consider upgrading via the '/root/venv/bin/python -m pip install --upgrade pip' command.\u001b[0m\n",
          "output_type": "stream"
        }
      ]
    },
    {
      "cell_type": "code",
      "metadata": {
        "tags": [],
        "cell_id": "00010-688b3719-1e20-4355-9059-d008bbbf5d87",
        "deepnote_to_be_reexecuted": false,
        "source_hash": "54fcae40",
        "execution_millis": 301,
        "execution_start": 1617669187525,
        "deepnote_cell_type": "code"
      },
      "source": "import altair as alt\nfrom altair import datum, expr",
      "execution_count": null,
      "outputs": []
    },
    {
      "cell_type": "code",
      "metadata": {
        "tags": [],
        "cell_id": "00012-577fa217-adec-4cda-847a-d2b7d0884050",
        "deepnote_to_be_reexecuted": false,
        "source_hash": "385e1c4e",
        "execution_millis": 463,
        "execution_start": 1617669188071,
        "deepnote_cell_type": "code"
      },
      "source": "activity = pd.read_excel('activity.xlsx')\n\nactivity.head()",
      "execution_count": null,
      "outputs": [
        {
          "output_type": "execute_result",
          "execution_count": 17,
          "data": {
            "application/vnd.deepnote.dataframe.v2+json": {
              "row_count": 5,
              "column_count": 36,
              "columns": [
                {
                  "name": "Organization Period",
                  "dtype": "object",
                  "stats": {
                    "unique_count": 1,
                    "nan_count": 0,
                    "categories": [
                      {
                        "name": "CY 2019",
                        "count": 5
                      }
                    ]
                  }
                },
                {
                  "name": "Org Unit Name",
                  "dtype": "object",
                  "stats": {
                    "unique_count": 3,
                    "nan_count": 0,
                    "categories": [
                      {
                        "name": "370-FCOR",
                        "count": 2
                      },
                      {
                        "name": "Harvard Depository (01970; B-124)",
                        "count": 2
                      },
                      {
                        "name": "HF: Sawmill (04153; B-466)",
                        "count": 1
                      }
                    ]
                  }
                },
                {
                  "name": "Time",
                  "dtype": "object",
                  "stats": {
                    "unique_count": 2,
                    "nan_count": 1,
                    "categories": [
                      {
                        "name": "Jan-Jun",
                        "count": 2
                      },
                      {
                        "name": "Jul-Dec",
                        "count": 2
                      },
                      {
                        "name": "Missing",
                        "count": 1
                      }
                    ]
                  }
                },
                {
                  "name": "Type",
                  "dtype": "object",
                  "stats": {
                    "unique_count": 2,
                    "nan_count": 1,
                    "categories": [
                      {
                        "name": "Propane_MV",
                        "count": 2
                      },
                      {
                        "name": "DIESEL_MV",
                        "count": 2
                      },
                      {
                        "name": "Missing",
                        "count": 1
                      }
                    ]
                  }
                },
                {
                  "name": "Amount",
                  "dtype": "float64",
                  "stats": {
                    "unique_count": 2,
                    "nan_count": 1,
                    "min": 76,
                    "max": 1000,
                    "histogram": [
                      {
                        "bin_start": 76,
                        "bin_end": 168.4,
                        "count": 2
                      },
                      {
                        "bin_start": 168.4,
                        "bin_end": 260.8,
                        "count": 0
                      },
                      {
                        "bin_start": 260.8,
                        "bin_end": 353.20000000000005,
                        "count": 0
                      },
                      {
                        "bin_start": 353.20000000000005,
                        "bin_end": 445.6,
                        "count": 0
                      },
                      {
                        "bin_start": 445.6,
                        "bin_end": 538,
                        "count": 0
                      },
                      {
                        "bin_start": 538,
                        "bin_end": 630.4000000000001,
                        "count": 0
                      },
                      {
                        "bin_start": 630.4000000000001,
                        "bin_end": 722.8000000000001,
                        "count": 0
                      },
                      {
                        "bin_start": 722.8000000000001,
                        "bin_end": 815.2,
                        "count": 0
                      },
                      {
                        "bin_start": 815.2,
                        "bin_end": 907.6,
                        "count": 0
                      },
                      {
                        "bin_start": 907.6,
                        "bin_end": 1000,
                        "count": 2
                      }
                    ]
                  }
                },
                {
                  "name": "Output",
                  "dtype": "float64",
                  "stats": {
                    "unique_count": 2,
                    "nan_count": 1,
                    "min": 0.77,
                    "max": 5.74,
                    "histogram": [
                      {
                        "bin_start": 0.77,
                        "bin_end": 1.2670000000000001,
                        "count": 2
                      },
                      {
                        "bin_start": 1.2670000000000001,
                        "bin_end": 1.7640000000000002,
                        "count": 0
                      },
                      {
                        "bin_start": 1.7640000000000002,
                        "bin_end": 2.261,
                        "count": 0
                      },
                      {
                        "bin_start": 2.261,
                        "bin_end": 2.758,
                        "count": 0
                      },
                      {
                        "bin_start": 2.758,
                        "bin_end": 3.2550000000000003,
                        "count": 0
                      },
                      {
                        "bin_start": 3.2550000000000003,
                        "bin_end": 3.7520000000000002,
                        "count": 0
                      },
                      {
                        "bin_start": 3.7520000000000002,
                        "bin_end": 4.2490000000000006,
                        "count": 0
                      },
                      {
                        "bin_start": 4.2490000000000006,
                        "bin_end": 4.746,
                        "count": 0
                      },
                      {
                        "bin_start": 4.746,
                        "bin_end": 5.243,
                        "count": 0
                      },
                      {
                        "bin_start": 5.243,
                        "bin_end": 5.74,
                        "count": 2
                      }
                    ]
                  }
                },
                {
                  "name": "From Date",
                  "dtype": "datetime64[ns]",
                  "stats": {
                    "unique_count": 3,
                    "nan_count": 0,
                    "min": "2019-01-01T00:00:00.000000",
                    "max": "2019-07-01T00:00:00.000000",
                    "histogram": [
                      {
                        "bin_start": 1546300800000000000,
                        "bin_end": 1547864640000000000,
                        "count": 2
                      },
                      {
                        "bin_start": 1547864640000000000,
                        "bin_end": 1549428480000000000,
                        "count": 0
                      },
                      {
                        "bin_start": 1549428480000000000,
                        "bin_end": 1550992320000000000,
                        "count": 0
                      },
                      {
                        "bin_start": 1550992320000000000,
                        "bin_end": 1552556160000000000,
                        "count": 0
                      },
                      {
                        "bin_start": 1552556160000000000,
                        "bin_end": 1554120000000000000,
                        "count": 1
                      },
                      {
                        "bin_start": 1554120000000000000,
                        "bin_end": 1555683840000000000,
                        "count": 0
                      },
                      {
                        "bin_start": 1555683840000000000,
                        "bin_end": 1557247680000000000,
                        "count": 0
                      },
                      {
                        "bin_start": 1557247680000000000,
                        "bin_end": 1558811520000000000,
                        "count": 0
                      },
                      {
                        "bin_start": 1558811520000000000,
                        "bin_end": 1560375360000000000,
                        "count": 0
                      },
                      {
                        "bin_start": 1560375360000000000,
                        "bin_end": 1561939200000000000,
                        "count": 2
                      }
                    ]
                  }
                },
                {
                  "name": "To Date",
                  "dtype": "datetime64[ns]",
                  "stats": {
                    "unique_count": 3,
                    "nan_count": 0,
                    "min": "2019-04-30T00:00:00.000000",
                    "max": "2019-12-31T00:00:00.000000",
                    "histogram": [
                      {
                        "bin_start": 1556582400000000000,
                        "bin_end": 1558699200000000000,
                        "count": 1
                      },
                      {
                        "bin_start": 1558699200000000000,
                        "bin_end": 1560816000000000000,
                        "count": 0
                      },
                      {
                        "bin_start": 1560816000000000000,
                        "bin_end": 1562932800000000000,
                        "count": 2
                      },
                      {
                        "bin_start": 1562932800000000000,
                        "bin_end": 1565049600000000000,
                        "count": 0
                      },
                      {
                        "bin_start": 1565049600000000000,
                        "bin_end": 1567166400000000000,
                        "count": 0
                      },
                      {
                        "bin_start": 1567166400000000000,
                        "bin_end": 1569283200000000000,
                        "count": 0
                      },
                      {
                        "bin_start": 1569283200000000000,
                        "bin_end": 1571400000000000000,
                        "count": 0
                      },
                      {
                        "bin_start": 1571400000000000000,
                        "bin_end": 1573516800000000000,
                        "count": 0
                      },
                      {
                        "bin_start": 1573516800000000000,
                        "bin_end": 1575633600000000000,
                        "count": 0
                      },
                      {
                        "bin_start": 1575633600000000000,
                        "bin_end": 1577750400000000000,
                        "count": 2
                      }
                    ]
                  }
                },
                {
                  "name": "Level 1",
                  "dtype": "object",
                  "stats": {
                    "unique_count": 1,
                    "nan_count": 0,
                    "categories": [
                      {
                        "name": "Harvard Operational Control",
                        "count": 5
                      }
                    ]
                  }
                },
                {
                  "name": "Level 2",
                  "dtype": "object",
                  "stats": {
                    "unique_count": 2,
                    "nan_count": 0,
                    "categories": [
                      {
                        "name": "Faculty of Arts and Sciences",
                        "count": 3
                      },
                      {
                        "name": "Campus Services",
                        "count": 2
                      }
                    ]
                  }
                },
                {
                  "name": "Level 3",
                  "dtype": "object",
                  "stats": {
                    "unique_count": 2,
                    "nan_count": 0,
                    "categories": [
                      {
                        "name": "370-FCOR",
                        "count": 3
                      },
                      {
                        "name": "195-HUL",
                        "count": 2
                      }
                    ]
                  }
                },
                {
                  "name": "Level 4",
                  "dtype": "object",
                  "stats": {
                    "unique_count": 2,
                    "nan_count": 2,
                    "categories": [
                      {
                        "name": "Harvard Depository (01970; B-124)",
                        "count": 2
                      },
                      {
                        "name": "HF: Forest Teaching and Research Roll Up (04180; B-04180)",
                        "count": 1
                      },
                      {
                        "name": "Missing",
                        "count": 2
                      }
                    ]
                  }
                },
                {
                  "name": "Level 5",
                  "dtype": "object",
                  "stats": {
                    "unique_count": 1,
                    "nan_count": 4,
                    "categories": [
                      {
                        "name": "HF: Sawmill (04153; B-466)",
                        "count": 1
                      },
                      {
                        "name": "Missing",
                        "count": 4
                      }
                    ]
                  }
                },
                {
                  "name": "Activity Category",
                  "dtype": "object",
                  "stats": {
                    "unique_count": 1,
                    "nan_count": 0,
                    "categories": [
                      {
                        "name": "Mobile Combustion",
                        "count": 5
                      }
                    ]
                  }
                },
                {
                  "name": "Activity Unit",
                  "dtype": "object",
                  "stats": {
                    "unique_count": 1,
                    "nan_count": 0,
                    "categories": [
                      {
                        "name": "US gallons",
                        "count": 5
                      }
                    ]
                  }
                },
                {
                  "name": "Activity Type",
                  "dtype": "object",
                  "stats": {
                    "unique_count": 2,
                    "nan_count": 0,
                    "categories": [
                      {
                        "name": "DIESEL_MV",
                        "count": 3
                      },
                      {
                        "name": "Propane_MV",
                        "count": 2
                      }
                    ]
                  }
                },
                {
                  "name": "Emission Scope",
                  "dtype": "object",
                  "stats": {
                    "unique_count": 1,
                    "nan_count": 0,
                    "categories": [
                      {
                        "name": "Scope 1",
                        "count": 5
                      }
                    ]
                  }
                },
                {
                  "name": "Activity Amount",
                  "dtype": "float64",
                  "stats": {
                    "unique_count": 3,
                    "nan_count": 0,
                    "min": 76,
                    "max": 1000,
                    "histogram": [
                      {
                        "bin_start": 76,
                        "bin_end": 168.4,
                        "count": 2
                      },
                      {
                        "bin_start": 168.4,
                        "bin_end": 260.8,
                        "count": 1
                      },
                      {
                        "bin_start": 260.8,
                        "bin_end": 353.20000000000005,
                        "count": 0
                      },
                      {
                        "bin_start": 353.20000000000005,
                        "bin_end": 445.6,
                        "count": 0
                      },
                      {
                        "bin_start": 445.6,
                        "bin_end": 538,
                        "count": 0
                      },
                      {
                        "bin_start": 538,
                        "bin_end": 630.4000000000001,
                        "count": 0
                      },
                      {
                        "bin_start": 630.4000000000001,
                        "bin_end": 722.8000000000001,
                        "count": 0
                      },
                      {
                        "bin_start": 722.8000000000001,
                        "bin_end": 815.2,
                        "count": 0
                      },
                      {
                        "bin_start": 815.2,
                        "bin_end": 907.6,
                        "count": 0
                      },
                      {
                        "bin_start": 907.6,
                        "bin_end": 1000,
                        "count": 2
                      }
                    ]
                  }
                },
                {
                  "name": "Unnamed: 18",
                  "dtype": "float64",
                  "stats": {
                    "unique_count": 2,
                    "nan_count": 3,
                    "min": 2000,
                    "max": 13167.595,
                    "histogram": [
                      {
                        "bin_start": 2000,
                        "bin_end": 3116.7595,
                        "count": 1
                      },
                      {
                        "bin_start": 3116.7595,
                        "bin_end": 4233.519,
                        "count": 0
                      },
                      {
                        "bin_start": 4233.519,
                        "bin_end": 5350.278499999999,
                        "count": 0
                      },
                      {
                        "bin_start": 5350.278499999999,
                        "bin_end": 6467.038,
                        "count": 0
                      },
                      {
                        "bin_start": 6467.038,
                        "bin_end": 7583.7975,
                        "count": 0
                      },
                      {
                        "bin_start": 7583.7975,
                        "bin_end": 8700.556999999999,
                        "count": 0
                      },
                      {
                        "bin_start": 8700.556999999999,
                        "bin_end": 9817.316499999999,
                        "count": 0
                      },
                      {
                        "bin_start": 9817.316499999999,
                        "bin_end": 10934.076,
                        "count": 0
                      },
                      {
                        "bin_start": 10934.076,
                        "bin_end": 12050.8355,
                        "count": 0
                      },
                      {
                        "bin_start": 12050.8355,
                        "bin_end": 13167.595,
                        "count": 1
                      }
                    ]
                  }
                },
                {
                  "name": "Supplier",
                  "dtype": "float64",
                  "stats": {
                    "unique_count": 0,
                    "nan_count": 5,
                    "min": null,
                    "max": null,
                    "histogram": [
                      {
                        "bin_start": 0,
                        "bin_end": 0.1,
                        "count": 0
                      },
                      {
                        "bin_start": 0.1,
                        "bin_end": 0.2,
                        "count": 0
                      },
                      {
                        "bin_start": 0.2,
                        "bin_end": 0.30000000000000004,
                        "count": 0
                      },
                      {
                        "bin_start": 0.30000000000000004,
                        "bin_end": 0.4,
                        "count": 0
                      },
                      {
                        "bin_start": 0.4,
                        "bin_end": 0.5,
                        "count": 0
                      },
                      {
                        "bin_start": 0.5,
                        "bin_end": 0.6000000000000001,
                        "count": 0
                      },
                      {
                        "bin_start": 0.6000000000000001,
                        "bin_end": 0.7000000000000001,
                        "count": 0
                      },
                      {
                        "bin_start": 0.7000000000000001,
                        "bin_end": 0.8,
                        "count": 0
                      },
                      {
                        "bin_start": 0.8,
                        "bin_end": 0.9,
                        "count": 0
                      },
                      {
                        "bin_start": 0.9,
                        "bin_end": 1,
                        "count": 0
                      }
                    ]
                  }
                },
                {
                  "name": "Scope 2L Supplier",
                  "dtype": "float64",
                  "stats": {
                    "unique_count": 0,
                    "nan_count": 5,
                    "min": null,
                    "max": null,
                    "histogram": [
                      {
                        "bin_start": 0,
                        "bin_end": 0.1,
                        "count": 0
                      },
                      {
                        "bin_start": 0.1,
                        "bin_end": 0.2,
                        "count": 0
                      },
                      {
                        "bin_start": 0.2,
                        "bin_end": 0.30000000000000004,
                        "count": 0
                      },
                      {
                        "bin_start": 0.30000000000000004,
                        "bin_end": 0.4,
                        "count": 0
                      },
                      {
                        "bin_start": 0.4,
                        "bin_end": 0.5,
                        "count": 0
                      },
                      {
                        "bin_start": 0.5,
                        "bin_end": 0.6000000000000001,
                        "count": 0
                      },
                      {
                        "bin_start": 0.6000000000000001,
                        "bin_end": 0.7000000000000001,
                        "count": 0
                      },
                      {
                        "bin_start": 0.7000000000000001,
                        "bin_end": 0.8,
                        "count": 0
                      },
                      {
                        "bin_start": 0.8,
                        "bin_end": 0.9,
                        "count": 0
                      },
                      {
                        "bin_start": 0.9,
                        "bin_end": 1,
                        "count": 0
                      }
                    ]
                  }
                },
                {
                  "name": "Description",
                  "dtype": "object",
                  "stats": {
                    "unique_count": 4,
                    "nan_count": 0,
                    "categories": [
                      {
                        "name": "Estimated half-year value carried forward. Entered 3/5/20 by Cheryl Greenwald.",
                        "count": 2
                      },
                      {
                        "name": "Estimated half-year value carried forward. Entered 8/22/19 by Cheryl Greenwald.",
                        "count": 1
                      },
                      {
                        "name": "2 others",
                        "count": 2
                      }
                    ]
                  }
                },
                {
                  "name": "Output Type",
                  "dtype": "object",
                  "stats": {
                    "unique_count": 1,
                    "nan_count": 0,
                    "categories": [
                      {
                        "name": "CO2e",
                        "count": 5
                      }
                    ]
                  }
                },
                {
                  "name": "Output Amount",
                  "dtype": "float64",
                  "stats": {
                    "unique_count": 3,
                    "nan_count": 0,
                    "min": 0.77,
                    "max": 5.74,
                    "histogram": [
                      {
                        "bin_start": 0.77,
                        "bin_end": 1.2670000000000001,
                        "count": 2
                      },
                      {
                        "bin_start": 1.2670000000000001,
                        "bin_end": 1.7640000000000002,
                        "count": 0
                      },
                      {
                        "bin_start": 1.7640000000000002,
                        "bin_end": 2.261,
                        "count": 0
                      },
                      {
                        "bin_start": 2.261,
                        "bin_end": 2.758,
                        "count": 1
                      },
                      {
                        "bin_start": 2.758,
                        "bin_end": 3.2550000000000003,
                        "count": 0
                      },
                      {
                        "bin_start": 3.2550000000000003,
                        "bin_end": 3.7520000000000002,
                        "count": 0
                      },
                      {
                        "bin_start": 3.7520000000000002,
                        "bin_end": 4.2490000000000006,
                        "count": 0
                      },
                      {
                        "bin_start": 4.2490000000000006,
                        "bin_end": 4.746,
                        "count": 0
                      },
                      {
                        "bin_start": 4.746,
                        "bin_end": 5.243,
                        "count": 0
                      },
                      {
                        "bin_start": 5.243,
                        "bin_end": 5.74,
                        "count": 2
                      }
                    ]
                  }
                },
                {
                  "name": "Output Amount Unit",
                  "dtype": "object",
                  "stats": {
                    "unique_count": 1,
                    "nan_count": 0,
                    "categories": [
                      {
                        "name": "tonnes",
                        "count": 5
                      }
                    ]
                  }
                },
                {
                  "name": "Amount - Estimated",
                  "dtype": "bool",
                  "stats": {
                    "unique_count": 2,
                    "nan_count": 0,
                    "categories": [
                      {
                        "name": "True",
                        "count": 4
                      },
                      {
                        "name": "False",
                        "count": 1
                      }
                    ]
                  }
                },
                {
                  "name": "Amount Estimation Description",
                  "dtype": "object",
                  "stats": {
                    "unique_count": 3,
                    "nan_count": 1,
                    "categories": [
                      {
                        "name": "Estimated half-year value carried forward. Entered 3/5/20 by Cheryl Greenwald.",
                        "count": 2
                      },
                      {
                        "name": "2 others",
                        "count": 2
                      },
                      {
                        "name": "Missing",
                        "count": 1
                      }
                    ]
                  }
                },
                {
                  "name": "Meter or Ref. No.",
                  "dtype": "float64",
                  "stats": {
                    "unique_count": 0,
                    "nan_count": 5,
                    "min": null,
                    "max": null,
                    "histogram": [
                      {
                        "bin_start": 0,
                        "bin_end": 0.1,
                        "count": 0
                      },
                      {
                        "bin_start": 0.1,
                        "bin_end": 0.2,
                        "count": 0
                      },
                      {
                        "bin_start": 0.2,
                        "bin_end": 0.30000000000000004,
                        "count": 0
                      },
                      {
                        "bin_start": 0.30000000000000004,
                        "bin_end": 0.4,
                        "count": 0
                      },
                      {
                        "bin_start": 0.4,
                        "bin_end": 0.5,
                        "count": 0
                      },
                      {
                        "bin_start": 0.5,
                        "bin_end": 0.6000000000000001,
                        "count": 0
                      },
                      {
                        "bin_start": 0.6000000000000001,
                        "bin_end": 0.7000000000000001,
                        "count": 0
                      },
                      {
                        "bin_start": 0.7000000000000001,
                        "bin_end": 0.8,
                        "count": 0
                      },
                      {
                        "bin_start": 0.8,
                        "bin_end": 0.9,
                        "count": 0
                      },
                      {
                        "bin_start": 0.9,
                        "bin_end": 1,
                        "count": 0
                      }
                    ]
                  }
                },
                {
                  "name": "Acct. No.",
                  "dtype": "float64",
                  "stats": {
                    "unique_count": 0,
                    "nan_count": 5,
                    "min": null,
                    "max": null,
                    "histogram": [
                      {
                        "bin_start": 0,
                        "bin_end": 0.1,
                        "count": 0
                      },
                      {
                        "bin_start": 0.1,
                        "bin_end": 0.2,
                        "count": 0
                      },
                      {
                        "bin_start": 0.2,
                        "bin_end": 0.30000000000000004,
                        "count": 0
                      },
                      {
                        "bin_start": 0.30000000000000004,
                        "bin_end": 0.4,
                        "count": 0
                      },
                      {
                        "bin_start": 0.4,
                        "bin_end": 0.5,
                        "count": 0
                      },
                      {
                        "bin_start": 0.5,
                        "bin_end": 0.6000000000000001,
                        "count": 0
                      },
                      {
                        "bin_start": 0.6000000000000001,
                        "bin_end": 0.7000000000000001,
                        "count": 0
                      },
                      {
                        "bin_start": 0.7000000000000001,
                        "bin_end": 0.8,
                        "count": 0
                      },
                      {
                        "bin_start": 0.8,
                        "bin_end": 0.9,
                        "count": 0
                      },
                      {
                        "bin_start": 0.9,
                        "bin_end": 1,
                        "count": 0
                      }
                    ]
                  }
                },
                {
                  "name": "City",
                  "dtype": "object",
                  "stats": {
                    "unique_count": 2,
                    "nan_count": 2,
                    "categories": [
                      {
                        "name": "Southborough",
                        "count": 2
                      },
                      {
                        "name": "Petersham",
                        "count": 1
                      },
                      {
                        "name": "Missing",
                        "count": 2
                      }
                    ]
                  }
                },
                {
                  "name": "EPA Facility",
                  "dtype": "object",
                  "stats": {
                    "unique_count": 3,
                    "nan_count": 0,
                    "categories": [
                      {
                        "name": "Cambridge/Allston AQ:1190092",
                        "count": 2
                      },
                      {
                        "name": "Southborough - AQ:1190916",
                        "count": 2
                      },
                      {
                        "name": "Unassociated",
                        "count": 1
                      }
                    ]
                  }
                },
                {
                  "name": "Root Number",
                  "dtype": "float64",
                  "stats": {
                    "unique_count": 2,
                    "nan_count": 2,
                    "min": 1970,
                    "max": 4153,
                    "histogram": [
                      {
                        "bin_start": 1970,
                        "bin_end": 2188.3,
                        "count": 2
                      },
                      {
                        "bin_start": 2188.3,
                        "bin_end": 2406.6,
                        "count": 0
                      },
                      {
                        "bin_start": 2406.6,
                        "bin_end": 2624.9,
                        "count": 0
                      },
                      {
                        "bin_start": 2624.9,
                        "bin_end": 2843.2,
                        "count": 0
                      },
                      {
                        "bin_start": 2843.2,
                        "bin_end": 3061.5,
                        "count": 0
                      },
                      {
                        "bin_start": 3061.5,
                        "bin_end": 3279.8,
                        "count": 0
                      },
                      {
                        "bin_start": 3279.8,
                        "bin_end": 3498.1000000000004,
                        "count": 0
                      },
                      {
                        "bin_start": 3498.1000000000004,
                        "bin_end": 3716.4,
                        "count": 0
                      },
                      {
                        "bin_start": 3716.4,
                        "bin_end": 3934.7,
                        "count": 0
                      },
                      {
                        "bin_start": 3934.7,
                        "bin_end": 4153,
                        "count": 1
                      }
                    ]
                  }
                },
                {
                  "name": "Building Number",
                  "dtype": "float64",
                  "stats": {
                    "unique_count": 2,
                    "nan_count": 2,
                    "min": 124,
                    "max": 466,
                    "histogram": [
                      {
                        "bin_start": 124,
                        "bin_end": 158.2,
                        "count": 2
                      },
                      {
                        "bin_start": 158.2,
                        "bin_end": 192.4,
                        "count": 0
                      },
                      {
                        "bin_start": 192.4,
                        "bin_end": 226.60000000000002,
                        "count": 0
                      },
                      {
                        "bin_start": 226.60000000000002,
                        "bin_end": 260.8,
                        "count": 0
                      },
                      {
                        "bin_start": 260.8,
                        "bin_end": 295,
                        "count": 0
                      },
                      {
                        "bin_start": 295,
                        "bin_end": 329.20000000000005,
                        "count": 0
                      },
                      {
                        "bin_start": 329.20000000000005,
                        "bin_end": 363.40000000000003,
                        "count": 0
                      },
                      {
                        "bin_start": 363.40000000000003,
                        "bin_end": 397.6,
                        "count": 0
                      },
                      {
                        "bin_start": 397.6,
                        "bin_end": 431.8,
                        "count": 0
                      },
                      {
                        "bin_start": 431.8,
                        "bin_end": 466,
                        "count": 1
                      }
                    ]
                  }
                },
                {
                  "name": "University-wide GHG Status",
                  "dtype": "object",
                  "stats": {
                    "unique_count": 1,
                    "nan_count": 0,
                    "categories": [
                      {
                        "name": "Baseline",
                        "count": 5
                      }
                    ]
                  }
                },
                {
                  "name": "Campus",
                  "dtype": "object",
                  "stats": {
                    "unique_count": 3,
                    "nan_count": 0,
                    "categories": [
                      {
                        "name": "Cambridge",
                        "count": 2
                      },
                      {
                        "name": "Southborough",
                        "count": 2
                      },
                      {
                        "name": "Forest",
                        "count": 1
                      }
                    ]
                  }
                },
                {
                  "name": "School-Level GHG Status",
                  "dtype": "object",
                  "stats": {
                    "unique_count": 1,
                    "nan_count": 0,
                    "categories": [
                      {
                        "name": "Baseline",
                        "count": 5
                      }
                    ]
                  }
                },
                {
                  "name": "_deepnote_index_column",
                  "dtype": "int64"
                }
              ],
              "rows_top": [
                {
                  "Organization Period": "CY 2019",
                  "Org Unit Name": "370-FCOR",
                  "Time": "Jan-Jun",
                  "Type": "Propane_MV",
                  "Amount": "1000.0",
                  "Output": "5.74",
                  "From Date": "2019-01-01T00:00:00.000000",
                  "To Date": "2019-06-30T00:00:00.000000",
                  "Level 1": "Harvard Operational Control",
                  "Level 2": "Faculty of Arts and Sciences",
                  "Level 3": "370-FCOR",
                  "Level 4": "nan",
                  "Level 5": "nan",
                  "Activity Category": "Mobile Combustion",
                  "Activity Unit": "US gallons",
                  "Activity Type": "Propane_MV",
                  "Emission Scope": "Scope 1",
                  "Activity Amount": 1000,
                  "Unnamed: 18": "2000.0",
                  "Supplier": "nan",
                  "Scope 2L Supplier": "nan",
                  "Description": "Estimated half-year value carried forward. Entered 8/22/19 by Cheryl Greenwald.",
                  "Output Type": "CO2e",
                  "Output Amount": 5.74,
                  "Output Amount Unit": "tonnes",
                  "Amount - Estimated": true,
                  "Amount Estimation Description": "Estimated half-year value carried forward. Entered 8/22/19 by Cheryl Greenwald.",
                  "Meter or Ref. No.": "nan",
                  "Acct. No.": "nan",
                  "City": "nan",
                  "EPA Facility": "Cambridge/Allston AQ:1190092",
                  "Root Number": "nan",
                  "Building Number": "nan",
                  "University-wide GHG Status": "Baseline",
                  "Campus": "Cambridge",
                  "School-Level GHG Status": "Baseline",
                  "_deepnote_index_column": 0
                },
                {
                  "Organization Period": "CY 2019",
                  "Org Unit Name": "370-FCOR",
                  "Time": "Jul-Dec",
                  "Type": "Propane_MV",
                  "Amount": "1000.0",
                  "Output": "5.74",
                  "From Date": "2019-07-01T00:00:00.000000",
                  "To Date": "2019-12-31T00:00:00.000000",
                  "Level 1": "Harvard Operational Control",
                  "Level 2": "Faculty of Arts and Sciences",
                  "Level 3": "370-FCOR",
                  "Level 4": "nan",
                  "Level 5": "nan",
                  "Activity Category": "Mobile Combustion",
                  "Activity Unit": "US gallons",
                  "Activity Type": "Propane_MV",
                  "Emission Scope": "Scope 1",
                  "Activity Amount": 1000,
                  "Unnamed: 18": "nan",
                  "Supplier": "nan",
                  "Scope 2L Supplier": "nan",
                  "Description": "Estimated half-year value carried forward. Entered 3/5/20 by Cheryl Greenwald.",
                  "Output Type": "CO2e",
                  "Output Amount": 5.74,
                  "Output Amount Unit": "tonnes",
                  "Amount - Estimated": true,
                  "Amount Estimation Description": "Estimated half-year value carried forward. Entered 3/5/20 by Cheryl Greenwald.",
                  "Meter or Ref. No.": "nan",
                  "Acct. No.": "nan",
                  "City": "nan",
                  "EPA Facility": "Cambridge/Allston AQ:1190092",
                  "Root Number": "nan",
                  "Building Number": "nan",
                  "University-wide GHG Status": "Baseline",
                  "Campus": "Cambridge",
                  "School-Level GHG Status": "Baseline",
                  "_deepnote_index_column": 1
                },
                {
                  "Organization Period": "CY 2019",
                  "Org Unit Name": "Harvard Depository (01970; B-124)",
                  "Time": "Jan-Jun",
                  "Type": "DIESEL_MV",
                  "Amount": "76.0",
                  "Output": "0.77",
                  "From Date": "2019-01-01T00:00:00.000000",
                  "To Date": "2019-06-30T00:00:00.000000",
                  "Level 1": "Harvard Operational Control",
                  "Level 2": "Campus Services",
                  "Level 3": "195-HUL",
                  "Level 4": "Harvard Depository (01970; B-124)",
                  "Level 5": "nan",
                  "Activity Category": "Mobile Combustion",
                  "Activity Unit": "US gallons",
                  "Activity Type": "DIESEL_MV",
                  "Emission Scope": "Scope 1",
                  "Activity Amount": 76,
                  "Unnamed: 18": "13167.595",
                  "Supplier": "nan",
                  "Scope 2L Supplier": "nan",
                  "Description": "NOT FOR COMPLIANCE REPORTING. Estimated half-year value carried forward. Entered 8/22/19 by Cheryl Greenwald.",
                  "Output Type": "CO2e",
                  "Output Amount": 0.77,
                  "Output Amount Unit": "tonnes",
                  "Amount - Estimated": true,
                  "Amount Estimation Description": "NOT FOR COMPLIANCE REPORTING. Estimated half-year value carried forward. Entered 8/22/19 by Cheryl Greenwald.",
                  "Meter or Ref. No.": "nan",
                  "Acct. No.": "nan",
                  "City": "Southborough",
                  "EPA Facility": "Southborough - AQ:1190916",
                  "Root Number": "1970.0",
                  "Building Number": "124.0",
                  "University-wide GHG Status": "Baseline",
                  "Campus": "Southborough",
                  "School-Level GHG Status": "Baseline",
                  "_deepnote_index_column": 2
                },
                {
                  "Organization Period": "CY 2019",
                  "Org Unit Name": "Harvard Depository (01970; B-124)",
                  "Time": "Jul-Dec",
                  "Type": "DIESEL_MV",
                  "Amount": "76.0",
                  "Output": "0.77",
                  "From Date": "2019-07-01T00:00:00.000000",
                  "To Date": "2019-12-31T00:00:00.000000",
                  "Level 1": "Harvard Operational Control",
                  "Level 2": "Campus Services",
                  "Level 3": "195-HUL",
                  "Level 4": "Harvard Depository (01970; B-124)",
                  "Level 5": "nan",
                  "Activity Category": "Mobile Combustion",
                  "Activity Unit": "US gallons",
                  "Activity Type": "DIESEL_MV",
                  "Emission Scope": "Scope 1",
                  "Activity Amount": 76,
                  "Unnamed: 18": "nan",
                  "Supplier": "nan",
                  "Scope 2L Supplier": "nan",
                  "Description": "Estimated half-year value carried forward. Entered 3/5/20 by Cheryl Greenwald.",
                  "Output Type": "CO2e",
                  "Output Amount": 0.77,
                  "Output Amount Unit": "tonnes",
                  "Amount - Estimated": true,
                  "Amount Estimation Description": "Estimated half-year value carried forward. Entered 3/5/20 by Cheryl Greenwald.",
                  "Meter or Ref. No.": "nan",
                  "Acct. No.": "nan",
                  "City": "Southborough",
                  "EPA Facility": "Southborough - AQ:1190916",
                  "Root Number": "1970.0",
                  "Building Number": "124.0",
                  "University-wide GHG Status": "Baseline",
                  "Campus": "Southborough",
                  "School-Level GHG Status": "Baseline",
                  "_deepnote_index_column": 3
                },
                {
                  "Organization Period": "CY 2019",
                  "Org Unit Name": "HF: Sawmill (04153; B-466)",
                  "Time": "nan",
                  "Type": "nan",
                  "Amount": "nan",
                  "Output": "nan",
                  "From Date": "2019-04-01T00:00:00.000000",
                  "To Date": "2019-04-30T00:00:00.000000",
                  "Level 1": "Harvard Operational Control",
                  "Level 2": "Faculty of Arts and Sciences",
                  "Level 3": "370-FCOR",
                  "Level 4": "HF: Forest Teaching and Research Roll Up (04180; B-04180)",
                  "Level 5": "HF: Sawmill (04153; B-466)",
                  "Activity Category": "Mobile Combustion",
                  "Activity Unit": "US gallons",
                  "Activity Type": "DIESEL_MV",
                  "Emission Scope": "Scope 1",
                  "Activity Amount": 253,
                  "Unnamed: 18": "nan",
                  "Supplier": "nan",
                  "Scope 2L Supplier": "nan",
                  "Description": "Used mostly for chipping wood. Per 7/31/19 email from Alisha Morin. Entered 8/16/19 by Cheryl Greenwald.",
                  "Output Type": "CO2e",
                  "Output Amount": 2.57,
                  "Output Amount Unit": "tonnes",
                  "Amount - Estimated": false,
                  "Amount Estimation Description": "nan",
                  "Meter or Ref. No.": "nan",
                  "Acct. No.": "nan",
                  "City": "Petersham",
                  "EPA Facility": "Unassociated",
                  "Root Number": "4153.0",
                  "Building Number": "466.0",
                  "University-wide GHG Status": "Baseline",
                  "Campus": "Forest",
                  "School-Level GHG Status": "Baseline",
                  "_deepnote_index_column": 4
                }
              ],
              "rows_bottom": null
            },
            "text/plain": "  Organization Period                      Org Unit Name     Time        Type  \\\n0             CY 2019                           370-FCOR  Jan-Jun  Propane_MV   \n1             CY 2019                           370-FCOR  Jul-Dec  Propane_MV   \n2             CY 2019  Harvard Depository (01970; B-124)  Jan-Jun   DIESEL_MV   \n3             CY 2019  Harvard Depository (01970; B-124)  Jul-Dec   DIESEL_MV   \n4             CY 2019         HF: Sawmill (04153; B-466)      NaN         NaN   \n\n   Amount  Output  From Date    To Date                      Level 1  \\\n0  1000.0    5.74 2019-01-01 2019-06-30  Harvard Operational Control   \n1  1000.0    5.74 2019-07-01 2019-12-31  Harvard Operational Control   \n2    76.0    0.77 2019-01-01 2019-06-30  Harvard Operational Control   \n3    76.0    0.77 2019-07-01 2019-12-31  Harvard Operational Control   \n4     NaN     NaN 2019-04-01 2019-04-30  Harvard Operational Control   \n\n                        Level 2  ...  \\\n0  Faculty of Arts and Sciences  ...   \n1  Faculty of Arts and Sciences  ...   \n2               Campus Services  ...   \n3               Campus Services  ...   \n4  Faculty of Arts and Sciences  ...   \n\n                       Amount Estimation Description Meter or Ref. No.  \\\n0  Estimated half-year value carried forward. Ent...               NaN   \n1  Estimated half-year value carried forward. Ent...               NaN   \n2  NOT FOR COMPLIANCE REPORTING. Estimated half-y...               NaN   \n3  Estimated half-year value carried forward. Ent...               NaN   \n4                                                NaN               NaN   \n\n  Acct. No.          City                  EPA Facility Root Number  \\\n0       NaN           NaN  Cambridge/Allston AQ:1190092         NaN   \n1       NaN           NaN  Cambridge/Allston AQ:1190092         NaN   \n2       NaN  Southborough     Southborough - AQ:1190916      1970.0   \n3       NaN  Southborough     Southborough - AQ:1190916      1970.0   \n4       NaN     Petersham                  Unassociated      4153.0   \n\n  Building Number  University-wide GHG Status        Campus  \\\n0             NaN                    Baseline     Cambridge   \n1             NaN                    Baseline     Cambridge   \n2           124.0                    Baseline  Southborough   \n3           124.0                    Baseline  Southborough   \n4           466.0                    Baseline        Forest   \n\n   School-Level GHG Status  \n0                 Baseline  \n1                 Baseline  \n2                 Baseline  \n3                 Baseline  \n4                 Baseline  \n\n[5 rows x 36 columns]",
            "text/html": "<div>\n<style scoped>\n    .dataframe tbody tr th:only-of-type {\n        vertical-align: middle;\n    }\n\n    .dataframe tbody tr th {\n        vertical-align: top;\n    }\n\n    .dataframe thead th {\n        text-align: right;\n    }\n</style>\n<table border=\"1\" class=\"dataframe\">\n  <thead>\n    <tr style=\"text-align: right;\">\n      <th></th>\n      <th>Organization Period</th>\n      <th>Org Unit Name</th>\n      <th>Time</th>\n      <th>Type</th>\n      <th>Amount</th>\n      <th>Output</th>\n      <th>From Date</th>\n      <th>To Date</th>\n      <th>Level 1</th>\n      <th>Level 2</th>\n      <th>...</th>\n      <th>Amount Estimation Description</th>\n      <th>Meter or Ref. No.</th>\n      <th>Acct. No.</th>\n      <th>City</th>\n      <th>EPA Facility</th>\n      <th>Root Number</th>\n      <th>Building Number</th>\n      <th>University-wide GHG Status</th>\n      <th>Campus</th>\n      <th>School-Level GHG Status</th>\n    </tr>\n  </thead>\n  <tbody>\n    <tr>\n      <th>0</th>\n      <td>CY 2019</td>\n      <td>370-FCOR</td>\n      <td>Jan-Jun</td>\n      <td>Propane_MV</td>\n      <td>1000.0</td>\n      <td>5.74</td>\n      <td>2019-01-01</td>\n      <td>2019-06-30</td>\n      <td>Harvard Operational Control</td>\n      <td>Faculty of Arts and Sciences</td>\n      <td>...</td>\n      <td>Estimated half-year value carried forward. Ent...</td>\n      <td>NaN</td>\n      <td>NaN</td>\n      <td>NaN</td>\n      <td>Cambridge/Allston AQ:1190092</td>\n      <td>NaN</td>\n      <td>NaN</td>\n      <td>Baseline</td>\n      <td>Cambridge</td>\n      <td>Baseline</td>\n    </tr>\n    <tr>\n      <th>1</th>\n      <td>CY 2019</td>\n      <td>370-FCOR</td>\n      <td>Jul-Dec</td>\n      <td>Propane_MV</td>\n      <td>1000.0</td>\n      <td>5.74</td>\n      <td>2019-07-01</td>\n      <td>2019-12-31</td>\n      <td>Harvard Operational Control</td>\n      <td>Faculty of Arts and Sciences</td>\n      <td>...</td>\n      <td>Estimated half-year value carried forward. Ent...</td>\n      <td>NaN</td>\n      <td>NaN</td>\n      <td>NaN</td>\n      <td>Cambridge/Allston AQ:1190092</td>\n      <td>NaN</td>\n      <td>NaN</td>\n      <td>Baseline</td>\n      <td>Cambridge</td>\n      <td>Baseline</td>\n    </tr>\n    <tr>\n      <th>2</th>\n      <td>CY 2019</td>\n      <td>Harvard Depository (01970; B-124)</td>\n      <td>Jan-Jun</td>\n      <td>DIESEL_MV</td>\n      <td>76.0</td>\n      <td>0.77</td>\n      <td>2019-01-01</td>\n      <td>2019-06-30</td>\n      <td>Harvard Operational Control</td>\n      <td>Campus Services</td>\n      <td>...</td>\n      <td>NOT FOR COMPLIANCE REPORTING. Estimated half-y...</td>\n      <td>NaN</td>\n      <td>NaN</td>\n      <td>Southborough</td>\n      <td>Southborough - AQ:1190916</td>\n      <td>1970.0</td>\n      <td>124.0</td>\n      <td>Baseline</td>\n      <td>Southborough</td>\n      <td>Baseline</td>\n    </tr>\n    <tr>\n      <th>3</th>\n      <td>CY 2019</td>\n      <td>Harvard Depository (01970; B-124)</td>\n      <td>Jul-Dec</td>\n      <td>DIESEL_MV</td>\n      <td>76.0</td>\n      <td>0.77</td>\n      <td>2019-07-01</td>\n      <td>2019-12-31</td>\n      <td>Harvard Operational Control</td>\n      <td>Campus Services</td>\n      <td>...</td>\n      <td>Estimated half-year value carried forward. Ent...</td>\n      <td>NaN</td>\n      <td>NaN</td>\n      <td>Southborough</td>\n      <td>Southborough - AQ:1190916</td>\n      <td>1970.0</td>\n      <td>124.0</td>\n      <td>Baseline</td>\n      <td>Southborough</td>\n      <td>Baseline</td>\n    </tr>\n    <tr>\n      <th>4</th>\n      <td>CY 2019</td>\n      <td>HF: Sawmill (04153; B-466)</td>\n      <td>NaN</td>\n      <td>NaN</td>\n      <td>NaN</td>\n      <td>NaN</td>\n      <td>2019-04-01</td>\n      <td>2019-04-30</td>\n      <td>Harvard Operational Control</td>\n      <td>Faculty of Arts and Sciences</td>\n      <td>...</td>\n      <td>NaN</td>\n      <td>NaN</td>\n      <td>NaN</td>\n      <td>Petersham</td>\n      <td>Unassociated</td>\n      <td>4153.0</td>\n      <td>466.0</td>\n      <td>Baseline</td>\n      <td>Forest</td>\n      <td>Baseline</td>\n    </tr>\n  </tbody>\n</table>\n<p>5 rows × 36 columns</p>\n</div>"
          },
          "metadata": {}
        }
      ]
    },
    {
      "cell_type": "code",
      "metadata": {
        "tags": [],
        "cell_id": "00013-965fb89e-8581-4a50-8f34-522e5f6b06dc",
        "deepnote_to_be_reexecuted": false,
        "source_hash": "b623e53d",
        "execution_millis": 1,
        "execution_start": 1617669188530,
        "deepnote_cell_type": "code"
      },
      "source": "",
      "execution_count": null,
      "outputs": []
    },
    {
      "cell_type": "code",
      "metadata": {
        "tags": [],
        "cell_id": "00016-31c28692-b646-40a0-af1f-00880cd5ee96",
        "deepnote_to_be_reexecuted": false,
        "source_hash": "bc0c337b",
        "execution_millis": 449,
        "execution_start": 1617669188749,
        "deepnote_cell_type": "code"
      },
      "source": "final = pd.read_excel('final.xlsx')\n\nfinal.head()",
      "execution_count": null,
      "outputs": [
        {
          "output_type": "execute_result",
          "execution_count": 20,
          "data": {
            "application/vnd.deepnote.dataframe.v2+json": {
              "row_count": 5,
              "column_count": 42,
              "columns": [
                {
                  "name": "Organization Period",
                  "dtype": "object",
                  "stats": {
                    "unique_count": 1,
                    "nan_count": 0,
                    "categories": [
                      {
                        "name": "CY 2019",
                        "count": 5
                      }
                    ]
                  }
                },
                {
                  "name": "Org Unit Name",
                  "dtype": "object",
                  "stats": {
                    "unique_count": 3,
                    "nan_count": 0,
                    "categories": [
                      {
                        "name": "370-FCOR",
                        "count": 2
                      },
                      {
                        "name": "Harvard Depository (01970; B-124)",
                        "count": 2
                      },
                      {
                        "name": "HF: Sawmill (04153; B-466)",
                        "count": 1
                      }
                    ]
                  }
                },
                {
                  "name": "Time",
                  "dtype": "float64",
                  "stats": {
                    "unique_count": 1,
                    "nan_count": 3,
                    "min": 2019,
                    "max": 2019,
                    "histogram": [
                      {
                        "bin_start": 2018.5,
                        "bin_end": 2018.6,
                        "count": 0
                      },
                      {
                        "bin_start": 2018.6,
                        "bin_end": 2018.7,
                        "count": 0
                      },
                      {
                        "bin_start": 2018.7,
                        "bin_end": 2018.8,
                        "count": 0
                      },
                      {
                        "bin_start": 2018.8,
                        "bin_end": 2018.9,
                        "count": 0
                      },
                      {
                        "bin_start": 2018.9,
                        "bin_end": 2019,
                        "count": 0
                      },
                      {
                        "bin_start": 2019,
                        "bin_end": 2019.1,
                        "count": 2
                      },
                      {
                        "bin_start": 2019.1,
                        "bin_end": 2019.2,
                        "count": 0
                      },
                      {
                        "bin_start": 2019.2,
                        "bin_end": 2019.3,
                        "count": 0
                      },
                      {
                        "bin_start": 2019.3,
                        "bin_end": 2019.4,
                        "count": 0
                      },
                      {
                        "bin_start": 2019.4,
                        "bin_end": 2019.5,
                        "count": 0
                      }
                    ]
                  }
                },
                {
                  "name": "Type",
                  "dtype": "object",
                  "stats": {
                    "unique_count": 2,
                    "nan_count": 3,
                    "categories": [
                      {
                        "name": "Propane",
                        "count": 1
                      },
                      {
                        "name": "Diesel",
                        "count": 1
                      },
                      {
                        "name": "Missing",
                        "count": 3
                      }
                    ]
                  }
                },
                {
                  "name": "Amount",
                  "dtype": "float64",
                  "stats": {
                    "unique_count": 2,
                    "nan_count": 3,
                    "min": 152,
                    "max": 2000,
                    "histogram": [
                      {
                        "bin_start": 152,
                        "bin_end": 336.8,
                        "count": 1
                      },
                      {
                        "bin_start": 336.8,
                        "bin_end": 521.6,
                        "count": 0
                      },
                      {
                        "bin_start": 521.6,
                        "bin_end": 706.4000000000001,
                        "count": 0
                      },
                      {
                        "bin_start": 706.4000000000001,
                        "bin_end": 891.2,
                        "count": 0
                      },
                      {
                        "bin_start": 891.2,
                        "bin_end": 1076,
                        "count": 0
                      },
                      {
                        "bin_start": 1076,
                        "bin_end": 1260.8000000000002,
                        "count": 0
                      },
                      {
                        "bin_start": 1260.8000000000002,
                        "bin_end": 1445.6000000000001,
                        "count": 0
                      },
                      {
                        "bin_start": 1445.6000000000001,
                        "bin_end": 1630.4,
                        "count": 0
                      },
                      {
                        "bin_start": 1630.4,
                        "bin_end": 1815.2,
                        "count": 0
                      },
                      {
                        "bin_start": 1815.2,
                        "bin_end": 2000,
                        "count": 1
                      }
                    ]
                  }
                },
                {
                  "name": "Output",
                  "dtype": "float64",
                  "stats": {
                    "unique_count": 2,
                    "nan_count": 3,
                    "min": 1.54,
                    "max": 11.48,
                    "histogram": [
                      {
                        "bin_start": 1.54,
                        "bin_end": 2.5340000000000003,
                        "count": 1
                      },
                      {
                        "bin_start": 2.5340000000000003,
                        "bin_end": 3.5280000000000005,
                        "count": 0
                      },
                      {
                        "bin_start": 3.5280000000000005,
                        "bin_end": 4.522,
                        "count": 0
                      },
                      {
                        "bin_start": 4.522,
                        "bin_end": 5.516,
                        "count": 0
                      },
                      {
                        "bin_start": 5.516,
                        "bin_end": 6.510000000000001,
                        "count": 0
                      },
                      {
                        "bin_start": 6.510000000000001,
                        "bin_end": 7.5040000000000004,
                        "count": 0
                      },
                      {
                        "bin_start": 7.5040000000000004,
                        "bin_end": 8.498000000000001,
                        "count": 0
                      },
                      {
                        "bin_start": 8.498000000000001,
                        "bin_end": 9.492,
                        "count": 0
                      },
                      {
                        "bin_start": 9.492,
                        "bin_end": 10.486,
                        "count": 0
                      },
                      {
                        "bin_start": 10.486,
                        "bin_end": 11.48,
                        "count": 1
                      }
                    ]
                  }
                },
                {
                  "name": "From Date",
                  "dtype": "datetime64[ns]",
                  "stats": {
                    "unique_count": 3,
                    "nan_count": 0,
                    "min": "2019-01-01T00:00:00.000000",
                    "max": "2019-07-01T00:00:00.000000",
                    "histogram": [
                      {
                        "bin_start": 1546300800000000000,
                        "bin_end": 1547864640000000000,
                        "count": 2
                      },
                      {
                        "bin_start": 1547864640000000000,
                        "bin_end": 1549428480000000000,
                        "count": 0
                      },
                      {
                        "bin_start": 1549428480000000000,
                        "bin_end": 1550992320000000000,
                        "count": 0
                      },
                      {
                        "bin_start": 1550992320000000000,
                        "bin_end": 1552556160000000000,
                        "count": 0
                      },
                      {
                        "bin_start": 1552556160000000000,
                        "bin_end": 1554120000000000000,
                        "count": 1
                      },
                      {
                        "bin_start": 1554120000000000000,
                        "bin_end": 1555683840000000000,
                        "count": 0
                      },
                      {
                        "bin_start": 1555683840000000000,
                        "bin_end": 1557247680000000000,
                        "count": 0
                      },
                      {
                        "bin_start": 1557247680000000000,
                        "bin_end": 1558811520000000000,
                        "count": 0
                      },
                      {
                        "bin_start": 1558811520000000000,
                        "bin_end": 1560375360000000000,
                        "count": 0
                      },
                      {
                        "bin_start": 1560375360000000000,
                        "bin_end": 1561939200000000000,
                        "count": 2
                      }
                    ]
                  }
                },
                {
                  "name": "To Date",
                  "dtype": "datetime64[ns]",
                  "stats": {
                    "unique_count": 3,
                    "nan_count": 0,
                    "min": "2019-04-30T00:00:00.000000",
                    "max": "2019-12-31T00:00:00.000000",
                    "histogram": [
                      {
                        "bin_start": 1556582400000000000,
                        "bin_end": 1558699200000000000,
                        "count": 1
                      },
                      {
                        "bin_start": 1558699200000000000,
                        "bin_end": 1560816000000000000,
                        "count": 0
                      },
                      {
                        "bin_start": 1560816000000000000,
                        "bin_end": 1562932800000000000,
                        "count": 2
                      },
                      {
                        "bin_start": 1562932800000000000,
                        "bin_end": 1565049600000000000,
                        "count": 0
                      },
                      {
                        "bin_start": 1565049600000000000,
                        "bin_end": 1567166400000000000,
                        "count": 0
                      },
                      {
                        "bin_start": 1567166400000000000,
                        "bin_end": 1569283200000000000,
                        "count": 0
                      },
                      {
                        "bin_start": 1569283200000000000,
                        "bin_end": 1571400000000000000,
                        "count": 0
                      },
                      {
                        "bin_start": 1571400000000000000,
                        "bin_end": 1573516800000000000,
                        "count": 0
                      },
                      {
                        "bin_start": 1573516800000000000,
                        "bin_end": 1575633600000000000,
                        "count": 0
                      },
                      {
                        "bin_start": 1575633600000000000,
                        "bin_end": 1577750400000000000,
                        "count": 2
                      }
                    ]
                  }
                },
                {
                  "name": "Level 1",
                  "dtype": "object",
                  "stats": {
                    "unique_count": 1,
                    "nan_count": 0,
                    "categories": [
                      {
                        "name": "Harvard Operational Control",
                        "count": 5
                      }
                    ]
                  }
                },
                {
                  "name": "Level 2",
                  "dtype": "object",
                  "stats": {
                    "unique_count": 2,
                    "nan_count": 0,
                    "categories": [
                      {
                        "name": "Faculty of Arts and Sciences",
                        "count": 3
                      },
                      {
                        "name": "Campus Services",
                        "count": 2
                      }
                    ]
                  }
                },
                {
                  "name": "Level 3",
                  "dtype": "object",
                  "stats": {
                    "unique_count": 2,
                    "nan_count": 0,
                    "categories": [
                      {
                        "name": "370-FCOR",
                        "count": 3
                      },
                      {
                        "name": "195-HUL",
                        "count": 2
                      }
                    ]
                  }
                },
                {
                  "name": "Level 4",
                  "dtype": "object",
                  "stats": {
                    "unique_count": 2,
                    "nan_count": 2,
                    "categories": [
                      {
                        "name": "Harvard Depository (01970; B-124)",
                        "count": 2
                      },
                      {
                        "name": "HF: Forest Teaching and Research Roll Up (04180; B-04180)",
                        "count": 1
                      },
                      {
                        "name": "Missing",
                        "count": 2
                      }
                    ]
                  }
                },
                {
                  "name": "Level 5",
                  "dtype": "object",
                  "stats": {
                    "unique_count": 1,
                    "nan_count": 4,
                    "categories": [
                      {
                        "name": "HF: Sawmill (04153; B-466)",
                        "count": 1
                      },
                      {
                        "name": "Missing",
                        "count": 4
                      }
                    ]
                  }
                },
                {
                  "name": "Activity Category",
                  "dtype": "object",
                  "stats": {
                    "unique_count": 1,
                    "nan_count": 0,
                    "categories": [
                      {
                        "name": "Mobile Combustion",
                        "count": 5
                      }
                    ]
                  }
                },
                {
                  "name": "Activity Unit",
                  "dtype": "object",
                  "stats": {
                    "unique_count": 1,
                    "nan_count": 0,
                    "categories": [
                      {
                        "name": "US gallons",
                        "count": 5
                      }
                    ]
                  }
                },
                {
                  "name": "Activity Type",
                  "dtype": "object",
                  "stats": {
                    "unique_count": 2,
                    "nan_count": 0,
                    "categories": [
                      {
                        "name": "DIESEL_MV",
                        "count": 3
                      },
                      {
                        "name": "Propane_MV",
                        "count": 2
                      }
                    ]
                  }
                },
                {
                  "name": "Vehicle MPG",
                  "dtype": "float64",
                  "stats": {
                    "unique_count": 2,
                    "nan_count": 0,
                    "min": 11.482,
                    "max": 13,
                    "histogram": [
                      {
                        "bin_start": 11.482,
                        "bin_end": 11.633799999999999,
                        "count": 3
                      },
                      {
                        "bin_start": 11.633799999999999,
                        "bin_end": 11.785599999999999,
                        "count": 0
                      },
                      {
                        "bin_start": 11.785599999999999,
                        "bin_end": 11.9374,
                        "count": 0
                      },
                      {
                        "bin_start": 11.9374,
                        "bin_end": 12.0892,
                        "count": 0
                      },
                      {
                        "bin_start": 12.0892,
                        "bin_end": 12.241,
                        "count": 0
                      },
                      {
                        "bin_start": 12.241,
                        "bin_end": 12.3928,
                        "count": 0
                      },
                      {
                        "bin_start": 12.3928,
                        "bin_end": 12.544599999999999,
                        "count": 0
                      },
                      {
                        "bin_start": 12.544599999999999,
                        "bin_end": 12.6964,
                        "count": 0
                      },
                      {
                        "bin_start": 12.6964,
                        "bin_end": 12.8482,
                        "count": 0
                      },
                      {
                        "bin_start": 12.8482,
                        "bin_end": 13,
                        "count": 2
                      }
                    ]
                  }
                },
                {
                  "name": "Total Miles Traveled  (Vehicle MPG * Activity Amount)",
                  "dtype": "float64",
                  "stats": {
                    "unique_count": 3,
                    "nan_count": 0,
                    "min": 872.632,
                    "max": 13000,
                    "histogram": [
                      {
                        "bin_start": 872.632,
                        "bin_end": 2085.3688,
                        "count": 2
                      },
                      {
                        "bin_start": 2085.3688,
                        "bin_end": 3298.1056000000003,
                        "count": 1
                      },
                      {
                        "bin_start": 3298.1056000000003,
                        "bin_end": 4510.8424,
                        "count": 0
                      },
                      {
                        "bin_start": 4510.8424,
                        "bin_end": 5723.5792,
                        "count": 0
                      },
                      {
                        "bin_start": 5723.5792,
                        "bin_end": 6936.316000000001,
                        "count": 0
                      },
                      {
                        "bin_start": 6936.316000000001,
                        "bin_end": 8149.0528,
                        "count": 0
                      },
                      {
                        "bin_start": 8149.0528,
                        "bin_end": 9361.7896,
                        "count": 0
                      },
                      {
                        "bin_start": 9361.7896,
                        "bin_end": 10574.5264,
                        "count": 0
                      },
                      {
                        "bin_start": 10574.5264,
                        "bin_end": 11787.263200000001,
                        "count": 0
                      },
                      {
                        "bin_start": 11787.263200000001,
                        "bin_end": 13000,
                        "count": 2
                      }
                    ]
                  }
                },
                {
                  "name": "tons of CO2 Total Emissions from Electrification (Column R * 96 g C02)",
                  "dtype": "float64",
                  "stats": {
                    "unique_count": 3,
                    "nan_count": 1,
                    "min": 0.09234345407,
                    "max": 1.37568288,
                    "histogram": [
                      {
                        "bin_start": 0.09234345407,
                        "bin_end": 0.220677396663,
                        "count": 2
                      },
                      {
                        "bin_start": 0.220677396663,
                        "bin_end": 0.349011339256,
                        "count": 1
                      },
                      {
                        "bin_start": 0.349011339256,
                        "bin_end": 0.47734528184899994,
                        "count": 0
                      },
                      {
                        "bin_start": 0.47734528184899994,
                        "bin_end": 0.605679224442,
                        "count": 0
                      },
                      {
                        "bin_start": 0.605679224442,
                        "bin_end": 0.734013167035,
                        "count": 0
                      },
                      {
                        "bin_start": 0.734013167035,
                        "bin_end": 0.8623471096279999,
                        "count": 0
                      },
                      {
                        "bin_start": 0.8623471096279999,
                        "bin_end": 0.9906810522209999,
                        "count": 0
                      },
                      {
                        "bin_start": 0.9906810522209999,
                        "bin_end": 1.119014994814,
                        "count": 0
                      },
                      {
                        "bin_start": 1.119014994814,
                        "bin_end": 1.2473489374069997,
                        "count": 0
                      },
                      {
                        "bin_start": 1.2473489374069997,
                        "bin_end": 1.37568288,
                        "count": 1
                      }
                    ]
                  }
                },
                {
                  "name": "Emissions from Electrified Fleet (96g CO2e/mi)",
                  "dtype": "float64",
                  "stats": {
                    "unique_count": 2,
                    "nan_count": 3,
                    "min": 1.338372561,
                    "max": 1.37568288,
                    "histogram": [
                      {
                        "bin_start": 1.338372561,
                        "bin_end": 1.3421035929,
                        "count": 1
                      },
                      {
                        "bin_start": 1.3421035929,
                        "bin_end": 1.3458346248,
                        "count": 0
                      },
                      {
                        "bin_start": 1.3458346248,
                        "bin_end": 1.3495656566999998,
                        "count": 0
                      },
                      {
                        "bin_start": 1.3495656566999998,
                        "bin_end": 1.3532966886,
                        "count": 0
                      },
                      {
                        "bin_start": 1.3532966886,
                        "bin_end": 1.3570277205,
                        "count": 0
                      },
                      {
                        "bin_start": 1.3570277205,
                        "bin_end": 1.3607587524,
                        "count": 0
                      },
                      {
                        "bin_start": 1.3607587524,
                        "bin_end": 1.3644897843,
                        "count": 0
                      },
                      {
                        "bin_start": 1.3644897843,
                        "bin_end": 1.3682208162,
                        "count": 0
                      },
                      {
                        "bin_start": 1.3682208162,
                        "bin_end": 1.3719518481000001,
                        "count": 0
                      },
                      {
                        "bin_start": 1.3719518481000001,
                        "bin_end": 1.37568288,
                        "count": 1
                      }
                    ]
                  }
                },
                {
                  "name": "Emissions from Electrified Fleet, 50% Decarbonized Grid (48g CO2e/mi)",
                  "dtype": "float64",
                  "stats": {
                    "unique_count": 2,
                    "nan_count": 3,
                    "min": 0.6691862807,
                    "max": 0.68784144,
                    "histogram": [
                      {
                        "bin_start": 0.6691862807,
                        "bin_end": 0.67105179663,
                        "count": 1
                      },
                      {
                        "bin_start": 0.67105179663,
                        "bin_end": 0.67291731256,
                        "count": 0
                      },
                      {
                        "bin_start": 0.67291731256,
                        "bin_end": 0.6747828284899999,
                        "count": 0
                      },
                      {
                        "bin_start": 0.6747828284899999,
                        "bin_end": 0.67664834442,
                        "count": 0
                      },
                      {
                        "bin_start": 0.67664834442,
                        "bin_end": 0.67851386035,
                        "count": 0
                      },
                      {
                        "bin_start": 0.67851386035,
                        "bin_end": 0.68037937628,
                        "count": 0
                      },
                      {
                        "bin_start": 0.68037937628,
                        "bin_end": 0.68224489221,
                        "count": 0
                      },
                      {
                        "bin_start": 0.68224489221,
                        "bin_end": 0.68411040814,
                        "count": 0
                      },
                      {
                        "bin_start": 0.68411040814,
                        "bin_end": 0.6859759240700001,
                        "count": 0
                      },
                      {
                        "bin_start": 0.6859759240700001,
                        "bin_end": 0.68784144,
                        "count": 1
                      }
                    ]
                  }
                },
                {
                  "name": "Emissions from Electrified Fleet, Peak Carbon Intensity (132g CO2e/mi)",
                  "dtype": "float64",
                  "stats": {
                    "unique_count": 2,
                    "nan_count": 3,
                    "min": 1.840262272,
                    "max": 1.89156396,
                    "histogram": [
                      {
                        "bin_start": 1.840262272,
                        "bin_end": 1.8453924408,
                        "count": 1
                      },
                      {
                        "bin_start": 1.8453924408,
                        "bin_end": 1.8505226096,
                        "count": 0
                      },
                      {
                        "bin_start": 1.8505226096,
                        "bin_end": 1.8556527783999999,
                        "count": 0
                      },
                      {
                        "bin_start": 1.8556527783999999,
                        "bin_end": 1.8607829472,
                        "count": 0
                      },
                      {
                        "bin_start": 1.8607829472,
                        "bin_end": 1.865913116,
                        "count": 0
                      },
                      {
                        "bin_start": 1.865913116,
                        "bin_end": 1.8710432848,
                        "count": 0
                      },
                      {
                        "bin_start": 1.8710432848,
                        "bin_end": 1.8761734536,
                        "count": 0
                      },
                      {
                        "bin_start": 1.8761734536,
                        "bin_end": 1.8813036224,
                        "count": 0
                      },
                      {
                        "bin_start": 1.8813036224,
                        "bin_end": 1.8864337912,
                        "count": 0
                      },
                      {
                        "bin_start": 1.8864337912,
                        "bin_end": 1.89156396,
                        "count": 1
                      }
                    ]
                  }
                },
                {
                  "name": "Emission Scope",
                  "dtype": "object",
                  "stats": {
                    "unique_count": 1,
                    "nan_count": 0,
                    "categories": [
                      {
                        "name": "Scope 1",
                        "count": 5
                      }
                    ]
                  }
                },
                {
                  "name": "Activity Amount",
                  "dtype": "float64",
                  "stats": {
                    "unique_count": 3,
                    "nan_count": 0,
                    "min": 76,
                    "max": 1000,
                    "histogram": [
                      {
                        "bin_start": 76,
                        "bin_end": 168.4,
                        "count": 2
                      },
                      {
                        "bin_start": 168.4,
                        "bin_end": 260.8,
                        "count": 1
                      },
                      {
                        "bin_start": 260.8,
                        "bin_end": 353.20000000000005,
                        "count": 0
                      },
                      {
                        "bin_start": 353.20000000000005,
                        "bin_end": 445.6,
                        "count": 0
                      },
                      {
                        "bin_start": 445.6,
                        "bin_end": 538,
                        "count": 0
                      },
                      {
                        "bin_start": 538,
                        "bin_end": 630.4000000000001,
                        "count": 0
                      },
                      {
                        "bin_start": 630.4000000000001,
                        "bin_end": 722.8000000000001,
                        "count": 0
                      },
                      {
                        "bin_start": 722.8000000000001,
                        "bin_end": 815.2,
                        "count": 0
                      },
                      {
                        "bin_start": 815.2,
                        "bin_end": 907.6,
                        "count": 0
                      },
                      {
                        "bin_start": 907.6,
                        "bin_end": 1000,
                        "count": 2
                      }
                    ]
                  }
                },
                {
                  "name": "Unnamed: 24",
                  "dtype": "float64",
                  "stats": {
                    "unique_count": 2,
                    "nan_count": 3,
                    "min": 2000,
                    "max": 13167.595,
                    "histogram": [
                      {
                        "bin_start": 2000,
                        "bin_end": 3116.7595,
                        "count": 1
                      },
                      {
                        "bin_start": 3116.7595,
                        "bin_end": 4233.519,
                        "count": 0
                      },
                      {
                        "bin_start": 4233.519,
                        "bin_end": 5350.278499999999,
                        "count": 0
                      },
                      {
                        "bin_start": 5350.278499999999,
                        "bin_end": 6467.038,
                        "count": 0
                      },
                      {
                        "bin_start": 6467.038,
                        "bin_end": 7583.7975,
                        "count": 0
                      },
                      {
                        "bin_start": 7583.7975,
                        "bin_end": 8700.556999999999,
                        "count": 0
                      },
                      {
                        "bin_start": 8700.556999999999,
                        "bin_end": 9817.316499999999,
                        "count": 0
                      },
                      {
                        "bin_start": 9817.316499999999,
                        "bin_end": 10934.076,
                        "count": 0
                      },
                      {
                        "bin_start": 10934.076,
                        "bin_end": 12050.8355,
                        "count": 0
                      },
                      {
                        "bin_start": 12050.8355,
                        "bin_end": 13167.595,
                        "count": 1
                      }
                    ]
                  }
                },
                {
                  "name": "Supplier",
                  "dtype": "float64",
                  "stats": {
                    "unique_count": 0,
                    "nan_count": 5,
                    "min": null,
                    "max": null,
                    "histogram": [
                      {
                        "bin_start": 0,
                        "bin_end": 0.1,
                        "count": 0
                      },
                      {
                        "bin_start": 0.1,
                        "bin_end": 0.2,
                        "count": 0
                      },
                      {
                        "bin_start": 0.2,
                        "bin_end": 0.30000000000000004,
                        "count": 0
                      },
                      {
                        "bin_start": 0.30000000000000004,
                        "bin_end": 0.4,
                        "count": 0
                      },
                      {
                        "bin_start": 0.4,
                        "bin_end": 0.5,
                        "count": 0
                      },
                      {
                        "bin_start": 0.5,
                        "bin_end": 0.6000000000000001,
                        "count": 0
                      },
                      {
                        "bin_start": 0.6000000000000001,
                        "bin_end": 0.7000000000000001,
                        "count": 0
                      },
                      {
                        "bin_start": 0.7000000000000001,
                        "bin_end": 0.8,
                        "count": 0
                      },
                      {
                        "bin_start": 0.8,
                        "bin_end": 0.9,
                        "count": 0
                      },
                      {
                        "bin_start": 0.9,
                        "bin_end": 1,
                        "count": 0
                      }
                    ]
                  }
                },
                {
                  "name": "Scope 2L Supplier",
                  "dtype": "float64",
                  "stats": {
                    "unique_count": 0,
                    "nan_count": 5,
                    "min": null,
                    "max": null,
                    "histogram": [
                      {
                        "bin_start": 0,
                        "bin_end": 0.1,
                        "count": 0
                      },
                      {
                        "bin_start": 0.1,
                        "bin_end": 0.2,
                        "count": 0
                      },
                      {
                        "bin_start": 0.2,
                        "bin_end": 0.30000000000000004,
                        "count": 0
                      },
                      {
                        "bin_start": 0.30000000000000004,
                        "bin_end": 0.4,
                        "count": 0
                      },
                      {
                        "bin_start": 0.4,
                        "bin_end": 0.5,
                        "count": 0
                      },
                      {
                        "bin_start": 0.5,
                        "bin_end": 0.6000000000000001,
                        "count": 0
                      },
                      {
                        "bin_start": 0.6000000000000001,
                        "bin_end": 0.7000000000000001,
                        "count": 0
                      },
                      {
                        "bin_start": 0.7000000000000001,
                        "bin_end": 0.8,
                        "count": 0
                      },
                      {
                        "bin_start": 0.8,
                        "bin_end": 0.9,
                        "count": 0
                      },
                      {
                        "bin_start": 0.9,
                        "bin_end": 1,
                        "count": 0
                      }
                    ]
                  }
                },
                {
                  "name": "Description",
                  "dtype": "object",
                  "stats": {
                    "unique_count": 4,
                    "nan_count": 0,
                    "categories": [
                      {
                        "name": "Estimated half-year value carried forward. Entered 3/5/20 by Cheryl Greenwald.",
                        "count": 2
                      },
                      {
                        "name": "Estimated half-year value carried forward. Entered 8/22/19 by Cheryl Greenwald.",
                        "count": 1
                      },
                      {
                        "name": "2 others",
                        "count": 2
                      }
                    ]
                  }
                },
                {
                  "name": "Output Type",
                  "dtype": "object",
                  "stats": {
                    "unique_count": 1,
                    "nan_count": 0,
                    "categories": [
                      {
                        "name": "CO2e",
                        "count": 5
                      }
                    ]
                  }
                },
                {
                  "name": "Output Amount",
                  "dtype": "float64",
                  "stats": {
                    "unique_count": 3,
                    "nan_count": 0,
                    "min": 0.77,
                    "max": 5.74,
                    "histogram": [
                      {
                        "bin_start": 0.77,
                        "bin_end": 1.2670000000000001,
                        "count": 2
                      },
                      {
                        "bin_start": 1.2670000000000001,
                        "bin_end": 1.7640000000000002,
                        "count": 0
                      },
                      {
                        "bin_start": 1.7640000000000002,
                        "bin_end": 2.261,
                        "count": 0
                      },
                      {
                        "bin_start": 2.261,
                        "bin_end": 2.758,
                        "count": 1
                      },
                      {
                        "bin_start": 2.758,
                        "bin_end": 3.2550000000000003,
                        "count": 0
                      },
                      {
                        "bin_start": 3.2550000000000003,
                        "bin_end": 3.7520000000000002,
                        "count": 0
                      },
                      {
                        "bin_start": 3.7520000000000002,
                        "bin_end": 4.2490000000000006,
                        "count": 0
                      },
                      {
                        "bin_start": 4.2490000000000006,
                        "bin_end": 4.746,
                        "count": 0
                      },
                      {
                        "bin_start": 4.746,
                        "bin_end": 5.243,
                        "count": 0
                      },
                      {
                        "bin_start": 5.243,
                        "bin_end": 5.74,
                        "count": 2
                      }
                    ]
                  }
                },
                {
                  "name": "Output Amount Unit",
                  "dtype": "object",
                  "stats": {
                    "unique_count": 1,
                    "nan_count": 0,
                    "categories": [
                      {
                        "name": "tonnes",
                        "count": 5
                      }
                    ]
                  }
                },
                {
                  "name": "Amount - Estimated",
                  "dtype": "bool",
                  "stats": {
                    "unique_count": 2,
                    "nan_count": 0,
                    "categories": [
                      {
                        "name": "True",
                        "count": 4
                      },
                      {
                        "name": "False",
                        "count": 1
                      }
                    ]
                  }
                },
                {
                  "name": "Amount Estimation Description",
                  "dtype": "object",
                  "stats": {
                    "unique_count": 3,
                    "nan_count": 1,
                    "categories": [
                      {
                        "name": "Estimated half-year value carried forward. Entered 3/5/20 by Cheryl Greenwald.",
                        "count": 2
                      },
                      {
                        "name": "2 others",
                        "count": 2
                      },
                      {
                        "name": "Missing",
                        "count": 1
                      }
                    ]
                  }
                },
                {
                  "name": "Meter or Ref. No.",
                  "dtype": "float64",
                  "stats": {
                    "unique_count": 0,
                    "nan_count": 5,
                    "min": null,
                    "max": null,
                    "histogram": [
                      {
                        "bin_start": 0,
                        "bin_end": 0.1,
                        "count": 0
                      },
                      {
                        "bin_start": 0.1,
                        "bin_end": 0.2,
                        "count": 0
                      },
                      {
                        "bin_start": 0.2,
                        "bin_end": 0.30000000000000004,
                        "count": 0
                      },
                      {
                        "bin_start": 0.30000000000000004,
                        "bin_end": 0.4,
                        "count": 0
                      },
                      {
                        "bin_start": 0.4,
                        "bin_end": 0.5,
                        "count": 0
                      },
                      {
                        "bin_start": 0.5,
                        "bin_end": 0.6000000000000001,
                        "count": 0
                      },
                      {
                        "bin_start": 0.6000000000000001,
                        "bin_end": 0.7000000000000001,
                        "count": 0
                      },
                      {
                        "bin_start": 0.7000000000000001,
                        "bin_end": 0.8,
                        "count": 0
                      },
                      {
                        "bin_start": 0.8,
                        "bin_end": 0.9,
                        "count": 0
                      },
                      {
                        "bin_start": 0.9,
                        "bin_end": 1,
                        "count": 0
                      }
                    ]
                  }
                },
                {
                  "name": "Acct. No.",
                  "dtype": "float64",
                  "stats": {
                    "unique_count": 0,
                    "nan_count": 5,
                    "min": null,
                    "max": null,
                    "histogram": [
                      {
                        "bin_start": 0,
                        "bin_end": 0.1,
                        "count": 0
                      },
                      {
                        "bin_start": 0.1,
                        "bin_end": 0.2,
                        "count": 0
                      },
                      {
                        "bin_start": 0.2,
                        "bin_end": 0.30000000000000004,
                        "count": 0
                      },
                      {
                        "bin_start": 0.30000000000000004,
                        "bin_end": 0.4,
                        "count": 0
                      },
                      {
                        "bin_start": 0.4,
                        "bin_end": 0.5,
                        "count": 0
                      },
                      {
                        "bin_start": 0.5,
                        "bin_end": 0.6000000000000001,
                        "count": 0
                      },
                      {
                        "bin_start": 0.6000000000000001,
                        "bin_end": 0.7000000000000001,
                        "count": 0
                      },
                      {
                        "bin_start": 0.7000000000000001,
                        "bin_end": 0.8,
                        "count": 0
                      },
                      {
                        "bin_start": 0.8,
                        "bin_end": 0.9,
                        "count": 0
                      },
                      {
                        "bin_start": 0.9,
                        "bin_end": 1,
                        "count": 0
                      }
                    ]
                  }
                },
                {
                  "name": "City",
                  "dtype": "object",
                  "stats": {
                    "unique_count": 2,
                    "nan_count": 2,
                    "categories": [
                      {
                        "name": "Southborough",
                        "count": 2
                      },
                      {
                        "name": "Petersham",
                        "count": 1
                      },
                      {
                        "name": "Missing",
                        "count": 2
                      }
                    ]
                  }
                },
                {
                  "name": "EPA Facility",
                  "dtype": "object",
                  "stats": {
                    "unique_count": 3,
                    "nan_count": 0,
                    "categories": [
                      {
                        "name": "Cambridge/Allston AQ:1190092",
                        "count": 2
                      },
                      {
                        "name": "Southborough - AQ:1190916",
                        "count": 2
                      },
                      {
                        "name": "Unassociated",
                        "count": 1
                      }
                    ]
                  }
                },
                {
                  "name": "Root Number",
                  "dtype": "float64",
                  "stats": {
                    "unique_count": 2,
                    "nan_count": 2,
                    "min": 1970,
                    "max": 4153,
                    "histogram": [
                      {
                        "bin_start": 1970,
                        "bin_end": 2188.3,
                        "count": 2
                      },
                      {
                        "bin_start": 2188.3,
                        "bin_end": 2406.6,
                        "count": 0
                      },
                      {
                        "bin_start": 2406.6,
                        "bin_end": 2624.9,
                        "count": 0
                      },
                      {
                        "bin_start": 2624.9,
                        "bin_end": 2843.2,
                        "count": 0
                      },
                      {
                        "bin_start": 2843.2,
                        "bin_end": 3061.5,
                        "count": 0
                      },
                      {
                        "bin_start": 3061.5,
                        "bin_end": 3279.8,
                        "count": 0
                      },
                      {
                        "bin_start": 3279.8,
                        "bin_end": 3498.1000000000004,
                        "count": 0
                      },
                      {
                        "bin_start": 3498.1000000000004,
                        "bin_end": 3716.4,
                        "count": 0
                      },
                      {
                        "bin_start": 3716.4,
                        "bin_end": 3934.7,
                        "count": 0
                      },
                      {
                        "bin_start": 3934.7,
                        "bin_end": 4153,
                        "count": 1
                      }
                    ]
                  }
                },
                {
                  "name": "Building Number",
                  "dtype": "float64",
                  "stats": {
                    "unique_count": 2,
                    "nan_count": 2,
                    "min": 124,
                    "max": 466,
                    "histogram": [
                      {
                        "bin_start": 124,
                        "bin_end": 158.2,
                        "count": 2
                      },
                      {
                        "bin_start": 158.2,
                        "bin_end": 192.4,
                        "count": 0
                      },
                      {
                        "bin_start": 192.4,
                        "bin_end": 226.60000000000002,
                        "count": 0
                      },
                      {
                        "bin_start": 226.60000000000002,
                        "bin_end": 260.8,
                        "count": 0
                      },
                      {
                        "bin_start": 260.8,
                        "bin_end": 295,
                        "count": 0
                      },
                      {
                        "bin_start": 295,
                        "bin_end": 329.20000000000005,
                        "count": 0
                      },
                      {
                        "bin_start": 329.20000000000005,
                        "bin_end": 363.40000000000003,
                        "count": 0
                      },
                      {
                        "bin_start": 363.40000000000003,
                        "bin_end": 397.6,
                        "count": 0
                      },
                      {
                        "bin_start": 397.6,
                        "bin_end": 431.8,
                        "count": 0
                      },
                      {
                        "bin_start": 431.8,
                        "bin_end": 466,
                        "count": 1
                      }
                    ]
                  }
                },
                {
                  "name": "University-wide GHG Status",
                  "dtype": "object",
                  "stats": {
                    "unique_count": 1,
                    "nan_count": 0,
                    "categories": [
                      {
                        "name": "Baseline",
                        "count": 5
                      }
                    ]
                  }
                },
                {
                  "name": "Campus",
                  "dtype": "object",
                  "stats": {
                    "unique_count": 3,
                    "nan_count": 0,
                    "categories": [
                      {
                        "name": "Cambridge",
                        "count": 2
                      },
                      {
                        "name": "Southborough",
                        "count": 2
                      },
                      {
                        "name": "Forest",
                        "count": 1
                      }
                    ]
                  }
                },
                {
                  "name": "School-Level GHG Status",
                  "dtype": "object",
                  "stats": {
                    "unique_count": 1,
                    "nan_count": 0,
                    "categories": [
                      {
                        "name": "Baseline",
                        "count": 5
                      }
                    ]
                  }
                },
                {
                  "name": "_deepnote_index_column",
                  "dtype": "int64"
                }
              ],
              "rows_top": [
                {
                  "Organization Period": "CY 2019",
                  "Org Unit Name": "370-FCOR",
                  "Time": "2019.0",
                  "Type": "Propane",
                  "Amount": "2000.0",
                  "Output": "11.48",
                  "From Date": "2019-01-01T00:00:00.000000",
                  "To Date": "2019-06-30T00:00:00.000000",
                  "Level 1": "Harvard Operational Control",
                  "Level 2": "Faculty of Arts and Sciences",
                  "Level 3": "370-FCOR",
                  "Level 4": "nan",
                  "Level 5": "nan",
                  "Activity Category": "Mobile Combustion",
                  "Activity Unit": "US gallons",
                  "Activity Type": "Propane_MV",
                  "Vehicle MPG": 13,
                  "Total Miles Traveled  (Vehicle MPG * Activity Amount)": 13000,
                  "tons of CO2 Total Emissions from Electrification (Column R * 96 g C02)": "1.37568288",
                  "Emissions from Electrified Fleet (96g CO2e/mi)": "1.37568288",
                  "Emissions from Electrified Fleet, 50% Decarbonized Grid (48g CO2e/mi)": "0.68784144",
                  "Emissions from Electrified Fleet, Peak Carbon Intensity (132g CO2e/mi)": "1.89156396",
                  "Emission Scope": "Scope 1",
                  "Activity Amount": 1000,
                  "Unnamed: 24": "2000.0",
                  "Supplier": "nan",
                  "Scope 2L Supplier": "nan",
                  "Description": "Estimated half-year value carried forward. Entered 8/22/19 by Cheryl Greenwald.",
                  "Output Type": "CO2e",
                  "Output Amount": 5.74,
                  "Output Amount Unit": "tonnes",
                  "Amount - Estimated": true,
                  "Amount Estimation Description": "Estimated half-year value carried forward. Entered 8/22/19 by Cheryl Greenwald.",
                  "Meter or Ref. No.": "nan",
                  "Acct. No.": "nan",
                  "City": "nan",
                  "EPA Facility": "Cambridge/Allston AQ:1190092",
                  "Root Number": "nan",
                  "Building Number": "nan",
                  "University-wide GHG Status": "Baseline",
                  "Campus": "Cambridge",
                  "School-Level GHG Status": "Baseline",
                  "_deepnote_index_column": 0
                },
                {
                  "Organization Period": "CY 2019",
                  "Org Unit Name": "370-FCOR",
                  "Time": "nan",
                  "Type": "nan",
                  "Amount": "nan",
                  "Output": "nan",
                  "From Date": "2019-07-01T00:00:00.000000",
                  "To Date": "2019-12-31T00:00:00.000000",
                  "Level 1": "Harvard Operational Control",
                  "Level 2": "Faculty of Arts and Sciences",
                  "Level 3": "370-FCOR",
                  "Level 4": "nan",
                  "Level 5": "nan",
                  "Activity Category": "Mobile Combustion",
                  "Activity Unit": "US gallons",
                  "Activity Type": "Propane_MV",
                  "Vehicle MPG": 13,
                  "Total Miles Traveled  (Vehicle MPG * Activity Amount)": 13000,
                  "tons of CO2 Total Emissions from Electrification (Column R * 96 g C02)": "nan",
                  "Emissions from Electrified Fleet (96g CO2e/mi)": "nan",
                  "Emissions from Electrified Fleet, 50% Decarbonized Grid (48g CO2e/mi)": "nan",
                  "Emissions from Electrified Fleet, Peak Carbon Intensity (132g CO2e/mi)": "nan",
                  "Emission Scope": "Scope 1",
                  "Activity Amount": 1000,
                  "Unnamed: 24": "nan",
                  "Supplier": "nan",
                  "Scope 2L Supplier": "nan",
                  "Description": "Estimated half-year value carried forward. Entered 3/5/20 by Cheryl Greenwald.",
                  "Output Type": "CO2e",
                  "Output Amount": 5.74,
                  "Output Amount Unit": "tonnes",
                  "Amount - Estimated": true,
                  "Amount Estimation Description": "Estimated half-year value carried forward. Entered 3/5/20 by Cheryl Greenwald.",
                  "Meter or Ref. No.": "nan",
                  "Acct. No.": "nan",
                  "City": "nan",
                  "EPA Facility": "Cambridge/Allston AQ:1190092",
                  "Root Number": "nan",
                  "Building Number": "nan",
                  "University-wide GHG Status": "Baseline",
                  "Campus": "Cambridge",
                  "School-Level GHG Status": "Baseline",
                  "_deepnote_index_column": 1
                },
                {
                  "Organization Period": "CY 2019",
                  "Org Unit Name": "Harvard Depository (01970; B-124)",
                  "Time": "2019.0",
                  "Type": "Diesel",
                  "Amount": "152.0",
                  "Output": "1.54",
                  "From Date": "2019-01-01T00:00:00.000000",
                  "To Date": "2019-06-30T00:00:00.000000",
                  "Level 1": "Harvard Operational Control",
                  "Level 2": "Campus Services",
                  "Level 3": "195-HUL",
                  "Level 4": "Harvard Depository (01970; B-124)",
                  "Level 5": "nan",
                  "Activity Category": "Mobile Combustion",
                  "Activity Unit": "US gallons",
                  "Activity Type": "DIESEL_MV",
                  "Vehicle MPG": 11.482,
                  "Total Miles Traveled  (Vehicle MPG * Activity Amount)": 872.632,
                  "tons of CO2 Total Emissions from Electrification (Column R * 96 g C02)": "0.09234345407",
                  "Emissions from Electrified Fleet (96g CO2e/mi)": "1.338372561",
                  "Emissions from Electrified Fleet, 50% Decarbonized Grid (48g CO2e/mi)": "0.6691862807",
                  "Emissions from Electrified Fleet, Peak Carbon Intensity (132g CO2e/mi)": "1.840262272",
                  "Emission Scope": "Scope 1",
                  "Activity Amount": 76,
                  "Unnamed: 24": "13167.595",
                  "Supplier": "nan",
                  "Scope 2L Supplier": "nan",
                  "Description": "NOT FOR COMPLIANCE REPORTING. Estimated half-year value carried forward. Entered 8/22/19 by Cheryl Greenwald.",
                  "Output Type": "CO2e",
                  "Output Amount": 0.77,
                  "Output Amount Unit": "tonnes",
                  "Amount - Estimated": true,
                  "Amount Estimation Description": "NOT FOR COMPLIANCE REPORTING. Estimated half-year value carried forward. Entered 8/22/19 by Cheryl Greenwald.",
                  "Meter or Ref. No.": "nan",
                  "Acct. No.": "nan",
                  "City": "Southborough",
                  "EPA Facility": "Southborough - AQ:1190916",
                  "Root Number": "1970.0",
                  "Building Number": "124.0",
                  "University-wide GHG Status": "Baseline",
                  "Campus": "Southborough",
                  "School-Level GHG Status": "Baseline",
                  "_deepnote_index_column": 2
                },
                {
                  "Organization Period": "CY 2019",
                  "Org Unit Name": "Harvard Depository (01970; B-124)",
                  "Time": "nan",
                  "Type": "nan",
                  "Amount": "nan",
                  "Output": "nan",
                  "From Date": "2019-07-01T00:00:00.000000",
                  "To Date": "2019-12-31T00:00:00.000000",
                  "Level 1": "Harvard Operational Control",
                  "Level 2": "Campus Services",
                  "Level 3": "195-HUL",
                  "Level 4": "Harvard Depository (01970; B-124)",
                  "Level 5": "nan",
                  "Activity Category": "Mobile Combustion",
                  "Activity Unit": "US gallons",
                  "Activity Type": "DIESEL_MV",
                  "Vehicle MPG": 11.482,
                  "Total Miles Traveled  (Vehicle MPG * Activity Amount)": 872.632,
                  "tons of CO2 Total Emissions from Electrification (Column R * 96 g C02)": "0.09234345407",
                  "Emissions from Electrified Fleet (96g CO2e/mi)": "nan",
                  "Emissions from Electrified Fleet, 50% Decarbonized Grid (48g CO2e/mi)": "nan",
                  "Emissions from Electrified Fleet, Peak Carbon Intensity (132g CO2e/mi)": "nan",
                  "Emission Scope": "Scope 1",
                  "Activity Amount": 76,
                  "Unnamed: 24": "nan",
                  "Supplier": "nan",
                  "Scope 2L Supplier": "nan",
                  "Description": "Estimated half-year value carried forward. Entered 3/5/20 by Cheryl Greenwald.",
                  "Output Type": "CO2e",
                  "Output Amount": 0.77,
                  "Output Amount Unit": "tonnes",
                  "Amount - Estimated": true,
                  "Amount Estimation Description": "Estimated half-year value carried forward. Entered 3/5/20 by Cheryl Greenwald.",
                  "Meter or Ref. No.": "nan",
                  "Acct. No.": "nan",
                  "City": "Southborough",
                  "EPA Facility": "Southborough - AQ:1190916",
                  "Root Number": "1970.0",
                  "Building Number": "124.0",
                  "University-wide GHG Status": "Baseline",
                  "Campus": "Southborough",
                  "School-Level GHG Status": "Baseline",
                  "_deepnote_index_column": 3
                },
                {
                  "Organization Period": "CY 2019",
                  "Org Unit Name": "HF: Sawmill (04153; B-466)",
                  "Time": "nan",
                  "Type": "nan",
                  "Amount": "nan",
                  "Output": "nan",
                  "From Date": "2019-04-01T00:00:00.000000",
                  "To Date": "2019-04-30T00:00:00.000000",
                  "Level 1": "Harvard Operational Control",
                  "Level 2": "Faculty of Arts and Sciences",
                  "Level 3": "370-FCOR",
                  "Level 4": "HF: Forest Teaching and Research Roll Up (04180; B-04180)",
                  "Level 5": "HF: Sawmill (04153; B-466)",
                  "Activity Category": "Mobile Combustion",
                  "Activity Unit": "US gallons",
                  "Activity Type": "DIESEL_MV",
                  "Vehicle MPG": 11.482,
                  "Total Miles Traveled  (Vehicle MPG * Activity Amount)": 2904.946,
                  "tons of CO2 Total Emissions from Electrification (Column R * 96 g C02)": "0.3074064984",
                  "Emissions from Electrified Fleet (96g CO2e/mi)": "nan",
                  "Emissions from Electrified Fleet, 50% Decarbonized Grid (48g CO2e/mi)": "nan",
                  "Emissions from Electrified Fleet, Peak Carbon Intensity (132g CO2e/mi)": "nan",
                  "Emission Scope": "Scope 1",
                  "Activity Amount": 253,
                  "Unnamed: 24": "nan",
                  "Supplier": "nan",
                  "Scope 2L Supplier": "nan",
                  "Description": "Used mostly for chipping wood. Per 7/31/19 email from Alisha Morin. Entered 8/16/19 by Cheryl Greenwald.",
                  "Output Type": "CO2e",
                  "Output Amount": 2.57,
                  "Output Amount Unit": "tonnes",
                  "Amount - Estimated": false,
                  "Amount Estimation Description": "nan",
                  "Meter or Ref. No.": "nan",
                  "Acct. No.": "nan",
                  "City": "Petersham",
                  "EPA Facility": "Unassociated",
                  "Root Number": "4153.0",
                  "Building Number": "466.0",
                  "University-wide GHG Status": "Baseline",
                  "Campus": "Forest",
                  "School-Level GHG Status": "Baseline",
                  "_deepnote_index_column": 4
                }
              ],
              "rows_bottom": null
            },
            "text/plain": "  Organization Period                      Org Unit Name    Time     Type  \\\n0             CY 2019                           370-FCOR  2019.0  Propane   \n1             CY 2019                           370-FCOR     NaN      NaN   \n2             CY 2019  Harvard Depository (01970; B-124)  2019.0   Diesel   \n3             CY 2019  Harvard Depository (01970; B-124)     NaN      NaN   \n4             CY 2019         HF: Sawmill (04153; B-466)     NaN      NaN   \n\n   Amount  Output  From Date    To Date                      Level 1  \\\n0  2000.0   11.48 2019-01-01 2019-06-30  Harvard Operational Control   \n1     NaN     NaN 2019-07-01 2019-12-31  Harvard Operational Control   \n2   152.0    1.54 2019-01-01 2019-06-30  Harvard Operational Control   \n3     NaN     NaN 2019-07-01 2019-12-31  Harvard Operational Control   \n4     NaN     NaN 2019-04-01 2019-04-30  Harvard Operational Control   \n\n                        Level 2  ...  \\\n0  Faculty of Arts and Sciences  ...   \n1  Faculty of Arts and Sciences  ...   \n2               Campus Services  ...   \n3               Campus Services  ...   \n4  Faculty of Arts and Sciences  ...   \n\n                       Amount Estimation Description Meter or Ref. No.  \\\n0  Estimated half-year value carried forward. Ent...               NaN   \n1  Estimated half-year value carried forward. Ent...               NaN   \n2  NOT FOR COMPLIANCE REPORTING. Estimated half-y...               NaN   \n3  Estimated half-year value carried forward. Ent...               NaN   \n4                                                NaN               NaN   \n\n  Acct. No.          City                  EPA Facility Root Number  \\\n0       NaN           NaN  Cambridge/Allston AQ:1190092         NaN   \n1       NaN           NaN  Cambridge/Allston AQ:1190092         NaN   \n2       NaN  Southborough     Southborough - AQ:1190916      1970.0   \n3       NaN  Southborough     Southborough - AQ:1190916      1970.0   \n4       NaN     Petersham                  Unassociated      4153.0   \n\n   Building Number  University-wide GHG Status        Campus  \\\n0              NaN                    Baseline     Cambridge   \n1              NaN                    Baseline     Cambridge   \n2            124.0                    Baseline  Southborough   \n3            124.0                    Baseline  Southborough   \n4            466.0                    Baseline        Forest   \n\n   School-Level GHG Status  \n0                 Baseline  \n1                 Baseline  \n2                 Baseline  \n3                 Baseline  \n4                 Baseline  \n\n[5 rows x 42 columns]",
            "text/html": "<div>\n<style scoped>\n    .dataframe tbody tr th:only-of-type {\n        vertical-align: middle;\n    }\n\n    .dataframe tbody tr th {\n        vertical-align: top;\n    }\n\n    .dataframe thead th {\n        text-align: right;\n    }\n</style>\n<table border=\"1\" class=\"dataframe\">\n  <thead>\n    <tr style=\"text-align: right;\">\n      <th></th>\n      <th>Organization Period</th>\n      <th>Org Unit Name</th>\n      <th>Time</th>\n      <th>Type</th>\n      <th>Amount</th>\n      <th>Output</th>\n      <th>From Date</th>\n      <th>To Date</th>\n      <th>Level 1</th>\n      <th>Level 2</th>\n      <th>...</th>\n      <th>Amount Estimation Description</th>\n      <th>Meter or Ref. No.</th>\n      <th>Acct. No.</th>\n      <th>City</th>\n      <th>EPA Facility</th>\n      <th>Root Number</th>\n      <th>Building Number</th>\n      <th>University-wide GHG Status</th>\n      <th>Campus</th>\n      <th>School-Level GHG Status</th>\n    </tr>\n  </thead>\n  <tbody>\n    <tr>\n      <th>0</th>\n      <td>CY 2019</td>\n      <td>370-FCOR</td>\n      <td>2019.0</td>\n      <td>Propane</td>\n      <td>2000.0</td>\n      <td>11.48</td>\n      <td>2019-01-01</td>\n      <td>2019-06-30</td>\n      <td>Harvard Operational Control</td>\n      <td>Faculty of Arts and Sciences</td>\n      <td>...</td>\n      <td>Estimated half-year value carried forward. Ent...</td>\n      <td>NaN</td>\n      <td>NaN</td>\n      <td>NaN</td>\n      <td>Cambridge/Allston AQ:1190092</td>\n      <td>NaN</td>\n      <td>NaN</td>\n      <td>Baseline</td>\n      <td>Cambridge</td>\n      <td>Baseline</td>\n    </tr>\n    <tr>\n      <th>1</th>\n      <td>CY 2019</td>\n      <td>370-FCOR</td>\n      <td>NaN</td>\n      <td>NaN</td>\n      <td>NaN</td>\n      <td>NaN</td>\n      <td>2019-07-01</td>\n      <td>2019-12-31</td>\n      <td>Harvard Operational Control</td>\n      <td>Faculty of Arts and Sciences</td>\n      <td>...</td>\n      <td>Estimated half-year value carried forward. Ent...</td>\n      <td>NaN</td>\n      <td>NaN</td>\n      <td>NaN</td>\n      <td>Cambridge/Allston AQ:1190092</td>\n      <td>NaN</td>\n      <td>NaN</td>\n      <td>Baseline</td>\n      <td>Cambridge</td>\n      <td>Baseline</td>\n    </tr>\n    <tr>\n      <th>2</th>\n      <td>CY 2019</td>\n      <td>Harvard Depository (01970; B-124)</td>\n      <td>2019.0</td>\n      <td>Diesel</td>\n      <td>152.0</td>\n      <td>1.54</td>\n      <td>2019-01-01</td>\n      <td>2019-06-30</td>\n      <td>Harvard Operational Control</td>\n      <td>Campus Services</td>\n      <td>...</td>\n      <td>NOT FOR COMPLIANCE REPORTING. Estimated half-y...</td>\n      <td>NaN</td>\n      <td>NaN</td>\n      <td>Southborough</td>\n      <td>Southborough - AQ:1190916</td>\n      <td>1970.0</td>\n      <td>124.0</td>\n      <td>Baseline</td>\n      <td>Southborough</td>\n      <td>Baseline</td>\n    </tr>\n    <tr>\n      <th>3</th>\n      <td>CY 2019</td>\n      <td>Harvard Depository (01970; B-124)</td>\n      <td>NaN</td>\n      <td>NaN</td>\n      <td>NaN</td>\n      <td>NaN</td>\n      <td>2019-07-01</td>\n      <td>2019-12-31</td>\n      <td>Harvard Operational Control</td>\n      <td>Campus Services</td>\n      <td>...</td>\n      <td>Estimated half-year value carried forward. Ent...</td>\n      <td>NaN</td>\n      <td>NaN</td>\n      <td>Southborough</td>\n      <td>Southborough - AQ:1190916</td>\n      <td>1970.0</td>\n      <td>124.0</td>\n      <td>Baseline</td>\n      <td>Southborough</td>\n      <td>Baseline</td>\n    </tr>\n    <tr>\n      <th>4</th>\n      <td>CY 2019</td>\n      <td>HF: Sawmill (04153; B-466)</td>\n      <td>NaN</td>\n      <td>NaN</td>\n      <td>NaN</td>\n      <td>NaN</td>\n      <td>2019-04-01</td>\n      <td>2019-04-30</td>\n      <td>Harvard Operational Control</td>\n      <td>Faculty of Arts and Sciences</td>\n      <td>...</td>\n      <td>NaN</td>\n      <td>NaN</td>\n      <td>NaN</td>\n      <td>Petersham</td>\n      <td>Unassociated</td>\n      <td>4153.0</td>\n      <td>466.0</td>\n      <td>Baseline</td>\n      <td>Forest</td>\n      <td>Baseline</td>\n    </tr>\n  </tbody>\n</table>\n<p>5 rows × 42 columns</p>\n</div>"
          },
          "metadata": {}
        }
      ]
    },
    {
      "cell_type": "code",
      "metadata": {
        "tags": [],
        "cell_id": "00017-adc4bc12-a004-4163-9485-14e9a137160b",
        "deepnote_to_be_reexecuted": false,
        "source_hash": "854d906a",
        "execution_millis": 161,
        "execution_start": 1617669189223,
        "deepnote_cell_type": "code"
      },
      "source": "alt.Chart(final, title=\"Fuel Consumption in 2019\").mark_bar().encode(\n    x=alt.X('Type:N', axis=alt.Axis(labels=False, title='Vehicle by Fuel Type')),\n    y=alt.Y('Amount:Q', axis=alt.Axis(title='Consumption (US Gallons)')),\n    color=alt.Color('Type', legend=alt.Legend(title=\"Fuel Types\"))\n).properties(width=500)\n\n",
      "execution_count": null,
      "outputs": [
        {
          "output_type": "execute_result",
          "execution_count": 21,
          "data": {
            "text/html": "\n<div id=\"altair-viz-1185b703cf95445f8eb5dbc1e05e3d99\"></div>\n<script type=\"text/javascript\">\n  (function(spec, embedOpt){\n    let outputDiv = document.currentScript.previousElementSibling;\n    if (outputDiv.id !== \"altair-viz-1185b703cf95445f8eb5dbc1e05e3d99\") {\n      outputDiv = document.getElementById(\"altair-viz-1185b703cf95445f8eb5dbc1e05e3d99\");\n    }\n    const paths = {\n      \"vega\": \"https://cdn.jsdelivr.net/npm//vega@5?noext\",\n      \"vega-lib\": \"https://cdn.jsdelivr.net/npm//vega-lib?noext\",\n      \"vega-lite\": \"https://cdn.jsdelivr.net/npm//vega-lite@4.8.1?noext\",\n      \"vega-embed\": \"https://cdn.jsdelivr.net/npm//vega-embed@6?noext\",\n    };\n\n    function loadScript(lib) {\n      return new Promise(function(resolve, reject) {\n        var s = document.createElement('script');\n        s.src = paths[lib];\n        s.async = true;\n        s.onload = () => resolve(paths[lib]);\n        s.onerror = () => reject(`Error loading script: ${paths[lib]}`);\n        document.getElementsByTagName(\"head\")[0].appendChild(s);\n      });\n    }\n\n    function showError(err) {\n      outputDiv.innerHTML = `<div class=\"error\" style=\"color:red;\">${err}</div>`;\n      throw err;\n    }\n\n    function displayChart(vegaEmbed) {\n      vegaEmbed(outputDiv, spec, embedOpt)\n        .catch(err => showError(`Javascript Error: ${err.message}<br>This usually means there's a typo in your chart specification. See the javascript console for the full traceback.`));\n    }\n\n    if(typeof define === \"function\" && define.amd) {\n      requirejs.config({paths});\n      require([\"vega-embed\"], displayChart, err => showError(`Error loading script: ${err.message}`));\n    } else if (typeof vegaEmbed === \"function\") {\n      displayChart(vegaEmbed);\n    } else {\n      loadScript(\"vega\")\n        .then(() => loadScript(\"vega-lite\"))\n        .then(() => loadScript(\"vega-embed\"))\n        .catch(showError)\n        .then(() => displayChart(vegaEmbed));\n    }\n  })({\"config\": {\"view\": {\"continuousWidth\": 400, \"continuousHeight\": 300}}, \"data\": {\"name\": \"data-24dac1e45a91c91dd580ca59d95c4b21\"}, \"mark\": \"bar\", \"encoding\": {\"color\": {\"type\": \"nominal\", \"field\": \"Type\", \"legend\": {\"title\": \"Fuel Types\"}}, \"x\": {\"type\": \"nominal\", \"axis\": {\"labels\": false, \"title\": \"Vehicle by Fuel Type\"}, \"field\": \"Type\"}, \"y\": {\"type\": \"quantitative\", \"axis\": {\"title\": \"Consumption (US Gallons)\"}, \"field\": \"Amount\"}}, \"title\": \"Fuel Consumption in 2019\", \"width\": 500, \"$schema\": \"https://vega.github.io/schema/vega-lite/v4.8.1.json\", \"datasets\": {\"data-24dac1e45a91c91dd580ca59d95c4b21\": [{\"Organization Period\": \"CY 2019\", \"Org Unit Name\": \"370-FCOR\", \"Time\": 2019.0, \"Type\": \"Propane\", \"Amount\": 2000.0, \"Output\": 11.48, \"From Date\": \"2019-01-01T00:00:00\", \"To Date\": \"2019-06-30T00:00:00\", \"Level 1\": \"Harvard Operational Control\", \"Level 2\": \"Faculty of Arts and Sciences\", \"Level 3\": \"370-FCOR\", \"Level 4\": null, \"Level 5\": null, \"Activity Category\": \"Mobile Combustion\", \"Activity Unit\": \"US gallons\", \"Activity Type\": \"Propane_MV\", \"Vehicle MPG\": 13.0, \"Total Miles Traveled  (Vehicle MPG * Activity Amount)\": 13000.0, \"tons of CO2 Total Emissions from Electrification (Column R * 96 g C02)\": 1.37568288, \"Emissions from Electrified Fleet (96g CO2e/mi)\": 1.37568288, \"Emissions from Electrified Fleet, 50% Decarbonized Grid (48g CO2e/mi)\": 0.68784144, \"Emissions from Electrified Fleet, Peak Carbon Intensity (132g CO2e/mi)\": 1.89156396, \"Emission Scope\": \"Scope 1\", \"Activity Amount\": 1000.0, \"Unnamed: 24\": 2000.0, \"Supplier\": null, \"Scope 2L Supplier\": null, \"Description\": \"Estimated half-year value carried forward. Entered 8/22/19 by Cheryl Greenwald.\", \"Output Type\": \"CO2e\", \"Output Amount\": 5.74, \"Output Amount Unit\": \"tonnes\", \"Amount - Estimated\": true, \"Amount Estimation Description\": \"Estimated half-year value carried forward. Entered 8/22/19 by Cheryl Greenwald.\", \"Meter or Ref. No.\": null, \"Acct. No.\": null, \"City\": null, \"EPA Facility\": \"Cambridge/Allston AQ:1190092\", \"Root Number\": null, \"Building Number\": null, \"University-wide GHG Status\": \"Baseline\", \"Campus\": \"Cambridge\", \"School-Level GHG Status\": \"Baseline\"}, {\"Organization Period\": \"CY 2019\", \"Org Unit Name\": \"370-FCOR\", \"Time\": null, \"Type\": null, \"Amount\": null, \"Output\": null, \"From Date\": \"2019-07-01T00:00:00\", \"To Date\": \"2019-12-31T00:00:00\", \"Level 1\": \"Harvard Operational Control\", \"Level 2\": \"Faculty of Arts and Sciences\", \"Level 3\": \"370-FCOR\", \"Level 4\": null, \"Level 5\": null, \"Activity Category\": \"Mobile Combustion\", \"Activity Unit\": \"US gallons\", \"Activity Type\": \"Propane_MV\", \"Vehicle MPG\": 13.0, \"Total Miles Traveled  (Vehicle MPG * Activity Amount)\": 13000.0, \"tons of CO2 Total Emissions from Electrification (Column R * 96 g C02)\": null, \"Emissions from Electrified Fleet (96g CO2e/mi)\": null, \"Emissions from Electrified Fleet, 50% Decarbonized Grid (48g CO2e/mi)\": null, \"Emissions from Electrified Fleet, Peak Carbon Intensity (132g CO2e/mi)\": null, \"Emission Scope\": \"Scope 1\", \"Activity Amount\": 1000.0, \"Unnamed: 24\": null, \"Supplier\": null, \"Scope 2L Supplier\": null, \"Description\": \"Estimated half-year value carried forward. Entered 3/5/20 by Cheryl Greenwald.\", \"Output Type\": \"CO2e\", \"Output Amount\": 5.74, \"Output Amount Unit\": \"tonnes\", \"Amount - Estimated\": true, \"Amount Estimation Description\": \"Estimated half-year value carried forward. Entered 3/5/20 by Cheryl Greenwald.\", \"Meter or Ref. No.\": null, \"Acct. No.\": null, \"City\": null, \"EPA Facility\": \"Cambridge/Allston AQ:1190092\", \"Root Number\": null, \"Building Number\": null, \"University-wide GHG Status\": \"Baseline\", \"Campus\": \"Cambridge\", \"School-Level GHG Status\": \"Baseline\"}, {\"Organization Period\": \"CY 2019\", \"Org Unit Name\": \"Harvard Depository (01970; B-124)\", \"Time\": 2019.0, \"Type\": \"Diesel\", \"Amount\": 152.0, \"Output\": 1.54, \"From Date\": \"2019-01-01T00:00:00\", \"To Date\": \"2019-06-30T00:00:00\", \"Level 1\": \"Harvard Operational Control\", \"Level 2\": \"Campus Services\", \"Level 3\": \"195-HUL\", \"Level 4\": \"Harvard Depository (01970; B-124)\", \"Level 5\": null, \"Activity Category\": \"Mobile Combustion\", \"Activity Unit\": \"US gallons\", \"Activity Type\": \"DIESEL_MV\", \"Vehicle MPG\": 11.482, \"Total Miles Traveled  (Vehicle MPG * Activity Amount)\": 872.632, \"tons of CO2 Total Emissions from Electrification (Column R * 96 g C02)\": 0.09234345407, \"Emissions from Electrified Fleet (96g CO2e/mi)\": 1.338372561, \"Emissions from Electrified Fleet, 50% Decarbonized Grid (48g CO2e/mi)\": 0.6691862807, \"Emissions from Electrified Fleet, Peak Carbon Intensity (132g CO2e/mi)\": 1.840262272, \"Emission Scope\": \"Scope 1\", \"Activity Amount\": 76.0, \"Unnamed: 24\": 13167.595, \"Supplier\": null, \"Scope 2L Supplier\": null, \"Description\": \"NOT FOR COMPLIANCE REPORTING. Estimated half-year value carried forward. Entered 8/22/19 by Cheryl Greenwald.\", \"Output Type\": \"CO2e\", \"Output Amount\": 0.77, \"Output Amount Unit\": \"tonnes\", \"Amount - Estimated\": true, \"Amount Estimation Description\": \"NOT FOR COMPLIANCE REPORTING. Estimated half-year value carried forward. Entered 8/22/19 by Cheryl Greenwald.\", \"Meter or Ref. No.\": null, \"Acct. No.\": null, \"City\": \"Southborough\", \"EPA Facility\": \"Southborough - AQ:1190916\", \"Root Number\": 1970.0, \"Building Number\": 124.0, \"University-wide GHG Status\": \"Baseline\", \"Campus\": \"Southborough\", \"School-Level GHG Status\": \"Baseline\"}, {\"Organization Period\": \"CY 2019\", \"Org Unit Name\": \"Harvard Depository (01970; B-124)\", \"Time\": null, \"Type\": null, \"Amount\": null, \"Output\": null, \"From Date\": \"2019-07-01T00:00:00\", \"To Date\": \"2019-12-31T00:00:00\", \"Level 1\": \"Harvard Operational Control\", \"Level 2\": \"Campus Services\", \"Level 3\": \"195-HUL\", \"Level 4\": \"Harvard Depository (01970; B-124)\", \"Level 5\": null, \"Activity Category\": \"Mobile Combustion\", \"Activity Unit\": \"US gallons\", \"Activity Type\": \"DIESEL_MV\", \"Vehicle MPG\": 11.482, \"Total Miles Traveled  (Vehicle MPG * Activity Amount)\": 872.632, \"tons of CO2 Total Emissions from Electrification (Column R * 96 g C02)\": 0.09234345407, \"Emissions from Electrified Fleet (96g CO2e/mi)\": null, \"Emissions from Electrified Fleet, 50% Decarbonized Grid (48g CO2e/mi)\": null, \"Emissions from Electrified Fleet, Peak Carbon Intensity (132g CO2e/mi)\": null, \"Emission Scope\": \"Scope 1\", \"Activity Amount\": 76.0, \"Unnamed: 24\": null, \"Supplier\": null, \"Scope 2L Supplier\": null, \"Description\": \"Estimated half-year value carried forward. Entered 3/5/20 by Cheryl Greenwald.\", \"Output Type\": \"CO2e\", \"Output Amount\": 0.77, \"Output Amount Unit\": \"tonnes\", \"Amount - Estimated\": true, \"Amount Estimation Description\": \"Estimated half-year value carried forward. Entered 3/5/20 by Cheryl Greenwald.\", \"Meter or Ref. No.\": null, \"Acct. No.\": null, \"City\": \"Southborough\", \"EPA Facility\": \"Southborough - AQ:1190916\", \"Root Number\": 1970.0, \"Building Number\": 124.0, \"University-wide GHG Status\": \"Baseline\", \"Campus\": \"Southborough\", \"School-Level GHG Status\": \"Baseline\"}, {\"Organization Period\": \"CY 2019\", \"Org Unit Name\": \"HF: Sawmill (04153; B-466)\", \"Time\": null, \"Type\": null, \"Amount\": null, \"Output\": null, \"From Date\": \"2019-04-01T00:00:00\", \"To Date\": \"2019-04-30T00:00:00\", \"Level 1\": \"Harvard Operational Control\", \"Level 2\": \"Faculty of Arts and Sciences\", \"Level 3\": \"370-FCOR\", \"Level 4\": \"HF: Forest Teaching and Research Roll Up (04180; B-04180)\", \"Level 5\": \"HF: Sawmill (04153; B-466)\", \"Activity Category\": \"Mobile Combustion\", \"Activity Unit\": \"US gallons\", \"Activity Type\": \"DIESEL_MV\", \"Vehicle MPG\": 11.482, \"Total Miles Traveled  (Vehicle MPG * Activity Amount)\": 2904.946, \"tons of CO2 Total Emissions from Electrification (Column R * 96 g C02)\": 0.3074064984, \"Emissions from Electrified Fleet (96g CO2e/mi)\": null, \"Emissions from Electrified Fleet, 50% Decarbonized Grid (48g CO2e/mi)\": null, \"Emissions from Electrified Fleet, Peak Carbon Intensity (132g CO2e/mi)\": null, \"Emission Scope\": \"Scope 1\", \"Activity Amount\": 253.0, \"Unnamed: 24\": null, \"Supplier\": null, \"Scope 2L Supplier\": null, \"Description\": \"Used mostly for chipping wood. Per 7/31/19 email from Alisha Morin. Entered 8/16/19 by Cheryl Greenwald.\", \"Output Type\": \"CO2e\", \"Output Amount\": 2.57, \"Output Amount Unit\": \"tonnes\", \"Amount - Estimated\": false, \"Amount Estimation Description\": null, \"Meter or Ref. No.\": null, \"Acct. No.\": null, \"City\": \"Petersham\", \"EPA Facility\": \"Unassociated\", \"Root Number\": 4153.0, \"Building Number\": 466.0, \"University-wide GHG Status\": \"Baseline\", \"Campus\": \"Forest\", \"School-Level GHG Status\": \"Baseline\"}, {\"Organization Period\": \"CY 2019\", \"Org Unit Name\": \"HF: Sawmill (04153; B-466)\", \"Time\": null, \"Type\": null, \"Amount\": null, \"Output\": null, \"From Date\": \"2019-08-01T00:00:00\", \"To Date\": \"2019-08-31T00:00:00\", \"Level 1\": \"Harvard Operational Control\", \"Level 2\": \"Faculty of Arts and Sciences\", \"Level 3\": \"370-FCOR\", \"Level 4\": \"HF: Forest Teaching and Research Roll Up (04180; B-04180)\", \"Level 5\": \"HF: Sawmill (04153; B-466)\", \"Activity Category\": \"Mobile Combustion\", \"Activity Unit\": \"US gallons\", \"Activity Type\": \"DIESEL_MV\", \"Vehicle MPG\": 11.482, \"Total Miles Traveled  (Vehicle MPG * Activity Amount)\": 2410.0718, \"tons of CO2 Total Emissions from Electrification (Column R * 96 g C02)\": 0.2550380396, \"Emissions from Electrified Fleet (96g CO2e/mi)\": null, \"Emissions from Electrified Fleet, 50% Decarbonized Grid (48g CO2e/mi)\": null, \"Emissions from Electrified Fleet, Peak Carbon Intensity (132g CO2e/mi)\": null, \"Emission Scope\": \"Scope 1\", \"Activity Amount\": 209.9, \"Unnamed: 24\": null, \"Supplier\": null, \"Scope 2L Supplier\": null, \"Description\": \"Used mostly for chipping wood. Per 2/7/20 email from Diona Laford. Entered 2/20/20 by Cheryl Greenwald.\", \"Output Type\": \"CO2e\", \"Output Amount\": 2.13, \"Output Amount Unit\": \"tonnes\", \"Amount - Estimated\": false, \"Amount Estimation Description\": null, \"Meter or Ref. No.\": null, \"Acct. No.\": null, \"City\": \"Petersham\", \"EPA Facility\": \"Unassociated\", \"Root Number\": 4153.0, \"Building Number\": 466.0, \"University-wide GHG Status\": \"Baseline\", \"Campus\": \"Forest\", \"School-Level GHG Status\": \"Baseline\"}, {\"Organization Period\": \"CY 2019\", \"Org Unit Name\": \"HF: Sawmill (04153; B-466)\", \"Time\": null, \"Type\": null, \"Amount\": null, \"Output\": null, \"From Date\": \"2019-12-01T00:00:00\", \"To Date\": \"2019-12-31T00:00:00\", \"Level 1\": \"Harvard Operational Control\", \"Level 2\": \"Faculty of Arts and Sciences\", \"Level 3\": \"370-FCOR\", \"Level 4\": \"HF: Forest Teaching and Research Roll Up (04180; B-04180)\", \"Level 5\": \"HF: Sawmill (04153; B-466)\", \"Activity Category\": \"Mobile Combustion\", \"Activity Unit\": \"US gallons\", \"Activity Type\": \"DIESEL_MV\", \"Vehicle MPG\": 11.482, \"Total Miles Traveled  (Vehicle MPG * Activity Amount)\": 2969.2452, \"tons of CO2 Total Emissions from Electrification (Column R * 96 g C02)\": 0.3142107529, \"Emissions from Electrified Fleet (96g CO2e/mi)\": null, \"Emissions from Electrified Fleet, 50% Decarbonized Grid (48g CO2e/mi)\": null, \"Emissions from Electrified Fleet, Peak Carbon Intensity (132g CO2e/mi)\": null, \"Emission Scope\": \"Scope 1\", \"Activity Amount\": 258.6, \"Unnamed: 24\": null, \"Supplier\": null, \"Scope 2L Supplier\": null, \"Description\": \"Used mostly for chipping wood. Per 2/7/20 email from Diona Laford. Entered 2/20/20 by Cheryl Greenwald.\", \"Output Type\": \"CO2e\", \"Output Amount\": 2.63, \"Output Amount Unit\": \"tonnes\", \"Amount - Estimated\": false, \"Amount Estimation Description\": null, \"Meter or Ref. No.\": null, \"Acct. No.\": null, \"City\": \"Petersham\", \"EPA Facility\": \"Unassociated\", \"Root Number\": 4153.0, \"Building Number\": 466.0, \"University-wide GHG Status\": \"Baseline\", \"Campus\": \"Forest\", \"School-Level GHG Status\": \"Baseline\"}, {\"Organization Period\": \"CY 2019\", \"Org Unit Name\": \"HF: Sawmill (04153; B-466)\", \"Time\": null, \"Type\": null, \"Amount\": null, \"Output\": null, \"From Date\": \"2019-02-01T00:00:00\", \"To Date\": \"2019-02-28T00:00:00\", \"Level 1\": \"Harvard Operational Control\", \"Level 2\": \"Faculty of Arts and Sciences\", \"Level 3\": \"370-FCOR\", \"Level 4\": \"HF: Forest Teaching and Research Roll Up (04180; B-04180)\", \"Level 5\": \"HF: Sawmill (04153; B-466)\", \"Activity Category\": \"Mobile Combustion\", \"Activity Unit\": \"US gallons\", \"Activity Type\": \"DIESEL_MV\", \"Vehicle MPG\": 11.482, \"Total Miles Traveled  (Vehicle MPG * Activity Amount)\": 2617.896, \"tons of CO2 Total Emissions from Electrification (Column R * 96 g C02)\": 0.2770303622, \"Emissions from Electrified Fleet (96g CO2e/mi)\": null, \"Emissions from Electrified Fleet, 50% Decarbonized Grid (48g CO2e/mi)\": null, \"Emissions from Electrified Fleet, Peak Carbon Intensity (132g CO2e/mi)\": null, \"Emission Scope\": \"Scope 1\", \"Activity Amount\": 228.0, \"Unnamed: 24\": null, \"Supplier\": null, \"Scope 2L Supplier\": null, \"Description\": \"Used mostly for chipping wood. Per 7/31/19 email from Alisha Morin. Entered 8/16/19 by Cheryl Greenwald.\", \"Output Type\": \"CO2e\", \"Output Amount\": 2.32, \"Output Amount Unit\": \"tonnes\", \"Amount - Estimated\": false, \"Amount Estimation Description\": null, \"Meter or Ref. No.\": null, \"Acct. No.\": null, \"City\": \"Petersham\", \"EPA Facility\": \"Unassociated\", \"Root Number\": 4153.0, \"Building Number\": 466.0, \"University-wide GHG Status\": \"Baseline\", \"Campus\": \"Forest\", \"School-Level GHG Status\": \"Baseline\"}, {\"Organization Period\": \"CY 2019\", \"Org Unit Name\": \"HF: Shaler Hall (04183; B-467)\", \"Time\": 2019.0, \"Type\": \"Gasoline\", \"Amount\": 2750.995, \"Output\": 24.74, \"From Date\": \"2019-04-01T00:00:00\", \"To Date\": \"2019-04-30T00:00:00\", \"Level 1\": \"Harvard Operational Control\", \"Level 2\": \"Faculty of Arts and Sciences\", \"Level 3\": \"370-FCOR\", \"Level 4\": \"HF: Forest Teaching and Research Roll Up (04180; B-04180)\", \"Level 5\": \"HF: Shaler Hall (04183; B-467)\", \"Activity Category\": \"Mobile Combustion\", \"Activity Unit\": \"US gallons\", \"Activity Type\": \"GASOLINE_MV\", \"Vehicle MPG\": 15.859, \"Total Miles Traveled  (Vehicle MPG * Activity Amount)\": 3544.756103, \"tons of CO2 Total Emissions from Electrification (Column R * 96 g C02)\": 31.42416215, \"Emissions from Electrified Fleet (96g CO2e/mi)\": 35.40434669, \"Emissions from Electrified Fleet, 50% Decarbonized Grid (48g CO2e/mi)\": 17.70217334, \"Emissions from Electrified Fleet, Peak Carbon Intensity (132g CO2e/mi)\": 48.6809767, \"Emission Scope\": \"Scope 1\", \"Activity Amount\": 223.517, \"Unnamed: 24\": 90287.095, \"Supplier\": null, \"Scope 2L Supplier\": null, \"Description\": \"Per 7/31/19 email from Alisha Morin. Entered 8/16/19 by Cheryl Greenwald.\", \"Output Type\": \"CO2e\", \"Output Amount\": 2.01, \"Output Amount Unit\": \"tonnes\", \"Amount - Estimated\": false, \"Amount Estimation Description\": null, \"Meter or Ref. No.\": null, \"Acct. No.\": null, \"City\": \"Petersham\", \"EPA Facility\": \"Unassociated\", \"Root Number\": 4183.0, \"Building Number\": 467.0, \"University-wide GHG Status\": \"Baseline\", \"Campus\": \"Forest\", \"School-Level GHG Status\": \"Baseline\"}, {\"Organization Period\": \"CY 2019\", \"Org Unit Name\": \"HF: Shaler Hall (04183; B-467)\", \"Time\": null, \"Type\": null, \"Amount\": null, \"Output\": null, \"From Date\": \"2019-08-01T00:00:00\", \"To Date\": \"2019-08-31T00:00:00\", \"Level 1\": \"Harvard Operational Control\", \"Level 2\": \"Faculty of Arts and Sciences\", \"Level 3\": \"370-FCOR\", \"Level 4\": \"HF: Forest Teaching and Research Roll Up (04180; B-04180)\", \"Level 5\": \"HF: Shaler Hall (04183; B-467)\", \"Activity Category\": \"Mobile Combustion\", \"Activity Unit\": \"US gallons\", \"Activity Type\": \"GASOLINE_MV\", \"Vehicle MPG\": 15.859, \"Total Miles Traveled  (Vehicle MPG * Activity Amount)\": 4152.108226, \"tons of CO2 Total Emissions from Electrification (Column R * 96 g C02)\": 0.4393834002, \"Emissions from Electrified Fleet (96g CO2e/mi)\": null, \"Emissions from Electrified Fleet, 50% Decarbonized Grid (48g CO2e/mi)\": null, \"Emissions from Electrified Fleet, Peak Carbon Intensity (132g CO2e/mi)\": null, \"Emission Scope\": \"Scope 1\", \"Activity Amount\": 261.814, \"Unnamed: 24\": null, \"Supplier\": null, \"Scope 2L Supplier\": null, \"Description\": \"Per 2/7/20 email from Diona Laford. Entered 2/20/20 by Cheryl Greenwald.\", \"Output Type\": \"CO2e\", \"Output Amount\": 2.35, \"Output Amount Unit\": \"tonnes\", \"Amount - Estimated\": false, \"Amount Estimation Description\": null, \"Meter or Ref. No.\": null, \"Acct. No.\": null, \"City\": \"Petersham\", \"EPA Facility\": \"Unassociated\", \"Root Number\": 4183.0, \"Building Number\": 467.0, \"University-wide GHG Status\": \"Baseline\", \"Campus\": \"Forest\", \"School-Level GHG Status\": \"Baseline\"}, {\"Organization Period\": \"CY 2019\", \"Org Unit Name\": \"HF: Shaler Hall (04183; B-467)\", \"Time\": null, \"Type\": null, \"Amount\": null, \"Output\": null, \"From Date\": \"2019-12-01T00:00:00\", \"To Date\": \"2019-12-31T00:00:00\", \"Level 1\": \"Harvard Operational Control\", \"Level 2\": \"Faculty of Arts and Sciences\", \"Level 3\": \"370-FCOR\", \"Level 4\": \"HF: Forest Teaching and Research Roll Up (04180; B-04180)\", \"Level 5\": \"HF: Shaler Hall (04183; B-467)\", \"Activity Category\": \"Mobile Combustion\", \"Activity Unit\": \"US gallons\", \"Activity Type\": \"GASOLINE_MV\", \"Vehicle MPG\": 15.859, \"Total Miles Traveled  (Vehicle MPG * Activity Amount)\": 3610.015888, \"tons of CO2 Total Emissions from Electrification (Column R * 96 g C02)\": 0.3820182349, \"Emissions from Electrified Fleet (96g CO2e/mi)\": null, \"Emissions from Electrified Fleet, 50% Decarbonized Grid (48g CO2e/mi)\": null, \"Emissions from Electrified Fleet, Peak Carbon Intensity (132g CO2e/mi)\": null, \"Emission Scope\": \"Scope 1\", \"Activity Amount\": 227.632, \"Unnamed: 24\": null, \"Supplier\": null, \"Scope 2L Supplier\": null, \"Description\": \"Per 2/7/20 email from Diona Laford. Entered 2/20/20 by Cheryl Greenwald.\", \"Output Type\": \"CO2e\", \"Output Amount\": 2.05, \"Output Amount Unit\": \"tonnes\", \"Amount - Estimated\": false, \"Amount Estimation Description\": null, \"Meter or Ref. No.\": null, \"Acct. No.\": null, \"City\": \"Petersham\", \"EPA Facility\": \"Unassociated\", \"Root Number\": 4183.0, \"Building Number\": 467.0, \"University-wide GHG Status\": \"Baseline\", \"Campus\": \"Forest\", \"School-Level GHG Status\": \"Baseline\"}, {\"Organization Period\": \"CY 2019\", \"Org Unit Name\": \"HF: Shaler Hall (04183; B-467)\", \"Time\": null, \"Type\": null, \"Amount\": null, \"Output\": null, \"From Date\": \"2019-02-01T00:00:00\", \"To Date\": \"2019-02-28T00:00:00\", \"Level 1\": \"Harvard Operational Control\", \"Level 2\": \"Faculty of Arts and Sciences\", \"Level 3\": \"370-FCOR\", \"Level 4\": \"HF: Forest Teaching and Research Roll Up (04180; B-04180)\", \"Level 5\": \"HF: Shaler Hall (04183; B-467)\", \"Activity Category\": \"Mobile Combustion\", \"Activity Unit\": \"US gallons\", \"Activity Type\": \"GASOLINE_MV\", \"Vehicle MPG\": 15.859, \"Total Miles Traveled  (Vehicle MPG * Activity Amount)\": 3582.040612, \"tons of CO2 Total Emissions from Electrification (Column R * 96 g C02)\": 0.379057842, \"Emissions from Electrified Fleet (96g CO2e/mi)\": null, \"Emissions from Electrified Fleet, 50% Decarbonized Grid (48g CO2e/mi)\": null, \"Emissions from Electrified Fleet, Peak Carbon Intensity (132g CO2e/mi)\": null, \"Emission Scope\": \"Scope 1\", \"Activity Amount\": 225.868, \"Unnamed: 24\": null, \"Supplier\": null, \"Scope 2L Supplier\": null, \"Description\": \"Per 7/31/19 email from Alisha Morin. Entered 8/16/19 by Cheryl Greenwald.\", \"Output Type\": \"CO2e\", \"Output Amount\": 2.03, \"Output Amount Unit\": \"tonnes\", \"Amount - Estimated\": false, \"Amount Estimation Description\": null, \"Meter or Ref. No.\": null, \"Acct. No.\": null, \"City\": \"Petersham\", \"EPA Facility\": \"Unassociated\", \"Root Number\": 4183.0, \"Building Number\": 467.0, \"University-wide GHG Status\": \"Baseline\", \"Campus\": \"Forest\", \"School-Level GHG Status\": \"Baseline\"}, {\"Organization Period\": \"CY 2019\", \"Org Unit Name\": \"HF: Shaler Hall (04183; B-467)\", \"Time\": null, \"Type\": null, \"Amount\": null, \"Output\": null, \"From Date\": \"2019-01-01T00:00:00\", \"To Date\": \"2019-01-30T00:00:00\", \"Level 1\": \"Harvard Operational Control\", \"Level 2\": \"Faculty of Arts and Sciences\", \"Level 3\": \"370-FCOR\", \"Level 4\": \"HF: Forest Teaching and Research Roll Up (04180; B-04180)\", \"Level 5\": \"HF: Shaler Hall (04183; B-467)\", \"Activity Category\": \"Mobile Combustion\", \"Activity Unit\": \"US gallons\", \"Activity Type\": \"GASOLINE_MV\", \"Vehicle MPG\": 15.859, \"Total Miles Traveled  (Vehicle MPG * Activity Amount)\": 3594.886402, \"tons of CO2 Total Emissions from Electrification (Column R * 96 g C02)\": 0.3804172061, \"Emissions from Electrified Fleet (96g CO2e/mi)\": null, \"Emissions from Electrified Fleet, 50% Decarbonized Grid (48g CO2e/mi)\": null, \"Emissions from Electrified Fleet, Peak Carbon Intensity (132g CO2e/mi)\": null, \"Emission Scope\": \"Scope 1\", \"Activity Amount\": 226.678, \"Unnamed: 24\": null, \"Supplier\": null, \"Scope 2L Supplier\": null, \"Description\": \"Per 7/31/19 email from Alisha Morin. Entered 8/16/19 by Cheryl Greenwald.\", \"Output Type\": \"CO2e\", \"Output Amount\": 2.04, \"Output Amount Unit\": \"tonnes\", \"Amount - Estimated\": false, \"Amount Estimation Description\": null, \"Meter or Ref. No.\": null, \"Acct. No.\": null, \"City\": \"Petersham\", \"EPA Facility\": \"Unassociated\", \"Root Number\": 4183.0, \"Building Number\": 467.0, \"University-wide GHG Status\": \"Baseline\", \"Campus\": \"Forest\", \"School-Level GHG Status\": \"Baseline\"}, {\"Organization Period\": \"CY 2019\", \"Org Unit Name\": \"HF: Shaler Hall (04183; B-467)\", \"Time\": null, \"Type\": null, \"Amount\": null, \"Output\": null, \"From Date\": \"2019-07-01T00:00:00\", \"To Date\": \"2019-07-31T00:00:00\", \"Level 1\": \"Harvard Operational Control\", \"Level 2\": \"Faculty of Arts and Sciences\", \"Level 3\": \"370-FCOR\", \"Level 4\": \"HF: Forest Teaching and Research Roll Up (04180; B-04180)\", \"Level 5\": \"HF: Shaler Hall (04183; B-467)\", \"Activity Category\": \"Mobile Combustion\", \"Activity Unit\": \"US gallons\", \"Activity Type\": \"GASOLINE_MV\", \"Vehicle MPG\": 15.859, \"Total Miles Traveled  (Vehicle MPG * Activity Amount)\": 4475.25121, \"tons of CO2 Total Emissions from Electrification (Column R * 96 g C02)\": 0.4735789595, \"Emissions from Electrified Fleet (96g CO2e/mi)\": null, \"Emissions from Electrified Fleet, 50% Decarbonized Grid (48g CO2e/mi)\": null, \"Emissions from Electrified Fleet, Peak Carbon Intensity (132g CO2e/mi)\": null, \"Emission Scope\": \"Scope 1\", \"Activity Amount\": 282.19, \"Unnamed: 24\": null, \"Supplier\": null, \"Scope 2L Supplier\": null, \"Description\": \"Per 2/7/20 email from Diona Laford. Entered 2/20/20 by Cheryl Greenwald.\", \"Output Type\": \"CO2e\", \"Output Amount\": 2.54, \"Output Amount Unit\": \"tonnes\", \"Amount - Estimated\": false, \"Amount Estimation Description\": null, \"Meter or Ref. No.\": null, \"Acct. No.\": null, \"City\": \"Petersham\", \"EPA Facility\": \"Unassociated\", \"Root Number\": 4183.0, \"Building Number\": 467.0, \"University-wide GHG Status\": \"Baseline\", \"Campus\": \"Forest\", \"School-Level GHG Status\": \"Baseline\"}, {\"Organization Period\": \"CY 2019\", \"Org Unit Name\": \"HF: Shaler Hall (04183; B-467)\", \"Time\": null, \"Type\": null, \"Amount\": null, \"Output\": null, \"From Date\": \"2019-06-01T00:00:00\", \"To Date\": \"2019-06-30T00:00:00\", \"Level 1\": \"Harvard Operational Control\", \"Level 2\": \"Faculty of Arts and Sciences\", \"Level 3\": \"370-FCOR\", \"Level 4\": \"HF: Forest Teaching and Research Roll Up (04180; B-04180)\", \"Level 5\": \"HF: Shaler Hall (04183; B-467)\", \"Activity Category\": \"Mobile Combustion\", \"Activity Unit\": \"US gallons\", \"Activity Type\": \"GASOLINE_MV\", \"Vehicle MPG\": 15.859, \"Total Miles Traveled  (Vehicle MPG * Activity Amount)\": 3556.475904, \"tons of CO2 Total Emissions from Electrification (Column R * 96 g C02)\": 0.3763525396, \"Emissions from Electrified Fleet (96g CO2e/mi)\": null, \"Emissions from Electrified Fleet, 50% Decarbonized Grid (48g CO2e/mi)\": null, \"Emissions from Electrified Fleet, Peak Carbon Intensity (132g CO2e/mi)\": null, \"Emission Scope\": \"Scope 1\", \"Activity Amount\": 224.256, \"Unnamed: 24\": null, \"Supplier\": null, \"Scope 2L Supplier\": null, \"Description\": \"Per 7/31/19 email from Alisha Morin. Entered 8/16/19 by Cheryl Greenwald.\", \"Output Type\": \"CO2e\", \"Output Amount\": 2.02, \"Output Amount Unit\": \"tonnes\", \"Amount - Estimated\": false, \"Amount Estimation Description\": null, \"Meter or Ref. No.\": null, \"Acct. No.\": null, \"City\": \"Petersham\", \"EPA Facility\": \"Unassociated\", \"Root Number\": 4183.0, \"Building Number\": 467.0, \"University-wide GHG Status\": \"Baseline\", \"Campus\": \"Forest\", \"School-Level GHG Status\": \"Baseline\"}, {\"Organization Period\": \"CY 2019\", \"Org Unit Name\": \"HF: Shaler Hall (04183; B-467)\", \"Time\": null, \"Type\": null, \"Amount\": null, \"Output\": null, \"From Date\": \"2019-03-01T00:00:00\", \"To Date\": \"2019-03-31T00:00:00\", \"Level 1\": \"Harvard Operational Control\", \"Level 2\": \"Faculty of Arts and Sciences\", \"Level 3\": \"370-FCOR\", \"Level 4\": \"HF: Forest Teaching and Research Roll Up (04180; B-04180)\", \"Level 5\": \"HF: Shaler Hall (04183; B-467)\", \"Activity Category\": \"Mobile Combustion\", \"Activity Unit\": \"US gallons\", \"Activity Type\": \"GASOLINE_MV\", \"Vehicle MPG\": 15.859, \"Total Miles Traveled  (Vehicle MPG * Activity Amount)\": 5747.238164, \"tons of CO2 Total Emissions from Electrification (Column R * 96 g C02)\": 0.6081828577, \"Emissions from Electrified Fleet (96g CO2e/mi)\": null, \"Emissions from Electrified Fleet, 50% Decarbonized Grid (48g CO2e/mi)\": null, \"Emissions from Electrified Fleet, Peak Carbon Intensity (132g CO2e/mi)\": null, \"Emission Scope\": \"Scope 1\", \"Activity Amount\": 362.396, \"Unnamed: 24\": null, \"Supplier\": null, \"Scope 2L Supplier\": null, \"Description\": \"Per 7/31/19 email from Alisha Morin. Entered 8/16/19 by Cheryl Greenwald.\", \"Output Type\": \"CO2e\", \"Output Amount\": 3.26, \"Output Amount Unit\": \"tonnes\", \"Amount - Estimated\": false, \"Amount Estimation Description\": null, \"Meter or Ref. No.\": null, \"Acct. No.\": null, \"City\": \"Petersham\", \"EPA Facility\": \"Unassociated\", \"Root Number\": 4183.0, \"Building Number\": 467.0, \"University-wide GHG Status\": \"Baseline\", \"Campus\": \"Forest\", \"School-Level GHG Status\": \"Baseline\"}, {\"Organization Period\": \"CY 2019\", \"Org Unit Name\": \"HF: Shaler Hall (04183; B-467)\", \"Time\": null, \"Type\": null, \"Amount\": null, \"Output\": null, \"From Date\": \"2019-05-01T00:00:00\", \"To Date\": \"2019-05-31T00:00:00\", \"Level 1\": \"Harvard Operational Control\", \"Level 2\": \"Faculty of Arts and Sciences\", \"Level 3\": \"370-FCOR\", \"Level 4\": \"HF: Forest Teaching and Research Roll Up (04180; B-04180)\", \"Level 5\": \"HF: Shaler Hall (04183; B-467)\", \"Activity Category\": \"Mobile Combustion\", \"Activity Unit\": \"US gallons\", \"Activity Type\": \"GASOLINE_MV\", \"Vehicle MPG\": 15.859, \"Total Miles Traveled  (Vehicle MPG * Activity Amount)\": 4286.227789, \"tons of CO2 Total Emissions from Electrification (Column R * 96 g C02)\": 0.4535761684, \"Emissions from Electrified Fleet (96g CO2e/mi)\": null, \"Emissions from Electrified Fleet, 50% Decarbonized Grid (48g CO2e/mi)\": null, \"Emissions from Electrified Fleet, Peak Carbon Intensity (132g CO2e/mi)\": null, \"Emission Scope\": \"Scope 1\", \"Activity Amount\": 270.271, \"Unnamed: 24\": null, \"Supplier\": null, \"Scope 2L Supplier\": null, \"Description\": \"Per 7/31/19 email from Alisha Morin. Entered 8/16/19 by Cheryl Greenwald.\", \"Output Type\": \"CO2e\", \"Output Amount\": 2.43, \"Output Amount Unit\": \"tonnes\", \"Amount - Estimated\": false, \"Amount Estimation Description\": null, \"Meter or Ref. No.\": null, \"Acct. No.\": null, \"City\": \"Petersham\", \"EPA Facility\": \"Unassociated\", \"Root Number\": 4183.0, \"Building Number\": 467.0, \"University-wide GHG Status\": \"Baseline\", \"Campus\": \"Forest\", \"School-Level GHG Status\": \"Baseline\"}, {\"Organization Period\": \"CY 2019\", \"Org Unit Name\": \"HF: Shaler Hall (04183; B-467)\", \"Time\": null, \"Type\": null, \"Amount\": null, \"Output\": null, \"From Date\": \"2019-11-01T00:00:00\", \"To Date\": \"2019-11-30T00:00:00\", \"Level 1\": \"Harvard Operational Control\", \"Level 2\": \"Faculty of Arts and Sciences\", \"Level 3\": \"370-FCOR\", \"Level 4\": \"HF: Forest Teaching and Research Roll Up (04180; B-04180)\", \"Level 5\": \"HF: Shaler Hall (04183; B-467)\", \"Activity Category\": \"Mobile Combustion\", \"Activity Unit\": \"US gallons\", \"Activity Type\": \"GASOLINE_MV\", \"Vehicle MPG\": 15.859, \"Total Miles Traveled  (Vehicle MPG * Activity Amount)\": 1374.531248, \"tons of CO2 Total Emissions from Electrification (Column R * 96 g C02)\": 0.1454553158, \"Emissions from Electrified Fleet (96g CO2e/mi)\": null, \"Emissions from Electrified Fleet, 50% Decarbonized Grid (48g CO2e/mi)\": null, \"Emissions from Electrified Fleet, Peak Carbon Intensity (132g CO2e/mi)\": null, \"Emission Scope\": \"Scope 1\", \"Activity Amount\": 86.672, \"Unnamed: 24\": null, \"Supplier\": null, \"Scope 2L Supplier\": null, \"Description\": \"Per 2/7/20 email from Diona Laford. Entered 2/20/20 by Cheryl Greenwald.\", \"Output Type\": \"CO2e\", \"Output Amount\": 0.78, \"Output Amount Unit\": \"tonnes\", \"Amount - Estimated\": false, \"Amount Estimation Description\": null, \"Meter or Ref. No.\": null, \"Acct. No.\": null, \"City\": \"Petersham\", \"EPA Facility\": \"Unassociated\", \"Root Number\": 4183.0, \"Building Number\": 467.0, \"University-wide GHG Status\": \"Baseline\", \"Campus\": \"Forest\", \"School-Level GHG Status\": \"Baseline\"}, {\"Organization Period\": \"CY 2019\", \"Org Unit Name\": \"HF: Shaler Hall (04183; B-467)\", \"Time\": null, \"Type\": null, \"Amount\": null, \"Output\": null, \"From Date\": \"2019-10-01T00:00:00\", \"To Date\": \"2019-10-31T00:00:00\", \"Level 1\": \"Harvard Operational Control\", \"Level 2\": \"Faculty of Arts and Sciences\", \"Level 3\": \"370-FCOR\", \"Level 4\": \"HF: Forest Teaching and Research Roll Up (04180; B-04180)\", \"Level 5\": \"HF: Shaler Hall (04183; B-467)\", \"Activity Category\": \"Mobile Combustion\", \"Activity Unit\": \"US gallons\", \"Activity Type\": \"GASOLINE_MV\", \"Vehicle MPG\": 15.859, \"Total Miles Traveled  (Vehicle MPG * Activity Amount)\": 3233.380497, \"tons of CO2 Total Emissions from Electrification (Column R * 96 g C02)\": 0.3421620149, \"Emissions from Electrified Fleet (96g CO2e/mi)\": null, \"Emissions from Electrified Fleet, 50% Decarbonized Grid (48g CO2e/mi)\": null, \"Emissions from Electrified Fleet, Peak Carbon Intensity (132g CO2e/mi)\": null, \"Emission Scope\": \"Scope 1\", \"Activity Amount\": 203.883, \"Unnamed: 24\": null, \"Supplier\": null, \"Scope 2L Supplier\": null, \"Description\": \"Per 2/7/20 email from Diona Laford. Entered 2/20/20 by Cheryl Greenwald.\", \"Output Type\": \"CO2e\", \"Output Amount\": 1.83, \"Output Amount Unit\": \"tonnes\", \"Amount - Estimated\": false, \"Amount Estimation Description\": null, \"Meter or Ref. No.\": null, \"Acct. No.\": null, \"City\": \"Petersham\", \"EPA Facility\": \"Unassociated\", \"Root Number\": 4183.0, \"Building Number\": 467.0, \"University-wide GHG Status\": \"Baseline\", \"Campus\": \"Forest\", \"School-Level GHG Status\": \"Baseline\"}, {\"Organization Period\": \"CY 2019\", \"Org Unit Name\": \"HF: Shaler Hall (04183; B-467)\", \"Time\": null, \"Type\": null, \"Amount\": null, \"Output\": null, \"From Date\": \"2019-09-01T00:00:00\", \"To Date\": \"2019-09-30T00:00:00\", \"Level 1\": \"Harvard Operational Control\", \"Level 2\": \"Faculty of Arts and Sciences\", \"Level 3\": \"370-FCOR\", \"Level 4\": \"HF: Forest Teaching and Research Roll Up (04180; B-04180)\", \"Level 5\": \"HF: Shaler Hall (04183; B-467)\", \"Activity Category\": \"Mobile Combustion\", \"Activity Unit\": \"US gallons\", \"Activity Type\": \"GASOLINE_MV\", \"Vehicle MPG\": 15.859, \"Total Miles Traveled  (Vehicle MPG * Activity Amount)\": 2471.117662, \"tons of CO2 Total Emissions from Electrification (Column R * 96 g C02)\": 0.2614980202, \"Emissions from Electrified Fleet (96g CO2e/mi)\": null, \"Emissions from Electrified Fleet, 50% Decarbonized Grid (48g CO2e/mi)\": null, \"Emissions from Electrified Fleet, Peak Carbon Intensity (132g CO2e/mi)\": null, \"Emission Scope\": \"Scope 1\", \"Activity Amount\": 155.818, \"Unnamed: 24\": null, \"Supplier\": null, \"Scope 2L Supplier\": null, \"Description\": \"Per 2/7/20 email from Diona Laford. Entered 2/20/20 by Cheryl Greenwald.\", \"Output Type\": \"CO2e\", \"Output Amount\": 1.4, \"Output Amount Unit\": \"tonnes\", \"Amount - Estimated\": false, \"Amount Estimation Description\": null, \"Meter or Ref. No.\": null, \"Acct. No.\": null, \"City\": \"Petersham\", \"EPA Facility\": \"Unassociated\", \"Root Number\": 4183.0, \"Building Number\": 467.0, \"University-wide GHG Status\": \"Baseline\", \"Campus\": \"Forest\", \"School-Level GHG Status\": \"Baseline\"}, {\"Organization Period\": \"CY 2019\", \"Org Unit Name\": \"Maintenance Building (00015; B-137)\", \"Time\": 2019.0, \"Type\": \"Diesel\", \"Amount\": 9315.1, \"Output\": 94.72, \"From Date\": \"2019-01-01T00:00:00\", \"To Date\": \"2019-06-30T00:00:00\", \"Level 1\": \"Harvard Operational Control\", \"Level 2\": \"Campus Services\", \"Level 3\": \"100-ARB\", \"Level 4\": \"Maintenance Building (00015; B-137)\", \"Level 5\": null, \"Activity Category\": \"Mobile Combustion\", \"Activity Unit\": \"US gallons\", \"Activity Type\": \"DIESEL_MV\", \"Vehicle MPG\": 11.482, \"Total Miles Traveled  (Vehicle MPG * Activity Amount)\": 44784.3928, \"tons of CO2 Total Emissions from Electrification (Column R * 96 g C02)\": 4.739163267, \"Emissions from Electrified Fleet (96g CO2e/mi)\": 11.31826986, \"Emissions from Electrified Fleet, 50% Decarbonized Grid (48g CO2e/mi)\": 5.659134928, \"Emissions from Electrified Fleet, Peak Carbon Intensity (132g CO2e/mi)\": 15.56262105, \"Emission Scope\": \"Scope 1\", \"Activity Amount\": 3900.4, \"Unnamed: 24\": null, \"Supplier\": null, \"Scope 2L Supplier\": null, \"Description\": \"Per 7/25/19 email from Deb Smith. Entered 7/25/19 by Cheryl Greenwald.\", \"Output Type\": \"CO2e\", \"Output Amount\": 39.66, \"Output Amount Unit\": \"tonnes\", \"Amount - Estimated\": false, \"Amount Estimation Description\": null, \"Meter or Ref. No.\": null, \"Acct. No.\": null, \"City\": \"Jamaica Plain\", \"EPA Facility\": \"Unassociated\", \"Root Number\": 15.0, \"Building Number\": 137.0, \"University-wide GHG Status\": \"Baseline\", \"Campus\": \"Arboretum\", \"School-Level GHG Status\": \"Baseline\"}, {\"Organization Period\": \"CY 2019\", \"Org Unit Name\": \"Maintenance Building (00015; B-137)\", \"Time\": null, \"Type\": null, \"Amount\": null, \"Output\": null, \"From Date\": \"2019-07-01T00:00:00\", \"To Date\": \"2019-12-31T00:00:00\", \"Level 1\": \"Harvard Operational Control\", \"Level 2\": \"Campus Services\", \"Level 3\": \"100-ARB\", \"Level 4\": \"Maintenance Building (00015; B-137)\", \"Level 5\": null, \"Activity Category\": \"Mobile Combustion\", \"Activity Unit\": \"US gallons\", \"Activity Type\": \"DIESEL_MV\", \"Vehicle MPG\": 11.482, \"Total Miles Traveled  (Vehicle MPG * Activity Amount)\": 62171.5854, \"tons of CO2 Total Emissions from Electrification (Column R * 96 g C02)\": 6.579106589, \"Emissions from Electrified Fleet (96g CO2e/mi)\": null, \"Emissions from Electrified Fleet, 50% Decarbonized Grid (48g CO2e/mi)\": null, \"Emissions from Electrified Fleet, Peak Carbon Intensity (132g CO2e/mi)\": null, \"Emission Scope\": \"Scope 1\", \"Activity Amount\": 5414.7, \"Unnamed: 24\": null, \"Supplier\": null, \"Scope 2L Supplier\": null, \"Description\": \"Per 2/6/20 email from Deb Smith. Entered 2/7/20 by Cheryl Greenwald.\", \"Output Type\": \"CO2e\", \"Output Amount\": 55.06, \"Output Amount Unit\": \"tonnes\", \"Amount - Estimated\": false, \"Amount Estimation Description\": null, \"Meter or Ref. No.\": null, \"Acct. No.\": null, \"City\": \"Jamaica Plain\", \"EPA Facility\": \"Unassociated\", \"Root Number\": 15.0, \"Building Number\": 137.0, \"University-wide GHG Status\": \"Baseline\", \"Campus\": \"Arboretum\", \"School-Level GHG Status\": \"Baseline\"}, {\"Organization Period\": \"CY 2019\", \"Org Unit Name\": \"Mobile Vehicle - Dennis K Burke\", \"Time\": 2019.0, \"Type\": \"Biodiesel\", \"Amount\": 67884.0, \"Output\": 127.54, \"From Date\": \"2019-04-01T00:00:00\", \"To Date\": \"2019-04-30T00:00:00\", \"Level 1\": \"Harvard Operational Control\", \"Level 2\": \"CS - Transportation\", \"Level 3\": \"180-Transportation\", \"Level 4\": \"Mobile Vehicle - Dennis K Burke\", \"Level 5\": null, \"Activity Category\": \"Mobile Combustion\", \"Activity Unit\": \"US gallons\", \"Activity Type\": \"BIOD20\", \"Vehicle MPG\": 11.482, \"Total Miles Traveled  (Vehicle MPG * Activity Amount)\": 79696.562, \"tons of CO2 Total Emissions from Electrification (Column R * 96 g C02)\": 8.433630457, \"Emissions from Electrified Fleet (96g CO2e/mi)\": 82.48214521, \"Emissions from Electrified Fleet, 50% Decarbonized Grid (48g CO2e/mi)\": 41.24107261, \"Emissions from Electrified Fleet, Peak Carbon Intensity (132g CO2e/mi)\": 113.4129497, \"Emission Scope\": \"Scope 1\", \"Activity Amount\": 6941.0, \"Unnamed: 24\": 67884.0, \"Supplier\": null, \"Scope 2L Supplier\": null, \"Description\": \"Per 7/25/19 email from Denise Byrne. Entered 7/25/19 by Cheryl Greenwald.\", \"Output Type\": \"CO2e\", \"Output Amount\": 13.04, \"Output Amount Unit\": \"tonnes\", \"Amount - Estimated\": false, \"Amount Estimation Description\": null, \"Meter or Ref. No.\": null, \"Acct. No.\": null, \"City\": null, \"EPA Facility\": \"Cambridge/Allston AQ:1190092\", \"Root Number\": null, \"Building Number\": null, \"University-wide GHG Status\": \"Baseline\", \"Campus\": \"Cambridge\", \"School-Level GHG Status\": \"Baseline\"}, {\"Organization Period\": \"CY 2019\", \"Org Unit Name\": \"Mobile Vehicle - Dennis K Burke\", \"Time\": null, \"Type\": null, \"Amount\": null, \"Output\": null, \"From Date\": \"2019-08-01T00:00:00\", \"To Date\": \"2019-08-31T00:00:00\", \"Level 1\": \"Harvard Operational Control\", \"Level 2\": \"CS - Transportation\", \"Level 3\": \"180-Transportation\", \"Level 4\": \"Mobile Vehicle - Dennis K Burke\", \"Level 5\": null, \"Activity Category\": \"Mobile Combustion\", \"Activity Unit\": \"US gallons\", \"Activity Type\": \"BIOD20\", \"Vehicle MPG\": 11.482, \"Total Miles Traveled  (Vehicle MPG * Activity Amount)\": 38992.872, \"tons of CO2 Total Emissions from Electrification (Column R * 96 g C02)\": 4.126294342, \"Emissions from Electrified Fleet (96g CO2e/mi)\": null, \"Emissions from Electrified Fleet, 50% Decarbonized Grid (48g CO2e/mi)\": null, \"Emissions from Electrified Fleet, Peak Carbon Intensity (132g CO2e/mi)\": null, \"Emission Scope\": \"Scope 1\", \"Activity Amount\": 3396.0, \"Unnamed: 24\": null, \"Supplier\": null, \"Scope 2L Supplier\": null, \"Description\": \"Per 2/3/20 email from Denise Byrne. Entered 2/13/20 by Cheryl Greenwald.\", \"Output Type\": \"CO2e\", \"Output Amount\": 6.38, \"Output Amount Unit\": \"tonnes\", \"Amount - Estimated\": false, \"Amount Estimation Description\": null, \"Meter or Ref. No.\": null, \"Acct. No.\": null, \"City\": null, \"EPA Facility\": \"Cambridge/Allston AQ:1190092\", \"Root Number\": null, \"Building Number\": null, \"University-wide GHG Status\": \"Baseline\", \"Campus\": \"Cambridge\", \"School-Level GHG Status\": \"Baseline\"}, {\"Organization Period\": \"CY 2019\", \"Org Unit Name\": \"Mobile Vehicle - Dennis K Burke\", \"Time\": null, \"Type\": null, \"Amount\": null, \"Output\": null, \"From Date\": \"2019-12-01T00:00:00\", \"To Date\": \"2019-12-31T00:00:00\", \"Level 1\": \"Harvard Operational Control\", \"Level 2\": \"CS - Transportation\", \"Level 3\": \"180-Transportation\", \"Level 4\": \"Mobile Vehicle - Dennis K Burke\", \"Level 5\": null, \"Activity Category\": \"Mobile Combustion\", \"Activity Unit\": \"US gallons\", \"Activity Type\": \"BIOD20\", \"Vehicle MPG\": 11.482, \"Total Miles Traveled  (Vehicle MPG * Activity Amount)\": 57926.69, \"tons of CO2 Total Emissions from Electrification (Column R * 96 g C02)\": 6.129904287, \"Emissions from Electrified Fleet (96g CO2e/mi)\": null, \"Emissions from Electrified Fleet, 50% Decarbonized Grid (48g CO2e/mi)\": null, \"Emissions from Electrified Fleet, Peak Carbon Intensity (132g CO2e/mi)\": null, \"Emission Scope\": \"Scope 1\", \"Activity Amount\": 5045.0, \"Unnamed: 24\": null, \"Supplier\": null, \"Scope 2L Supplier\": null, \"Description\": \"Per 2/3/20 email from Denise Byrne. Entered 2/13/20 by Cheryl Greenwald.\", \"Output Type\": \"CO2e\", \"Output Amount\": 9.48, \"Output Amount Unit\": \"tonnes\", \"Amount - Estimated\": false, \"Amount Estimation Description\": null, \"Meter or Ref. No.\": null, \"Acct. No.\": null, \"City\": null, \"EPA Facility\": \"Cambridge/Allston AQ:1190092\", \"Root Number\": null, \"Building Number\": null, \"University-wide GHG Status\": \"Baseline\", \"Campus\": \"Cambridge\", \"School-Level GHG Status\": \"Baseline\"}, {\"Organization Period\": \"CY 2019\", \"Org Unit Name\": \"Mobile Vehicle - Dennis K Burke\", \"Time\": null, \"Type\": null, \"Amount\": null, \"Output\": null, \"From Date\": \"2019-02-01T00:00:00\", \"To Date\": \"2019-02-28T00:00:00\", \"Level 1\": \"Harvard Operational Control\", \"Level 2\": \"CS - Transportation\", \"Level 3\": \"180-Transportation\", \"Level 4\": \"Mobile Vehicle - Dennis K Burke\", \"Level 5\": null, \"Activity Category\": \"Mobile Combustion\", \"Activity Unit\": \"US gallons\", \"Activity Type\": \"BIOD20\", \"Vehicle MPG\": 11.482, \"Total Miles Traveled  (Vehicle MPG * Activity Amount)\": 71613.234, \"tons of CO2 Total Emissions from Electrification (Column R * 96 g C02)\": 7.578238461, \"Emissions from Electrified Fleet (96g CO2e/mi)\": null, \"Emissions from Electrified Fleet, 50% Decarbonized Grid (48g CO2e/mi)\": null, \"Emissions from Electrified Fleet, Peak Carbon Intensity (132g CO2e/mi)\": null, \"Emission Scope\": \"Scope 1\", \"Activity Amount\": 6237.0, \"Unnamed: 24\": null, \"Supplier\": null, \"Scope 2L Supplier\": null, \"Description\": \"Per 7/25/19 email from Denise Byrne. Entered 7/25/19 by Cheryl Greenwald.\", \"Output Type\": \"CO2e\", \"Output Amount\": 11.72, \"Output Amount Unit\": \"tonnes\", \"Amount - Estimated\": false, \"Amount Estimation Description\": null, \"Meter or Ref. No.\": null, \"Acct. No.\": null, \"City\": null, \"EPA Facility\": \"Cambridge/Allston AQ:1190092\", \"Root Number\": null, \"Building Number\": null, \"University-wide GHG Status\": \"Baseline\", \"Campus\": \"Cambridge\", \"School-Level GHG Status\": \"Baseline\"}, {\"Organization Period\": \"CY 2019\", \"Org Unit Name\": \"Mobile Vehicle - Dennis K Burke\", \"Time\": null, \"Type\": null, \"Amount\": null, \"Output\": null, \"From Date\": \"2019-01-01T00:00:00\", \"To Date\": \"2019-01-31T00:00:00\", \"Level 1\": \"Harvard Operational Control\", \"Level 2\": \"CS - Transportation\", \"Level 3\": \"180-Transportation\", \"Level 4\": \"Mobile Vehicle - Dennis K Burke\", \"Level 5\": null, \"Activity Category\": \"Mobile Combustion\", \"Activity Unit\": \"US gallons\", \"Activity Type\": \"BIOD20\", \"Vehicle MPG\": 11.482, \"Total Miles Traveled  (Vehicle MPG * Activity Amount)\": 51600.108, \"tons of CO2 Total Emissions from Electrification (Column R * 96 g C02)\": 5.460414245, \"Emissions from Electrified Fleet (96g CO2e/mi)\": null, \"Emissions from Electrified Fleet, 50% Decarbonized Grid (48g CO2e/mi)\": null, \"Emissions from Electrified Fleet, Peak Carbon Intensity (132g CO2e/mi)\": null, \"Emission Scope\": \"Scope 1\", \"Activity Amount\": 4494.0, \"Unnamed: 24\": null, \"Supplier\": null, \"Scope 2L Supplier\": null, \"Description\": \"Per 7/25/19 email from Denise Byrne. Entered 7/25/19 by Cheryl Greenwald.\", \"Output Type\": \"CO2e\", \"Output Amount\": 8.44, \"Output Amount Unit\": \"tonnes\", \"Amount - Estimated\": false, \"Amount Estimation Description\": null, \"Meter or Ref. No.\": null, \"Acct. No.\": null, \"City\": null, \"EPA Facility\": \"Cambridge/Allston AQ:1190092\", \"Root Number\": null, \"Building Number\": null, \"University-wide GHG Status\": \"Baseline\", \"Campus\": \"Cambridge\", \"School-Level GHG Status\": \"Baseline\"}, {\"Organization Period\": \"CY 2019\", \"Org Unit Name\": \"Mobile Vehicle - Dennis K Burke\", \"Time\": null, \"Type\": null, \"Amount\": null, \"Output\": null, \"From Date\": \"2019-07-01T00:00:00\", \"To Date\": \"2019-07-31T00:00:00\", \"Level 1\": \"Harvard Operational Control\", \"Level 2\": \"CS - Transportation\", \"Level 3\": \"180-Transportation\", \"Level 4\": \"Mobile Vehicle - Dennis K Burke\", \"Level 5\": null, \"Activity Category\": \"Mobile Combustion\", \"Activity Unit\": \"US gallons\", \"Activity Type\": \"BIOD20\", \"Vehicle MPG\": 11.482, \"Total Miles Traveled  (Vehicle MPG * Activity Amount)\": 51669.0, \"tons of CO2 Total Emissions from Electrification (Column R * 96 g C02)\": 5.467704517, \"Emissions from Electrified Fleet (96g CO2e/mi)\": null, \"Emissions from Electrified Fleet, 50% Decarbonized Grid (48g CO2e/mi)\": null, \"Emissions from Electrified Fleet, Peak Carbon Intensity (132g CO2e/mi)\": null, \"Emission Scope\": \"Scope 1\", \"Activity Amount\": 4500.0, \"Unnamed: 24\": null, \"Supplier\": null, \"Scope 2L Supplier\": null, \"Description\": \"Per 2/3/20 email from Denise Byrne. Entered 2/13/20 by Cheryl Greenwald.\", \"Output Type\": \"CO2e\", \"Output Amount\": 8.45, \"Output Amount Unit\": \"tonnes\", \"Amount - Estimated\": false, \"Amount Estimation Description\": null, \"Meter or Ref. No.\": null, \"Acct. No.\": null, \"City\": null, \"EPA Facility\": \"Cambridge/Allston AQ:1190092\", \"Root Number\": null, \"Building Number\": null, \"University-wide GHG Status\": \"Baseline\", \"Campus\": \"Cambridge\", \"School-Level GHG Status\": \"Baseline\"}, {\"Organization Period\": \"CY 2019\", \"Org Unit Name\": \"Mobile Vehicle - Dennis K Burke\", \"Time\": null, \"Type\": null, \"Amount\": null, \"Output\": null, \"From Date\": \"2019-06-01T00:00:00\", \"To Date\": \"2019-06-30T00:00:00\", \"Level 1\": \"Harvard Operational Control\", \"Level 2\": \"CS - Transportation\", \"Level 3\": \"180-Transportation\", \"Level 4\": \"Mobile Vehicle - Dennis K Burke\", \"Level 5\": null, \"Activity Category\": \"Mobile Combustion\", \"Activity Unit\": \"US gallons\", \"Activity Type\": \"BIOD20\", \"Vehicle MPG\": 11.482, \"Total Miles Traveled  (Vehicle MPG * Activity Amount)\": 22964.0, \"tons of CO2 Total Emissions from Electrification (Column R * 96 g C02)\": 2.430090897, \"Emissions from Electrified Fleet (96g CO2e/mi)\": null, \"Emissions from Electrified Fleet, 50% Decarbonized Grid (48g CO2e/mi)\": null, \"Emissions from Electrified Fleet, Peak Carbon Intensity (132g CO2e/mi)\": null, \"Emission Scope\": \"Scope 1\", \"Activity Amount\": 2000.0, \"Unnamed: 24\": null, \"Supplier\": null, \"Scope 2L Supplier\": null, \"Description\": \"Per 7/25/19 email from Denise Byrne. Entered 7/25/19 by Cheryl Greenwald.\", \"Output Type\": \"CO2e\", \"Output Amount\": 3.76, \"Output Amount Unit\": \"tonnes\", \"Amount - Estimated\": false, \"Amount Estimation Description\": null, \"Meter or Ref. No.\": null, \"Acct. No.\": null, \"City\": null, \"EPA Facility\": \"Cambridge/Allston AQ:1190092\", \"Root Number\": null, \"Building Number\": null, \"University-wide GHG Status\": \"Baseline\", \"Campus\": \"Cambridge\", \"School-Level GHG Status\": \"Baseline\"}, {\"Organization Period\": \"CY 2019\", \"Org Unit Name\": \"Mobile Vehicle - Dennis K Burke\", \"Time\": null, \"Type\": null, \"Amount\": null, \"Output\": null, \"From Date\": \"2019-03-01T00:00:00\", \"To Date\": \"2019-03-31T00:00:00\", \"Level 1\": \"Harvard Operational Control\", \"Level 2\": \"CS - Transportation\", \"Level 3\": \"180-Transportation\", \"Level 4\": \"Mobile Vehicle - Dennis K Burke\", \"Level 5\": null, \"Activity Category\": \"Mobile Combustion\", \"Activity Unit\": \"US gallons\", \"Activity Type\": \"BIOD20\", \"Vehicle MPG\": 11.482, \"Total Miles Traveled  (Vehicle MPG * Activity Amount)\": 80431.41, \"tons of CO2 Total Emissions from Electrification (Column R * 96 g C02)\": 8.511393365, \"Emissions from Electrified Fleet (96g CO2e/mi)\": null, \"Emissions from Electrified Fleet, 50% Decarbonized Grid (48g CO2e/mi)\": null, \"Emissions from Electrified Fleet, Peak Carbon Intensity (132g CO2e/mi)\": null, \"Emission Scope\": \"Scope 1\", \"Activity Amount\": 7005.0, \"Unnamed: 24\": null, \"Supplier\": null, \"Scope 2L Supplier\": null, \"Description\": \"Per 7/25/19 email from Denise Byrne. Entered 7/25/19 by Cheryl Greenwald.\", \"Output Type\": \"CO2e\", \"Output Amount\": 13.16, \"Output Amount Unit\": \"tonnes\", \"Amount - Estimated\": false, \"Amount Estimation Description\": null, \"Meter or Ref. No.\": null, \"Acct. No.\": null, \"City\": null, \"EPA Facility\": \"Cambridge/Allston AQ:1190092\", \"Root Number\": null, \"Building Number\": null, \"University-wide GHG Status\": \"Baseline\", \"Campus\": \"Cambridge\", \"School-Level GHG Status\": \"Baseline\"}, {\"Organization Period\": \"CY 2019\", \"Org Unit Name\": \"Mobile Vehicle - Dennis K Burke\", \"Time\": null, \"Type\": null, \"Amount\": null, \"Output\": null, \"From Date\": \"2019-05-01T00:00:00\", \"To Date\": \"2019-05-31T00:00:00\", \"Level 1\": \"Harvard Operational Control\", \"Level 2\": \"CS - Transportation\", \"Level 3\": \"180-Transportation\", \"Level 4\": \"Mobile Vehicle - Dennis K Burke\", \"Level 5\": null, \"Activity Category\": \"Mobile Combustion\", \"Activity Unit\": \"US gallons\", \"Activity Type\": \"BIOD20\", \"Vehicle MPG\": 11.482, \"Total Miles Traveled  (Vehicle MPG * Activity Amount)\": 65194.796, \"tons of CO2 Total Emissions from Electrification (Column R * 96 g C02)\": 6.899028056, \"Emissions from Electrified Fleet (96g CO2e/mi)\": null, \"Emissions from Electrified Fleet, 50% Decarbonized Grid (48g CO2e/mi)\": null, \"Emissions from Electrified Fleet, Peak Carbon Intensity (132g CO2e/mi)\": null, \"Emission Scope\": \"Scope 1\", \"Activity Amount\": 5678.0, \"Unnamed: 24\": null, \"Supplier\": null, \"Scope 2L Supplier\": null, \"Description\": \"Per 7/25/19 email from Denise Byrne. Entered 7/25/19 by Cheryl Greenwald.\", \"Output Type\": \"CO2e\", \"Output Amount\": 10.67, \"Output Amount Unit\": \"tonnes\", \"Amount - Estimated\": false, \"Amount Estimation Description\": null, \"Meter or Ref. No.\": null, \"Acct. No.\": null, \"City\": null, \"EPA Facility\": \"Cambridge/Allston AQ:1190092\", \"Root Number\": null, \"Building Number\": null, \"University-wide GHG Status\": \"Baseline\", \"Campus\": \"Cambridge\", \"School-Level GHG Status\": \"Baseline\"}, {\"Organization Period\": \"CY 2019\", \"Org Unit Name\": \"Mobile Vehicle - Dennis K Burke\", \"Time\": null, \"Type\": null, \"Amount\": null, \"Output\": null, \"From Date\": \"2019-11-01T00:00:00\", \"To Date\": \"2019-11-30T00:00:00\", \"Level 1\": \"Harvard Operational Control\", \"Level 2\": \"CS - Transportation\", \"Level 3\": \"180-Transportation\", \"Level 4\": \"Mobile Vehicle - Dennis K Burke\", \"Level 5\": null, \"Activity Category\": \"Mobile Combustion\", \"Activity Unit\": \"US gallons\", \"Activity Type\": \"BIOD20\", \"Vehicle MPG\": 11.482, \"Total Miles Traveled  (Vehicle MPG * Activity Amount)\": 66124.838, \"tons of CO2 Total Emissions from Electrification (Column R * 96 g C02)\": 6.997446737, \"Emissions from Electrified Fleet (96g CO2e/mi)\": null, \"Emissions from Electrified Fleet, 50% Decarbonized Grid (48g CO2e/mi)\": null, \"Emissions from Electrified Fleet, Peak Carbon Intensity (132g CO2e/mi)\": null, \"Emission Scope\": \"Scope 1\", \"Activity Amount\": 5759.0, \"Unnamed: 24\": null, \"Supplier\": null, \"Scope 2L Supplier\": null, \"Description\": \"Per 2/3/20 email from Denise Byrne. Entered 2/13/20 by Cheryl Greenwald.\", \"Output Type\": \"CO2e\", \"Output Amount\": 10.82, \"Output Amount Unit\": \"tonnes\", \"Amount - Estimated\": false, \"Amount Estimation Description\": null, \"Meter or Ref. No.\": null, \"Acct. No.\": null, \"City\": null, \"EPA Facility\": \"Cambridge/Allston AQ:1190092\", \"Root Number\": null, \"Building Number\": null, \"University-wide GHG Status\": \"Baseline\", \"Campus\": \"Cambridge\", \"School-Level GHG Status\": \"Baseline\"}, {\"Organization Period\": \"CY 2019\", \"Org Unit Name\": \"Mobile Vehicle - Dennis K Burke\", \"Time\": null, \"Type\": null, \"Amount\": null, \"Output\": null, \"From Date\": \"2019-10-01T00:00:00\", \"To Date\": \"2019-10-31T00:00:00\", \"Level 1\": \"Harvard Operational Control\", \"Level 2\": \"CS - Transportation\", \"Level 3\": \"180-Transportation\", \"Level 4\": \"Mobile Vehicle - Dennis K Burke\", \"Level 5\": null, \"Activity Category\": \"Mobile Combustion\", \"Activity Unit\": \"US gallons\", \"Activity Type\": \"BIOD20\", \"Vehicle MPG\": 11.482, \"Total Miles Traveled  (Vehicle MPG * Activity Amount)\": 68398.274, \"tons of CO2 Total Emissions from Electrification (Column R * 96 g C02)\": 7.238025736, \"Emissions from Electrified Fleet (96g CO2e/mi)\": null, \"Emissions from Electrified Fleet, 50% Decarbonized Grid (48g CO2e/mi)\": null, \"Emissions from Electrified Fleet, Peak Carbon Intensity (132g CO2e/mi)\": null, \"Emission Scope\": \"Scope 1\", \"Activity Amount\": 5957.0, \"Unnamed: 24\": null, \"Supplier\": null, \"Scope 2L Supplier\": null, \"Description\": \"Per 2/3/20 email from Denise Byrne. Entered 2/13/20 by Cheryl Greenwald.\", \"Output Type\": \"CO2e\", \"Output Amount\": 11.19, \"Output Amount Unit\": \"tonnes\", \"Amount - Estimated\": false, \"Amount Estimation Description\": null, \"Meter or Ref. No.\": null, \"Acct. No.\": null, \"City\": null, \"EPA Facility\": \"Cambridge/Allston AQ:1190092\", \"Root Number\": null, \"Building Number\": null, \"University-wide GHG Status\": \"Baseline\", \"Campus\": \"Cambridge\", \"School-Level GHG Status\": \"Baseline\"}, {\"Organization Period\": \"CY 2019\", \"Org Unit Name\": \"Mobile Vehicle - Dennis K Burke\", \"Time\": null, \"Type\": null, \"Amount\": null, \"Output\": null, \"From Date\": \"2019-09-01T00:00:00\", \"To Date\": \"2019-09-30T00:00:00\", \"Level 1\": \"Harvard Operational Control\", \"Level 2\": \"CS - Transportation\", \"Level 3\": \"180-Transportation\", \"Level 4\": \"Mobile Vehicle - Dennis K Burke\", \"Level 5\": null, \"Activity Category\": \"Mobile Combustion\", \"Activity Unit\": \"US gallons\", \"Activity Type\": \"BIOD20\", \"Vehicle MPG\": 11.482, \"Total Miles Traveled  (Vehicle MPG * Activity Amount)\": 124832.304, \"tons of CO2 Total Emissions from Electrification (Column R * 96 g C02)\": 13.20997411, \"Emissions from Electrified Fleet (96g CO2e/mi)\": null, \"Emissions from Electrified Fleet, 50% Decarbonized Grid (48g CO2e/mi)\": null, \"Emissions from Electrified Fleet, Peak Carbon Intensity (132g CO2e/mi)\": null, \"Emission Scope\": \"Scope 1\", \"Activity Amount\": 10872.0, \"Unnamed: 24\": null, \"Supplier\": null, \"Scope 2L Supplier\": null, \"Description\": \"Per 2/3/20 email from Denise Byrne. Entered 2/13/20 by Cheryl Greenwald.\", \"Output Type\": \"CO2e\", \"Output Amount\": 20.43, \"Output Amount Unit\": \"tonnes\", \"Amount - Estimated\": false, \"Amount Estimation Description\": null, \"Meter or Ref. No.\": null, \"Acct. No.\": null, \"City\": null, \"EPA Facility\": \"Cambridge/Allston AQ:1190092\", \"Root Number\": null, \"Building Number\": null, \"University-wide GHG Status\": \"Baseline\", \"Campus\": \"Cambridge\", \"School-Level GHG Status\": \"Baseline\"}, {\"Organization Period\": \"CY 2019\", \"Org Unit Name\": \"Mobile Vehicle - Dennis K Burke\", \"Time\": 2019.0, \"Type\": \"Biodiesel 20A\", \"Amount\": 67884.0, \"Output\": 520.78, \"From Date\": \"2019-04-01T00:00:00\", \"To Date\": \"2019-04-30T00:00:00\", \"Level 1\": \"Harvard Operational Control\", \"Level 2\": \"CS - Transportation\", \"Level 3\": \"180-Transportation\", \"Level 4\": \"Mobile Vehicle - Dennis K Burke\", \"Level 5\": null, \"Activity Category\": \"Mobile Combustion\", \"Activity Unit\": \"US gallons\", \"Activity Type\": \"BIOD20_A\", \"Vehicle MPG\": 11.482, \"Total Miles Traveled  (Vehicle MPG * Activity Amount)\": 79696.562, \"tons of CO2 Total Emissions from Electrification (Column R * 96 g C02)\": 8.433630457, \"Emissions from Electrified Fleet (96g CO2e/mi)\": 16.86726091, \"Emissions from Electrified Fleet, 50% Decarbonized Grid (48g CO2e/mi)\": 8.433630457, \"Emissions from Electrified Fleet, Peak Carbon Intensity (132g CO2e/mi)\": 23.19248376, \"Emission Scope\": \"Scope 1\", \"Activity Amount\": 6941.0, \"Unnamed: 24\": 67884.0, \"Supplier\": null, \"Scope 2L Supplier\": null, \"Description\": \"Per 7/25/19 email from Denise Byrne. Entered 7/25/19 by Cheryl Greenwald.\", \"Output Type\": \"CO2e\", \"Output Amount\": 53.25, \"Output Amount Unit\": \"tonnes\", \"Amount - Estimated\": false, \"Amount Estimation Description\": null, \"Meter or Ref. No.\": null, \"Acct. No.\": null, \"City\": null, \"EPA Facility\": \"Cambridge/Allston AQ:1190092\", \"Root Number\": null, \"Building Number\": null, \"University-wide GHG Status\": \"Baseline\", \"Campus\": \"Cambridge\", \"School-Level GHG Status\": \"Baseline\"}, {\"Organization Period\": \"CY 2019\", \"Org Unit Name\": \"Mobile Vehicle - Dennis K Burke\", \"Time\": null, \"Type\": null, \"Amount\": null, \"Output\": null, \"From Date\": \"2019-08-01T00:00:00\", \"To Date\": \"2019-08-31T00:00:00\", \"Level 1\": \"Harvard Operational Control\", \"Level 2\": \"CS - Transportation\", \"Level 3\": \"180-Transportation\", \"Level 4\": \"Mobile Vehicle - Dennis K Burke\", \"Level 5\": null, \"Activity Category\": \"Mobile Combustion\", \"Activity Unit\": \"US gallons\", \"Activity Type\": \"BIOD20_A\", \"Vehicle MPG\": 11.482, \"Total Miles Traveled  (Vehicle MPG * Activity Amount)\": 38992.872, \"tons of CO2 Total Emissions from Electrification (Column R * 96 g C02)\": 4.126294342, \"Emissions from Electrified Fleet (96g CO2e/mi)\": null, \"Emissions from Electrified Fleet, 50% Decarbonized Grid (48g CO2e/mi)\": null, \"Emissions from Electrified Fleet, Peak Carbon Intensity (132g CO2e/mi)\": null, \"Emission Scope\": \"Scope 1\", \"Activity Amount\": 3396.0, \"Unnamed: 24\": null, \"Supplier\": null, \"Scope 2L Supplier\": null, \"Description\": \"Per 2/3/20 email from Denise Byrne. Entered 2/13/20 by Cheryl Greenwald.\", \"Output Type\": \"CO2e\", \"Output Amount\": 26.05, \"Output Amount Unit\": \"tonnes\", \"Amount - Estimated\": false, \"Amount Estimation Description\": null, \"Meter or Ref. No.\": null, \"Acct. No.\": null, \"City\": null, \"EPA Facility\": \"Cambridge/Allston AQ:1190092\", \"Root Number\": null, \"Building Number\": null, \"University-wide GHG Status\": \"Baseline\", \"Campus\": \"Cambridge\", \"School-Level GHG Status\": \"Baseline\"}, {\"Organization Period\": \"CY 2019\", \"Org Unit Name\": \"Mobile Vehicle - Dennis K Burke\", \"Time\": null, \"Type\": null, \"Amount\": null, \"Output\": null, \"From Date\": \"2019-12-01T00:00:00\", \"To Date\": \"2019-12-31T00:00:00\", \"Level 1\": \"Harvard Operational Control\", \"Level 2\": \"CS - Transportation\", \"Level 3\": \"180-Transportation\", \"Level 4\": \"Mobile Vehicle - Dennis K Burke\", \"Level 5\": null, \"Activity Category\": \"Mobile Combustion\", \"Activity Unit\": \"US gallons\", \"Activity Type\": \"BIOD20_A\", \"Vehicle MPG\": 11.482, \"Total Miles Traveled  (Vehicle MPG * Activity Amount)\": 57926.69, \"tons of CO2 Total Emissions from Electrification (Column R * 96 g C02)\": 6.129904287, \"Emissions from Electrified Fleet (96g CO2e/mi)\": null, \"Emissions from Electrified Fleet, 50% Decarbonized Grid (48g CO2e/mi)\": null, \"Emissions from Electrified Fleet, Peak Carbon Intensity (132g CO2e/mi)\": null, \"Emission Scope\": \"Scope 1\", \"Activity Amount\": 5045.0, \"Unnamed: 24\": null, \"Supplier\": null, \"Scope 2L Supplier\": null, \"Description\": \"Per 2/3/20 email from Denise Byrne. Entered 2/13/20 by Cheryl Greenwald.\", \"Output Type\": \"CO2e\", \"Output Amount\": 38.7, \"Output Amount Unit\": \"tonnes\", \"Amount - Estimated\": false, \"Amount Estimation Description\": null, \"Meter or Ref. No.\": null, \"Acct. No.\": null, \"City\": null, \"EPA Facility\": \"Cambridge/Allston AQ:1190092\", \"Root Number\": null, \"Building Number\": null, \"University-wide GHG Status\": \"Baseline\", \"Campus\": \"Cambridge\", \"School-Level GHG Status\": \"Baseline\"}, {\"Organization Period\": \"CY 2019\", \"Org Unit Name\": \"Mobile Vehicle - Dennis K Burke\", \"Time\": null, \"Type\": null, \"Amount\": null, \"Output\": null, \"From Date\": \"2019-02-01T00:00:00\", \"To Date\": \"2019-02-28T00:00:00\", \"Level 1\": \"Harvard Operational Control\", \"Level 2\": \"CS - Transportation\", \"Level 3\": \"180-Transportation\", \"Level 4\": \"Mobile Vehicle - Dennis K Burke\", \"Level 5\": null, \"Activity Category\": \"Mobile Combustion\", \"Activity Unit\": \"US gallons\", \"Activity Type\": \"BIOD20_A\", \"Vehicle MPG\": 11.482, \"Total Miles Traveled  (Vehicle MPG * Activity Amount)\": 71613.234, \"tons of CO2 Total Emissions from Electrification (Column R * 96 g C02)\": 7.578238461, \"Emissions from Electrified Fleet (96g CO2e/mi)\": null, \"Emissions from Electrified Fleet, 50% Decarbonized Grid (48g CO2e/mi)\": null, \"Emissions from Electrified Fleet, Peak Carbon Intensity (132g CO2e/mi)\": null, \"Emission Scope\": \"Scope 1\", \"Activity Amount\": 6237.0, \"Unnamed: 24\": null, \"Supplier\": null, \"Scope 2L Supplier\": null, \"Description\": \"Per 7/25/19 email from Denise Byrne. Entered 7/25/19 by Cheryl Greenwald.\", \"Output Type\": \"CO2e\", \"Output Amount\": 47.85, \"Output Amount Unit\": \"tonnes\", \"Amount - Estimated\": false, \"Amount Estimation Description\": null, \"Meter or Ref. No.\": null, \"Acct. No.\": null, \"City\": null, \"EPA Facility\": \"Cambridge/Allston AQ:1190092\", \"Root Number\": null, \"Building Number\": null, \"University-wide GHG Status\": \"Baseline\", \"Campus\": \"Cambridge\", \"School-Level GHG Status\": \"Baseline\"}, {\"Organization Period\": \"CY 2019\", \"Org Unit Name\": \"Mobile Vehicle - Dennis K Burke\", \"Time\": null, \"Type\": null, \"Amount\": null, \"Output\": null, \"From Date\": \"2019-01-01T00:00:00\", \"To Date\": \"2019-01-31T00:00:00\", \"Level 1\": \"Harvard Operational Control\", \"Level 2\": \"CS - Transportation\", \"Level 3\": \"180-Transportation\", \"Level 4\": \"Mobile Vehicle - Dennis K Burke\", \"Level 5\": null, \"Activity Category\": \"Mobile Combustion\", \"Activity Unit\": \"US gallons\", \"Activity Type\": \"BIOD20_A\", \"Vehicle MPG\": 11.482, \"Total Miles Traveled  (Vehicle MPG * Activity Amount)\": 51600.108, \"tons of CO2 Total Emissions from Electrification (Column R * 96 g C02)\": 5.460414245, \"Emissions from Electrified Fleet (96g CO2e/mi)\": null, \"Emissions from Electrified Fleet, 50% Decarbonized Grid (48g CO2e/mi)\": null, \"Emissions from Electrified Fleet, Peak Carbon Intensity (132g CO2e/mi)\": null, \"Emission Scope\": \"Scope 1\", \"Activity Amount\": 4494.0, \"Unnamed: 24\": null, \"Supplier\": null, \"Scope 2L Supplier\": null, \"Description\": \"Per 7/25/19 email from Denise Byrne. Entered 7/25/19 by Cheryl Greenwald.\", \"Output Type\": \"CO2e\", \"Output Amount\": 34.48, \"Output Amount Unit\": \"tonnes\", \"Amount - Estimated\": false, \"Amount Estimation Description\": null, \"Meter or Ref. No.\": null, \"Acct. No.\": null, \"City\": null, \"EPA Facility\": \"Cambridge/Allston AQ:1190092\", \"Root Number\": null, \"Building Number\": null, \"University-wide GHG Status\": \"Baseline\", \"Campus\": \"Cambridge\", \"School-Level GHG Status\": \"Baseline\"}, {\"Organization Period\": \"CY 2019\", \"Org Unit Name\": \"Mobile Vehicle - Dennis K Burke\", \"Time\": null, \"Type\": null, \"Amount\": null, \"Output\": null, \"From Date\": \"2019-07-01T00:00:00\", \"To Date\": \"2019-07-31T00:00:00\", \"Level 1\": \"Harvard Operational Control\", \"Level 2\": \"CS - Transportation\", \"Level 3\": \"180-Transportation\", \"Level 4\": \"Mobile Vehicle - Dennis K Burke\", \"Level 5\": null, \"Activity Category\": \"Mobile Combustion\", \"Activity Unit\": \"US gallons\", \"Activity Type\": \"BIOD20_A\", \"Vehicle MPG\": 11.482, \"Total Miles Traveled  (Vehicle MPG * Activity Amount)\": 51669.0, \"tons of CO2 Total Emissions from Electrification (Column R * 96 g C02)\": 5.467704517, \"Emissions from Electrified Fleet (96g CO2e/mi)\": null, \"Emissions from Electrified Fleet, 50% Decarbonized Grid (48g CO2e/mi)\": null, \"Emissions from Electrified Fleet, Peak Carbon Intensity (132g CO2e/mi)\": null, \"Emission Scope\": \"Scope 1\", \"Activity Amount\": 4500.0, \"Unnamed: 24\": null, \"Supplier\": null, \"Scope 2L Supplier\": null, \"Description\": \"Per 2/3/20 email from Denise Byrne. Entered 2/13/20 by Cheryl Greenwald.\", \"Output Type\": \"CO2e\", \"Output Amount\": 34.52, \"Output Amount Unit\": \"tonnes\", \"Amount - Estimated\": false, \"Amount Estimation Description\": null, \"Meter or Ref. No.\": null, \"Acct. No.\": null, \"City\": null, \"EPA Facility\": \"Cambridge/Allston AQ:1190092\", \"Root Number\": null, \"Building Number\": null, \"University-wide GHG Status\": \"Baseline\", \"Campus\": \"Cambridge\", \"School-Level GHG Status\": \"Baseline\"}, {\"Organization Period\": \"CY 2019\", \"Org Unit Name\": \"Mobile Vehicle - Dennis K Burke\", \"Time\": null, \"Type\": null, \"Amount\": null, \"Output\": null, \"From Date\": \"2019-06-01T00:00:00\", \"To Date\": \"2019-06-30T00:00:00\", \"Level 1\": \"Harvard Operational Control\", \"Level 2\": \"CS - Transportation\", \"Level 3\": \"180-Transportation\", \"Level 4\": \"Mobile Vehicle - Dennis K Burke\", \"Level 5\": null, \"Activity Category\": \"Mobile Combustion\", \"Activity Unit\": \"US gallons\", \"Activity Type\": \"BIOD20_A\", \"Vehicle MPG\": 11.482, \"Total Miles Traveled  (Vehicle MPG * Activity Amount)\": 22964.0, \"tons of CO2 Total Emissions from Electrification (Column R * 96 g C02)\": 2.430090897, \"Emissions from Electrified Fleet (96g CO2e/mi)\": null, \"Emissions from Electrified Fleet, 50% Decarbonized Grid (48g CO2e/mi)\": null, \"Emissions from Electrified Fleet, Peak Carbon Intensity (132g CO2e/mi)\": null, \"Emission Scope\": \"Scope 1\", \"Activity Amount\": 2000.0, \"Unnamed: 24\": null, \"Supplier\": null, \"Scope 2L Supplier\": null, \"Description\": \"Per 7/25/19 email from Denise Byrne. Entered 7/25/19 by Cheryl Greenwald.\", \"Output Type\": \"CO2e\", \"Output Amount\": 15.34, \"Output Amount Unit\": \"tonnes\", \"Amount - Estimated\": false, \"Amount Estimation Description\": null, \"Meter or Ref. No.\": null, \"Acct. No.\": null, \"City\": null, \"EPA Facility\": \"Cambridge/Allston AQ:1190092\", \"Root Number\": null, \"Building Number\": null, \"University-wide GHG Status\": \"Baseline\", \"Campus\": \"Cambridge\", \"School-Level GHG Status\": \"Baseline\"}, {\"Organization Period\": \"CY 2019\", \"Org Unit Name\": \"Mobile Vehicle - Dennis K Burke\", \"Time\": null, \"Type\": null, \"Amount\": null, \"Output\": null, \"From Date\": \"2019-03-01T00:00:00\", \"To Date\": \"2019-03-31T00:00:00\", \"Level 1\": \"Harvard Operational Control\", \"Level 2\": \"CS - Transportation\", \"Level 3\": \"180-Transportation\", \"Level 4\": \"Mobile Vehicle - Dennis K Burke\", \"Level 5\": null, \"Activity Category\": \"Mobile Combustion\", \"Activity Unit\": \"US gallons\", \"Activity Type\": \"BIOD20_A\", \"Vehicle MPG\": 11.482, \"Total Miles Traveled  (Vehicle MPG * Activity Amount)\": 80431.41, \"tons of CO2 Total Emissions from Electrification (Column R * 96 g C02)\": 8.511393365, \"Emissions from Electrified Fleet (96g CO2e/mi)\": null, \"Emissions from Electrified Fleet, 50% Decarbonized Grid (48g CO2e/mi)\": null, \"Emissions from Electrified Fleet, Peak Carbon Intensity (132g CO2e/mi)\": null, \"Emission Scope\": \"Scope 1\", \"Activity Amount\": 7005.0, \"Unnamed: 24\": null, \"Supplier\": null, \"Scope 2L Supplier\": null, \"Description\": \"Per 7/25/19 email from Denise Byrne. Entered 7/25/19 by Cheryl Greenwald.\", \"Output Type\": \"CO2e\", \"Output Amount\": 53.74, \"Output Amount Unit\": \"tonnes\", \"Amount - Estimated\": false, \"Amount Estimation Description\": null, \"Meter or Ref. No.\": null, \"Acct. No.\": null, \"City\": null, \"EPA Facility\": \"Cambridge/Allston AQ:1190092\", \"Root Number\": null, \"Building Number\": null, \"University-wide GHG Status\": \"Baseline\", \"Campus\": \"Cambridge\", \"School-Level GHG Status\": \"Baseline\"}, {\"Organization Period\": \"CY 2019\", \"Org Unit Name\": \"Mobile Vehicle - Dennis K Burke\", \"Time\": null, \"Type\": null, \"Amount\": null, \"Output\": null, \"From Date\": \"2019-05-01T00:00:00\", \"To Date\": \"2019-05-31T00:00:00\", \"Level 1\": \"Harvard Operational Control\", \"Level 2\": \"CS - Transportation\", \"Level 3\": \"180-Transportation\", \"Level 4\": \"Mobile Vehicle - Dennis K Burke\", \"Level 5\": null, \"Activity Category\": \"Mobile Combustion\", \"Activity Unit\": \"US gallons\", \"Activity Type\": \"BIOD20_A\", \"Vehicle MPG\": 11.482, \"Total Miles Traveled  (Vehicle MPG * Activity Amount)\": 65194.796, \"tons of CO2 Total Emissions from Electrification (Column R * 96 g C02)\": 6.899028056, \"Emissions from Electrified Fleet (96g CO2e/mi)\": null, \"Emissions from Electrified Fleet, 50% Decarbonized Grid (48g CO2e/mi)\": null, \"Emissions from Electrified Fleet, Peak Carbon Intensity (132g CO2e/mi)\": null, \"Emission Scope\": \"Scope 1\", \"Activity Amount\": 5678.0, \"Unnamed: 24\": null, \"Supplier\": null, \"Scope 2L Supplier\": null, \"Description\": \"Per 7/25/19 email from Denise Byrne. Entered 7/25/19 by Cheryl Greenwald.\", \"Output Type\": \"CO2e\", \"Output Amount\": 43.56, \"Output Amount Unit\": \"tonnes\", \"Amount - Estimated\": false, \"Amount Estimation Description\": null, \"Meter or Ref. No.\": null, \"Acct. No.\": null, \"City\": null, \"EPA Facility\": \"Cambridge/Allston AQ:1190092\", \"Root Number\": null, \"Building Number\": null, \"University-wide GHG Status\": \"Baseline\", \"Campus\": \"Cambridge\", \"School-Level GHG Status\": \"Baseline\"}, {\"Organization Period\": \"CY 2019\", \"Org Unit Name\": \"Mobile Vehicle - Dennis K Burke\", \"Time\": null, \"Type\": null, \"Amount\": null, \"Output\": null, \"From Date\": \"2019-11-01T00:00:00\", \"To Date\": \"2019-11-30T00:00:00\", \"Level 1\": \"Harvard Operational Control\", \"Level 2\": \"CS - Transportation\", \"Level 3\": \"180-Transportation\", \"Level 4\": \"Mobile Vehicle - Dennis K Burke\", \"Level 5\": null, \"Activity Category\": \"Mobile Combustion\", \"Activity Unit\": \"US gallons\", \"Activity Type\": \"BIOD20_A\", \"Vehicle MPG\": 11.482, \"Total Miles Traveled  (Vehicle MPG * Activity Amount)\": 66124.838, \"tons of CO2 Total Emissions from Electrification (Column R * 96 g C02)\": 6.997446737, \"Emissions from Electrified Fleet (96g CO2e/mi)\": null, \"Emissions from Electrified Fleet, 50% Decarbonized Grid (48g CO2e/mi)\": null, \"Emissions from Electrified Fleet, Peak Carbon Intensity (132g CO2e/mi)\": null, \"Emission Scope\": \"Scope 1\", \"Activity Amount\": 5759.0, \"Unnamed: 24\": null, \"Supplier\": null, \"Scope 2L Supplier\": null, \"Description\": \"Per 2/3/20 email from Denise Byrne. Entered 2/13/20 by Cheryl Greenwald.\", \"Output Type\": \"CO2e\", \"Output Amount\": 44.18, \"Output Amount Unit\": \"tonnes\", \"Amount - Estimated\": false, \"Amount Estimation Description\": null, \"Meter or Ref. No.\": null, \"Acct. No.\": null, \"City\": null, \"EPA Facility\": \"Cambridge/Allston AQ:1190092\", \"Root Number\": null, \"Building Number\": null, \"University-wide GHG Status\": \"Baseline\", \"Campus\": \"Cambridge\", \"School-Level GHG Status\": \"Baseline\"}, {\"Organization Period\": \"CY 2019\", \"Org Unit Name\": \"Mobile Vehicle - Dennis K Burke\", \"Time\": null, \"Type\": null, \"Amount\": null, \"Output\": null, \"From Date\": \"2019-10-01T00:00:00\", \"To Date\": \"2019-10-31T00:00:00\", \"Level 1\": \"Harvard Operational Control\", \"Level 2\": \"CS - Transportation\", \"Level 3\": \"180-Transportation\", \"Level 4\": \"Mobile Vehicle - Dennis K Burke\", \"Level 5\": null, \"Activity Category\": \"Mobile Combustion\", \"Activity Unit\": \"US gallons\", \"Activity Type\": \"BIOD20_A\", \"Vehicle MPG\": 11.482, \"Total Miles Traveled  (Vehicle MPG * Activity Amount)\": 68398.274, \"tons of CO2 Total Emissions from Electrification (Column R * 96 g C02)\": 7.238025736, \"Emissions from Electrified Fleet (96g CO2e/mi)\": null, \"Emissions from Electrified Fleet, 50% Decarbonized Grid (48g CO2e/mi)\": null, \"Emissions from Electrified Fleet, Peak Carbon Intensity (132g CO2e/mi)\": null, \"Emission Scope\": \"Scope 1\", \"Activity Amount\": 5957.0, \"Unnamed: 24\": null, \"Supplier\": null, \"Scope 2L Supplier\": null, \"Description\": \"Per 2/3/20 email from Denise Byrne. Entered 2/13/20 by Cheryl Greenwald.\", \"Output Type\": \"CO2e\", \"Output Amount\": 45.7, \"Output Amount Unit\": \"tonnes\", \"Amount - Estimated\": false, \"Amount Estimation Description\": null, \"Meter or Ref. No.\": null, \"Acct. No.\": null, \"City\": null, \"EPA Facility\": \"Cambridge/Allston AQ:1190092\", \"Root Number\": null, \"Building Number\": null, \"University-wide GHG Status\": \"Baseline\", \"Campus\": \"Cambridge\", \"School-Level GHG Status\": \"Baseline\"}, {\"Organization Period\": \"CY 2019\", \"Org Unit Name\": \"Mobile Vehicle - Dennis K Burke\", \"Time\": null, \"Type\": null, \"Amount\": null, \"Output\": null, \"From Date\": \"2019-09-01T00:00:00\", \"To Date\": \"2019-09-30T00:00:00\", \"Level 1\": \"Harvard Operational Control\", \"Level 2\": \"CS - Transportation\", \"Level 3\": \"180-Transportation\", \"Level 4\": \"Mobile Vehicle - Dennis K Burke\", \"Level 5\": null, \"Activity Category\": \"Mobile Combustion\", \"Activity Unit\": \"US gallons\", \"Activity Type\": \"BIOD20_A\", \"Vehicle MPG\": 11.482, \"Total Miles Traveled  (Vehicle MPG * Activity Amount)\": 124832.304, \"tons of CO2 Total Emissions from Electrification (Column R * 96 g C02)\": 13.20997411, \"Emissions from Electrified Fleet (96g CO2e/mi)\": null, \"Emissions from Electrified Fleet, 50% Decarbonized Grid (48g CO2e/mi)\": null, \"Emissions from Electrified Fleet, Peak Carbon Intensity (132g CO2e/mi)\": null, \"Emission Scope\": \"Scope 1\", \"Activity Amount\": 10872.0, \"Unnamed: 24\": null, \"Supplier\": null, \"Scope 2L Supplier\": null, \"Description\": \"Per 2/3/20 email from Denise Byrne. Entered 2/13/20 by Cheryl Greenwald.\", \"Output Type\": \"CO2e\", \"Output Amount\": 83.41, \"Output Amount Unit\": \"tonnes\", \"Amount - Estimated\": false, \"Amount Estimation Description\": null, \"Meter or Ref. No.\": null, \"Acct. No.\": null, \"City\": null, \"EPA Facility\": \"Cambridge/Allston AQ:1190092\", \"Root Number\": null, \"Building Number\": null, \"University-wide GHG Status\": \"Baseline\", \"Campus\": \"Cambridge\", \"School-Level GHG Status\": \"Baseline\"}, {\"Organization Period\": \"CY 2019\", \"Org Unit Name\": \"Mobile Vehicle - GE Diesel\", \"Time\": 2019.0, \"Type\": \"Diesel\", \"Amount\": 4070.0, \"Output\": 41.38, \"From Date\": \"2019-04-01T00:00:00\", \"To Date\": \"2019-04-30T00:00:00\", \"Level 1\": \"Harvard Operational Control\", \"Level 2\": \"CS - Transportation\", \"Level 3\": \"180-Transportation\", \"Level 4\": \"Mobile Vehicle - GE Diesel\", \"Level 5\": null, \"Activity Category\": \"Mobile Combustion\", \"Activity Unit\": \"US gallons\", \"Activity Type\": \"DIESEL_MV\", \"Vehicle MPG\": 11.482, \"Total Miles Traveled  (Vehicle MPG * Activity Amount)\": 6070.5334, \"tons of CO2 Total Emissions from Electrification (Column R * 96 g C02)\": 0.6423945285, \"Emissions from Electrified Fleet (96g CO2e/mi)\": 4.945234975, \"Emissions from Electrified Fleet, 50% Decarbonized Grid (48g CO2e/mi)\": 2.472617487, \"Emissions from Electrified Fleet, Peak Carbon Intensity (132g CO2e/mi)\": 6.79969809, \"Emission Scope\": \"Scope 1\", \"Activity Amount\": 528.7, \"Unnamed: 24\": null, \"Supplier\": null, \"Scope 2L Supplier\": null, \"Description\": \"Per 7/25/19 email from Denise Byrne. Entered 7/25/19 by Cheryl Greenwald.\", \"Output Type\": \"CO2e\", \"Output Amount\": 5.38, \"Output Amount Unit\": \"tonnes\", \"Amount - Estimated\": false, \"Amount Estimation Description\": null, \"Meter or Ref. No.\": null, \"Acct. No.\": null, \"City\": null, \"EPA Facility\": \"Cambridge/Allston AQ:1190092\", \"Root Number\": null, \"Building Number\": null, \"University-wide GHG Status\": \"Baseline\", \"Campus\": \"Cambridge\", \"School-Level GHG Status\": \"Baseline\"}, {\"Organization Period\": \"CY 2019\", \"Org Unit Name\": \"Mobile Vehicle - GE Diesel\", \"Time\": null, \"Type\": null, \"Amount\": null, \"Output\": null, \"From Date\": \"2019-08-01T00:00:00\", \"To Date\": \"2019-08-31T00:00:00\", \"Level 1\": \"Harvard Operational Control\", \"Level 2\": \"CS - Transportation\", \"Level 3\": \"180-Transportation\", \"Level 4\": \"Mobile Vehicle - GE Diesel\", \"Level 5\": null, \"Activity Category\": \"Mobile Combustion\", \"Activity Unit\": \"US gallons\", \"Activity Type\": \"DIESEL_MV\", \"Vehicle MPG\": 11.482, \"Total Miles Traveled  (Vehicle MPG * Activity Amount)\": 838.186, \"tons of CO2 Total Emissions from Electrification (Column R * 96 g C02)\": 0.08869831773, \"Emissions from Electrified Fleet (96g CO2e/mi)\": null, \"Emissions from Electrified Fleet, 50% Decarbonized Grid (48g CO2e/mi)\": null, \"Emissions from Electrified Fleet, Peak Carbon Intensity (132g CO2e/mi)\": null, \"Emission Scope\": \"Scope 1\", \"Activity Amount\": 73.0, \"Unnamed: 24\": null, \"Supplier\": null, \"Scope 2L Supplier\": null, \"Description\": \"Per 2/3/20 email from Denise Byrne. Entered 2/13/20 by Cheryl Greenwald.\", \"Output Type\": \"CO2e\", \"Output Amount\": 0.74, \"Output Amount Unit\": \"tonnes\", \"Amount - Estimated\": false, \"Amount Estimation Description\": null, \"Meter or Ref. No.\": null, \"Acct. No.\": null, \"City\": null, \"EPA Facility\": \"Cambridge/Allston AQ:1190092\", \"Root Number\": null, \"Building Number\": null, \"University-wide GHG Status\": \"Baseline\", \"Campus\": \"Cambridge\", \"School-Level GHG Status\": \"Baseline\"}, {\"Organization Period\": \"CY 2019\", \"Org Unit Name\": \"Mobile Vehicle - GE Diesel\", \"Time\": null, \"Type\": null, \"Amount\": null, \"Output\": null, \"From Date\": \"2019-12-01T00:00:00\", \"To Date\": \"2019-12-31T00:00:00\", \"Level 1\": \"Harvard Operational Control\", \"Level 2\": \"CS - Transportation\", \"Level 3\": \"180-Transportation\", \"Level 4\": \"Mobile Vehicle - GE Diesel\", \"Level 5\": null, \"Activity Category\": \"Mobile Combustion\", \"Activity Unit\": \"US gallons\", \"Activity Type\": \"DIESEL_MV\", \"Vehicle MPG\": 11.482, \"Total Miles Traveled  (Vehicle MPG * Activity Amount)\": 2158.616, \"tons of CO2 Total Emissions from Electrification (Column R * 96 g C02)\": 0.2284285443, \"Emissions from Electrified Fleet (96g CO2e/mi)\": null, \"Emissions from Electrified Fleet, 50% Decarbonized Grid (48g CO2e/mi)\": null, \"Emissions from Electrified Fleet, Peak Carbon Intensity (132g CO2e/mi)\": null, \"Emission Scope\": \"Scope 1\", \"Activity Amount\": 188.0, \"Unnamed: 24\": null, \"Supplier\": null, \"Scope 2L Supplier\": null, \"Description\": \"Per 2/3/20 email from Denise Byrne. Entered 2/13/20 by Cheryl Greenwald.\", \"Output Type\": \"CO2e\", \"Output Amount\": 1.91, \"Output Amount Unit\": \"tonnes\", \"Amount - Estimated\": false, \"Amount Estimation Description\": null, \"Meter or Ref. No.\": null, \"Acct. No.\": null, \"City\": null, \"EPA Facility\": \"Cambridge/Allston AQ:1190092\", \"Root Number\": null, \"Building Number\": null, \"University-wide GHG Status\": \"Baseline\", \"Campus\": \"Cambridge\", \"School-Level GHG Status\": \"Baseline\"}, {\"Organization Period\": \"CY 2019\", \"Org Unit Name\": \"Mobile Vehicle - GE Diesel\", \"Time\": null, \"Type\": null, \"Amount\": null, \"Output\": null, \"From Date\": \"2019-02-01T00:00:00\", \"To Date\": \"2019-02-28T00:00:00\", \"Level 1\": \"Harvard Operational Control\", \"Level 2\": \"CS - Transportation\", \"Level 3\": \"180-Transportation\", \"Level 4\": \"Mobile Vehicle - GE Diesel\", \"Level 5\": null, \"Activity Category\": \"Mobile Combustion\", \"Activity Unit\": \"US gallons\", \"Activity Type\": \"DIESEL_MV\", \"Vehicle MPG\": 11.482, \"Total Miles Traveled  (Vehicle MPG * Activity Amount)\": 3817.765, \"tons of CO2 Total Emissions from Electrification (Column R * 96 g C02)\": 0.4040026116, \"Emissions from Electrified Fleet (96g CO2e/mi)\": null, \"Emissions from Electrified Fleet, 50% Decarbonized Grid (48g CO2e/mi)\": null, \"Emissions from Electrified Fleet, Peak Carbon Intensity (132g CO2e/mi)\": null, \"Emission Scope\": \"Scope 1\", \"Activity Amount\": 332.5, \"Unnamed: 24\": null, \"Supplier\": null, \"Scope 2L Supplier\": null, \"Description\": \"Per 7/25/19 email from Denise Byrne. Entered 7/25/19 by Cheryl Greenwald.\", \"Output Type\": \"CO2e\", \"Output Amount\": 3.38, \"Output Amount Unit\": \"tonnes\", \"Amount - Estimated\": false, \"Amount Estimation Description\": null, \"Meter or Ref. No.\": null, \"Acct. No.\": null, \"City\": null, \"EPA Facility\": \"Cambridge/Allston AQ:1190092\", \"Root Number\": null, \"Building Number\": null, \"University-wide GHG Status\": \"Baseline\", \"Campus\": \"Cambridge\", \"School-Level GHG Status\": \"Baseline\"}, {\"Organization Period\": \"CY 2019\", \"Org Unit Name\": \"Mobile Vehicle - GE Diesel\", \"Time\": null, \"Type\": null, \"Amount\": null, \"Output\": null, \"From Date\": \"2019-01-01T00:00:00\", \"To Date\": \"2019-01-31T00:00:00\", \"Level 1\": \"Harvard Operational Control\", \"Level 2\": \"CS - Transportation\", \"Level 3\": \"180-Transportation\", \"Level 4\": \"Mobile Vehicle - GE Diesel\", \"Level 5\": null, \"Activity Category\": \"Mobile Combustion\", \"Activity Unit\": \"US gallons\", \"Activity Type\": \"DIESEL_MV\", \"Vehicle MPG\": 11.482, \"Total Miles Traveled  (Vehicle MPG * Activity Amount)\": 729.107, \"tons of CO2 Total Emissions from Electrification (Column R * 96 g C02)\": 0.07715538597, \"Emissions from Electrified Fleet (96g CO2e/mi)\": null, \"Emissions from Electrified Fleet, 50% Decarbonized Grid (48g CO2e/mi)\": null, \"Emissions from Electrified Fleet, Peak Carbon Intensity (132g CO2e/mi)\": null, \"Emission Scope\": \"Scope 1\", \"Activity Amount\": 63.5, \"Unnamed: 24\": null, \"Supplier\": null, \"Scope 2L Supplier\": null, \"Description\": \"Per 7/25/19 email from Denise Byrne. Entered 7/25/19 by Cheryl Greenwald.\", \"Output Type\": \"CO2e\", \"Output Amount\": 0.65, \"Output Amount Unit\": \"tonnes\", \"Amount - Estimated\": false, \"Amount Estimation Description\": null, \"Meter or Ref. No.\": null, \"Acct. No.\": null, \"City\": null, \"EPA Facility\": \"Cambridge/Allston AQ:1190092\", \"Root Number\": null, \"Building Number\": null, \"University-wide GHG Status\": \"Baseline\", \"Campus\": \"Cambridge\", \"School-Level GHG Status\": \"Baseline\"}, {\"Organization Period\": \"CY 2019\", \"Org Unit Name\": \"Mobile Vehicle - GE Diesel\", \"Time\": null, \"Type\": null, \"Amount\": null, \"Output\": null, \"From Date\": \"2019-07-01T00:00:00\", \"To Date\": \"2019-07-31T00:00:00\", \"Level 1\": \"Harvard Operational Control\", \"Level 2\": \"CS - Transportation\", \"Level 3\": \"180-Transportation\", \"Level 4\": \"Mobile Vehicle - GE Diesel\", \"Level 5\": null, \"Activity Category\": \"Mobile Combustion\", \"Activity Unit\": \"US gallons\", \"Activity Type\": \"DIESEL_MV\", \"Vehicle MPG\": 11.482, \"Total Miles Traveled  (Vehicle MPG * Activity Amount)\": 1090.79, \"tons of CO2 Total Emissions from Electrification (Column R * 96 g C02)\": 0.1154293176, \"Emissions from Electrified Fleet (96g CO2e/mi)\": null, \"Emissions from Electrified Fleet, 50% Decarbonized Grid (48g CO2e/mi)\": null, \"Emissions from Electrified Fleet, Peak Carbon Intensity (132g CO2e/mi)\": null, \"Emission Scope\": \"Scope 1\", \"Activity Amount\": 95.0, \"Unnamed: 24\": null, \"Supplier\": null, \"Scope 2L Supplier\": null, \"Description\": \"Per 2/3/20 email from Denise Byrne. Entered 2/13/20 by Cheryl Greenwald.\", \"Output Type\": \"CO2e\", \"Output Amount\": 0.97, \"Output Amount Unit\": \"tonnes\", \"Amount - Estimated\": false, \"Amount Estimation Description\": null, \"Meter or Ref. No.\": null, \"Acct. No.\": null, \"City\": null, \"EPA Facility\": \"Cambridge/Allston AQ:1190092\", \"Root Number\": null, \"Building Number\": null, \"University-wide GHG Status\": \"Baseline\", \"Campus\": \"Cambridge\", \"School-Level GHG Status\": \"Baseline\"}, {\"Organization Period\": \"CY 2019\", \"Org Unit Name\": \"Mobile Vehicle - GE Diesel\", \"Time\": null, \"Type\": null, \"Amount\": null, \"Output\": null, \"From Date\": \"2019-06-01T00:00:00\", \"To Date\": \"2019-06-30T00:00:00\", \"Level 1\": \"Harvard Operational Control\", \"Level 2\": \"CS - Transportation\", \"Level 3\": \"180-Transportation\", \"Level 4\": \"Mobile Vehicle - GE Diesel\", \"Level 5\": null, \"Activity Category\": \"Mobile Combustion\", \"Activity Unit\": \"US gallons\", \"Activity Type\": \"DIESEL_MV\", \"Vehicle MPG\": 11.482, \"Total Miles Traveled  (Vehicle MPG * Activity Amount)\": 1153.941, \"tons of CO2 Total Emissions from Electrification (Column R * 96 g C02)\": 0.1221120676, \"Emissions from Electrified Fleet (96g CO2e/mi)\": null, \"Emissions from Electrified Fleet, 50% Decarbonized Grid (48g CO2e/mi)\": null, \"Emissions from Electrified Fleet, Peak Carbon Intensity (132g CO2e/mi)\": null, \"Emission Scope\": \"Scope 1\", \"Activity Amount\": 100.5, \"Unnamed: 24\": null, \"Supplier\": null, \"Scope 2L Supplier\": null, \"Description\": \"Per 7/25/19 email from Denise Byrne. Entered 7/25/19 by Cheryl Greenwald.\", \"Output Type\": \"CO2e\", \"Output Amount\": 1.02, \"Output Amount Unit\": \"tonnes\", \"Amount - Estimated\": false, \"Amount Estimation Description\": null, \"Meter or Ref. No.\": null, \"Acct. No.\": null, \"City\": null, \"EPA Facility\": \"Cambridge/Allston AQ:1190092\", \"Root Number\": null, \"Building Number\": null, \"University-wide GHG Status\": \"Baseline\", \"Campus\": \"Cambridge\", \"School-Level GHG Status\": \"Baseline\"}, {\"Organization Period\": \"CY 2019\", \"Org Unit Name\": \"Mobile Vehicle - GE Diesel\", \"Time\": null, \"Type\": null, \"Amount\": null, \"Output\": null, \"From Date\": \"2019-03-01T00:00:00\", \"To Date\": \"2019-03-31T00:00:00\", \"Level 1\": \"Harvard Operational Control\", \"Level 2\": \"CS - Transportation\", \"Level 3\": \"180-Transportation\", \"Level 4\": \"Mobile Vehicle - GE Diesel\", \"Level 5\": null, \"Activity Category\": \"Mobile Combustion\", \"Activity Unit\": \"US gallons\", \"Activity Type\": \"DIESEL_MV\", \"Vehicle MPG\": 11.482, \"Total Miles Traveled  (Vehicle MPG * Activity Amount)\": 20115.3158, \"tons of CO2 Total Emissions from Electrification (Column R * 96 g C02)\": 2.128638121, \"Emissions from Electrified Fleet (96g CO2e/mi)\": null, \"Emissions from Electrified Fleet, 50% Decarbonized Grid (48g CO2e/mi)\": null, \"Emissions from Electrified Fleet, Peak Carbon Intensity (132g CO2e/mi)\": null, \"Emission Scope\": \"Scope 1\", \"Activity Amount\": 1751.9, \"Unnamed: 24\": null, \"Supplier\": null, \"Scope 2L Supplier\": null, \"Description\": \"Per 7/25/19 email from Denise Byrne. Entered 7/25/19 by Cheryl Greenwald.\", \"Output Type\": \"CO2e\", \"Output Amount\": 17.81, \"Output Amount Unit\": \"tonnes\", \"Amount - Estimated\": false, \"Amount Estimation Description\": null, \"Meter or Ref. No.\": null, \"Acct. No.\": null, \"City\": null, \"EPA Facility\": \"Cambridge/Allston AQ:1190092\", \"Root Number\": null, \"Building Number\": null, \"University-wide GHG Status\": \"Baseline\", \"Campus\": \"Cambridge\", \"School-Level GHG Status\": \"Baseline\"}, {\"Organization Period\": \"CY 2019\", \"Org Unit Name\": \"Mobile Vehicle - GE Diesel\", \"Time\": null, \"Type\": null, \"Amount\": null, \"Output\": null, \"From Date\": \"2019-05-01T00:00:00\", \"To Date\": \"2019-05-31T00:00:00\", \"Level 1\": \"Harvard Operational Control\", \"Level 2\": \"CS - Transportation\", \"Level 3\": \"180-Transportation\", \"Level 4\": \"Mobile Vehicle - GE Diesel\", \"Level 5\": null, \"Activity Category\": \"Mobile Combustion\", \"Activity Unit\": \"US gallons\", \"Activity Type\": \"DIESEL_MV\", \"Vehicle MPG\": 11.482, \"Total Miles Traveled  (Vehicle MPG * Activity Amount)\": 1055.1958, \"tons of CO2 Total Emissions from Electrification (Column R * 96 g C02)\": 0.1116626767, \"Emissions from Electrified Fleet (96g CO2e/mi)\": null, \"Emissions from Electrified Fleet, 50% Decarbonized Grid (48g CO2e/mi)\": null, \"Emissions from Electrified Fleet, Peak Carbon Intensity (132g CO2e/mi)\": null, \"Emission Scope\": \"Scope 1\", \"Activity Amount\": 91.9, \"Unnamed: 24\": null, \"Supplier\": null, \"Scope 2L Supplier\": null, \"Description\": \"Per 7/25/19 email from Denise Byrne. Entered 7/25/19 by Cheryl Greenwald.\", \"Output Type\": \"CO2e\", \"Output Amount\": 0.93, \"Output Amount Unit\": \"tonnes\", \"Amount - Estimated\": false, \"Amount Estimation Description\": null, \"Meter or Ref. No.\": null, \"Acct. No.\": null, \"City\": null, \"EPA Facility\": \"Cambridge/Allston AQ:1190092\", \"Root Number\": null, \"Building Number\": null, \"University-wide GHG Status\": \"Baseline\", \"Campus\": \"Cambridge\", \"School-Level GHG Status\": \"Baseline\"}, {\"Organization Period\": \"CY 2019\", \"Org Unit Name\": \"Mobile Vehicle - GE Diesel\", \"Time\": null, \"Type\": null, \"Amount\": null, \"Output\": null, \"From Date\": \"2019-11-01T00:00:00\", \"To Date\": \"2019-11-30T00:00:00\", \"Level 1\": \"Harvard Operational Control\", \"Level 2\": \"CS - Transportation\", \"Level 3\": \"180-Transportation\", \"Level 4\": \"Mobile Vehicle - GE Diesel\", \"Level 5\": null, \"Activity Category\": \"Mobile Combustion\", \"Activity Unit\": \"US gallons\", \"Activity Type\": \"DIESEL_MV\", \"Vehicle MPG\": 11.482, \"Total Miles Traveled  (Vehicle MPG * Activity Amount)\": 8002.954, \"tons of CO2 Total Emissions from Electrification (Column R * 96 g C02)\": 0.8468866775, \"Emissions from Electrified Fleet (96g CO2e/mi)\": null, \"Emissions from Electrified Fleet, 50% Decarbonized Grid (48g CO2e/mi)\": null, \"Emissions from Electrified Fleet, Peak Carbon Intensity (132g CO2e/mi)\": null, \"Emission Scope\": \"Scope 1\", \"Activity Amount\": 697.0, \"Unnamed: 24\": null, \"Supplier\": null, \"Scope 2L Supplier\": null, \"Description\": \"Per 2/3/20 email from Denise Byrne. Entered 2/13/20 by Cheryl Greenwald.\", \"Output Type\": \"CO2e\", \"Output Amount\": 7.09, \"Output Amount Unit\": \"tonnes\", \"Amount - Estimated\": false, \"Amount Estimation Description\": null, \"Meter or Ref. No.\": null, \"Acct. No.\": null, \"City\": null, \"EPA Facility\": \"Cambridge/Allston AQ:1190092\", \"Root Number\": null, \"Building Number\": null, \"University-wide GHG Status\": \"Baseline\", \"Campus\": \"Cambridge\", \"School-Level GHG Status\": \"Baseline\"}, {\"Organization Period\": \"CY 2019\", \"Org Unit Name\": \"Mobile Vehicle - GE Diesel\", \"Time\": null, \"Type\": null, \"Amount\": null, \"Output\": null, \"From Date\": \"2019-10-01T00:00:00\", \"To Date\": \"2019-10-31T00:00:00\", \"Level 1\": \"Harvard Operational Control\", \"Level 2\": \"CS - Transportation\", \"Level 3\": \"180-Transportation\", \"Level 4\": \"Mobile Vehicle - GE Diesel\", \"Level 5\": null, \"Activity Category\": \"Mobile Combustion\", \"Activity Unit\": \"US gallons\", \"Activity Type\": \"DIESEL_MV\", \"Vehicle MPG\": 11.482, \"Total Miles Traveled  (Vehicle MPG * Activity Amount)\": 723.366, \"tons of CO2 Total Emissions from Electrification (Column R * 96 g C02)\": 0.07654786324, \"Emissions from Electrified Fleet (96g CO2e/mi)\": null, \"Emissions from Electrified Fleet, 50% Decarbonized Grid (48g CO2e/mi)\": null, \"Emissions from Electrified Fleet, Peak Carbon Intensity (132g CO2e/mi)\": null, \"Emission Scope\": \"Scope 1\", \"Activity Amount\": 63.0, \"Unnamed: 24\": null, \"Supplier\": null, \"Scope 2L Supplier\": null, \"Description\": \"Per 2/3/20 email from Denise Byrne. Entered 2/13/20 by Cheryl Greenwald.\", \"Output Type\": \"CO2e\", \"Output Amount\": 0.64, \"Output Amount Unit\": \"tonnes\", \"Amount - Estimated\": false, \"Amount Estimation Description\": null, \"Meter or Ref. No.\": null, \"Acct. No.\": null, \"City\": null, \"EPA Facility\": \"Cambridge/Allston AQ:1190092\", \"Root Number\": null, \"Building Number\": null, \"University-wide GHG Status\": \"Baseline\", \"Campus\": \"Cambridge\", \"School-Level GHG Status\": \"Baseline\"}, {\"Organization Period\": \"CY 2019\", \"Org Unit Name\": \"Mobile Vehicle - GE Diesel\", \"Time\": null, \"Type\": null, \"Amount\": null, \"Output\": null, \"From Date\": \"2019-09-01T00:00:00\", \"To Date\": \"2019-09-30T00:00:00\", \"Level 1\": \"Harvard Operational Control\", \"Level 2\": \"CS - Transportation\", \"Level 3\": \"180-Transportation\", \"Level 4\": \"Mobile Vehicle - GE Diesel\", \"Level 5\": null, \"Activity Category\": \"Mobile Combustion\", \"Activity Unit\": \"US gallons\", \"Activity Type\": \"DIESEL_MV\", \"Vehicle MPG\": 11.482, \"Total Miles Traveled  (Vehicle MPG * Activity Amount)\": 975.97, \"tons of CO2 Total Emissions from Electrification (Column R * 96 g C02)\": 0.1032788631, \"Emissions from Electrified Fleet (96g CO2e/mi)\": null, \"Emissions from Electrified Fleet, 50% Decarbonized Grid (48g CO2e/mi)\": null, \"Emissions from Electrified Fleet, Peak Carbon Intensity (132g CO2e/mi)\": null, \"Emission Scope\": \"Scope 1\", \"Activity Amount\": 85.0, \"Unnamed: 24\": null, \"Supplier\": null, \"Scope 2L Supplier\": null, \"Description\": \"Per 2/3/20 email from Denise Byrne. Entered 2/13/20 by Cheryl Greenwald.\", \"Output Type\": \"CO2e\", \"Output Amount\": 0.86, \"Output Amount Unit\": \"tonnes\", \"Amount - Estimated\": false, \"Amount Estimation Description\": null, \"Meter or Ref. No.\": null, \"Acct. No.\": null, \"City\": null, \"EPA Facility\": \"Cambridge/Allston AQ:1190092\", \"Root Number\": null, \"Building Number\": null, \"University-wide GHG Status\": \"Baseline\", \"Campus\": \"Cambridge\", \"School-Level GHG Status\": \"Baseline\"}, {\"Organization Period\": \"CY 2019\", \"Org Unit Name\": \"Mobile Vehicle - GE Unleaded\", \"Time\": 2019.0, \"Type\": \"Gasoline\", \"Amount\": 75512.0, \"Output\": 678.93, \"From Date\": \"2019-04-01T00:00:00\", \"To Date\": \"2019-04-30T00:00:00\", \"Level 1\": \"Harvard Operational Control\", \"Level 2\": \"CS - Transportation\", \"Level 3\": \"180-Transportation\", \"Level 4\": \"Mobile Vehicle - GE Unleaded\", \"Level 5\": null, \"Activity Category\": \"Mobile Combustion\", \"Activity Unit\": \"US gallons\", \"Activity Type\": \"GASOLINE_MV\", \"Vehicle MPG\": 15.859, \"Total Miles Traveled  (Vehicle MPG * Activity Amount)\": 102528.435, \"tons of CO2 Total Emissions from Electrification (Column R * 96 g C02)\": 10.84973944, \"Emissions from Electrified Fleet (96g CO2e/mi)\": 21.69947888, \"Emissions from Electrified Fleet, 50% Decarbonized Grid (48g CO2e/mi)\": 10.84973944, \"Emissions from Electrified Fleet, Peak Carbon Intensity (132g CO2e/mi)\": 29.83678346, \"Emission Scope\": \"Scope 1\", \"Activity Amount\": 6465.0, \"Unnamed: 24\": 75512.0, \"Supplier\": null, \"Scope 2L Supplier\": null, \"Description\": \"Per 7/25/19 email from Denise Byrne. Entered 7/25/19 by Cheryl Greenwald.\", \"Output Type\": \"CO2e\", \"Output Amount\": 58.13, \"Output Amount Unit\": \"tonnes\", \"Amount - Estimated\": false, \"Amount Estimation Description\": null, \"Meter or Ref. No.\": null, \"Acct. No.\": null, \"City\": null, \"EPA Facility\": \"Cambridge/Allston AQ:1190092\", \"Root Number\": null, \"Building Number\": null, \"University-wide GHG Status\": \"Baseline\", \"Campus\": \"Cambridge\", \"School-Level GHG Status\": \"Baseline\"}, {\"Organization Period\": \"CY 2019\", \"Org Unit Name\": \"Mobile Vehicle - GE Unleaded\", \"Time\": null, \"Type\": null, \"Amount\": null, \"Output\": null, \"From Date\": \"2019-08-01T00:00:00\", \"To Date\": \"2019-08-31T00:00:00\", \"Level 1\": \"Harvard Operational Control\", \"Level 2\": \"CS - Transportation\", \"Level 3\": \"180-Transportation\", \"Level 4\": \"Mobile Vehicle - GE Unleaded\", \"Level 5\": null, \"Activity Category\": \"Mobile Combustion\", \"Activity Unit\": \"US gallons\", \"Activity Type\": \"GASOLINE_MV\", \"Vehicle MPG\": 15.859, \"Total Miles Traveled  (Vehicle MPG * Activity Amount)\": 89714.363, \"tons of CO2 Total Emissions from Electrification (Column R * 96 g C02)\": 9.49373179, \"Emissions from Electrified Fleet (96g CO2e/mi)\": null, \"Emissions from Electrified Fleet, 50% Decarbonized Grid (48g CO2e/mi)\": null, \"Emissions from Electrified Fleet, Peak Carbon Intensity (132g CO2e/mi)\": null, \"Emission Scope\": \"Scope 1\", \"Activity Amount\": 5657.0, \"Unnamed: 24\": null, \"Supplier\": null, \"Scope 2L Supplier\": null, \"Description\": \"Per 2/3/20 email from Denise Byrne. Entered 2/13/20 by Cheryl Greenwald.\", \"Output Type\": \"CO2e\", \"Output Amount\": 50.86, \"Output Amount Unit\": \"tonnes\", \"Amount - Estimated\": false, \"Amount Estimation Description\": null, \"Meter or Ref. No.\": null, \"Acct. No.\": null, \"City\": null, \"EPA Facility\": \"Cambridge/Allston AQ:1190092\", \"Root Number\": null, \"Building Number\": null, \"University-wide GHG Status\": \"Baseline\", \"Campus\": \"Cambridge\", \"School-Level GHG Status\": \"Baseline\"}, {\"Organization Period\": \"CY 2019\", \"Org Unit Name\": \"Mobile Vehicle - GE Unleaded\", \"Time\": null, \"Type\": null, \"Amount\": null, \"Output\": null, \"From Date\": \"2019-12-01T00:00:00\", \"To Date\": \"2019-12-31T00:00:00\", \"Level 1\": \"Harvard Operational Control\", \"Level 2\": \"CS - Transportation\", \"Level 3\": \"180-Transportation\", \"Level 4\": \"Mobile Vehicle - GE Unleaded\", \"Level 5\": null, \"Activity Category\": \"Mobile Combustion\", \"Activity Unit\": \"US gallons\", \"Activity Type\": \"GASOLINE_MV\", \"Vehicle MPG\": 15.859, \"Total Miles Traveled  (Vehicle MPG * Activity Amount)\": 122938.968, \"tons of CO2 Total Emissions from Electrification (Column R * 96 g C02)\": 13.00961797, \"Emissions from Electrified Fleet (96g CO2e/mi)\": null, \"Emissions from Electrified Fleet, 50% Decarbonized Grid (48g CO2e/mi)\": null, \"Emissions from Electrified Fleet, Peak Carbon Intensity (132g CO2e/mi)\": null, \"Emission Scope\": \"Scope 1\", \"Activity Amount\": 7752.0, \"Unnamed: 24\": null, \"Supplier\": null, \"Scope 2L Supplier\": null, \"Description\": \"Per 2/3/20 email from Denise Byrne. Entered 2/13/20 by Cheryl Greenwald.\", \"Output Type\": \"CO2e\", \"Output Amount\": 69.7, \"Output Amount Unit\": \"tonnes\", \"Amount - Estimated\": false, \"Amount Estimation Description\": null, \"Meter or Ref. No.\": null, \"Acct. No.\": null, \"City\": null, \"EPA Facility\": \"Cambridge/Allston AQ:1190092\", \"Root Number\": null, \"Building Number\": null, \"University-wide GHG Status\": \"Baseline\", \"Campus\": \"Cambridge\", \"School-Level GHG Status\": \"Baseline\"}, {\"Organization Period\": \"CY 2019\", \"Org Unit Name\": \"Mobile Vehicle - GE Unleaded\", \"Time\": null, \"Type\": null, \"Amount\": null, \"Output\": null, \"From Date\": \"2019-02-01T00:00:00\", \"To Date\": \"2019-02-28T00:00:00\", \"Level 1\": \"Harvard Operational Control\", \"Level 2\": \"CS - Transportation\", \"Level 3\": \"180-Transportation\", \"Level 4\": \"Mobile Vehicle - GE Unleaded\", \"Level 5\": null, \"Activity Category\": \"Mobile Combustion\", \"Activity Unit\": \"US gallons\", \"Activity Type\": \"GASOLINE_MV\", \"Vehicle MPG\": 15.859, \"Total Miles Traveled  (Vehicle MPG * Activity Amount)\": 66782.249, \"tons of CO2 Total Emissions from Electrification (Column R * 96 g C02)\": 7.067015126, \"Emissions from Electrified Fleet (96g CO2e/mi)\": null, \"Emissions from Electrified Fleet, 50% Decarbonized Grid (48g CO2e/mi)\": null, \"Emissions from Electrified Fleet, Peak Carbon Intensity (132g CO2e/mi)\": null, \"Emission Scope\": \"Scope 1\", \"Activity Amount\": 4211.0, \"Unnamed: 24\": null, \"Supplier\": null, \"Scope 2L Supplier\": null, \"Description\": \"Per 7/25/19 email from Denise Byrne. Entered 7/25/19 by Cheryl Greenwald.\", \"Output Type\": \"CO2e\", \"Output Amount\": 37.86, \"Output Amount Unit\": \"tonnes\", \"Amount - Estimated\": false, \"Amount Estimation Description\": null, \"Meter or Ref. No.\": null, \"Acct. No.\": null, \"City\": null, \"EPA Facility\": \"Cambridge/Allston AQ:1190092\", \"Root Number\": null, \"Building Number\": null, \"University-wide GHG Status\": \"Baseline\", \"Campus\": \"Cambridge\", \"School-Level GHG Status\": \"Baseline\"}, {\"Organization Period\": \"CY 2019\", \"Org Unit Name\": \"Mobile Vehicle - GE Unleaded\", \"Time\": null, \"Type\": null, \"Amount\": null, \"Output\": null, \"From Date\": \"2019-01-01T00:00:00\", \"To Date\": \"2019-01-31T00:00:00\", \"Level 1\": \"Harvard Operational Control\", \"Level 2\": \"CS - Transportation\", \"Level 3\": \"180-Transportation\", \"Level 4\": \"Mobile Vehicle - GE Unleaded\", \"Level 5\": null, \"Activity Category\": \"Mobile Combustion\", \"Activity Unit\": \"US gallons\", \"Activity Type\": \"GASOLINE_MV\", \"Vehicle MPG\": 15.859, \"Total Miles Traveled  (Vehicle MPG * Activity Amount)\": 86764.589, \"tons of CO2 Total Emissions from Electrification (Column R * 96 g C02)\": 9.181581514, \"Emissions from Electrified Fleet (96g CO2e/mi)\": null, \"Emissions from Electrified Fleet, 50% Decarbonized Grid (48g CO2e/mi)\": null, \"Emissions from Electrified Fleet, Peak Carbon Intensity (132g CO2e/mi)\": null, \"Emission Scope\": \"Scope 1\", \"Activity Amount\": 5471.0, \"Unnamed: 24\": null, \"Supplier\": null, \"Scope 2L Supplier\": null, \"Description\": \"Per 7/25/19 email from Denise Byrne. Entered 7/25/19 by Cheryl Greenwald.\", \"Output Type\": \"CO2e\", \"Output Amount\": 49.19, \"Output Amount Unit\": \"tonnes\", \"Amount - Estimated\": false, \"Amount Estimation Description\": null, \"Meter or Ref. No.\": null, \"Acct. No.\": null, \"City\": null, \"EPA Facility\": \"Cambridge/Allston AQ:1190092\", \"Root Number\": null, \"Building Number\": null, \"University-wide GHG Status\": \"Baseline\", \"Campus\": \"Cambridge\", \"School-Level GHG Status\": \"Baseline\"}, {\"Organization Period\": \"CY 2019\", \"Org Unit Name\": \"Mobile Vehicle - GE Unleaded\", \"Time\": null, \"Type\": null, \"Amount\": null, \"Output\": null, \"From Date\": \"2019-07-01T00:00:00\", \"To Date\": \"2019-07-31T00:00:00\", \"Level 1\": \"Harvard Operational Control\", \"Level 2\": \"CS - Transportation\", \"Level 3\": \"180-Transportation\", \"Level 4\": \"Mobile Vehicle - GE Unleaded\", \"Level 5\": null, \"Activity Category\": \"Mobile Combustion\", \"Activity Unit\": \"US gallons\", \"Activity Type\": \"GASOLINE_MV\", \"Vehicle MPG\": 15.859, \"Total Miles Traveled  (Vehicle MPG * Activity Amount)\": 96502.015, \"tons of CO2 Total Emissions from Electrification (Column R * 96 g C02)\": 10.21201307, \"Emissions from Electrified Fleet (96g CO2e/mi)\": null, \"Emissions from Electrified Fleet, 50% Decarbonized Grid (48g CO2e/mi)\": null, \"Emissions from Electrified Fleet, Peak Carbon Intensity (132g CO2e/mi)\": null, \"Emission Scope\": \"Scope 1\", \"Activity Amount\": 6085.0, \"Unnamed: 24\": null, \"Supplier\": null, \"Scope 2L Supplier\": null, \"Description\": \"Per 2/3/20 email from Denise Byrne. Entered 2/13/20 by Cheryl Greenwald.\", \"Output Type\": \"CO2e\", \"Output Amount\": 54.71, \"Output Amount Unit\": \"tonnes\", \"Amount - Estimated\": false, \"Amount Estimation Description\": null, \"Meter or Ref. No.\": null, \"Acct. No.\": null, \"City\": null, \"EPA Facility\": \"Cambridge/Allston AQ:1190092\", \"Root Number\": null, \"Building Number\": null, \"University-wide GHG Status\": \"Baseline\", \"Campus\": \"Cambridge\", \"School-Level GHG Status\": \"Baseline\"}, {\"Organization Period\": \"CY 2019\", \"Org Unit Name\": \"Mobile Vehicle - GE Unleaded\", \"Time\": null, \"Type\": null, \"Amount\": null, \"Output\": null, \"From Date\": \"2019-06-01T00:00:00\", \"To Date\": \"2019-06-30T00:00:00\", \"Level 1\": \"Harvard Operational Control\", \"Level 2\": \"CS - Transportation\", \"Level 3\": \"180-Transportation\", \"Level 4\": \"Mobile Vehicle - GE Unleaded\", \"Level 5\": null, \"Activity Category\": \"Mobile Combustion\", \"Activity Unit\": \"US gallons\", \"Activity Type\": \"GASOLINE_MV\", \"Vehicle MPG\": 15.859, \"Total Miles Traveled  (Vehicle MPG * Activity Amount)\": 113772.466, \"tons of CO2 Total Emissions from Electrification (Column R * 96 g C02)\": 12.03960259, \"Emissions from Electrified Fleet (96g CO2e/mi)\": null, \"Emissions from Electrified Fleet, 50% Decarbonized Grid (48g CO2e/mi)\": null, \"Emissions from Electrified Fleet, Peak Carbon Intensity (132g CO2e/mi)\": null, \"Emission Scope\": \"Scope 1\", \"Activity Amount\": 7174.0, \"Unnamed: 24\": null, \"Supplier\": null, \"Scope 2L Supplier\": null, \"Description\": \"Per 7/25/19 email from Denise Byrne. Entered 7/25/19 by Cheryl Greenwald.\", \"Output Type\": \"CO2e\", \"Output Amount\": 64.5, \"Output Amount Unit\": \"tonnes\", \"Amount - Estimated\": false, \"Amount Estimation Description\": null, \"Meter or Ref. No.\": null, \"Acct. No.\": null, \"City\": null, \"EPA Facility\": \"Cambridge/Allston AQ:1190092\", \"Root Number\": null, \"Building Number\": null, \"University-wide GHG Status\": \"Baseline\", \"Campus\": \"Cambridge\", \"School-Level GHG Status\": \"Baseline\"}, {\"Organization Period\": \"CY 2019\", \"Org Unit Name\": \"Mobile Vehicle - GE Unleaded\", \"Time\": null, \"Type\": null, \"Amount\": null, \"Output\": null, \"From Date\": \"2019-03-01T00:00:00\", \"To Date\": \"2019-03-31T00:00:00\", \"Level 1\": \"Harvard Operational Control\", \"Level 2\": \"CS - Transportation\", \"Level 3\": \"180-Transportation\", \"Level 4\": \"Mobile Vehicle - GE Unleaded\", \"Level 5\": null, \"Activity Category\": \"Mobile Combustion\", \"Activity Unit\": \"US gallons\", \"Activity Type\": \"GASOLINE_MV\", \"Vehicle MPG\": 15.859, \"Total Miles Traveled  (Vehicle MPG * Activity Amount)\": 125777.729, \"tons of CO2 Total Emissions from Electrification (Column R * 96 g C02)\": 13.31002065, \"Emissions from Electrified Fleet (96g CO2e/mi)\": null, \"Emissions from Electrified Fleet, 50% Decarbonized Grid (48g CO2e/mi)\": null, \"Emissions from Electrified Fleet, Peak Carbon Intensity (132g CO2e/mi)\": null, \"Emission Scope\": \"Scope 1\", \"Activity Amount\": 7931.0, \"Unnamed: 24\": null, \"Supplier\": null, \"Scope 2L Supplier\": null, \"Description\": \"Per 7/25/19 email from Denise Byrne. Entered 7/25/19 by Cheryl Greenwald.\", \"Output Type\": \"CO2e\", \"Output Amount\": 71.31, \"Output Amount Unit\": \"tonnes\", \"Amount - Estimated\": false, \"Amount Estimation Description\": null, \"Meter or Ref. No.\": null, \"Acct. No.\": null, \"City\": null, \"EPA Facility\": \"Cambridge/Allston AQ:1190092\", \"Root Number\": null, \"Building Number\": null, \"University-wide GHG Status\": \"Baseline\", \"Campus\": \"Cambridge\", \"School-Level GHG Status\": \"Baseline\"}, {\"Organization Period\": \"CY 2019\", \"Org Unit Name\": \"Mobile Vehicle - GE Unleaded\", \"Time\": null, \"Type\": null, \"Amount\": null, \"Output\": null, \"From Date\": \"2019-05-01T00:00:00\", \"To Date\": \"2019-05-31T00:00:00\", \"Level 1\": \"Harvard Operational Control\", \"Level 2\": \"CS - Transportation\", \"Level 3\": \"180-Transportation\", \"Level 4\": \"Mobile Vehicle - GE Unleaded\", \"Level 5\": null, \"Activity Category\": \"Mobile Combustion\", \"Activity Unit\": \"US gallons\", \"Activity Type\": \"GASOLINE_MV\", \"Vehicle MPG\": 15.859, \"Total Miles Traveled  (Vehicle MPG * Activity Amount)\": 86257.101, \"tons of CO2 Total Emissions from Electrification (Column R * 96 g C02)\": 9.12787824, \"Emissions from Electrified Fleet (96g CO2e/mi)\": null, \"Emissions from Electrified Fleet, 50% Decarbonized Grid (48g CO2e/mi)\": null, \"Emissions from Electrified Fleet, Peak Carbon Intensity (132g CO2e/mi)\": null, \"Emission Scope\": \"Scope 1\", \"Activity Amount\": 5439.0, \"Unnamed: 24\": null, \"Supplier\": null, \"Scope 2L Supplier\": null, \"Description\": \"Per 7/25/19 email from Denise Byrne. Entered 7/25/19 by Cheryl Greenwald.\", \"Output Type\": \"CO2e\", \"Output Amount\": 48.9, \"Output Amount Unit\": \"tonnes\", \"Amount - Estimated\": false, \"Amount Estimation Description\": null, \"Meter or Ref. No.\": null, \"Acct. No.\": null, \"City\": null, \"EPA Facility\": \"Cambridge/Allston AQ:1190092\", \"Root Number\": null, \"Building Number\": null, \"University-wide GHG Status\": \"Baseline\", \"Campus\": \"Cambridge\", \"School-Level GHG Status\": \"Baseline\"}, {\"Organization Period\": \"CY 2019\", \"Org Unit Name\": \"Mobile Vehicle - GE Unleaded\", \"Time\": null, \"Type\": null, \"Amount\": null, \"Output\": null, \"From Date\": \"2019-11-01T00:00:00\", \"To Date\": \"2019-11-30T00:00:00\", \"Level 1\": \"Harvard Operational Control\", \"Level 2\": \"CS - Transportation\", \"Level 3\": \"180-Transportation\", \"Level 4\": \"Mobile Vehicle - GE Unleaded\", \"Level 5\": null, \"Activity Category\": \"Mobile Combustion\", \"Activity Unit\": \"US gallons\", \"Activity Type\": \"GASOLINE_MV\", \"Vehicle MPG\": 15.859, \"Total Miles Traveled  (Vehicle MPG * Activity Amount)\": 91585.725, \"tons of CO2 Total Emissions from Electrification (Column R * 96 g C02)\": 9.69176261, \"Emissions from Electrified Fleet (96g CO2e/mi)\": null, \"Emissions from Electrified Fleet, 50% Decarbonized Grid (48g CO2e/mi)\": null, \"Emissions from Electrified Fleet, Peak Carbon Intensity (132g CO2e/mi)\": null, \"Emission Scope\": \"Scope 1\", \"Activity Amount\": 5775.0, \"Unnamed: 24\": null, \"Supplier\": null, \"Scope 2L Supplier\": null, \"Description\": \"Per 2/3/20 email from Denise Byrne. Entered 2/13/20 by Cheryl Greenwald.\", \"Output Type\": \"CO2e\", \"Output Amount\": 51.92, \"Output Amount Unit\": \"tonnes\", \"Amount - Estimated\": false, \"Amount Estimation Description\": null, \"Meter or Ref. No.\": null, \"Acct. No.\": null, \"City\": null, \"EPA Facility\": \"Cambridge/Allston AQ:1190092\", \"Root Number\": null, \"Building Number\": null, \"University-wide GHG Status\": \"Baseline\", \"Campus\": \"Cambridge\", \"School-Level GHG Status\": \"Baseline\"}, {\"Organization Period\": \"CY 2019\", \"Org Unit Name\": \"Mobile Vehicle - GE Unleaded\", \"Time\": null, \"Type\": null, \"Amount\": null, \"Output\": null, \"From Date\": \"2019-10-01T00:00:00\", \"To Date\": \"2019-10-31T00:00:00\", \"Level 1\": \"Harvard Operational Control\", \"Level 2\": \"CS - Transportation\", \"Level 3\": \"180-Transportation\", \"Level 4\": \"Mobile Vehicle - GE Unleaded\", \"Level 5\": null, \"Activity Category\": \"Mobile Combustion\", \"Activity Unit\": \"US gallons\", \"Activity Type\": \"GASOLINE_MV\", \"Vehicle MPG\": 15.859, \"Total Miles Traveled  (Vehicle MPG * Activity Amount)\": 94916.115, \"tons of CO2 Total Emissions from Electrification (Column R * 96 g C02)\": 10.04419034, \"Emissions from Electrified Fleet (96g CO2e/mi)\": null, \"Emissions from Electrified Fleet, 50% Decarbonized Grid (48g CO2e/mi)\": null, \"Emissions from Electrified Fleet, Peak Carbon Intensity (132g CO2e/mi)\": null, \"Emission Scope\": \"Scope 1\", \"Activity Amount\": 5985.0, \"Unnamed: 24\": null, \"Supplier\": null, \"Scope 2L Supplier\": null, \"Description\": \"Per 2/3/20 email from Denise Byrne. Entered 2/13/20 by Cheryl Greenwald.\", \"Output Type\": \"CO2e\", \"Output Amount\": 53.81, \"Output Amount Unit\": \"tonnes\", \"Amount - Estimated\": false, \"Amount Estimation Description\": null, \"Meter or Ref. No.\": null, \"Acct. No.\": null, \"City\": null, \"EPA Facility\": \"Cambridge/Allston AQ:1190092\", \"Root Number\": null, \"Building Number\": null, \"University-wide GHG Status\": \"Baseline\", \"Campus\": \"Cambridge\", \"School-Level GHG Status\": \"Baseline\"}, {\"Organization Period\": \"CY 2019\", \"Org Unit Name\": \"Mobile Vehicle - GE Unleaded\", \"Time\": null, \"Type\": null, \"Amount\": null, \"Output\": null, \"From Date\": \"2019-09-01T00:00:00\", \"To Date\": \"2019-09-30T00:00:00\", \"Level 1\": \"Harvard Operational Control\", \"Level 2\": \"CS - Transportation\", \"Level 3\": \"180-Transportation\", \"Level 4\": \"Mobile Vehicle - GE Unleaded\", \"Level 5\": null, \"Activity Category\": \"Mobile Combustion\", \"Activity Unit\": \"US gallons\", \"Activity Type\": \"GASOLINE_MV\", \"Vehicle MPG\": 15.859, \"Total Miles Traveled  (Vehicle MPG * Activity Amount)\": 120005.053, \"tons of CO2 Total Emissions from Electrification (Column R * 96 g C02)\": 12.69914592, \"Emissions from Electrified Fleet (96g CO2e/mi)\": null, \"Emissions from Electrified Fleet, 50% Decarbonized Grid (48g CO2e/mi)\": null, \"Emissions from Electrified Fleet, Peak Carbon Intensity (132g CO2e/mi)\": null, \"Emission Scope\": \"Scope 1\", \"Activity Amount\": 7567.0, \"Unnamed: 24\": null, \"Supplier\": null, \"Scope 2L Supplier\": null, \"Description\": \"Per 2/3/20 email from Denise Byrne. Entered 2/13/20 by Cheryl Greenwald.\", \"Output Type\": \"CO2e\", \"Output Amount\": 68.04, \"Output Amount Unit\": \"tonnes\", \"Amount - Estimated\": false, \"Amount Estimation Description\": null, \"Meter or Ref. No.\": null, \"Acct. No.\": null, \"City\": null, \"EPA Facility\": \"Cambridge/Allston AQ:1190092\", \"Root Number\": null, \"Building Number\": null, \"University-wide GHG Status\": \"Baseline\", \"Campus\": \"Cambridge\", \"School-Level GHG Status\": \"Baseline\"}, {\"Organization Period\": \"CY 2019\", \"Org Unit Name\": \"Mobile Vehicle - HUPD Fuel Use\", \"Time\": 2019.0, \"Type\": \"Gasoline\", \"Amount\": 29305.57, \"Output\": 263.49, \"From Date\": \"2019-01-01T00:00:00\", \"To Date\": \"2019-06-30T00:00:00\", \"Level 1\": \"Harvard Operational Control\", \"Level 2\": \"Campus Services\", \"Level 3\": \"610-CADM\", \"Level 4\": \"Mobile Vehicle - HUPD Fuel Use\", \"Level 5\": null, \"Activity Category\": \"Mobile Combustion\", \"Activity Unit\": \"US gallons\", \"Activity Type\": \"GASOLINE_MV\", \"Vehicle MPG\": 15.859, \"Total Miles Traveled  (Vehicle MPG * Activity Amount)\": 220938.5484, \"tons of CO2 Total Emissions from Electrification (Column R * 96 g C02)\": 23.38010604, \"Emissions from Electrified Fleet (96g CO2e/mi)\": 49.18140738, \"Emissions from Electrified Fleet, 50% Decarbonized Grid (48g CO2e/mi)\": 24.59070369, \"Emissions from Electrified Fleet, Peak Carbon Intensity (132g CO2e/mi)\": 67.62443514, \"Emission Scope\": \"Scope 1\", \"Activity Amount\": 13931.43, \"Unnamed: 24\": 29305.57, \"Supplier\": null, \"Scope 2L Supplier\": null, \"Description\": \"Per 7/16/19 email from Lisa Mickiewicz. Entered 7/17/19 by Cheryl Greenwald.\", \"Output Type\": \"CO2e\", \"Output Amount\": 125.26, \"Output Amount Unit\": \"tonnes\", \"Amount - Estimated\": false, \"Amount Estimation Description\": null, \"Meter or Ref. No.\": null, \"Acct. No.\": null, \"City\": null, \"EPA Facility\": \"Cambridge/Allston AQ:1190092\", \"Root Number\": null, \"Building Number\": null, \"University-wide GHG Status\": \"Baseline\", \"Campus\": \"Cambridge\", \"School-Level GHG Status\": \"Baseline\"}, {\"Organization Period\": \"CY 2019\", \"Org Unit Name\": \"Mobile Vehicle - HUPD Fuel Use\", \"Time\": null, \"Type\": null, \"Amount\": null, \"Output\": null, \"From Date\": \"2019-07-01T00:00:00\", \"To Date\": \"2019-12-31T00:00:00\", \"Level 1\": \"Harvard Operational Control\", \"Level 2\": \"Campus Services\", \"Level 3\": \"610-CADM\", \"Level 4\": \"Mobile Vehicle - HUPD Fuel Use\", \"Level 5\": null, \"Activity Category\": \"Mobile Combustion\", \"Activity Unit\": \"US gallons\", \"Activity Type\": \"GASOLINE_MV\", \"Vehicle MPG\": 15.859, \"Total Miles Traveled  (Vehicle MPG * Activity Amount)\": 243818.4863, \"tons of CO2 Total Emissions from Electrification (Column R * 96 g C02)\": 25.80130134, \"Emissions from Electrified Fleet (96g CO2e/mi)\": null, \"Emissions from Electrified Fleet, 50% Decarbonized Grid (48g CO2e/mi)\": null, \"Emissions from Electrified Fleet, Peak Carbon Intensity (132g CO2e/mi)\": null, \"Emission Scope\": \"Scope 1\", \"Activity Amount\": 15374.14, \"Unnamed: 24\": null, \"Supplier\": null, \"Scope 2L Supplier\": null, \"Description\": \"Per 2/3/20 email from Lisa Mickiewicz. Entered 2/21/20 by Cheryl Greenwald.\", \"Output Type\": \"CO2e\", \"Output Amount\": 138.23, \"Output Amount Unit\": \"tonnes\", \"Amount - Estimated\": false, \"Amount Estimation Description\": null, \"Meter or Ref. No.\": null, \"Acct. No.\": null, \"City\": null, \"EPA Facility\": \"Cambridge/Allston AQ:1190092\", \"Root Number\": null, \"Building Number\": null, \"University-wide GHG Status\": \"Baseline\", \"Campus\": \"Cambridge\", \"School-Level GHG Status\": \"Baseline\"}, {\"Organization Period\": \"CY 2019\", \"Org Unit Name\": \"Mobile Vehicle - Phillips Brooks House (03369; B-225)\", \"Time\": 2019.0, \"Type\": \"Gasoline\", \"Amount\": 6213.96, \"Output\": 54.98, \"From Date\": \"2019-01-01T00:00:00\", \"To Date\": \"2019-06-30T00:00:00\", \"Level 1\": \"Harvard Operational Control\", \"Level 2\": \"Faculty of Arts and Sciences\", \"Level 3\": \"310-FCOL\", \"Level 4\": \"Phillips Brooks House (03369; B-225)\", \"Level 5\": \"Mobile Vehicle - Phillips Brooks House (03369; B-225)\", \"Activity Category\": \"Mobile Combustion\", \"Activity Unit\": \"US gallons\", \"Activity Type\": \"GASOLINE_MV\", \"Vehicle MPG\": 15.859, \"Total Miles Traveled  (Vehicle MPG * Activity Amount)\": 49273.59582, \"tons of CO2 Total Emissions from Electrification (Column R * 96 g C02)\": 5.214218631, \"Emissions from Electrified Fleet (96g CO2e/mi)\": 10.42843726, \"Emissions from Electrified Fleet, 50% Decarbonized Grid (48g CO2e/mi)\": 5.214218631, \"Emissions from Electrified Fleet, Peak Carbon Intensity (132g CO2e/mi)\": 14.33910124, \"Emission Scope\": \"Scope 1\", \"Activity Amount\": 3106.98, \"Unnamed: 24\": 6213.96, \"Supplier\": null, \"Scope 2L Supplier\": null, \"Description\": \"Estimated half-year value carried forward. Entered 11/13/19 by Cheryl Greenwald.\", \"Output Type\": \"CO2e\", \"Output Amount\": 27.94, \"Output Amount Unit\": \"tonnes\", \"Amount - Estimated\": true, \"Amount Estimation Description\": \"Estimated half-year value carried forward. Entered 11/13/19 by Cheryl Greenwald.\", \"Meter or Ref. No.\": null, \"Acct. No.\": null, \"City\": null, \"EPA Facility\": \"Cambridge/Allston AQ:1190092\", \"Root Number\": null, \"Building Number\": null, \"University-wide GHG Status\": \"Baseline\", \"Campus\": \"Cambridge\", \"School-Level GHG Status\": \"Baseline\"}, {\"Organization Period\": \"CY 2019\", \"Org Unit Name\": \"Mobile Vehicle - Phillips Brooks House (03369; B-225)\", \"Time\": null, \"Type\": null, \"Amount\": null, \"Output\": null, \"From Date\": \"2019-07-01T00:00:00\", \"To Date\": \"2019-12-31T00:00:00\", \"Level 1\": \"Harvard Operational Control\", \"Level 2\": \"Faculty of Arts and Sciences\", \"Level 3\": \"310-FCOL\", \"Level 4\": \"Phillips Brooks House (03369; B-225)\", \"Level 5\": \"Mobile Vehicle - Phillips Brooks House (03369; B-225)\", \"Activity Category\": \"Mobile Combustion\", \"Activity Unit\": \"US gallons\", \"Activity Type\": \"GASOLINE_MV\", \"Vehicle MPG\": 15.859, \"Total Miles Traveled  (Vehicle MPG * Activity Amount)\": 49273.59582, \"tons of CO2 Total Emissions from Electrification (Column R * 96 g C02)\": 5.214218631, \"Emissions from Electrified Fleet (96g CO2e/mi)\": null, \"Emissions from Electrified Fleet, 50% Decarbonized Grid (48g CO2e/mi)\": null, \"Emissions from Electrified Fleet, Peak Carbon Intensity (132g CO2e/mi)\": null, \"Emission Scope\": \"Scope 1\", \"Activity Amount\": 3106.98, \"Unnamed: 24\": null, \"Supplier\": null, \"Scope 2L Supplier\": null, \"Description\": \"Estimated half-year value carried forward. Entered 3/5/20 by Cheryl Greenwald.\", \"Output Type\": \"CO2e\", \"Output Amount\": 27.94, \"Output Amount Unit\": \"tonnes\", \"Amount - Estimated\": true, \"Amount Estimation Description\": \"Estimated half-year value carried forward. Entered 3/5/20 by Cheryl Greenwald.\", \"Meter or Ref. No.\": null, \"Acct. No.\": null, \"City\": null, \"EPA Facility\": \"Cambridge/Allston AQ:1190092\", \"Root Number\": null, \"Building Number\": null, \"University-wide GHG Status\": \"Baseline\", \"Campus\": \"Cambridge\", \"School-Level GHG Status\": \"Baseline\"}]}}, {\"mode\": \"vega-lite\"});\n</script>",
            "text/plain": "alt.Chart(...)"
          },
          "metadata": {}
        }
      ]
    },
    {
      "cell_type": "code",
      "metadata": {
        "tags": [],
        "cell_id": "00019-7d795d23-a38f-4d1a-b3a2-595a1b9aff1d",
        "deepnote_to_be_reexecuted": false,
        "source_hash": "b3390184",
        "execution_millis": 57,
        "execution_start": 1617669806518,
        "deepnote_cell_type": "code"
      },
      "source": "emit = alt.Chart(final, title=\"Emissions in 2019\").mark_bar().encode(\n    x=alt.X('Type:N', axis=alt.Axis(labels=False, title='Vehicle by Fuel Type')),\n    y=alt.Y('Output:Q', axis=alt.Axis(title='Emissions from Current Fleet (CO2e/mi)')),\n    color=alt.Color('Type', legend=alt.Legend(title=\"Fuel Types\"))\n).properties(width=500)\n\nemit.save('emissions2019.json')\n",
      "execution_count": null,
      "outputs": []
    },
    {
      "cell_type": "code",
      "metadata": {
        "tags": [],
        "cell_id": "00021-81731f8a-5d62-48de-9fce-4f273f970a4f",
        "deepnote_to_be_reexecuted": false,
        "source_hash": "6eaea3e",
        "execution_millis": 19,
        "execution_start": 1617669189456,
        "deepnote_cell_type": "code"
      },
      "source": "alt.Chart(final, title=\"Electrified Fleet Emissions: Current Electric Grid\").mark_bar().encode(\n    x=alt.X('Type:N', axis=alt.Axis(labels=False, title='Vehicle by Original Fuel Type')),\n    y=alt.Y('Emissions from Electrified Fleet (96g CO2e/mi):Q', axis=alt.Axis(title='Emission Output (tons of CO2)')),\n    color=alt.Color('Type', legend=alt.Legend(title=\"Fuel Types\"))\n).properties(width=500)\n",
      "execution_count": null,
      "outputs": [
        {
          "output_type": "execute_result",
          "execution_count": 23,
          "data": {
            "text/html": "\n<div id=\"altair-viz-2f60e7fffe9441e286c679d04d966264\"></div>\n<script type=\"text/javascript\">\n  (function(spec, embedOpt){\n    let outputDiv = document.currentScript.previousElementSibling;\n    if (outputDiv.id !== \"altair-viz-2f60e7fffe9441e286c679d04d966264\") {\n      outputDiv = document.getElementById(\"altair-viz-2f60e7fffe9441e286c679d04d966264\");\n    }\n    const paths = {\n      \"vega\": \"https://cdn.jsdelivr.net/npm//vega@5?noext\",\n      \"vega-lib\": \"https://cdn.jsdelivr.net/npm//vega-lib?noext\",\n      \"vega-lite\": \"https://cdn.jsdelivr.net/npm//vega-lite@4.8.1?noext\",\n      \"vega-embed\": \"https://cdn.jsdelivr.net/npm//vega-embed@6?noext\",\n    };\n\n    function loadScript(lib) {\n      return new Promise(function(resolve, reject) {\n        var s = document.createElement('script');\n        s.src = paths[lib];\n        s.async = true;\n        s.onload = () => resolve(paths[lib]);\n        s.onerror = () => reject(`Error loading script: ${paths[lib]}`);\n        document.getElementsByTagName(\"head\")[0].appendChild(s);\n      });\n    }\n\n    function showError(err) {\n      outputDiv.innerHTML = `<div class=\"error\" style=\"color:red;\">${err}</div>`;\n      throw err;\n    }\n\n    function displayChart(vegaEmbed) {\n      vegaEmbed(outputDiv, spec, embedOpt)\n        .catch(err => showError(`Javascript Error: ${err.message}<br>This usually means there's a typo in your chart specification. See the javascript console for the full traceback.`));\n    }\n\n    if(typeof define === \"function\" && define.amd) {\n      requirejs.config({paths});\n      require([\"vega-embed\"], displayChart, err => showError(`Error loading script: ${err.message}`));\n    } else if (typeof vegaEmbed === \"function\") {\n      displayChart(vegaEmbed);\n    } else {\n      loadScript(\"vega\")\n        .then(() => loadScript(\"vega-lite\"))\n        .then(() => loadScript(\"vega-embed\"))\n        .catch(showError)\n        .then(() => displayChart(vegaEmbed));\n    }\n  })({\"config\": {\"view\": {\"continuousWidth\": 400, \"continuousHeight\": 300}}, \"data\": {\"name\": \"data-24dac1e45a91c91dd580ca59d95c4b21\"}, \"mark\": \"bar\", \"encoding\": {\"color\": {\"type\": \"nominal\", \"field\": \"Type\", \"legend\": {\"title\": \"Fuel Types\"}}, \"x\": {\"type\": \"nominal\", \"axis\": {\"labels\": false, \"title\": \"Vehicle by Original Fuel Type\"}, \"field\": \"Type\"}, \"y\": {\"type\": \"quantitative\", \"axis\": {\"title\": \"Emission Output (tons of CO2)\"}, \"field\": \"Emissions from Electrified Fleet (96g CO2e/mi)\"}}, \"title\": \"Electrified Fleet Emissions: Current Electric Grid\", \"width\": 500, \"$schema\": \"https://vega.github.io/schema/vega-lite/v4.8.1.json\", \"datasets\": {\"data-24dac1e45a91c91dd580ca59d95c4b21\": [{\"Organization Period\": \"CY 2019\", \"Org Unit Name\": \"370-FCOR\", \"Time\": 2019.0, \"Type\": \"Propane\", \"Amount\": 2000.0, \"Output\": 11.48, \"From Date\": \"2019-01-01T00:00:00\", \"To Date\": \"2019-06-30T00:00:00\", \"Level 1\": \"Harvard Operational Control\", \"Level 2\": \"Faculty of Arts and Sciences\", \"Level 3\": \"370-FCOR\", \"Level 4\": null, \"Level 5\": null, \"Activity Category\": \"Mobile Combustion\", \"Activity Unit\": \"US gallons\", \"Activity Type\": \"Propane_MV\", \"Vehicle MPG\": 13.0, \"Total Miles Traveled  (Vehicle MPG * Activity Amount)\": 13000.0, \"tons of CO2 Total Emissions from Electrification (Column R * 96 g C02)\": 1.37568288, \"Emissions from Electrified Fleet (96g CO2e/mi)\": 1.37568288, \"Emissions from Electrified Fleet, 50% Decarbonized Grid (48g CO2e/mi)\": 0.68784144, \"Emissions from Electrified Fleet, Peak Carbon Intensity (132g CO2e/mi)\": 1.89156396, \"Emission Scope\": \"Scope 1\", \"Activity Amount\": 1000.0, \"Unnamed: 24\": 2000.0, \"Supplier\": null, \"Scope 2L Supplier\": null, \"Description\": \"Estimated half-year value carried forward. Entered 8/22/19 by Cheryl Greenwald.\", \"Output Type\": \"CO2e\", \"Output Amount\": 5.74, \"Output Amount Unit\": \"tonnes\", \"Amount - Estimated\": true, \"Amount Estimation Description\": \"Estimated half-year value carried forward. Entered 8/22/19 by Cheryl Greenwald.\", \"Meter or Ref. No.\": null, \"Acct. No.\": null, \"City\": null, \"EPA Facility\": \"Cambridge/Allston AQ:1190092\", \"Root Number\": null, \"Building Number\": null, \"University-wide GHG Status\": \"Baseline\", \"Campus\": \"Cambridge\", \"School-Level GHG Status\": \"Baseline\"}, {\"Organization Period\": \"CY 2019\", \"Org Unit Name\": \"370-FCOR\", \"Time\": null, \"Type\": null, \"Amount\": null, \"Output\": null, \"From Date\": \"2019-07-01T00:00:00\", \"To Date\": \"2019-12-31T00:00:00\", \"Level 1\": \"Harvard Operational Control\", \"Level 2\": \"Faculty of Arts and Sciences\", \"Level 3\": \"370-FCOR\", \"Level 4\": null, \"Level 5\": null, \"Activity Category\": \"Mobile Combustion\", \"Activity Unit\": \"US gallons\", \"Activity Type\": \"Propane_MV\", \"Vehicle MPG\": 13.0, \"Total Miles Traveled  (Vehicle MPG * Activity Amount)\": 13000.0, \"tons of CO2 Total Emissions from Electrification (Column R * 96 g C02)\": null, \"Emissions from Electrified Fleet (96g CO2e/mi)\": null, \"Emissions from Electrified Fleet, 50% Decarbonized Grid (48g CO2e/mi)\": null, \"Emissions from Electrified Fleet, Peak Carbon Intensity (132g CO2e/mi)\": null, \"Emission Scope\": \"Scope 1\", \"Activity Amount\": 1000.0, \"Unnamed: 24\": null, \"Supplier\": null, \"Scope 2L Supplier\": null, \"Description\": \"Estimated half-year value carried forward. Entered 3/5/20 by Cheryl Greenwald.\", \"Output Type\": \"CO2e\", \"Output Amount\": 5.74, \"Output Amount Unit\": \"tonnes\", \"Amount - Estimated\": true, \"Amount Estimation Description\": \"Estimated half-year value carried forward. Entered 3/5/20 by Cheryl Greenwald.\", \"Meter or Ref. No.\": null, \"Acct. No.\": null, \"City\": null, \"EPA Facility\": \"Cambridge/Allston AQ:1190092\", \"Root Number\": null, \"Building Number\": null, \"University-wide GHG Status\": \"Baseline\", \"Campus\": \"Cambridge\", \"School-Level GHG Status\": \"Baseline\"}, {\"Organization Period\": \"CY 2019\", \"Org Unit Name\": \"Harvard Depository (01970; B-124)\", \"Time\": 2019.0, \"Type\": \"Diesel\", \"Amount\": 152.0, \"Output\": 1.54, \"From Date\": \"2019-01-01T00:00:00\", \"To Date\": \"2019-06-30T00:00:00\", \"Level 1\": \"Harvard Operational Control\", \"Level 2\": \"Campus Services\", \"Level 3\": \"195-HUL\", \"Level 4\": \"Harvard Depository (01970; B-124)\", \"Level 5\": null, \"Activity Category\": \"Mobile Combustion\", \"Activity Unit\": \"US gallons\", \"Activity Type\": \"DIESEL_MV\", \"Vehicle MPG\": 11.482, \"Total Miles Traveled  (Vehicle MPG * Activity Amount)\": 872.632, \"tons of CO2 Total Emissions from Electrification (Column R * 96 g C02)\": 0.09234345407, \"Emissions from Electrified Fleet (96g CO2e/mi)\": 1.338372561, \"Emissions from Electrified Fleet, 50% Decarbonized Grid (48g CO2e/mi)\": 0.6691862807, \"Emissions from Electrified Fleet, Peak Carbon Intensity (132g CO2e/mi)\": 1.840262272, \"Emission Scope\": \"Scope 1\", \"Activity Amount\": 76.0, \"Unnamed: 24\": 13167.595, \"Supplier\": null, \"Scope 2L Supplier\": null, \"Description\": \"NOT FOR COMPLIANCE REPORTING. Estimated half-year value carried forward. Entered 8/22/19 by Cheryl Greenwald.\", \"Output Type\": \"CO2e\", \"Output Amount\": 0.77, \"Output Amount Unit\": \"tonnes\", \"Amount - Estimated\": true, \"Amount Estimation Description\": \"NOT FOR COMPLIANCE REPORTING. Estimated half-year value carried forward. Entered 8/22/19 by Cheryl Greenwald.\", \"Meter or Ref. No.\": null, \"Acct. No.\": null, \"City\": \"Southborough\", \"EPA Facility\": \"Southborough - AQ:1190916\", \"Root Number\": 1970.0, \"Building Number\": 124.0, \"University-wide GHG Status\": \"Baseline\", \"Campus\": \"Southborough\", \"School-Level GHG Status\": \"Baseline\"}, {\"Organization Period\": \"CY 2019\", \"Org Unit Name\": \"Harvard Depository (01970; B-124)\", \"Time\": null, \"Type\": null, \"Amount\": null, \"Output\": null, \"From Date\": \"2019-07-01T00:00:00\", \"To Date\": \"2019-12-31T00:00:00\", \"Level 1\": \"Harvard Operational Control\", \"Level 2\": \"Campus Services\", \"Level 3\": \"195-HUL\", \"Level 4\": \"Harvard Depository (01970; B-124)\", \"Level 5\": null, \"Activity Category\": \"Mobile Combustion\", \"Activity Unit\": \"US gallons\", \"Activity Type\": \"DIESEL_MV\", \"Vehicle MPG\": 11.482, \"Total Miles Traveled  (Vehicle MPG * Activity Amount)\": 872.632, \"tons of CO2 Total Emissions from Electrification (Column R * 96 g C02)\": 0.09234345407, \"Emissions from Electrified Fleet (96g CO2e/mi)\": null, \"Emissions from Electrified Fleet, 50% Decarbonized Grid (48g CO2e/mi)\": null, \"Emissions from Electrified Fleet, Peak Carbon Intensity (132g CO2e/mi)\": null, \"Emission Scope\": \"Scope 1\", \"Activity Amount\": 76.0, \"Unnamed: 24\": null, \"Supplier\": null, \"Scope 2L Supplier\": null, \"Description\": \"Estimated half-year value carried forward. Entered 3/5/20 by Cheryl Greenwald.\", \"Output Type\": \"CO2e\", \"Output Amount\": 0.77, \"Output Amount Unit\": \"tonnes\", \"Amount - Estimated\": true, \"Amount Estimation Description\": \"Estimated half-year value carried forward. Entered 3/5/20 by Cheryl Greenwald.\", \"Meter or Ref. No.\": null, \"Acct. No.\": null, \"City\": \"Southborough\", \"EPA Facility\": \"Southborough - AQ:1190916\", \"Root Number\": 1970.0, \"Building Number\": 124.0, \"University-wide GHG Status\": \"Baseline\", \"Campus\": \"Southborough\", \"School-Level GHG Status\": \"Baseline\"}, {\"Organization Period\": \"CY 2019\", \"Org Unit Name\": \"HF: Sawmill (04153; B-466)\", \"Time\": null, \"Type\": null, \"Amount\": null, \"Output\": null, \"From Date\": \"2019-04-01T00:00:00\", \"To Date\": \"2019-04-30T00:00:00\", \"Level 1\": \"Harvard Operational Control\", \"Level 2\": \"Faculty of Arts and Sciences\", \"Level 3\": \"370-FCOR\", \"Level 4\": \"HF: Forest Teaching and Research Roll Up (04180; B-04180)\", \"Level 5\": \"HF: Sawmill (04153; B-466)\", \"Activity Category\": \"Mobile Combustion\", \"Activity Unit\": \"US gallons\", \"Activity Type\": \"DIESEL_MV\", \"Vehicle MPG\": 11.482, \"Total Miles Traveled  (Vehicle MPG * Activity Amount)\": 2904.946, \"tons of CO2 Total Emissions from Electrification (Column R * 96 g C02)\": 0.3074064984, \"Emissions from Electrified Fleet (96g CO2e/mi)\": null, \"Emissions from Electrified Fleet, 50% Decarbonized Grid (48g CO2e/mi)\": null, \"Emissions from Electrified Fleet, Peak Carbon Intensity (132g CO2e/mi)\": null, \"Emission Scope\": \"Scope 1\", \"Activity Amount\": 253.0, \"Unnamed: 24\": null, \"Supplier\": null, \"Scope 2L Supplier\": null, \"Description\": \"Used mostly for chipping wood. Per 7/31/19 email from Alisha Morin. Entered 8/16/19 by Cheryl Greenwald.\", \"Output Type\": \"CO2e\", \"Output Amount\": 2.57, \"Output Amount Unit\": \"tonnes\", \"Amount - Estimated\": false, \"Amount Estimation Description\": null, \"Meter or Ref. No.\": null, \"Acct. No.\": null, \"City\": \"Petersham\", \"EPA Facility\": \"Unassociated\", \"Root Number\": 4153.0, \"Building Number\": 466.0, \"University-wide GHG Status\": \"Baseline\", \"Campus\": \"Forest\", \"School-Level GHG Status\": \"Baseline\"}, {\"Organization Period\": \"CY 2019\", \"Org Unit Name\": \"HF: Sawmill (04153; B-466)\", \"Time\": null, \"Type\": null, \"Amount\": null, \"Output\": null, \"From Date\": \"2019-08-01T00:00:00\", \"To Date\": \"2019-08-31T00:00:00\", \"Level 1\": \"Harvard Operational Control\", \"Level 2\": \"Faculty of Arts and Sciences\", \"Level 3\": \"370-FCOR\", \"Level 4\": \"HF: Forest Teaching and Research Roll Up (04180; B-04180)\", \"Level 5\": \"HF: Sawmill (04153; B-466)\", \"Activity Category\": \"Mobile Combustion\", \"Activity Unit\": \"US gallons\", \"Activity Type\": \"DIESEL_MV\", \"Vehicle MPG\": 11.482, \"Total Miles Traveled  (Vehicle MPG * Activity Amount)\": 2410.0718, \"tons of CO2 Total Emissions from Electrification (Column R * 96 g C02)\": 0.2550380396, \"Emissions from Electrified Fleet (96g CO2e/mi)\": null, \"Emissions from Electrified Fleet, 50% Decarbonized Grid (48g CO2e/mi)\": null, \"Emissions from Electrified Fleet, Peak Carbon Intensity (132g CO2e/mi)\": null, \"Emission Scope\": \"Scope 1\", \"Activity Amount\": 209.9, \"Unnamed: 24\": null, \"Supplier\": null, \"Scope 2L Supplier\": null, \"Description\": \"Used mostly for chipping wood. Per 2/7/20 email from Diona Laford. Entered 2/20/20 by Cheryl Greenwald.\", \"Output Type\": \"CO2e\", \"Output Amount\": 2.13, \"Output Amount Unit\": \"tonnes\", \"Amount - Estimated\": false, \"Amount Estimation Description\": null, \"Meter or Ref. No.\": null, \"Acct. No.\": null, \"City\": \"Petersham\", \"EPA Facility\": \"Unassociated\", \"Root Number\": 4153.0, \"Building Number\": 466.0, \"University-wide GHG Status\": \"Baseline\", \"Campus\": \"Forest\", \"School-Level GHG Status\": \"Baseline\"}, {\"Organization Period\": \"CY 2019\", \"Org Unit Name\": \"HF: Sawmill (04153; B-466)\", \"Time\": null, \"Type\": null, \"Amount\": null, \"Output\": null, \"From Date\": \"2019-12-01T00:00:00\", \"To Date\": \"2019-12-31T00:00:00\", \"Level 1\": \"Harvard Operational Control\", \"Level 2\": \"Faculty of Arts and Sciences\", \"Level 3\": \"370-FCOR\", \"Level 4\": \"HF: Forest Teaching and Research Roll Up (04180; B-04180)\", \"Level 5\": \"HF: Sawmill (04153; B-466)\", \"Activity Category\": \"Mobile Combustion\", \"Activity Unit\": \"US gallons\", \"Activity Type\": \"DIESEL_MV\", \"Vehicle MPG\": 11.482, \"Total Miles Traveled  (Vehicle MPG * Activity Amount)\": 2969.2452, \"tons of CO2 Total Emissions from Electrification (Column R * 96 g C02)\": 0.3142107529, \"Emissions from Electrified Fleet (96g CO2e/mi)\": null, \"Emissions from Electrified Fleet, 50% Decarbonized Grid (48g CO2e/mi)\": null, \"Emissions from Electrified Fleet, Peak Carbon Intensity (132g CO2e/mi)\": null, \"Emission Scope\": \"Scope 1\", \"Activity Amount\": 258.6, \"Unnamed: 24\": null, \"Supplier\": null, \"Scope 2L Supplier\": null, \"Description\": \"Used mostly for chipping wood. Per 2/7/20 email from Diona Laford. Entered 2/20/20 by Cheryl Greenwald.\", \"Output Type\": \"CO2e\", \"Output Amount\": 2.63, \"Output Amount Unit\": \"tonnes\", \"Amount - Estimated\": false, \"Amount Estimation Description\": null, \"Meter or Ref. No.\": null, \"Acct. No.\": null, \"City\": \"Petersham\", \"EPA Facility\": \"Unassociated\", \"Root Number\": 4153.0, \"Building Number\": 466.0, \"University-wide GHG Status\": \"Baseline\", \"Campus\": \"Forest\", \"School-Level GHG Status\": \"Baseline\"}, {\"Organization Period\": \"CY 2019\", \"Org Unit Name\": \"HF: Sawmill (04153; B-466)\", \"Time\": null, \"Type\": null, \"Amount\": null, \"Output\": null, \"From Date\": \"2019-02-01T00:00:00\", \"To Date\": \"2019-02-28T00:00:00\", \"Level 1\": \"Harvard Operational Control\", \"Level 2\": \"Faculty of Arts and Sciences\", \"Level 3\": \"370-FCOR\", \"Level 4\": \"HF: Forest Teaching and Research Roll Up (04180; B-04180)\", \"Level 5\": \"HF: Sawmill (04153; B-466)\", \"Activity Category\": \"Mobile Combustion\", \"Activity Unit\": \"US gallons\", \"Activity Type\": \"DIESEL_MV\", \"Vehicle MPG\": 11.482, \"Total Miles Traveled  (Vehicle MPG * Activity Amount)\": 2617.896, \"tons of CO2 Total Emissions from Electrification (Column R * 96 g C02)\": 0.2770303622, \"Emissions from Electrified Fleet (96g CO2e/mi)\": null, \"Emissions from Electrified Fleet, 50% Decarbonized Grid (48g CO2e/mi)\": null, \"Emissions from Electrified Fleet, Peak Carbon Intensity (132g CO2e/mi)\": null, \"Emission Scope\": \"Scope 1\", \"Activity Amount\": 228.0, \"Unnamed: 24\": null, \"Supplier\": null, \"Scope 2L Supplier\": null, \"Description\": \"Used mostly for chipping wood. Per 7/31/19 email from Alisha Morin. Entered 8/16/19 by Cheryl Greenwald.\", \"Output Type\": \"CO2e\", \"Output Amount\": 2.32, \"Output Amount Unit\": \"tonnes\", \"Amount - Estimated\": false, \"Amount Estimation Description\": null, \"Meter or Ref. No.\": null, \"Acct. No.\": null, \"City\": \"Petersham\", \"EPA Facility\": \"Unassociated\", \"Root Number\": 4153.0, \"Building Number\": 466.0, \"University-wide GHG Status\": \"Baseline\", \"Campus\": \"Forest\", \"School-Level GHG Status\": \"Baseline\"}, {\"Organization Period\": \"CY 2019\", \"Org Unit Name\": \"HF: Shaler Hall (04183; B-467)\", \"Time\": 2019.0, \"Type\": \"Gasoline\", \"Amount\": 2750.995, \"Output\": 24.74, \"From Date\": \"2019-04-01T00:00:00\", \"To Date\": \"2019-04-30T00:00:00\", \"Level 1\": \"Harvard Operational Control\", \"Level 2\": \"Faculty of Arts and Sciences\", \"Level 3\": \"370-FCOR\", \"Level 4\": \"HF: Forest Teaching and Research Roll Up (04180; B-04180)\", \"Level 5\": \"HF: Shaler Hall (04183; B-467)\", \"Activity Category\": \"Mobile Combustion\", \"Activity Unit\": \"US gallons\", \"Activity Type\": \"GASOLINE_MV\", \"Vehicle MPG\": 15.859, \"Total Miles Traveled  (Vehicle MPG * Activity Amount)\": 3544.756103, \"tons of CO2 Total Emissions from Electrification (Column R * 96 g C02)\": 31.42416215, \"Emissions from Electrified Fleet (96g CO2e/mi)\": 35.40434669, \"Emissions from Electrified Fleet, 50% Decarbonized Grid (48g CO2e/mi)\": 17.70217334, \"Emissions from Electrified Fleet, Peak Carbon Intensity (132g CO2e/mi)\": 48.6809767, \"Emission Scope\": \"Scope 1\", \"Activity Amount\": 223.517, \"Unnamed: 24\": 90287.095, \"Supplier\": null, \"Scope 2L Supplier\": null, \"Description\": \"Per 7/31/19 email from Alisha Morin. Entered 8/16/19 by Cheryl Greenwald.\", \"Output Type\": \"CO2e\", \"Output Amount\": 2.01, \"Output Amount Unit\": \"tonnes\", \"Amount - Estimated\": false, \"Amount Estimation Description\": null, \"Meter or Ref. No.\": null, \"Acct. No.\": null, \"City\": \"Petersham\", \"EPA Facility\": \"Unassociated\", \"Root Number\": 4183.0, \"Building Number\": 467.0, \"University-wide GHG Status\": \"Baseline\", \"Campus\": \"Forest\", \"School-Level GHG Status\": \"Baseline\"}, {\"Organization Period\": \"CY 2019\", \"Org Unit Name\": \"HF: Shaler Hall (04183; B-467)\", \"Time\": null, \"Type\": null, \"Amount\": null, \"Output\": null, \"From Date\": \"2019-08-01T00:00:00\", \"To Date\": \"2019-08-31T00:00:00\", \"Level 1\": \"Harvard Operational Control\", \"Level 2\": \"Faculty of Arts and Sciences\", \"Level 3\": \"370-FCOR\", \"Level 4\": \"HF: Forest Teaching and Research Roll Up (04180; B-04180)\", \"Level 5\": \"HF: Shaler Hall (04183; B-467)\", \"Activity Category\": \"Mobile Combustion\", \"Activity Unit\": \"US gallons\", \"Activity Type\": \"GASOLINE_MV\", \"Vehicle MPG\": 15.859, \"Total Miles Traveled  (Vehicle MPG * Activity Amount)\": 4152.108226, \"tons of CO2 Total Emissions from Electrification (Column R * 96 g C02)\": 0.4393834002, \"Emissions from Electrified Fleet (96g CO2e/mi)\": null, \"Emissions from Electrified Fleet, 50% Decarbonized Grid (48g CO2e/mi)\": null, \"Emissions from Electrified Fleet, Peak Carbon Intensity (132g CO2e/mi)\": null, \"Emission Scope\": \"Scope 1\", \"Activity Amount\": 261.814, \"Unnamed: 24\": null, \"Supplier\": null, \"Scope 2L Supplier\": null, \"Description\": \"Per 2/7/20 email from Diona Laford. Entered 2/20/20 by Cheryl Greenwald.\", \"Output Type\": \"CO2e\", \"Output Amount\": 2.35, \"Output Amount Unit\": \"tonnes\", \"Amount - Estimated\": false, \"Amount Estimation Description\": null, \"Meter or Ref. No.\": null, \"Acct. No.\": null, \"City\": \"Petersham\", \"EPA Facility\": \"Unassociated\", \"Root Number\": 4183.0, \"Building Number\": 467.0, \"University-wide GHG Status\": \"Baseline\", \"Campus\": \"Forest\", \"School-Level GHG Status\": \"Baseline\"}, {\"Organization Period\": \"CY 2019\", \"Org Unit Name\": \"HF: Shaler Hall (04183; B-467)\", \"Time\": null, \"Type\": null, \"Amount\": null, \"Output\": null, \"From Date\": \"2019-12-01T00:00:00\", \"To Date\": \"2019-12-31T00:00:00\", \"Level 1\": \"Harvard Operational Control\", \"Level 2\": \"Faculty of Arts and Sciences\", \"Level 3\": \"370-FCOR\", \"Level 4\": \"HF: Forest Teaching and Research Roll Up (04180; B-04180)\", \"Level 5\": \"HF: Shaler Hall (04183; B-467)\", \"Activity Category\": \"Mobile Combustion\", \"Activity Unit\": \"US gallons\", \"Activity Type\": \"GASOLINE_MV\", \"Vehicle MPG\": 15.859, \"Total Miles Traveled  (Vehicle MPG * Activity Amount)\": 3610.015888, \"tons of CO2 Total Emissions from Electrification (Column R * 96 g C02)\": 0.3820182349, \"Emissions from Electrified Fleet (96g CO2e/mi)\": null, \"Emissions from Electrified Fleet, 50% Decarbonized Grid (48g CO2e/mi)\": null, \"Emissions from Electrified Fleet, Peak Carbon Intensity (132g CO2e/mi)\": null, \"Emission Scope\": \"Scope 1\", \"Activity Amount\": 227.632, \"Unnamed: 24\": null, \"Supplier\": null, \"Scope 2L Supplier\": null, \"Description\": \"Per 2/7/20 email from Diona Laford. Entered 2/20/20 by Cheryl Greenwald.\", \"Output Type\": \"CO2e\", \"Output Amount\": 2.05, \"Output Amount Unit\": \"tonnes\", \"Amount - Estimated\": false, \"Amount Estimation Description\": null, \"Meter or Ref. No.\": null, \"Acct. No.\": null, \"City\": \"Petersham\", \"EPA Facility\": \"Unassociated\", \"Root Number\": 4183.0, \"Building Number\": 467.0, \"University-wide GHG Status\": \"Baseline\", \"Campus\": \"Forest\", \"School-Level GHG Status\": \"Baseline\"}, {\"Organization Period\": \"CY 2019\", \"Org Unit Name\": \"HF: Shaler Hall (04183; B-467)\", \"Time\": null, \"Type\": null, \"Amount\": null, \"Output\": null, \"From Date\": \"2019-02-01T00:00:00\", \"To Date\": \"2019-02-28T00:00:00\", \"Level 1\": \"Harvard Operational Control\", \"Level 2\": \"Faculty of Arts and Sciences\", \"Level 3\": \"370-FCOR\", \"Level 4\": \"HF: Forest Teaching and Research Roll Up (04180; B-04180)\", \"Level 5\": \"HF: Shaler Hall (04183; B-467)\", \"Activity Category\": \"Mobile Combustion\", \"Activity Unit\": \"US gallons\", \"Activity Type\": \"GASOLINE_MV\", \"Vehicle MPG\": 15.859, \"Total Miles Traveled  (Vehicle MPG * Activity Amount)\": 3582.040612, \"tons of CO2 Total Emissions from Electrification (Column R * 96 g C02)\": 0.379057842, \"Emissions from Electrified Fleet (96g CO2e/mi)\": null, \"Emissions from Electrified Fleet, 50% Decarbonized Grid (48g CO2e/mi)\": null, \"Emissions from Electrified Fleet, Peak Carbon Intensity (132g CO2e/mi)\": null, \"Emission Scope\": \"Scope 1\", \"Activity Amount\": 225.868, \"Unnamed: 24\": null, \"Supplier\": null, \"Scope 2L Supplier\": null, \"Description\": \"Per 7/31/19 email from Alisha Morin. Entered 8/16/19 by Cheryl Greenwald.\", \"Output Type\": \"CO2e\", \"Output Amount\": 2.03, \"Output Amount Unit\": \"tonnes\", \"Amount - Estimated\": false, \"Amount Estimation Description\": null, \"Meter or Ref. No.\": null, \"Acct. No.\": null, \"City\": \"Petersham\", \"EPA Facility\": \"Unassociated\", \"Root Number\": 4183.0, \"Building Number\": 467.0, \"University-wide GHG Status\": \"Baseline\", \"Campus\": \"Forest\", \"School-Level GHG Status\": \"Baseline\"}, {\"Organization Period\": \"CY 2019\", \"Org Unit Name\": \"HF: Shaler Hall (04183; B-467)\", \"Time\": null, \"Type\": null, \"Amount\": null, \"Output\": null, \"From Date\": \"2019-01-01T00:00:00\", \"To Date\": \"2019-01-30T00:00:00\", \"Level 1\": \"Harvard Operational Control\", \"Level 2\": \"Faculty of Arts and Sciences\", \"Level 3\": \"370-FCOR\", \"Level 4\": \"HF: Forest Teaching and Research Roll Up (04180; B-04180)\", \"Level 5\": \"HF: Shaler Hall (04183; B-467)\", \"Activity Category\": \"Mobile Combustion\", \"Activity Unit\": \"US gallons\", \"Activity Type\": \"GASOLINE_MV\", \"Vehicle MPG\": 15.859, \"Total Miles Traveled  (Vehicle MPG * Activity Amount)\": 3594.886402, \"tons of CO2 Total Emissions from Electrification (Column R * 96 g C02)\": 0.3804172061, \"Emissions from Electrified Fleet (96g CO2e/mi)\": null, \"Emissions from Electrified Fleet, 50% Decarbonized Grid (48g CO2e/mi)\": null, \"Emissions from Electrified Fleet, Peak Carbon Intensity (132g CO2e/mi)\": null, \"Emission Scope\": \"Scope 1\", \"Activity Amount\": 226.678, \"Unnamed: 24\": null, \"Supplier\": null, \"Scope 2L Supplier\": null, \"Description\": \"Per 7/31/19 email from Alisha Morin. Entered 8/16/19 by Cheryl Greenwald.\", \"Output Type\": \"CO2e\", \"Output Amount\": 2.04, \"Output Amount Unit\": \"tonnes\", \"Amount - Estimated\": false, \"Amount Estimation Description\": null, \"Meter or Ref. No.\": null, \"Acct. No.\": null, \"City\": \"Petersham\", \"EPA Facility\": \"Unassociated\", \"Root Number\": 4183.0, \"Building Number\": 467.0, \"University-wide GHG Status\": \"Baseline\", \"Campus\": \"Forest\", \"School-Level GHG Status\": \"Baseline\"}, {\"Organization Period\": \"CY 2019\", \"Org Unit Name\": \"HF: Shaler Hall (04183; B-467)\", \"Time\": null, \"Type\": null, \"Amount\": null, \"Output\": null, \"From Date\": \"2019-07-01T00:00:00\", \"To Date\": \"2019-07-31T00:00:00\", \"Level 1\": \"Harvard Operational Control\", \"Level 2\": \"Faculty of Arts and Sciences\", \"Level 3\": \"370-FCOR\", \"Level 4\": \"HF: Forest Teaching and Research Roll Up (04180; B-04180)\", \"Level 5\": \"HF: Shaler Hall (04183; B-467)\", \"Activity Category\": \"Mobile Combustion\", \"Activity Unit\": \"US gallons\", \"Activity Type\": \"GASOLINE_MV\", \"Vehicle MPG\": 15.859, \"Total Miles Traveled  (Vehicle MPG * Activity Amount)\": 4475.25121, \"tons of CO2 Total Emissions from Electrification (Column R * 96 g C02)\": 0.4735789595, \"Emissions from Electrified Fleet (96g CO2e/mi)\": null, \"Emissions from Electrified Fleet, 50% Decarbonized Grid (48g CO2e/mi)\": null, \"Emissions from Electrified Fleet, Peak Carbon Intensity (132g CO2e/mi)\": null, \"Emission Scope\": \"Scope 1\", \"Activity Amount\": 282.19, \"Unnamed: 24\": null, \"Supplier\": null, \"Scope 2L Supplier\": null, \"Description\": \"Per 2/7/20 email from Diona Laford. Entered 2/20/20 by Cheryl Greenwald.\", \"Output Type\": \"CO2e\", \"Output Amount\": 2.54, \"Output Amount Unit\": \"tonnes\", \"Amount - Estimated\": false, \"Amount Estimation Description\": null, \"Meter or Ref. No.\": null, \"Acct. No.\": null, \"City\": \"Petersham\", \"EPA Facility\": \"Unassociated\", \"Root Number\": 4183.0, \"Building Number\": 467.0, \"University-wide GHG Status\": \"Baseline\", \"Campus\": \"Forest\", \"School-Level GHG Status\": \"Baseline\"}, {\"Organization Period\": \"CY 2019\", \"Org Unit Name\": \"HF: Shaler Hall (04183; B-467)\", \"Time\": null, \"Type\": null, \"Amount\": null, \"Output\": null, \"From Date\": \"2019-06-01T00:00:00\", \"To Date\": \"2019-06-30T00:00:00\", \"Level 1\": \"Harvard Operational Control\", \"Level 2\": \"Faculty of Arts and Sciences\", \"Level 3\": \"370-FCOR\", \"Level 4\": \"HF: Forest Teaching and Research Roll Up (04180; B-04180)\", \"Level 5\": \"HF: Shaler Hall (04183; B-467)\", \"Activity Category\": \"Mobile Combustion\", \"Activity Unit\": \"US gallons\", \"Activity Type\": \"GASOLINE_MV\", \"Vehicle MPG\": 15.859, \"Total Miles Traveled  (Vehicle MPG * Activity Amount)\": 3556.475904, \"tons of CO2 Total Emissions from Electrification (Column R * 96 g C02)\": 0.3763525396, \"Emissions from Electrified Fleet (96g CO2e/mi)\": null, \"Emissions from Electrified Fleet, 50% Decarbonized Grid (48g CO2e/mi)\": null, \"Emissions from Electrified Fleet, Peak Carbon Intensity (132g CO2e/mi)\": null, \"Emission Scope\": \"Scope 1\", \"Activity Amount\": 224.256, \"Unnamed: 24\": null, \"Supplier\": null, \"Scope 2L Supplier\": null, \"Description\": \"Per 7/31/19 email from Alisha Morin. Entered 8/16/19 by Cheryl Greenwald.\", \"Output Type\": \"CO2e\", \"Output Amount\": 2.02, \"Output Amount Unit\": \"tonnes\", \"Amount - Estimated\": false, \"Amount Estimation Description\": null, \"Meter or Ref. No.\": null, \"Acct. No.\": null, \"City\": \"Petersham\", \"EPA Facility\": \"Unassociated\", \"Root Number\": 4183.0, \"Building Number\": 467.0, \"University-wide GHG Status\": \"Baseline\", \"Campus\": \"Forest\", \"School-Level GHG Status\": \"Baseline\"}, {\"Organization Period\": \"CY 2019\", \"Org Unit Name\": \"HF: Shaler Hall (04183; B-467)\", \"Time\": null, \"Type\": null, \"Amount\": null, \"Output\": null, \"From Date\": \"2019-03-01T00:00:00\", \"To Date\": \"2019-03-31T00:00:00\", \"Level 1\": \"Harvard Operational Control\", \"Level 2\": \"Faculty of Arts and Sciences\", \"Level 3\": \"370-FCOR\", \"Level 4\": \"HF: Forest Teaching and Research Roll Up (04180; B-04180)\", \"Level 5\": \"HF: Shaler Hall (04183; B-467)\", \"Activity Category\": \"Mobile Combustion\", \"Activity Unit\": \"US gallons\", \"Activity Type\": \"GASOLINE_MV\", \"Vehicle MPG\": 15.859, \"Total Miles Traveled  (Vehicle MPG * Activity Amount)\": 5747.238164, \"tons of CO2 Total Emissions from Electrification (Column R * 96 g C02)\": 0.6081828577, \"Emissions from Electrified Fleet (96g CO2e/mi)\": null, \"Emissions from Electrified Fleet, 50% Decarbonized Grid (48g CO2e/mi)\": null, \"Emissions from Electrified Fleet, Peak Carbon Intensity (132g CO2e/mi)\": null, \"Emission Scope\": \"Scope 1\", \"Activity Amount\": 362.396, \"Unnamed: 24\": null, \"Supplier\": null, \"Scope 2L Supplier\": null, \"Description\": \"Per 7/31/19 email from Alisha Morin. Entered 8/16/19 by Cheryl Greenwald.\", \"Output Type\": \"CO2e\", \"Output Amount\": 3.26, \"Output Amount Unit\": \"tonnes\", \"Amount - Estimated\": false, \"Amount Estimation Description\": null, \"Meter or Ref. No.\": null, \"Acct. No.\": null, \"City\": \"Petersham\", \"EPA Facility\": \"Unassociated\", \"Root Number\": 4183.0, \"Building Number\": 467.0, \"University-wide GHG Status\": \"Baseline\", \"Campus\": \"Forest\", \"School-Level GHG Status\": \"Baseline\"}, {\"Organization Period\": \"CY 2019\", \"Org Unit Name\": \"HF: Shaler Hall (04183; B-467)\", \"Time\": null, \"Type\": null, \"Amount\": null, \"Output\": null, \"From Date\": \"2019-05-01T00:00:00\", \"To Date\": \"2019-05-31T00:00:00\", \"Level 1\": \"Harvard Operational Control\", \"Level 2\": \"Faculty of Arts and Sciences\", \"Level 3\": \"370-FCOR\", \"Level 4\": \"HF: Forest Teaching and Research Roll Up (04180; B-04180)\", \"Level 5\": \"HF: Shaler Hall (04183; B-467)\", \"Activity Category\": \"Mobile Combustion\", \"Activity Unit\": \"US gallons\", \"Activity Type\": \"GASOLINE_MV\", \"Vehicle MPG\": 15.859, \"Total Miles Traveled  (Vehicle MPG * Activity Amount)\": 4286.227789, \"tons of CO2 Total Emissions from Electrification (Column R * 96 g C02)\": 0.4535761684, \"Emissions from Electrified Fleet (96g CO2e/mi)\": null, \"Emissions from Electrified Fleet, 50% Decarbonized Grid (48g CO2e/mi)\": null, \"Emissions from Electrified Fleet, Peak Carbon Intensity (132g CO2e/mi)\": null, \"Emission Scope\": \"Scope 1\", \"Activity Amount\": 270.271, \"Unnamed: 24\": null, \"Supplier\": null, \"Scope 2L Supplier\": null, \"Description\": \"Per 7/31/19 email from Alisha Morin. Entered 8/16/19 by Cheryl Greenwald.\", \"Output Type\": \"CO2e\", \"Output Amount\": 2.43, \"Output Amount Unit\": \"tonnes\", \"Amount - Estimated\": false, \"Amount Estimation Description\": null, \"Meter or Ref. No.\": null, \"Acct. No.\": null, \"City\": \"Petersham\", \"EPA Facility\": \"Unassociated\", \"Root Number\": 4183.0, \"Building Number\": 467.0, \"University-wide GHG Status\": \"Baseline\", \"Campus\": \"Forest\", \"School-Level GHG Status\": \"Baseline\"}, {\"Organization Period\": \"CY 2019\", \"Org Unit Name\": \"HF: Shaler Hall (04183; B-467)\", \"Time\": null, \"Type\": null, \"Amount\": null, \"Output\": null, \"From Date\": \"2019-11-01T00:00:00\", \"To Date\": \"2019-11-30T00:00:00\", \"Level 1\": \"Harvard Operational Control\", \"Level 2\": \"Faculty of Arts and Sciences\", \"Level 3\": \"370-FCOR\", \"Level 4\": \"HF: Forest Teaching and Research Roll Up (04180; B-04180)\", \"Level 5\": \"HF: Shaler Hall (04183; B-467)\", \"Activity Category\": \"Mobile Combustion\", \"Activity Unit\": \"US gallons\", \"Activity Type\": \"GASOLINE_MV\", \"Vehicle MPG\": 15.859, \"Total Miles Traveled  (Vehicle MPG * Activity Amount)\": 1374.531248, \"tons of CO2 Total Emissions from Electrification (Column R * 96 g C02)\": 0.1454553158, \"Emissions from Electrified Fleet (96g CO2e/mi)\": null, \"Emissions from Electrified Fleet, 50% Decarbonized Grid (48g CO2e/mi)\": null, \"Emissions from Electrified Fleet, Peak Carbon Intensity (132g CO2e/mi)\": null, \"Emission Scope\": \"Scope 1\", \"Activity Amount\": 86.672, \"Unnamed: 24\": null, \"Supplier\": null, \"Scope 2L Supplier\": null, \"Description\": \"Per 2/7/20 email from Diona Laford. Entered 2/20/20 by Cheryl Greenwald.\", \"Output Type\": \"CO2e\", \"Output Amount\": 0.78, \"Output Amount Unit\": \"tonnes\", \"Amount - Estimated\": false, \"Amount Estimation Description\": null, \"Meter or Ref. No.\": null, \"Acct. No.\": null, \"City\": \"Petersham\", \"EPA Facility\": \"Unassociated\", \"Root Number\": 4183.0, \"Building Number\": 467.0, \"University-wide GHG Status\": \"Baseline\", \"Campus\": \"Forest\", \"School-Level GHG Status\": \"Baseline\"}, {\"Organization Period\": \"CY 2019\", \"Org Unit Name\": \"HF: Shaler Hall (04183; B-467)\", \"Time\": null, \"Type\": null, \"Amount\": null, \"Output\": null, \"From Date\": \"2019-10-01T00:00:00\", \"To Date\": \"2019-10-31T00:00:00\", \"Level 1\": \"Harvard Operational Control\", \"Level 2\": \"Faculty of Arts and Sciences\", \"Level 3\": \"370-FCOR\", \"Level 4\": \"HF: Forest Teaching and Research Roll Up (04180; B-04180)\", \"Level 5\": \"HF: Shaler Hall (04183; B-467)\", \"Activity Category\": \"Mobile Combustion\", \"Activity Unit\": \"US gallons\", \"Activity Type\": \"GASOLINE_MV\", \"Vehicle MPG\": 15.859, \"Total Miles Traveled  (Vehicle MPG * Activity Amount)\": 3233.380497, \"tons of CO2 Total Emissions from Electrification (Column R * 96 g C02)\": 0.3421620149, \"Emissions from Electrified Fleet (96g CO2e/mi)\": null, \"Emissions from Electrified Fleet, 50% Decarbonized Grid (48g CO2e/mi)\": null, \"Emissions from Electrified Fleet, Peak Carbon Intensity (132g CO2e/mi)\": null, \"Emission Scope\": \"Scope 1\", \"Activity Amount\": 203.883, \"Unnamed: 24\": null, \"Supplier\": null, \"Scope 2L Supplier\": null, \"Description\": \"Per 2/7/20 email from Diona Laford. Entered 2/20/20 by Cheryl Greenwald.\", \"Output Type\": \"CO2e\", \"Output Amount\": 1.83, \"Output Amount Unit\": \"tonnes\", \"Amount - Estimated\": false, \"Amount Estimation Description\": null, \"Meter or Ref. No.\": null, \"Acct. No.\": null, \"City\": \"Petersham\", \"EPA Facility\": \"Unassociated\", \"Root Number\": 4183.0, \"Building Number\": 467.0, \"University-wide GHG Status\": \"Baseline\", \"Campus\": \"Forest\", \"School-Level GHG Status\": \"Baseline\"}, {\"Organization Period\": \"CY 2019\", \"Org Unit Name\": \"HF: Shaler Hall (04183; B-467)\", \"Time\": null, \"Type\": null, \"Amount\": null, \"Output\": null, \"From Date\": \"2019-09-01T00:00:00\", \"To Date\": \"2019-09-30T00:00:00\", \"Level 1\": \"Harvard Operational Control\", \"Level 2\": \"Faculty of Arts and Sciences\", \"Level 3\": \"370-FCOR\", \"Level 4\": \"HF: Forest Teaching and Research Roll Up (04180; B-04180)\", \"Level 5\": \"HF: Shaler Hall (04183; B-467)\", \"Activity Category\": \"Mobile Combustion\", \"Activity Unit\": \"US gallons\", \"Activity Type\": \"GASOLINE_MV\", \"Vehicle MPG\": 15.859, \"Total Miles Traveled  (Vehicle MPG * Activity Amount)\": 2471.117662, \"tons of CO2 Total Emissions from Electrification (Column R * 96 g C02)\": 0.2614980202, \"Emissions from Electrified Fleet (96g CO2e/mi)\": null, \"Emissions from Electrified Fleet, 50% Decarbonized Grid (48g CO2e/mi)\": null, \"Emissions from Electrified Fleet, Peak Carbon Intensity (132g CO2e/mi)\": null, \"Emission Scope\": \"Scope 1\", \"Activity Amount\": 155.818, \"Unnamed: 24\": null, \"Supplier\": null, \"Scope 2L Supplier\": null, \"Description\": \"Per 2/7/20 email from Diona Laford. Entered 2/20/20 by Cheryl Greenwald.\", \"Output Type\": \"CO2e\", \"Output Amount\": 1.4, \"Output Amount Unit\": \"tonnes\", \"Amount - Estimated\": false, \"Amount Estimation Description\": null, \"Meter or Ref. No.\": null, \"Acct. No.\": null, \"City\": \"Petersham\", \"EPA Facility\": \"Unassociated\", \"Root Number\": 4183.0, \"Building Number\": 467.0, \"University-wide GHG Status\": \"Baseline\", \"Campus\": \"Forest\", \"School-Level GHG Status\": \"Baseline\"}, {\"Organization Period\": \"CY 2019\", \"Org Unit Name\": \"Maintenance Building (00015; B-137)\", \"Time\": 2019.0, \"Type\": \"Diesel\", \"Amount\": 9315.1, \"Output\": 94.72, \"From Date\": \"2019-01-01T00:00:00\", \"To Date\": \"2019-06-30T00:00:00\", \"Level 1\": \"Harvard Operational Control\", \"Level 2\": \"Campus Services\", \"Level 3\": \"100-ARB\", \"Level 4\": \"Maintenance Building (00015; B-137)\", \"Level 5\": null, \"Activity Category\": \"Mobile Combustion\", \"Activity Unit\": \"US gallons\", \"Activity Type\": \"DIESEL_MV\", \"Vehicle MPG\": 11.482, \"Total Miles Traveled  (Vehicle MPG * Activity Amount)\": 44784.3928, \"tons of CO2 Total Emissions from Electrification (Column R * 96 g C02)\": 4.739163267, \"Emissions from Electrified Fleet (96g CO2e/mi)\": 11.31826986, \"Emissions from Electrified Fleet, 50% Decarbonized Grid (48g CO2e/mi)\": 5.659134928, \"Emissions from Electrified Fleet, Peak Carbon Intensity (132g CO2e/mi)\": 15.56262105, \"Emission Scope\": \"Scope 1\", \"Activity Amount\": 3900.4, \"Unnamed: 24\": null, \"Supplier\": null, \"Scope 2L Supplier\": null, \"Description\": \"Per 7/25/19 email from Deb Smith. Entered 7/25/19 by Cheryl Greenwald.\", \"Output Type\": \"CO2e\", \"Output Amount\": 39.66, \"Output Amount Unit\": \"tonnes\", \"Amount - Estimated\": false, \"Amount Estimation Description\": null, \"Meter or Ref. No.\": null, \"Acct. No.\": null, \"City\": \"Jamaica Plain\", \"EPA Facility\": \"Unassociated\", \"Root Number\": 15.0, \"Building Number\": 137.0, \"University-wide GHG Status\": \"Baseline\", \"Campus\": \"Arboretum\", \"School-Level GHG Status\": \"Baseline\"}, {\"Organization Period\": \"CY 2019\", \"Org Unit Name\": \"Maintenance Building (00015; B-137)\", \"Time\": null, \"Type\": null, \"Amount\": null, \"Output\": null, \"From Date\": \"2019-07-01T00:00:00\", \"To Date\": \"2019-12-31T00:00:00\", \"Level 1\": \"Harvard Operational Control\", \"Level 2\": \"Campus Services\", \"Level 3\": \"100-ARB\", \"Level 4\": \"Maintenance Building (00015; B-137)\", \"Level 5\": null, \"Activity Category\": \"Mobile Combustion\", \"Activity Unit\": \"US gallons\", \"Activity Type\": \"DIESEL_MV\", \"Vehicle MPG\": 11.482, \"Total Miles Traveled  (Vehicle MPG * Activity Amount)\": 62171.5854, \"tons of CO2 Total Emissions from Electrification (Column R * 96 g C02)\": 6.579106589, \"Emissions from Electrified Fleet (96g CO2e/mi)\": null, \"Emissions from Electrified Fleet, 50% Decarbonized Grid (48g CO2e/mi)\": null, \"Emissions from Electrified Fleet, Peak Carbon Intensity (132g CO2e/mi)\": null, \"Emission Scope\": \"Scope 1\", \"Activity Amount\": 5414.7, \"Unnamed: 24\": null, \"Supplier\": null, \"Scope 2L Supplier\": null, \"Description\": \"Per 2/6/20 email from Deb Smith. Entered 2/7/20 by Cheryl Greenwald.\", \"Output Type\": \"CO2e\", \"Output Amount\": 55.06, \"Output Amount Unit\": \"tonnes\", \"Amount - Estimated\": false, \"Amount Estimation Description\": null, \"Meter or Ref. No.\": null, \"Acct. No.\": null, \"City\": \"Jamaica Plain\", \"EPA Facility\": \"Unassociated\", \"Root Number\": 15.0, \"Building Number\": 137.0, \"University-wide GHG Status\": \"Baseline\", \"Campus\": \"Arboretum\", \"School-Level GHG Status\": \"Baseline\"}, {\"Organization Period\": \"CY 2019\", \"Org Unit Name\": \"Mobile Vehicle - Dennis K Burke\", \"Time\": 2019.0, \"Type\": \"Biodiesel\", \"Amount\": 67884.0, \"Output\": 127.54, \"From Date\": \"2019-04-01T00:00:00\", \"To Date\": \"2019-04-30T00:00:00\", \"Level 1\": \"Harvard Operational Control\", \"Level 2\": \"CS - Transportation\", \"Level 3\": \"180-Transportation\", \"Level 4\": \"Mobile Vehicle - Dennis K Burke\", \"Level 5\": null, \"Activity Category\": \"Mobile Combustion\", \"Activity Unit\": \"US gallons\", \"Activity Type\": \"BIOD20\", \"Vehicle MPG\": 11.482, \"Total Miles Traveled  (Vehicle MPG * Activity Amount)\": 79696.562, \"tons of CO2 Total Emissions from Electrification (Column R * 96 g C02)\": 8.433630457, \"Emissions from Electrified Fleet (96g CO2e/mi)\": 82.48214521, \"Emissions from Electrified Fleet, 50% Decarbonized Grid (48g CO2e/mi)\": 41.24107261, \"Emissions from Electrified Fleet, Peak Carbon Intensity (132g CO2e/mi)\": 113.4129497, \"Emission Scope\": \"Scope 1\", \"Activity Amount\": 6941.0, \"Unnamed: 24\": 67884.0, \"Supplier\": null, \"Scope 2L Supplier\": null, \"Description\": \"Per 7/25/19 email from Denise Byrne. Entered 7/25/19 by Cheryl Greenwald.\", \"Output Type\": \"CO2e\", \"Output Amount\": 13.04, \"Output Amount Unit\": \"tonnes\", \"Amount - Estimated\": false, \"Amount Estimation Description\": null, \"Meter or Ref. No.\": null, \"Acct. No.\": null, \"City\": null, \"EPA Facility\": \"Cambridge/Allston AQ:1190092\", \"Root Number\": null, \"Building Number\": null, \"University-wide GHG Status\": \"Baseline\", \"Campus\": \"Cambridge\", \"School-Level GHG Status\": \"Baseline\"}, {\"Organization Period\": \"CY 2019\", \"Org Unit Name\": \"Mobile Vehicle - Dennis K Burke\", \"Time\": null, \"Type\": null, \"Amount\": null, \"Output\": null, \"From Date\": \"2019-08-01T00:00:00\", \"To Date\": \"2019-08-31T00:00:00\", \"Level 1\": \"Harvard Operational Control\", \"Level 2\": \"CS - Transportation\", \"Level 3\": \"180-Transportation\", \"Level 4\": \"Mobile Vehicle - Dennis K Burke\", \"Level 5\": null, \"Activity Category\": \"Mobile Combustion\", \"Activity Unit\": \"US gallons\", \"Activity Type\": \"BIOD20\", \"Vehicle MPG\": 11.482, \"Total Miles Traveled  (Vehicle MPG * Activity Amount)\": 38992.872, \"tons of CO2 Total Emissions from Electrification (Column R * 96 g C02)\": 4.126294342, \"Emissions from Electrified Fleet (96g CO2e/mi)\": null, \"Emissions from Electrified Fleet, 50% Decarbonized Grid (48g CO2e/mi)\": null, \"Emissions from Electrified Fleet, Peak Carbon Intensity (132g CO2e/mi)\": null, \"Emission Scope\": \"Scope 1\", \"Activity Amount\": 3396.0, \"Unnamed: 24\": null, \"Supplier\": null, \"Scope 2L Supplier\": null, \"Description\": \"Per 2/3/20 email from Denise Byrne. Entered 2/13/20 by Cheryl Greenwald.\", \"Output Type\": \"CO2e\", \"Output Amount\": 6.38, \"Output Amount Unit\": \"tonnes\", \"Amount - Estimated\": false, \"Amount Estimation Description\": null, \"Meter or Ref. No.\": null, \"Acct. No.\": null, \"City\": null, \"EPA Facility\": \"Cambridge/Allston AQ:1190092\", \"Root Number\": null, \"Building Number\": null, \"University-wide GHG Status\": \"Baseline\", \"Campus\": \"Cambridge\", \"School-Level GHG Status\": \"Baseline\"}, {\"Organization Period\": \"CY 2019\", \"Org Unit Name\": \"Mobile Vehicle - Dennis K Burke\", \"Time\": null, \"Type\": null, \"Amount\": null, \"Output\": null, \"From Date\": \"2019-12-01T00:00:00\", \"To Date\": \"2019-12-31T00:00:00\", \"Level 1\": \"Harvard Operational Control\", \"Level 2\": \"CS - Transportation\", \"Level 3\": \"180-Transportation\", \"Level 4\": \"Mobile Vehicle - Dennis K Burke\", \"Level 5\": null, \"Activity Category\": \"Mobile Combustion\", \"Activity Unit\": \"US gallons\", \"Activity Type\": \"BIOD20\", \"Vehicle MPG\": 11.482, \"Total Miles Traveled  (Vehicle MPG * Activity Amount)\": 57926.69, \"tons of CO2 Total Emissions from Electrification (Column R * 96 g C02)\": 6.129904287, \"Emissions from Electrified Fleet (96g CO2e/mi)\": null, \"Emissions from Electrified Fleet, 50% Decarbonized Grid (48g CO2e/mi)\": null, \"Emissions from Electrified Fleet, Peak Carbon Intensity (132g CO2e/mi)\": null, \"Emission Scope\": \"Scope 1\", \"Activity Amount\": 5045.0, \"Unnamed: 24\": null, \"Supplier\": null, \"Scope 2L Supplier\": null, \"Description\": \"Per 2/3/20 email from Denise Byrne. Entered 2/13/20 by Cheryl Greenwald.\", \"Output Type\": \"CO2e\", \"Output Amount\": 9.48, \"Output Amount Unit\": \"tonnes\", \"Amount - Estimated\": false, \"Amount Estimation Description\": null, \"Meter or Ref. No.\": null, \"Acct. No.\": null, \"City\": null, \"EPA Facility\": \"Cambridge/Allston AQ:1190092\", \"Root Number\": null, \"Building Number\": null, \"University-wide GHG Status\": \"Baseline\", \"Campus\": \"Cambridge\", \"School-Level GHG Status\": \"Baseline\"}, {\"Organization Period\": \"CY 2019\", \"Org Unit Name\": \"Mobile Vehicle - Dennis K Burke\", \"Time\": null, \"Type\": null, \"Amount\": null, \"Output\": null, \"From Date\": \"2019-02-01T00:00:00\", \"To Date\": \"2019-02-28T00:00:00\", \"Level 1\": \"Harvard Operational Control\", \"Level 2\": \"CS - Transportation\", \"Level 3\": \"180-Transportation\", \"Level 4\": \"Mobile Vehicle - Dennis K Burke\", \"Level 5\": null, \"Activity Category\": \"Mobile Combustion\", \"Activity Unit\": \"US gallons\", \"Activity Type\": \"BIOD20\", \"Vehicle MPG\": 11.482, \"Total Miles Traveled  (Vehicle MPG * Activity Amount)\": 71613.234, \"tons of CO2 Total Emissions from Electrification (Column R * 96 g C02)\": 7.578238461, \"Emissions from Electrified Fleet (96g CO2e/mi)\": null, \"Emissions from Electrified Fleet, 50% Decarbonized Grid (48g CO2e/mi)\": null, \"Emissions from Electrified Fleet, Peak Carbon Intensity (132g CO2e/mi)\": null, \"Emission Scope\": \"Scope 1\", \"Activity Amount\": 6237.0, \"Unnamed: 24\": null, \"Supplier\": null, \"Scope 2L Supplier\": null, \"Description\": \"Per 7/25/19 email from Denise Byrne. Entered 7/25/19 by Cheryl Greenwald.\", \"Output Type\": \"CO2e\", \"Output Amount\": 11.72, \"Output Amount Unit\": \"tonnes\", \"Amount - Estimated\": false, \"Amount Estimation Description\": null, \"Meter or Ref. No.\": null, \"Acct. No.\": null, \"City\": null, \"EPA Facility\": \"Cambridge/Allston AQ:1190092\", \"Root Number\": null, \"Building Number\": null, \"University-wide GHG Status\": \"Baseline\", \"Campus\": \"Cambridge\", \"School-Level GHG Status\": \"Baseline\"}, {\"Organization Period\": \"CY 2019\", \"Org Unit Name\": \"Mobile Vehicle - Dennis K Burke\", \"Time\": null, \"Type\": null, \"Amount\": null, \"Output\": null, \"From Date\": \"2019-01-01T00:00:00\", \"To Date\": \"2019-01-31T00:00:00\", \"Level 1\": \"Harvard Operational Control\", \"Level 2\": \"CS - Transportation\", \"Level 3\": \"180-Transportation\", \"Level 4\": \"Mobile Vehicle - Dennis K Burke\", \"Level 5\": null, \"Activity Category\": \"Mobile Combustion\", \"Activity Unit\": \"US gallons\", \"Activity Type\": \"BIOD20\", \"Vehicle MPG\": 11.482, \"Total Miles Traveled  (Vehicle MPG * Activity Amount)\": 51600.108, \"tons of CO2 Total Emissions from Electrification (Column R * 96 g C02)\": 5.460414245, \"Emissions from Electrified Fleet (96g CO2e/mi)\": null, \"Emissions from Electrified Fleet, 50% Decarbonized Grid (48g CO2e/mi)\": null, \"Emissions from Electrified Fleet, Peak Carbon Intensity (132g CO2e/mi)\": null, \"Emission Scope\": \"Scope 1\", \"Activity Amount\": 4494.0, \"Unnamed: 24\": null, \"Supplier\": null, \"Scope 2L Supplier\": null, \"Description\": \"Per 7/25/19 email from Denise Byrne. Entered 7/25/19 by Cheryl Greenwald.\", \"Output Type\": \"CO2e\", \"Output Amount\": 8.44, \"Output Amount Unit\": \"tonnes\", \"Amount - Estimated\": false, \"Amount Estimation Description\": null, \"Meter or Ref. No.\": null, \"Acct. No.\": null, \"City\": null, \"EPA Facility\": \"Cambridge/Allston AQ:1190092\", \"Root Number\": null, \"Building Number\": null, \"University-wide GHG Status\": \"Baseline\", \"Campus\": \"Cambridge\", \"School-Level GHG Status\": \"Baseline\"}, {\"Organization Period\": \"CY 2019\", \"Org Unit Name\": \"Mobile Vehicle - Dennis K Burke\", \"Time\": null, \"Type\": null, \"Amount\": null, \"Output\": null, \"From Date\": \"2019-07-01T00:00:00\", \"To Date\": \"2019-07-31T00:00:00\", \"Level 1\": \"Harvard Operational Control\", \"Level 2\": \"CS - Transportation\", \"Level 3\": \"180-Transportation\", \"Level 4\": \"Mobile Vehicle - Dennis K Burke\", \"Level 5\": null, \"Activity Category\": \"Mobile Combustion\", \"Activity Unit\": \"US gallons\", \"Activity Type\": \"BIOD20\", \"Vehicle MPG\": 11.482, \"Total Miles Traveled  (Vehicle MPG * Activity Amount)\": 51669.0, \"tons of CO2 Total Emissions from Electrification (Column R * 96 g C02)\": 5.467704517, \"Emissions from Electrified Fleet (96g CO2e/mi)\": null, \"Emissions from Electrified Fleet, 50% Decarbonized Grid (48g CO2e/mi)\": null, \"Emissions from Electrified Fleet, Peak Carbon Intensity (132g CO2e/mi)\": null, \"Emission Scope\": \"Scope 1\", \"Activity Amount\": 4500.0, \"Unnamed: 24\": null, \"Supplier\": null, \"Scope 2L Supplier\": null, \"Description\": \"Per 2/3/20 email from Denise Byrne. Entered 2/13/20 by Cheryl Greenwald.\", \"Output Type\": \"CO2e\", \"Output Amount\": 8.45, \"Output Amount Unit\": \"tonnes\", \"Amount - Estimated\": false, \"Amount Estimation Description\": null, \"Meter or Ref. No.\": null, \"Acct. No.\": null, \"City\": null, \"EPA Facility\": \"Cambridge/Allston AQ:1190092\", \"Root Number\": null, \"Building Number\": null, \"University-wide GHG Status\": \"Baseline\", \"Campus\": \"Cambridge\", \"School-Level GHG Status\": \"Baseline\"}, {\"Organization Period\": \"CY 2019\", \"Org Unit Name\": \"Mobile Vehicle - Dennis K Burke\", \"Time\": null, \"Type\": null, \"Amount\": null, \"Output\": null, \"From Date\": \"2019-06-01T00:00:00\", \"To Date\": \"2019-06-30T00:00:00\", \"Level 1\": \"Harvard Operational Control\", \"Level 2\": \"CS - Transportation\", \"Level 3\": \"180-Transportation\", \"Level 4\": \"Mobile Vehicle - Dennis K Burke\", \"Level 5\": null, \"Activity Category\": \"Mobile Combustion\", \"Activity Unit\": \"US gallons\", \"Activity Type\": \"BIOD20\", \"Vehicle MPG\": 11.482, \"Total Miles Traveled  (Vehicle MPG * Activity Amount)\": 22964.0, \"tons of CO2 Total Emissions from Electrification (Column R * 96 g C02)\": 2.430090897, \"Emissions from Electrified Fleet (96g CO2e/mi)\": null, \"Emissions from Electrified Fleet, 50% Decarbonized Grid (48g CO2e/mi)\": null, \"Emissions from Electrified Fleet, Peak Carbon Intensity (132g CO2e/mi)\": null, \"Emission Scope\": \"Scope 1\", \"Activity Amount\": 2000.0, \"Unnamed: 24\": null, \"Supplier\": null, \"Scope 2L Supplier\": null, \"Description\": \"Per 7/25/19 email from Denise Byrne. Entered 7/25/19 by Cheryl Greenwald.\", \"Output Type\": \"CO2e\", \"Output Amount\": 3.76, \"Output Amount Unit\": \"tonnes\", \"Amount - Estimated\": false, \"Amount Estimation Description\": null, \"Meter or Ref. No.\": null, \"Acct. No.\": null, \"City\": null, \"EPA Facility\": \"Cambridge/Allston AQ:1190092\", \"Root Number\": null, \"Building Number\": null, \"University-wide GHG Status\": \"Baseline\", \"Campus\": \"Cambridge\", \"School-Level GHG Status\": \"Baseline\"}, {\"Organization Period\": \"CY 2019\", \"Org Unit Name\": \"Mobile Vehicle - Dennis K Burke\", \"Time\": null, \"Type\": null, \"Amount\": null, \"Output\": null, \"From Date\": \"2019-03-01T00:00:00\", \"To Date\": \"2019-03-31T00:00:00\", \"Level 1\": \"Harvard Operational Control\", \"Level 2\": \"CS - Transportation\", \"Level 3\": \"180-Transportation\", \"Level 4\": \"Mobile Vehicle - Dennis K Burke\", \"Level 5\": null, \"Activity Category\": \"Mobile Combustion\", \"Activity Unit\": \"US gallons\", \"Activity Type\": \"BIOD20\", \"Vehicle MPG\": 11.482, \"Total Miles Traveled  (Vehicle MPG * Activity Amount)\": 80431.41, \"tons of CO2 Total Emissions from Electrification (Column R * 96 g C02)\": 8.511393365, \"Emissions from Electrified Fleet (96g CO2e/mi)\": null, \"Emissions from Electrified Fleet, 50% Decarbonized Grid (48g CO2e/mi)\": null, \"Emissions from Electrified Fleet, Peak Carbon Intensity (132g CO2e/mi)\": null, \"Emission Scope\": \"Scope 1\", \"Activity Amount\": 7005.0, \"Unnamed: 24\": null, \"Supplier\": null, \"Scope 2L Supplier\": null, \"Description\": \"Per 7/25/19 email from Denise Byrne. Entered 7/25/19 by Cheryl Greenwald.\", \"Output Type\": \"CO2e\", \"Output Amount\": 13.16, \"Output Amount Unit\": \"tonnes\", \"Amount - Estimated\": false, \"Amount Estimation Description\": null, \"Meter or Ref. No.\": null, \"Acct. No.\": null, \"City\": null, \"EPA Facility\": \"Cambridge/Allston AQ:1190092\", \"Root Number\": null, \"Building Number\": null, \"University-wide GHG Status\": \"Baseline\", \"Campus\": \"Cambridge\", \"School-Level GHG Status\": \"Baseline\"}, {\"Organization Period\": \"CY 2019\", \"Org Unit Name\": \"Mobile Vehicle - Dennis K Burke\", \"Time\": null, \"Type\": null, \"Amount\": null, \"Output\": null, \"From Date\": \"2019-05-01T00:00:00\", \"To Date\": \"2019-05-31T00:00:00\", \"Level 1\": \"Harvard Operational Control\", \"Level 2\": \"CS - Transportation\", \"Level 3\": \"180-Transportation\", \"Level 4\": \"Mobile Vehicle - Dennis K Burke\", \"Level 5\": null, \"Activity Category\": \"Mobile Combustion\", \"Activity Unit\": \"US gallons\", \"Activity Type\": \"BIOD20\", \"Vehicle MPG\": 11.482, \"Total Miles Traveled  (Vehicle MPG * Activity Amount)\": 65194.796, \"tons of CO2 Total Emissions from Electrification (Column R * 96 g C02)\": 6.899028056, \"Emissions from Electrified Fleet (96g CO2e/mi)\": null, \"Emissions from Electrified Fleet, 50% Decarbonized Grid (48g CO2e/mi)\": null, \"Emissions from Electrified Fleet, Peak Carbon Intensity (132g CO2e/mi)\": null, \"Emission Scope\": \"Scope 1\", \"Activity Amount\": 5678.0, \"Unnamed: 24\": null, \"Supplier\": null, \"Scope 2L Supplier\": null, \"Description\": \"Per 7/25/19 email from Denise Byrne. Entered 7/25/19 by Cheryl Greenwald.\", \"Output Type\": \"CO2e\", \"Output Amount\": 10.67, \"Output Amount Unit\": \"tonnes\", \"Amount - Estimated\": false, \"Amount Estimation Description\": null, \"Meter or Ref. No.\": null, \"Acct. No.\": null, \"City\": null, \"EPA Facility\": \"Cambridge/Allston AQ:1190092\", \"Root Number\": null, \"Building Number\": null, \"University-wide GHG Status\": \"Baseline\", \"Campus\": \"Cambridge\", \"School-Level GHG Status\": \"Baseline\"}, {\"Organization Period\": \"CY 2019\", \"Org Unit Name\": \"Mobile Vehicle - Dennis K Burke\", \"Time\": null, \"Type\": null, \"Amount\": null, \"Output\": null, \"From Date\": \"2019-11-01T00:00:00\", \"To Date\": \"2019-11-30T00:00:00\", \"Level 1\": \"Harvard Operational Control\", \"Level 2\": \"CS - Transportation\", \"Level 3\": \"180-Transportation\", \"Level 4\": \"Mobile Vehicle - Dennis K Burke\", \"Level 5\": null, \"Activity Category\": \"Mobile Combustion\", \"Activity Unit\": \"US gallons\", \"Activity Type\": \"BIOD20\", \"Vehicle MPG\": 11.482, \"Total Miles Traveled  (Vehicle MPG * Activity Amount)\": 66124.838, \"tons of CO2 Total Emissions from Electrification (Column R * 96 g C02)\": 6.997446737, \"Emissions from Electrified Fleet (96g CO2e/mi)\": null, \"Emissions from Electrified Fleet, 50% Decarbonized Grid (48g CO2e/mi)\": null, \"Emissions from Electrified Fleet, Peak Carbon Intensity (132g CO2e/mi)\": null, \"Emission Scope\": \"Scope 1\", \"Activity Amount\": 5759.0, \"Unnamed: 24\": null, \"Supplier\": null, \"Scope 2L Supplier\": null, \"Description\": \"Per 2/3/20 email from Denise Byrne. Entered 2/13/20 by Cheryl Greenwald.\", \"Output Type\": \"CO2e\", \"Output Amount\": 10.82, \"Output Amount Unit\": \"tonnes\", \"Amount - Estimated\": false, \"Amount Estimation Description\": null, \"Meter or Ref. No.\": null, \"Acct. No.\": null, \"City\": null, \"EPA Facility\": \"Cambridge/Allston AQ:1190092\", \"Root Number\": null, \"Building Number\": null, \"University-wide GHG Status\": \"Baseline\", \"Campus\": \"Cambridge\", \"School-Level GHG Status\": \"Baseline\"}, {\"Organization Period\": \"CY 2019\", \"Org Unit Name\": \"Mobile Vehicle - Dennis K Burke\", \"Time\": null, \"Type\": null, \"Amount\": null, \"Output\": null, \"From Date\": \"2019-10-01T00:00:00\", \"To Date\": \"2019-10-31T00:00:00\", \"Level 1\": \"Harvard Operational Control\", \"Level 2\": \"CS - Transportation\", \"Level 3\": \"180-Transportation\", \"Level 4\": \"Mobile Vehicle - Dennis K Burke\", \"Level 5\": null, \"Activity Category\": \"Mobile Combustion\", \"Activity Unit\": \"US gallons\", \"Activity Type\": \"BIOD20\", \"Vehicle MPG\": 11.482, \"Total Miles Traveled  (Vehicle MPG * Activity Amount)\": 68398.274, \"tons of CO2 Total Emissions from Electrification (Column R * 96 g C02)\": 7.238025736, \"Emissions from Electrified Fleet (96g CO2e/mi)\": null, \"Emissions from Electrified Fleet, 50% Decarbonized Grid (48g CO2e/mi)\": null, \"Emissions from Electrified Fleet, Peak Carbon Intensity (132g CO2e/mi)\": null, \"Emission Scope\": \"Scope 1\", \"Activity Amount\": 5957.0, \"Unnamed: 24\": null, \"Supplier\": null, \"Scope 2L Supplier\": null, \"Description\": \"Per 2/3/20 email from Denise Byrne. Entered 2/13/20 by Cheryl Greenwald.\", \"Output Type\": \"CO2e\", \"Output Amount\": 11.19, \"Output Amount Unit\": \"tonnes\", \"Amount - Estimated\": false, \"Amount Estimation Description\": null, \"Meter or Ref. No.\": null, \"Acct. No.\": null, \"City\": null, \"EPA Facility\": \"Cambridge/Allston AQ:1190092\", \"Root Number\": null, \"Building Number\": null, \"University-wide GHG Status\": \"Baseline\", \"Campus\": \"Cambridge\", \"School-Level GHG Status\": \"Baseline\"}, {\"Organization Period\": \"CY 2019\", \"Org Unit Name\": \"Mobile Vehicle - Dennis K Burke\", \"Time\": null, \"Type\": null, \"Amount\": null, \"Output\": null, \"From Date\": \"2019-09-01T00:00:00\", \"To Date\": \"2019-09-30T00:00:00\", \"Level 1\": \"Harvard Operational Control\", \"Level 2\": \"CS - Transportation\", \"Level 3\": \"180-Transportation\", \"Level 4\": \"Mobile Vehicle - Dennis K Burke\", \"Level 5\": null, \"Activity Category\": \"Mobile Combustion\", \"Activity Unit\": \"US gallons\", \"Activity Type\": \"BIOD20\", \"Vehicle MPG\": 11.482, \"Total Miles Traveled  (Vehicle MPG * Activity Amount)\": 124832.304, \"tons of CO2 Total Emissions from Electrification (Column R * 96 g C02)\": 13.20997411, \"Emissions from Electrified Fleet (96g CO2e/mi)\": null, \"Emissions from Electrified Fleet, 50% Decarbonized Grid (48g CO2e/mi)\": null, \"Emissions from Electrified Fleet, Peak Carbon Intensity (132g CO2e/mi)\": null, \"Emission Scope\": \"Scope 1\", \"Activity Amount\": 10872.0, \"Unnamed: 24\": null, \"Supplier\": null, \"Scope 2L Supplier\": null, \"Description\": \"Per 2/3/20 email from Denise Byrne. Entered 2/13/20 by Cheryl Greenwald.\", \"Output Type\": \"CO2e\", \"Output Amount\": 20.43, \"Output Amount Unit\": \"tonnes\", \"Amount - Estimated\": false, \"Amount Estimation Description\": null, \"Meter or Ref. No.\": null, \"Acct. No.\": null, \"City\": null, \"EPA Facility\": \"Cambridge/Allston AQ:1190092\", \"Root Number\": null, \"Building Number\": null, \"University-wide GHG Status\": \"Baseline\", \"Campus\": \"Cambridge\", \"School-Level GHG Status\": \"Baseline\"}, {\"Organization Period\": \"CY 2019\", \"Org Unit Name\": \"Mobile Vehicle - Dennis K Burke\", \"Time\": 2019.0, \"Type\": \"Biodiesel 20A\", \"Amount\": 67884.0, \"Output\": 520.78, \"From Date\": \"2019-04-01T00:00:00\", \"To Date\": \"2019-04-30T00:00:00\", \"Level 1\": \"Harvard Operational Control\", \"Level 2\": \"CS - Transportation\", \"Level 3\": \"180-Transportation\", \"Level 4\": \"Mobile Vehicle - Dennis K Burke\", \"Level 5\": null, \"Activity Category\": \"Mobile Combustion\", \"Activity Unit\": \"US gallons\", \"Activity Type\": \"BIOD20_A\", \"Vehicle MPG\": 11.482, \"Total Miles Traveled  (Vehicle MPG * Activity Amount)\": 79696.562, \"tons of CO2 Total Emissions from Electrification (Column R * 96 g C02)\": 8.433630457, \"Emissions from Electrified Fleet (96g CO2e/mi)\": 16.86726091, \"Emissions from Electrified Fleet, 50% Decarbonized Grid (48g CO2e/mi)\": 8.433630457, \"Emissions from Electrified Fleet, Peak Carbon Intensity (132g CO2e/mi)\": 23.19248376, \"Emission Scope\": \"Scope 1\", \"Activity Amount\": 6941.0, \"Unnamed: 24\": 67884.0, \"Supplier\": null, \"Scope 2L Supplier\": null, \"Description\": \"Per 7/25/19 email from Denise Byrne. Entered 7/25/19 by Cheryl Greenwald.\", \"Output Type\": \"CO2e\", \"Output Amount\": 53.25, \"Output Amount Unit\": \"tonnes\", \"Amount - Estimated\": false, \"Amount Estimation Description\": null, \"Meter or Ref. No.\": null, \"Acct. No.\": null, \"City\": null, \"EPA Facility\": \"Cambridge/Allston AQ:1190092\", \"Root Number\": null, \"Building Number\": null, \"University-wide GHG Status\": \"Baseline\", \"Campus\": \"Cambridge\", \"School-Level GHG Status\": \"Baseline\"}, {\"Organization Period\": \"CY 2019\", \"Org Unit Name\": \"Mobile Vehicle - Dennis K Burke\", \"Time\": null, \"Type\": null, \"Amount\": null, \"Output\": null, \"From Date\": \"2019-08-01T00:00:00\", \"To Date\": \"2019-08-31T00:00:00\", \"Level 1\": \"Harvard Operational Control\", \"Level 2\": \"CS - Transportation\", \"Level 3\": \"180-Transportation\", \"Level 4\": \"Mobile Vehicle - Dennis K Burke\", \"Level 5\": null, \"Activity Category\": \"Mobile Combustion\", \"Activity Unit\": \"US gallons\", \"Activity Type\": \"BIOD20_A\", \"Vehicle MPG\": 11.482, \"Total Miles Traveled  (Vehicle MPG * Activity Amount)\": 38992.872, \"tons of CO2 Total Emissions from Electrification (Column R * 96 g C02)\": 4.126294342, \"Emissions from Electrified Fleet (96g CO2e/mi)\": null, \"Emissions from Electrified Fleet, 50% Decarbonized Grid (48g CO2e/mi)\": null, \"Emissions from Electrified Fleet, Peak Carbon Intensity (132g CO2e/mi)\": null, \"Emission Scope\": \"Scope 1\", \"Activity Amount\": 3396.0, \"Unnamed: 24\": null, \"Supplier\": null, \"Scope 2L Supplier\": null, \"Description\": \"Per 2/3/20 email from Denise Byrne. Entered 2/13/20 by Cheryl Greenwald.\", \"Output Type\": \"CO2e\", \"Output Amount\": 26.05, \"Output Amount Unit\": \"tonnes\", \"Amount - Estimated\": false, \"Amount Estimation Description\": null, \"Meter or Ref. No.\": null, \"Acct. No.\": null, \"City\": null, \"EPA Facility\": \"Cambridge/Allston AQ:1190092\", \"Root Number\": null, \"Building Number\": null, \"University-wide GHG Status\": \"Baseline\", \"Campus\": \"Cambridge\", \"School-Level GHG Status\": \"Baseline\"}, {\"Organization Period\": \"CY 2019\", \"Org Unit Name\": \"Mobile Vehicle - Dennis K Burke\", \"Time\": null, \"Type\": null, \"Amount\": null, \"Output\": null, \"From Date\": \"2019-12-01T00:00:00\", \"To Date\": \"2019-12-31T00:00:00\", \"Level 1\": \"Harvard Operational Control\", \"Level 2\": \"CS - Transportation\", \"Level 3\": \"180-Transportation\", \"Level 4\": \"Mobile Vehicle - Dennis K Burke\", \"Level 5\": null, \"Activity Category\": \"Mobile Combustion\", \"Activity Unit\": \"US gallons\", \"Activity Type\": \"BIOD20_A\", \"Vehicle MPG\": 11.482, \"Total Miles Traveled  (Vehicle MPG * Activity Amount)\": 57926.69, \"tons of CO2 Total Emissions from Electrification (Column R * 96 g C02)\": 6.129904287, \"Emissions from Electrified Fleet (96g CO2e/mi)\": null, \"Emissions from Electrified Fleet, 50% Decarbonized Grid (48g CO2e/mi)\": null, \"Emissions from Electrified Fleet, Peak Carbon Intensity (132g CO2e/mi)\": null, \"Emission Scope\": \"Scope 1\", \"Activity Amount\": 5045.0, \"Unnamed: 24\": null, \"Supplier\": null, \"Scope 2L Supplier\": null, \"Description\": \"Per 2/3/20 email from Denise Byrne. Entered 2/13/20 by Cheryl Greenwald.\", \"Output Type\": \"CO2e\", \"Output Amount\": 38.7, \"Output Amount Unit\": \"tonnes\", \"Amount - Estimated\": false, \"Amount Estimation Description\": null, \"Meter or Ref. No.\": null, \"Acct. No.\": null, \"City\": null, \"EPA Facility\": \"Cambridge/Allston AQ:1190092\", \"Root Number\": null, \"Building Number\": null, \"University-wide GHG Status\": \"Baseline\", \"Campus\": \"Cambridge\", \"School-Level GHG Status\": \"Baseline\"}, {\"Organization Period\": \"CY 2019\", \"Org Unit Name\": \"Mobile Vehicle - Dennis K Burke\", \"Time\": null, \"Type\": null, \"Amount\": null, \"Output\": null, \"From Date\": \"2019-02-01T00:00:00\", \"To Date\": \"2019-02-28T00:00:00\", \"Level 1\": \"Harvard Operational Control\", \"Level 2\": \"CS - Transportation\", \"Level 3\": \"180-Transportation\", \"Level 4\": \"Mobile Vehicle - Dennis K Burke\", \"Level 5\": null, \"Activity Category\": \"Mobile Combustion\", \"Activity Unit\": \"US gallons\", \"Activity Type\": \"BIOD20_A\", \"Vehicle MPG\": 11.482, \"Total Miles Traveled  (Vehicle MPG * Activity Amount)\": 71613.234, \"tons of CO2 Total Emissions from Electrification (Column R * 96 g C02)\": 7.578238461, \"Emissions from Electrified Fleet (96g CO2e/mi)\": null, \"Emissions from Electrified Fleet, 50% Decarbonized Grid (48g CO2e/mi)\": null, \"Emissions from Electrified Fleet, Peak Carbon Intensity (132g CO2e/mi)\": null, \"Emission Scope\": \"Scope 1\", \"Activity Amount\": 6237.0, \"Unnamed: 24\": null, \"Supplier\": null, \"Scope 2L Supplier\": null, \"Description\": \"Per 7/25/19 email from Denise Byrne. Entered 7/25/19 by Cheryl Greenwald.\", \"Output Type\": \"CO2e\", \"Output Amount\": 47.85, \"Output Amount Unit\": \"tonnes\", \"Amount - Estimated\": false, \"Amount Estimation Description\": null, \"Meter or Ref. No.\": null, \"Acct. No.\": null, \"City\": null, \"EPA Facility\": \"Cambridge/Allston AQ:1190092\", \"Root Number\": null, \"Building Number\": null, \"University-wide GHG Status\": \"Baseline\", \"Campus\": \"Cambridge\", \"School-Level GHG Status\": \"Baseline\"}, {\"Organization Period\": \"CY 2019\", \"Org Unit Name\": \"Mobile Vehicle - Dennis K Burke\", \"Time\": null, \"Type\": null, \"Amount\": null, \"Output\": null, \"From Date\": \"2019-01-01T00:00:00\", \"To Date\": \"2019-01-31T00:00:00\", \"Level 1\": \"Harvard Operational Control\", \"Level 2\": \"CS - Transportation\", \"Level 3\": \"180-Transportation\", \"Level 4\": \"Mobile Vehicle - Dennis K Burke\", \"Level 5\": null, \"Activity Category\": \"Mobile Combustion\", \"Activity Unit\": \"US gallons\", \"Activity Type\": \"BIOD20_A\", \"Vehicle MPG\": 11.482, \"Total Miles Traveled  (Vehicle MPG * Activity Amount)\": 51600.108, \"tons of CO2 Total Emissions from Electrification (Column R * 96 g C02)\": 5.460414245, \"Emissions from Electrified Fleet (96g CO2e/mi)\": null, \"Emissions from Electrified Fleet, 50% Decarbonized Grid (48g CO2e/mi)\": null, \"Emissions from Electrified Fleet, Peak Carbon Intensity (132g CO2e/mi)\": null, \"Emission Scope\": \"Scope 1\", \"Activity Amount\": 4494.0, \"Unnamed: 24\": null, \"Supplier\": null, \"Scope 2L Supplier\": null, \"Description\": \"Per 7/25/19 email from Denise Byrne. Entered 7/25/19 by Cheryl Greenwald.\", \"Output Type\": \"CO2e\", \"Output Amount\": 34.48, \"Output Amount Unit\": \"tonnes\", \"Amount - Estimated\": false, \"Amount Estimation Description\": null, \"Meter or Ref. No.\": null, \"Acct. No.\": null, \"City\": null, \"EPA Facility\": \"Cambridge/Allston AQ:1190092\", \"Root Number\": null, \"Building Number\": null, \"University-wide GHG Status\": \"Baseline\", \"Campus\": \"Cambridge\", \"School-Level GHG Status\": \"Baseline\"}, {\"Organization Period\": \"CY 2019\", \"Org Unit Name\": \"Mobile Vehicle - Dennis K Burke\", \"Time\": null, \"Type\": null, \"Amount\": null, \"Output\": null, \"From Date\": \"2019-07-01T00:00:00\", \"To Date\": \"2019-07-31T00:00:00\", \"Level 1\": \"Harvard Operational Control\", \"Level 2\": \"CS - Transportation\", \"Level 3\": \"180-Transportation\", \"Level 4\": \"Mobile Vehicle - Dennis K Burke\", \"Level 5\": null, \"Activity Category\": \"Mobile Combustion\", \"Activity Unit\": \"US gallons\", \"Activity Type\": \"BIOD20_A\", \"Vehicle MPG\": 11.482, \"Total Miles Traveled  (Vehicle MPG * Activity Amount)\": 51669.0, \"tons of CO2 Total Emissions from Electrification (Column R * 96 g C02)\": 5.467704517, \"Emissions from Electrified Fleet (96g CO2e/mi)\": null, \"Emissions from Electrified Fleet, 50% Decarbonized Grid (48g CO2e/mi)\": null, \"Emissions from Electrified Fleet, Peak Carbon Intensity (132g CO2e/mi)\": null, \"Emission Scope\": \"Scope 1\", \"Activity Amount\": 4500.0, \"Unnamed: 24\": null, \"Supplier\": null, \"Scope 2L Supplier\": null, \"Description\": \"Per 2/3/20 email from Denise Byrne. Entered 2/13/20 by Cheryl Greenwald.\", \"Output Type\": \"CO2e\", \"Output Amount\": 34.52, \"Output Amount Unit\": \"tonnes\", \"Amount - Estimated\": false, \"Amount Estimation Description\": null, \"Meter or Ref. No.\": null, \"Acct. No.\": null, \"City\": null, \"EPA Facility\": \"Cambridge/Allston AQ:1190092\", \"Root Number\": null, \"Building Number\": null, \"University-wide GHG Status\": \"Baseline\", \"Campus\": \"Cambridge\", \"School-Level GHG Status\": \"Baseline\"}, {\"Organization Period\": \"CY 2019\", \"Org Unit Name\": \"Mobile Vehicle - Dennis K Burke\", \"Time\": null, \"Type\": null, \"Amount\": null, \"Output\": null, \"From Date\": \"2019-06-01T00:00:00\", \"To Date\": \"2019-06-30T00:00:00\", \"Level 1\": \"Harvard Operational Control\", \"Level 2\": \"CS - Transportation\", \"Level 3\": \"180-Transportation\", \"Level 4\": \"Mobile Vehicle - Dennis K Burke\", \"Level 5\": null, \"Activity Category\": \"Mobile Combustion\", \"Activity Unit\": \"US gallons\", \"Activity Type\": \"BIOD20_A\", \"Vehicle MPG\": 11.482, \"Total Miles Traveled  (Vehicle MPG * Activity Amount)\": 22964.0, \"tons of CO2 Total Emissions from Electrification (Column R * 96 g C02)\": 2.430090897, \"Emissions from Electrified Fleet (96g CO2e/mi)\": null, \"Emissions from Electrified Fleet, 50% Decarbonized Grid (48g CO2e/mi)\": null, \"Emissions from Electrified Fleet, Peak Carbon Intensity (132g CO2e/mi)\": null, \"Emission Scope\": \"Scope 1\", \"Activity Amount\": 2000.0, \"Unnamed: 24\": null, \"Supplier\": null, \"Scope 2L Supplier\": null, \"Description\": \"Per 7/25/19 email from Denise Byrne. Entered 7/25/19 by Cheryl Greenwald.\", \"Output Type\": \"CO2e\", \"Output Amount\": 15.34, \"Output Amount Unit\": \"tonnes\", \"Amount - Estimated\": false, \"Amount Estimation Description\": null, \"Meter or Ref. No.\": null, \"Acct. No.\": null, \"City\": null, \"EPA Facility\": \"Cambridge/Allston AQ:1190092\", \"Root Number\": null, \"Building Number\": null, \"University-wide GHG Status\": \"Baseline\", \"Campus\": \"Cambridge\", \"School-Level GHG Status\": \"Baseline\"}, {\"Organization Period\": \"CY 2019\", \"Org Unit Name\": \"Mobile Vehicle - Dennis K Burke\", \"Time\": null, \"Type\": null, \"Amount\": null, \"Output\": null, \"From Date\": \"2019-03-01T00:00:00\", \"To Date\": \"2019-03-31T00:00:00\", \"Level 1\": \"Harvard Operational Control\", \"Level 2\": \"CS - Transportation\", \"Level 3\": \"180-Transportation\", \"Level 4\": \"Mobile Vehicle - Dennis K Burke\", \"Level 5\": null, \"Activity Category\": \"Mobile Combustion\", \"Activity Unit\": \"US gallons\", \"Activity Type\": \"BIOD20_A\", \"Vehicle MPG\": 11.482, \"Total Miles Traveled  (Vehicle MPG * Activity Amount)\": 80431.41, \"tons of CO2 Total Emissions from Electrification (Column R * 96 g C02)\": 8.511393365, \"Emissions from Electrified Fleet (96g CO2e/mi)\": null, \"Emissions from Electrified Fleet, 50% Decarbonized Grid (48g CO2e/mi)\": null, \"Emissions from Electrified Fleet, Peak Carbon Intensity (132g CO2e/mi)\": null, \"Emission Scope\": \"Scope 1\", \"Activity Amount\": 7005.0, \"Unnamed: 24\": null, \"Supplier\": null, \"Scope 2L Supplier\": null, \"Description\": \"Per 7/25/19 email from Denise Byrne. Entered 7/25/19 by Cheryl Greenwald.\", \"Output Type\": \"CO2e\", \"Output Amount\": 53.74, \"Output Amount Unit\": \"tonnes\", \"Amount - Estimated\": false, \"Amount Estimation Description\": null, \"Meter or Ref. No.\": null, \"Acct. No.\": null, \"City\": null, \"EPA Facility\": \"Cambridge/Allston AQ:1190092\", \"Root Number\": null, \"Building Number\": null, \"University-wide GHG Status\": \"Baseline\", \"Campus\": \"Cambridge\", \"School-Level GHG Status\": \"Baseline\"}, {\"Organization Period\": \"CY 2019\", \"Org Unit Name\": \"Mobile Vehicle - Dennis K Burke\", \"Time\": null, \"Type\": null, \"Amount\": null, \"Output\": null, \"From Date\": \"2019-05-01T00:00:00\", \"To Date\": \"2019-05-31T00:00:00\", \"Level 1\": \"Harvard Operational Control\", \"Level 2\": \"CS - Transportation\", \"Level 3\": \"180-Transportation\", \"Level 4\": \"Mobile Vehicle - Dennis K Burke\", \"Level 5\": null, \"Activity Category\": \"Mobile Combustion\", \"Activity Unit\": \"US gallons\", \"Activity Type\": \"BIOD20_A\", \"Vehicle MPG\": 11.482, \"Total Miles Traveled  (Vehicle MPG * Activity Amount)\": 65194.796, \"tons of CO2 Total Emissions from Electrification (Column R * 96 g C02)\": 6.899028056, \"Emissions from Electrified Fleet (96g CO2e/mi)\": null, \"Emissions from Electrified Fleet, 50% Decarbonized Grid (48g CO2e/mi)\": null, \"Emissions from Electrified Fleet, Peak Carbon Intensity (132g CO2e/mi)\": null, \"Emission Scope\": \"Scope 1\", \"Activity Amount\": 5678.0, \"Unnamed: 24\": null, \"Supplier\": null, \"Scope 2L Supplier\": null, \"Description\": \"Per 7/25/19 email from Denise Byrne. Entered 7/25/19 by Cheryl Greenwald.\", \"Output Type\": \"CO2e\", \"Output Amount\": 43.56, \"Output Amount Unit\": \"tonnes\", \"Amount - Estimated\": false, \"Amount Estimation Description\": null, \"Meter or Ref. No.\": null, \"Acct. No.\": null, \"City\": null, \"EPA Facility\": \"Cambridge/Allston AQ:1190092\", \"Root Number\": null, \"Building Number\": null, \"University-wide GHG Status\": \"Baseline\", \"Campus\": \"Cambridge\", \"School-Level GHG Status\": \"Baseline\"}, {\"Organization Period\": \"CY 2019\", \"Org Unit Name\": \"Mobile Vehicle - Dennis K Burke\", \"Time\": null, \"Type\": null, \"Amount\": null, \"Output\": null, \"From Date\": \"2019-11-01T00:00:00\", \"To Date\": \"2019-11-30T00:00:00\", \"Level 1\": \"Harvard Operational Control\", \"Level 2\": \"CS - Transportation\", \"Level 3\": \"180-Transportation\", \"Level 4\": \"Mobile Vehicle - Dennis K Burke\", \"Level 5\": null, \"Activity Category\": \"Mobile Combustion\", \"Activity Unit\": \"US gallons\", \"Activity Type\": \"BIOD20_A\", \"Vehicle MPG\": 11.482, \"Total Miles Traveled  (Vehicle MPG * Activity Amount)\": 66124.838, \"tons of CO2 Total Emissions from Electrification (Column R * 96 g C02)\": 6.997446737, \"Emissions from Electrified Fleet (96g CO2e/mi)\": null, \"Emissions from Electrified Fleet, 50% Decarbonized Grid (48g CO2e/mi)\": null, \"Emissions from Electrified Fleet, Peak Carbon Intensity (132g CO2e/mi)\": null, \"Emission Scope\": \"Scope 1\", \"Activity Amount\": 5759.0, \"Unnamed: 24\": null, \"Supplier\": null, \"Scope 2L Supplier\": null, \"Description\": \"Per 2/3/20 email from Denise Byrne. Entered 2/13/20 by Cheryl Greenwald.\", \"Output Type\": \"CO2e\", \"Output Amount\": 44.18, \"Output Amount Unit\": \"tonnes\", \"Amount - Estimated\": false, \"Amount Estimation Description\": null, \"Meter or Ref. No.\": null, \"Acct. No.\": null, \"City\": null, \"EPA Facility\": \"Cambridge/Allston AQ:1190092\", \"Root Number\": null, \"Building Number\": null, \"University-wide GHG Status\": \"Baseline\", \"Campus\": \"Cambridge\", \"School-Level GHG Status\": \"Baseline\"}, {\"Organization Period\": \"CY 2019\", \"Org Unit Name\": \"Mobile Vehicle - Dennis K Burke\", \"Time\": null, \"Type\": null, \"Amount\": null, \"Output\": null, \"From Date\": \"2019-10-01T00:00:00\", \"To Date\": \"2019-10-31T00:00:00\", \"Level 1\": \"Harvard Operational Control\", \"Level 2\": \"CS - Transportation\", \"Level 3\": \"180-Transportation\", \"Level 4\": \"Mobile Vehicle - Dennis K Burke\", \"Level 5\": null, \"Activity Category\": \"Mobile Combustion\", \"Activity Unit\": \"US gallons\", \"Activity Type\": \"BIOD20_A\", \"Vehicle MPG\": 11.482, \"Total Miles Traveled  (Vehicle MPG * Activity Amount)\": 68398.274, \"tons of CO2 Total Emissions from Electrification (Column R * 96 g C02)\": 7.238025736, \"Emissions from Electrified Fleet (96g CO2e/mi)\": null, \"Emissions from Electrified Fleet, 50% Decarbonized Grid (48g CO2e/mi)\": null, \"Emissions from Electrified Fleet, Peak Carbon Intensity (132g CO2e/mi)\": null, \"Emission Scope\": \"Scope 1\", \"Activity Amount\": 5957.0, \"Unnamed: 24\": null, \"Supplier\": null, \"Scope 2L Supplier\": null, \"Description\": \"Per 2/3/20 email from Denise Byrne. Entered 2/13/20 by Cheryl Greenwald.\", \"Output Type\": \"CO2e\", \"Output Amount\": 45.7, \"Output Amount Unit\": \"tonnes\", \"Amount - Estimated\": false, \"Amount Estimation Description\": null, \"Meter or Ref. No.\": null, \"Acct. No.\": null, \"City\": null, \"EPA Facility\": \"Cambridge/Allston AQ:1190092\", \"Root Number\": null, \"Building Number\": null, \"University-wide GHG Status\": \"Baseline\", \"Campus\": \"Cambridge\", \"School-Level GHG Status\": \"Baseline\"}, {\"Organization Period\": \"CY 2019\", \"Org Unit Name\": \"Mobile Vehicle - Dennis K Burke\", \"Time\": null, \"Type\": null, \"Amount\": null, \"Output\": null, \"From Date\": \"2019-09-01T00:00:00\", \"To Date\": \"2019-09-30T00:00:00\", \"Level 1\": \"Harvard Operational Control\", \"Level 2\": \"CS - Transportation\", \"Level 3\": \"180-Transportation\", \"Level 4\": \"Mobile Vehicle - Dennis K Burke\", \"Level 5\": null, \"Activity Category\": \"Mobile Combustion\", \"Activity Unit\": \"US gallons\", \"Activity Type\": \"BIOD20_A\", \"Vehicle MPG\": 11.482, \"Total Miles Traveled  (Vehicle MPG * Activity Amount)\": 124832.304, \"tons of CO2 Total Emissions from Electrification (Column R * 96 g C02)\": 13.20997411, \"Emissions from Electrified Fleet (96g CO2e/mi)\": null, \"Emissions from Electrified Fleet, 50% Decarbonized Grid (48g CO2e/mi)\": null, \"Emissions from Electrified Fleet, Peak Carbon Intensity (132g CO2e/mi)\": null, \"Emission Scope\": \"Scope 1\", \"Activity Amount\": 10872.0, \"Unnamed: 24\": null, \"Supplier\": null, \"Scope 2L Supplier\": null, \"Description\": \"Per 2/3/20 email from Denise Byrne. Entered 2/13/20 by Cheryl Greenwald.\", \"Output Type\": \"CO2e\", \"Output Amount\": 83.41, \"Output Amount Unit\": \"tonnes\", \"Amount - Estimated\": false, \"Amount Estimation Description\": null, \"Meter or Ref. No.\": null, \"Acct. No.\": null, \"City\": null, \"EPA Facility\": \"Cambridge/Allston AQ:1190092\", \"Root Number\": null, \"Building Number\": null, \"University-wide GHG Status\": \"Baseline\", \"Campus\": \"Cambridge\", \"School-Level GHG Status\": \"Baseline\"}, {\"Organization Period\": \"CY 2019\", \"Org Unit Name\": \"Mobile Vehicle - GE Diesel\", \"Time\": 2019.0, \"Type\": \"Diesel\", \"Amount\": 4070.0, \"Output\": 41.38, \"From Date\": \"2019-04-01T00:00:00\", \"To Date\": \"2019-04-30T00:00:00\", \"Level 1\": \"Harvard Operational Control\", \"Level 2\": \"CS - Transportation\", \"Level 3\": \"180-Transportation\", \"Level 4\": \"Mobile Vehicle - GE Diesel\", \"Level 5\": null, \"Activity Category\": \"Mobile Combustion\", \"Activity Unit\": \"US gallons\", \"Activity Type\": \"DIESEL_MV\", \"Vehicle MPG\": 11.482, \"Total Miles Traveled  (Vehicle MPG * Activity Amount)\": 6070.5334, \"tons of CO2 Total Emissions from Electrification (Column R * 96 g C02)\": 0.6423945285, \"Emissions from Electrified Fleet (96g CO2e/mi)\": 4.945234975, \"Emissions from Electrified Fleet, 50% Decarbonized Grid (48g CO2e/mi)\": 2.472617487, \"Emissions from Electrified Fleet, Peak Carbon Intensity (132g CO2e/mi)\": 6.79969809, \"Emission Scope\": \"Scope 1\", \"Activity Amount\": 528.7, \"Unnamed: 24\": null, \"Supplier\": null, \"Scope 2L Supplier\": null, \"Description\": \"Per 7/25/19 email from Denise Byrne. Entered 7/25/19 by Cheryl Greenwald.\", \"Output Type\": \"CO2e\", \"Output Amount\": 5.38, \"Output Amount Unit\": \"tonnes\", \"Amount - Estimated\": false, \"Amount Estimation Description\": null, \"Meter or Ref. No.\": null, \"Acct. No.\": null, \"City\": null, \"EPA Facility\": \"Cambridge/Allston AQ:1190092\", \"Root Number\": null, \"Building Number\": null, \"University-wide GHG Status\": \"Baseline\", \"Campus\": \"Cambridge\", \"School-Level GHG Status\": \"Baseline\"}, {\"Organization Period\": \"CY 2019\", \"Org Unit Name\": \"Mobile Vehicle - GE Diesel\", \"Time\": null, \"Type\": null, \"Amount\": null, \"Output\": null, \"From Date\": \"2019-08-01T00:00:00\", \"To Date\": \"2019-08-31T00:00:00\", \"Level 1\": \"Harvard Operational Control\", \"Level 2\": \"CS - Transportation\", \"Level 3\": \"180-Transportation\", \"Level 4\": \"Mobile Vehicle - GE Diesel\", \"Level 5\": null, \"Activity Category\": \"Mobile Combustion\", \"Activity Unit\": \"US gallons\", \"Activity Type\": \"DIESEL_MV\", \"Vehicle MPG\": 11.482, \"Total Miles Traveled  (Vehicle MPG * Activity Amount)\": 838.186, \"tons of CO2 Total Emissions from Electrification (Column R * 96 g C02)\": 0.08869831773, \"Emissions from Electrified Fleet (96g CO2e/mi)\": null, \"Emissions from Electrified Fleet, 50% Decarbonized Grid (48g CO2e/mi)\": null, \"Emissions from Electrified Fleet, Peak Carbon Intensity (132g CO2e/mi)\": null, \"Emission Scope\": \"Scope 1\", \"Activity Amount\": 73.0, \"Unnamed: 24\": null, \"Supplier\": null, \"Scope 2L Supplier\": null, \"Description\": \"Per 2/3/20 email from Denise Byrne. Entered 2/13/20 by Cheryl Greenwald.\", \"Output Type\": \"CO2e\", \"Output Amount\": 0.74, \"Output Amount Unit\": \"tonnes\", \"Amount - Estimated\": false, \"Amount Estimation Description\": null, \"Meter or Ref. No.\": null, \"Acct. No.\": null, \"City\": null, \"EPA Facility\": \"Cambridge/Allston AQ:1190092\", \"Root Number\": null, \"Building Number\": null, \"University-wide GHG Status\": \"Baseline\", \"Campus\": \"Cambridge\", \"School-Level GHG Status\": \"Baseline\"}, {\"Organization Period\": \"CY 2019\", \"Org Unit Name\": \"Mobile Vehicle - GE Diesel\", \"Time\": null, \"Type\": null, \"Amount\": null, \"Output\": null, \"From Date\": \"2019-12-01T00:00:00\", \"To Date\": \"2019-12-31T00:00:00\", \"Level 1\": \"Harvard Operational Control\", \"Level 2\": \"CS - Transportation\", \"Level 3\": \"180-Transportation\", \"Level 4\": \"Mobile Vehicle - GE Diesel\", \"Level 5\": null, \"Activity Category\": \"Mobile Combustion\", \"Activity Unit\": \"US gallons\", \"Activity Type\": \"DIESEL_MV\", \"Vehicle MPG\": 11.482, \"Total Miles Traveled  (Vehicle MPG * Activity Amount)\": 2158.616, \"tons of CO2 Total Emissions from Electrification (Column R * 96 g C02)\": 0.2284285443, \"Emissions from Electrified Fleet (96g CO2e/mi)\": null, \"Emissions from Electrified Fleet, 50% Decarbonized Grid (48g CO2e/mi)\": null, \"Emissions from Electrified Fleet, Peak Carbon Intensity (132g CO2e/mi)\": null, \"Emission Scope\": \"Scope 1\", \"Activity Amount\": 188.0, \"Unnamed: 24\": null, \"Supplier\": null, \"Scope 2L Supplier\": null, \"Description\": \"Per 2/3/20 email from Denise Byrne. Entered 2/13/20 by Cheryl Greenwald.\", \"Output Type\": \"CO2e\", \"Output Amount\": 1.91, \"Output Amount Unit\": \"tonnes\", \"Amount - Estimated\": false, \"Amount Estimation Description\": null, \"Meter or Ref. No.\": null, \"Acct. No.\": null, \"City\": null, \"EPA Facility\": \"Cambridge/Allston AQ:1190092\", \"Root Number\": null, \"Building Number\": null, \"University-wide GHG Status\": \"Baseline\", \"Campus\": \"Cambridge\", \"School-Level GHG Status\": \"Baseline\"}, {\"Organization Period\": \"CY 2019\", \"Org Unit Name\": \"Mobile Vehicle - GE Diesel\", \"Time\": null, \"Type\": null, \"Amount\": null, \"Output\": null, \"From Date\": \"2019-02-01T00:00:00\", \"To Date\": \"2019-02-28T00:00:00\", \"Level 1\": \"Harvard Operational Control\", \"Level 2\": \"CS - Transportation\", \"Level 3\": \"180-Transportation\", \"Level 4\": \"Mobile Vehicle - GE Diesel\", \"Level 5\": null, \"Activity Category\": \"Mobile Combustion\", \"Activity Unit\": \"US gallons\", \"Activity Type\": \"DIESEL_MV\", \"Vehicle MPG\": 11.482, \"Total Miles Traveled  (Vehicle MPG * Activity Amount)\": 3817.765, \"tons of CO2 Total Emissions from Electrification (Column R * 96 g C02)\": 0.4040026116, \"Emissions from Electrified Fleet (96g CO2e/mi)\": null, \"Emissions from Electrified Fleet, 50% Decarbonized Grid (48g CO2e/mi)\": null, \"Emissions from Electrified Fleet, Peak Carbon Intensity (132g CO2e/mi)\": null, \"Emission Scope\": \"Scope 1\", \"Activity Amount\": 332.5, \"Unnamed: 24\": null, \"Supplier\": null, \"Scope 2L Supplier\": null, \"Description\": \"Per 7/25/19 email from Denise Byrne. Entered 7/25/19 by Cheryl Greenwald.\", \"Output Type\": \"CO2e\", \"Output Amount\": 3.38, \"Output Amount Unit\": \"tonnes\", \"Amount - Estimated\": false, \"Amount Estimation Description\": null, \"Meter or Ref. No.\": null, \"Acct. No.\": null, \"City\": null, \"EPA Facility\": \"Cambridge/Allston AQ:1190092\", \"Root Number\": null, \"Building Number\": null, \"University-wide GHG Status\": \"Baseline\", \"Campus\": \"Cambridge\", \"School-Level GHG Status\": \"Baseline\"}, {\"Organization Period\": \"CY 2019\", \"Org Unit Name\": \"Mobile Vehicle - GE Diesel\", \"Time\": null, \"Type\": null, \"Amount\": null, \"Output\": null, \"From Date\": \"2019-01-01T00:00:00\", \"To Date\": \"2019-01-31T00:00:00\", \"Level 1\": \"Harvard Operational Control\", \"Level 2\": \"CS - Transportation\", \"Level 3\": \"180-Transportation\", \"Level 4\": \"Mobile Vehicle - GE Diesel\", \"Level 5\": null, \"Activity Category\": \"Mobile Combustion\", \"Activity Unit\": \"US gallons\", \"Activity Type\": \"DIESEL_MV\", \"Vehicle MPG\": 11.482, \"Total Miles Traveled  (Vehicle MPG * Activity Amount)\": 729.107, \"tons of CO2 Total Emissions from Electrification (Column R * 96 g C02)\": 0.07715538597, \"Emissions from Electrified Fleet (96g CO2e/mi)\": null, \"Emissions from Electrified Fleet, 50% Decarbonized Grid (48g CO2e/mi)\": null, \"Emissions from Electrified Fleet, Peak Carbon Intensity (132g CO2e/mi)\": null, \"Emission Scope\": \"Scope 1\", \"Activity Amount\": 63.5, \"Unnamed: 24\": null, \"Supplier\": null, \"Scope 2L Supplier\": null, \"Description\": \"Per 7/25/19 email from Denise Byrne. Entered 7/25/19 by Cheryl Greenwald.\", \"Output Type\": \"CO2e\", \"Output Amount\": 0.65, \"Output Amount Unit\": \"tonnes\", \"Amount - Estimated\": false, \"Amount Estimation Description\": null, \"Meter or Ref. No.\": null, \"Acct. No.\": null, \"City\": null, \"EPA Facility\": \"Cambridge/Allston AQ:1190092\", \"Root Number\": null, \"Building Number\": null, \"University-wide GHG Status\": \"Baseline\", \"Campus\": \"Cambridge\", \"School-Level GHG Status\": \"Baseline\"}, {\"Organization Period\": \"CY 2019\", \"Org Unit Name\": \"Mobile Vehicle - GE Diesel\", \"Time\": null, \"Type\": null, \"Amount\": null, \"Output\": null, \"From Date\": \"2019-07-01T00:00:00\", \"To Date\": \"2019-07-31T00:00:00\", \"Level 1\": \"Harvard Operational Control\", \"Level 2\": \"CS - Transportation\", \"Level 3\": \"180-Transportation\", \"Level 4\": \"Mobile Vehicle - GE Diesel\", \"Level 5\": null, \"Activity Category\": \"Mobile Combustion\", \"Activity Unit\": \"US gallons\", \"Activity Type\": \"DIESEL_MV\", \"Vehicle MPG\": 11.482, \"Total Miles Traveled  (Vehicle MPG * Activity Amount)\": 1090.79, \"tons of CO2 Total Emissions from Electrification (Column R * 96 g C02)\": 0.1154293176, \"Emissions from Electrified Fleet (96g CO2e/mi)\": null, \"Emissions from Electrified Fleet, 50% Decarbonized Grid (48g CO2e/mi)\": null, \"Emissions from Electrified Fleet, Peak Carbon Intensity (132g CO2e/mi)\": null, \"Emission Scope\": \"Scope 1\", \"Activity Amount\": 95.0, \"Unnamed: 24\": null, \"Supplier\": null, \"Scope 2L Supplier\": null, \"Description\": \"Per 2/3/20 email from Denise Byrne. Entered 2/13/20 by Cheryl Greenwald.\", \"Output Type\": \"CO2e\", \"Output Amount\": 0.97, \"Output Amount Unit\": \"tonnes\", \"Amount - Estimated\": false, \"Amount Estimation Description\": null, \"Meter or Ref. No.\": null, \"Acct. No.\": null, \"City\": null, \"EPA Facility\": \"Cambridge/Allston AQ:1190092\", \"Root Number\": null, \"Building Number\": null, \"University-wide GHG Status\": \"Baseline\", \"Campus\": \"Cambridge\", \"School-Level GHG Status\": \"Baseline\"}, {\"Organization Period\": \"CY 2019\", \"Org Unit Name\": \"Mobile Vehicle - GE Diesel\", \"Time\": null, \"Type\": null, \"Amount\": null, \"Output\": null, \"From Date\": \"2019-06-01T00:00:00\", \"To Date\": \"2019-06-30T00:00:00\", \"Level 1\": \"Harvard Operational Control\", \"Level 2\": \"CS - Transportation\", \"Level 3\": \"180-Transportation\", \"Level 4\": \"Mobile Vehicle - GE Diesel\", \"Level 5\": null, \"Activity Category\": \"Mobile Combustion\", \"Activity Unit\": \"US gallons\", \"Activity Type\": \"DIESEL_MV\", \"Vehicle MPG\": 11.482, \"Total Miles Traveled  (Vehicle MPG * Activity Amount)\": 1153.941, \"tons of CO2 Total Emissions from Electrification (Column R * 96 g C02)\": 0.1221120676, \"Emissions from Electrified Fleet (96g CO2e/mi)\": null, \"Emissions from Electrified Fleet, 50% Decarbonized Grid (48g CO2e/mi)\": null, \"Emissions from Electrified Fleet, Peak Carbon Intensity (132g CO2e/mi)\": null, \"Emission Scope\": \"Scope 1\", \"Activity Amount\": 100.5, \"Unnamed: 24\": null, \"Supplier\": null, \"Scope 2L Supplier\": null, \"Description\": \"Per 7/25/19 email from Denise Byrne. Entered 7/25/19 by Cheryl Greenwald.\", \"Output Type\": \"CO2e\", \"Output Amount\": 1.02, \"Output Amount Unit\": \"tonnes\", \"Amount - Estimated\": false, \"Amount Estimation Description\": null, \"Meter or Ref. No.\": null, \"Acct. No.\": null, \"City\": null, \"EPA Facility\": \"Cambridge/Allston AQ:1190092\", \"Root Number\": null, \"Building Number\": null, \"University-wide GHG Status\": \"Baseline\", \"Campus\": \"Cambridge\", \"School-Level GHG Status\": \"Baseline\"}, {\"Organization Period\": \"CY 2019\", \"Org Unit Name\": \"Mobile Vehicle - GE Diesel\", \"Time\": null, \"Type\": null, \"Amount\": null, \"Output\": null, \"From Date\": \"2019-03-01T00:00:00\", \"To Date\": \"2019-03-31T00:00:00\", \"Level 1\": \"Harvard Operational Control\", \"Level 2\": \"CS - Transportation\", \"Level 3\": \"180-Transportation\", \"Level 4\": \"Mobile Vehicle - GE Diesel\", \"Level 5\": null, \"Activity Category\": \"Mobile Combustion\", \"Activity Unit\": \"US gallons\", \"Activity Type\": \"DIESEL_MV\", \"Vehicle MPG\": 11.482, \"Total Miles Traveled  (Vehicle MPG * Activity Amount)\": 20115.3158, \"tons of CO2 Total Emissions from Electrification (Column R * 96 g C02)\": 2.128638121, \"Emissions from Electrified Fleet (96g CO2e/mi)\": null, \"Emissions from Electrified Fleet, 50% Decarbonized Grid (48g CO2e/mi)\": null, \"Emissions from Electrified Fleet, Peak Carbon Intensity (132g CO2e/mi)\": null, \"Emission Scope\": \"Scope 1\", \"Activity Amount\": 1751.9, \"Unnamed: 24\": null, \"Supplier\": null, \"Scope 2L Supplier\": null, \"Description\": \"Per 7/25/19 email from Denise Byrne. Entered 7/25/19 by Cheryl Greenwald.\", \"Output Type\": \"CO2e\", \"Output Amount\": 17.81, \"Output Amount Unit\": \"tonnes\", \"Amount - Estimated\": false, \"Amount Estimation Description\": null, \"Meter or Ref. No.\": null, \"Acct. No.\": null, \"City\": null, \"EPA Facility\": \"Cambridge/Allston AQ:1190092\", \"Root Number\": null, \"Building Number\": null, \"University-wide GHG Status\": \"Baseline\", \"Campus\": \"Cambridge\", \"School-Level GHG Status\": \"Baseline\"}, {\"Organization Period\": \"CY 2019\", \"Org Unit Name\": \"Mobile Vehicle - GE Diesel\", \"Time\": null, \"Type\": null, \"Amount\": null, \"Output\": null, \"From Date\": \"2019-05-01T00:00:00\", \"To Date\": \"2019-05-31T00:00:00\", \"Level 1\": \"Harvard Operational Control\", \"Level 2\": \"CS - Transportation\", \"Level 3\": \"180-Transportation\", \"Level 4\": \"Mobile Vehicle - GE Diesel\", \"Level 5\": null, \"Activity Category\": \"Mobile Combustion\", \"Activity Unit\": \"US gallons\", \"Activity Type\": \"DIESEL_MV\", \"Vehicle MPG\": 11.482, \"Total Miles Traveled  (Vehicle MPG * Activity Amount)\": 1055.1958, \"tons of CO2 Total Emissions from Electrification (Column R * 96 g C02)\": 0.1116626767, \"Emissions from Electrified Fleet (96g CO2e/mi)\": null, \"Emissions from Electrified Fleet, 50% Decarbonized Grid (48g CO2e/mi)\": null, \"Emissions from Electrified Fleet, Peak Carbon Intensity (132g CO2e/mi)\": null, \"Emission Scope\": \"Scope 1\", \"Activity Amount\": 91.9, \"Unnamed: 24\": null, \"Supplier\": null, \"Scope 2L Supplier\": null, \"Description\": \"Per 7/25/19 email from Denise Byrne. Entered 7/25/19 by Cheryl Greenwald.\", \"Output Type\": \"CO2e\", \"Output Amount\": 0.93, \"Output Amount Unit\": \"tonnes\", \"Amount - Estimated\": false, \"Amount Estimation Description\": null, \"Meter or Ref. No.\": null, \"Acct. No.\": null, \"City\": null, \"EPA Facility\": \"Cambridge/Allston AQ:1190092\", \"Root Number\": null, \"Building Number\": null, \"University-wide GHG Status\": \"Baseline\", \"Campus\": \"Cambridge\", \"School-Level GHG Status\": \"Baseline\"}, {\"Organization Period\": \"CY 2019\", \"Org Unit Name\": \"Mobile Vehicle - GE Diesel\", \"Time\": null, \"Type\": null, \"Amount\": null, \"Output\": null, \"From Date\": \"2019-11-01T00:00:00\", \"To Date\": \"2019-11-30T00:00:00\", \"Level 1\": \"Harvard Operational Control\", \"Level 2\": \"CS - Transportation\", \"Level 3\": \"180-Transportation\", \"Level 4\": \"Mobile Vehicle - GE Diesel\", \"Level 5\": null, \"Activity Category\": \"Mobile Combustion\", \"Activity Unit\": \"US gallons\", \"Activity Type\": \"DIESEL_MV\", \"Vehicle MPG\": 11.482, \"Total Miles Traveled  (Vehicle MPG * Activity Amount)\": 8002.954, \"tons of CO2 Total Emissions from Electrification (Column R * 96 g C02)\": 0.8468866775, \"Emissions from Electrified Fleet (96g CO2e/mi)\": null, \"Emissions from Electrified Fleet, 50% Decarbonized Grid (48g CO2e/mi)\": null, \"Emissions from Electrified Fleet, Peak Carbon Intensity (132g CO2e/mi)\": null, \"Emission Scope\": \"Scope 1\", \"Activity Amount\": 697.0, \"Unnamed: 24\": null, \"Supplier\": null, \"Scope 2L Supplier\": null, \"Description\": \"Per 2/3/20 email from Denise Byrne. Entered 2/13/20 by Cheryl Greenwald.\", \"Output Type\": \"CO2e\", \"Output Amount\": 7.09, \"Output Amount Unit\": \"tonnes\", \"Amount - Estimated\": false, \"Amount Estimation Description\": null, \"Meter or Ref. No.\": null, \"Acct. No.\": null, \"City\": null, \"EPA Facility\": \"Cambridge/Allston AQ:1190092\", \"Root Number\": null, \"Building Number\": null, \"University-wide GHG Status\": \"Baseline\", \"Campus\": \"Cambridge\", \"School-Level GHG Status\": \"Baseline\"}, {\"Organization Period\": \"CY 2019\", \"Org Unit Name\": \"Mobile Vehicle - GE Diesel\", \"Time\": null, \"Type\": null, \"Amount\": null, \"Output\": null, \"From Date\": \"2019-10-01T00:00:00\", \"To Date\": \"2019-10-31T00:00:00\", \"Level 1\": \"Harvard Operational Control\", \"Level 2\": \"CS - Transportation\", \"Level 3\": \"180-Transportation\", \"Level 4\": \"Mobile Vehicle - GE Diesel\", \"Level 5\": null, \"Activity Category\": \"Mobile Combustion\", \"Activity Unit\": \"US gallons\", \"Activity Type\": \"DIESEL_MV\", \"Vehicle MPG\": 11.482, \"Total Miles Traveled  (Vehicle MPG * Activity Amount)\": 723.366, \"tons of CO2 Total Emissions from Electrification (Column R * 96 g C02)\": 0.07654786324, \"Emissions from Electrified Fleet (96g CO2e/mi)\": null, \"Emissions from Electrified Fleet, 50% Decarbonized Grid (48g CO2e/mi)\": null, \"Emissions from Electrified Fleet, Peak Carbon Intensity (132g CO2e/mi)\": null, \"Emission Scope\": \"Scope 1\", \"Activity Amount\": 63.0, \"Unnamed: 24\": null, \"Supplier\": null, \"Scope 2L Supplier\": null, \"Description\": \"Per 2/3/20 email from Denise Byrne. Entered 2/13/20 by Cheryl Greenwald.\", \"Output Type\": \"CO2e\", \"Output Amount\": 0.64, \"Output Amount Unit\": \"tonnes\", \"Amount - Estimated\": false, \"Amount Estimation Description\": null, \"Meter or Ref. No.\": null, \"Acct. No.\": null, \"City\": null, \"EPA Facility\": \"Cambridge/Allston AQ:1190092\", \"Root Number\": null, \"Building Number\": null, \"University-wide GHG Status\": \"Baseline\", \"Campus\": \"Cambridge\", \"School-Level GHG Status\": \"Baseline\"}, {\"Organization Period\": \"CY 2019\", \"Org Unit Name\": \"Mobile Vehicle - GE Diesel\", \"Time\": null, \"Type\": null, \"Amount\": null, \"Output\": null, \"From Date\": \"2019-09-01T00:00:00\", \"To Date\": \"2019-09-30T00:00:00\", \"Level 1\": \"Harvard Operational Control\", \"Level 2\": \"CS - Transportation\", \"Level 3\": \"180-Transportation\", \"Level 4\": \"Mobile Vehicle - GE Diesel\", \"Level 5\": null, \"Activity Category\": \"Mobile Combustion\", \"Activity Unit\": \"US gallons\", \"Activity Type\": \"DIESEL_MV\", \"Vehicle MPG\": 11.482, \"Total Miles Traveled  (Vehicle MPG * Activity Amount)\": 975.97, \"tons of CO2 Total Emissions from Electrification (Column R * 96 g C02)\": 0.1032788631, \"Emissions from Electrified Fleet (96g CO2e/mi)\": null, \"Emissions from Electrified Fleet, 50% Decarbonized Grid (48g CO2e/mi)\": null, \"Emissions from Electrified Fleet, Peak Carbon Intensity (132g CO2e/mi)\": null, \"Emission Scope\": \"Scope 1\", \"Activity Amount\": 85.0, \"Unnamed: 24\": null, \"Supplier\": null, \"Scope 2L Supplier\": null, \"Description\": \"Per 2/3/20 email from Denise Byrne. Entered 2/13/20 by Cheryl Greenwald.\", \"Output Type\": \"CO2e\", \"Output Amount\": 0.86, \"Output Amount Unit\": \"tonnes\", \"Amount - Estimated\": false, \"Amount Estimation Description\": null, \"Meter or Ref. No.\": null, \"Acct. No.\": null, \"City\": null, \"EPA Facility\": \"Cambridge/Allston AQ:1190092\", \"Root Number\": null, \"Building Number\": null, \"University-wide GHG Status\": \"Baseline\", \"Campus\": \"Cambridge\", \"School-Level GHG Status\": \"Baseline\"}, {\"Organization Period\": \"CY 2019\", \"Org Unit Name\": \"Mobile Vehicle - GE Unleaded\", \"Time\": 2019.0, \"Type\": \"Gasoline\", \"Amount\": 75512.0, \"Output\": 678.93, \"From Date\": \"2019-04-01T00:00:00\", \"To Date\": \"2019-04-30T00:00:00\", \"Level 1\": \"Harvard Operational Control\", \"Level 2\": \"CS - Transportation\", \"Level 3\": \"180-Transportation\", \"Level 4\": \"Mobile Vehicle - GE Unleaded\", \"Level 5\": null, \"Activity Category\": \"Mobile Combustion\", \"Activity Unit\": \"US gallons\", \"Activity Type\": \"GASOLINE_MV\", \"Vehicle MPG\": 15.859, \"Total Miles Traveled  (Vehicle MPG * Activity Amount)\": 102528.435, \"tons of CO2 Total Emissions from Electrification (Column R * 96 g C02)\": 10.84973944, \"Emissions from Electrified Fleet (96g CO2e/mi)\": 21.69947888, \"Emissions from Electrified Fleet, 50% Decarbonized Grid (48g CO2e/mi)\": 10.84973944, \"Emissions from Electrified Fleet, Peak Carbon Intensity (132g CO2e/mi)\": 29.83678346, \"Emission Scope\": \"Scope 1\", \"Activity Amount\": 6465.0, \"Unnamed: 24\": 75512.0, \"Supplier\": null, \"Scope 2L Supplier\": null, \"Description\": \"Per 7/25/19 email from Denise Byrne. Entered 7/25/19 by Cheryl Greenwald.\", \"Output Type\": \"CO2e\", \"Output Amount\": 58.13, \"Output Amount Unit\": \"tonnes\", \"Amount - Estimated\": false, \"Amount Estimation Description\": null, \"Meter or Ref. No.\": null, \"Acct. No.\": null, \"City\": null, \"EPA Facility\": \"Cambridge/Allston AQ:1190092\", \"Root Number\": null, \"Building Number\": null, \"University-wide GHG Status\": \"Baseline\", \"Campus\": \"Cambridge\", \"School-Level GHG Status\": \"Baseline\"}, {\"Organization Period\": \"CY 2019\", \"Org Unit Name\": \"Mobile Vehicle - GE Unleaded\", \"Time\": null, \"Type\": null, \"Amount\": null, \"Output\": null, \"From Date\": \"2019-08-01T00:00:00\", \"To Date\": \"2019-08-31T00:00:00\", \"Level 1\": \"Harvard Operational Control\", \"Level 2\": \"CS - Transportation\", \"Level 3\": \"180-Transportation\", \"Level 4\": \"Mobile Vehicle - GE Unleaded\", \"Level 5\": null, \"Activity Category\": \"Mobile Combustion\", \"Activity Unit\": \"US gallons\", \"Activity Type\": \"GASOLINE_MV\", \"Vehicle MPG\": 15.859, \"Total Miles Traveled  (Vehicle MPG * Activity Amount)\": 89714.363, \"tons of CO2 Total Emissions from Electrification (Column R * 96 g C02)\": 9.49373179, \"Emissions from Electrified Fleet (96g CO2e/mi)\": null, \"Emissions from Electrified Fleet, 50% Decarbonized Grid (48g CO2e/mi)\": null, \"Emissions from Electrified Fleet, Peak Carbon Intensity (132g CO2e/mi)\": null, \"Emission Scope\": \"Scope 1\", \"Activity Amount\": 5657.0, \"Unnamed: 24\": null, \"Supplier\": null, \"Scope 2L Supplier\": null, \"Description\": \"Per 2/3/20 email from Denise Byrne. Entered 2/13/20 by Cheryl Greenwald.\", \"Output Type\": \"CO2e\", \"Output Amount\": 50.86, \"Output Amount Unit\": \"tonnes\", \"Amount - Estimated\": false, \"Amount Estimation Description\": null, \"Meter or Ref. No.\": null, \"Acct. No.\": null, \"City\": null, \"EPA Facility\": \"Cambridge/Allston AQ:1190092\", \"Root Number\": null, \"Building Number\": null, \"University-wide GHG Status\": \"Baseline\", \"Campus\": \"Cambridge\", \"School-Level GHG Status\": \"Baseline\"}, {\"Organization Period\": \"CY 2019\", \"Org Unit Name\": \"Mobile Vehicle - GE Unleaded\", \"Time\": null, \"Type\": null, \"Amount\": null, \"Output\": null, \"From Date\": \"2019-12-01T00:00:00\", \"To Date\": \"2019-12-31T00:00:00\", \"Level 1\": \"Harvard Operational Control\", \"Level 2\": \"CS - Transportation\", \"Level 3\": \"180-Transportation\", \"Level 4\": \"Mobile Vehicle - GE Unleaded\", \"Level 5\": null, \"Activity Category\": \"Mobile Combustion\", \"Activity Unit\": \"US gallons\", \"Activity Type\": \"GASOLINE_MV\", \"Vehicle MPG\": 15.859, \"Total Miles Traveled  (Vehicle MPG * Activity Amount)\": 122938.968, \"tons of CO2 Total Emissions from Electrification (Column R * 96 g C02)\": 13.00961797, \"Emissions from Electrified Fleet (96g CO2e/mi)\": null, \"Emissions from Electrified Fleet, 50% Decarbonized Grid (48g CO2e/mi)\": null, \"Emissions from Electrified Fleet, Peak Carbon Intensity (132g CO2e/mi)\": null, \"Emission Scope\": \"Scope 1\", \"Activity Amount\": 7752.0, \"Unnamed: 24\": null, \"Supplier\": null, \"Scope 2L Supplier\": null, \"Description\": \"Per 2/3/20 email from Denise Byrne. Entered 2/13/20 by Cheryl Greenwald.\", \"Output Type\": \"CO2e\", \"Output Amount\": 69.7, \"Output Amount Unit\": \"tonnes\", \"Amount - Estimated\": false, \"Amount Estimation Description\": null, \"Meter or Ref. No.\": null, \"Acct. No.\": null, \"City\": null, \"EPA Facility\": \"Cambridge/Allston AQ:1190092\", \"Root Number\": null, \"Building Number\": null, \"University-wide GHG Status\": \"Baseline\", \"Campus\": \"Cambridge\", \"School-Level GHG Status\": \"Baseline\"}, {\"Organization Period\": \"CY 2019\", \"Org Unit Name\": \"Mobile Vehicle - GE Unleaded\", \"Time\": null, \"Type\": null, \"Amount\": null, \"Output\": null, \"From Date\": \"2019-02-01T00:00:00\", \"To Date\": \"2019-02-28T00:00:00\", \"Level 1\": \"Harvard Operational Control\", \"Level 2\": \"CS - Transportation\", \"Level 3\": \"180-Transportation\", \"Level 4\": \"Mobile Vehicle - GE Unleaded\", \"Level 5\": null, \"Activity Category\": \"Mobile Combustion\", \"Activity Unit\": \"US gallons\", \"Activity Type\": \"GASOLINE_MV\", \"Vehicle MPG\": 15.859, \"Total Miles Traveled  (Vehicle MPG * Activity Amount)\": 66782.249, \"tons of CO2 Total Emissions from Electrification (Column R * 96 g C02)\": 7.067015126, \"Emissions from Electrified Fleet (96g CO2e/mi)\": null, \"Emissions from Electrified Fleet, 50% Decarbonized Grid (48g CO2e/mi)\": null, \"Emissions from Electrified Fleet, Peak Carbon Intensity (132g CO2e/mi)\": null, \"Emission Scope\": \"Scope 1\", \"Activity Amount\": 4211.0, \"Unnamed: 24\": null, \"Supplier\": null, \"Scope 2L Supplier\": null, \"Description\": \"Per 7/25/19 email from Denise Byrne. Entered 7/25/19 by Cheryl Greenwald.\", \"Output Type\": \"CO2e\", \"Output Amount\": 37.86, \"Output Amount Unit\": \"tonnes\", \"Amount - Estimated\": false, \"Amount Estimation Description\": null, \"Meter or Ref. No.\": null, \"Acct. No.\": null, \"City\": null, \"EPA Facility\": \"Cambridge/Allston AQ:1190092\", \"Root Number\": null, \"Building Number\": null, \"University-wide GHG Status\": \"Baseline\", \"Campus\": \"Cambridge\", \"School-Level GHG Status\": \"Baseline\"}, {\"Organization Period\": \"CY 2019\", \"Org Unit Name\": \"Mobile Vehicle - GE Unleaded\", \"Time\": null, \"Type\": null, \"Amount\": null, \"Output\": null, \"From Date\": \"2019-01-01T00:00:00\", \"To Date\": \"2019-01-31T00:00:00\", \"Level 1\": \"Harvard Operational Control\", \"Level 2\": \"CS - Transportation\", \"Level 3\": \"180-Transportation\", \"Level 4\": \"Mobile Vehicle - GE Unleaded\", \"Level 5\": null, \"Activity Category\": \"Mobile Combustion\", \"Activity Unit\": \"US gallons\", \"Activity Type\": \"GASOLINE_MV\", \"Vehicle MPG\": 15.859, \"Total Miles Traveled  (Vehicle MPG * Activity Amount)\": 86764.589, \"tons of CO2 Total Emissions from Electrification (Column R * 96 g C02)\": 9.181581514, \"Emissions from Electrified Fleet (96g CO2e/mi)\": null, \"Emissions from Electrified Fleet, 50% Decarbonized Grid (48g CO2e/mi)\": null, \"Emissions from Electrified Fleet, Peak Carbon Intensity (132g CO2e/mi)\": null, \"Emission Scope\": \"Scope 1\", \"Activity Amount\": 5471.0, \"Unnamed: 24\": null, \"Supplier\": null, \"Scope 2L Supplier\": null, \"Description\": \"Per 7/25/19 email from Denise Byrne. Entered 7/25/19 by Cheryl Greenwald.\", \"Output Type\": \"CO2e\", \"Output Amount\": 49.19, \"Output Amount Unit\": \"tonnes\", \"Amount - Estimated\": false, \"Amount Estimation Description\": null, \"Meter or Ref. No.\": null, \"Acct. No.\": null, \"City\": null, \"EPA Facility\": \"Cambridge/Allston AQ:1190092\", \"Root Number\": null, \"Building Number\": null, \"University-wide GHG Status\": \"Baseline\", \"Campus\": \"Cambridge\", \"School-Level GHG Status\": \"Baseline\"}, {\"Organization Period\": \"CY 2019\", \"Org Unit Name\": \"Mobile Vehicle - GE Unleaded\", \"Time\": null, \"Type\": null, \"Amount\": null, \"Output\": null, \"From Date\": \"2019-07-01T00:00:00\", \"To Date\": \"2019-07-31T00:00:00\", \"Level 1\": \"Harvard Operational Control\", \"Level 2\": \"CS - Transportation\", \"Level 3\": \"180-Transportation\", \"Level 4\": \"Mobile Vehicle - GE Unleaded\", \"Level 5\": null, \"Activity Category\": \"Mobile Combustion\", \"Activity Unit\": \"US gallons\", \"Activity Type\": \"GASOLINE_MV\", \"Vehicle MPG\": 15.859, \"Total Miles Traveled  (Vehicle MPG * Activity Amount)\": 96502.015, \"tons of CO2 Total Emissions from Electrification (Column R * 96 g C02)\": 10.21201307, \"Emissions from Electrified Fleet (96g CO2e/mi)\": null, \"Emissions from Electrified Fleet, 50% Decarbonized Grid (48g CO2e/mi)\": null, \"Emissions from Electrified Fleet, Peak Carbon Intensity (132g CO2e/mi)\": null, \"Emission Scope\": \"Scope 1\", \"Activity Amount\": 6085.0, \"Unnamed: 24\": null, \"Supplier\": null, \"Scope 2L Supplier\": null, \"Description\": \"Per 2/3/20 email from Denise Byrne. Entered 2/13/20 by Cheryl Greenwald.\", \"Output Type\": \"CO2e\", \"Output Amount\": 54.71, \"Output Amount Unit\": \"tonnes\", \"Amount - Estimated\": false, \"Amount Estimation Description\": null, \"Meter or Ref. No.\": null, \"Acct. No.\": null, \"City\": null, \"EPA Facility\": \"Cambridge/Allston AQ:1190092\", \"Root Number\": null, \"Building Number\": null, \"University-wide GHG Status\": \"Baseline\", \"Campus\": \"Cambridge\", \"School-Level GHG Status\": \"Baseline\"}, {\"Organization Period\": \"CY 2019\", \"Org Unit Name\": \"Mobile Vehicle - GE Unleaded\", \"Time\": null, \"Type\": null, \"Amount\": null, \"Output\": null, \"From Date\": \"2019-06-01T00:00:00\", \"To Date\": \"2019-06-30T00:00:00\", \"Level 1\": \"Harvard Operational Control\", \"Level 2\": \"CS - Transportation\", \"Level 3\": \"180-Transportation\", \"Level 4\": \"Mobile Vehicle - GE Unleaded\", \"Level 5\": null, \"Activity Category\": \"Mobile Combustion\", \"Activity Unit\": \"US gallons\", \"Activity Type\": \"GASOLINE_MV\", \"Vehicle MPG\": 15.859, \"Total Miles Traveled  (Vehicle MPG * Activity Amount)\": 113772.466, \"tons of CO2 Total Emissions from Electrification (Column R * 96 g C02)\": 12.03960259, \"Emissions from Electrified Fleet (96g CO2e/mi)\": null, \"Emissions from Electrified Fleet, 50% Decarbonized Grid (48g CO2e/mi)\": null, \"Emissions from Electrified Fleet, Peak Carbon Intensity (132g CO2e/mi)\": null, \"Emission Scope\": \"Scope 1\", \"Activity Amount\": 7174.0, \"Unnamed: 24\": null, \"Supplier\": null, \"Scope 2L Supplier\": null, \"Description\": \"Per 7/25/19 email from Denise Byrne. Entered 7/25/19 by Cheryl Greenwald.\", \"Output Type\": \"CO2e\", \"Output Amount\": 64.5, \"Output Amount Unit\": \"tonnes\", \"Amount - Estimated\": false, \"Amount Estimation Description\": null, \"Meter or Ref. No.\": null, \"Acct. No.\": null, \"City\": null, \"EPA Facility\": \"Cambridge/Allston AQ:1190092\", \"Root Number\": null, \"Building Number\": null, \"University-wide GHG Status\": \"Baseline\", \"Campus\": \"Cambridge\", \"School-Level GHG Status\": \"Baseline\"}, {\"Organization Period\": \"CY 2019\", \"Org Unit Name\": \"Mobile Vehicle - GE Unleaded\", \"Time\": null, \"Type\": null, \"Amount\": null, \"Output\": null, \"From Date\": \"2019-03-01T00:00:00\", \"To Date\": \"2019-03-31T00:00:00\", \"Level 1\": \"Harvard Operational Control\", \"Level 2\": \"CS - Transportation\", \"Level 3\": \"180-Transportation\", \"Level 4\": \"Mobile Vehicle - GE Unleaded\", \"Level 5\": null, \"Activity Category\": \"Mobile Combustion\", \"Activity Unit\": \"US gallons\", \"Activity Type\": \"GASOLINE_MV\", \"Vehicle MPG\": 15.859, \"Total Miles Traveled  (Vehicle MPG * Activity Amount)\": 125777.729, \"tons of CO2 Total Emissions from Electrification (Column R * 96 g C02)\": 13.31002065, \"Emissions from Electrified Fleet (96g CO2e/mi)\": null, \"Emissions from Electrified Fleet, 50% Decarbonized Grid (48g CO2e/mi)\": null, \"Emissions from Electrified Fleet, Peak Carbon Intensity (132g CO2e/mi)\": null, \"Emission Scope\": \"Scope 1\", \"Activity Amount\": 7931.0, \"Unnamed: 24\": null, \"Supplier\": null, \"Scope 2L Supplier\": null, \"Description\": \"Per 7/25/19 email from Denise Byrne. Entered 7/25/19 by Cheryl Greenwald.\", \"Output Type\": \"CO2e\", \"Output Amount\": 71.31, \"Output Amount Unit\": \"tonnes\", \"Amount - Estimated\": false, \"Amount Estimation Description\": null, \"Meter or Ref. No.\": null, \"Acct. No.\": null, \"City\": null, \"EPA Facility\": \"Cambridge/Allston AQ:1190092\", \"Root Number\": null, \"Building Number\": null, \"University-wide GHG Status\": \"Baseline\", \"Campus\": \"Cambridge\", \"School-Level GHG Status\": \"Baseline\"}, {\"Organization Period\": \"CY 2019\", \"Org Unit Name\": \"Mobile Vehicle - GE Unleaded\", \"Time\": null, \"Type\": null, \"Amount\": null, \"Output\": null, \"From Date\": \"2019-05-01T00:00:00\", \"To Date\": \"2019-05-31T00:00:00\", \"Level 1\": \"Harvard Operational Control\", \"Level 2\": \"CS - Transportation\", \"Level 3\": \"180-Transportation\", \"Level 4\": \"Mobile Vehicle - GE Unleaded\", \"Level 5\": null, \"Activity Category\": \"Mobile Combustion\", \"Activity Unit\": \"US gallons\", \"Activity Type\": \"GASOLINE_MV\", \"Vehicle MPG\": 15.859, \"Total Miles Traveled  (Vehicle MPG * Activity Amount)\": 86257.101, \"tons of CO2 Total Emissions from Electrification (Column R * 96 g C02)\": 9.12787824, \"Emissions from Electrified Fleet (96g CO2e/mi)\": null, \"Emissions from Electrified Fleet, 50% Decarbonized Grid (48g CO2e/mi)\": null, \"Emissions from Electrified Fleet, Peak Carbon Intensity (132g CO2e/mi)\": null, \"Emission Scope\": \"Scope 1\", \"Activity Amount\": 5439.0, \"Unnamed: 24\": null, \"Supplier\": null, \"Scope 2L Supplier\": null, \"Description\": \"Per 7/25/19 email from Denise Byrne. Entered 7/25/19 by Cheryl Greenwald.\", \"Output Type\": \"CO2e\", \"Output Amount\": 48.9, \"Output Amount Unit\": \"tonnes\", \"Amount - Estimated\": false, \"Amount Estimation Description\": null, \"Meter or Ref. No.\": null, \"Acct. No.\": null, \"City\": null, \"EPA Facility\": \"Cambridge/Allston AQ:1190092\", \"Root Number\": null, \"Building Number\": null, \"University-wide GHG Status\": \"Baseline\", \"Campus\": \"Cambridge\", \"School-Level GHG Status\": \"Baseline\"}, {\"Organization Period\": \"CY 2019\", \"Org Unit Name\": \"Mobile Vehicle - GE Unleaded\", \"Time\": null, \"Type\": null, \"Amount\": null, \"Output\": null, \"From Date\": \"2019-11-01T00:00:00\", \"To Date\": \"2019-11-30T00:00:00\", \"Level 1\": \"Harvard Operational Control\", \"Level 2\": \"CS - Transportation\", \"Level 3\": \"180-Transportation\", \"Level 4\": \"Mobile Vehicle - GE Unleaded\", \"Level 5\": null, \"Activity Category\": \"Mobile Combustion\", \"Activity Unit\": \"US gallons\", \"Activity Type\": \"GASOLINE_MV\", \"Vehicle MPG\": 15.859, \"Total Miles Traveled  (Vehicle MPG * Activity Amount)\": 91585.725, \"tons of CO2 Total Emissions from Electrification (Column R * 96 g C02)\": 9.69176261, \"Emissions from Electrified Fleet (96g CO2e/mi)\": null, \"Emissions from Electrified Fleet, 50% Decarbonized Grid (48g CO2e/mi)\": null, \"Emissions from Electrified Fleet, Peak Carbon Intensity (132g CO2e/mi)\": null, \"Emission Scope\": \"Scope 1\", \"Activity Amount\": 5775.0, \"Unnamed: 24\": null, \"Supplier\": null, \"Scope 2L Supplier\": null, \"Description\": \"Per 2/3/20 email from Denise Byrne. Entered 2/13/20 by Cheryl Greenwald.\", \"Output Type\": \"CO2e\", \"Output Amount\": 51.92, \"Output Amount Unit\": \"tonnes\", \"Amount - Estimated\": false, \"Amount Estimation Description\": null, \"Meter or Ref. No.\": null, \"Acct. No.\": null, \"City\": null, \"EPA Facility\": \"Cambridge/Allston AQ:1190092\", \"Root Number\": null, \"Building Number\": null, \"University-wide GHG Status\": \"Baseline\", \"Campus\": \"Cambridge\", \"School-Level GHG Status\": \"Baseline\"}, {\"Organization Period\": \"CY 2019\", \"Org Unit Name\": \"Mobile Vehicle - GE Unleaded\", \"Time\": null, \"Type\": null, \"Amount\": null, \"Output\": null, \"From Date\": \"2019-10-01T00:00:00\", \"To Date\": \"2019-10-31T00:00:00\", \"Level 1\": \"Harvard Operational Control\", \"Level 2\": \"CS - Transportation\", \"Level 3\": \"180-Transportation\", \"Level 4\": \"Mobile Vehicle - GE Unleaded\", \"Level 5\": null, \"Activity Category\": \"Mobile Combustion\", \"Activity Unit\": \"US gallons\", \"Activity Type\": \"GASOLINE_MV\", \"Vehicle MPG\": 15.859, \"Total Miles Traveled  (Vehicle MPG * Activity Amount)\": 94916.115, \"tons of CO2 Total Emissions from Electrification (Column R * 96 g C02)\": 10.04419034, \"Emissions from Electrified Fleet (96g CO2e/mi)\": null, \"Emissions from Electrified Fleet, 50% Decarbonized Grid (48g CO2e/mi)\": null, \"Emissions from Electrified Fleet, Peak Carbon Intensity (132g CO2e/mi)\": null, \"Emission Scope\": \"Scope 1\", \"Activity Amount\": 5985.0, \"Unnamed: 24\": null, \"Supplier\": null, \"Scope 2L Supplier\": null, \"Description\": \"Per 2/3/20 email from Denise Byrne. Entered 2/13/20 by Cheryl Greenwald.\", \"Output Type\": \"CO2e\", \"Output Amount\": 53.81, \"Output Amount Unit\": \"tonnes\", \"Amount - Estimated\": false, \"Amount Estimation Description\": null, \"Meter or Ref. No.\": null, \"Acct. No.\": null, \"City\": null, \"EPA Facility\": \"Cambridge/Allston AQ:1190092\", \"Root Number\": null, \"Building Number\": null, \"University-wide GHG Status\": \"Baseline\", \"Campus\": \"Cambridge\", \"School-Level GHG Status\": \"Baseline\"}, {\"Organization Period\": \"CY 2019\", \"Org Unit Name\": \"Mobile Vehicle - GE Unleaded\", \"Time\": null, \"Type\": null, \"Amount\": null, \"Output\": null, \"From Date\": \"2019-09-01T00:00:00\", \"To Date\": \"2019-09-30T00:00:00\", \"Level 1\": \"Harvard Operational Control\", \"Level 2\": \"CS - Transportation\", \"Level 3\": \"180-Transportation\", \"Level 4\": \"Mobile Vehicle - GE Unleaded\", \"Level 5\": null, \"Activity Category\": \"Mobile Combustion\", \"Activity Unit\": \"US gallons\", \"Activity Type\": \"GASOLINE_MV\", \"Vehicle MPG\": 15.859, \"Total Miles Traveled  (Vehicle MPG * Activity Amount)\": 120005.053, \"tons of CO2 Total Emissions from Electrification (Column R * 96 g C02)\": 12.69914592, \"Emissions from Electrified Fleet (96g CO2e/mi)\": null, \"Emissions from Electrified Fleet, 50% Decarbonized Grid (48g CO2e/mi)\": null, \"Emissions from Electrified Fleet, Peak Carbon Intensity (132g CO2e/mi)\": null, \"Emission Scope\": \"Scope 1\", \"Activity Amount\": 7567.0, \"Unnamed: 24\": null, \"Supplier\": null, \"Scope 2L Supplier\": null, \"Description\": \"Per 2/3/20 email from Denise Byrne. Entered 2/13/20 by Cheryl Greenwald.\", \"Output Type\": \"CO2e\", \"Output Amount\": 68.04, \"Output Amount Unit\": \"tonnes\", \"Amount - Estimated\": false, \"Amount Estimation Description\": null, \"Meter or Ref. No.\": null, \"Acct. No.\": null, \"City\": null, \"EPA Facility\": \"Cambridge/Allston AQ:1190092\", \"Root Number\": null, \"Building Number\": null, \"University-wide GHG Status\": \"Baseline\", \"Campus\": \"Cambridge\", \"School-Level GHG Status\": \"Baseline\"}, {\"Organization Period\": \"CY 2019\", \"Org Unit Name\": \"Mobile Vehicle - HUPD Fuel Use\", \"Time\": 2019.0, \"Type\": \"Gasoline\", \"Amount\": 29305.57, \"Output\": 263.49, \"From Date\": \"2019-01-01T00:00:00\", \"To Date\": \"2019-06-30T00:00:00\", \"Level 1\": \"Harvard Operational Control\", \"Level 2\": \"Campus Services\", \"Level 3\": \"610-CADM\", \"Level 4\": \"Mobile Vehicle - HUPD Fuel Use\", \"Level 5\": null, \"Activity Category\": \"Mobile Combustion\", \"Activity Unit\": \"US gallons\", \"Activity Type\": \"GASOLINE_MV\", \"Vehicle MPG\": 15.859, \"Total Miles Traveled  (Vehicle MPG * Activity Amount)\": 220938.5484, \"tons of CO2 Total Emissions from Electrification (Column R * 96 g C02)\": 23.38010604, \"Emissions from Electrified Fleet (96g CO2e/mi)\": 49.18140738, \"Emissions from Electrified Fleet, 50% Decarbonized Grid (48g CO2e/mi)\": 24.59070369, \"Emissions from Electrified Fleet, Peak Carbon Intensity (132g CO2e/mi)\": 67.62443514, \"Emission Scope\": \"Scope 1\", \"Activity Amount\": 13931.43, \"Unnamed: 24\": 29305.57, \"Supplier\": null, \"Scope 2L Supplier\": null, \"Description\": \"Per 7/16/19 email from Lisa Mickiewicz. Entered 7/17/19 by Cheryl Greenwald.\", \"Output Type\": \"CO2e\", \"Output Amount\": 125.26, \"Output Amount Unit\": \"tonnes\", \"Amount - Estimated\": false, \"Amount Estimation Description\": null, \"Meter or Ref. No.\": null, \"Acct. No.\": null, \"City\": null, \"EPA Facility\": \"Cambridge/Allston AQ:1190092\", \"Root Number\": null, \"Building Number\": null, \"University-wide GHG Status\": \"Baseline\", \"Campus\": \"Cambridge\", \"School-Level GHG Status\": \"Baseline\"}, {\"Organization Period\": \"CY 2019\", \"Org Unit Name\": \"Mobile Vehicle - HUPD Fuel Use\", \"Time\": null, \"Type\": null, \"Amount\": null, \"Output\": null, \"From Date\": \"2019-07-01T00:00:00\", \"To Date\": \"2019-12-31T00:00:00\", \"Level 1\": \"Harvard Operational Control\", \"Level 2\": \"Campus Services\", \"Level 3\": \"610-CADM\", \"Level 4\": \"Mobile Vehicle - HUPD Fuel Use\", \"Level 5\": null, \"Activity Category\": \"Mobile Combustion\", \"Activity Unit\": \"US gallons\", \"Activity Type\": \"GASOLINE_MV\", \"Vehicle MPG\": 15.859, \"Total Miles Traveled  (Vehicle MPG * Activity Amount)\": 243818.4863, \"tons of CO2 Total Emissions from Electrification (Column R * 96 g C02)\": 25.80130134, \"Emissions from Electrified Fleet (96g CO2e/mi)\": null, \"Emissions from Electrified Fleet, 50% Decarbonized Grid (48g CO2e/mi)\": null, \"Emissions from Electrified Fleet, Peak Carbon Intensity (132g CO2e/mi)\": null, \"Emission Scope\": \"Scope 1\", \"Activity Amount\": 15374.14, \"Unnamed: 24\": null, \"Supplier\": null, \"Scope 2L Supplier\": null, \"Description\": \"Per 2/3/20 email from Lisa Mickiewicz. Entered 2/21/20 by Cheryl Greenwald.\", \"Output Type\": \"CO2e\", \"Output Amount\": 138.23, \"Output Amount Unit\": \"tonnes\", \"Amount - Estimated\": false, \"Amount Estimation Description\": null, \"Meter or Ref. No.\": null, \"Acct. No.\": null, \"City\": null, \"EPA Facility\": \"Cambridge/Allston AQ:1190092\", \"Root Number\": null, \"Building Number\": null, \"University-wide GHG Status\": \"Baseline\", \"Campus\": \"Cambridge\", \"School-Level GHG Status\": \"Baseline\"}, {\"Organization Period\": \"CY 2019\", \"Org Unit Name\": \"Mobile Vehicle - Phillips Brooks House (03369; B-225)\", \"Time\": 2019.0, \"Type\": \"Gasoline\", \"Amount\": 6213.96, \"Output\": 54.98, \"From Date\": \"2019-01-01T00:00:00\", \"To Date\": \"2019-06-30T00:00:00\", \"Level 1\": \"Harvard Operational Control\", \"Level 2\": \"Faculty of Arts and Sciences\", \"Level 3\": \"310-FCOL\", \"Level 4\": \"Phillips Brooks House (03369; B-225)\", \"Level 5\": \"Mobile Vehicle - Phillips Brooks House (03369; B-225)\", \"Activity Category\": \"Mobile Combustion\", \"Activity Unit\": \"US gallons\", \"Activity Type\": \"GASOLINE_MV\", \"Vehicle MPG\": 15.859, \"Total Miles Traveled  (Vehicle MPG * Activity Amount)\": 49273.59582, \"tons of CO2 Total Emissions from Electrification (Column R * 96 g C02)\": 5.214218631, \"Emissions from Electrified Fleet (96g CO2e/mi)\": 10.42843726, \"Emissions from Electrified Fleet, 50% Decarbonized Grid (48g CO2e/mi)\": 5.214218631, \"Emissions from Electrified Fleet, Peak Carbon Intensity (132g CO2e/mi)\": 14.33910124, \"Emission Scope\": \"Scope 1\", \"Activity Amount\": 3106.98, \"Unnamed: 24\": 6213.96, \"Supplier\": null, \"Scope 2L Supplier\": null, \"Description\": \"Estimated half-year value carried forward. Entered 11/13/19 by Cheryl Greenwald.\", \"Output Type\": \"CO2e\", \"Output Amount\": 27.94, \"Output Amount Unit\": \"tonnes\", \"Amount - Estimated\": true, \"Amount Estimation Description\": \"Estimated half-year value carried forward. Entered 11/13/19 by Cheryl Greenwald.\", \"Meter or Ref. No.\": null, \"Acct. No.\": null, \"City\": null, \"EPA Facility\": \"Cambridge/Allston AQ:1190092\", \"Root Number\": null, \"Building Number\": null, \"University-wide GHG Status\": \"Baseline\", \"Campus\": \"Cambridge\", \"School-Level GHG Status\": \"Baseline\"}, {\"Organization Period\": \"CY 2019\", \"Org Unit Name\": \"Mobile Vehicle - Phillips Brooks House (03369; B-225)\", \"Time\": null, \"Type\": null, \"Amount\": null, \"Output\": null, \"From Date\": \"2019-07-01T00:00:00\", \"To Date\": \"2019-12-31T00:00:00\", \"Level 1\": \"Harvard Operational Control\", \"Level 2\": \"Faculty of Arts and Sciences\", \"Level 3\": \"310-FCOL\", \"Level 4\": \"Phillips Brooks House (03369; B-225)\", \"Level 5\": \"Mobile Vehicle - Phillips Brooks House (03369; B-225)\", \"Activity Category\": \"Mobile Combustion\", \"Activity Unit\": \"US gallons\", \"Activity Type\": \"GASOLINE_MV\", \"Vehicle MPG\": 15.859, \"Total Miles Traveled  (Vehicle MPG * Activity Amount)\": 49273.59582, \"tons of CO2 Total Emissions from Electrification (Column R * 96 g C02)\": 5.214218631, \"Emissions from Electrified Fleet (96g CO2e/mi)\": null, \"Emissions from Electrified Fleet, 50% Decarbonized Grid (48g CO2e/mi)\": null, \"Emissions from Electrified Fleet, Peak Carbon Intensity (132g CO2e/mi)\": null, \"Emission Scope\": \"Scope 1\", \"Activity Amount\": 3106.98, \"Unnamed: 24\": null, \"Supplier\": null, \"Scope 2L Supplier\": null, \"Description\": \"Estimated half-year value carried forward. Entered 3/5/20 by Cheryl Greenwald.\", \"Output Type\": \"CO2e\", \"Output Amount\": 27.94, \"Output Amount Unit\": \"tonnes\", \"Amount - Estimated\": true, \"Amount Estimation Description\": \"Estimated half-year value carried forward. Entered 3/5/20 by Cheryl Greenwald.\", \"Meter or Ref. No.\": null, \"Acct. No.\": null, \"City\": null, \"EPA Facility\": \"Cambridge/Allston AQ:1190092\", \"Root Number\": null, \"Building Number\": null, \"University-wide GHG Status\": \"Baseline\", \"Campus\": \"Cambridge\", \"School-Level GHG Status\": \"Baseline\"}]}}, {\"mode\": \"vega-lite\"});\n</script>",
            "text/plain": "alt.Chart(...)"
          },
          "metadata": {}
        }
      ]
    },
    {
      "cell_type": "code",
      "metadata": {
        "tags": [],
        "cell_id": "00024-e4dd62c4-5ed7-472c-86ae-b7820bc5bf84",
        "deepnote_to_be_reexecuted": false,
        "source_hash": "ea55baf5",
        "execution_millis": 44,
        "execution_start": 1617669189534,
        "deepnote_cell_type": "code"
      },
      "source": "decarb = alt.Chart(final, title=\"Electrified Fleet Emissions: 50% Decarbonized Grid \").mark_bar().encode(\n    x=alt.X('Type:N', axis=alt.Axis(labels=False, title='Vehicle by Original Fuel Type')),\n    y=alt.Y('Emissions from Electrified Fleet, 50% Decarbonized Grid (48g CO2e/mi):Q', axis=alt.Axis(title='Emission Output (tons of CO2)')),\n    color=alt.Color('Type', legend=alt.Legend(title=\"Fuel Types\"))\n).properties(width=500)\n\ndecarb.save('decarbonized50_grid.json')",
      "execution_count": null,
      "outputs": []
    },
    {
      "cell_type": "code",
      "metadata": {
        "tags": [],
        "cell_id": "00025-372c04b4-cdcd-4929-8afa-bb7b1dc2cb3f",
        "deepnote_to_be_reexecuted": false,
        "source_hash": "13aff2ec",
        "execution_millis": 8,
        "execution_start": 1617669189661,
        "deepnote_cell_type": "code"
      },
      "source": "peak = alt.Chart(final, title=\"Electrified Fleet Emissions: Peak Carbon Intensity\").mark_bar().encode(\n    x=alt.X('Type:N', axis=alt.Axis(labels=False, title='Vehicle by Original Fuel Type')),\n    y=alt.Y('Emissions from Electrified Fleet, Peak Carbon Intensity (132g CO2e/mi):Q', axis=alt.Axis(title='Emission Output (tons of CO2)')),\n  color=alt.Color('Type', legend=alt.Legend(title=\"Fuel Types\"))\n).properties(width=500)\n\npeak.save('peak_carbon_intensity.json')\n\n",
      "execution_count": null,
      "outputs": []
    },
    {
      "cell_type": "code",
      "metadata": {
        "tags": [],
        "cell_id": "00029-93df40f6-1178-465c-a083-a5577ddd0b45",
        "deepnote_to_be_reexecuted": false,
        "source_hash": "d2a1a616",
        "execution_millis": 165,
        "execution_start": 1617678523211,
        "deepnote_cell_type": "code"
      },
      "source": "emissions = [540.7729211, 393.2893971, 196.6446986]\nscenario = ['Peak (132g CO2e/mi)', 'Average (96g CO2e/mi)','50% Decarbonized (48g CO2e/mi)']\n\nplt.plot(scenario, emissions)\nplt.xlabel('Carbon Intensity of Grid Scenario')\nplt.ylabel('Emissions')\nplt.ylim(0,550)\nplt.xticks(wrap=True)\nplt.title('Emissions from Electrified Harvard Fleet by Grid Carbon Intensity Scenario')",
      "execution_count": 1,
      "outputs": [
        {
          "output_type": "error",
          "ename": "NameError",
          "evalue": "name 'plt' is not defined",
          "traceback": [
            "\u001b[0;31m---------------------------------------------------------------------------\u001b[0m",
            "\u001b[0;31mNameError\u001b[0m                                 Traceback (most recent call last)",
            "\u001b[0;32m<ipython-input-1-622cc643464f>\u001b[0m in \u001b[0;36m<module>\u001b[0;34m\u001b[0m\n\u001b[1;32m      2\u001b[0m \u001b[0mscenario\u001b[0m \u001b[0;34m=\u001b[0m \u001b[0;34m[\u001b[0m\u001b[0;34m'Peak (132g CO2e/mi)'\u001b[0m\u001b[0;34m,\u001b[0m \u001b[0;34m'Average (96g CO2e/mi)'\u001b[0m\u001b[0;34m,\u001b[0m\u001b[0;34m'50% Decarbonized (48g CO2e/mi)'\u001b[0m\u001b[0;34m]\u001b[0m\u001b[0;34m\u001b[0m\u001b[0;34m\u001b[0m\u001b[0m\n\u001b[1;32m      3\u001b[0m \u001b[0;34m\u001b[0m\u001b[0m\n\u001b[0;32m----> 4\u001b[0;31m \u001b[0mplt\u001b[0m\u001b[0;34m.\u001b[0m\u001b[0mplot\u001b[0m\u001b[0;34m(\u001b[0m\u001b[0mscenario\u001b[0m\u001b[0;34m,\u001b[0m \u001b[0memissions\u001b[0m\u001b[0;34m)\u001b[0m\u001b[0;34m\u001b[0m\u001b[0;34m\u001b[0m\u001b[0m\n\u001b[0m\u001b[1;32m      5\u001b[0m \u001b[0mplt\u001b[0m\u001b[0;34m.\u001b[0m\u001b[0mxlabel\u001b[0m\u001b[0;34m(\u001b[0m\u001b[0;34m'Carbon Intensity of Grid Scenario'\u001b[0m\u001b[0;34m)\u001b[0m\u001b[0;34m\u001b[0m\u001b[0;34m\u001b[0m\u001b[0m\n\u001b[1;32m      6\u001b[0m \u001b[0mplt\u001b[0m\u001b[0;34m.\u001b[0m\u001b[0mylabel\u001b[0m\u001b[0;34m(\u001b[0m\u001b[0;34m'Emissions'\u001b[0m\u001b[0;34m)\u001b[0m\u001b[0;34m\u001b[0m\u001b[0;34m\u001b[0m\u001b[0m\n",
            "\u001b[0;31mNameError\u001b[0m: name 'plt' is not defined"
          ]
        }
      ]
    },
    {
      "cell_type": "code",
      "metadata": {
        "tags": [],
        "cell_id": "00030-459e437a-b75f-4b2d-9d53-71ab5505708a",
        "deepnote_to_be_reexecuted": false,
        "source_hash": "f7f7c670",
        "execution_millis": 3,
        "execution_start": 1617679138365,
        "deepnote_cell_type": "code"
      },
      "source": "import plotly.graph_objects as go\n\nfig = go.Figure(\n    data=[go.Bar(x=scenario, y=emissions)],\n    layout=go.Layout(height=600, width=800)\n)\n\nscenario = fig.to_json()",
      "execution_count": 4,
      "outputs": []
    },
    {
      "cell_type": "markdown",
      "source": "<a style='text-decoration:none;line-height:16px;display:flex;color:#5B5B62;padding:10px;justify-content:end;' href='https://deepnote.com?utm_source=created-in-deepnote-cell&projectId=36bc4c03-990f-47e5-946a-a521006cf542' target=\"_blank\">\n<img alt='Created in deepnote.com' style='display:inline;max-height:16px;margin:0px;margin-right:7.5px;' src='data:image/svg+xml;base64,PD94bWwgdmVyc2lvbj0iMS4wIiBlbmNvZGluZz0iVVRGLTgiPz4KPHN2ZyB3aWR0aD0iODBweCIgaGVpZ2h0PSI4MHB4IiB2aWV3Qm94PSIwIDAgODAgODAiIHZlcnNpb249IjEuMSIgeG1sbnM9Imh0dHA6Ly93d3cudzMub3JnLzIwMDAvc3ZnIiB4bWxuczp4bGluaz0iaHR0cDovL3d3dy53My5vcmcvMTk5OS94bGluayI+CiAgICA8IS0tIEdlbmVyYXRvcjogU2tldGNoIDU0LjEgKDc2NDkwKSAtIGh0dHBzOi8vc2tldGNoYXBwLmNvbSAtLT4KICAgIDx0aXRsZT5Hcm91cCAzPC90aXRsZT4KICAgIDxkZXNjPkNyZWF0ZWQgd2l0aCBTa2V0Y2guPC9kZXNjPgogICAgPGcgaWQ9IkxhbmRpbmciIHN0cm9rZT0ibm9uZSIgc3Ryb2tlLXdpZHRoPSIxIiBmaWxsPSJub25lIiBmaWxsLXJ1bGU9ImV2ZW5vZGQiPgogICAgICAgIDxnIGlkPSJBcnRib2FyZCIgdHJhbnNmb3JtPSJ0cmFuc2xhdGUoLTEyMzUuMDAwMDAwLCAtNzkuMDAwMDAwKSI+CiAgICAgICAgICAgIDxnIGlkPSJHcm91cC0zIiB0cmFuc2Zvcm09InRyYW5zbGF0ZSgxMjM1LjAwMDAwMCwgNzkuMDAwMDAwKSI+CiAgICAgICAgICAgICAgICA8cG9seWdvbiBpZD0iUGF0aC0yMCIgZmlsbD0iIzAyNjVCNCIgcG9pbnRzPSIyLjM3NjIzNzYyIDgwIDM4LjA0NzY2NjcgODAgNTcuODIxNzgyMiA3My44MDU3NTkyIDU3LjgyMTc4MjIgMzIuNzU5MjczOSAzOS4xNDAyMjc4IDMxLjY4MzE2ODMiPjwvcG9seWdvbj4KICAgICAgICAgICAgICAgIDxwYXRoIGQ9Ik0zNS4wMDc3MTgsODAgQzQyLjkwNjIwMDcsNzYuNDU0OTM1OCA0Ny41NjQ5MTY3LDcxLjU0MjI2NzEgNDguOTgzODY2LDY1LjI2MTk5MzkgQzUxLjExMjI4OTksNTUuODQxNTg0MiA0MS42NzcxNzk1LDQ5LjIxMjIyODQgMjUuNjIzOTg0Niw0OS4yMTIyMjg0IEMyNS40ODQ5Mjg5LDQ5LjEyNjg0NDggMjkuODI2MTI5Niw0My4yODM4MjQ4IDM4LjY0NzU4NjksMzEuNjgzMTY4MyBMNzIuODcxMjg3MSwzMi41NTQ0MjUgTDY1LjI4MDk3Myw2Ny42NzYzNDIxIEw1MS4xMTIyODk5LDc3LjM3NjE0NCBMMzUuMDA3NzE4LDgwIFoiIGlkPSJQYXRoLTIyIiBmaWxsPSIjMDAyODY4Ij48L3BhdGg+CiAgICAgICAgICAgICAgICA8cGF0aCBkPSJNMCwzNy43MzA0NDA1IEwyNy4xMTQ1MzcsMC4yNTcxMTE0MzYgQzYyLjM3MTUxMjMsLTEuOTkwNzE3MDEgODAsMTAuNTAwMzkyNyA4MCwzNy43MzA0NDA1IEM4MCw2NC45NjA0ODgyIDY0Ljc3NjUwMzgsNzkuMDUwMzQxNCAzNC4zMjk1MTEzLDgwIEM0Ny4wNTUzNDg5LDc3LjU2NzA4MDggNTMuNDE4MjY3Nyw3MC4zMTM2MTAzIDUzLjQxODI2NzcsNTguMjM5NTg4NSBDNTMuNDE4MjY3Nyw0MC4xMjg1NTU3IDM2LjMwMzk1NDQsMzcuNzMwNDQwNSAyNS4yMjc0MTcsMzcuNzMwNDQwNSBDMTcuODQzMDU4NiwzNy43MzA0NDA1IDkuNDMzOTE5NjYsMzcuNzMwNDQwNSAwLDM3LjczMDQ0MDUgWiIgaWQ9IlBhdGgtMTkiIGZpbGw9IiMzNzkzRUYiPjwvcGF0aD4KICAgICAgICAgICAgPC9nPgogICAgICAgIDwvZz4KICAgIDwvZz4KPC9zdmc+' > </img>\nCreated in <span style='font-weight:600;margin-left:4px;'>Deepnote</span></a>",
      "metadata": {
        "tags": [],
        "created_in_deepnote_cell": true,
        "deepnote_cell_type": "markdown"
      }
    }
  ],
  "nbformat": 4,
  "nbformat_minor": 2,
  "metadata": {
    "orig_nbformat": 2,
    "deepnote_notebook_id": "adaa444d-f7e7-4a41-8c1e-04b1c4fc8f98",
    "deepnote": {
      "is_reactive": false
    },
    "deepnote_execution_queue": []
  }
}